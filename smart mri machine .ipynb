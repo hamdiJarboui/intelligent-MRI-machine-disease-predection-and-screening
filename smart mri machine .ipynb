{
 "cells": [
  {
   "cell_type": "markdown",
   "metadata": {},
   "source": [
    "## machine IRM intelligente: predection et dépistage des maladie\n",
    "\n",
    "# presentation génerale du project \n",
    "\n",
    "Suite à une absence de médicaments pour certaines maladies , il reste toujours nécessaire de les prévoir à un stade précause afin d'augmenter les chances de guérison. \n",
    "C'est pour ça on a pensé à  créer un Modéle de détéction et dépistage à partir d'imagerie par exemple si un patient consulte un rhumatologue pour une fracture du crane et ce dernier recommande une IRM notre programme est capable de detecter une tumeur au niveau du cerveau s'il existe .\n",
    "Nons seulement cela , les IRM ne fournissent pas généralements toutes les informatrions suffisantes pour faire le diagnostic !\n",
    "Notre programme donnera la main pour aider : \n",
    "\n",
    "* Le radiologue : pour recomander un spécialiste\n",
    "* medcin : pour une meilleure diagnostic\n",
    "* patient : pour une détéction précause de maladie\n",
    "\n",
    "* c'est pour cela on a collecté une une dataset a partie de plusieurs dataset telque brain-tumor , alzheimer , covid_19 , chest tumor \n",
    "(a cause du contrainte de temp on a just collecter une dataset d'images IRM de 4 type de maladie différente mais on peut donner une base de donné enormes de tous les maldies puisque l'algorithme a montré ces performances) afin que l'IRM  peut détecter tous types de maladies d'une maniére automatique donc un patient deviendra cappable de faire un diagnostique génerale sans l'intervention du medcin aau bout de quelques minutes. \n",
    "\n",
    "* ensuite nous avons construire le modéle  deep learning a base CNN \n",
    "puis on a construit l'nterface homme machine qui sera implémenter sur le scannaire IRM\n",
    "\n",
    "# etude de marché \n",
    "\n",
    "\n",
    "aprés une etude de l'existant on a remarqué que tous les algorithmes traitesn un seul type de maladie(cancer de cerveau uniquement par example) d'ici on a pensé a un algorithme englobant touts types de maladies pouvant étre detectés par l'IRM\n",
    "\n",
    "# les etapes suivie dans le code :\n",
    "\n",
    "### I - creation du dataset \n",
    "\n",
    "* 1- collecte des datasets des maladie qui peuvent étre detecter par le scannaire IRM\n",
    "* 2- création du dataset global qui englobe tout les datasets collecter \n",
    "* 3- nettoyage du dataset global\n",
    "* 4- redimentionnage des image \n",
    "* 5- visualisation du dataset \n",
    "\n",
    "\n",
    "### II- creation du modele machine learning \n",
    "\n",
    "* 1- faire l'apprentissage du modéle d'apprentissage deep learning \n",
    "* 2- evaluation du modele \n",
    "* 3- test manuelle du model et visualisation des images \n",
    "* 4- enregistrement du model \n",
    "\n",
    "### III- creation de l'interface homme machine \n",
    "\n",
    "\n",
    "### IIII- test et validation de l'application \n",
    "\n",
    "\n",
    "(l'interface homme machine est developper sur pycharm avec le model créé mais on a mis tous le code dans la feuille notebook a fin que tous le code soit claire)\n",
    "\n",
    "\n",
    "\n",
    "# Resources des datasets\n",
    "* https://www.kaggle.com/legendahmed/alzheimermridataset \n",
    "* https://www.kaggle.com/hamdijarboui/comp-tition-script/edit\n",
    "* https://www.kaggle.com/mohamedhanyyy/chest-ctscan-images\n",
    "* https://www.kaggle.com/luisblanche/covidct\n",
    "* https://www.kaggle.com/hamdallak/the-iqothnccd-lung-cancer-dataset\n"
   ]
  },
  {
   "cell_type": "markdown",
   "metadata": {},
   "source": [
    "## install turicreate platform\n",
    "\n",
    "Turi Create est une platforme developper par apple qui simplifie le développement de modèles d'apprentissage automatique personnalisés.\n",
    "\n",
    "* Facile à utiliser: concentrez-vous sur les tâches plutôt que sur les algorithmes\n",
    "* Visuel: visualisations intégrées en continu pour explorer vos données\n",
    "* Flexible: prend en charge le texte, les images, l'audio, la vidéo et les données de capteur\n",
    "* Rapide et évolutif: travaillez avec de grands ensembles de données sur une seule machine\n"
   ]
  },
  {
   "cell_type": "code",
   "execution_count": 66,
   "metadata": {
    "_cell_guid": "b1076dfc-b9ad-4769-8c92-a6c4dae69d19",
    "_uuid": "8f2839f25d086af736a60e9eeb907d3b93b6e0e5"
   },
   "outputs": [
    {
     "name": "stdout",
     "output_type": "stream",
     "text": [
      "Collecting llvmlite\n",
      "  Using cached llvmlite-0.36.0-cp37-cp37m-manylinux2010_x86_64.whl (25.3 MB)\n",
      "Installing collected packages: llvmlite\n",
      "\u001b[31mERROR: pip's dependency resolver does not currently take into account all the packages that are installed. This behaviour is the source of the following dependency conflicts.\n",
      "pynndescent 0.5.2 requires numba>=0.51.2, but you have numba 0.50.1 which is incompatible.\n",
      "numba 0.50.1 requires llvmlite<0.34,>=0.33.0.dev0, but you have llvmlite 0.36.0 which is incompatible.\n",
      "librosa 0.8.0 requires resampy>=0.2.2, but you have resampy 0.2.1 which is incompatible.\n",
      "datashader 0.12.0 requires numba!=0.49.*,!=0.50.*,>=0.37.0, but you have numba 0.50.1 which is incompatible.\u001b[0m\n",
      "Successfully installed llvmlite-0.36.0\n",
      "Requirement already satisfied: turicreate in /opt/conda/lib/python3.7/site-packages (6.4.1)\n",
      "Requirement already satisfied: tensorflow<2.1.0,>=2.0.0 in /opt/conda/lib/python3.7/site-packages (from turicreate) (2.0.4)\n",
      "Requirement already satisfied: resampy==0.2.1 in /opt/conda/lib/python3.7/site-packages (from turicreate) (0.2.1)\n",
      "Requirement already satisfied: numba<0.51.0 in /opt/conda/lib/python3.7/site-packages (from turicreate) (0.50.1)\n",
      "Requirement already satisfied: decorator>=4.0.9 in /opt/conda/lib/python3.7/site-packages (from turicreate) (4.4.2)\n",
      "Requirement already satisfied: six>=1.10.0 in /opt/conda/lib/python3.7/site-packages (from turicreate) (1.15.0)\n",
      "Requirement already satisfied: pillow>=5.2.0 in /opt/conda/lib/python3.7/site-packages (from turicreate) (7.2.0)\n",
      "Requirement already satisfied: numpy in /opt/conda/lib/python3.7/site-packages (from turicreate) (1.18.5)\n",
      "Requirement already satisfied: scipy>=1.1.0 in /opt/conda/lib/python3.7/site-packages (from turicreate) (1.5.4)\n",
      "Requirement already satisfied: pandas>=0.23.2 in /opt/conda/lib/python3.7/site-packages (from turicreate) (1.2.0)\n",
      "Requirement already satisfied: requests>=2.9.1 in /opt/conda/lib/python3.7/site-packages (from turicreate) (2.25.1)\n",
      "Requirement already satisfied: coremltools==3.3 in /opt/conda/lib/python3.7/site-packages (from turicreate) (3.3)\n",
      "Requirement already satisfied: prettytable==0.7.2 in /opt/conda/lib/python3.7/site-packages (from turicreate) (0.7.2)\n",
      "Requirement already satisfied: protobuf>=3.1.0 in /opt/conda/lib/python3.7/site-packages (from coremltools==3.3->turicreate) (3.14.0)\n",
      "Collecting llvmlite<0.34,>=0.33.0.dev0\n",
      "  Using cached llvmlite-0.33.0-cp37-cp37m-manylinux1_x86_64.whl (18.3 MB)\n",
      "Requirement already satisfied: setuptools in /opt/conda/lib/python3.7/site-packages (from numba<0.51.0->turicreate) (49.6.0.post20201009)\n",
      "Requirement already satisfied: python-dateutil>=2.7.3 in /opt/conda/lib/python3.7/site-packages (from pandas>=0.23.2->turicreate) (2.8.1)\n",
      "Requirement already satisfied: pytz>=2017.3 in /opt/conda/lib/python3.7/site-packages (from pandas>=0.23.2->turicreate) (2020.5)\n",
      "Requirement already satisfied: chardet<5,>=3.0.2 in /opt/conda/lib/python3.7/site-packages (from requests>=2.9.1->turicreate) (3.0.4)\n",
      "Requirement already satisfied: urllib3<1.27,>=1.21.1 in /opt/conda/lib/python3.7/site-packages (from requests>=2.9.1->turicreate) (1.26.2)\n",
      "Requirement already satisfied: idna<3,>=2.5 in /opt/conda/lib/python3.7/site-packages (from requests>=2.9.1->turicreate) (2.10)\n",
      "Requirement already satisfied: certifi>=2017.4.17 in /opt/conda/lib/python3.7/site-packages (from requests>=2.9.1->turicreate) (2020.12.5)\n",
      "Requirement already satisfied: grpcio>=1.8.6 in /opt/conda/lib/python3.7/site-packages (from tensorflow<2.1.0,>=2.0.0->turicreate) (1.32.0)\n",
      "Requirement already satisfied: h5py<=2.10.0 in /opt/conda/lib/python3.7/site-packages (from tensorflow<2.1.0,>=2.0.0->turicreate) (2.10.0)\n",
      "Requirement already satisfied: tensorflow-estimator<2.1.0,>=2.0.0 in /opt/conda/lib/python3.7/site-packages (from tensorflow<2.1.0,>=2.0.0->turicreate) (2.0.1)\n",
      "Requirement already satisfied: keras-applications>=1.0.8 in /opt/conda/lib/python3.7/site-packages (from tensorflow<2.1.0,>=2.0.0->turicreate) (1.0.8)\n",
      "Requirement already satisfied: wheel>=0.26 in /opt/conda/lib/python3.7/site-packages (from tensorflow<2.1.0,>=2.0.0->turicreate) (0.36.2)\n",
      "Requirement already satisfied: gast==0.2.2 in /opt/conda/lib/python3.7/site-packages (from tensorflow<2.1.0,>=2.0.0->turicreate) (0.2.2)\n",
      "Requirement already satisfied: wrapt>=1.11.1 in /opt/conda/lib/python3.7/site-packages (from tensorflow<2.1.0,>=2.0.0->turicreate) (1.12.1)\n",
      "Requirement already satisfied: google-pasta>=0.1.6 in /opt/conda/lib/python3.7/site-packages (from tensorflow<2.1.0,>=2.0.0->turicreate) (0.2.0)\n",
      "Requirement already satisfied: keras-preprocessing>=1.0.5 in /opt/conda/lib/python3.7/site-packages (from tensorflow<2.1.0,>=2.0.0->turicreate) (1.1.2)\n",
      "Requirement already satisfied: absl-py>=0.7.0 in /opt/conda/lib/python3.7/site-packages (from tensorflow<2.1.0,>=2.0.0->turicreate) (0.10.0)\n",
      "Requirement already satisfied: tensorboard<2.1.0,>=2.0.0 in /opt/conda/lib/python3.7/site-packages (from tensorflow<2.1.0,>=2.0.0->turicreate) (2.0.2)\n",
      "Requirement already satisfied: termcolor>=1.1.0 in /opt/conda/lib/python3.7/site-packages (from tensorflow<2.1.0,>=2.0.0->turicreate) (1.1.0)\n",
      "Requirement already satisfied: astor>=0.6.0 in /opt/conda/lib/python3.7/site-packages (from tensorflow<2.1.0,>=2.0.0->turicreate) (0.8.1)\n",
      "Requirement already satisfied: opt-einsum>=2.3.2 in /opt/conda/lib/python3.7/site-packages (from tensorflow<2.1.0,>=2.0.0->turicreate) (3.3.0)\n",
      "Requirement already satisfied: google-auth<2,>=1.6.3 in /opt/conda/lib/python3.7/site-packages (from tensorboard<2.1.0,>=2.0.0->tensorflow<2.1.0,>=2.0.0->turicreate) (1.24.0)\n",
      "Requirement already satisfied: werkzeug>=0.11.15 in /opt/conda/lib/python3.7/site-packages (from tensorboard<2.1.0,>=2.0.0->tensorflow<2.1.0,>=2.0.0->turicreate) (1.0.1)\n",
      "Requirement already satisfied: google-auth-oauthlib<0.5,>=0.4.1 in /opt/conda/lib/python3.7/site-packages (from tensorboard<2.1.0,>=2.0.0->tensorflow<2.1.0,>=2.0.0->turicreate) (0.4.2)\n",
      "Requirement already satisfied: markdown>=2.6.8 in /opt/conda/lib/python3.7/site-packages (from tensorboard<2.1.0,>=2.0.0->tensorflow<2.1.0,>=2.0.0->turicreate) (3.3.3)\n",
      "Requirement already satisfied: pyasn1-modules>=0.2.1 in /opt/conda/lib/python3.7/site-packages (from google-auth<2,>=1.6.3->tensorboard<2.1.0,>=2.0.0->tensorflow<2.1.0,>=2.0.0->turicreate) (0.2.7)\n",
      "Requirement already satisfied: cachetools<5.0,>=2.0.0 in /opt/conda/lib/python3.7/site-packages (from google-auth<2,>=1.6.3->tensorboard<2.1.0,>=2.0.0->tensorflow<2.1.0,>=2.0.0->turicreate) (4.1.1)\n",
      "Requirement already satisfied: rsa<5,>=3.1.4 in /opt/conda/lib/python3.7/site-packages (from google-auth<2,>=1.6.3->tensorboard<2.1.0,>=2.0.0->tensorflow<2.1.0,>=2.0.0->turicreate) (4.6)\n",
      "Requirement already satisfied: requests-oauthlib>=0.7.0 in /opt/conda/lib/python3.7/site-packages (from google-auth-oauthlib<0.5,>=0.4.1->tensorboard<2.1.0,>=2.0.0->tensorflow<2.1.0,>=2.0.0->turicreate) (1.3.0)\n",
      "Requirement already satisfied: importlib-metadata in /opt/conda/lib/python3.7/site-packages (from markdown>=2.6.8->tensorboard<2.1.0,>=2.0.0->tensorflow<2.1.0,>=2.0.0->turicreate) (3.3.0)\n",
      "Requirement already satisfied: pyasn1<0.5.0,>=0.4.6 in /opt/conda/lib/python3.7/site-packages (from pyasn1-modules>=0.2.1->google-auth<2,>=1.6.3->tensorboard<2.1.0,>=2.0.0->tensorflow<2.1.0,>=2.0.0->turicreate) (0.4.8)\n",
      "Requirement already satisfied: oauthlib>=3.0.0 in /opt/conda/lib/python3.7/site-packages (from requests-oauthlib>=0.7.0->google-auth-oauthlib<0.5,>=0.4.1->tensorboard<2.1.0,>=2.0.0->tensorflow<2.1.0,>=2.0.0->turicreate) (3.0.1)\n",
      "Requirement already satisfied: typing-extensions>=3.6.4 in /opt/conda/lib/python3.7/site-packages (from importlib-metadata->markdown>=2.6.8->tensorboard<2.1.0,>=2.0.0->tensorflow<2.1.0,>=2.0.0->turicreate) (3.7.4.3)\n",
      "Requirement already satisfied: zipp>=0.5 in /opt/conda/lib/python3.7/site-packages (from importlib-metadata->markdown>=2.6.8->tensorboard<2.1.0,>=2.0.0->tensorflow<2.1.0,>=2.0.0->turicreate) (3.4.0)\n",
      "Installing collected packages: llvmlite\n",
      "  Attempting uninstall: llvmlite\n",
      "    Found existing installation: llvmlite 0.36.0\n",
      "    Uninstalling llvmlite-0.36.0:\n",
      "      Successfully uninstalled llvmlite-0.36.0\n",
      "\u001b[31mERROR: pip's dependency resolver does not currently take into account all the packages that are installed. This behaviour is the source of the following dependency conflicts.\n",
      "pynndescent 0.5.2 requires numba>=0.51.2, but you have numba 0.50.1 which is incompatible.\n",
      "librosa 0.8.0 requires resampy>=0.2.2, but you have resampy 0.2.1 which is incompatible.\n",
      "datashader 0.12.0 requires numba!=0.49.*,!=0.50.*,>=0.37.0, but you have numba 0.50.1 which is incompatible.\u001b[0m\n",
      "Successfully installed llvmlite-0.35.0\n"
     ]
    }
   ],
   "source": [
    "#instalation des bibliotheque necissaire\n",
    "\n",
    "!pip install llvmlite --ignore-installed\n",
    "! pip install turicreate "
   ]
  },
  {
   "cell_type": "markdown",
   "metadata": {},
   "source": []
  },
  {
   "cell_type": "markdown",
   "metadata": {},
   "source": [
    "## importation des libraries necissaire "
   ]
  },
  {
   "cell_type": "code",
   "execution_count": 67,
   "metadata": {},
   "outputs": [],
   "source": [
    "import turicreate as tr \n",
    "import numpy  \n",
    "import pandas \n",
    "import tensorflow \n",
    "import matplotlib "
   ]
  },
  {
   "cell_type": "markdown",
   "metadata": {},
   "source": [
    " \n",
    "\n",
    "## add brain tumor to the global Sframe"
   ]
  },
  {
   "cell_type": "code",
   "execution_count": 68,
   "metadata": {},
   "outputs": [
    {
     "data": {
      "text/html": [
       "<pre>Unexpected JPEG decode failure\t file: /kaggle/input/brain-tumor-detection/no/no396.jpg</pre>"
      ],
      "text/plain": [
       "Unexpected JPEG decode failure\t file: /kaggle/input/brain-tumor-detection/no/no396.jpg"
      ]
     },
     "metadata": {},
     "output_type": "display_data"
    },
    {
     "data": {
      "text/html": [
       "<pre>Unexpected JPEG decode failure\t file: /kaggle/input/brain-tumor-detection/no/no400.jpg</pre>"
      ],
      "text/plain": [
       "Unexpected JPEG decode failure\t file: /kaggle/input/brain-tumor-detection/no/no400.jpg"
      ]
     },
     "metadata": {},
     "output_type": "display_data"
    },
    {
     "data": {
      "text/html": [
       "<pre>Unexpected JPEG decode failure\t file: /kaggle/input/brain-tumor-detection/no/no401.jpg</pre>"
      ],
      "text/plain": [
       "Unexpected JPEG decode failure\t file: /kaggle/input/brain-tumor-detection/no/no401.jpg"
      ]
     },
     "metadata": {},
     "output_type": "display_data"
    },
    {
     "data": {
      "text/html": [
       "<pre>Unexpected JPEG decode failure\t file: /kaggle/input/brain-tumor-detection/no/no408.jpg</pre>"
      ],
      "text/plain": [
       "Unexpected JPEG decode failure\t file: /kaggle/input/brain-tumor-detection/no/no408.jpg"
      ]
     },
     "metadata": {},
     "output_type": "display_data"
    },
    {
     "data": {
      "text/html": [
       "<pre>Unexpected JPEG decode failure\t file: /kaggle/input/brain-tumor-detection/no/no409.jpg</pre>"
      ],
      "text/plain": [
       "Unexpected JPEG decode failure\t file: /kaggle/input/brain-tumor-detection/no/no409.jpg"
      ]
     },
     "metadata": {},
     "output_type": "display_data"
    },
    {
     "data": {
      "text/html": [
       "<pre>Unexpected JPEG decode failure\t file: /kaggle/input/brain-tumor-detection/pred/pred47.jpg</pre>"
      ],
      "text/plain": [
       "Unexpected JPEG decode failure\t file: /kaggle/input/brain-tumor-detection/pred/pred47.jpg"
      ]
     },
     "metadata": {},
     "output_type": "display_data"
    },
    {
     "data": {
      "text/html": [
       "<pre>Unexpected JPEG decode failure\t file: /kaggle/input/brain-tumor-detection/yes/y1163.jpg</pre>"
      ],
      "text/plain": [
       "Unexpected JPEG decode failure\t file: /kaggle/input/brain-tumor-detection/yes/y1163.jpg"
      ]
     },
     "metadata": {},
     "output_type": "display_data"
    },
    {
     "data": {
      "text/html": [
       "<pre>Unexpected JPEG decode failure\t file: /kaggle/input/brain-tumor-detection/yes/y1264.jpg</pre>"
      ],
      "text/plain": [
       "Unexpected JPEG decode failure\t file: /kaggle/input/brain-tumor-detection/yes/y1264.jpg"
      ]
     },
     "metadata": {},
     "output_type": "display_data"
    },
    {
     "data": {
      "text/html": [
       "<pre>Unexpected JPEG decode failure\t file: /kaggle/input/brain-tumor-detection/yes/y1349.jpg</pre>"
      ],
      "text/plain": [
       "Unexpected JPEG decode failure\t file: /kaggle/input/brain-tumor-detection/yes/y1349.jpg"
      ]
     },
     "metadata": {},
     "output_type": "display_data"
    },
    {
     "data": {
      "text/html": [
       "<pre>Unexpected JPEG decode failure\t file: /kaggle/input/brain-tumor-detection/yes/y355.jpg</pre>"
      ],
      "text/plain": [
       "Unexpected JPEG decode failure\t file: /kaggle/input/brain-tumor-detection/yes/y355.jpg"
      ]
     },
     "metadata": {},
     "output_type": "display_data"
    },
    {
     "data": {
      "text/html": [
       "<pre>Unexpected JPEG decode failure\t file: /kaggle/input/brain-tumor-detection/yes/y549.jpg</pre>"
      ],
      "text/plain": [
       "Unexpected JPEG decode failure\t file: /kaggle/input/brain-tumor-detection/yes/y549.jpg"
      ]
     },
     "metadata": {},
     "output_type": "display_data"
    },
    {
     "data": {
      "text/html": [
       "<pre>Unexpected JPEG decode failure\t file: /kaggle/input/brain-tumor-detection/yes/y623.jpg</pre>"
      ],
      "text/plain": [
       "Unexpected JPEG decode failure\t file: /kaggle/input/brain-tumor-detection/yes/y623.jpg"
      ]
     },
     "metadata": {},
     "output_type": "display_data"
    },
    {
     "data": {
      "text/html": [
       "<pre>Unexpected JPEG decode failure\t file: /kaggle/input/brain-tumor-detection/yes/y682.jpg</pre>"
      ],
      "text/plain": [
       "Unexpected JPEG decode failure\t file: /kaggle/input/brain-tumor-detection/yes/y682.jpg"
      ]
     },
     "metadata": {},
     "output_type": "display_data"
    },
    {
     "data": {
      "text/html": [
       "<pre>Unexpected JPEG decode failure\t file: /kaggle/input/brain-tumor-detection/yes/y885.jpg</pre>"
      ],
      "text/plain": [
       "Unexpected JPEG decode failure\t file: /kaggle/input/brain-tumor-detection/yes/y885.jpg"
      ]
     },
     "metadata": {},
     "output_type": "display_data"
    }
   ],
   "source": [
    "import turicreate as tc\n",
    "# Load images \n",
    "train_data = tc.image_analysis.load_images('../input/brain-tumor-detection', with_path=True)\n",
    "image_sarray = train_data[\"image\"]\n",
    "resized_images = tc.image_analysis.resize(image_sarray, 28, 28, 1)\n",
    "train_data['image']=resized_images\n",
    "\n",
    "# From the path-name, create a label column\n",
    "train_data['label'] = train_data['path'].apply(lambda path: 'brain_tumor positif' if '/yes' in path else 'brain_tumor negatif' if '/no' in path else 'none')\n",
    "\n",
    "# Save the data for future use\n",
    "train_data.save('/content/brain-tumor.sframe')"
   ]
  },
  {
   "cell_type": "code",
   "execution_count": 69,
   "metadata": {},
   "outputs": [],
   "source": [
    "train_data=train_data[train_data['label']=='brain_tumor positif']"
   ]
  },
  {
   "cell_type": "code",
   "execution_count": 70,
   "metadata": {},
   "outputs": [
    {
     "name": "stderr",
     "output_type": "stream",
     "text": [
      "/opt/conda/lib/python3.7/site-packages/turicreate/visualization/_plot.py:461: UserWarning: Displaying only the first 100 rows.\n",
      "  warnings.warn(\"Displaying only the first {} rows.\".format(maximum_rows))\n"
     ]
    },
    {
     "data": {
      "text/html": [
       "<html lang=\"en\">                                                     <head>                                                               <style>                                                              .sframe {                                                            font-size: 12px;                                                   font-family: HelveticaNeue;                                        border: 1px solid silver;                                        }                                                                  .sframe thead th {                                                   background: #F7F7F7;                                               font-family: HelveticaNeue-Medium;                                 font-size: 14px;                                                   line-height: 16.8px;                                               padding-top: 16px;                                                 padding-bottom: 16px;                                              padding-left: 10px;                                                padding-right: 38px;                                               border-top: 1px solid #E9E9E9;                                     border-bottom: 1px solid #E9E9E9;                                  white-space: nowrap;                                               overflow: hidden;                                                  text-overflow:ellipsis;                                            text-align:center;                                                 font-weight:normal;                                              }                                                                  .sframe tbody th {                                                   background: #FFFFFF;                                               text-align:left;                                                   font-weight:normal;                                                border-right: 1px solid #E9E9E9;                                 }                                                                  .sframe td {                                                         background: #FFFFFF;                                               padding-left: 10px;                                                padding-right: 38px;                                               padding-top: 14px;                                                 padding-bottom: 14px;                                              border-bottom: 1px solid #E9E9E9;                                  max-height: 0px;                                                   transition: max-height 5s ease-out;                                vertical-align: middle;                                            font-family: HelveticaNeue;                                        font-size: 12px;                                                   line-height: 16.8px;                                               background: #FFFFFF;                                             }                                                                  .sframe tr {                                                         padding-left: 10px;                                                padding-right: 38px;                                               padding-top: 14px;                                                 padding-bottom: 14px;                                              border-bottom: 1px solid #E9E9E9;                                  max-height: 0px;                                                   transition: max-height 5s ease-out;                                vertical-align: middle;                                            font-family: HelveticaNeue;                                        font-size: 12px;                                                   line-height: 16.8px;                                               background: #FFFFFF;                                             }                                                                  .sframe tr:hover {                                                   background: silver;                                              },                                                               </style>                                                         </head>                                                            <body>                                                               <h1>  </h1>                                             <table border=\"1\" class=\"dataframe sframe\">\n",
       "  <thead>\n",
       "    <tr style=\"text-align: right;\">\n",
       "      <th></th>\n",
       "      <th>path</th>\n",
       "      <th>image</th>\n",
       "      <th>label</th>\n",
       "    </tr>\n",
       "  </thead>\n",
       "  <tbody>\n",
       "    <tr>\n",
       "      <th>0</th>\n",
       "      <td>/kaggle/input/brain-tumor-detection/yes/y0.jpg</td>\n",
       "      <td><img src=\"data:image/png;base64,iVBORw0KGgoAAAANSUhEUgAAABwAAAAcCAAAAABXZoBIAAACbUlEQVR4nI2SXUiTcRTGn/djy73Tpb61ORXm3nAampa6zI+mIeZHH+hF2F1BSHhVgXTjRURKXonhhVgQ1EUoDE1MUIgisg1ETYm05kCdumk4m9Ppvt79u9grDuqi5/L8zuE85/AAMZIDNP4lkx0AlWggMTWpcwS81Xx/hFR3R8rZd4wEKQAAufrGUmt+qlOUDlR4nMNhmhxBkrxOH3NpqyodCe+ZTtOtsnvcwSFUHJgbGADdiytGavnE7kRTwl1+X9q533aFwUoYp9OUYp5+ipQsBQ0+AGABzji2G4c1f1aNSCW9ClSq97y2Vkpy6/vUx4eJMQuoCKbbRWq12CMPTZModD8ZA0vJASiXLpjgCM0wj7ivVBRqPPmFcyEA6E0qsY+/cC2KbS0qya38tpbzsm0yADdt09TjHVrm0uR2Oj2ggQfPI34D09zhr71xbWpn6tu2cl/NU/NugAbaZb9nJ4u0usuKrdHB8peq+O2ytMC4hQJo4Geop0r7fYA7Gbe5kDXKK/dUpsTjFaUzAAvkwmt3FDxjIdvrOIP1jUyT9awthyqKfqj0Dq3rH5oJBI0LkY+CbS1tMuTekE7BF7M12OhUc5vGePoi3yD4Ct3lPREJsrAkOBr9AXlzV5G2ZW6HVtYsvyXR30K0CSZxlv+QoxemC1LrVh+mTNDgJAgDx6QMGVJ9xXmvne0r5+o+19eTw53A8KVI3g+Wzc7Xb2qTra308lbcUUzY8HlNIMOVLQikK+O6br7pl/oIglO4G9I1ZkvfYGaLi6v2qmICBrBBmdgVPrUld6z1+0Q6NqAAgAABo4ZA/gLSOHol//+hP76V5I4dX01dAAAAAElFTkSuQmCC\"/></td>\n",
       "      <td>brain_tumor positif</td>\n",
       "    </tr>\n",
       "    <tr>\n",
       "      <th>1</th>\n",
       "      <td>/kaggle/input/brain-tumor-detection/yes/y1.jpg</td>\n",
       "      <td><img src=\"data:image/png;base64,iVBORw0KGgoAAAANSUhEUgAAABwAAAAcCAAAAABXZoBIAAACc0lEQVR4nG2SXUiTcRTGn/fd677UqZjzKzdNk6mB7WIww6IsvdHIEo1uRoSFfVAQJEUkYVdh0aCiyFwgaRBZECgSliydzcwy04YyEwRtpmjNue2d23u6eKepdG7+nP+PwznPwwOEa5bo8Rj+X0EiWlR9JgpR4WZGUUREUZBAkYxO/Qb2pBlERAssLQd8h0oQEL+ZMJbyQO8wuErVaMxgBR7WAAAHAAKLSbJ7mCVHvlLSdLTjfZZ2OhUAC4CTgL4wxpiPJoO+vmqgzVXobkhFGH6goLUUzOTQHYNnS7xS3VqbdioyvLPxJAiAK6nl4PywLbqoJe3iSNJWRoQqN4ly7kurfx0v/XHb6vy5O7M6zSJeSwCC3PP8UO5TXWNGoO7m4mmt/LcCLCSiFq6Lv6fpLp6TqmKabPZP7bwc4BCShHqtpuCrXCdm9131V7yWxV03H2bxDmABb+RX3vE284VEl+5In7cGNMK0pbkPJQAHyArO2gbkGQkCf7lhZTQ453JJPUIiS2GdrE335kG0u9sxnrB/KfJbubq/JFsmiN4qvb4OVWLP1KL8yvJdf7o6p8DX22ZWiJPf98g7J4ZmIozOeOVc9pQsFvVFz5Rh43Vs317ekpXSdWN5xjizFNK26wX3qrd+b9WCPDnB/UcayCkfX+m5pDkoxSrEkYUzxy7w+W6L2vFoe4r/3IBCR2vwJbIRKovbUUZe9ewBU+sJ51jEGsTgRN2ukbyxQcag1cQVG0IGc3BdiLhtU3SrdiJA12p4D5m4DQkzAiRQe7+dzhMVZPnCI+JjZ8wMJg1qEioLommnYnN0Y02A3pgHCJvJv5xK1vV/AXBfAPv0Yj++AAAAAElFTkSuQmCC\"/></td>\n",
       "      <td>brain_tumor positif</td>\n",
       "    </tr>\n",
       "    <tr>\n",
       "      <th>2</th>\n",
       "      <td>/kaggle/input/brain-tumor-detection/yes/y10.jpg</td>\n",
       "      <td><img src=\"data:image/png;base64,iVBORw0KGgoAAAANSUhEUgAAABwAAAAcCAAAAABXZoBIAAAB1UlEQVR4nJWSPWhTYRSGn3uT1lqaBARtwQpVWtyliChuCkKHKCjFOhRBiUjAocahCh2cxE0RLToI4lQrQSwiiCKVViVW/KGmakCJP8HGmNQmMcm993VJc5PWxXf6vvN87+Gc8x34fwWgrdAQ8QDe+oBZO4lbIZ3qouJbkUdcVXqL2ffgyH3TMpax5q2/rN8/R2J9qZmzw41sjCtNucqjfPzdQ2Y/B/fS3pD0e1KL12fOZ6b60adXHq9bkH9VJpRxhioHW89sPIqx4WLFUp0x7chgYGR/5+VgGOS8Ri4MPxGYespdAQoO10FPZsGBrkyY3mx3h6nSh6aI6zyRszS2NopBR1HSycKXmlUkvu3OSk7S052SZFYStLtwPp6nlLMFi7L11dw1XuecPk5MkmKypEkZ9KDa4Cd68GfhXu+oF7bNB4J+/iw59wF3JLXRyg0lx4HJWi+DwNu4ChidMKfBPQkOuY2al/pPI4gYHvgRdVJsX7cEp28zkZ7Nwxw+DX3UFO6EwIadzxaKiQGubSqU9d6gCFQ/vbnoCa0+Fm0JHDZf+G9avogMagtVPsfo+pePL5TYYT5fE0aNm6L8m2rZYIvlUvmALck2tZIBkiRtrt5a/vXE1V/JPeUlIu8cAwAAAABJRU5ErkJggg==\"/></td>\n",
       "      <td>brain_tumor positif</td>\n",
       "    </tr>\n",
       "    <tr>\n",
       "      <th>3</th>\n",
       "      <td>/kaggle/input/brain-tumor-detection/yes/y100.jpg</td>\n",
       "      <td><img src=\"data:image/png;base64,iVBORw0KGgoAAAANSUhEUgAAABwAAAAcCAAAAABXZoBIAAACLElEQVR4nIXSz2sTQRQH8Dc7u5vsZje7+VGjhmhFU9Iq1BihtIgUDwqKsXrQCioo9GARD17EgwTFgweP1X9AqAUvgj9ARaRUqeDB0hrFlkoMW9MfZtdIsu7v9WA2bKvoOz3mw5thZr4A/yjk6/kennWfy3ZrgfAaPIz0+eLcW9bOC2snxRqVJcmA4hrp2ff9L1eh0FjfaRkcMnUrKITvDjzwYfuCuV91MBn5ERLmTJKeYButM4mh5DE3yIco3dpoXcECkaSB8XDH1bTuBpC1GdKOkcI4llXyPz282FVf6R08wC7WzIrm9MlfnN7d3rbkjWruSGSDmPxGy9oloyNkMuotD/ny2SHS+CiZCVfjxoRxO7HSoYoIgASA3IvYqxMJvTRWobAxf94MG5qNYt9/T0bR1BbREd6dPsfwOoGpavBQwO1qbluPjE7ydE2rB3uUMGHFourrSpvcxEnBrd1cLlQeTlloWVdxRmtMmItNVKpZ2RrZu8ssz0apr2I1I56EvpJ3z20hsXPnbak4XmKEFBLKwQt81vYwXsw//sB9coStNNiu+Kw/tu5a622fWnc+S3RZap8uHkZhfuRyY9D3K9cLA0s2ji5tl6WwweXua5IvCQUXKGwYbbQaYMBaYBr+mLjdTywGW+w+gqxSe+7NKIQ/Q9OhN1w3KITKJ9nRDIDjR1dnH52JxB16+PgcMQNrK7UpjgA4gIP4DwNApxACHDn6FwIAQGhVxv9TvwCH7s6bTTlZtwAAAABJRU5ErkJggg==\"/></td>\n",
       "      <td>brain_tumor positif</td>\n",
       "    </tr>\n",
       "    <tr>\n",
       "      <th>4</th>\n",
       "      <td>/kaggle/input/brain-tumor-detection/yes/y1000.jpg</td>\n",
       "      <td><img src=\"data:image/png;base64,iVBORw0KGgoAAAANSUhEUgAAABwAAAAcCAAAAABXZoBIAAAClElEQVR4nH1Ty29McRg93+/+7mNm7jza0bk1xitGIxop1RKNFQmxQaSUiIXYWBSJjUf4BywIC7GTSEQkYtdEQtiIZyQNUfUsZcqUtjNz78zc5+9nIRUWfKtzvu+c5CzOB/xn6DfS/NPtZWE+uM3qfykSQGz/2dSe/uwggJFzSaaAoKm/nOkTx/TtzbTNrJKuM39w64zZoIgTSSB5t/dgPTCE479Yw6WjjO5ctSsCwCRAl3sPCz/uV+J8RdamhL42dfTRbCCZKPaErkYi6QkvXjbiwLORSj70GYBTXd2OZyaoOGEtxw9qoWm/B5l9PghKd6mrjRTXn7I67zzesqBaSicWv5x3+17PODOjocnO0lyhjcupNw5VpiutS9USf7ZpxzeFOfzkAa9jBo0lvcIWuZzp7RaBneOTo8cFAYW11rTQHd72tf51pa2J0IR0YNwIiYNysUqiKU3F0Vuyn/LxMHKlmkoKvRMMcvDVFzOaDGKxIHDmq4HrcRkqM7VGgRHJZWPbY6Eacgpqxcy7gLXadtJGeniowCTOZ9vDd22+QYpxaVi3w2ZqIVdVZcRiBNZo35x9bwWG7irRfXejVlG1crpFrDnAiYfYO7zC8MYL1uuiK6XLqgk1JFwDSQI0H7t4ZqrOMh6rJlury8v1puS3RhfXCYBy5qlnuOLbtrEjn/tSO7WAG7V4282PIJCck19dMyixrtqSjaQYahiVIHXV0wEOianK8wGX9yVpdLpjPWsI2yB5oQCAgSDDgetl26q9TffE3LHvWgPaw0PfATBIANcX3Z+fbXbkY5kJvY5U+7W5BAAcAFh+PNLNYv7DE7/vSu7jpotRDCT/qKcObQMZ/Zy2WVDSs1s2e+V4HoYy+PcD8L/YT2KGFpNozNjYAAAAAElFTkSuQmCC\"/></td>\n",
       "      <td>brain_tumor positif</td>\n",
       "    </tr>\n",
       "    <tr>\n",
       "      <th>5</th>\n",
       "      <td>/kaggle/input/brain-tumor-detection/yes/y1001.jpg</td>\n",
       "      <td><img src=\"data:image/png;base64,iVBORw0KGgoAAAANSUhEUgAAABwAAAAcCAAAAABXZoBIAAAC1klEQVR4nEWTyW9bVRhHf993730vz66H2M5A3ZDUwqhOBBKlhCqIqtAFKl1QqlIBqVgwlA0SrFDFgkpITBsWsGEB4Q+gREjQCkQlELAKC4YK1BLcpDY22M/EQ+w69vO7HxuGszs660MAABIWAAISECAgCAAiAgAWCEU70NM1CwhAAoAYAAF6MPv9u4ndhy/7vPpxj4TIAsQUKrvfuTT36N63S/F0PPotv+i8AmUVhADEzjXeuLVyNNTF8iJHmxO5N9/beh5GRCuTu2PpETNbCNwgl1FTzUB/aZ/cuHBJBKx3Dq883H8g5nWidWlPdoNsb5jfNXe2MCJoySwW8oEOdnut+R9NveGWxvSDz951xBKIrX3cz6ZbkaK47X0bjQwMjx9vXZ8WtmDpmkPb9UnlbWciyBSSEd052K9d/PDYoTSReuaXr59I1WmqdHXjVC+Un+Ju8vOlO2vfnHmZ2epTtP5rvLcWuS2/Uih/tHcqJkfD8pXAO62Yr+9HxW2O+IYceOGT517KBX8m3fyVZON1ihDPXz5mdBBt5FuRge4oU5vQvkR/X7vf+4Kp/OlFn/UPbmkzhmFctVOJn6fnu3siI8Mctr9buhr/baFJY0GzcXpmOle8vVh1e2pidoeckId7sqlELTcY4Xx4JvC95vaMUg+dVIaFFrbfOjgajG/aYUDRlr9rpz2bGHY+2EyAtArN0+vajDeyUwN/a3Xf3Tf6kFHpMf8do611+vdWmgMV7/vtQXfZY1HdoP/X8hElrKwde+qALXPo1LvXUhhNpofkO3+slcSQgbU3rd+nPMfO9e3WzVtur4NE555XScAC61SjJu1+NVYtVXqV4npJTHWDFsQIjDbGOLQyAY5lbpk5dzx1dvyz5fcdR7OGNsYYowrVRY7pCCNLwDUPWmulYBw2jtFGs5IL56FOrL6W1EobrYwiRfgfZzSM99j+q6Tkv0SwRBD8M4PQ33lfMRu4n+aeAAAAAElFTkSuQmCC\"/></td>\n",
       "      <td>brain_tumor positif</td>\n",
       "    </tr>\n",
       "    <tr>\n",
       "      <th>6</th>\n",
       "      <td>/kaggle/input/brain-tumor-detection/yes/y1002.jpg</td>\n",
       "      <td><img src=\"data:image/png;base64,iVBORw0KGgoAAAANSUhEUgAAABwAAAAcCAAAAABXZoBIAAACuklEQVR4nG2TW0iTYRjHn/fdd9icbu7k3MzpTlo5RasLpRArEiIvwighwjAvshCT6CKwwiCwA2FkUVFRCYVZ0AkvoiIoLZgY4kSn4qnmppubbvvc3PYdukjDpN/Nw/P/89z9HgRrQAAgrNtXICSP/ZvM1qWiMWYlwX+nyslkcs+++cX2NkSiNZfJRJATcfUZgaajRYm3H+UkKQutliKF19/9WZms8kyULbiPtT/whLQx/k8p4gcNVIfGQ4lFm7uiStIr+EwNcoYHDID4eAe6mReHZdqZM6v1WjO3HqyNz/IIECCph6DuhvRRE9GbV93uxeLAombU0dl1hMMgICLRGk+R08w0U2euriR7lTJvpF5XpUEYk29U5zmXbr6kKfdi8Ifh0UKLD2envguzcwjh9Bk4Z1EM59Ns3+07Ffi7XS0XZnxJ1KmwguDdgiMxnaCDQZmqsQK/juiHZDFCEjcRUoxBJLpslrmYJ6lkYe57GRt0EdNZuQZyWACWwLw6fQrr6VpyBImXuxei/eUFYbvefYuzC5gnDzvVHmqxX26LjLii41yBcaLtZ7CmbKgEIbAN7i7m5WIRrVzS7oXEdRse8G1zB644NgIBgywnbpSQadS8rhT0gyWu2Syt22M1ZqeEMQDQumGvNOENjm5PcdfESHJkQPLr+CsKAQIkkPLTMYEyR3QDeaOW/feROOOQ3XigEwMCoC7tmHFEVIHiucVZvYafY9KUY4bqnnIeEEBKwGboa7CEQ/4AYo0G89dk8tqk04oBMEDYMmTrfukLS5X5H3aZ6OxxkqnirIoVh6Y3KLecbBUmWIYNhTxPm3vKvrx4GFwVjD07T0mbpeqdM74p35mMq8o95ro1htJwg4AqxOQ8r+T5Tn6dtzhgapks3PfqU7g09YSwDP+AAKh7wjLPX0gC+j/GI1j3DfAbdzwgynA/jEsAAAAASUVORK5CYII=\"/></td>\n",
       "      <td>brain_tumor positif</td>\n",
       "    </tr>\n",
       "    <tr>\n",
       "      <th>7</th>\n",
       "      <td>/kaggle/input/brain-tumor-detection/yes/y1003.jpg</td>\n",
       "      <td><img src=\"data:image/png;base64,iVBORw0KGgoAAAANSUhEUgAAABwAAAAcCAAAAABXZoBIAAAC1UlEQVR4nE2SSUwTYRzF/9/XaW2ntLTF0rIqpVCkRcUKMdqIhN2TGk8Eo54IF/FgjAYO6MWLG8aAMZGYaIwIcQkEOYhGFAgWI7JTVrFCCUIXaGc6w8znAWz4Hd/Le6cfQrANAZASkDIyHiKgbQwb/A/CLZBpgvD/bLssJUSenlWeqIpRIQXDRTYAgERvkrIi1h2SNagu+lXPAlxTFQAABgDcda/wVQobHI8rtecnheQl/YpyJg0AEAKKc1uufXWoNxhTx0pRMIWZBF/LklEEwACC/7p1wJL3ccjm6s0w4HBYZw5n925u3Qr0qDn2Ql+FcX5i0TrAra6ovcmFFUADUBAFsrqgrt01IGEfVE7bleo19WBK/DoEEWC0/jtNT/OWpNxQwhhzFSaEgZUCVmxEHABFot7YjMMGG98fY8yhmvWa+r991TlzfquHIIRIpvnA0qbGukGkIUGn4ac76DJaMdLjpFlKsuFarsdTXELce9GOK+sUpqOJ3FpnpfYWzSI50/JYUJ5tPR2UU35NyC1XaDfHTf41Sf16NOag251V+CLluzaUtLYwky8wsyTwUrDcPdwqYpH1SnRMLtKNKr9M5gwVJ2cR3z6jNrx3oUBKybHNeXzeF0XrSRbXVlz7Vsui1FQXi2vieQRkF1elTzjWVMF0aVSBSdPuIBXujr1zrm1VjRHiip5+G3yY4VSeOKUrXPA55lZ/NlYrdOVKgkAeosjtuO6DBa6T4PXwzTLK70r9s7Q4hRBGLKqxeRpX3s0pGlpGM9b3L0efSQxkW2YFAAokclb/qKQ4Bicf+uDw3L/JB50GUXgiaBBgEMNwPmwe1kNtpx0C5laWoRQJnwQIAGAAhNTOwSPtgUv2OUgX9L2ekZyGhm5qSxMACM7arnhmP4uy52PSvtdljhsyvMNb6AmD6jKbiXV5JvjF0rKd3iKEWcLzhCObM+IeFCHiPiZAABCQSPIPNY074GocDdAAAAAASUVORK5CYII=\"/></td>\n",
       "      <td>brain_tumor positif</td>\n",
       "    </tr>\n",
       "    <tr>\n",
       "      <th>8</th>\n",
       "      <td>/kaggle/input/brain-tumor-detection/yes/y1004.jpg</td>\n",
       "      <td><img src=\"data:image/png;base64,iVBORw0KGgoAAAANSUhEUgAAABwAAAAcCAAAAABXZoBIAAACo0lEQVR4nG2SSUhUcRzHv//fW+bN5jbT6Ewa5JKaCzWVUiJ6kLBIIqpLUESngiAIunWRAvMQCJ1CCKIOQR0SSUyyMrNCSzCh3Nf04Yz7vOfMvLWDQQZ9j58P39uH7dENhv+NGQFk/YsIIGIQAUCnvzeOSUWw3C6OGDQGgOf/yLzW0pnR6bGayy/vgRFgA9CRCQDs/E3fiWpfFa4XBlsw0SYyRoDGdkUBXHmdlcc0Qx64/W3v6qwyMlgOAAbZADqmyo9OQyw+8CFWIE1UhM/2y2EGWLyAtO7mPGE5nAxteBcXwmNlkhZ6PNkdMG2QgeFDa4qjsEeLeV3Z/kRujvPYVGj5zXfLJhaI9kbfKzHX0pbnsMv5Uy+OKalk/Vh/d+qFxpOtNrsUZzqfmbLm78n3sFTDHc3Zt5zyjIEsCPsz9ziqWrKU5Kq33RfhuK3ewY3Nq+sEYsHqAUtvKvnY5BNt+Yy6qnjMk4Vi2twDTiBEXt3I3gwnLzXGfVJR3NitAQZlbm2cM8ACkY6Ldbm/BvKFRAObT7opGfcl/LNPtU8HVZYVsZo6q73RFV+6RxHnAx4lZojjbrVNZyaZEEprJ2Mxfwa/7opaGYrBL813PSnqJTJ4zrIbUusXnJLqgaxuGWJcyQjxnUmd1wUyAVZU4VjV3G2qvOntT8TJHJWOFC/A1nkC53j+5a00Ih2XrBWy55yKEYNc26BzIMCI5yfLSnzZfREaH9L59PUZeWmwZsU2iQUjJkjoqyv+ekGcSOmq98Q9w9IQKbCgEUzAsirvfm60WgsWaVruWCvsq9y0BQAsKANg5Iqfbmf3A/q04xYeXUsCADQEAYDjwDtSS+48tKt2ZKohtF0wgbmZE5BohyRhW1qwVVuDO2HtLJwjANhGJtSd9Zu/AdRWIeg76bEcAAAAAElFTkSuQmCC\"/></td>\n",
       "      <td>brain_tumor positif</td>\n",
       "    </tr>\n",
       "    <tr>\n",
       "      <th>9</th>\n",
       "      <td>/kaggle/input/brain-tumor-detection/yes/y1005.jpg</td>\n",
       "      <td><img src=\"data:image/png;base64,iVBORw0KGgoAAAANSUhEUgAAABwAAAAcCAAAAABXZoBIAAAC40lEQVR4nC3STWgcZRzH8d///8w8z8xssttNt26scZektF1fUlpDbAkxKtYeJApGEIRKLz1Z8LV4KyKIXhSCQqzUgxdfUCgiSrGKJJVWwVYKbU1s0oQmfd12s7thZ2Z3Zp55PJjv9XP9ksR6BtLPaGgnsFKGIcDwOnG3fXz3x3sHh/uXP1JskBqAIKWUUgp7KJcZfLb4aEGMKfw86kmllGIQgeTh+J/mi5nMvrPNx8TeF2bOH+4GYEgCSMe/z715rhw23BuDS4UzhUeuLr/xejsxJEFd+485T/sp+Z5oN/pqVpgeOvHtd29fMwzDR7LFnXVlVkV3T2mXb6VSzJV71qYYTLzj5Pkxbyycj1HvnrputCFxliqvHLeYnOj315wiB0uwsXVhZM6Xqbs2ombLFH3B2ly+lO+0FaVrXteRxec8YdzMseLon5/uEGybrz9p+y1yh3Y+s/JV9kQSV379695poTzVseL3X54q33LUFhJXlwZ6S9f8LQeKrW90Xn9ObNHyB1eAAE2Sjph4vM/50f8p3LWYr+y3SCbD4cPXX5pWt3OJMVztb+n7l9oZP5n540kWabnv5oYnGjJLK0qKgaB6pwYVXr5n8hJxirdONjYfDRt3k74Ps8Y4XuZfy7Ge+qF+EEz5mYXW6mQXZXl5X2Cshgxi/+/x/KY6DKk0dt9dvMBm+M6Fh+qFW5mIlL7p6/f69wgGOxMLR3vj0o2FEXLDrdzSQdUu504PsSFp7EAMPNCjo3ayWLHbHCb5zHxysdSoMUmkPLp6n93xRNLYfdHtaK1jUS6942kwQPTbxJwQq7pauNIbNRPi3O0vCTFAMmVyto+fq20Wdx2d5NpRx6ltWzktADAxoTk72dWuzusQz1ejoNWc3XPKJgCQUipB1me5Am3MbnQ2VPAgDsGVSkpJEiAYJvXq9CnPldGmCv3SkhCpAUgRNFPKBsIOYthg+n9z0qBaBJEQODWwEpDBusGK+D9hBjgn08HR7wAAAABJRU5ErkJggg==\"/></td>\n",
       "      <td>brain_tumor positif</td>\n",
       "    </tr>\n",
       "    <tr>\n",
       "      <th>10</th>\n",
       "      <td>/kaggle/input/brain-tumor-detection/yes/y1006.jpg</td>\n",
       "      <td><img src=\"data:image/png;base64,iVBORw0KGgoAAAANSUhEUgAAABwAAAAcCAAAAABXZoBIAAADB0lEQVR4nE3TS0wTaQAH8P9883Wmnba0FAy0YDFYFVCyelCjEituomh22QMxJgZjsroXlMT4SNa9ePKVKBqj+IgxoqurBzUciG0NaGIQNvIQH4tSYKHYatttbUspQ6cz3x7UxPPv/OMCd1UAANE0RmWR41VB5jUAYI04LYqiKAoC/n0c97G3cpz1X9DrRFEUxVMEACDs2a1padcfpNq2aKtQnhjWE4DTKABwqfcdRoeQesm2HGhvDUpv1l3ZSQBQANm7Ry9H2OmyqwWysY2s+6nvpnfHxLIMQAF9rN0Xaa7PSQK3OaZP9rKS+ktHsjHCg4IN32xCw1u7aipKBCXv6sboyLO6pc0/MB0ogXeALHHeDqiuJt2INladk6tqp/5TerwGnqqtnZ5m15UKT6n9bH11du+kZTSa3sxzDA9eEFbuX9nfJF37qDz/bBfyX5QodT/WzvjX/A4bJaoy6FIe1pmGesKl+vigUynsnCW6ldtObprOEjqq9lm78xZvcNUgWnnYGEwu16zdfHDZU6OBKE2GsopPBysHWYuuwt/hL08kbImaAW1KzzOi4/Y8GhZM2cn7nguhtnZTWp3KmORV8xxOTqHZtecaEdyA86vfv6K/OhNzZpL5UBJxKO9kjtCWBe/WW2p7fHf6JqalyEslnbSIc7c8O+FjhNb8vb7bPJQypqkjMze70WKlScvsb6MDpUdBGPf8H9kplepzLLcw7Hg0MGmazpMUd/FxgIBcC9gXG2I286CUys0ryFvI1CAvh/58TUEBX1a/ayZfnVkzEyJR91DS1LsiPGb+5QwDAQS3/bM96iiKicWOyD1njq9wZiMja5kICuRetbux0V9cHbYVhson1DjzI3OgWQQIgFn3oZ8LC/vnFBLKTBVk+uyB+4dPCPiCkM7ke+WqTjDeNhZW8iyV2/9Kcd9QFTz7rl+0WAgZDui6qlLTBRMiviGQOLbv/JMd44EnLXXmLof1RgbfIWdosR7ZXzbOH2o9l9/VpgIA47jx21+ZsaL5cYklP33pAZCG/wG4GFPGkU/b2QAAAABJRU5ErkJggg==\"/></td>\n",
       "      <td>brain_tumor positif</td>\n",
       "    </tr>\n",
       "    <tr>\n",
       "      <th>11</th>\n",
       "      <td>/kaggle/input/brain-tumor-detection/yes/y1007.jpg</td>\n",
       "      <td><img src=\"data:image/png;base64,iVBORw0KGgoAAAANSUhEUgAAABwAAAAcCAAAAABXZoBIAAAC1ElEQVR4nDXST2gcZRzG8ef3m3dm9m+zmZldmnbTxkC0m4QtBv+k4iEHERTpQT30ogehUCqepFQ8eBAl91y8eFBUaKE2iiJKoRSCBv8UXWsaW23SbWOakE2ys7M7s7sz7/t62T7X7+G5fMgTBABgCUOBE1NiMBIkxuoaAKCJ4I2uyORhRIn1Zg4AUFDn4nLl9xematDCBABIJtkGIKT/4WK1bqaXblxNTcbdwRWUBpLrBePdY446+Oqb1XP9k/I0MQEgZlDxvbuXi+aRIJOrdybM/JXVhdnHhWKXGTDPX/h4cqRgp9W30TiZu+HwJ0eejQ3WJEB6LrGLYfNQru/MfXDrFcMkf/nLW6/HLivF52ts7VWqJcuphc+9fM/v2vT8i0uRIrJ0xmk9EzxS/GVseDcs9RKdGVlPjf/5eWOSmVX0xejQ1N5iMdosT0R1kU/Vt9t3zbzngYcR/3vJfufr9QuXvP6B9DTLrHW4sFr2vtohBoy9j67+9P388kV96L9jfsnugJKjv53aluAu9PaJl1Y3hu/vZzaNz7L9JiWGnf57Pp/VzNKpnPH55NoPtyPR1DkqRkPkb1Rzr/WIfWv/04a/9ZYRt7v7cqZ1pautDlYKpYmmYiip3r7WKHQ8TuvUAfvJNt/ZD48/9f5RRZTu68Xa7cuzlYSQ2bk5Y9K9cuTL9Wir55LQarQRnmnKlB1xebHiFIMH7Wh37eyC6ZKQhvSSJ7xc0ipwbDcDN9m77898QwIuQ8AKLi77jY1+d/3HN3aMVC6crl4HlNZMgI6vqbV86ma35GwOZVuB7jScU2CADLCGNPRsbcocap34NcneeWx6Ye47ZnKJyNCAdOKJB8d3zUp4o9he6QhoAookRALA6D/6j5ma/yP6azXb7Tz9s4Ddg0uW0gQA4nBmC8IL6uMH1bKlAMCllNQD4Er0JseWAlPyAPWI6JPmgXhp1IPQ1g8b8D821UEHDTsUCwAAAABJRU5ErkJggg==\"/></td>\n",
       "      <td>brain_tumor positif</td>\n",
       "    </tr>\n",
       "    <tr>\n",
       "      <th>12</th>\n",
       "      <td>/kaggle/input/brain-tumor-detection/yes/y1008.jpg</td>\n",
       "      <td><img src=\"data:image/png;base64,iVBORw0KGgoAAAANSUhEUgAAABwAAAAcCAAAAABXZoBIAAADMUlEQVR4nAXBa2xTVRwA8P85995ze9uu99rSuz7XAoVtqesyHoEhPjYgQ9xohITtA4/FB4bNaIwZicTEIJ/0kyjRzEfQhITw+DIjzCIKxgY3p1vLaDZoymB2pa3QdS1du9vee/z9UMUEGGkYOL78VntaBJIbDSFGYWt2fgJUQgjPGcZPmVCb1c5LTWss9ehXToKAugiU54gBrs8gnkMIO81gQiIc56PCQH8FKOHYE8iBxDc2vNa7vdx5ROT2Mvo9L31vJHlWw5qqd3k2Pr7TcaHOc7qc6pGQoXi1oR94iimVtFDuzVbJt7zvUOJHhs/Rc8rrsA1SioYRvambrn5jJ8LyeNRmCW+VyxsGq92RzfZ2DWmYKK3+R7GtmaWAeL4/IWs5RdathOIS5FhU0enbaj5L3rl/Jr/bBcx96wr5bo9nCD6rIipYmppzyR1LduOQo3POQKOdWQtREtuGi3Gs+RcOjOHVkTtMwaPFvH79wcb65Kq8daHRbcfqSZh6xxVvd8b/UdamhqPmSCgjj5mEvgf1HOY+ZFoHH9vCwVsZW+/XE3X2TZKdbJ9s+Co9puKKtio8kHG++Mm68stCR3Y2NdOSKJ7sGf+POa2giu45W8nALHDW97ORYLgY9cwnG7MF//zko3lMh7iw79qTXVLzmcBHo0LJknWhp1XvbG25RcBwdt23t3rcD5mL7507eEE8U5H+9rfvnQ3o5F0qqrFt1kO/J6fapn8S9Td+ENHYTvcVX6H7WPCXJEYoekNkk/0Nm79wz/bVcbgjPCUpE6e+zCHAUA+9I96+kU2xUXPm7VJiKdb0rPgpe3hALlGkuS8+/8KRkJz3zj2wTT/d4rhNbTXrWeMi6FJYLb6y8d7n126nZlLpsN7ni6myK9IqnQCiAsaFpQ/WO46uCapdzawZp22ykuq+nP2NIypg4Jnj1sWHf0bm/mJwxmGLFYT5P0rHrpIqAyzVlfKXlGe6rrRgs8ld0u7u+1h1Xn4VqhQ0oISwaAsKmH4Ov7sWzINHhWH+upEQQsgTpOkAEPLepcERI4dZ7795VcEMAACkWQoAoMU5Mom7rLGdNxdXOA5RAABA/wOwPU/oRp0K7gAAAABJRU5ErkJggg==\"/></td>\n",
       "      <td>brain_tumor positif</td>\n",
       "    </tr>\n",
       "    <tr>\n",
       "      <th>13</th>\n",
       "      <td>/kaggle/input/brain-tumor-detection/yes/y1009.jpg</td>\n",
       "      <td><img src=\"data:image/png;base64,iVBORw0KGgoAAAANSUhEUgAAABwAAAAcCAAAAABXZoBIAAACnUlEQVR4nE2Ty0tUYRjGn/f9zpkzzjiNE0XaOJY4MuXkhHQziKKIsgtUVESCi1Yt2kQtWgQF0aZFi6j/IIqoRQXlIiyDkm5YaoUNipimjo55G+fiOfOdt8VA9SyfHzyr3wOUQgARiPF/DDCVaBGnn22cjI13GwIIALgG/rJ7rcOp6m8/K8+mASphKGUoZcXuLOLYjprwOpiRTpBSzAwmQEA11z6Wx4fTsdnmrbHm3XaFQIhAxAA13W/rq4o2JLtPpH5JHlOfNywArhAxGIuWuZMpv6bP9K/tV2V9yzPTAmgGkUT0nirr53z5+NdQ8ZMXdvXAZQgAFhE6fLA2klsdzWXlVSETsDXQJQogBkFuNY9Vedmm7qNXjSwCU9GWBxBAGOAivc/nyPmcC4++9oTbA+VTEzPPXYAYUB5zerHCOBU3g7WdU6MX0sFv5pU9hkCIFNuJStsU8ju+58dTg5HyrK8qdihhaM0g9+bmpEaHZyJphlPzrtWeT3+4FGctYAHsZ+eHXh4hX1PvAGes4t4lT33jYwUGQXm9c3UVX47UDtUYlQ+937fv7Xni3dDhK0AzUREylquLDA+tnJ3b5I2n+p4mfI2iATCgf58zBn840USPp9fv9zUUZt/UDJQ5AIiUq4qsN8dGTpq9DU/23W5yCtNuvyKBZoghN9iTXVaPLaG7ux65Exl9ZrKgBADBJNjwbwrZYQraXUuathVfLOYsB9AM0Vp9yTcb2bKPM1YoGHeGsH7ackrWKQD6YWv1gbdBnk1kxlfMv6N4PwBoAwAQGlwVLXAgkxlN729pMZ0kAAgYAmDhutWGXotHZpI9FwM+wwVECAArpZQi6zsigEKTmIZSSinFICKCEECiPb45hCeUW9oE3JLR9O8U+K/5A9X3EwrMn4avAAAAAElFTkSuQmCC\"/></td>\n",
       "      <td>brain_tumor positif</td>\n",
       "    </tr>\n",
       "    <tr>\n",
       "      <th>14</th>\n",
       "      <td>/kaggle/input/brain-tumor-detection/yes/y101.jpg</td>\n",
       "      <td><img src=\"data:image/png;base64,iVBORw0KGgoAAAANSUhEUgAAABwAAAAcCAAAAABXZoBIAAACiklEQVR4nI2SS08TURSAz71z59GZKRQKLWkpTKFYQgQxklAwEmGnS0k0MVGMLli4d4MrE2Xlyh9gogbfuiFKwsLExIREI1iQppgCtqC2RSy19HHvzFwXgqArv9U5+U7O6gPYB0IANeLejvdLTfcGLTO4d7w7GM3OSQDAhOK2wNwGAACQ32r49Wporf/Y/eQ57CfJ9ObZiT9v8cWnIy9dgWvJ9psNcpbRlssT1+t2ZHDszg36Jdd0y/S9iqfWuyvftLtjgzUAGEAYHS8tlWf0tVKGha0QnSraSvbZ4wEABHByanzOUxdlJjL92PysWOGcwlw9txPLGOA0F4L5d7pDK9Xn+0RZcm16bN/nzHQIMBy4MBhf5HiLcnA7PtA6if9cUApilHQBhl5HmxxJU5ODFpdA3jKZimOxnPeMlxDI0k/ygkTdZUdFSR1clmUoE6qSxMcVE0O7NdrYKlglIV9lihmCyjaypUZdwhJg8MNS8qsiIWw1YAJEEZjFyGq+UogAhhQ892o5G4q2YUnNlsJLjDKhv2WlGmOoiP5chdtFm2UpzVp2nnH0Y2sa4wc2ArE6d8JtbMwLqGfGrydr01zoLBqzT7BcIGCWO4cf0aLW4hF5MbCaJ0LlrbLsNBIMMPDh2autGfN4Z5UawXbOppTWM6wkLgEgAMS7PZI5EEj6Huq2vCab1TXb9mQFccAAfCh6JKzG04449onfWYFVYa21aZDvZKKeMmJps36bdriTceHoG4PPxxDfyYTd8w7VqtKG3hBdQQLIMLveFd3NhLWrYczypLyAHVr/vH7I54ruq+9wjJ/ve8F65ffNTuEK+NfhLxR1pBEkF3EayOf4t1tQI6GZIu4wU4sM/odfFLITpbGL/GMAAAAASUVORK5CYII=\"/></td>\n",
       "      <td>brain_tumor positif</td>\n",
       "    </tr>\n",
       "    <tr>\n",
       "      <th>15</th>\n",
       "      <td>/kaggle/input/brain-tumor-detection/yes/y1010.jpg</td>\n",
       "      <td><img src=\"data:image/png;base64,iVBORw0KGgoAAAANSUhEUgAAABwAAAAcCAAAAABXZoBIAAAC3klEQVR4nDXST2yTdRzH8c/3+/zd86xrt67d2s09W7dpRCSTQTSwTCIDdDrlIoSLeDMBEryRcDHxYKJHYjyMC4km6M2ojCwY/8UwkkXEytLRdStdV7ZSuo322dqn7fP8PBTf19f1DWrGzCwBDADEzMQXJzQiNCNx+fhQfj0cenhEaZAABOgZkvfXm0+eO7VQbF0pfXh0ilwQgCbyDd/JcJck3e7XWZfmLw+9T+J/1FM9OJYPSBXDWYuVatHZ1uWXN90miszgmQ2tGFXnXEuz7jT2lgZurMUyABHot8m310yz9lS1R9IOO4pXN05cmd0HMOCN27sDTt5zVP90p70jMYLBP/OHOwWI8FlSTjek1sTopny7yydX468Z9v5U+YsxYmGez254biicdKg/9ECKdUf6pI5HannsHAiSO2KYplOItGym10XlTDSxaLFiB+7+PixjbMWirbxPt9PDe7ZfOfhrIxMIV7haLi4R0601dUl7XgQCO6nSodP3I919vbtKrlRzpn3MH/VuW4v1Vc+JvlSTfiyo900p5n+1XWv53iaS63h3KGGbdtfPBxS/7bZl20cf7HAyZ6sMfMxGMhiU3nO6j9z77petejtnTW9O2+1vEEGok+7R+Uxo6pEWt4d3VoVMc9F3Pj17TWJARCJPr0defyulqwZtCNILbSMvtH4+s8EyaObJTx/Y4nG72Wixcjf3DmaMeJQudZy1XCKIPfo/F1pqlYBuhimRy1e0F2dX3iguulUiIDWei3/tlCwptr6Q1x0ntDjQedVfVAUDGKRgTJED5v5qn5etO1uZasfDYxOKJxiAnHX9/qCqxwur6smQHjB6v+1ZL4Gbg6nlqcm6UaDlkfm/g6FGreL7o8zN/QTQti1/dWXf2B1V5cq/9+rjXx50QABDQKCsUHphIpj85u5j68QnyuxxhwkAiIg1AhSISZigth/qADExERELAMSeAHkgQSR5ruIKAMB/dQotOodx4aoAAAAASUVORK5CYII=\"/></td>\n",
       "      <td>brain_tumor positif</td>\n",
       "    </tr>\n",
       "    <tr>\n",
       "      <th>16</th>\n",
       "      <td>/kaggle/input/brain-tumor-detection/yes/y1011.jpg</td>\n",
       "      <td><img src=\"data:image/png;base64,iVBORw0KGgoAAAANSUhEUgAAABwAAAAcCAAAAABXZoBIAAACsklEQVR4nJWSS0jTARzHv/+X//+ay5zv+Wi+X2WK7aBOyWZZZplSjFA0gtKi1qGTHSoUTx4UoQciSAcrQRQpsYdKJa5Vphk6Rc2Zm7NNcza3qZvbOmQh1aXP8feB7+X3AX7BgAHlwRD4G45of+i+kXxQ8z4u8E+Xh5MMiIwnxQQNLwe7dSUAgG+hg+edRZlqY2d5+GrdBt172PZb9uR4l5BOj468DtmEIID1qyWcwpWfkqev2DfMssy6Slvq+YKfMhM2Hf92lRoFSICa6DNcEluNdKJCGRwVw/m/ky0rtKUASOxaTcu0+ykkBWbrUrHNb9mgkfbvb7So4ggQANga3yxqSUeNT6Wfbb2dZOY8Phxdrp+OcZHgcfm2NVNryInUbrfu/ECm1ne6J7SaVmYXggCuZ6tH4uxk5VPX4N37jUHLPrOR2h12RzsIEmm79VePXE6qVEaO96ZWrbd8CTdHaHZ2JSKIIvGm3OjTohA1JXleOyPIf7WWy9gWpHt4NXjtJNmCvadYWWJP4AifUB36ZGkbMrTmNozlQhzvJhgHz1WvE8sFalFscrSK85QsgtQbox6IdU6CKWMzRlYvsLy1e99CH8tnRgMCzaHDXh0239R+AkhQ15y2Cj36mhOmch0GitN9Xzw2YnrGs4AGmWYanQyPHVoU6dPN3rbPlqJB22RPobtW4aDBBZh1UvHsTNjXlXGJPdmSaY5mPx6o2Liy9TKUCc3CUb/5iOS+dT5Fj/km+leGzQEkQBYwbU0zBqHM+tx2sZNmu3KCpowiEQ2QgKv7juB4VJSkTycXdaUMLMVbuQKBXrW5NUvg5q1HJRXuscgQpZxpz9E0m/hWADQAeKX0U4EyrV3KX5h7yXk1TKnTLNvzk7qzokXeDKWswzkEbK8PAFDtdFWBZ8cmt/GPrv+THxM/CvcX6/B3AAAAAElFTkSuQmCC\"/></td>\n",
       "      <td>brain_tumor positif</td>\n",
       "    </tr>\n",
       "    <tr>\n",
       "      <th>17</th>\n",
       "      <td>/kaggle/input/brain-tumor-detection/yes/y1012.jpg</td>\n",
       "      <td><img src=\"data:image/png;base64,iVBORw0KGgoAAAANSUhEUgAAABwAAAAcCAAAAABXZoBIAAACtklEQVR4nG3SW0hTcRwH8O/5z3l0enKzdF7LpLw3ryg6wwdtQtCKVmGK4Y1IsCiTjLILFb6kUmDog4QhJBaikpk+WKCWistEsZvOy+zMmZd5mc7mmacHtavfx9+P7+/l9wGhCbZCgcK2IQIaEeJMdxBa8N8ywIi0Nh7BBJdg/XfNhwcieVYbX8ljWIzN8xQAEL9u5pH5qeLeLSe7ad14nXDX4goAEADwGWRqfugSVAWXGaXjbFm6Qf+Bpraaz5O47Ng52dtrmRVnnEJWo3a6+1fFmQAKYGJbumbXWKXJNJTWcvyuk0Ysaq7kq5MBAliaRFVONeMdn9WxxYcinVNKpDOJ2lPeIgGsgND9+SfvB8X2rGrkyvTWsaXRkSYpXe8smQQB2kLj1FZ+2nnJCbWmRdpRwdVmZPUa3rQKQQDSOGlWmQLz1s0N/vHS+bAy6r0r/Szadx8I/Klpw24P3+AX6qvZ+oft4eVSs+WVQ6IztKDALAmM4/Z2JnGex55Bzs1jQj9YvtySe5uU6ijAR9NjcXbUyPRPhhbju/NTgpI50ZqCGXFZJxB/EeoEE1QA5cq4n1aT+tS9a6w8ivJs4EGwUJohl8wfshj1wn5Fia5v3avvcDUf8SnLCgTe5/WPJWH11ibJ0lmey0kxzhTEzF08JpBzINAki+U59mO8UDsw2TnAeipWVPkLhazbOx6AEIBq6vqDqu6Rgy6vcyvjtZXnhgQyezFAsEbxcCl16LIZrGWKJr06D4R8jWYtUcb5jZfJZBWlM7ZswMeIo73Dtv2al0lU43fbzWf336Bn79QXTbUnfOuZYB3iVgKajba/JAR6F1ofSQ0nHVE2LhPKgb6bhg2ABAC40St8sUh1oY5blrLK9Rh3BfeHPhoAnwUPGmCQhn/hWmM1GrCSuMK8jXjBBmUaO37PfgLktQwd8gHnYAAAAABJRU5ErkJggg==\"/></td>\n",
       "      <td>brain_tumor positif</td>\n",
       "    </tr>\n",
       "    <tr>\n",
       "      <th>18</th>\n",
       "      <td>/kaggle/input/brain-tumor-detection/yes/y1013.jpg</td>\n",
       "      <td><img src=\"data:image/png;base64,iVBORw0KGgoAAAANSUhEUgAAABwAAAAcCAAAAABXZoBIAAACvklEQVR4nAXBzU8cZRwH8O/398zszOzsKywLdHcp3ZUaSAs1Vi2JBxMl6UHTk/FmPHv0H1D/BT16M2mid63RaAxpg8WmNaYCfREECrSrwOwruzOz8zx+PgSNMoSmEXtII4CmUYaa2hYaMcokWEiPvrnW+sLVF12hRkIIQaEinXtYwMSVJa9cKQJCkKQj1DQsh99WLpcSf69Rej0CPCMwjooIgcn25if/+DQO1k7OxvzQHd/dD2LQiABUnc/10mf9r589Ll+dpQQjTe0BAkK8w/dd+fCgdSbrrfFd3zOHOb1F0Qoikp6OX3J/rlnWkZp8nHfDYKH+5lfap6Zo/d8n7vHcWzfL+2pdV4eFVA7BrR/PdahjoVn/zV8tbOjuWOm1n5qjkRM963FnyqayxVg3V1gb++tCZPb1Sr3aGirlNBav3zWJEHCv3zs3VZtfrR+Nhce33uBRshw+7226HQin8n6zeOo8uTSaxcbZK8V/IZ3BYj4bilgm+OjOu50X+eI/a3Z5uOdmC9H0iR84gyShZXsPN94eDu5ktwen1vlcf3dSZ5vjGzmtxZW4vQZ1u3q80/74WnPxQW1uspSNB07/+yxiQgovdys72zeGtc6l5qYjw2B+v3dymBpFtoCd3zeDWdUwR9sPvsxE4XQlX0zVr0iitOXGWmMi/04n/+L8KroD+298995dgIUuCUG5aCoq8uNWOSWPqGeifu9pKEYSAUx36hF2cxk/PHjKtDfTapVN+AElESHM8NfL7bkIUbpxNSyN+um2ypg/jVEQA5IPT73ygTXYMvm96Zlh43Z76QmghRCt9HLQer7SnJ3Rv+TaVeX8ML8l2lAsAQ3uI7LU+Mle7tW2fTpRHJGaxhAKjhCAn7Hg4+IF18KCwKIQBGHZUJS6c9+rppaBGITQtkFCoFJIKVgEmLGZgghEKBD8DyRXM328S9ImAAAAAElFTkSuQmCC\"/></td>\n",
       "      <td>brain_tumor positif</td>\n",
       "    </tr>\n",
       "    <tr>\n",
       "      <th>19</th>\n",
       "      <td>/kaggle/input/brain-tumor-detection/yes/y1014.jpg</td>\n",
       "      <td><img src=\"data:image/png;base64,iVBORw0KGgoAAAANSUhEUgAAABwAAAAcCAAAAABXZoBIAAADBUlEQVR4nC3B32tbVRwA8O/5nnPz497bpb1p0yZZQ7pG2xBn68TCxG7K5mDK3EA6mCB72J6miD76B4jsQQQFwZcN+iLig0ORgeIY041pTUYWs5jFtQ1tfixJk5Ym91fOuccXPx8CRKIiiJC6zRy/5UdXIgfGhJQSAXR0hWCG7hTCZ6+23l4McAXk0E8FQ5AuZ8EZZ6d3cCnou3kcstNNrvq8IdE8giB9+NmV02/m1ye3xcOLdeb9MCzPe5rD/YwCszbnMfVI9AmdUXob0cbnf5y7eG/XYRIFiKsnrp2+UXkyNdtqnl2PRZKPcuntsi4lJUAz/7gvB6OlZ4bDaBm6EUuin95+6YN3KCUYPP5C8e/EfrTz4gPQT/Vyo05brbzycx2Zi0ykPtHimtGx1qeEVr1r1E2iLLmLq1sBhShcXqhK11DC23z/xC8ha2KsG3Zbw5wNfhRq6Okh1eh0nrpE9Q1IskH11h2Yfx+mXcSQdmR3zAvpg7sPYvnYiOzybf9Rj+ykLiHyQnANNpPP96bHrX4s2fnRxrhdDbev/5v2UPmL5drhvVq4Y0ChvSGUj54opimtU/BhCKFfTpj+Pdzis1JUIo1BSW9MLsowJY0+geXf1MRYipGiDsUDXLj91+uknJlUV4MSqRV1F7VKaRP1k4Nk2JlcFnXtAE3dAwtQZJtfFUNLicpcsiX4a0bhz6o+F7Mq59SvJVNNeC9id4tvbHDvSKYWUaWh7OKM+KZ4i6NNy6J+sDe8ERoTgcZ8O/TsRDc4u7HTnLtMkdA5zxOjU/FmCcAokJQY+Db7taUClzoKjV4j38v4QJLcSM2m/PKZZHX00Kfvnoc9wnjAhi+/WP71WOanw4658OrNKstPjJfWJkaryKmf5L9LP14wr48Ec3L/fjZO1eG36T2righiX56cDVyo2dPqrefU9FbaMkj241XDFJwAQNBzVq945kpP0RKJ3LHSWm3l9n30lCEAAAAizcL5KKByeIHCCr3E2DgSQuB/6GXeyt8xjZGj7d8dAEk8gP8AK4NuRT+zcmIAAAAASUVORK5CYII=\"/></td>\n",
       "      <td>brain_tumor positif</td>\n",
       "    </tr>\n",
       "    <tr>\n",
       "      <th>20</th>\n",
       "      <td>/kaggle/input/brain-tumor-detection/yes/y1015.jpg</td>\n",
       "      <td><img src=\"data:image/png;base64,iVBORw0KGgoAAAANSUhEUgAAABwAAAAcCAAAAABXZoBIAAAC3klEQVR4nFXTzWtUVxiA8fc959xz72SSm5nM5It8TEjE0dEhGKtgExU0Cy0KqQWXimBsldCW0pW4UMGNGyFQyNKFmxa6SgiCqEiEaCu22qmCovmYJDPGJJOZeydz7sc5p8vqs3r+gR9S+DyN/z8BAKoBEBUoKaVOAhBAZAAADAAQFYmPHpmZLS+nDiyOrX8NdlUpChoopYzBpG4e2tl0btd39Efo2fkHAGeUUqRA0Vu7PrFte1P1r+WhaAMW5vqKV0+ZHgBSpJF0vdXm+LYE34eEFvaHN/kXvVQjUmi+Vrt1pNhKLAeWUlLrRkdIF3/JSEDKeNve5FKde39/Vw0DVUds16z03CVjlzQBfaezfkOzWW+/ij2VHe3WlulX59Np7iNBubISbiId7rwpeWnT/egvVz4ktf3rne2KKHmjX/MtY6ZdW/MDfVHxW9da4Clv7OTFCCHnM787sSRtf38BplpUyTxTQJeXaG513Wc61bgROPVkz+ESaznlVWOvRfgvlQvZotCMTn4hTC79xHrgHwpz+4Q5d3kw+6gUfzStSPjn25xew4XN7oZIg/rm/YY7P5R8iF8Op7o5YdqJRwk1G4Ws3PamO/aOYy+3oQAPIh6RfOTnxXSAZafYOtxyWmQTr628IU4oq7OOAIZTznilu1JrWBjYehKOsI4cf5c6kX3V5RMIr3w1erZprlIxS0ExVj7ZMhsPlhaLo7E2TSiSqR92V01LR0fINp5pHTz4t+h3+UuvC4jU5OmO1SYQLF8o/rNYKGcOD80Fe+zY9UGNFBCCA/mBes1ZsbEWk4YjzNxP9xITkRoB0Nqe7ni1XDXc5nLcxZIsh7ULtQkuGAEA8BKTx1bwhVDRjXLerebN3QO7DCSaAAAlRl8pG2aeC/fe7GOnJ5WG5xMqBECqGSodq1Vnjl7tXf3eGH8mvj3uEUtIooBSxqhhMMM2+2GHBT027zY4ckYJxU84cP9zDfAfbjlLPlfaehgAAAAASUVORK5CYII=\"/></td>\n",
       "      <td>brain_tumor positif</td>\n",
       "    </tr>\n",
       "    <tr>\n",
       "      <th>21</th>\n",
       "      <td>/kaggle/input/brain-tumor-detection/yes/y1016.jpg</td>\n",
       "      <td><img src=\"data:image/png;base64,iVBORw0KGgoAAAANSUhEUgAAABwAAAAcCAAAAABXZoBIAAACu0lEQVR4nEWSSUxTYRSFz/1fH51bSymtpUAHICpghRIxYiKW2JhoHBcaY+IUXenGyEJd6cKFbowuNLpwYKHizoQ4RSUO0TiDioAFZWqKSostpa/09f0uAHs2N/lOcjb3I8J8WI5BYUoegM1djS2rh6KQ3nRphfC/JSIiWAEhIIou1QorE/UHVDSLiYj0p4Atm/2B+npxYvOCZgBqNleDQ9UkjU4FXzrZutEbtqph91thf9skwAC+saA6IZQt7DEnf0jvfDpdbtqWOn+HAwwI3J2RRNJGp+V4w9FkUB1OD/uWqTcBYODtC+qKFyY/FxkKjeFk44OU1uiWEktTizgY0GTxl8cG1BZZi8LTbyaGbxu+jrHJE73gjExR16v+qJTl5pvekeuaOFuy3vp7YOt7+iKCatlKCtX7KkOVgfux1Zc571A1Lm321oKI8eNCl2UkuadJZ5O3v+msBQpLrdsmdk/CTqSte634u8xbpRZN+s+3M/YRl9Ma9f0MyF1Fo0S6lOCvWF5KxtX0XM60RH0VmnCJY9Bs/GBgPFWmHNzJBE9d93S0zdlXKZdkbNq3dn2XPUvEBipz4w/LVEJbTaJXadhbsH5oxv3tlympCAzcndWdMyV6rbXCR+cW7ZPdsVzuqToYd8kKA4d6atAT/tu3bPkhh77hysdnxVlvYVYzKigMoAvivUmlOBWJXKxiPyPHFr9YKdCYxMsx+zLh2q6Z9nT3moxBPCnF/N+HitK5OIgBIELLo8N9GGSyc6A87ryfU1x/4qA5hxI1a0vP9K6N/x1817NqysEC3HCW5gXTS7cKWoKpfs/NlC0ybRnnkaLW2UkA4NTa7Rkyjxtzqs7GnlCs45cjM28fkeAX0b7PGaq+eiQDIAvM20dEDJ+qsaNqjKl0RN7Hpryas1FjLwf0eLUhD/P2g7MCCciTf7RbCveWy0PpAAAAAElFTkSuQmCC\"/></td>\n",
       "      <td>brain_tumor positif</td>\n",
       "    </tr>\n",
       "    <tr>\n",
       "      <th>22</th>\n",
       "      <td>/kaggle/input/brain-tumor-detection/yes/y1017.jpg</td>\n",
       "      <td><img src=\"data:image/png;base64,iVBORw0KGgoAAAANSUhEUgAAABwAAAAcCAAAAABXZoBIAAACmUlEQVR4nE2SzUtUYRTGn/N6585cP67zmY6oM+JEOEMKSULlIggMi6LALEIIWrVu2z8QgrRr48KioV1UEpYZaaQkBimWpjGOmpqOOup83rlzP94W05i/1TkPPJtzfiSLOIQZxEHFzQQVZzF/X5UrrfMj2pZRSCokEBERahfJYnVBgsjQ0cmogAAAeNB7Dnez+kzXVMz9AeP7TVscAIgAa9dQlX89e+ZPNutiWnqnXhcmCAAYgOpwxqF73LtSQrbMq3qlzlsG64rN8OD+YlMiJbuUtF4VdW64bcbBfAkHGCDeK48H1mzOvYOcdHxRXq917+47pLcywCDc0ubKWdmKP6SXInPs66oQ495M7qINYNAGG2l/R6+OLU+ulk22CTRmz0aCVzAGEKs66B1Klyw1JHyp0Z69YZPOlooKz33hBMHcpAHRUG7ENn0JvNAMMuNOrzBZx5lJjIF/c+m+mfWbrkC/bl7jghxZ+eiv8hEg8MYotyc7UtZnd6bj10N9VtUUbfbUq/Z4ljNEuaWnfntx+uRD96w1n7Fgwz6tKrcn8hwMfNzsnNv79dPV7Tzlbkhby/wrFkWx8DzAQBcq0Gu71JxwlogsOZLK1tScNjFgcEAAuEI5m0OvTywFpfxSp7fflwkZ3zUBYIDWyK/SToAi9fJaVFRfGy4pEsk3GIXD81CkI+oJNSRADj0anXPo1uopU8mDAaBV9VM64FleESo0m6LIkrf8fU5VC/9Eeiu53vLyRM0eD7w7aBaSUmX3IyIUBXMNP/WaO5a2x1I8ue0LhgWd/pkAINH6ZEH97XwzWrrQGiwPOzOHmgDQPVJ7byASs/DL+meGuFSIqQhn9KMP8DNgVixE7L/uoGAKWHp+Hi1asYgj8BLz6PoXHl0fzgg+9gsAAAAASUVORK5CYII=\"/></td>\n",
       "      <td>brain_tumor positif</td>\n",
       "    </tr>\n",
       "    <tr>\n",
       "      <th>23</th>\n",
       "      <td>/kaggle/input/brain-tumor-detection/yes/y1018.jpg</td>\n",
       "      <td><img src=\"data:image/png;base64,iVBORw0KGgoAAAANSUhEUgAAABwAAAAcCAAAAABXZoBIAAACvklEQVR4nEXTS0hUcRTH8d85/5k7zsydGW0eao3ZqGSoZBlaKUHRoiCsFoGLoIiSiiIigoKkRQWBhAZWm6CiRS16U2FEkAamFoaQ2oNMyakEn/N0fNx7Wlh2dj8+2+8hAkAQgEQIYAMMkwAAYAAwQQCYhWFoivDX5pFEdM3uDkOKMPN6dK3FafuP4EXevfkT3/Zl9p5o6q6laFwjAUAkLI7gh62VgR9F91cNSSKgTzdPRkNDpoBYCJbxnOsqEr1Xws31j6N5AzkTM/cyIgIGieuc+4rHnfVg9ejkgbFQztcR5auWpAlhEUyf2mAP+INrLBaVaq2MGxVRe5t2O42IQbazz8Xsnyq61pCE42PTI/3LW3P4Wk1KmMAUvhpLdATVs/DlT1Hf498HnQHtZ9nDNgKBrVQzlRUbGXsxTou0Lo+11mHn5T+210ARKzN34+qn2d9R+bOwbvSwr90ocP8qSfpjLT1MhnEpbdD76mVOZ6T/hM8dCZauKFatyfj5ThDD3LftZnaGv2sKaYv1tynXEj3d0W7T/PV2FsKtUk/PyZhtToWHT+pGnDJer6iocDRaxMIo2ONN3340G05VuHnAlz3pmnl2Xf9w67MCizF4Yf3s1JPMX+n+kb6hUfKODR8K9cbXvVEmQ5n6l2bP05b1vYmCnmNVcW1xoKN9Q1+nMcfE0FK0KlGVSE47I6H84fdZ7PpNxQ1HrjJYZFaZPVXO3qBeptCtZ0arIzsKPWhSABOJ0BIab1JL+9mqZiZdLUbreAos8yUIHDcq7qRsqQmzYIR86blZOy9qNnMe2Tr48PjL8lg8lOyzQMsLRHfBM80AMQCwcjXuPxPOS7xLW+a9+7W6LWbOWecEPH8OritXW3Z356+kw6fLmZiJ6B8yGBbybMqABjszMxMRLeQJAbNh/t0mASDCQuD07w0AEgjwB+RpFewIGefEAAAAAElFTkSuQmCC\"/></td>\n",
       "      <td>brain_tumor positif</td>\n",
       "    </tr>\n",
       "    <tr>\n",
       "      <th>24</th>\n",
       "      <td>/kaggle/input/brain-tumor-detection/yes/y1019.jpg</td>\n",
       "      <td><img src=\"data:image/png;base64,iVBORw0KGgoAAAANSUhEUgAAABwAAAAcCAAAAABXZoBIAAADN0lEQVR4nAEsA9P8AQoCAAAH9gEPiJHm7CD+A/gBAwd3b/UL/gD/AAEBCgIC9AcF/PYAk80P3UWoMd8AQISZaAr2/v8B/gEMAf4B/B8OT/fxFuHzA2Od1hYUBaLhJwr5AQAAAgAA/PRO2ALBCibr4/IQf/I/CwH3YA3p8wkAAAABDAAB8xDwZDnK5gL3ECMam+FE6wIb9xyKDAn+AgIAAAod8f0vz/lV30vt+L3qSiwYFeru/g8OCf4BAQwBJMkGQRHiOvzBTwDtARPt/yLDWykcFMU7Dv0CAPPQLAqxpsPx0EwgJOsYu+76u9D4Q+cAXyf8AAENA/0cP2wI6zizPXofrjL1NdYW0Bf6zled6gn3AgET8ibkKc8Q/DnvjgL3FCTh+8/i7AY539+T7gECAd8JjwKWSRvN/CG4WwqCLfr/7TkQ9uXbFKEOAQEQAgL/W9q3+1xn7JkMsPcMx5n4ONjOBAc4hgkDARHvG01MvRLhQP21AAvew85aM/yoUQUX7gOgAQ4BEPMFLgAq4hTbGIKt5XTJIsYf6bX/ByMO+OKoDwT7/TsP7fv2Aw/0dg8n9yM2cEXAGgPb/QkP/Q0AAgAAwgECSe9IBAH+CtPyBg0ySAk+/TCzIfb0EfwBEPYCUeoq+TG6JcoHuDQEIaciEDX91isjKHchxAEN9N+5jxj+Ieb1+8otRuYUutlW/QvkAAITBrQHAgYTILw6ExvRARkSJjXPjv9BUOj95hfzEgq0Tf0C/QUGKDMe3S3/2fgzDTta6+ztDPbwI1vHJHKt9AEMGA/WkMv/+gq2BhBKWafw+OIjBv7+4vTQ7QEPAQ8L5gX70qD1GdfYEtI0jqbW5xL92QEUamGhZgkBEu4REXA2x8nfIvIN9kGoB8I/M+0q3xx9G+QX9wEY8AcH9ECzUSXuWHoLUvvS6fnpRAnAz/8v0gv9ART3B/70Cfv4au02694EyhMd6DeDowQLeu///gABDgL9Av0AF8o9/NphB+q5nKvp5RjO+hj4/wP8AAENWu4P6bUHAPdpCpT5dqcH3GScNNH7EAAA/wH+AQgnAN4R+AD2A/cUPCrU8Ea/wQUC/AMAAAD+Af+HMGpGTW0F8gAAAABJRU5ErkJggg==\"/></td>\n",
       "      <td>brain_tumor positif</td>\n",
       "    </tr>\n",
       "    <tr>\n",
       "      <th>25</th>\n",
       "      <td>/kaggle/input/brain-tumor-detection/yes/y102.jpg</td>\n",
       "      <td><img src=\"data:image/png;base64,iVBORw0KGgoAAAANSUhEUgAAABwAAAAcCAAAAABXZoBIAAACeUlEQVR4nH2TTUgUcRjGn/n/Z/8zOzvjfum2mOlmrqViJVaICWkk0a0OoR26RXjoA7p1CIK6VJdO0a1OFVQiEVgk0qGiIivxYwtsJU3J1f1wd2d3ZnY+OqxQVvicXnje9z28z+8FNhD3uxTP7q7m869uqv82jUweD3vrGitr2j6MkfWTQ5k706nmhFpjirNiVeBWm0OkfNmsetuTj8bqmSPMNmhpwTUeeXBkBQABwAZ7Ew0V9SHZwwQX2xTwNcdPPexaWzsykGgtVmnCktfMBXP+osNZs2xwL0CABj25TfBAsrOUBZhiK17GIj8v3gZ44Er/VllgzEYT9KLh50yOc2m1X5oAAjR2i4ZKSlbJRQivEIdzeGIHmBsgwPhTKMzgJf+P/ZLksoq8PZeXWXwUIODuttCcrvuVGIl3UI1Jukq5guXVAYJwTTylpSlb7gtPPwkWVk3e9C5athIECHJhaXOlas9UJBc6QqKPWsRwqkWzbqIXBGpb2DCjebn4iU7QpYzMczIRmNvVNQYC1voNcFiBug/sjGanCM0ZIqzky0gKPPTs5etRQdBVGsvPZGs1WiLFgjt9dBggwP1RycxwxLJLn3e4v+ucKlL6sakvBhBg7lJFQnLZNBvrdLd3z5eUdGpm16JvqHz4wzVvmCyD450MCdi2Yxlq5Ynhe2WTTHZ7/IrkGBpkMFsrFVfam6865TztC4+2m7aapU46v+LMm8bX5YFrDgAeAJ4ZPk/CW3DnwJSFJMeKUycNrJEAjKb7I6usIC1bq5rUkn534/06+o6Nd245FDrX0rEvou75iz5AOXg6+Lin0dbOG6//AzXOhCQ8f7HRC/ypX8tc/O+SPa7mAAAAAElFTkSuQmCC\"/></td>\n",
       "      <td>brain_tumor positif</td>\n",
       "    </tr>\n",
       "    <tr>\n",
       "      <th>26</th>\n",
       "      <td>/kaggle/input/brain-tumor-detection/yes/y1020.jpg</td>\n",
       "      <td><img src=\"data:image/png;base64,iVBORw0KGgoAAAANSUhEUgAAABwAAAAcCAAAAABXZoBIAAAC7klEQVR4nD3MXYhUZRjA8ed53nPe8zVzZnZnZmfc2l1XdHSIXGqWJQiNFKRQJF0s7VLSi6iLWkK6yaAgim7CizSwm7oJqYigFqRARVBQFNvGbdePdmbHbZbZOTsfZ8+cr/ftIul3+4c/qBpDUNMacUWzgSUREFTTQAAAzAFKGV8sTiU3u3/iPb7HD65/P22IOAIgIeKoefzy5qcH2sox88Sbs6nkvmn3O1MCAGZBze+Y/PYJhpFrOsWwjTFg/Hr/7QCApFyZ+bw+inij1iNHS4JUaSPx87QJAET2hSPnrxOfTwU27mw8FBBg0mfFkwBA8uHL+jVOPwSC5bJHO12jM3ulG3V2fgYGkGWa2zDpjkmSVv2sl1fl1oKtonLkjkfU2U4jBchrWtSdt82UwSqEc3nd6k1+nSNxfsixMssAaFdXLxXD5g5Y0hdEWNhlCzKcyeFaH4KPJmJ1bWj29t7FT9T1EmJTfxDhcD1XtjRa32DZ5TVjg01la+ulv3S3O/NFm3j0QUNHMXjACkfKrZWX/llq63Mm6vlTlyYpVG5aUZDxbjF/MDs+mk6HTNiGR2zvHwkcezDy2n1be5TWHJ6xp0vHhjywe30hS+ESRbRtxFhZsDimtN/fURbHQ8bW4xZTz/GYhP/Vu/HMaBxJjYcNg58qB+CJGGWs1BXdQNX5hqlM6YcvTFRlZtmKhxoDNXvLpwXy7d0y1dPJIYSbz7z/6/5moLfsdnv7q6tIRvjU1R/feLJh9Gwnsda467uyo/PTRWvtjI9JpXJuLrec9phZCcrVDO8wrY8149nDBzm53tR7pVUdDQy2TIQDICyVW6DfzertFslI4MovicC12izydJTS97u9hQs/7RYByahuMyXhDMYFBvF81QriZv15eu7QhgQEAICPna3V1qa/3dxv+yp57BcqncsJCf8h+BCcxUOFt8pn9+w6/OJpJuc5h//R8CsXj35J46ODm8YCOAMEAPB4CwCAJBBREEdPPE7/Aj9TPr6uzwBSAAAAAElFTkSuQmCC\"/></td>\n",
       "      <td>brain_tumor positif</td>\n",
       "    </tr>\n",
       "    <tr>\n",
       "      <th>27</th>\n",
       "      <td>/kaggle/input/brain-tumor-detection/yes/y1021.jpg</td>\n",
       "      <td><img src=\"data:image/png;base64,iVBORw0KGgoAAAANSUhEUgAAABwAAAAcCAAAAABXZoBIAAACnElEQVR4nF2ST2yLcRjHv8/z/unbtdpu3brpRmaxCSESktlIJkTImIPb/LtgskTcRFyE7EZkLiS4OAjBARH/DkIsM0LSHRxmZGuUqszare3avm+9v9/PYbbhc/rmefK5fQizkC6kR5KSghTm4LlRgcsT1zytPQPdYfwHnb30cE8z0AqjJf7C+NukwM+vFx9xo9bzAd78xi1l0KwCAN6VsWg0oPvvYdeMtMxPpzIn1bx5NYaI0lF415UpWpqqPH9yEACIAL/0ptt/BrSwLQpV38yu0Zyoe9xzgRQYWJ/d3W7VVIcdw4wObQntmBJGKruinwEGdW4exWpOWIutxsnpmHGn18/O1tcRATCUd6iY/2xGZb48FTy45mjukJ1la/mJAR06aNnOdKRs5R12E4Z6Zqfb3IAdupG+K4igFdsqQ47tExUeSjWlkzVGTl+amAg/shRDNAwLN+nVRHYsUyi6tXbREN9lkzJ1YmBvUyHbrH7pS/Xk6GOe1DxK2OUf6U2uYqDY31GOm4avFDHX1nlqa/Vq5M34PmjMgL/zgRlV0vrl2LLeVIZR9laVIs8Pu8TA3bfjLP3TRdv2NdeWpStcRx8bPrISQgelFm2g7blpx6gzc6EZXzY4bZVafPurWRJAJBrQOrLOZuHxjDQ5MG0FJ77pOhgElreSqfrJLy533W6Y8ml5TsW2Hb8OEAhQzWOrIhWG5NLGwXiLpmQm9/lmtwRBU4p4YL8VDJc4mHjfEbDJnah8GhIghpCk5IEnFgrFYHnJMa7gwst0r1+A1Gx9cjwZm+pQI/X0xp7xj/fxQw0Eoj+h6b1r76uP8cYap6p/3aWxK/ZCvQC0SnXg1emAeS5zZr0yQPMPnp31X0qpPj8QAECMfyGGTpq2cPgNvyIeCsIqSDMAAAAASUVORK5CYII=\"/></td>\n",
       "      <td>brain_tumor positif</td>\n",
       "    </tr>\n",
       "    <tr>\n",
       "      <th>28</th>\n",
       "      <td>/kaggle/input/brain-tumor-detection/yes/y1022.jpg</td>\n",
       "      <td><img src=\"data:image/png;base64,iVBORw0KGgoAAAANSUhEUgAAABwAAAAcCAAAAABXZoBIAAACv0lEQVR4nFWTS0hUcRTGv/O/987o+JjRGnXsXrNuPsoiDc1eLjKjoJIiIqRo1WMXEUWtgh5CtJAWkVJR1qKoCCGoKIiKJm3hC1KraRpnJh+pjc44Ma/7ajGj0rf6+A4fZ3F+h3JgICVON2lq0mlgOk+gOaFuBdsunVoIIi9TnpNkVK1q6agSYW7guYUGAE7h96+LeKV2e6nKPT3381lyDxGAA09qrRXyx4JJ6MWdSxzHV46LOgAwAIaCihpusMej2E2TDlfozO7VfiPVZM6NV8Z9edmBqDhq7yvIVrjE6ksKJYfpMblyvccyYZoqfFMjWJfpLv/i+Ds2DTAY13I22/rC+dvs9p0F4dqRrzFrXK7WAzzAwLWH0kb+6NFPy8U2j9NVLhew0q5vB5EH8NCCg/cDhZPKnRW5ja9PNIWlv/Kw2F2JoEGMaE2Zyd6X8/kM3/lSaB8KvXc9tw0IcacEEMzW9OOD8erQYLGm2b9o8h6vGPY7N+jNCYVnK2f87pLfixW7YrXJQiwtbOkRixofLo/qYIbLx5kCjlEhY8znCj7OqGUDls5QYO/dGgMMmg1l5rF41MllmY7VrxX49ImlLnWR2g0wJF7R6aj7T2hXlt91SOq95ywPxGaLwsYOBgZsBln3mfmpiLpjJJJRP+2/nVb29ZjtRS6IYNSpXRU/rgen8/uHmsSS7hntaGvb5EGxBUTA3hdFh4UlzmhWKBiu35qwPNKX3szyqgqIAE5IXBjjFZsvzyd5C7M9QtFsb//Vs8l7auf0W5ZyadahbVqUM5y5RS4Z+2WcnSPBKPYeibH4TG6imHdvnHJzlRcb3qZIAI3ue8C83nBG9EamOjSV+HAfXQDAAwZB7WAxjF4+ed7qVryR7w4PIinCiIjIvIojAnEEYmieA3MeUTovgRHDtlYL/cdt8gc4lU8IKtPmk3+DYRtGIRscJgAAAABJRU5ErkJggg==\"/></td>\n",
       "      <td>brain_tumor positif</td>\n",
       "    </tr>\n",
       "    <tr>\n",
       "      <th>29</th>\n",
       "      <td>/kaggle/input/brain-tumor-detection/yes/y1023.jpg</td>\n",
       "      <td><img src=\"data:image/png;base64,iVBORw0KGgoAAAANSUhEUgAAABwAAAAcCAAAAABXZoBIAAACeElEQVR4nHWSzUsUcRjHn/nNb9539m3ct3C3TdkUBb1oEhpRuGFQh7oEXYLo2h8QdesWHYvIe+TBaxQsQYu1aGJFYmYZ69tuq+vs6szszuy8dtBSwb6XB54PDzzw/QAcDoL/5Hohd7NEZkdDBytib7TxtcQFY3Aw93O2NfaUOAKH+HUrDIaeHb9bZptz7Y+H/0HiShVWYzttnutd+7E6uPW1KyA9+vvCpXAWJxNJi+WIL17qW5Bsry1O719+nH2CTFKDExoZZmlO1vqtEr+bwwAY+PsVvZywPdJnucmKoHbOV1w+7LKkAwjukRldQgxm3VBbFdunxIzEBYswYgMgeBPNi5xoNq+GLZ+NJX78tSsEe7dSPACCD85l/y3Wf2PBCTbYYeO5iSZtRaO2z9KAQGyEo1N2ZFqcykRSKxuM6fQ3VrROJaUDgpBT5Vwso7k7E+/X5zctJjCkMAt1UgYg4OXEr7QjKjrnCy9/lmQmecZryEU27r0iENy2+xnT4xOZhHq+g7lInVQVrKaC4kAaMOgEhkCrpfCkyI3WCj3ZHGUIckdpTgYMQK21V7ETs5VmKU+0VtW4UMH+5YBsAgIgizULRbW6xIABLCWwmjUS5bZHTUAAkxtKQowwOjZm6GFk7NjYyK8F1PxeZQN+KdTimvRGhGjwb7W+uO41jezD/bLTvcjz84gi5NnTgsM5yo5gL5X3ldIXCVEgK24xSmkrNO0RRH2mDAAYAGBTUg2vmnaMTzHGRxfNkLzkHcgoe13b/npTQmCHGjba/C4etg/GCueKEs3v2q5N/Tb03aPapqdQsO8ZG4929Lwgj9G6+8F87F2hmzgGHZM/TiII3vKxmkAAAAAASUVORK5CYII=\"/></td>\n",
       "      <td>brain_tumor positif</td>\n",
       "    </tr>\n",
       "    <tr>\n",
       "      <th>30</th>\n",
       "      <td>/kaggle/input/brain-tumor-detection/yes/y1024.jpg</td>\n",
       "      <td><img src=\"data:image/png;base64,iVBORw0KGgoAAAANSUhEUgAAABwAAAAcCAAAAABXZoBIAAAC3ElEQVR4nEWTSUwTYRTH3/d1hm600E5BoBQQggiCSzEIohADigqagKAkcEEPRMQo4WCMMcbEE4lG4wpGL2pigpoYjeKCwbiUBpUlQgGFIqVgWTpdBgqdznweCvg/vfxe3ru830MIlkMwvYQoEpCIy4AS8UpP/rFIIpdLBOpDDgkSIYUKFupqZ35NpdKGt3xxuQcOWxcAgFhQcK0pOw9RQgoJNVe9nezmT15HAAAIAYDCnN7i+qnceb6w+dzYeDK/u6EvFgAAA8D+l0erWkdlW8+sNRjHw0LdUU2F+twQAKAAoO9go0/rSYzI0gxOGjil5DnIZJ9lwUnCeUe8C7jkhdipSCdsHLM3fayk0hQOgIEyeiifVxjKvOtkFnFlBt9vNxqmsk7XIaAgtEt2ilMyPj2r3dY22x5wEx89t37O9EPjxMDK+X28OMJ4Ftje5Ggs6HSqT96lGT9KBYRqpHS/LnFqQhFmtTMVfYvfwtK5mAl92REnpuCJfrjW/UsXCRG9OSK7KGotEonHYRxx0YAhxhJFufPpNcpJSSB+nkuja3aVc9HjT8GhwuC4OGnFmrgRB46LNneFTCRsd7sOKRLapcwiJuxDe6rq9Z9pz1CSzCBXzJRYKadZ9x5H1AsYwbTBp8lWM8kHrvhHc6R5t11epdrXaVfdIRRQxy/HfO2PpbnfUktBXH5PFslTONSlBT0yQAgCm++3qF1/cWaD9tXCO56MTpCzvdeUPA8YQKPNVrBi5szV0gfz5kcb7/UNNwzq0LwAgAG8kaKd2OaFRs33x/G1tmNI7VRpJCfE4D1bi554mEFhSIqhw9DUTYwbmPp1N5dNUFWkmQz2KHOZbcB9wxTRlujI663ehJY1UXFwgZv1a9UdOn+xcmlcU2dgVx0CAlEZATVL7WDehKaFJ5Fy/3/BAKTaGKsnt/hSs4+durXn2YrNKBgaeL2CQlALMmGFIbT6DoBEAFoAJK6Sf033J/AfWtrjAAAAAElFTkSuQmCC\"/></td>\n",
       "      <td>brain_tumor positif</td>\n",
       "    </tr>\n",
       "    <tr>\n",
       "      <th>31</th>\n",
       "      <td>/kaggle/input/brain-tumor-detection/yes/y1025.jpg</td>\n",
       "      <td><img src=\"data:image/png;base64,iVBORw0KGgoAAAANSUhEUgAAABwAAAAcCAAAAABXZoBIAAACMElEQVR4nHWSy2sTURTGZ27uTO4kmcxMWmtpKjQmYNCC1o0K7kopYqFk4caFC4MIIhRdCKLL/AHixoKCFkSkgoqbtj7pToRSrEaRxApq04d5T+Z1Z+5cF81kEsSzOnwf3zmHw4+Vmf8X9FuudoaZKD/56kug003cOaUXbq5ktqb+MdncZFbfHNmbX9iXXsh44u7O+vb1h6kLL0lyh5RCO2u3ct3mU/5kJlJFYo0KmP18dHa05Zt3pyaHEWkG7XCLg46zPrc645tbB4/9THCqYlOohzBll/NS1DuIghQzwhEOIAcgFhju2KN7nWvt6RhPOCBYZj8RmLCqKVdRZ2y24RrGkBGK4gqVCDaRDu5H+Xay+YwgxgBOSacBHqvQFL7POd7Y4xWMBh2haSwPizq0rD/w/fmQZy71RRwT0qHgGOuyKs9G9Lj/+It9dZcPYtYebGIjxOkmM844sJ2caWzyAHO6zQusZFUgVL8wojd2vbzfCIoEJYolXIbRa4jkX2ueCU8sSdiSBrTEHke2Ko/ZfjFtd95XU6ZhIOhQjKhCCzHNVmZj1CNh/oil8QyBDYI0PdwConuDdpL1S78ENwZoUZEgZU2r8jzukyDfNnUJQzzKEcS7pnRgsRuT8bNF+IMKmIPlKnFWEtlu89O5whuysf27gVsf8Zoi9wDmKmo9865a2ojIaSc1f6WXPjCwmoxvXX7x4VXzwaFEW+0QDA8nc6cDxttvizLytDZ9u2mX6a2/f3nvVJKVgw0AAAAASUVORK5CYII=\"/></td>\n",
       "      <td>brain_tumor positif</td>\n",
       "    </tr>\n",
       "    <tr>\n",
       "      <th>32</th>\n",
       "      <td>/kaggle/input/brain-tumor-detection/yes/y1026.jpg</td>\n",
       "      <td><img src=\"data:image/png;base64,iVBORw0KGgoAAAANSUhEUgAAABwAAAAcCAAAAABXZoBIAAACNUlEQVR4nGNgwAMYEUyWP/G/P3Cu/4dFFU89gyyjoqISI/c2DJ3RqxV8FqhrPuN+LbWCgfE/imTx5N5d37+LvOL7/4Od89E1lm9IkozMGvyf+eU/vhf68o6BnX8Xg+5lBgYGBiYGBgZWBn5xrv9sBW8UWH58lRLWE8gUdmWASf7O/aSlwcKkzXqHnyf6C+Pbb++lJwkzMDAwsDAwMDDYX+U8w23x6/9f7uMMUm58p48xm6yRgepkCHvN8UnQ5FeF0C/Zd9y/efRdPW7EM0ElWSRtX2h93C+/9A/ra9Zf957v/xGecpoVKun07OGr78qfvT5/FWJ7ztgR1Z99WOdTCFTyDTeXGeP+z1yfvnDI91cvZfvPZ3mWgRsqefUny3MWSamvkurn5N/flHnJw7Nwms4/aCDo/Lxt99H+1SPur9zODwUYWHJaPi6R+vYOovOKBNcCyYDLHHe/fX/A9N3ZcbEIs9L7dzCvpPFqcm6TY1AQVzy3+eKtHHn7T+IysBBiiBX+Z9rD+ucxJ48Gh9BViZuTI06+g0syNDO3XZNgU4k8dtzx8EeZl89O/HuNFGVqbBF7WbgvGbNfln73l116XWcRcmQnf/r2i+mboOYVjiccX6S2MP5DGMvCMHe1w49nbC89mN7+52PZIfePASH5h4GBb9J9O2Zupo/sur/PcDxCT2ExnP+38ZxqztnPpsiGmf7yGRnUmBgYtM0lMOUYGJJEmBiYmZx5sMkxMDCxMjAzYpfCBACyf8ChIRtrwgAAAABJRU5ErkJggg==\"/></td>\n",
       "      <td>brain_tumor positif</td>\n",
       "    </tr>\n",
       "    <tr>\n",
       "      <th>33</th>\n",
       "      <td>/kaggle/input/brain-tumor-detection/yes/y1027.jpg</td>\n",
       "      <td><img src=\"data:image/png;base64,iVBORw0KGgoAAAANSUhEUgAAABwAAAAcCAAAAABXZoBIAAACpElEQVR4nG2S2UtUcRTHv/c3d5vlzqKTjpqT2pjLgEsoJmWCGRgWFUkRCC1EYWQUZFHQP+BDET3YQ9qDgRQ9RhGRSWnaaGWamBupY5MzzqizXme5d3pIzcLPyzmcD5ynD7COJoUCRWFTzlDITOcTsUGvrqZC9/cgAIBcGh1xrEoCADjky7Dcajl6Dokt+S9THULDX5l443kFzzH9tLGx5O0bIWJrbqlee5tR+eTh7BRb00ZNMWalKLhqh/RtJ7tGAAIYOjpc8txMrz/bfCThR9ATGVr2eh6fB0BQrH7R+jVEcgYUvanLvE5JC8FC+XBj03GAQNs9TRvdha50lmOPeZLcKo70BMtT46cAQnbjAwHVL/oTDI52xqQWDSKn7RypqM0FISX3Bfv4BM86AjEzxQ/rlQvhmOPC9hRjBWi0zuQxfJgjaWxwbOfnJLfRk+ym78qGJR+I7NGQHSa1JGIlFPslefVLqnnfikV9TcoCka+AlidEUQKnVwUClDlKlEqFk3UgD4QP92XvYRUi4yeceMAiW0iYJVENU49RkJUmYn0Wm+QVrDNODTr9dinuUlHx+FldGAR+9rRRV1SyuBSTw76kEBWVIjlls5FH2jugIaJYdtJOXu8LKbd9igv7XOOTaqHK/Y3IBGj+otL4k30BKeqYQSUTsZZJduv1gZsyKICKo05iFHZOzBpLWmwYyl/spJ3cezoKAsRPZJYLSvDOwM/svdqx9AUbV3L5Y3X0TyZELioYj9Y/XSzIDtlY9ajOVGq6CAA0ALm0375/fjpGDyusOm/uFj93z8tG1hrq15YXC4M1aoOvxyv53nmqUksjG+rbOqd4NbTcddvWp6l7/YDe1f1PtYp0WDQqPai0q2T9SK9OyQ6m3NwbtR5sZ1c2r/4/fgOMvgvfcIx7BwAAAABJRU5ErkJggg==\"/></td>\n",
       "      <td>brain_tumor positif</td>\n",
       "    </tr>\n",
       "    <tr>\n",
       "      <th>34</th>\n",
       "      <td>/kaggle/input/brain-tumor-detection/yes/y1028.jpg</td>\n",
       "      <td><img src=\"data:image/png;base64,iVBORw0KGgoAAAANSUhEUgAAABwAAAAcCAAAAABXZoBIAAACgklEQVR4nH2TO0xTcRTGv///vtre29Inhcpb8QGkEsBohIADiaCGBTXGGAdMUBcHEwc3E52MiRomR+JiJL4GHTRRDFGBAA5KtRKJCIVCaym9fdzb29vrQI1NSPiWc3K+k7P8vgNsI/K/FW42lIXVsXtbl9jgMvURUbK5erNjRXMfA/oafpPUXH/Qxe9nK/tG3hWd5R9fWm1X1t1CYI9ikoOtAfdHXw4ABVAxOhBtlDxVFjbP27XyZmf1fNt4XcF8c5RrrVrNMKrgzSoZk6DqnbHBh5vmnUFaY0WVKDtJqSrOqk6Ucbtmwp0AAd52e30lhCMEG0QQxBRhs0hq46+OgQX87goOGstQTtcE6tJyCpdUUrcaAQp6f43llZW8kiaE4Y8/Zew0DZt0YxqgyLuQS7B8gjLprLMvUD9tLldpLN96jQMFGs08XZREnsp/nMNT/rshjolm8hO1BijaHx1WuTJx3ciyHuw+PxESgyRdIZE6gOJDd5VLtEdKXFxp5PfCaPKFYeVr1PyhjhwIyJemA2aWxqnbMdLbGc1+c6zJNlWeMahBgAsr03vZeIavzoW/ustr07osmGKfA3M9oEDuqn8qavGltcwPb9t3VQeymbz73BBAgeGS+a65ZNxmLPQ0oGNG1YiJLtUPV24iG+h5/tOjSWlGCPFOQyFGQk6cff+pwPN28KXHZmGplt/gOTNSylJsxa1vIsP1I+ENPTTHZFLLuiOuGkrL5BkdAAsA+tC6o4IPLXkNVhbDDi23o28RBdjA5DMt1mQ1R5JrnoRF2Hk69ksvTp/VGbN3dduviCdr9gX7/0WyUGX0Nz+QpFmcijxpSW0NNXDismd59eJ2P1Ckv/K5+Jd5pmF5AAAAAElFTkSuQmCC\"/></td>\n",
       "      <td>brain_tumor positif</td>\n",
       "    </tr>\n",
       "    <tr>\n",
       "      <th>35</th>\n",
       "      <td>/kaggle/input/brain-tumor-detection/yes/y1029.jpg</td>\n",
       "      <td><img src=\"data:image/png;base64,iVBORw0KGgoAAAANSUhEUgAAABwAAAAcCAAAAABXZoBIAAACXklEQVR4nH1TS0iUYRQ99/u+f3zPqDSNjzJtdKDQghSKchEFavagFkGIix4bs01BMUG0aBMULaJ2tQisNtEmyoVBCC1MQ0JNU7HULEedfKCO88/8r9ti/nHp3Z77OOfce4EtggBIgiOlTTZyDEc4DDAcYQEilaBsC83r9lqwvvNjLTGTAFIgk2BCLPdGxa21+c6W5isB4VAaJGZS5rvEXN3RhqLPbxv/qJAAACgAlLWW+eJll3+j4XFh5Vp8+YD+SQpyCWlg33p32JudCGDyWk00f6F1dDtMty3ldpy/H9Ljvnhi0WAz8jW810nPlBDma2NWNyP+eP3D8cmaxusjzey29Qgn+1ChExUFRnBO7aoKdo1Ut1YbKULghg+FY+VQtd3Lum2MeabDZ6NyszJBhcc2NG8oNDwVHJ2ozfvRk/TEUjPBFzhaYm2Ypq9s2+5k5dxI6FUk6RJSpNDWvrqxOj7Q8SsQMwdz2odtdk0w1CT13j48IquWTn3p9WUEjvQ9M9JShGMWD52JeRcmRsPazxX95lB51T3a9PZ7Jn2T1PR3pg3zpb5/+W8GMzbtIzFbZLRMo7R4T1+kgI4v7V+6DNOVwlqyIO8E5qjGc+5utGzRmpphabj7hJKPTifGK+L9F8NWw8rOppMk0mwBHZeEre8rTpTsSPzufPp8AmD3jlSGluFRfvRf7XGaBt7XSU0pKV3QozRNk8rPB7OfoAR3NC1HSeVKAcAQtBKo6/Ra3twH4OTm5UEIAFk6SUuaAmDBTAw7BZIAQVnEYAJADHLAjluZdoMJAJgYADtb/QKA/yxl9RKGwZBZAAAAAElFTkSuQmCC\"/></td>\n",
       "      <td>brain_tumor positif</td>\n",
       "    </tr>\n",
       "    <tr>\n",
       "      <th>36</th>\n",
       "      <td>/kaggle/input/brain-tumor-detection/yes/y103.jpg</td>\n",
       "      <td><img src=\"data:image/png;base64,iVBORw0KGgoAAAANSUhEUgAAABwAAAAcCAAAAABXZoBIAAACP0lEQVR4nH2Sv09TURTHv+e+9rWFFixYSFNQINSBCeMPYMFEMYRoNNFQomzGEMOoDk4S/ANMXIwOiiYGB2NMiA5EF2IILlWjgzFobPktVFpq2/fa3nePw3uPOHHG+80nn3PPOcAeRQA8SoAAAAIWQKQAUBUQACAITN0zj88eRWT2NBQIYJckJWKD4c/7/2z0LQd58nCFiFk6JMTx3NrF2yuys0eYlalVm7NJL4LG8MHulnvCu9afjPj2dVyTGrtOzBwbH20Nntms1M+b6Z343bBguz8AIjGY3C4oKVGpF37rRfuEJgiABwCfGBgya+bkdLzUvOMpoPpzgBQ5Tv3N21RrYvnDkoyma8tGHcdeZpgrNknPk4n3D7N6SeW565OVt5CJL7LrnKWP0axhtet1A15vQMSKPv9uQ+pOc2zLqin3BvV4SisrXC/3kRvyobb+sGlZfjOdKRSVGrnvM5VwQppeWG8UyvPVavwdUp7wgyZegnSdT/PBTG+IF4Pr8wVZW3P5nL6s7ZLSWIiETE9OtmSzTar4etT3Q5Lr5DGtI2dB83fGxWaBb8pJtncKQFfU0KM1pEMjqe9b3Ohb2PirQBWHJAwdOWB0FV+FC9VoQA6Ps/hv2RCtw5eelPMTY3rg1tVfhgBQtUMNJBA4fyr67IYxdSURWd1WAEtntgxSpbq5b0udj9pWZCrnnJBLAsT1Jy98aVl7lySAiSF3QyZiACxYMGsWAKXsUBAEw07J1jAUO18BFEPBfWdmOFe+R/0DbjoBeBJHKPMAAAAASUVORK5CYII=\"/></td>\n",
       "      <td>brain_tumor positif</td>\n",
       "    </tr>\n",
       "    <tr>\n",
       "      <th>37</th>\n",
       "      <td>/kaggle/input/brain-tumor-detection/yes/y1030.jpg</td>\n",
       "      <td><img src=\"data:image/png;base64,iVBORw0KGgoAAAANSUhEUgAAABwAAAAcCAAAAABXZoBIAAADHUlEQVR4nAXBb2gTZxgA8Od57s3lkkvP/JtNbNpoY9pm6yjalcXVMcXsw0Y3WtaBsiqCbAMHg03xz0BwCIMyKMMPIs592IehYh0bVt1wq2yoFCtmXVeLs7bN2lxNTaw2SXuXy73vfj90CgkEcERiVqVrU79AGwUgB0AgIi4AJQLXyuSgf4gfuhpjjECSCIA4IADZ578Z+XpDj9p93/XWQNqdtBAQEZ2AKLw3nbtTP8No4dxgfUnxfCv6D/ssG4hJyGtn4pmlY2u3tDcednV4Mjc+mzxufMSQUAWs/pGqD8VHUneanKHxst9hJp77vxBOmRgIZ5H1Fvmvur13vmmxmVa9Y7eyuQ9hqJsTkAN+UrWe9ro9S3B5blVv4OHA1nWXaJtK6MYSvt4a0U/b+6cTtfpEsia7UEX21BzAN1ClZ7Ed2iC27ZtQ/pNleU11Obfxbt1ATfHa+6iWUx982SFHPeBZwPxrWe9jIYbbMpGRB6aXRKnroL5uZVWzlj3BhmmWCXBvraRYU5rBiKvXCztPXWnJ5QvzLzxtjnQMT834x+NSqqIgSZCMnu98z4yEkzdWo7mZu5qbm3U/WMXKbWAy5DI9DSIbeKg5npRqsqxcTjx43p3JGJ11xIem3cGlk+sjL2phxyv3w3rcs+ituXNPHG0sEqX+Vi7MHy38K4vt/0yYjxKzHSozDG02d1NlRTryCauOak2+celt/Z2/TnAqSX9+N3wxPVdFrdT7cHPj7FqXa3nBrjw73vpjevupM+mddt85IKX5xIbfrlOCubwb22PRpTOPbTv08fq+r44Jm8wnn+aNztBZDsW5/eX85X1hntvWOtZ/oBEQfcyRtTdtVXxqdt63wGIe7+LtV2sPinJQEDkdiBcuLY9dGW2xZ3xbhOnatbtll130k0AMAUgiG2jVo8GQebq3bWLz5+9ejafrLSGQqgCAVEhO3mLypMJM8yLrEtP1FiCXMIIEhjt2jf1yVp8yV6p91vdOBA+AYIwdMGiRV+69rCrDsqha1po9CqiWEATym5jhIn/SYaRfCojfTZMqIGxOAgBFcMf/HcRhUw8NKd8AAAAASUVORK5CYII=\"/></td>\n",
       "      <td>brain_tumor positif</td>\n",
       "    </tr>\n",
       "    <tr>\n",
       "      <th>38</th>\n",
       "      <td>/kaggle/input/brain-tumor-detection/yes/y1031.jpg</td>\n",
       "      <td><img src=\"data:image/png;base64,iVBORw0KGgoAAAANSUhEUgAAABwAAAAcCAAAAABXZoBIAAACtklEQVR4nC2Sy29UdRhAz/fdO3PndjqMnTatoqVoA7FUUDQKSU3EBCMLQ4LEZFYaQmLY4cKFmhg3xoWy8B8gjWGDMQYfMaQL0YSgVLAwii2Ppk+mtUza6QzMdJh77+9zUffnJGdxJARAQADBxDAs8SBVU8BEANeOE6IEDMQXiPABhcRLE+wI8rXBsxbGGEQpWooIkCJ3fLx37qfrd995o4ggpEV8FQCz9rHS/usfde+8en782gcO2yzpAMTiE2Pr3/zcOHXy/uDShd7cBbGHATUFMP/w4vSBM7XdE4ca5cemrkRNX8JNU9CO1yaO/PpqY77g3x5+6LdH983XzKSqghEVz747MVTeXvmroydfH9njRRWciKghxIVT53JPDNw6+seOF2YOnB8r3zyoHi5Rwfy49P5I4eb8StfpVmnLTHHvYH4pZaivJurSFz9OVYYls+B97W9pjk5+W9nexEANk76jn93JTrVzd9a2xg8udtulVj1S32IFXOHql3k/ybaD5XyfGwpfro8cDPIOU49YSotfDcXT4fJv8dsnijvbXwws/9KMmhsZNbB+e/SHu/nyK0/tf2T1uUb/883ZXGcjlEibpFnJfLft0J5kfnZrVKhXsyersoBqxmmIk/Ry/nJLGrWX5ja8yPvnzOfv3cg4H1OFiKeTjWg1aKV/LN0v1xer/UG8TiQZ34l43H7xb73XWw3a5e+nnpkJB/7MRWAtxYw49UCqhxvSuWtp0q08OTfaowCqYHjuxrYra96u8dN7WSp8evmtsQhzptIBpkJ7d1C0c69P9nV/uE9/zyJmrEooIGiS9Z4de/NS85NZ+ffaPSdmUJNQADG0q6vds1LJBJ3TviEG1BQzAE/WFwZvPZ4ezq51ii//DxYiACLSChudTh3iNnnWxMzUBGIvMa8lniSmnioA/wH4ST9j0kKXbQAAAABJRU5ErkJggg==\"/></td>\n",
       "      <td>brain_tumor positif</td>\n",
       "    </tr>\n",
       "    <tr>\n",
       "      <th>39</th>\n",
       "      <td>/kaggle/input/brain-tumor-detection/yes/y1032.jpg</td>\n",
       "      <td><img src=\"data:image/png;base64,iVBORw0KGgoAAAANSUhEUgAAABwAAAAcCAAAAABXZoBIAAAC4klEQVR4nG3Ty09UZxjH8d/zvoe5HZ3pwDDlDoKiQQFbGCltlAVpvKeNbVETr4nGjYs2adK4oTWktGmaGOOm0iZg7AJqTNtI0FiKo0YuNc00BaJ4C5AZBBluZ2CYOcN5ny7a1I3fv+HzBQCJlxHhFRGERMZakMcGEAACiBgAgalg+5u2/Nns14ZaV4IAEwCNmABwnfiufsxzZc06S3vSETqdZioGoAEkattD5U1KjStqso6e+DEt9slHICKym0DOlwcalwd7dtfMn//Y0dkwXN9990n5M2JhZ3DTkaLMtJ5S12TwQv7DuvvLpu1yvBsK5IuKwE/709XBbotdqZLlkHojWtq/uWoueIlpdUxcf9dozJ2ruWjfM/63L9AfLo5nLR6rDeeRsEkukoHp+GKbW46E3/GPTpdE149OfCMnd0ltBXv12vcjMzbd6YjWDosHFZY30vAo9P2mOSEsbTbn6+uN8xFv1PdsUGSe3FgSefuX0mTXqi0sHI57afkVZ9b6PQmjqLn6A49Ws0uuvptfsbJVCSt5mS493hqWd6qN51P7UhsLc0uquv1qOf11JVJJr5WyD4xNVvkm3mNjOp6TKRPntqFvZ0gIDb3wJVDJsWzPiGkU6/qYKtjZZQZ/fmqRHncbXzhPtcyMrKk+OFYIBTGYt5LJleZ4QmMYN3bsMafChQMnUAgomfJL/dvB27NlEAxpt3NkRltwX1URZkmWT29ZeKu1AELYYNUHOpyx5IJrXW+gPcyGQ8wX+yOf2kkJAfBnu725MZJ91yY+NB73m5Qhsu9ZZEIwMx/us8zjSy+KozdbuHPIlujY0dDjYIIwSToXfmieeuR0D6V+TS5meZeafke5MwUGuQ2Sluuv0tjtqYuRG84/M/4o2/BV/7wRJxBcQgfpFKQ2x+JVRRl24NBvNhJERFgFEJHQ6I6iW+PXDtDZz+N5XkEAETz/8gVAICIiIf6HrimAAcZ/jhn8coJ/AMuNN12brGwVAAAAAElFTkSuQmCC\"/></td>\n",
       "      <td>brain_tumor positif</td>\n",
       "    </tr>\n",
       "    <tr>\n",
       "      <th>40</th>\n",
       "      <td>/kaggle/input/brain-tumor-detection/yes/y1033.jpg</td>\n",
       "      <td><img src=\"data:image/png;base64,iVBORw0KGgoAAAANSUhEUgAAABwAAAAcCAAAAABXZoBIAAACqUlEQVR4nEWSX0hTcRzFz/1td3qnV+ef5hR16nJqsFSUQiXFwtWysEBfTPQpwhB8yIcgKkmsnqIHLQN9CAoitbDCmKZoKSRoUxcj/5T5f20zt7n5Z3/u7eHO9fblHPhyOOdDdTwjHAAQEH4PDOEojgMAgK4VWw3Cye5QvJ94Oan0gPcJko7wwoH9egppjUdCOcbrA0AJ3wAARXTeh+Sm6091UqOVRQbAU0GTjBc/riz1OVl9T3O9qnqOBvigySlGXiNFsnxmcEBRlrXSQJ0FAIgBQFb15lz4twOTZmhUldMfz/J/pEmWQ9M+I49hIY+caXQmTcU7WM/4ZdlhoOiEL8pYiy3CWjn1lVn1LUr432qLImCmbdRELPm0/lULud9E++VGZ1cdYyYAAWgDjttt7lHmvCTx+UCB+x2xa229fCJAAP4K0xe1yV+jt2sdjGlD/SAsROkpD5EBYkD2gjs9kdvnXQvv1OwalyQ6Vm9ywDMLEMB2NaozwlO2YjGOrc8vKW/sZ3bH6ykiBKI65IVr/lxtliar9UIJM1/gMbirNVykkLZ036vMaE9gTvhifm7lMwNx/Q7HQotLCDQSaQ6dqBvecuXtRSoyFKzq4smXeU/8gYYKP10S17VPFJrDvOVuh9mvX9alTgZKEHcsRnfdmk++0ybenrRt54evdM89Kgx067s9rO3sjZNm0JmqoS7nWL5IOU2CY7c2V3xcL3Ip1NmujebhntRXCWKWOlyFqzAOpo+wK3+L38uMFtlBTenUWnBPiFXWhIffo4n+h1e91vDrpt31f2w4Ece1NB01TOo2U0erRBwVK6B1L0AfL4IoHSEpx9owHcMCAO4G6AOoU7R/AQdeUwNydncELcgtPlN0NnRuAmAPABDGU29nD12Rn4eI8gWABviSf1bzCLA8nkT4AAAAAElFTkSuQmCC\"/></td>\n",
       "      <td>brain_tumor positif</td>\n",
       "    </tr>\n",
       "    <tr>\n",
       "      <th>41</th>\n",
       "      <td>/kaggle/input/brain-tumor-detection/yes/y1034.jpg</td>\n",
       "      <td><img src=\"data:image/png;base64,iVBORw0KGgoAAAANSUhEUgAAABwAAAAcCAAAAABXZoBIAAAC9ElEQVR4nDXHS2wbVRQA0Hvve/N59YydTn7Y+TRp4yiguBVY/FKKEoqoQndIbBALEGoF4qMsyhoELGABiBVsUYVUQKAqLFi0tFGoBBLQSkAJSdOJO3LtJCSOHY89nvHMe2zg7A7e0xIAkhIABLnvSFAMQDLFNcmpSt1uHEo9Xqp892737vJQxKRMwqR8l4BLBJKpzUgvvLo/OPryp9YdOQUISXE8IMJEi8Rvp7Xzr8QTWy/+4BWWH94oSgK3qQBVRqRuPDVrugczf3d+XPxG2dz74JCQSqU1kqJtZBZu+gcNr+LdfyLXv9+AmbZioCGgytY6J+/rRMdLzf7WtaOxDrXs3vKq3idTnEALj+Ss1IMqUrXRY7bVTfclSdpWRgKAyhh/7nauzaq2TTV3esDzrUaasc8sbggOrUdWcpEj9pyoJ5z2NWN+ZsR9zTcrhzkQ8DnuDWtxMDV5MVgE78PJ18Wp3sEnbYVAChvr1npzdaZ+6/lfZeMt80JwbrKHX8/MJkBgdUetbHKM3XFa85e/dRbczMe1R1tjqS8JCC5c6TM3Kmu7WQzk4tuffDS7fXrt6JYNqIAweMjcuq1PyJ1OXfdd4+nw+8/fO9frb59SgGpuKV/oWPk43S3lPLEpqvfubpPGDlwc0ii5enwk1c+hHdzkOIg4ySoBBmL4StYCYua1x/RL3bbfGGXl3gyeyBdWIu2Ps7uxD5hMjA239GTI2db1endgF8Hn/s7mKsAIJ6r//NIWyfNhIb9hWW6PMDt8c/z9B5wBBagsZ2WBk9OD8s9o2IzUraj4+43SkaYUGpfQtoaeqRuCXDXQMjQYy5TDKQcopYDI2OOlX0T4l8lkubauQrbSWXqDIG5LIIg054mvqqj744cR81DyVGvjTWSUAKB0Ep1Z7rN7hsjMXVV6VeQXTpZjADygE0YYdHzhnLn0RfGd9D/N/svzxQqTOmcEHBLTgv3U16WftOm1VfYC7Dxu2w3WNSQBHlLwH0oQQOH/VRz/Bb1bU6y2yCU2AAAAAElFTkSuQmCC\"/></td>\n",
       "      <td>brain_tumor positif</td>\n",
       "    </tr>\n",
       "    <tr>\n",
       "      <th>42</th>\n",
       "      <td>/kaggle/input/brain-tumor-detection/yes/y1035.jpg</td>\n",
       "      <td><img src=\"data:image/png;base64,iVBORw0KGgoAAAANSUhEUgAAABwAAAAcCAAAAABXZoBIAAACgklEQVR4nF2SS08TYRSG3++b6XQ600JLi9BCSxATEUUbUqImQAgKmihuVExcKYbEvcbEhW504YI/4MrERJeaGGPQxEhAN1w0lJYQLspFUtrSSm8zmXZmPheFRnmX5znv5pyHRPMEAADKCEqENyiBCQBgdlTCiZCd4AEHCA6ECGvRwwSNQ2xDajiAnszQAa8vUMUj0A5lr8oDACyrgVHTofbk9aUQC0UCpiNfgUQRpV7uYZ2yG+5OCFVn2ywlUoHdlkGl7fSDp6XUENfwO2qfvSgwoQRQAPjoVo/npu+sqKY+Q+VoNs8N0DekDO/Z+pqETGasSv+EziUimr5o3JVoBShARuEpVckJ0Upj7S7NbaEq1UIjCwAPsIgct/PNLCkRDz/pnzjmchWTMaZQkwK4/EhgQrhFVViXVh3ZyZnbW4V5JnGgAPzZlM90ZG58+GrJBROGU8nabMOtKIEH+ElyV/pyqRh2beqFCWC3PpOPVa+Z1KQAe4cpMZinrgLsXBeQ1SGd3HIaFBQwhoUT4QWHRfN0pNy/vFjVpHRy8egrHTwAZerlRvJ9qkmOBNM1LTEh46211YydAQgAkq/vL/4UdZk51Yxr/OayrNIZZ8oABcC8pJg9IvitRLPeF0Wd/PyzVYyz8vlIVv/B5awGlZ3O8aRv22jz9JDXZvkrjLy9GljUdmpNd64vp6qFuE3KH8LeV9iFtC4JvZu5WPGFtnyKS557/qwAVFwKydKuRzF1O7+yHvTGvvHGfhPgp8l8506zf7sl3e9e37z+uGxWRbGFEac522Eo/s+N3xlv/C+gqNHua+dxxVs3p9YcNJdaO1li8Pacccuxj/5dIZxD4Ylqsv3BX2A/BsHujtjPAAAAAElFTkSuQmCC\"/></td>\n",
       "      <td>brain_tumor positif</td>\n",
       "    </tr>\n",
       "    <tr>\n",
       "      <th>43</th>\n",
       "      <td>/kaggle/input/brain-tumor-detection/yes/y1036.jpg</td>\n",
       "      <td><img src=\"data:image/png;base64,iVBORw0KGgoAAAANSUhEUgAAABwAAAAcCAAAAABXZoBIAAAC7ElEQVR4nHXHW0hUaRwA8P//O5fvfOfM1Rpv64yZozVFltWQ7WYv+bAQJHShkAiiG9FDDwURRUX0ELtUtAtL2wobLC0slEGIYYthhWX1UmlplpnRdGGmxuPcPZd/L732e/shwvcxAEAgACBAIgSkbwNCRgaXhKrwgypd+K8rsf2iRJWcq6qicATkqio04bsAocafVukqp4WHabmmqYIrALomgtIv1+rKRDwmtZkER6NiG3CNcxVBd5D9Xd2KEd0IpMoyq8/HnsZHf/4zYqOLYLjy9IqJJQ2PeVkav4Syo/a2lhvdnRsNFxi4Urk9mAz1hJxsTbY87kT/LR737Dj1pJoBkxxn3eXBPffrZTn0ubn2U7C3/9Xi2xeDQ6MuMId7z/76I27u01/fzjup0eHg4h+SZzY1bP1dVRAC7EDmtNJmDnbsXbN/3Fd65T/Z1J7afcg0AFFT08cS11vH5qWtgY5bHxtCI9Wh4bpUIvxWQfBBjTx7OixXP629pPR1jpn1E35p5gE0vkOGdr5jzs4KxRyxqrzWvgdGpug1pvxd8IKQQdHX2HrgjRjJWXcKu4Kt3hXuh8kKZf0VlAklPTyR77wSzSVarmrCO746ieNYVSv9n80zBI+da++uS64cqLeWmd1Hin2Vsea/ygZsYwpkJCXja7M9080V14Kf1g5EIsU70fBHIrOkMGB2wMFINF6kNUerAvrwy6ZYSXT8UeJkIxpU8VqLT5/uf0OTgaGWYnv/O0+A9VjqTF6GYNrjr1k0dKSqcuhRiy9hTT57P2n09Lg2cxnm3bfsWb3XM+VaS7PhBU2pWeaJzsMllQqI6J/Buda63thYsHDvt+c56a7PmcgyDVwphyhJkuvZVzoXCnhYESPJhws+LL/hZQV0ZwBBcEOAF7o2QASUNPReJkPXNSEMCRC5IoQKPrNAjAP8k2mOi3KmqVwwRODoELcZsfL5d7fczBbQURyHyRZaiKQiAgKCw9AlJEZIhAQApa+zCjNsVG+jVwAAAABJRU5ErkJggg==\"/></td>\n",
       "      <td>brain_tumor positif</td>\n",
       "    </tr>\n",
       "    <tr>\n",
       "      <th>44</th>\n",
       "      <td>/kaggle/input/brain-tumor-detection/yes/y1037.jpg</td>\n",
       "      <td><img src=\"data:image/png;base64,iVBORw0KGgoAAAANSUhEUgAAABwAAAAcCAAAAABXZoBIAAAC+ElEQVR4nAXBW4hUdRgA8O/7zn/OnDP/c5vL3pzRHYtdl1paL6EYKYtBEnRRe4iSoB4KIih6EBJ6Knos8il6kJaKCgoEIcwELVbULFjXBQcVd6dZ190ZZ8bZuZ05M+f8v34/lAiaQmAW1A+dyBd90pgiTQEDAaNiDTg3eavo//R35w1KRoqJERBAWrZturMHTHjr+6mXJ0F/XD8BmYRj2bZEiQA4dv74lePu5tNffljoVZ1/7jxTANYoJAZsp1YvTHysjcvF9fk25fjZuX/3pXQcACFgfu3QfFfdD1vBiSMiLFfUr2cuousTEGjm2Q+amTsPsoO9hcNL7tbXsl78vHM4p6dBRDC7y3q7vbeWvzy+eyJMLrfMB0b42dcFsw4kBEUvLtQb3obedlpqcxjTTs2338U+AcpOlDxiiW7HCRqt/Jpm3t1T2zlzdeOHbL8jNC88GYg/Xbt3Qc+PrtEV9MPGt8NNs+IChb5+8vrNxDQby8nS79kb5XknPrK4Y1/3VQuIA4CnUN7eXv9Kdounx1Jf1JN04GwJfuwCoQ05lgilXjNXb1D1uaWYvyhifQkukMKX7uuVdr2+81r4vjKyrXxqLOxsJe27e0AxvPvRYn4kLu6x9l925MaIsVJZmRDBk4+lQTCsfZMczQ/1UWVWHgV7mBNOvJzuT6S8DoGKnZtxHw3Nqu7g6q5TDf9mfH3YKJ7yZsqAUoQavjmeudZuvjC3o+JG21Y7nm/8nB30IsFRrFF9fiWyTe8PaS7MjKdKYrD+UFRxYBByKDLHMC1rbcdslg8uL23C0O6DhDEDiJFM+OR6TW0x1ZaeSHfLo/725LkgAgCUCKAdnZuerhW36fnbYXaDJs2FS2BRBASMyL+cLu5PzU6p2qHh9SCorl7+zUAAwASSUmL/GWn03rFLLStVGfur++l7fQOAMQGoKVT6E9Et46FwporRpdcLymBAZpBWIi6tmOVZcJEFwCv+517a8mzLkhKdCAABiBUpZE2hiDgiBmSA/wG3dExHlskmggAAAABJRU5ErkJggg==\"/></td>\n",
       "      <td>brain_tumor positif</td>\n",
       "    </tr>\n",
       "    <tr>\n",
       "      <th>45</th>\n",
       "      <td>/kaggle/input/brain-tumor-detection/yes/y1038.jpg</td>\n",
       "      <td><img src=\"data:image/png;base64,iVBORw0KGgoAAAANSUhEUgAAABwAAAAcCAAAAABXZoBIAAAC/UlEQVR4nAXBW2wUVRgH8P935syZbbe7022n3XbRkl6lFIEWGy+VGGgTq0IUtWkMGh984sEHAlgu9kESH4jyYDRGowGMICGBZImtQlBCYkobLpFrIEVLq6Jux+62S7uzs7tzPn8/MkDaABOYRIm1VSJiYiAQCAQRBEBcpOJLWneuX1cyJEAwiCBABizQysle9dSDQta9FM5f7w8kEQgwTaVUfMW9oYb4ywO3WsZWv9ZxDmNmyDRNSABapJZmb63zol1DM8Nli4ei2F2whAZJAHrf1m9Gm39r1D+3UsODHfLaG+1IOQaDpAAX9nZ/JXJluar5qZ53Y5grrXr/8PAHuiQM0KCcuFj5jrWUqKufXiGWeUZ19KB3zmeQArmNXSmJ6kq759vzGxb3/5uOrjzStsviIikq7Og+eqOmKefZN2rM5arHsRMVdce2gogUDVyYa22TmXzY+b30X00d1W90Tp3sLv0AkGTZN/J8Xhbidv9Zf9ypCqxsuR/3k81TWpAaHkXDfLh2gQeayiPhjnS6rPLxI6xnAhLk7XwLqiX4M5JtXx9+VebaEzw7+2aspiXKArCSk97bnrfkPB2+9+uazRPiyReObUq597MsYH1BjzmHwrXlc23LK+K3v98sJsc7z7f+4lUJwXShGjOnDyh2/9kfOi6D+67OJ2YyfUFeC0Fn/t514pnvzLy4/Yedqnhom1bs2dUn/USRJOsF+shPfLjtar0MsrlMKEJLoV5HfZyyWIAjY81HG7b8FcPD1umYTAcLQd2Vzw5/ogDB2t/Y9OXBXKRcGe6jq75+xLWfcDN3qt9jIkEC6P2cuHHZXMr1rw1eT1l3F4evTjJrJpO0CC7zxZFO60rZjwtD0125S9vHbyZNoAhTStNCbLCJN704v83v+3TklDE0AmVKExLE4FCmsKe9ZfSn/qlXnjtuJu0tJoMYAiBwoJKZu7Vr+m6m1965PPF6bxZgBsiAAEBBpJA7YDkdY3uVncmy0ASUSALELAAKyPIZxIIBAGD9P+j0RNL/geCvAAAAAElFTkSuQmCC\"/></td>\n",
       "      <td>brain_tumor positif</td>\n",
       "    </tr>\n",
       "    <tr>\n",
       "      <th>46</th>\n",
       "      <td>/kaggle/input/brain-tumor-detection/yes/y1039.jpg</td>\n",
       "      <td><img src=\"data:image/png;base64,iVBORw0KGgoAAAANSUhEUgAAABwAAAAcCAAAAABXZoBIAAAC30lEQVR4nCXTyW8TVxwA4N/y3njJeOwktgmxg0kI2JUSSGhiWrGoiIqGAyAqLhwRFw4IpVUvnLihquq1EhJwgRugbuoiyqGqKtYQi5IGpwGkJHbSmATjYGLPeObN48D3P3xIAICoAQBFC9n3AQHAR9QAiAQaEAPOp05qx0TNC5f+YdCkAUEBMwtBeNCCIBumwZYZOg3MjEQEDCz4/KYUfAAQDgKn5cbcwDkSBhGj4YM+++heXK8dbtDs7N6+N9/j8MzBHw0ffGRumUPTr4F2Sfdx/PiiWpFz0eVfTxW1zSRUrG0hueHoYN7OXagt/9smzN3JpfyTIWVolEAHfs9PtQUyoaoavRtwxIb/c5VZM39DCWR206uf1Dw795xCM5nuDx8+fokjqZthzwXS+guBmVJQN7rqMp74++Zaz8jYnp9SjSwxSaEWmvtGYztd6HrrZvvDwqrKcuIWTClfuFxR1rlEdssJ+2KuHlJJqFvu08++loajUGjoWfhjfc4yU+Pp4C9bZKK5cQWf7f9tU3GdBKljZ/Ygfpd1Sh2945H5ujGX+K//WsN1QXjI6uqwuj92K5N9Gdi3pFJKv+6PtAYKgkhrflA72RF2/6wmc13rE9ECROytQ1AA0BhRvtp/+3OyUcuVeHvkr82LjZRz5qsjlxxNdkvFlrH8iprmpFVszUWru2q2d8IMtViQh7yaDzTJL9fb5/s2V5vzHb3th/LFb4E0CXLxMk4/LfW/kJk78a6GVTAjLyY/AlJAviIynJQxuFiUlZFv1g3RHu2cdAa7kYiCfki1oLw0nD72Q4/3KrfYN8oPSnSlHCUgoJaIwgH+8md9qNDpVrbVn1+f6NwOouqjcMDRdbzd0cwMUmTKt9NwFVRsGhUrBMFhCTHJVi9mLAwnQXSLj6VhABEhGNoVGGxAz5obaDbIRBmqKPJBAwDxe0REA+dh9GQoSSCJiIiQyAdW4AsPNZHSyB6+HwH0DhlZLM7Zrd81AAAAAElFTkSuQmCC\"/></td>\n",
       "      <td>brain_tumor positif</td>\n",
       "    </tr>\n",
       "    <tr>\n",
       "      <th>47</th>\n",
       "      <td>/kaggle/input/brain-tumor-detection/yes/y104.jpg</td>\n",
       "      <td><img src=\"data:image/png;base64,iVBORw0KGgoAAAANSUhEUgAAABwAAAAcCAAAAABXZoBIAAADCUlEQVR4nAXBW2wUVRgA4P//Z87MzuzO7nZ32d6WNiWArYXWKBARJQGJog8CBjR98LVeeKAFE4nhRUx8wsQHNBhJS4iJCQkPxlRjamqDhssDpbZQbWrbUNvtZbrb7e7OTudyzvH7UAOQQBIQAah/8heGAoQkoQBH1AARJCLseje6mqkm6ct1DgASAJAQAVB57eONs18tdRb/+fazcxs3LjICABAqAuLl7W+37R17eWXqYDJ/8E7q2m+nXxIgAFSS+NH5A8lXL+dYbvPh6K5m78PDI2fzTT4hYlwqhfq+8fo1bSvhiZh559BfzZMtE0OvCJRo4uCJzwe7DTMRVasL7dy84RpdxPzjlzyJpraR25atLyVTcV6aa4xn4FZb53/YcTEdSIILA/vSxlaoB8hqDebK3777xG4uDee+B4nxn3vM9ZPu9i09zms2Ka2k3/t38fX8+lhdiNFKqnG/k3WypgpUKmdFIuRba+uTbylfE6kcgyCiUAzizIgmrYjKNY8l7NHlm5IwhK4In/NXFp9GNEvCfICO9mjs5HTptFRhiBdDJ8cKQngNVpMcOSDc8nP2cIcMGem3YMUyipWG0IUN7oFZKUvdSh2eDZ8oFEb3FceLPi+ydFVfwqBTNQ1tyFVTypwgtTfFK2WKNu5Wkq6/Of88haXaGfjTLrWg6lPtg9u7zx9yQmZ8s8bqnEq9yOvFwuwXHYiWcmaidqV54Nho+9H8d9ZyroUCpyKWZ9KlaZL80662bJ8uSfvRD5TWOkKM12b+6L60qBLIPT8NTnbvsB1+/NfQ+aHgy+CR1aF4Vz2OMYnX3m/vFQvbrCX0K0LJmEsB/d7TvzPwCAX2Tj1trSWPeC4q8+OrbHFitvzJmzlBERVQUOfMiZmepih61QenYvfLdmT6you6lEBIBLDzmanUs1cfFm3n7ubawu13pvZ7KEFgxucIIr25kOi/ySqaYb7xwnsjfa4EIaV6bFhKiQVqYL2Ps06YClcHjtptOxhFyVBjRiABEBR5/TqhwiJHKGMnqkGfRnX/A99sZtcwWy45AAAAAElFTkSuQmCC\"/></td>\n",
       "      <td>brain_tumor positif</td>\n",
       "    </tr>\n",
       "    <tr>\n",
       "      <th>48</th>\n",
       "      <td>/kaggle/input/brain-tumor-detection/yes/y1040.jpg</td>\n",
       "      <td><img src=\"data:image/png;base64,iVBORw0KGgoAAAANSUhEUgAAABwAAAAcCAAAAABXZoBIAAACb0lEQVR4nF2TW0gUYRTH/2dm9hsZ3XV303G9hVmgaxSbFxZlJUlyi4ogCwp8spftQYQeJAqC6KWHCLJIgl4KEaIoTMIgosSyC6xkZNlVLcvLWLqtu247OzM9zKxZ5+nj/Djn8H3f7xBhdRCfsg568QyBrEC+C/ZGN3EQiIiICYJgQc5WcirrtfHzV11Xn0WJ0pU49vmCw4XjZSLU/T6eVjBg2K4ddJQV9l7J7WFJJXHV61gwBxMg8q1n298UL7rZJLPjYajTNc7raWhgZIfXORHdoBy6Ny8ZQwWhietxCxpcW3+FZ7hCidt5wXF7c477xVDjUwLAAZR9XsxOSJM2aZrkcIbyKZwp8RxMiJol/8evSTvHSaMv5U0Fkvisc1AWTGjMuqLGYGw5pTPdw/ERltjuo2bNquwgf2lnIMULauBLQi9IlFWFJJ8AQADocnLr0e8kkSgqVWNMYL25pVEfrwJEIB2sgcUcAkXAFgp/TwviI/zwpMyZbMo3o+Uhbugl792a4uGc9Zl9mtkWWerTGz1jsqjp9/NSanYmHkQxZ1iwaHhdUcba6Y26TDHByJsfl1JHTqTvOdpVGeyuPRyJLsnhBI+B2i3BBvXv27buveUZxZJ9oG7NgqhJM/4zfLotGR1ex7Y5J2Plqj4bLmevHr8zrD8jAvLzUS2X7uPPNXvWe9npftMBDgBIurm8cyruzGi6G1tU3h64+M3SzrTBeSnQAmE39oRKaor64vjHIXKx+jtcpegHclpOppOcJWzyCds1sqg/R3soGFlxecWzQLwNCNqaPojcf2oSgZzUPWZUAyydKaRV60Ag0lbtBv8HLmDPlrH1hnkAAAAASUVORK5CYII=\"/></td>\n",
       "      <td>brain_tumor positif</td>\n",
       "    </tr>\n",
       "    <tr>\n",
       "      <th>49</th>\n",
       "      <td>/kaggle/input/brain-tumor-detection/yes/y1041.jpg</td>\n",
       "      <td><img src=\"data:image/png;base64,iVBORw0KGgoAAAANSUhEUgAAABwAAAAcCAAAAABXZoBIAAAC80lEQVR4nD2STUxUVxiG3++cuXPPYcTpLZNBGGRwUrEi6AjREFIZFYVEMRJjahpLFy5sMI01WqPGtGrbhU2aNkRFdKlRiRETDW38w2rjaNMWag1tlJbi/wioQ/lx5jre+3WB6bN8n8W7eUgzwILBLjNJ2IbE/3hA5BDD5so3OnbnBZZlz/lVTShiKKUVoSZceTkD8hVdW8KJgDKVUkprQcQwNl1fU7E4BvfCg/vu5eyW9FsAwIDSWUqd4V2+bRW1oH2IXa/irSxNpZQSBGv24XeoeHju59YN//1C77Upbx6x15iCACiN8X5azftvO407NtUuPJb/zdp35Q+QWikBL9YWcWf8/enfDjcctWff2tLb/eDR/GbBgEAIhwSSyw/XiOiqD3dZs7h17/Zc3yuXQAKDOrj3Zv3GVGS869afHwwOZ+KNnWVigyMIHlcOuGXRpgHXCIYu+Xd+j41fddw1l1+AcEHKSqbCBfXl7aHd2V9khhwZvFHQ/MnXjOAYSFP/3MeGNc8sTSRbPntuhdLN82vbfnekIpCaPJCFvI9vRsYd/88Rw0tv93V0f3nmSskjASFMpHIe/vFsNCC9Zxt84cwzuT6c69xOS4BUmom+u7ikR7rnklWR3lD83p3WVPuPlAUmTS9SMxbFfpk22FtYFC/GWNnVl+3cVhW1GaRf5f7jxbL8YrOP2iKVTwOyvU4mTq/6acQBaWGPmXWftvRE+s4Wnj91t4ZH/XZDlLwGWICyFU3fvPRevrHy4In8OVOr/90zWl5+PMMM8krfyOOg+1FfyXirONkfyGTF63xL2SMlIAxOTcpJWvtXWqpUdlY/6epObLU56JEAC5fc1IqTTehJ/NaTiZ74a8VD73v1GPIIAKSIhSsPuOtyFlyJrc8r2F7Y+nQoLGwwC2iltZYWUyNGmtAwY2a1Ylhaa621AFwJj0PuEVERO941bdLV1VNkeqI+0mAIR3LpnZEXGkj5S/5mZhAmPl+3z5Q2THNUAPx6of8AAdcnJgwOBTgAAAAASUVORK5CYII=\"/></td>\n",
       "      <td>brain_tumor positif</td>\n",
       "    </tr>\n",
       "    <tr>\n",
       "      <th>50</th>\n",
       "      <td>/kaggle/input/brain-tumor-detection/yes/y1042.jpg</td>\n",
       "      <td><img src=\"data:image/png;base64,iVBORw0KGgoAAAANSUhEUgAAABwAAAAcCAAAAABXZoBIAAAC9klEQVR4nAXBb4iTdRwA8O/3+/z2PNvu5vbcdtvc6W2nKf5bnMFBuFBJDD3CsjfZC7OC6EWpb6WI/tAbQZBQhECDyw6ECIMjKDQTM7u7IA8L6tpV2213czd3c39uz7bn9/t9+3wwphEAgBEYJZuaPRqxa2oDUQmNgTVw/CBclPIP9cuXd22JfiY2XMAIESii4Qd//vdmW60JWw/MxvwMAKyJGAC0cQ9e+uApw7XdoshkVt/WgBo0xlGTde2gOvEtF3ctvuOp7Zm5MlQvJkGCxmBA8snvNvz88RfjqbNj0tJef7I0d6uGSVdjDAzOBG+8O+tVm4udxoZOYV1vsH7VHr/JSFq1juWnDpovGqvfr1KpLJEPRPiV5q8RgYRonc+f2HrnGxmKx+Z3JsytvcrvOwLTKoRADNczR9eLoWi5Lf+xWB4fTOdUvnbRfR1BINxJpZdymzt+T2rx3GXctUUvfdaNVxfPKItA/fhDfXSkVLTWFeyFgoVWMP5c8qdUoj8MAlvzHut2VaQ69WGelUmz0wpH3govLPdHkDh49JFdaZq1sq/d2jd26Dc3IPnDaxhPeIkM51Pr70RzGDKiWQwdmeFb9zu7z09se6ZhMEbh5a+7h/1GHftfmB83EmqlNUST4e7kv6pHSJcovpHUY0cV8t5Nrdz6tGhsnElmVzyaNA9Ager8JPtZ5pyI1Vnz0+PsRC/taGK0zOC9aGPVbDr52778E9m+ev7pT76CrCaM9UxfJXSkvX2p0YqCvX/ELj8s2xcetit9XVIGdDYZNw40xbKSgWoa7O1TU5N7c1WPCwSouTLsu0tzo4PL8MZHdZxZyTXedzAkASOuhcCcPPaXKdu+qF05fbGmxHT8PoPGCAqF3FdtvLq79GAwhVkTEnB1ZB4ZmUAxaHDGaPpkacfCmte2wuXPYQ4BATCMSAyAYWff889OvDY6dvy9hVNXPJoJNIbZAAZi0IGVoVZbii17b1ZdKQBB4wALAGQABASPJJcAwCWDEdX/STlqT9c/gacAAAAASUVORK5CYII=\"/></td>\n",
       "      <td>brain_tumor positif</td>\n",
       "    </tr>\n",
       "    <tr>\n",
       "      <th>51</th>\n",
       "      <td>/kaggle/input/brain-tumor-detection/yes/y1043.jpg</td>\n",
       "      <td><img src=\"data:image/png;base64,iVBORw0KGgoAAAANSUhEUgAAABwAAAAcCAAAAABXZoBIAAACSElEQVR4nH2TT2gTQRTG38zs7GY3GzeJbQitaUCollKUIo1UxXqwphSUWlCspghCQKUHwYOePHhWCp7UHhWqFPUg+BeFgpZ60CrWVmhCgtWokdgmJrvZP7ProZukF32n4f345jHf+wYh+HdxjWNo3+rmnPI0DwAA1BidCgBya3iSa4sPDAh0+kKthVyoJOF4JN4R7B/cdRSNh12IAQCAjEx0Gt1KR8LhghXh/BlxbRBCAADJm91Sq1UIFDb9bGZ/jOnJYwAAsKY8mfAGMFJA1M5l9SAPY5cbcKwvC7jKtKwl+c6KGjfYP8rVYSxOpCoSI11zqv1SJBJ/b+J0baazXw+xoJmKSj+8mMrLxGqaGT/kKkfKVoFilp7FAclzqiIzKKRu1K7Fs61WJad3HV4UvPYdIhGeP/K7x4UxT/EVNsxovqX4lRCqboxW/Af2uvBXlQ5hASxiUczn4LGeCqbfGC7s5ObLjDcY89OQoTgH51dIW0sNPne2bGCOLHDQZJpMI6p/6ZbnuvuUhLIgMh75BKppPqarBOvylxlXebssEAk4taA+5JHhMKKqL17XjW/P7Ma8j4CI5rYSVML+qSF2t2Zf9kRRIWXHQ9G27bjCyh9V/X7dW5O8L3nAtqufHyxSj+ENi8NmY59OpJ2IHHG+Udlrcuan5MV1+0R7MrTkoOVAuAy2lc/0rU8CwA4UKcrCdyIbFq/Kj9A6JcDb3vQSWXW4FS0UI09qYa7n8BrZWYUr7y719qBG1UPtXG22sb3w4Vm9g/73Hf4CwHnTiYuZQigAAAAASUVORK5CYII=\"/></td>\n",
       "      <td>brain_tumor positif</td>\n",
       "    </tr>\n",
       "    <tr>\n",
       "      <th>52</th>\n",
       "      <td>/kaggle/input/brain-tumor-detection/yes/y1044.jpg</td>\n",
       "      <td><img src=\"data:image/png;base64,iVBORw0KGgoAAAANSUhEUgAAABwAAAAcCAAAAABXZoBIAAADEUlEQVR4nCXLa2hTZxgA4Pd7v+/ccpLTmKwXb9Gls+lqE6tNK2hXR6asSy0yHKuwwQYGNkfHZDCRTVZwKCgoglbdhv/cYEJh3tpq66BYCsOtizaire0c07Zp17UxaczJuX3+8PfDQzTHAgAAYgtoMTSRFigHAK44GigeREQSdncDL9pcB0hQioiIWulLhDYbNqibBKFcg42CITJExODLSQHOl/EtsXDibt/h/Xf9VQC7NWQSUVieZWU4TdP6ws1fZ/tDA+n6ZxebByQbZAQAaA12TTTKI9LxrnfoyY+iE2tjt4RGkXOkeWdpsH1+uP6h70yyyylu2nqvYWjnLuviBocwLlWLIHQm3udP9q4L/J35GeTRt38B33pDBUSb+c7OnW7I+/dVjH5//ML/oEwP6Z5X8jk3EE/xOfs0xPtVr1x7dG+ybHxb5c2n7/VEYnFTYVxiymi+UAupeM1bD4TitS+GLX7Fn7XNEoN4cqWd+9v/08zNc1P/HOzTzI4OYZlLGrOGCUfH+1lHXTqxcO7An/VHsj+4jYOB69lmly+gR5B4nwXT3w093rOQnX73YZnQG0jV+QfGMoeTyXEXM0sm2aS4XmlNDxaMUO/q2bpcrO1O31/9Ga+JNMMsadmH8oS/+vKl+E/h6jcrH49db2oLiXkH0W0G9j1a9ftrvxkz979sbpyasStmlzcldhgeQKtII1UbO9vTTaGv75SrUSXMHiRblTVXYIkiSq4bvC41eqb3Mj13Cy5UfUMtJkdxhNgczYI+WTludEtLPd+69Scn5vVFX0XG+pdxAsT9HEkkvJizTbpq+nzqpOnPNdxe2Z+nCApyDr4fe0RiWGzWGhz8KgJOX+0RnQIAIGowf2yurLyhxl7xxsyKz1NRO7YtwlYzyoG4daVAWq6uDVa+/mj7ofgfLYvGDXFEAgDKQKPAqKDtipScCrZ4Pj7E1wVepYwxylAFFQBkAIDNqAJCXF3DtzDGGEWiMgsUW0dHRMmZcgFhJEqptlBT+sEnXkJELSsXA0+LXt2RdabmCTpUR6C6QKUXHu85ddnRO6oAAAAASUVORK5CYII=\"/></td>\n",
       "      <td>brain_tumor positif</td>\n",
       "    </tr>\n",
       "    <tr>\n",
       "      <th>53</th>\n",
       "      <td>/kaggle/input/brain-tumor-detection/yes/y1045.jpg</td>\n",
       "      <td><img src=\"data:image/png;base64,iVBORw0KGgoAAAANSUhEUgAAABwAAAAcCAAAAABXZoBIAAADGElEQVR4nAXBW0xTdxwA4N/vfzvncNrSCxQmBcGCuGXeQKMgUUncA7I9GDRmoDEjc2HzcXHxxWQmU2OyTGc0ZsbpgxqNuknMNomdMyCocZlyWUGJsxdmJ7S0TFqg5+r3IQCTco45S1kAoVOOMC9s0+KGrKMFIFEsBeajQMBRspMQCQtlRSlAwRiD8oiSkuWW5tu9imRnhLYplpklIHOqSQjEkqUtDNOl0R23QmR3uC56p/ExoonyPAHikOxIT1Gxu+p85dB+vv6G4RtN6RplOkXglim3R7becU/PsdDqDTj+3+Klg2Z6QslwBjqEWzZ3hJSZao/ZXp5LlizUOZ+Es6gqOoFSXHWUJfa1wvirAtmq3GO6JzJU3HZPcyQwucxaOdmXr9glDf3VVZHsSaRciZrmrT6/xybg/KU2Htw3O1fRedg9/c5Y6uc15lSwgV6cecUIvlnV0Ziy/xxy+dbwb0fme9gYeRntqz3nM3Ris9zzM/7+939SrL104EffJ1fXVr9XG6i+8lqiiP7B1s8zdlHZRDaaFs3RiQvnavqmamb3I3Jmi7Mje9VbBYeaY65nJdrfyS/ujgSrDi+BZc80AvrNVu/y2D3lIT4oE78NFz/tzXouXQ/xIGEMnIsdVn3kXxVcDfPfFzxqb1D+cS36tPtQD3ICiV6xva27/138IeaFNzc3JuhO88WW0SKZ2wzq73c/Pv7VQOLLcD43/M21o1rjVLx++IaUB4qEG2VxPBBqi3s/PP3SHxlcX1upjhee/O6AZSNS08nWFT6tyxPh/eBizZXOu+WBsDpkvWBAbA+yhU7P3IZAxLx+bzS+7XJ5MNl4dcdzk+gIkhaY1M5+1trye4z+0ekdM7Tli57EZ4y0DQyBvC5M6Qeb8qNt6f5T61Z4Pv71SHESl+T/FwAATsmHWf+JqWNd8a+PdAzYnq4cc4mALAMgOghQWAuKb7ULJKhyKmVuKrgqJAJFNqNulxiEhqbpppVCiXwkzy6gxnS0ABh3UPAQpjo5kx2gsgAyToELYAiSKWeBUzDAUHOKTg1iUUbyCJb5Fp7BPKVQOEV6AAAAAElFTkSuQmCC\"/></td>\n",
       "      <td>brain_tumor positif</td>\n",
       "    </tr>\n",
       "    <tr>\n",
       "      <th>54</th>\n",
       "      <td>/kaggle/input/brain-tumor-detection/yes/y1046.jpg</td>\n",
       "      <td><img src=\"data:image/png;base64,iVBORw0KGgoAAAANSUhEUgAAABwAAAAcCAAAAABXZoBIAAAC70lEQVR4nEWTW2iTZwCG3/f7/zRtc25ta9vE1VlrK1ZnXHQMtMq0Hq4mbG5KOp0injYQJ8yLwQbirgpiZQM3xxh1sAOzgw2q1tOFRdhsGXEtTdeZUrN20Wrz5zfN6c/37SLCLp/34bl8CYAKAEAQSsgSlBb+D/UtZqGqfMBlQLcAKvB5ya3J0wWtL/GOJ3B2/EZZDtQslmo9dHLoWPOpaGX1pmAX891hHYJ8Ltt+vbX3W2kOy7EX9rbLnlee7Q6RpA4B2bnP1r/i8fTFB9U1wfzLQ78c/2zP9XsAqCmoP/48u2vsje5aLV6xNFLfMP6wJSetawpClwiMTDvvdcReSiFV366i9tXbyk5dPaMAelKqm8XJfFnnNxun85eOpapnA6MN2Zau8pX3hWD4xKjdUMlrtVcmbDtcTlMV/Yn4/Q0fjishxV9T5eP/EmZmiS3oi0amnFMZvy8T3/42RdFa2vHmgf1OMOUzfwdObP/HGVscGxlbN6HRa5ni86eDtQ75+tfNHwyGok/8wv7T0BJfXe+gkIWr+GFiJ2b/3tK4dWJDcq3fXuaYcZhrLj+CKFrz2lrjTtq0XTIcbXFXSpsL1G1bmP05vEAXuv1Z8VFVlu4VtxPatEfUNKUjuVty2a7v71o6c9/xxeGQrydtnGxHtDmvFrU+ORLInjvUL3W4Ah1b4vacf2GwFdkWar70XDrTYzszKilk4atP32/jsHtmUbORKFIxUFFxpYlVvQL0GCLWtH75nKX5N2967wsliEJqvmfM1kfQawAX1EDDZKZWCx1NeG/ugMUDy1Z3OqRFb5K0ugLigcrFDoY/fk0FG2UiucZwWlRCUKNW03vX41b7Lgx22BeM3nj6+HSuwQsFYSld8Zz2Y6S18ZP+L13xkRlz4GHkTmoWID0GCfurt2Wxa/F897v5tyo3unNFJzMKgAckKXCYB+vIVdzf5/itvFIAJOEFSZKg/EjuDE+ez1MIAiAAd+kHACmEoBCaKAkQ/wEMATi2cY6JlwAAAABJRU5ErkJggg==\"/></td>\n",
       "      <td>brain_tumor positif</td>\n",
       "    </tr>\n",
       "    <tr>\n",
       "      <th>55</th>\n",
       "      <td>/kaggle/input/brain-tumor-detection/yes/y1047.jpg</td>\n",
       "      <td><img src=\"data:image/png;base64,iVBORw0KGgoAAAANSUhEUgAAABwAAAAcCAAAAABXZoBIAAACxUlEQVR4nHXFT2ibZRwH8O/39zzvnyZr0qapTf9sMpO6Np0wrXMgVDYUGSrYk7sWREWLIM5LVRDFg6fiYYzB9KI32UXR6g6TSgUVwVLXba1zunVrl9ikTdb8f9/3ebx49XP5gAAIQkAhSQFIKBIkKRZWLAzwSHlsZzkiLGmUgbWahl3NqLsRC17Z0mPDqYtyZLUtNIBArAMj8vz9jW8j9eD577vn8w2bpIJvaamsSHjk4FPrt1I1Z1MPNQ4dOpe5VDNioek7QXvi5ddnmqWejH9s8VaXK/mTFxd+FNeGOjSRPfzGSgfoK/YubXm5anX3va+PKycwil4Yjd0+VZZsq4/h+PAno2u9a89dP/fwb9pqxlp2PO/QQ0+pMak2KkG/rEyW9N3vFEPpCK9PFu6JSX7WWV+oJfhWJVuO138X6yk6Nhw52VN3f356s5xWncLZ+ud116A3eZqiEapGdfxG9Ox6YgRHT82f7ktt16LR5KdGGbqhGXz3h4nyQLi1kXEmVh3P1Zfz08eIfXUJOFu6sPPL3vr+jhdNXyqq6p/maOnjs36yrgkn772/tBn0TQ+2/76jsLw7XDqx3TObHL7Z1LRX932znIs/kVSJoezdRxfSlanSHznbtUYjgmD3zGODkYxs4oBTmOtv3NeceuDXlIKBjgT5a7li5vGVwdqNnTup7FI52ih+uf82IULKm+7bN7H40PbelaC1d8E2uOt7lXdIoRvYg4XmTPpwohjL/ZWdeC1pws6HB9BfptUhbbnpr06l/xHvcnFruQqfQ2NpWzakEKjJ8SsvnKkk0tf401cj/mh/q9m+B02QRKyO8asv+X679eRi29Y+KJyY+4iWIEQpV8R9VfdifhbNL847yM1lNONKCKXFpQieGcjDBRAbQAJCKiEgEFFKKODMiwNu9wwSIiJKRASAIumSJBlnnCAB8L//378cEyBqGCXS+gAAAABJRU5ErkJggg==\"/></td>\n",
       "      <td>brain_tumor positif</td>\n",
       "    </tr>\n",
       "    <tr>\n",
       "      <th>56</th>\n",
       "      <td>/kaggle/input/brain-tumor-detection/yes/y1048.jpg</td>\n",
       "      <td><img src=\"data:image/png;base64,iVBORw0KGgoAAAANSUhEUgAAABwAAAAcCAAAAABXZoBIAAACdUlEQVR4nH2S20sUcRTHz/xmdnZmdtff7mqzuu7oxi52UVy7UEkJWoRIVJCCQZFQBj54iSIyJAJfCl/rof6DSNB8KcreyqIQU2QldfJau15nd93Z2+xcerDIEvs+Hficcx7O+QD8J8SW0misHH83RRjbm+4bbSwAcDjd3vYPmw6bcyovPuHBdKu6lprv2bLWKboOmYVZa6DnGinasisj3/Ui/Rf0vd1dUayQNKBVe4LlcEQ68VgsDQEgAGjuFgoJzIOB8tV8Eywsu5fWO7o2J8mNA+U6ZSYUNUr740mTKtksM8MJWgMEcMNb8aGAYvYlLR4mXWRPWnPljKfqdicAATB6uF5fEHIoS0hns7YoQVuN1IY+EHIDAiKgSWMeUqYli4fNiyyhcFJPzQE4KUBgAOc6itLU8rd4LAz8DK4gM5qPJU0kIIClgyJPs3zG4YjuCoWERBAbjI2ChxlAYH4+xK/6adFiX43DHmuNzqTWOMGsCRQg0OyQkcej6cINm9YkcXYXt+YwTa17G1VAoF7RzRE3QwWNrH0/iZPn2rA2kWXCNAAC6Oon82NxnCKP3cGotSb5Usm6UaJ/AgABPBgUSbmg4cLdobKb5SO9b0g7nnREJgMACMCon9BjBir5JNSNiun4+46VhG/+42V18/C1dX38Yvazb5g5eeZ1zvUmCtTZlkLYhGpL8ZzzlfTsrKv9kWVlwKo48TRWfj/bdPV8t0PGTSW9w4o3/SNXDo7l/RHMD+peVqc0bo2nJJ3Xqpq32odfVBNHGLly2bWw2EmcKk78pSbq6y9bfxqjlHul/slL27x1tp72fvl6PDDYoO3kOLED2J6f+ofxAx4rIHsAAAAASUVORK5CYII=\"/></td>\n",
       "      <td>brain_tumor positif</td>\n",
       "    </tr>\n",
       "    <tr>\n",
       "      <th>57</th>\n",
       "      <td>/kaggle/input/brain-tumor-detection/yes/y1049.jpg</td>\n",
       "      <td><img src=\"data:image/png;base64,iVBORw0KGgoAAAANSUhEUgAAABwAAAAcCAAAAABXZoBIAAACvklEQVR4nG2TS0hUYRiG3/8/Z+6OM44zOpMz5TiSNXkDS4uMXGhB2aZFYEQYlZsQJIqgVa0KWgVpZpdNCS1ECSohzC5QaRcvGeQt0/E2jpe5nBnPOdPM+VtkmNCz+eB9F+/m+YB1KOUB8m+wdrnMS4ELb2sPdCqhk2ozNrCT5emufmrfu/X8jRMGVeNaygMAGOkZOTReVyLlREcDsewZQ1QTx58Jw7RFfTwSkWLhAu2veO64WnqR+FjGAAqoP1tozSq4fY7KCkevt9WstxXY9rSaAAL07C4vSrpfOlKn9Eka3EItIyHXbBcnWFcp3E2J4nj4VUJatGiNOXr/TEhVLW46eiXLCYrrj4tW37uyPCSDyCNzSqJMUPoT0cjdKEBRWLkjVPFTK2/TwlsRdTm+algyxOZLv9zkKHJupQkzKwuyuBR415sRkkxLqVKhaPvVHlYox9wKRML0y26duM3H9cfZcHwqhbO6xhhNcudCuSRdEXVjbVqfcWpRyrfyGmOa6kMJoahuciZTZd0KC2HIKY+ncH5XtvAmGLn3gPHwN3xOc/pIZoqVLjy1zzX2p2epjPYA0AaKob7m5ESGKrEcdCRVy3wgf9Yg35ctg7dBCSDVz3TWD6rsS9dqbcHJM9lV06Jc6oQhRnhA62J181V97vkJr10oyHZZJdkfrmuRwCig8+gEvb9oydxh93iXR7trpLyJgu2Xk2tW+Jqf5dN007jTOCgt7sqd7bl4JEuZXyt5z5kBUZXC3BHbSs/mBbFYajHGFIASAK+Hh4pPm2T6XJgw6eV4xmh01ayAcAQAnAGvK8/n/iFopjfHHZ4u84DoB/6aaMz1hQu36/Hk7CQNBn22Pj6xXhIGo35LurkjftDUrX1YM7fuJQeg9Fs5//3RnRiOiaf25/1rLa8BzHwDphkTrh62qg34D4Rs+Ab8Bqt7JPujJuuiAAAAAElFTkSuQmCC\"/></td>\n",
       "      <td>brain_tumor positif</td>\n",
       "    </tr>\n",
       "    <tr>\n",
       "      <th>58</th>\n",
       "      <td>/kaggle/input/brain-tumor-detection/yes/y105.jpg</td>\n",
       "      <td><img src=\"data:image/png;base64,iVBORw0KGgoAAAANSUhEUgAAABwAAAAcCAAAAABXZoBIAAACbElEQVR4nDWTy2uUZxjFz3nedyZzy2XKTGIuCy8RSwuV1uJSQSy4EGkLihRaRNFV/4Iu/R+0O9FFkS5U3BRK6VKELsRr1NHGxA4hYxjrxJnM5fve97j44vY5cH6ch3OYTAAIjiAoCgAECACceQD0BCJgMouIAkgAwQsQAcpZZb+Za7/sBYmgAM9tQx4e768tc2LP1Zs3+xJAwZBR+F3n76erB0tHej/++4PP2KQqkoFflhvHgN7dvbumruW/uZ5QgAyCA4tTd4YTIdn7085B69RW47gTAHgAYuHQ0vcTzcn12B2rFx+evjFrEgQTCYw6rZ1lP5arLOfi6/mtC3+ciBBgBIivn11s/Vd7s6+8MvN2OpeunKtCBhpAuFHvcu2L92PP+XPFbbaGc1ce531kFiUZHzvbvDcoFJ+rodH0sP/LS4Ysp2Dd881hrpv3LiZltovDS9VZA2ACPGu/cm683HWlNpSXH51MUyF7n8ImPnlQcifnXt0apRrkC/8k6wBlgAVzPeVd7QAXv4qFfn8z3wxGQ8ZUH+3Fhc6g8P/CZkef19prLlWMMEHILX16bW1Dg7S5Op2k6r4o1WMAYQQwGh2d77/pPeo8aMxIreqr4oYZCC8RzpYr9SR3fXd8H0jXD7VlwAKMFITXnb9cUni6NmWW7nqxVYlRETBEKYbGgdZvpa3JmaVOvRrfffaQpADGCkgx/fb++hl7F1s75n8vrkRBgDyzKvon+3a05//0x24vjCx+7I7KAAhZbnFdrpAOq72NqMw0E0HCWX12dTJUnsUAQBC0LYKERQs+MpAxK/72AIAUIkQZ4FKf3fABy1Y1yKN4vD4AAAAASUVORK5CYII=\"/></td>\n",
       "      <td>brain_tumor positif</td>\n",
       "    </tr>\n",
       "    <tr>\n",
       "      <th>59</th>\n",
       "      <td>/kaggle/input/brain-tumor-detection/yes/y1050.jpg</td>\n",
       "      <td><img src=\"data:image/png;base64,iVBORw0KGgoAAAANSUhEUgAAABwAAAAcCAAAAABXZoBIAAADBUlEQVR4nAXB629TZRgA8Od53ltPLzu1KwvbYAOnBYsDNwHHNBhhEGckGfUS1CkfjNH4hQSNRj9oxH9APnjHRElQo0FRiVGGIN4iBi/DLduYq5SB2Lmu63o5W89539ffD0FpCCI+WuszRI3MSN8SaR8tJwgIhAhZ7a/TTlcmyjUH9OtRIQAIQIfBX9h3+aa5rvaW/ELtwN0BIVWDADQHZupONdfb4Gzueuu/1w6anldu+54CHi/GFhE4BFIsDnjN+K/49OnylNvNL80fDVhkjggo4H51T3p6JBIrbbo6VWqaHJNH0No6RgmMGDx64x1Ne52gea680Lru6kTjS+oLDTXyEHhb9t24l8wfKfZWSO+OvmHcuj68ZViyIgdzM/bkxsK06zdTHN35ObaL8bI7tuzaeckIafRA5aMViVpqV3rhSldt/OVcY4K/mOwQSUPWnnxopJ9N+nHzWPL24+b5vy/9JbxzahA8RqBPiQuRSvTcfHHb7IeHh9/fmrZjqet+SfrzBkE80OyxPZ89fmzN2+7kWlHhzumh51CczdaRQP1+qOXs0N53ChfYN7JWqFxT7fl4x6H0n540CAqWxMZnJsZbflDETw/OCbVq/et3PoXtOckBgD9ce7PWk18L0P3z6mxb/p4/bhleWSoon0Cy7z6ox5pvYP+U5L2z76Urha9yldaDlytLQKBFryezna8+6Vxc6r9rZ7bY+mBkE2bupxghNNZ9P3Ffw5UZOJbp/No909FXxZXnv7RoQwjSNlQz+59NFdRMeVt5WpZMrcyKfSemtUtg/eriExun2md/cujHUbclLsoDv7LzFxV6BCg122p3j9zaNj14asibmOnY0h06PpwKrCFAB6kJvTOZzg0noC8fl9eL7ck1JgAOAMtBJFj42xUD9pF9J/d/8mi/ddrWO4AxkgCNUkEogdtjoABApDar1jAqksAlAAnOuQIReWFVuiEBKrJBcAyHyBEKwA0Tg+URWtYUjoOCuAuKuIjyEMQQVMDBaG7RkLGWa2EgIERrgf4HeYhAOT0A0uMAAAAASUVORK5CYII=\"/></td>\n",
       "      <td>brain_tumor positif</td>\n",
       "    </tr>\n",
       "    <tr>\n",
       "      <th>60</th>\n",
       "      <td>/kaggle/input/brain-tumor-detection/yes/y1051.jpg</td>\n",
       "      <td><img src=\"data:image/png;base64,iVBORw0KGgoAAAANSUhEUgAAABwAAAAcCAAAAABXZoBIAAACt0lEQVR4nGWSW0iTcQDFz/f/vm3u5gWd6ZyjoTkdTsPwQS2MZiaSlVJpIpk9WQ+iYJgYRL1klvUg9VD4kGYU1UtIJKR4QcE73vE2bd7Fy9Q557bv+/egD1rn5Tycc57OjyGCr2oGEEt29gmlIlA3jslT4g0ASN2lrjEojiTk0O1VFAA0tJwen0K9MkMCFpqo8yq9QpSUyg92DADAEizOZ8UB85XxGSd+jg3wzSYA4AgAZBmKk2WsU4+aENaxejIp38QDQAwB8OBzYeftpcA93mt6JvKP1GTovVvxRsKwYQRIr1jFqfH7G2pXhylu0J0Q6vW2p8t7jvJDDDz2pM7zjFahEU1cnlBqUur7dD1w1a7IwTGAQyY4RULMxZzoqvq19MnUIMssHdS/2gUI2A5RtUhI1L1499U6WzqYmFVyRobsrXgnwIG70PC6OHrbdbPbViA1CrUUfUX39vz6RPJdAqq9nrCxJbHRYaNZCM/U/HhiYetaptajHeDg0xCUi/5Ip/nh5Dk89tXs8/O6s0MRjB8PBqrlrLpM+6/FUhLnVrOb6qVFnxEt397+Mg8EWzT2mq3gWbLWFqtSmvPdDi03avFvXM8DOLgMywvPpzc9/JNmTr+vFHT8wEiy1R7VKJU4GQArSj970UbUgj7QnkM+zSnca7LJDwXlDDgigOjTFKJ4KRey0/WxrC28R8ytxPRmBB98Lddp0jzKxvnF9AjF00arvt0g+3bD6ABhiAD8Hpjdzh700Zptm4xcDe922twNgBABgGk/17PVMNxvETyJNnS2U2ycpgAEjqUCiGD+UjCljJ1s1bhjq1PCLgW3qACACAJAa6zWNgnd55gA4yOPhibv+sS1I4RR2uNfeOu7qMWzJF4xYfc9zqYMo1Qlp27wtmUW/4r1B9R3EtgAgAEOoARH/i8yh9lfB48aEFuqrd4AAAAASUVORK5CYII=\"/></td>\n",
       "      <td>brain_tumor positif</td>\n",
       "    </tr>\n",
       "    <tr>\n",
       "      <th>61</th>\n",
       "      <td>/kaggle/input/brain-tumor-detection/yes/y1052.jpg</td>\n",
       "      <td><img src=\"data:image/png;base64,iVBORw0KGgoAAAANSUhEUgAAABwAAAAcCAAAAABXZoBIAAADAElEQVR4nDXSSWhUdxzA8d9/e9ss782SWWKSmkQTJdZIqIZimkg1iAjWk6BIe7NFQYq2pS3qQWgRD4J1w4tFLbRCborgvtStLnGJW0zskHR0mkmc5s32ZuYtvx7U7/Vz/YLKVqjqzDCTQGUcJAZCIfA+AZQHKaEAeBqx4iFg+gP2zrmmKpFAooCYWbcIcD9cOJiMllsJAABVmQjy71//1Hl158rVvUc3uZcnvo22jmLARwiRmGtbv3y3OXKtasZnHThhTjH/UGzGBu5Rj3ro85Qd2zW/DZrsdj03elipqzqhucQT1AhHYdnx8dBxJT/Us/GronP5Fn1WL32knAGbSDWnX2vG2G9qa7z1RcfiS4ol/5vBltL2jhy1JefpwvY5/vDDllIyO3Rv2rRNKaxaue6nZRpesPYLK/3McLswdWyg6fwbX7zqy9eZQROR0lsHkolAzdXLKyDDty2dO3IymEu+IYW+xxrhRe2HUX9djLl2rW2V9M+psfp45QGpRM19gtap/elENxmtuRTWSNUjekcAimEu+c84hMYS3yidQ9fbMay2bG7bG3tVsa5NiZCUAc6old3TVG6ed66Qm12W53fenG0b/vxdkY58jlVacOb8mirpS9pKmXRq+EG/VfMZpYbX4naRILVhT2M0Ne/JCBQjY5t+9x5ZfxZ1eTI7eLi6hDPY+kmtuaQl1eGGV4Nrsz6345GRMIJnbQFE+fj2lrpB3YXk+BOl/Uova8yWTWFg+Ee9TJRKYdnyYmjm375s/ZTVUum78Tg02l08dT6CQLgDu5Ux5I2YnwgNLKL1jdW8XYXUHxSBSIi22JicjIv/RoY7m18uHI8+5yL4M0MAih4j+1/qDbk7YlbPtGMUsiMzZHNXLwAACeV5+4u8+LqG3G/Ov+gLVNqG799DuQYAQAUA0dHADZ9uW1z6cuWhz6QsQkQi0xAHRjjIkv6XjYAW2ugCOgDED3PlJhCCgixzrslHAK7fXA8XI8CAAADohCF4EjgECIJwPWTo4tvdJz/8H5tuSxaYTJtGAAAAAElFTkSuQmCC\"/></td>\n",
       "      <td>brain_tumor positif</td>\n",
       "    </tr>\n",
       "    <tr>\n",
       "      <th>62</th>\n",
       "      <td>/kaggle/input/brain-tumor-detection/yes/y1053.jpg</td>\n",
       "      <td><img src=\"data:image/png;base64,iVBORw0KGgoAAAANSUhEUgAAABwAAAAcCAAAAABXZoBIAAACeklEQVR4nI2ST0gUcRzF3/x2Zv86686uum3trutabSCmLiWSkVAJdRCCSIjCJDrUIQILL0FFCR0MPUh0kCLqIiF1yItGiPSPrCTKjCJ3LMdNt93Vdf/MzM7OTIdANEJ6pwfv8fjC9wOsI2rF6L75M41Cf4QW9b87xp7EWRDQLCXV9hrWZAyfQUV124UwjCcbwma9Y9UslyzeZTVF2c2D4vFvlpT/jvZ250o4W75n03euKO16HVKMcqmUEcfmPAAIYLl+xeOaLLOkuEJAKHFycZ7ltKfvjAAFmDLuQzll0aFogj/43u4m0SWjOp5zpEABnYM7+C1ydtuCptAqsSmKLc2J04nHIRCgNpLZ+MbsK2IYnaZdRGA4RyHmXnAAFKBT+zJVssFoVhQLNQU3luvvarUjObNMA/D6RAMp/aIFMrrZP8OibqwmT0k5GQRIqElvNi5tUL9+cvFJq5oeCpqrWf22DQTMxZght8hOiFt91qjfUbfIVIm6qBpiNhAUmu3mRES2yfwvsZ0PilYpIbhTSfVaDAT64aWUUBPgZcXb5PrMZrubtbLvDNNQAAgw8ECuScbK7XSDN9xrbbo1zphUk9QBgAbaWwTWku0a9T18dKryGReM01Ep/2Q/AxAg3xqxJcwU56RbJhZOlIy0JYh3ydlpBAigt14aYn+kpek5ZXv9cODgDZMnM9RD5QECAA5PqLjv56ujzv7uytGJirgcENWVf5KrB05XCMU9nuGBF42Um0+lpgzan4MAjWlyW/1SV9K+vJeIM9ngkTJtFX10xOepng2Fs/PCx933aMta/Mhl/dxNGoQ5/1L98A+E7z8fHzs2qfeth/n/6jfMxQG44wlZWQAAAABJRU5ErkJggg==\"/></td>\n",
       "      <td>brain_tumor positif</td>\n",
       "    </tr>\n",
       "    <tr>\n",
       "      <th>63</th>\n",
       "      <td>/kaggle/input/brain-tumor-detection/yes/y1054.jpg</td>\n",
       "      <td><img src=\"data:image/png;base64,iVBORw0KGgoAAAANSUhEUgAAABwAAAAcCAAAAABXZoBIAAACeUlEQVR4nI2SXUhTYRjHn/fdztlx05nb6ThJbTrnVm3ZDmk5iT6ki7IPpcKIuuqiCzFaXXQlFQbRB912o0FfN1EGUV1EWphaoCMnObW2pEFu6tzc2dlxOzvtdDGdEAb9rx6eHzyff4Tg38K5SC1XSrKsXwMizVjCLu3Yu8USz6gVf8HuxrpK29RGnvWWmnkXuQyVAABF/rZeNsrvror8tjpLS5JJvAqJT85z04SBw+F0gHqTklrKMqS0XFa+3DDxRICELqqd1SX02s3vLxwcWumpcSlATYkquShcqkJUKlD+nPQbspDhG+OndUJB0iMuVhp1EYOdFM8+ngEAQAh7bFpTfgabuTjxbQM9k8owYWpALkgAKAGCV91JX0nELwpk1WzIKBCcln/B8ggAg2J/1zxdvN6IR+krk3odL3BDhHS8wQ8ACKpNVN+uMElGvSrzmc7m0K8KMWCLNy25ADAKeMaPWvNUc4pNsfyb814RUt9Nk5EvegDAkCRbB4Pij2JUrvDtoTOSspBya1qF8wCAECHCCW4urrxdW9E5tuCrWfRpp9ULjlERAAPy9YaEA1L3o52mp94hrABsBtVST3ZPxNbfq2OUU8bPkbb7h2eSR8Yj/lOxkUEAwCCPMDRDq51yYdHrkaYg9eCdRnn37cDybZEnlo7NuYMd9S3Hejq3p/VSbXU7sfKylynbNi5KNhPPpvY5r6uti9fAkYPiw/GmYaLwEFfT3jdB5ZGi4xakswMBgH1df55TDlWl+hyOVxcvWZiPWU8iBAAgf2VLqNqfmuGtAt1vZrtW/IqyunOSYQEbTB0fcimEchEslckei2y7YVyF6P8cv4b+AM4t78wSAQEhAAAAAElFTkSuQmCC\"/></td>\n",
       "      <td>brain_tumor positif</td>\n",
       "    </tr>\n",
       "    <tr>\n",
       "      <th>64</th>\n",
       "      <td>/kaggle/input/brain-tumor-detection/yes/y1055.jpg</td>\n",
       "      <td><img src=\"data:image/png;base64,iVBORw0KGgoAAAANSUhEUgAAABwAAAAcCAAAAABXZoBIAAACl0lEQVR4nGXSXUhTYRgH8P95d87OnLPUzZVac6EWUqbJZomwFAyKUFllXWi2wPJCsdA+vAiMUG8iusgu7ONGEqUcERWmWGpfuPIDZzg1ijWm5pja1Oa2jud0caYMfO7+PDzP+8EPZoQUDUCyHoiUgFoPJTWkGBKpEMaKmedhFpsEluqwdBQDl/CHkgf3mCkAbM59FnQh5PshCISPWDQBAE0DAHKKKqotSs44c6Yd5gu1PlNrC3iAAICBHvVPxgqeVbUTyPY7DmfqjXzwfpqMvtdaNUcit7lVzbrEtQBtHac4GfOPBvArwUnZnYoYhlN+sGUsUvI1vh5qjqMJgBcOni3o/uv53lb10fXAy9LO+U8DC17xzCM3j9WeDygY18rJ5TfGXRJ756RhkBEICIDwe/kuaznHpjZrYht0lM+TWTrS45YLhACDiKgK1M0EXFn92vq2/tanj7MWbbIbKlYgQPKBTJPHZpVNjWxJfWWa7jib0zI+pjm34icEiLB8mS5LObo7D+7OuK+HbpfYDZWr3rmhnQIBCONONFMShvhSoj5HLSnfJ0c+vNV0vNfBEwB1K33fwufHXSnxTy6uRqX1VM7/ICisEZ/yO4MMlThlSdYrioEW/SPt0nD60fYaTvy+pG5V7jvDALUcndBVNmFQN6YdrBhmiDhpnA2f009oyYRDW5I2u71BNVpupQkvTu5x24pZuUtV2Tv1zPtS0pjRFRB90ADCon1tWVDo38YnWZRFSVfHLu9zilLMFDQCrkfSpXl7ubtqjGX3QHgewkQgALNDd1q4dopduePNpQgVYujEQsfPGIAFLfg5e5NQEAoM2Cpw+QCEWQkFSIOKSRCth6J9rE4ijeMBElinbN5Avakk9MaSzT3mP/Of9XK1kWOEAAAAAElFTkSuQmCC\"/></td>\n",
       "      <td>brain_tumor positif</td>\n",
       "    </tr>\n",
       "    <tr>\n",
       "      <th>65</th>\n",
       "      <td>/kaggle/input/brain-tumor-detection/yes/y1056.jpg</td>\n",
       "      <td><img src=\"data:image/png;base64,iVBORw0KGgoAAAANSUhEUgAAABwAAAAcCAAAAABXZoBIAAACuElEQVR4nC3STWibdRzA8e/v9zx5bdM2NVur02a+dSsMV51FmS8buh1EPYiCWBUEh7iB7KwnTx48ePAkoqAHHVaUKThW2CY4N3WjdXNYsihrrDb2ZUmTNmny5Mnz/3lw98/xIykABAQQTAzDIg9idQVMBHAhEWEEBuILhPiAQuT5wmiiv37XsWQoGIQxAkUEiEnm0MU7/5kuLr5y4GVVhLiIpwJgFrx6eeLcW9mR2RPfl9+IMAB8wHmER76sfDddXJ3csXP5VOOxMxAkQAG12NN/X93/0eb4hSf7yzcVfmm1VFKApBFhYN/sc2f2t0qD/p+3+Rp8dv+1ppmsqWDWfXbq8MWxpZtXizqwvfLQnlCqICJqiHRG3/uq59aR+ckfJnYVnzhxcvW3gyI4p4KJO310X37menng41oxO//SvbdnC3FDPTVTF//6C7/0QCs93zqW6F3+ZO740j1NzKGm5g29NjnXUwj75lrbgsZMX3S2uWHqS1cF3MDJ93OpoKfpr/QNdcYGH944sDfuOUyVNleCT0eDZW/pp+DQ60fvbn5wR+nnRmqznVQjlb4lGvm2yPLjo3sz/460R8aChczgRg+hGrJZ9qbyz0x0S/P5zvDa9fSRKgsdTfhOwUlvNXcucM31By902qH3++fvHr6SdJFvqhCysxF0qon21qlLbnG9tDbcS42QmO9EPIp7Zv2VLdIcXvymsGsp1v9jmo74oWJG12sm60+1K5kdC4VwdcvV43kNha4qGB7F/Ixnuy99uNtVsu+cf+F0YOZMJQ2mQmdcnq+dffTa1tybj7R/TSBmVCQlIKhL6n3TL55qvl2ifHnFiRnUJSWAGF421xpaLOX83r+8rogBdcX+z0Ttj+3nt8XHM7WU6Y1gkkIARKSdbiRJBqi74atiZmoCXS8yry2eRIjnA7D+H+2YQfNVZfWnAAAAAElFTkSuQmCC\"/></td>\n",
       "      <td>brain_tumor positif</td>\n",
       "    </tr>\n",
       "    <tr>\n",
       "      <th>66</th>\n",
       "      <td>/kaggle/input/brain-tumor-detection/yes/y1057.jpg</td>\n",
       "      <td><img src=\"data:image/png;base64,iVBORw0KGgoAAAANSUhEUgAAABwAAAAcCAAAAABXZoBIAAADN0lEQVR4nAEsA9P8AZiF/v8C/wT7AAH9EPMAAwL0EAT4AwD0AAIBAvcC/wABDf0EB/4RBRDbJhrjWyTd+Anx+AMNA/4EAwL8+AT3CfwBFEvf0FzDy//FpdsR2PwT/f4KBQkCAgIEAQQQDdpuXQZBHYzLMPxbmc/Prhwu+vkE9f0CAgb8+g5V8I2sLDL03qjIBUPkXMRCQr897AgNAAL7+QL0UIIPabxZCtrs740vDAoBd5eIf6gX//YFAgP/+fEVCGiWFNna+gTc7sP+NBkB6ml9sGwS6vgECBXV0EHVnTwM9zID/xAdT+CpGmL18gDC6ggD/QL/9AYuI5jH2fDg/9buJzDOGgk08ucOXZib/gwPAv7sXwDLByIRHzQcBwOxQAzpEQUTDB3X+AzEDPQEACPGAVfp5vS9L9Kf4H5MIaHiJ/z22mPnE3AIAwQEGremAqcYoTz93Ds/FL8OnRCKI6fzW8gk5hoOAZmP2YgFywRCoQ0YCirKBxnyAMsO6VoJzZn/QtICAgcPd7Yt148hSh4WwBfSmgbNDyvIxb76AAATBwIF70IBR+YnOxwEFerq4jdLwRYPA36qCvUAAPv4Avv56z+Vz+Hz/dggQTMD4Ph5Ce8K3mIasjkA0QYC/BDlv0LVGORNLykMVVF/RcgPEHsF1ij4JPAg+wIE/zuZF7CjWgQ9wirq7d7tJ/AFdaEBzSOmxRsFBP/9r6T/xykw6OLTMbaW7rvmB9nvhp7gJ59GHv8C+/kjAACuMN5LJTm4QauhHNMM/vvLYra1vkP4/gQDBQpJtRXsTJA+oeQgLyz4/tIu+/PoZyvZf9L/Avv95rwB4D5QOxRROxSj6/j4IhcBF63Z4P2pBQECAP8TBT97vVjItx3gx7P9yeMeBy7+5MP1EfoHAgQG//cb4BsEMRuH1HHZuY6GH+zO8Xw4/wIq+Pj8AJccBS0eJ1H/diRZAL3Pu79MANEkay8DASMcHBME/fkm9Qn9s1lh5RRFajACp1cZMsBAQVTC/fAV/gQC/eoS4CUQxbkvXNckBU85OSEYmRP+0gPxFf/7AZiFAQD9Bgj7+gIF/PUa7wAI/fcK/QAC+QEA//oSVHGyPV5m0wAAAABJRU5ErkJggg==\"/></td>\n",
       "      <td>brain_tumor positif</td>\n",
       "    </tr>\n",
       "    <tr>\n",
       "      <th>67</th>\n",
       "      <td>/kaggle/input/brain-tumor-detection/yes/y1058.jpg</td>\n",
       "      <td><img src=\"data:image/png;base64,iVBORw0KGgoAAAANSUhEUgAAABwAAAAcCAAAAABXZoBIAAADGklEQVR4nAXBa2hbZRgA4Pf9vnNyaU6SpWubtq5kLFsVZ9ZoUiV2rfaHFHeRDaXqBqJT2fBHB7IoFqZToQUVHMPq/FEcuAk6EAQZw6FWLWy6drXTmdZsSWfbmMSuufX0nJPzXXwe7AIJiEhtANVWBWGCgKy7CJNEEECpUqqXg4vPRvTe4YgVFASoYSIBJLbmEFKYmZaPBs/cihRecp14ymM1e1WkToExKQEDjujQuYvhSvbFT2LZ328fDE9IhTJGpATZhufnUnMhumn35S6F7nrlq/JmLi0hiFSJzzpxNv/lxqlM4y/NGr2SDh65MOqybYVgDNH8tCe2Uwe3eWxAb4hq2yfaD8BhL3dyjJmukyM7GovEcF8PH7gyGamhv/Tz16F7PJQRcCk7t7/HAvWx1Mz3vWnm3+ifv5F+2dutCYJx92z1eKo4ndRpaebJ8/HIzbrP9dC11dOdlGLM6jQykUSp4rac8P5g3yJL3KRvHem4PicMBTzBwMPlpQ3hmpsH7mr9x+IT5O1fG07+PaATIv59JveBU6vlpcGrw43CqULgVMvCEAHCFOe2sfy7OZ9qO1pw5Y6ho19G949ab7YRhoTXeS73DXdcKm6uuB/xWc6SevV4Itt7rgpEEeoPL8QoeyCy8Pij46/u9XkaSh0fFxbnV3eASVgx5ppZUit/hdwfJk8Z8bLRWxg/48ndy7iKcTv72H9xvb9wcF/i7uwaAK60soF9fWs22Pigbe+GfKeibTAr3euzd4AtBzsXvhs53EJtInB9zx/eG0liTYWurjWVQOvftJB/52grtTkmbFCewLXJC8ODi9pZl7dvjjitz8O/bTUB8X7E1uKhP7eGUgHuCaSM6X6cr09N7V0FEIRIuWy84biWbmvUzdnSeDu/XSt/sWuVAIDCKUJ1Zttrlwore7oyqae3JHt6Dj3HFCEBsYs7FLY0OvTZreX09H0/wfP829Ovox+oBIZRUBlivlyjeKwdgpfHfjxqosZAEGSKpJYioTna7U927J8MZJpGdL+oNq2D5IhRBAAEwkH3EIG07mCSSIkSkf8Pn0xxecjEmxAAAAAASUVORK5CYII=\"/></td>\n",
       "      <td>brain_tumor positif</td>\n",
       "    </tr>\n",
       "    <tr>\n",
       "      <th>68</th>\n",
       "      <td>/kaggle/input/brain-tumor-detection/yes/y1059.jpg</td>\n",
       "      <td><img src=\"data:image/png;base64,iVBORw0KGgoAAAANSUhEUgAAABwAAAAcCAAAAABXZoBIAAADF0lEQVR4nAXBW2hbZRwA8O//P9ecc3aarqdJXbqmu6SXqazJZLZVHxwdypA5Jip7kj3ECxOkOAQHggMfRHxQQbzCNggos+oQFcWtjs6Js47aaefakay1LU1OY5otybl+33f8/WAHYcAUJIwxogKIJACQgDCNEQEjH0lMiCRJNnBh9I1H2gMBCYDoC0Agc9sQAMTywwWQ5/t9hdQbfQ96vCEyMxQjkQq2rJWoIvdC5pa7cv+lVnTqDDDiIPQ7oOfHXS17R0pdiMzGExeTzaXW5EkwWgj9AacrJLGl9B4DeSaz8NtB60z97zv6oxtcQsTG8uW0ebYwZZ2wxuoPzWSMw4dyD9S+TSCBe1YqfOTPr6xKrGp2TDwzi7xzZmj+ff/nwUNryOIouF/8805O6TaLg5OqklQPxHOvWAPMkVBexMORsPfk9UYox7cb893MKwtz/5o5+FFA8vZK+agzvlzTsKrUs/d5MV3z08N5r9ZA5C/3RN+3vRl2cf2HDqGzYv9aKVH16wKwlowCo0ulIKVWPFIc3zVd/YC4u8PUUP5GXxdFVwyNT64Uz/Wy4Gb8u7XmkhncWq5YNPXUuofC3ZL+8UB9f9gTbYZyrS2b2hnTZxJp96cgQsZcb+E5hVk1b3R05x5bCkNjo41fHVncYiCuxzbH3ypYotCZ0aXz946oqPR/Vnmp5aODLPx0rnqq/NqyVMNBZaqDs9W/7OPfZON8mCAkrlyLas+f0O3kDl07Ptk3b/Lm7d2V60E7RcIu3bWYfNexopvtzbNS2x/FUENuHihcLVERuGj0hWFRal+tStn0dHf3ZDB0rpzYc0QXMaKs88Y1//TpCzGx1z//rLxrbautbvwyMS1zMXQ3xY9FXdHs7PYSXfswH3/x1Yt1njv6UdKVYFuMAicLqWQQrh85OLbvc/NpG363x2IBqCjYESfO3tV8ZpNz+fWeY/uGbO2F6DHBI5xCr6eIiMTHItnfbKSnti62vnxymDhcpTKkHUknFGTqds09PoEhGVhPgvEfqoSrsM1RRIERDGSRRsgBXC2UFI4gEfgf8ftujWtUYIMAAAAASUVORK5CYII=\"/></td>\n",
       "      <td>brain_tumor positif</td>\n",
       "    </tr>\n",
       "    <tr>\n",
       "      <th>69</th>\n",
       "      <td>/kaggle/input/brain-tumor-detection/yes/y106.jpg</td>\n",
       "      <td><img src=\"data:image/png;base64,iVBORw0KGgoAAAANSUhEUgAAABwAAAAcCAAAAABXZoBIAAACw0lEQVR4nHWTS2xUZRiG3+87/5kzMz0z02mnTKGFGYaQKrRCQ6k1ki6aEMMGMTGCJl4WkogJLiSY2NQVphAIyxIXmkhI2WpMNCHqRqm0UKKxTqGLUuwFe5lOZzrXM3PO/7loFDc+uyd5l88L/A8MgP41YrailTzqTwdEAARkHO7ojS6XfdFcemayLgQBiAggwcHTLZfirbWJZ+Or2bOzd34sESAMIqL9H/3y4tDI4Npnz+jJUvZC3w/DB5gIJhEhMXLdPjzW8STvr9i2c/F82+OTD4dXIUGG1h+k9xp/0oxTi+/Q5eZ3z2SOjr5xxgCYifo7HsEp+7YXrFpd5acj38S+bX619whgMOiT03tWwy4tWS1Vpn3xjcBiTL/nvswE5n50z1SyYccy/Xawmsv4pskojn/Yvg3CiLtdsjOxYjW0LTvFvQuxgNRh8AvhLhBj94V83dhskNCht3d5OY9Mcqs9vlOPQiJKGp88X15UAxElza+kozeLtmbfuN001A1S0gQPTZtdEjC41Blqqe2atPLJzI1SSpGSx9FSey8Fszs8l7Cemq8qLsyWO6va8xTWKo5aeb1WqjR6hugiBbTbiGIBOZDC931dZ80NM9RsUdgx3qRZUpGe+8q+DWEsvWV/+rlfh00RsWJIObpgPgjef20OYOKlL5vWRhuiLgHugs4tsrH8V3ksuQ5h8d4vL7dEXPg8VH6/eittOF4ByYFhgcHw3HP3Ku1unf4YTycu3604VNuevPnOHEiICOqrj7+efmlu1vVnZCL2s9U97y1MZSE2Q6R+om3lt6tLXmF9c7H6q9+/LTrVlwWBiQXgHn/4XEYbZZij6rlk6sTgoMtawiAiImV+MZBIdLZGNn5a7znWeY0UEyNIBAiI5Pz+qe/27ak+mL+C41vVSoCwlaiAhXWAtaMhIAgJQkTynw9sFf4P4b8Bsk0uk95VHswAAAAASUVORK5CYII=\"/></td>\n",
       "      <td>brain_tumor positif</td>\n",
       "    </tr>\n",
       "    <tr>\n",
       "      <th>70</th>\n",
       "      <td>/kaggle/input/brain-tumor-detection/yes/y1060.jpg</td>\n",
       "      <td><img src=\"data:image/png;base64,iVBORw0KGgoAAAANSUhEUgAAABwAAAAcCAAAAABXZoBIAAADFUlEQVR4nAXBa2hTVxwA8P//nHNvbszDPmyTNCZdbSttbWuN2mVzj+pWnWDxAYLKNkGFMdj2yY0yEYbgB1G/SJGBIFjcwDFxzA/dUEEn3cxatGpjH6BpfdTsxvT2NmnuI/ees98PmzXhAgiCQgjkBAAAgHABFAizFjgCCspd9AqFlq0ydRBQcMoFQ6BIuF2x5ej01MU5wunxwvkyCAROBNRLhPmSX9OOONvp+zHReQLeYqcjSBWJUoxm0fdP39x+rfPG0ifDbDy2405MH/rQSAEAoVh/uu1pcqZ2fL443CD76bD2LPPpvbPrhGCEtm7tP7THkMdWrqgOWUtCzlQFnHhvT3+X+IrAzp+WFVTH8T90MeUGIuW6BR586ZAfBrZsYvZaeVvQLHltf6nKfBKqKaKirUjFO8d6b55n0G4/bZnyoWHpdiSdnC/YHimnzCnvBb3/YiyY7uMvVhu2qyw+b7VLPKwZUskBvzrdROxNsmCrX+ASqavdEM43nrlmyIQ1RfNG9wLWC1+LZRtE+I13ubeh79hkaLGwAFb8FqlldtNdvjcFUMKiNrTurz/H0p1vmsvLrbDoUhlVsV0OTW/8YPZuthu90rWS0sF9zCnAKp2JKci/TrTVCLn3lZPhLWzSNE2au5XEaZkwuVGPJsK5639bj8KV5siXibU5bDlwygOuxSzzQON4HZnr2qdU3CYNLwuez1yYnFjMNqfXE2XX40tkIEiVytGDJ99mH69sPbGMSkr3YfUXL0a1/isTlwq/dyy++lkdubK8OFrjd+RiaEKrWIXR1wq2Fr+ovD+/e338iDO78b9HEZVtqzp2da9JgFQPmJOzD6xzhsDIRDL73M1U5Acd3F4UGM2BnZD0/SObw81DWbX0R99MNTEbf913mUsEgEuZUOVlf7v825P01ciabF0g2zb0/iAnLgHGQbvTMZMdzRRTpe90x7Hy6QtHbwDhCDFZYT458E14c1eg56PPYRAg9j0gk2TmwZhKmEGBQ/nbd3R9vMdzvKzpGCggCg/G865D0RVAHQkcymygZaDUJijI/xICaG36HJ2vAAAAAElFTkSuQmCC\"/></td>\n",
       "      <td>brain_tumor positif</td>\n",
       "    </tr>\n",
       "    <tr>\n",
       "      <th>71</th>\n",
       "      <td>/kaggle/input/brain-tumor-detection/yes/y1061.jpg</td>\n",
       "      <td><img src=\"data:image/png;base64,iVBORw0KGgoAAAANSUhEUgAAABwAAAAcCAAAAABXZoBIAAAC70lEQVR4nC3HS2hcZRQA4HPOf9937tzOZDKZiWPzdCAPFaIlrWJLgogau1Ew0Gp1p7gQQQQXLlwUobiqinTRfekiVIoPiijd9LEopFgitgETpp0005nM687jPv/jxm/3IQMwSkoExAqwBKQEABAoEUNFjgwBUPPj2aVsrsQLtzbvb2okObi8zshpDNW+fPP1g8cXC18c//xu+6eNwreqES537gLnRw4hvv/vxPcvzZyeg9yRT986Ay+eRhXSEtkZYGk9db+WOfBNMwmwO/nX5LWNzfPAXZKSae0VM4rBSKeMmsCng2l1/r3RrzwGQiX/zWcnb0QLzYIfAakGOdw7+uqffTKQgOryx2KHelqjmB2a9hgONbctbPfrA6kwv/3w0qr/WM+oapBocb3Ujred8Pbg3cOkUCe3N27fM7oSZtI7JJ7ph7W8zL88Ud8DAueFTvphLJ2e7HYnaHy7Z6RL7s6Ny9PABMk7ueUDI+MH/UFQrT8Z03W1LQ+v+b+fQoLoUe2P0LZqK4v7ytjzk3/rlagT2mb0nQPE4upOJv/aCVxcmdaaYavnosjG90Jr/oJEFr1VmL1UHn64tWdavrE7I6WIdd5auFUlkNdmn+ue6qycgynHMcbnKGsI8kZOZGpAAMv9O6K893N5qhEB7XqKF4Vo7zYuMisAmfIVcI6uLV6w+6beVjxFqHV368gDQQrr51zVqigbv8XC9TiyjaqlKY2BdnaCkbPhSunKqB6aek7v+ikN/cBMWpngerpBwEvHg6vZkmmgpmuVet20ne2WmTojggSTQ5G1enPVE8rA7qe8xhTFkdr79Y07PatBFBmjX7pzraTKzaDZLtCgYv5z+5M+SQKUT9V196PteN/LanpCVtgetPPHrm+KOAlRZiI7cOT6+fklMCrV9NIP1mDjYw8RYx+SlFUqFkQW+AM49kurfJZ64LhOUcuprJDT2S8+UX13NISbHe1ZlqWRKOAm+gDIscIIAMAIIIkBmen//Qci6F3moLyeSgAAAABJRU5ErkJggg==\"/></td>\n",
       "      <td>brain_tumor positif</td>\n",
       "    </tr>\n",
       "    <tr>\n",
       "      <th>72</th>\n",
       "      <td>/kaggle/input/brain-tumor-detection/yes/y1062.jpg</td>\n",
       "      <td><img src=\"data:image/png;base64,iVBORw0KGgoAAAANSUhEUgAAABwAAAAcCAAAAABXZoBIAAACk0lEQVR4nE2S20uTcRjHn9/h/b3vu3fvNqfbTJ0zzzYqLYkCqSuhqBDCooMQ2OEiyE5XXRbVVReJ/0BlF92UWTeRBaG5gkwlEmvMQkTddG7Lnfeeuphb+9584fnyHOD5INgSJipFuoGJYujF2pYzTBjVeA7zGuUKIcobVU0p0nrKFXlm80mIRaBUMgfXrOIBqb7W3nnCKVWXZgy3ncT7O0/b2eUzXu6DHaHiWAyi5w+5mAluXHnkziVqHw9dpWrhICsyL+Puz1qZzSd+W9GWnt8cBTnfBfgvemo+Fm0M+oVEjzebqZhRLrWkK/OhXgYDZ/c1B5z9uHKlywMW6Rg7r67mdxJ29E3Xnm1vLW5ZWaBhrv07VzcEUgwAA0JGb1ZempC06WkbihyKzmbRF4lLUgAMBuApWQ/IHs6enVK5V41KlUC0PtwAgAHp+GHcJK3Pp9werA9LEVdlbFxbd/gBKFhASOCkld9hmvO6Q2NtIat/8XiWD8ubQCFFVEZVLSI6a+L+Xm9wZrXD6WsfYSkADAom41aykzeVV9Na4R60mieCg3EtrgIgIAR5A/2+jjUKTYvMG3t9411yzITXOQUwaKISVjcO8obhmgwtLPuFl5TuPbfhMgAwQNq0dmR45mdIyEmiZx6Y9oN9mpcUDYACmDe1r+BQ4mFM6pNq1Aadk46PCjYAEADPjET978NiTYyPNhu/ws3dvu239MI/K3KZ6y9GH4hzu+TZpKW88UkaEulCiASd1Nl3K2zW6jICTSObA4MCpAqUUERqUYtx905335RBqt877FX/EUJmETsugJsrw9YqsmrGHC1BE2GggO83DPWE5Nug29LZUvwQgmZmARCAL3JehBpAULFGWEY3MMkVav8AYPjtMMdaQfAAAAAASUVORK5CYII=\"/></td>\n",
       "      <td>brain_tumor positif</td>\n",
       "    </tr>\n",
       "    <tr>\n",
       "      <th>73</th>\n",
       "      <td>/kaggle/input/brain-tumor-detection/yes/y1063.jpg</td>\n",
       "      <td><img src=\"data:image/png;base64,iVBORw0KGgoAAAANSUhEUgAAABwAAAAcCAAAAABXZoBIAAACtUlEQVR4nFWSS0hUYRTHz/nunXtn7sydl85kTI4vZkZiCCKdiFLUkkIsWkhEUSvXPVaVIK6siBatlMBlURAUGBhIRYGKGUg+a5JM0sGuzvM6rzv38bUYLfrtzuH/P2fzA9iDBUCB+zsiAhAsA5xGkfJFdcwNgIgIgEjKOQI3RKSWi0M3nydDhsW3twUAtG7bHvRdONaMoWWxA+vzIxSBlk8j1/r+0I+Qf7o5w0cmDRpx3Z7pSuz+pdAX30z6XRXzSQsnfPXqmdVMiUMAAhBU7rxeApdqjOspVs8ZJpP7zIDtJQeACF7JH0mZzS5Js8rWQtGGJlqKdg5zKhDEURJmRIaOz5vXPv722BDtKaMu3RWnQADbr+YTHIn/CjlcC3N5jza67iQsqxxESqDnQEahKXMjJtXkcCXEfOecvFtI40Y/i8xKQ2+MMAybEtKx2CmDr92CPGWyptkFN4t1Dg14bTlYaTh9KiInF4XFcDHrziJLNNhZhik5zCg6XzIX2GxO+VI7hvXRghOIpaSLO00WC2cWwZw1AWcYjd42TWzBKZ4U3h19ayMouTRS/QQF2cOK0rZZ3hghb4qE7+vkPLm2ZJJuPx0oyHoqIRscter02iBL1LmGEi+MOkxb4uFllI/favLpBT4/+4ihCrJQalZE/ntjdl9lTAqsyjUNqYxsH78Sn04R1AKX0wH7EdHrnMZPP+2BE9UvLG43LH1IIyJA2tHqyFr3r2ciE8FVw5bpeNid32QWyyZUEI9BmITJtnC/WLKxvYt3pamhb0gIIgButPtLSo26pnhPv2JoVaBflFpXaLlp+KIzHkbOCYlJKay2xVrstC5Ky7YCMsF752l3OnbSXjWx9fn62WfI7smLhDDotfaol9TBx1QnXQhIEEnZXgCkAKwBfBGQUvjP+n/Q3SQCAEX4A7Z+IKwK1rzbAAAAAElFTkSuQmCC\"/></td>\n",
       "      <td>brain_tumor positif</td>\n",
       "    </tr>\n",
       "    <tr>\n",
       "      <th>74</th>\n",
       "      <td>/kaggle/input/brain-tumor-detection/yes/y1064.jpg</td>\n",
       "      <td><img src=\"data:image/png;base64,iVBORw0KGgoAAAANSUhEUgAAABwAAAAcCAAAAABXZoBIAAACbElEQVR4nHWSTUhUYRiFn/ebe8f5aX6cqWtakaZZWaQRof2QFBhtzAorwbVQIRWSBG1aJATtWhQFLVoEtWxhBEJBhGUURD8YSTWaqDkzgjqOMzp37tdiNGzR2b2cwznv4pEtSQcAQdyTwaKcJwsaACeKxZIqVAPQ01e8CSnEI1iACJ6W7JAP5cajv5g+EwEiWIiI7KIU2o7XXqO5dS+0K0Mgogp7LW0pdSLIzifNw/b6YOtDpREwALS2H99+G/PKuL3RzJr1TzGyAhiF9ev5F5m634OHyr/ObnDXqIiZ01qhACnR5THbnEtWJ5pqRuKziYbJlFfjaAWaaL7ScdYp8+g7b+Op0IHpD+f1HIgpVgKt2kfLfN6KzSPhxaqO+ZO5hBy6kkLCCuD6o/DPstFYbWeH0W37b/lDU+f0Ui1br0Z1bOBZ+d2q+8/HVw9dnFmImDOgTAWM3WvNd71qSWQDBx5823RwXhshLS4cUUDqbO/N3kvpTGBrowQC292LrqRnyiegADzdtXWj/cmfu4P79gf9HnmjUqvTWuUUGlXa6fE40wHX4Kev4YX5aSq/H8VZeojhl+09qcPfdZ4LA0NExdVmbVOAWHEREbsZb2bPrGOaw3ZkcuL95RuiWSNWHEEbdlNDzK0+L1b7nPyY2Z8WUCEFuKRIv8gnM85w+uNE2efxqLdxPZBHrDgoVz5dssMd8qeb+uZCv+7UG7aAKyhWHBBxODI3xLHktJ35IBoBdIEhhNN0rCrCEGvt+I+AX2SZoQJqRWdOdKnXMOOLIAX8/pqIYFQWuyp8y9ZKczmxQhEjt/LU/yQxwvxPEv0D3I3g7c8PrCkAAAAASUVORK5CYII=\"/></td>\n",
       "      <td>brain_tumor positif</td>\n",
       "    </tr>\n",
       "    <tr>\n",
       "      <th>75</th>\n",
       "      <td>/kaggle/input/brain-tumor-detection/yes/y1065.jpg</td>\n",
       "      <td><img src=\"data:image/png;base64,iVBORw0KGgoAAAANSUhEUgAAABwAAAAcCAAAAABXZoBIAAACUklEQVR4nH2SS2gTURSGz507M8k8Mkka02kisRG1Ko0IulALghWqgmC7KIKlYutjZRHciuBOcOmmrtz4XJTGTUVFsNhiW1LdKLErwTaUJnWamDgzmecdF5PEbOy/OvDx/5d7zo8Q/F90c6DGmRdVFJDHgitPAQR14D3EkO/0XhbuDGkFNaPkDTt7yfINPvRm+8+aFgbhwLNDx5bmFyaftMXODMplThEdXUjryx7f907NtpzD06kwZ2v7+hZKEoAbcpTbV00AoAAAum51BenyGef7KIs0FtfKyyOXm05Eejr5Qm+ie537yCNMOb+JfHGc+M4Hg2Fmk6ntmBnAXSxdIXQ0ujZ2uhGbfhsX2OrxlZ43KxNIdQwamfyFIz6kFl1Tk9LPI6FcdJrJF1gTC1gaBgAKMPm1X4mZXCL/6u7hHwv4KIYaxWUZAKDBDWyt9xDRiKvyDYJd1xIJQikj58eaTCetlEVb62AZykjoDnYrf4o/G2/2Au/GqiDoFcti0zJSRfxt9b4PiTFcC5pMHYUwFrwSsUEV1q6hxm6/5MNaCtX4HLaBYayQA58jq9D45/W9LOcaoaBpRbs5KlLXVeXgRPMqVyAZMSmyyWcA797QgTbC8nnUcHojFYFwOJnRq8SRXIxniw5qnWzydYn1DIkQx2M7KqIizhGvBRlbkkNuvF7eY9J8kYudS/f/a4L9+GG5KAeCJZEntvY1YWfbOwQfhqqx5NbovM19CpxMTunQpAghhG4yJyIdSXgkpYU51BS0pnuLU/zOXaeWMGrTNo2ntmHwFwJi5kGvQopyAAAAAElFTkSuQmCC\"/></td>\n",
       "      <td>brain_tumor positif</td>\n",
       "    </tr>\n",
       "    <tr>\n",
       "      <th>76</th>\n",
       "      <td>/kaggle/input/brain-tumor-detection/yes/y1066.jpg</td>\n",
       "      <td><img src=\"data:image/png;base64,iVBORw0KGgoAAAANSUhEUgAAABwAAAAcCAAAAABXZoBIAAAC/0lEQVR4nAXBPWwbVRwA8Pf+787PPvt8ts93dmzXkMR2EidNgALtUBaWjhUgdWgWhKjKx4DExgZiYGJCKgsjYkJCRQIkKAIFAUaEygUauwn5dGLXHznb5/icd3d+j98PZx2EERc45AOTJ7KEOSEME+FB0IKmO+XUt1dari10w1BNkwde6DkjwfpRACyYc4E6Vw0atejAG+USjxuJi5KHEcdEFlR246cvFxqLgW0vhiavf3Zn6YQpjn6OJQWZ3L2mDpK72VbJqWcgVc//7O6C7IcxkgEn1mvZXmqMTcvTztvKsiU9dROZ4zCg0CtPrjPtWAzIyal8LfcoVLyzz/ffSRGKMZYvVz6aHCn3ayvj2Ap/lK+6OeQtGGzY/hGEVrvX69id4HM4s0oY7ypqsrD40PHLdwmgl3p39327qQDpV+1SrrAA46NfzhbdHRkAtRf5rO879oMBjANNz7TU7oEIffXH6ds+oN+9/ja6vHGv8eeL9LCjfR9ggyTxenPL5xjwxbV8eP69oEBl/xN+qRDtFmZcBRJzbCgkKfXFa9fzBPHpl0hc+mbOKc3WjIY5P2gLDN7BaK3oU1Ej+qvSvDwmrt+x7MPKD1HdlfBmaWcQRmiZNC1aVcXopGnySCwO01IAcPws9nHd59bhVuL26SiT7gvXLpbSav/foMSdpzeqv13JVluS/x8du4rotsxcg84svWtImG8mrteHDwNa2wxYySdY8r7uVJ4VVlgngIjIf2qcRXRb7ug0NBx2DG/Y+2dvYgwABMa71sbqAtWD4Dv5qJJp7BeXzBZ+s8yAyO7UriizLN1JWvT4qL/TK89FnNJbkToBzqivld/fVv2ViCayelqbccV58eqtfAgB4Clxjp/fzOBnwri4tYX0iRPV4p+jI4FgyqmnsL+Wd77egxhfXfsgPbPAL3z49wHnGANRmdlSWWr0eO2Nwk+h7369URnH2vEh5YBRVEwBCyECSaU7kjWJdda/bYeJy6mC41RgkBmdAJ2IoC+BGxoRJDAH0f4fyxN1wAre2swAAAAASUVORK5CYII=\"/></td>\n",
       "      <td>brain_tumor positif</td>\n",
       "    </tr>\n",
       "    <tr>\n",
       "      <th>77</th>\n",
       "      <td>/kaggle/input/brain-tumor-detection/yes/y1067.jpg</td>\n",
       "      <td><img src=\"data:image/png;base64,iVBORw0KGgoAAAANSUhEUgAAABwAAAAcCAAAAABXZoBIAAACm0lEQVR4nHWTX0hTcRTHz+93t7v/293m5u7dZqaJ6NxSkhGshxARehCEJHroKSwCX+qhoreCoodAQehNougPFKRPUlBCIVpm5JyGpjb3Rzfn1P3f7vTu/npwOXvovJzzPV84D+d8DrJ+JvCfoIBDh4LGVmSUVDRIDqtZ71SkuX1L+nPImCgPw+XUeHH6xpo7FNG9fqkfGaEPuoiLEqBVD0bpXy2ZvKd3uJis27BsvxVI2aRuCY9MHlOQYpcsOXe1L5KY/G6xlU3nG2fbmTXaMQYu+bo2QcnF8A/+5mAJMAC6+6xGnbeogy3mnbnMilQsIMkVXU8JAAMQx1x1U2ZBnopsxSZSLFXbulCz1DB6DgADuXf5nXZ/tj6NFZbiQIPMWfzKBDTKgX4MEkCr1pOu6IVd8lx/gk1phwVdZ5YhrCuEAAPp9tclwzML8b7Jb/YY29d/Hquy6sA6VQLEJcY6eok5m2ZE/eanJkbIiYG6KoHknI/3MBR2hxdxehNKfDLxpEBRCvtxhCRig1EADJR7UQjx3uCyf9s2zxmw7cO+LrChWzKLgLjow+0ZOpdgVMQwn8f2oAmSUsaOml/4RcRFNLe9jQvm30ijTPMZMZ4lSlbLzzsm6X3ERYHr9KkLZpVEPcGk81Rez6Om2tV4yQsYANZ9HTITChRfubRJDa4KW93Zj11K78H6KDfBfKGd6Yrd71YLcXt6o7Qcufr3ntJr08q8USGLx2ictPHRU9LVGc8XckBCaQj5XZRMtaM1gsNg9hgnruMpUsZEZHraomuxDKKlFFXkd56yl0iFodSd8ag+X2zNvDeshOoje3v/0ldkkSJ8bBdNC8pxm8pX7h5yqyNw+uwgANFUwLUdQZzB8oogABioik6K/NFngD+VuRqYLeSy9wAAAABJRU5ErkJggg==\"/></td>\n",
       "      <td>brain_tumor positif</td>\n",
       "    </tr>\n",
       "    <tr>\n",
       "      <th>78</th>\n",
       "      <td>/kaggle/input/brain-tumor-detection/yes/y1068.jpg</td>\n",
       "      <td><img src=\"data:image/png;base64,iVBORw0KGgoAAAANSUhEUgAAABwAAAAcCAAAAABXZoBIAAADCklEQVR4nAXBX0xbVRwH8O/5ndPe3ktp6UpbOmBN5v4UmcqwZKBmLgsaTczEqYvGDRcT4zaMr5q4LDOZCYkafZgPS4wRffBhidGgxhcGm9kWx5aJsEBYOxUK1EIplPbetveee/x8WNxxOFMu9JrPqUpdSc3kBKbg+OrMJTCA60P5YqgQ2tofRzBzKWszBWGT4kxpiVuVL4qmtpouZMev5c4m73W4Ag4RucCxwie9F3fG3z6f/BOHbg+drZ+vnbYVAEXeCXxET/TuO1i/vB1dp4+bzz9+7gg/CUZMNZitybE3tlbpn4HR/vje8cXfUp129wfoH1MC5uzr8sw9k1PT1T3/ft95QPMoU+OSZvY7TL34c7RPIhuuFAwfU8El4YTjK5X+yXHFCe/99AJ4aaHubwxI1Xapd1tgwzowmqVOyyZMTkw+F0mMTHQvW8WkNiiCnnjDnYH6km7ESeZjPbOg2RXW64myMuZzDdmF3ObkD6koiB+/HzblKydjmWo5Oi68PqvQGgu0+8/s/s8kebm1HK1ceX9tm11+6PCq74TkhbwmDj74kLnEd6RvWJFjmVMP7iYHb4juoyHDZp7yRRp06kLtVvrU/b9sxR7xx1KLDx8ptkRLmrPH2IBL7rNDYTPFS9w2xLtL2toOfyGjConMwvIzkviuo8On5i1f3pyzZ7LrX6ZXTE1rm/50ve8KI1W/qV1oDmjlgFlrJLORG2ve0r7ayOfDBojVRtyuXCzo3Ujl1kv2zkJzU5O8Gr/77a8Vl7lcUbAjH6FarWU5eq2nyvxbgfKdpk2vKwWDXu6L0N/V5rD+1Ds/lmbmxdOV9PU/XppTJKSy9PZb189ZMIuJE/7S9o56ZTWcPawDijhBpr96cjkUbGuZmtn7aM0yqo+NvtazBVIEF5JdwDexRWNNuJu3241XPxt+GTcVU4BknBj8u6DsNwdoLiQTH39ndGkAAAHFXFAl4vtl7NBbolPjrZVpc0oJ1wUgATAGdOsdXzMgNv07BCAYALB2yeBAuRopj2KAsgAwJQDJ/wejKmLtYSZ0YQAAAABJRU5ErkJggg==\"/></td>\n",
       "      <td>brain_tumor positif</td>\n",
       "    </tr>\n",
       "    <tr>\n",
       "      <th>79</th>\n",
       "      <td>/kaggle/input/brain-tumor-detection/yes/y1069.jpg</td>\n",
       "      <td><img src=\"data:image/png;base64,iVBORw0KGgoAAAANSUhEUgAAABwAAAAcCAAAAABXZoBIAAAC8UlEQVR4nAXBXWxTZRgH8P/zvO/bc/o9uq37aOkcihpXRCZDndNwBboYo6Ih6aJGrogmmnhnopkfN5oQvNLsQghXXgxnopgIJDqyZYAbOiYukZER0jhGDuvanXZbT3vO+/r7EQMAGUCzMcyB8CE0wQBEJDggiIYI7ANW2R08A6TWQUzhLasOKaOpTgh8arDf/PQ18N1bQDYhhIBCzE6oFEZeWwMAspkB3GgJi3BXS4QYmqNVtHQV1hXGDy3mLw6Mm9yKjjeDgA0lOqNAxd1/5aDtdOaGRnvchKsR9pOaGZtrzjC+HPk9M/nH2dk+ObU18UMHXnGilZgkITcxM7DIXW+PT7mF29pN3jyXXaqGg6DBZMvsS96R9PJwcfCzzHJ2T39b0x4w9e2aCFjX/G9+6f4n9t714OLS908GdyzOngzTzHTINxSSkYdnfr6UV0s9K+WVN2afft3M7YkU7l3+5CuPLO/VqfMf96/3CT+14B7IRM3QVT++lwlIsSc2SmeGK31wVv86UnsgN1u/EQvtu1DEKVQ51P4buhq54nYm/1x9Ybc6av9tIncHJtWx44bJeVHFnZWMMvWtsXfndi+3FRr+tXL82EScOei41fwvkV40rrvV+ublUr407+x6qPjC2ELYsClNK6eymfO1WX/icOSLSXv+Mbcea6T9zzWb5o92efOZ6B13h/DyD2Yn9h7qPXW6ePr+GkDE2rwvnZ5u3dioCJJZo6qJ7StncWLUI6Hj7q7cxrPtTj640LvcOBzx/tx3LZT49RYxA1Vka/MZr+1e6XlrcCiyejtdejz07VMUNyQAHfKE9SFdbe9ou+scLM9Gu88t7aj1z4E1MzesYGdpem1R3h979PzN1p53COXmdWJIYssC/wtbnfigw6weHTmetE+i1ZZCQEkW0mp9GTAFJCBtdH8EE7GZlIRQQgipkuFeGCAympaP5Id2KqUUCWIAMKwFwRJeHRDJGvkGADMxANUElB8QSV/6BM1kNAzjf8xzOYBPfPXcAAAAAElFTkSuQmCC\"/></td>\n",
       "      <td>brain_tumor positif</td>\n",
       "    </tr>\n",
       "    <tr>\n",
       "      <th>80</th>\n",
       "      <td>/kaggle/input/brain-tumor-detection/yes/y107.jpg</td>\n",
       "      <td><img src=\"data:image/png;base64,iVBORw0KGgoAAAANSUhEUgAAABwAAAAcCAAAAABXZoBIAAACc0lEQVR4nE3TzU8TQRgG8Gem0+5uP3ZLpR+0UAoFW5FEkChnTYweJPGMXiREE/WgJxIvJBy8GQ9iNCbGm+E/EL0a4kcMxqABQkKpAWpLaWHbbnft7o6HfujcZn6ZN3nnfYYsvkZ7EcK5TShvbe1pzLdFxI3yAS/ek0FaRwuYB0AAOB54CTt5eQzsVgcpAMLBSPRJdTaYXovfTnyNxJ1NZQA4YAaT6SE+8+yqyS84t79wwgGAAgAU+VTPgA+FO15RlHnsOMBJB4XFsUnFOqCH+X2ezZXNaX73303jZkoVTa5GHPGS4qoExf43zjY6XsRPCEbFrLHcTsjgfw5956eG20jnZjdyRQVk43SPS+PB+o5e2Jaa6Hx4rjTg5Md6bPz7rj8mE00/TLkTBGAAfSSNMl1M2LnaoK1aNLppCqokN/s0vGIxMDDiW2JS1X9c0UI85LJLlDVAAXgLlF5K9c8QTT8qU1b0KI4qehsABajo67Okmk9OO4NJuDyDXb9LTs8EAyhgR/Ejto8M8/vhVvyCUJHdO+ST1WylHH8XQpk3xpNBHnEzVWyEfpJV3sRNTzi/F2gYYqqi2zLtzQyXhVG79QjCSOPpr8cBo7SXfb+14q+fXd/UCo4W1pfqtuZdDctv05Neqbi7G/l4Zc9qzRP60KGkbR3k6y4E817/Wj5SUztTIdlrOlEzRe8RN2t6Jp69vmx1kFfWl5N9BjMslgtI4c9dL2knJgA+LN6fCilVpRDvzq2s9mh287gZTSLMdT0fmQhAIKCv2P/RBEAwfqbb5XJQGk60Q77AWgU4vsGtiGpU27c6X4BdbNUABxzEJKB220b/At4O8d1is7s7AAAAAElFTkSuQmCC\"/></td>\n",
       "      <td>brain_tumor positif</td>\n",
       "    </tr>\n",
       "    <tr>\n",
       "      <th>81</th>\n",
       "      <td>/kaggle/input/brain-tumor-detection/yes/y1070.jpg</td>\n",
       "      <td><img src=\"data:image/png;base64,iVBORw0KGgoAAAANSUhEUgAAABwAAAAcCAAAAABXZoBIAAAC3klEQVR4nC2TX2hTZxiHf+/7nZOTY/NnydpaG406ram0Wq1UDVLEoZujIog3g01UZKsgjLILNzbBi9kLB4OB4BhjKAqjN/NCvVg3ZNMJG3NWqRbXrjqbmtZ0qSdNapLmnPO9u+ieq+fquXsIRAAIAEgIsqgCwAdDgYig/TqD/OCHvo4rywMxA2DSBICUKp49pco3QamTC5YyRBggKIAAOnU6ciK37GbL/FB0aOBdEkBrIgZBpG1kZ0lFN2S9YuLpyQOfnlbQ8FnAEHQ/SkfDWHM735yftAf2/PAVwLyYxdvmTHE6rlH/7bEy5+dXh66bANUYIMLVx+78ck/7pTNu2WjeUQzYGRcCJsD7vi1Yaux0ovbdr3NeNZ+vZiqd9RAQDHjBB31TCZUrzrbP1Ia7kvkNu37+RixaYECf9fdOr3lmm+F0wy842BxKTF0LdLwDTWyAPxpcbo1MFhCYGIuPyngm6URG9bgGWJMfp4Ldul9ros0X787GQrlGv657yoMwo+fFWEvKvtBqLkWh8Ka7/s/hLRXr8bNdIDJk/LW0jicyPBusLVl5P1yN5ZJebf6zzUt9Rt1xQ+rWjT73UvmSOphuIKdp4rYd6zlPIOWrLmOlnts4vaJ9RZ/1Y+6wyeS3zFV+LWiG6Udid/7tjqWTU/1RZ/eqn8Kl2XBfOeMpIcW9M7/tCySs5D+uO/D58aZXFsza6yO1q4Zohrx3uenVtuEP7o0Z2Y5PbDZULHSj/MYRX4gU6o/mSqv2fLwpVZlwXkrVrC5zZ5y/TQ0wkO8dCcUutfRM/O5Mcle4ZBXdWPtTVwAWwda/nKx1ZnRH41yg+OSFXf/HwtrtKSbAAKRyY9uXQ+ezeNj2AI84shWb1vbWWEgYQHlb/5WIE780nVUN4Uj0ya1y/0sSEhADAO0e7Iyvu9c6uDHy1vveoe80FiFmZg7GO76AAieT5wBehPj/GYQAvaSifGGQJghBgP8A+pM2My8OwgAAAAAASUVORK5CYII=\"/></td>\n",
       "      <td>brain_tumor positif</td>\n",
       "    </tr>\n",
       "    <tr>\n",
       "      <th>82</th>\n",
       "      <td>/kaggle/input/brain-tumor-detection/yes/y1071.jpg</td>\n",
       "      <td><img src=\"data:image/png;base64,iVBORw0KGgoAAAANSUhEUgAAABwAAAAcCAAAAABXZoBIAAACc0lEQVR4nE2SS09TYRCG35nvtD29UUrRQmoKGm4uNIZ4gYRIApqoC2N0obJg7SXuTIzxstREN8YY4y9Qd8aFEHVhRBDBBRJZoGgKEgNCS1t6aMs55zufi1Oqs5xnMpnJ+5CCW4pQLUWKoAiaI8DVJqv/JpTFAAHEDGfnetnMFr95HALAIAASGjMzQ2F7GB7gNrkNhkVSCAWQJxiJNjkL/eOJ8o/UzVuAgrIYUAB0tksxrwqP6cjpRyYeAswAScGAE/N3rsZFZs+c0rV8ZlaaDDiVg5A+laqzQm3FOZGVraHkZV8NADCg0HZDf1RPjjH7rmt3+HzeDk4N5ioQ3v13DvdFC54yBSIrDV+HQyEaObcFtcDe3+9FYCOmtTyPrz9ZsTVrOUgVaMjpZGcBwlhMx17EL5yupdV8Slbgmd4OLerXNDvQ3N/4/UGhxPFB0a/cVyQdNaLMZngy8vPepbO2wZJyYz7HYgB/jtcWeJuHzSvtvg8Da3mPo8QXs7I2MDkdaMwU9Pm7ommsYAVKFF41JxwXBrMnE1lRH8521yUHtLqiZ9Gc0drJhehdMmaVLB30R2ILn3hTtOb77H0V+PjjISz5JDega2mzZyNeayWskSIAkoJUqbuF/GYpmJMru1SgbMTyQ0bINQEdnJp/6bPT0Zq3B/y/LENYo94RRZXInFzzMXuj8VmPTFhqLcqFzwuxshsZFEXSMzu03IlQIe2ozDheLftLW5EpiOLU8NAERu/LkpG8+Ma8SlAKgAQTESHpAAkd7VFvMQFBTAwLEkREzMDr68qx1LXgUxARkWufazIpAH6pr/+z2tKKShEAp6p9lYH+AhimEpc5AgIxAAAAAElFTkSuQmCC\"/></td>\n",
       "      <td>brain_tumor positif</td>\n",
       "    </tr>\n",
       "    <tr>\n",
       "      <th>83</th>\n",
       "      <td>/kaggle/input/brain-tumor-detection/yes/y1072.jpg</td>\n",
       "      <td><img src=\"data:image/png;base64,iVBORw0KGgoAAAANSUhEUgAAABwAAAAcCAAAAABXZoBIAAAC/0lEQVR4nAXBTYgbVRwA8Pd/781XJpNMZjfJ7qbZtXW72V0/sFu1RT1YelBoEREEe/CgxYuooCJSvXkSeyqCIlREEEQrHhSsIC0ibv1qpXTNfsi2NNuuzWaSbJKZZGbevA9/P5iUEiGpREZJwFIYCSBIFCFrjg4YdMVxzs42X9xq/rd59KnGKdo2SIxqVTxBmUlA1578aGrypb38FqxcYMPt440CDGEihRmf5NjNpVM/QaEFJaLMy/zwOdyxAmUynCCN1F+9/kulZpSzzDD86sHBvV+7SNeoDhXmXnvb3Cnt1tjGDB/tkd0o4oPP5/Q4RRhU9FY9wmoB0bth3FHIMMt7s+/WpeUCJhlr55Cx6FEYljPYXHWcqbjpzqePsxhhgv5d+EZrDFej8cBu9eOEt6I/1s9dPE0VwUj/oLG4EvaKaWIpL3pIZWTOnS2dp2ucYpLtmm+iWXHTc5KkXxtXUNa8anLn9Y9dhdNuWJg68857D4cd26lelrQw4jdSY/76G2MYK0OseEVOnnHLOAbRpl3LWUR3wczJSwgr7NtER573rI4l3ydyPTO+h2rg/v4Zw8rqZ4mGlOmisDjK6M38zpijotSfuKqomx87kmgowTrkthoLnX8Sj+wZCWuSbGlYdsLZoUCCIyesFMN24bH70MXedMx9j+B4hMAO4lidHhjteDkrmYyWCmSM2p8yPEDfvs+tjP2V2EQqmwvnDY2qXn13sPYX0Iz1ctf78I424RCVsrkm2CwzEvn0x+deUFRsso3XEM0NklKAK0Fn/4AQd/kGsv/kCKZT95H0QBLlNBFEztDo5amQvHtp3PlNQKUU0itL0wdDceh2X6Pt/SoItO73x06eCDBMpxZPtp/feTDM66mQebslY/LFA99VOZFQaZU1Izl/5u/RUTYf/VBsPxr5g/V6bYT0GKM55qfJExs/H1g7e3v7yO79F7Z/zX65b8j0PoPlw+VUJ5Ljpz95ZXUdzAX7bK7mcwISFaCAACFQRGGpQaIsHEulsEAgkf8/6ABynOA0yeAAAAAASUVORK5CYII=\"/></td>\n",
       "      <td>brain_tumor positif</td>\n",
       "    </tr>\n",
       "    <tr>\n",
       "      <th>84</th>\n",
       "      <td>/kaggle/input/brain-tumor-detection/yes/y1073.jpg</td>\n",
       "      <td><img src=\"data:image/png;base64,iVBORw0KGgoAAAANSUhEUgAAABwAAAAcCAAAAABXZoBIAAACY0lEQVR4nHWSXUiTcRTGn/fdu+/vmMUUzY2lSyWVdFRiVjdFLQgLAjHBYvRBGSX0IXVRJAh604V31QJLJIWSCBLpwjCx2YJWSomJNnNTm5nTbbntPV28bzTUnpv/xY9z/uc85wFSxBml+I8U9DlJ0J9cSyTSQLMrwhNAZF0N9YDhGT9DueBBSp34jfBsnsRVe14Ly0y1sbcQjeaM/qvTqBNXYl+H3lGDpKfd3cnYUyrZsK7n5qhJK5u1J31js+qOlKFYdII+Pg7Pzv8iHHZtYK83QgkADACJVuaeLJb9MGg2ye6mt1OCc16mLD/AAkgu6N9LbBp1fCEkbTAvz+3e1U/7/BCgRDs9UxleWbRwHJdIpKteslLfeJQRIGWbtvuWZLag8tuEtLeMb+o95Z0OkwA/jD+cXmK4uC4Usg3UdO2tdx6qiG8U2+YWdXmOevXGB90K16XnUyqLoRAolQt7St/0D3Bb5e7Xg96q+VD9z6DDdaQ1OCSa8PaFl/OPLBeWa88EuvcMVhcdOHbxrNiWdwRP5AT6lGaH35VljrO27kZLws0KJpBv/FGaPX7hyavB41BMqDT5mWVckksAACKq+r6eGxJNgOoUbcU4N3b/kwe0X/CWQeRebSvdaWowVt8mfU0LnsYyF8SrqMMosHg68ovTrMlhpgDBazFuIk0caEnu22H1hxl/XUbM+aWKyy4p50yRv/dc2UnM77mBoLHUoD5fUeKAmRiIlUCEIWQUzjS3qvi875VlJR4+NUPQLVoPRhXD9MpympQj2yKr8ldLhE4iJ4jy10YXii1I0rzctA5aR38AsyjuF8yV7jgAAAAASUVORK5CYII=\"/></td>\n",
       "      <td>brain_tumor positif</td>\n",
       "    </tr>\n",
       "    <tr>\n",
       "      <th>85</th>\n",
       "      <td>/kaggle/input/brain-tumor-detection/yes/y1074.jpg</td>\n",
       "      <td><img src=\"data:image/png;base64,iVBORw0KGgoAAAANSUhEUgAAABwAAAAcCAAAAABXZoBIAAADK0lEQVR4nAXBa2xTZRgA4Pf9vu/c2p2NtukY69rNrZvSrWFkBMhMNkBQEnGdQUJAHBLjhR9LxBh1xEti4IeRGKMxEhV1hAkIC8YoivqHqnXq0G2VAGMtlmyT3ui2bqc9O5fP58ElGdHmBNBEyg3RJiYD4GgjBwJckECorayWu8d4lE+XCpxTQIqUKpwA6BXkDpR+CaV+74IPgy44/u3Yz0wEWgYCRJVEX8upjvKnh49iNNgj34rE+VVwKAjI3WWj8XDuxeA2VJtHpAZT/Mt3qGYqRNEuI5dtlqiseUaXiq1/X9oemqSV2o0fd74bUI0lArpxZlVycdaxFpOJvSmp1ZPVe/a0+6dNgSAXuPnGtMXDVbpy5/qGlbm811S+P7f5/cG3TbTJldEVu+v752dd92iSPFdfmomFG36NXDnkLxNcV5fZ0//CrajY3C+1xG5o2WR5cXhqaKR3lJPlUXds93Iu696Sjgxo5ur06mhL5s38GvmAF4hwYa/P/3mulkxqK48e8crk4sH8f7892yQxLxCrKnyavRS0d9DOk71sribdvuwNXNW+/mrxAhA7Meya9GihpGto+NyTC1OBCQg03dex9drsfmSs5aEJdUY9EbIq2t9aszXqztxcNeL/wf1J3xIgHyg64k9dE8x/Ng1tCY3qm2qa+yrSnZLjlTO70Lj858fbGm3bM/8yfKDfjI75I/6e12bmuwdLlHB1AH11cUiA+qByduN25imefjzQmG57zOCEmIWEGAsJHs/g/Ynm4/+Oz4m1vufnDt7eJQPhvRrL5FOaa3rKmWZ4/lj3rNYad5zY8GgBkKtftD/8gG8m68mqRjL1+nPhQlAXqp0nF0yFAZ2/FPflRKYmm2QteaBvqOriMRU7U6QtyQCf4PuEdfVrJ257Hbiz3DbY8c74T9y6KwIgJ44jkXpa1y1kzdIKD258On33j/3w2XvjnKNFK7zGR+7NGnQ1nA0/wqqj+UTjN98NXK8q6sBRoQy+HONQia/uM8rWejS0jCAqFDlaToMj586Is8sRWZbh8vqY/17knoKoW1hkzAJiC6a4IIpkSSEGNRmnhiVQ63/KZ2ZpBi+HdAAAAABJRU5ErkJggg==\"/></td>\n",
       "      <td>brain_tumor positif</td>\n",
       "    </tr>\n",
       "    <tr>\n",
       "      <th>86</th>\n",
       "      <td>/kaggle/input/brain-tumor-detection/yes/y1075.jpg</td>\n",
       "      <td><img src=\"data:image/png;base64,iVBORw0KGgoAAAANSUhEUgAAABwAAAAcCAAAAABXZoBIAAACyElEQVR4nFWSS0gUcRzHf///zjg7+3BfuC/TWXd9JhZa5KaIVCASERWYJGEHD0IHI5AwKCg6dukghHWIDpFJt06FJmr4SFLbMld3fayvXV1d9z07s7MzHXyU39Pv9/3A9/RBCA4jASAJiMxRAfjwMItiGprNHWlRrDsOZZUhx/nxF3d7O0oJ9TU6XfIfVMdBxymefvO2fhpyNgye0xX+pAAAEAKA3gcmpSScIGbOklHaS8nC7qjfCgAEADQ244bZAjnHaR3RiKxwnrHlNOVLaH+2tb9p1MgqTEmreczFqStxLD1c792fLbP21wk0Y99O6sNxFKOLVtIq8UORCwEGmA7WVliq8QrHbt3W5rj5hNYbQ5UuCQAD3DeezOjWUibtF99XT7/WsSNr9AjOZAsABqNtYElIJLldObM85pEurAXco6eDu4rCLsDwzu8E1pKrTy4b+G0xHtRQDJvIlV+BLsDSpXlrsTGY8OVoeDG16dxEz161v9Gp6gbVBCZgCZNCmnAIqgobb6nW9NBsCz3pFsYFAcsWYkZd2BQTOH2s4PKtPjlfvEoFa6gCJZawULzR/UOG1NHM4lzEtjZxndiC4dmA7T2ZwTgDcM+YTSn1yqgz1092pmZ6mPUxc1pFZxEIuRvX27fYKiKZyPbtWQrWdawpYhmZdH6MqDCo7NqdgIkM81GIalzbCnFvN2tKcccHNCAkxatqDXOlXlleasRg5CwkojaRXh5/iREGRC2Fg+VsyBAIOYsWDSRgas+eOtWDEGCA57HvpPu3LcHQLM7ig0rv9k3/VJs0vW+CR5X3eGGHz3asOIdmL+6FMraodypsPtDER9uvZnjFxgzzcPWzGKhoaEuE8g80AUb6Uybr7tTWvDUAb1oUPf6GX1k8ACCEEEJQ748P3GCYciCo0eRrOTrIkfAtT/rOTOyUlzwaO6z+QQAA6dgHfwGI4CtZQOMqCAAAAABJRU5ErkJggg==\"/></td>\n",
       "      <td>brain_tumor positif</td>\n",
       "    </tr>\n",
       "    <tr>\n",
       "      <th>87</th>\n",
       "      <td>/kaggle/input/brain-tumor-detection/yes/y1076.jpg</td>\n",
       "      <td><img src=\"data:image/png;base64,iVBORw0KGgoAAAANSUhEUgAAABwAAAAcCAAAAABXZoBIAAADDElEQVR4nD3SW2xTZQAH8P/3feecntNu7Wov2yndxuK6gpXJNBBuIrAZeBgPGgxRE41SHkAfiA+aqAnsRbk8aLgHg8P4sGRZAIdZAhIuOg2sc1MxW+Yo2I2xsXbtutP7uXw+mPD8e/0RnwIAFVupJMBpGYAllQo2GwOggAOAi2tvG6AEoAD6f83VEwAqOIAw1yUjK5dPrWK0xQyMvlu28BS1yo30RfH00T73yZ5rh8FjXOcEUCkAyNJO/9gFNUQWmz1zzutkWhFLmwEQTsAj0YBmZ4I9Pvh+sXFm3uNQIxzMUgkn4D2BP5YRRbQ0L2NGxTe7wMa7QKBSoPrzt+adtkf5ajkyVqVxImbD3u0E/8qgQOJJq+UoNzybPN5bO9eAgpCasCXxV4/JKXw7v3nvn9s0reX3HSl71w1I+ovjB/d0ncwUBMEqrl8xsc+fr1uyT995/dPV7RiyNw1Ix4QMCpQ+Tg71bcqc0xVH4+PQBmYLNurFD3o/umCUbRTV3SfmPB9+/GhzwFxV44rLD3JtnbeCjSklYxGLircnMq4V8lKqKdPhP2tfbMkM0fqqdHtDDQV+6cqF8pOtKSsrXsoq48+dT6w8f+z55LxLEDi+Drwy1kENBrbwUqyislbvoTOHv/2yM+8mJtu2xR2cCi67F4rt/uKJq/scEeLs4cJr+c+qBHrqu2mTJ5pb2ZW++CbnMAnKfW5/KUG7U3UU+4cUZ3/k5XTl8lT7vezyHS3FKwojhbu9i4TmwO/373L3L66N/um5aZMP5Vgbeefv2dpwXRUpS2Tv7htq/U9vLkgz3ocNYt458kKOXz7SRAKEk7lrk5U201dTSTl/a/6xM1XyZCUpKheJStFR+8YGxRzRfk/qUcXxasXnHyVGlKW3ABTXW4pTB2dCJL7k3jgeY87SrIcF1xrsZ0AAJoPD+rCIiBXfmrjq01yZu2fDoyUFwP9vB7nE7v9wdRfPf/L9ngMYNHJrntYkYe2OyeEgjK7Dan7gQfPylYCukuRXgKgDRt02+RlqGEJsxDQAAGzgP0r5S6j6YUzYAAAAAElFTkSuQmCC\"/></td>\n",
       "      <td>brain_tumor positif</td>\n",
       "    </tr>\n",
       "    <tr>\n",
       "      <th>88</th>\n",
       "      <td>/kaggle/input/brain-tumor-detection/yes/y1077.jpg</td>\n",
       "      <td><img src=\"data:image/png;base64,iVBORw0KGgoAAAANSUhEUgAAABwAAAAcCAAAAABXZoBIAAADN0lEQVR4nAEsA9P8Af8D/gAAAAADB/YAW0gU+crCxf8QAvn1AAAO+fgA/wsAAAACHQD2BACI0P+j//D/iMcAEAEuePyf9gD+AAICABsmAEoOJzQAAP8hNA0V/9D/Agc2AAD8AP4IFQA0l8EDTQBsXihVmdWlRwCXAAN+BKYANf8B/wEAA26E/7TYBATQwCoAvYiIVRvyjwr2BAQrzAH/AQD7DP09N4Xa0sv87k6Kpf/dvhTYpX+S8fj/AvwBOAX0H5fYApHFXOyi9sH66Ujxwy4hfudaQvYEAgHIAAUG5DXPPQnt9RbrRCpGcg13uNnphJ8HCgL+/vkAaZPTesn7tkJEitopAOJqMLPtQC35/vj3AgQDbAzlg95SLfVlYhDYbuSxcrvuHCtJ/3okAAkA/eL5bvBYKjqD06+pPQJaAHSM4U29+mzhAJnO/wICHTlXXg5PQQsb4hCHeMQGDxDTS2HSKjhsaSr3Af8C+HSyNUVnADDOJ3cPXvemIfHKQ7hs2rUHvsIA/y0GiHyyARcEAGCDlgAaAAo7uDfET50c6QCF/wD2Mg89vT9TCgjv//bJ06slgP9BGf6P6aVaAFn6BADO/wlKHP72AQo9KgdRNzCl972yaTHXFm32E/0CBzbhfEGF7DDaB8o4D9dOdFuxrc8k60END96U/AT9RC8/5+I2po0AokiqEgGYOgNVoxYQ6bPR5QAMAf+94cRZhBNWBWzYuhWuVSmnNND3BujEX5wUhB4B//EfpLUbjJ0KziTvuyu8GXPN8omYYXDn86/XKQL5Fzg6PMIZ8f25nfsE3jP8rfOgeCR0AKOwAfr9AgcDWR3OQrXk56Q0HivM1kIVE5Is+svam97/NgME+Pxo9VPxpbQ9+PcIugsccAA8TpaHKwQ8MV8M+gD/BQDc9/wsgjemUghBQw3DGxEIXU6DnAC7CAX/AP0aBhWL/wW1IkesemEJedCcU1CdUf8AuJxnAP8A/wkBAgCNdhAA///s5gDmag+NrcwH8vKWJwM29AD/CgAABAwAsKr/5/MDAQEAAEv5ZnMAjgADEAj/Af8CB/gP8QL/BAwAaRkG9BcMvLbgD/P8AAAHAfK/VmZ8JRBTfgAAAABJRU5ErkJggg==\"/></td>\n",
       "      <td>brain_tumor positif</td>\n",
       "    </tr>\n",
       "    <tr>\n",
       "      <th>89</th>\n",
       "      <td>/kaggle/input/brain-tumor-detection/yes/y1078.jpg</td>\n",
       "      <td><img src=\"data:image/png;base64,iVBORw0KGgoAAAANSUhEUgAAABwAAAAcCAAAAABXZoBIAAACSklEQVR4nGNgIBK8e3WPF0WACcbg/s8gxMJ0PZvhx392DG1qbELz/9z/y8D0hcEEJsYIpZvb+gRtThyXLmq8KTiFieU3AwMDAwMLVLKGxYb5g0ZgL7uy0oc+XslX7xFm/tS9/f3Upa+3Hm1hqPPQtl4gzMCDMJb199u7f9n4WT7IZ3+595HXMDDmB9y1tn/2HmZl/PTur/BfYR1uJZUH+378h0lynRA6/01ajPnZGzb+LI4LmmoGl/4zwyT//uZhZH3N8F5Z8utfPsn62/LCagxxAlBJlpCH3w1+/VbgenL3Kt99RrHrZ7PnP30Plfy6puzzxR/fRVgZPhndcT0o+MzOWH4fIzNE8n+C2KuoJ7Jc56+/qL06+bKiyn//p2z+fyFe+c+0/dqriF+XVu0K0rkm91npnZVub953I6hX/n5heHZkH4NZqEiCwW6eswJq8wM0rVihwXeLjd3y6msRWUeRdT/ULd/JPrR5I/L1N1TntI/XjrDF93J+SzzBJrxHYuk5nqhP3xQgIfuX4fqZBRmMs488T2FYzcAw8YTPttVKP0UhOqWaNO7cVFz9/2Lhlagd/3k3XbnGF8zC9hpi58ta5iUWV7lZ+IXOab1jlJb9kvGLcSEjLOB5Pn5RlL7B9P4pBwP/1HDRm05fufLhkf1V6RXjnefXWJzfSz7dzWbOaKD5zRqRwF4z/p9vYPrt+9lHv7il3geI/v56DDl9MX5j/38479jDzWv//Y/5jZH+JP9+Y//59xkrw6//jOhyEPDnvyErdhkMAACR3OjdwIfvVwAAAABJRU5ErkJggg==\"/></td>\n",
       "      <td>brain_tumor positif</td>\n",
       "    </tr>\n",
       "    <tr>\n",
       "      <th>90</th>\n",
       "      <td>/kaggle/input/brain-tumor-detection/yes/y1079.jpg</td>\n",
       "      <td><img src=\"data:image/png;base64,iVBORw0KGgoAAAANSUhEUgAAABwAAAAcCAAAAABXZoBIAAAC5ElEQVR4nG3JW2wUVRzH8d/5nzOz19mdbeu4tNsLt4pbLYQmSAyVxBSxxmCIICGCSWNMJNCEqlFe4MGYmPja+KSoUWui4iVI2ggGEkwTwLQQCWIq1pJepHS6u7O73cv0zDk+6KPfx8+XNQYBUywwpBEQ01xBgQCtFdMW1gBCwGIQfLCuKwqGMIx0BtvWkwMrlFiPsEDUAecGXsGzNZOEEETUQIhU7gopx3T4s7f6Ylub8pGNvpIAgwJL1aVCSNYHlntHty8Gpay4nr+sDQDKJuYrJlfr+0usND3f1o5vFty2d0kCCiAFWO/wAzw/c3GDvu8/n56OTs1+2KMAQABYe2aovCSNmBfLdrztBNUHJtxfAwMAAXjNK0+Kw0/4UXXnPdoUbF7XuHs1LZkGCehjf81je6418fjNHM9sLabs5nE8qJmpCWAs1DxjBrmeDaeyDx355VBUhvODf7TzAAT4xZ/Gh4otK/uu7o49olY7bvezLTKI1QECT8gRtxKvOjfo5YOXRuKFR39rLmXP/s4B1uRGY3sXnCzkvZVMZmm6YLTtulH+2v+7KCzB9pytLC8mLVnw/Lwg3Xlrqnz9jjpe+XwBJG++gHLnzouHumbjT/JeYuSNbBocmL87568yOyjtKm52n/vypdGGJTGX7JqrhBpmC/m9J3mCWBmXrcn2K+lP0idC5aSTSXm3x/GYzSMBSKNmRQbMXC0ePo1wsvZdqTNsboy1mJIgDN7qPj2he6/odRdkd2N/y8T7Ce/nivOGNkCSlnF0xS3e2/aBu3M0d45nF+sHnvF/BJOMIJWHge6xL9xw37fDb3pDc/0HP/V2IEkEAsg592roxR/Mpj+7TosdhWuFrw5PfdSBKMBSHvDwLQzPJC+tuX+qdMZ0dSsbpqog2CzlATBrPJj8OFy0+4ILker3sfR5ELSDFBERgQsLNmyL91iD500QEbrt/yYRXo/rqqxVngptEf8CNbGWPP4/jsg/DIgzTJ5pFNkAAAAASUVORK5CYII=\"/></td>\n",
       "      <td>brain_tumor positif</td>\n",
       "    </tr>\n",
       "    <tr>\n",
       "      <th>91</th>\n",
       "      <td>/kaggle/input/brain-tumor-detection/yes/y108.jpg</td>\n",
       "      <td><img src=\"data:image/png;base64,iVBORw0KGgoAAAANSUhEUgAAABwAAAAcCAAAAABXZoBIAAACzElEQVR4nHXB22scZRgH4N/7ft98O7vJmmz31MQcdj2UWtFUihBavCxCtWgQKlItvSgiYkFBUUSp2F7oVTyAFwqKoOmdWi8ULxRUqGClmNKSuhKr3dpYs9mdzc7OZGa+g3+Bz0NNozlxIMfOCW2ZWTMAECwznPpOO2NJFOa/uH72nbfaXyoBrbNM36BmyghB7L5tvbbzwNJc7P/UWZkiDUvrDEQDxyh88sSVB0+f3tuv2n0n+Pk3JNgxNdNAMo8tvTklInnbh7u5xP3R8OoH96VpjwHBUB+fKOtutXRvvqNtvujRAwtz5DkG4PjX4zWmanfts8quSZHMDPjy2MkRIgac99ueOkil2RjXb0qMsVMF2Vg4L0HNdJCbF6PSy1lZDFf9KUp0LSus+qNLawx4n14W7sV/Fo/cEYfVqp9t89RIVgyXz4IBfnnGmzvcfTV+1MMPF78vb7q11HSwTYGBo+uJSMcbvcXHHu+rxn5V3+Eb63d5AQw8WZD96axzLS6NvfT0BIapKQZOVpIEEmhYyibqPX3kkWdKeblZFHE/bDe4fb9jYDHS/PbDX3+1cWh6k3lL6Mz3whDFGlEztfNDEXkjs232SqL8x2wuMp0O99rHn2XAVkJKEvt7XJab+agwiGNPK6rdcwgM2D1PRW7r39uru4b1fACHcKgvML2+2zGQvvDNNVXZfkNfrInrI2UV3dzVd+Pvnx0x4OV6pyYFOcWlzrS4OlHGIG/t/o8MGLD45c5lr74VltRMcEXG+fxdfgWHVwwkoKU7mMviHazIBrnsz1kMEtva6wgMSEfRc63wL0qz1SyQUrYCvXwuycgyYAn25Jm+XW/bslPjkwGZ6NStPhxTUw8YEP57ZzpuMjUHPldJmrY2yGoKGE46ASTHZi/5veH29+f2/Vgb3xBpBkBCGGHIEt4db/orB8/tfIheMaQVmQx0izP4P/8BxWNM8ub9hTAAAAAASUVORK5CYII=\"/></td>\n",
       "      <td>brain_tumor positif</td>\n",
       "    </tr>\n",
       "    <tr>\n",
       "      <th>92</th>\n",
       "      <td>/kaggle/input/brain-tumor-detection/yes/y1080.jpg</td>\n",
       "      <td><img src=\"data:image/png;base64,iVBORw0KGgoAAAANSUhEUgAAABwAAAAcCAAAAABXZoBIAAAC3klEQVR4nEWTW2gUZxzFz/+bb7+Znb1M3E12TQxNCEaoSCmtpUZqxbvQQkFQBJXWVhBLH2pBKAgiQh9a8Enom9BK0ad6wRvxwbvYQjUUI67GS5NGttlskt2ZnezufDPz74vieTo/OI+/QwpvwkwiEm/4VSUALK2wPyJ+vQQEwCBoJLg1/21x8+5t3W0NE4gIIBNpH2CurFiZPfndb6OH44elUx9FUUgyogQBQFA8cqlJPRP8lu8WBtJn+07HACSBOL9ocZ8ujom4Y6Ituv5qjO/aT4qZSAHGYGv71V6KjSBKugVftHPV9TNHgxgCSHQdPHqWOdnSVrtqWk7Y42UfPv/l3SRIQZfeaW/jtApVpfn26JKm4Wf+zZ1AcVYIChM/vbc9Ei1lsZVxTNdoz5QGWskDOg2y7PEu+kwIqxHnVdQ56WVsj2m6PNJdC0SUeVb9ZtafCtmcDWqP/nwc11Nesvjx0EpfC5ra4N1f0DlQh5FvmO1sXWc9u+5enuy9bkvR2nuqs0ZxUyg3P9nxnyNdsiJrU7ikIxZ84p9R2rdin1Pw5lqGq5Tlmq5nLcpcU5bgjnN75oqPxLE5dhpeb27GXhhnxB/XbmapLdnB6gO68sXzWsoMNj7tyc97hdpALmdUUlrKv8XVVWP9az83TPT83puVOh3NX7+7c/CHLYJU4tCDJ+XhF5er0g/eHx5qIbLrDWe6fDcNUvHs8dUXJ5rajHS4eLrcTyn31vLMnckLnzQEwmP7bzwbDxNznHQCo7sZ1yqr7NLWypBLAuog/7p2VMdZJ677TR1N5+8ovzL2o2GwBMtbI6kPAxvzVtMuPzDWDG/ZuuPGuvuSQQoJ+9Pjncu+vvey2hdkp2TNLsmRx2u0x5CAaJzZeHrTgkGEX+ml31+xnwZEChQaQEIppVTqZ6d6e12uAMnnv+yHUqZSSpF6rXAk+z5I33vSMGQMJoAYZDIAsGAwxQJgAvOrH/wPKCJPwk+q/e0AAAAASUVORK5CYII=\"/></td>\n",
       "      <td>brain_tumor positif</td>\n",
       "    </tr>\n",
       "    <tr>\n",
       "      <th>93</th>\n",
       "      <td>/kaggle/input/brain-tumor-detection/yes/y1081.jpg</td>\n",
       "      <td><img src=\"data:image/png;base64,iVBORw0KGgoAAAANSUhEUgAAABwAAAAcCAAAAABXZoBIAAADFElEQVR4nAXBXWxTVRwA8P/5n3Pu7b23o1+mZbNjrQVZGNkyUaNbCLDNTBguSjCKPmh8ILonNXEx+igagjFEoyRkkQeDokPNwAdmBKdofBkYMgbZHKTJ2q2j67r1a+2999xz/P0IgkQAAAXAlYuSUgFEAQAwh2ge8QggUQRHGwcCgeXc2N9cAhVAJQGC1NWFGJle6E2XEyvJObb886sNarMGQ8qYQIFf/AV6tQuWDt7ZG/c+tsdqMZsR4vPQ1d33xgon7qfC33ZWAvnt66/vp9M9NrjoEkW9k+Pl87XHWO+HtSLZlYaJffVdyhFAkBD+wuWWoXzl/QXqBgvXl3n0kzfx93PHiESlqDi6w+rrj676Cc1PlKN264u+lurbg4IhlbL/rdV3JzNH4qxAFj7YsgEiWansWT1mSvRQPG+G/hj0XQl/F0k744uRzPVa6VFrb4etkJL2GaPdvDJQnHojkugwEvnWQCZ0Tb/9Yw9BZQ59A7zd+1VLcKM5XW2qqFqL1BrbzjxDEZy4rcwbxWyhzG2SXVuzDFYL7ovfVBuS6WIgyp/ETfpyyK1enEqZ3Cf9vrvbXllsRXRdN/LOL0vd7UHHvu/v712Xys9dPnP5kf8IkidmYxcevnWeOO7m7IohfAG0SiW7I1Zplghbww+wLJc+z8vQszrL7a4ox2JtXfXj8x56mUMztoMhccmoz8Lj1rzhk23+f5o3yZ+c4e15st45lQrlv3RzyRs84TSMpZ3qQrhadVETt0a7M4cwOewqPVbSrMVuezS3lYZ3bhDia4y8dNJuCa6XY4a5cjB62sh2KpKbLB+ee0A0ZX36vZkbrt8L++pHzghL0zOv3fGs2ImcZBAoCs+mxaeCPN08+HUplSgd/0FcnG9raEA0x9z8t/WjvBg/qq9cPdc1efimNvHbYnqPblNEbtPhr071zXV5hZ7tT19b/unqZ9Xi6T5T6Qo0TqkGZ5UYSaaaAgcGhnacktndcUvjnAMjQBHhoeemF+6qwr3Vijq7v5UAZZRSAsA8qgCo2OJvEpE6rGUR0CNUSvo/i9ZnYf7A87IAAAAASUVORK5CYII=\"/></td>\n",
       "      <td>brain_tumor positif</td>\n",
       "    </tr>\n",
       "    <tr>\n",
       "      <th>94</th>\n",
       "      <td>/kaggle/input/brain-tumor-detection/yes/y1082.jpg</td>\n",
       "      <td><img src=\"data:image/png;base64,iVBORw0KGgoAAAANSUhEUgAAABwAAAAcCAAAAABXZoBIAAAC9klEQVR4nEXHTWwUVRwA8P//P++92ZlOF1t2A7Td0IWwVCNqAAPoAUqAK9EKSIIhjcXERDyYiFw8GA9e9EQklHjABA/agkGRbxCoBAMVSEm6C7RdV+gu/djP7szu7M57zyO/2w+FRkAIDOBAUgYm+GQ0OCgErUmBAxosMN9OV3774VrFLQ40bYWoAYgRVoF5IMaPXbxZn2hf2b4u+1dfDgKuQRLoBjSEf3ZscLAjdfteVQ5cHG07H4RAEpFGAWy1Xnx0c7yY2J+D8JtbDn/U95UCkoSmRBSfPZ1baLDlVefkQJyNu+U9m1eZigfIUTTBf2v9zOvFuSB+rjdi3+t8Pn7FNhuCMSbrkce2P/JS7WiibEVL4baeqWDtxofAUJFEem0HO34iVfogb4XBfqJbq8kLzw7liSm0Jbp0jPtLxW3WXJx+I7mCq/lfJ2Orfw8MCpT/3c5tmbsjf25UyLrS3Vr8ONpTVmfeMRFN48vhZL9ZtK32WWib72i0+I7INZ9nLltIWn7yz6bv0wy9uWX1nG1VuBOUu9zYVT+qsYXlm5t2WPdtHrYKdidNxHmo+uynNd4o2kRlPHew1LWkUQtny5WpapR5wfTZD/clqFOShjO7ksXhCcuRvaecyWjGa9Pxgdlfbhh7NUl4l2Zii3RdR5vwKhbXFQ2D1dzYgSADjEJ1fLp0Q7mQKH1+sFpj2OUZKhGZvQMPDZKov1Fq7Nq8XLb1Zb6gDJuEnspOpHpTgCxQet+2xmSs0or/1c05awWYXn3IuW5GXTIiR/hwZizimYh27UJsJYIVcd9b65z0ORmlbyv9/3pOqSWU462G+qIqU+nS0PFHB8yAAsptHTxc+Dmvb2JWJ6c/dgs9bHpV831wARka9e1/DJ1/xffjX+c/TS9hpc4jHXfXP+IAhCDFSHjPJblw+gFbVGi9b8w03VvOFFcAwLkwDYH9ejfY0A2A8PedvnZigguBIQkagdBUW8zlj7uz8tY816A1UwAYhRdIa036xf8H60RiM+AqJtYAAAAASUVORK5CYII=\"/></td>\n",
       "      <td>brain_tumor positif</td>\n",
       "    </tr>\n",
       "    <tr>\n",
       "      <th>95</th>\n",
       "      <td>/kaggle/input/brain-tumor-detection/yes/y1083.jpg</td>\n",
       "      <td><img src=\"data:image/png;base64,iVBORw0KGgoAAAANSUhEUgAAABwAAAAcCAAAAABXZoBIAAADA0lEQVR4nC3LW0xTdxwH8O//cgo9LZy2VEBYqUpUkMhtxs3gYLIIBjXR7GJ4mNmWJWg0boluLrskPGzRbNmLe9kewJi4LS66mPmwGG8gYTMagjZUBi6sdKNH6mktHE6Lpef89rA9f/JhITCyIYCCi5RCQTo2BxxOBAhpMjAADEWfvZ0vzyMx3ksACCAwP8AArEyH/Ise6TBGxXEWBIEADgBQMyul4VRtCpnR17zWLJkEAJAAA9dpJewcOlgn7x+8ZTVtTZa4swz/TRJc8Qr57Ju+eXp5m9Hy7uNyU+J/ZP1U9/Wdb9/vXvuHr+uT7Nzn5rW/O4kxMD+DSnp0bMuGpWO/3BVGbPGHsqrgpz1jBQIHoCf2xb9n09F3ogXeXtv6fPXSU2SSBHAJvKUURf56Y/tLxz2VhdHzo+vnSVw3xiTAC6AXBro3mnPQFi97rDVnWn5zJexfH81YDjhD6YfJTcW/BznPiKerlJ2IO8H0UF2fySCJDbYbZm7haui9bddX9t4sPZexj/V/x17strwsgEsdP4dtj1atq42xfXeNr9KbcxM9p8suUEBC9FxxhaYq5ZRrUAlLp8mYTUXWvdIxwm1w2N7ghosyQQmnbXggzXWjfabCfPXAHAM4N5dLKnbwhuk6T21m5nAh758JSIo1URcg7VRxOmpWRRoTvun07M5/ftKeVAZoS8emcQW8qEQ7OzkfrDbKptR7vQr70qp5NnVbP55iKrhlP5eO7U2Yc2ntIm8eXIv6Jfdyy46WpasucDH854GGsyfuVd84XzHBdifUibgeyMcO5T4AON48s/WhW508zbXGMtGvPXDXcDM6tLCcBnHu7RMbc6vXNLz+4Ed1eyiEyBfwdY3b8RyBO8bqXJv6aPjcEb7fsBong835Yr+/9UQniDgc2RZuPqXcT8Z6U7HMjYcXLo+MrNp8ZYFA0Hw+b3226ugp+6N+JTywSyTrWba81OfTfJoEMamv7zyJmo+P7GmN6BBDJwNuQWAAC3IAIK+VLWLCBpjNmXAAQMh/ASr2SXZ5M3kLAAAAAElFTkSuQmCC\"/></td>\n",
       "      <td>brain_tumor positif</td>\n",
       "    </tr>\n",
       "    <tr>\n",
       "      <th>96</th>\n",
       "      <td>/kaggle/input/brain-tumor-detection/yes/y1084.jpg</td>\n",
       "      <td><img src=\"data:image/png;base64,iVBORw0KGgoAAAANSUhEUgAAABwAAAAcCAAAAABXZoBIAAAC70lEQVR4nCXS3W+TVRgA8Od5znlP99G3ru0KdO3oUjqZtIxYdGyGjJEwHGACCYSoEfGCcAeJ18REEojG6I3ExJB4IdxokAuiXiAqGjQGIiOAHR8hGWs2u7pu69tP3vY95/GC39/wQwKhURotDJI2wiMGAEAAYEBhkDSxhNb2NhQXfXtW+JrFBgAAQCifslDK8BpIyWCUZBy3TIAQgp6DDoJhBbJmr5Z2evOq5BxXWgMAsWuU68t6jnU4nfmc/Edfd+v1m66S1I0Eqt3Adt5sXJD9CyvsFDpPNIr3X2kF0CViQ0pHFnPvvNVZnGy27Ob0uTeHMfdGlQ2TMISRVevMr6Ftj66UI/fW9oEVeDc2Q4qZwAgsNaPhleTV8NE/IvsK86/NpUKPCx96CCgB+dXbR1ZZPfDbvomL3IP3kmbq0+FpAgKmt/+Kthv6YbdxW6cSXrW1b0PzbGxa20zEeDnRuBB3g+LFZy9tihWUmC/2jyi9p8aERPWlT87fybjHHmflgS/GAo6cDKcOwQMfEptTaQy6W4c+K888CfLOHyp2evZuOAl9zJLZzgFGU0+9gYkt1ycGk39nbhUHfnoYvmksMvS1GrO5dPeSrOXhg1/mupeGM61Rrx4USKxz+0+e+T7/ZSNecf79eENHffU2ta6Xs17WkICetV+183O7Zj/aCLnoDScUelJaLla6yiMGA5WpyNAtLgkFHRZfGceu5dHFwrKvRGOXqNJ74eI3yZmEf2RF9fLo+twsxfri69/r23qZ0We6dK0npNes+y/z544f4+l/nlmjtYVr8WqVSHu1zar8/t5cg5b2ugm0QK/Lf/sbDDnIBIJasdSJ8ztmffCd0+7+ObQ5+3uzKzRuA4MUyt4FArefnhw5B+mD23b7rTGCIyiJgCQqGN+vBhGkinXCcewHOPSCACEIBAlJVnywMygIoTcAm0RiSjyviVITgAk4L6unuyu67reqA1cXGBAYEBEBUZMhBhBsAJiQ0QAgw//UdzyHh2P2rgAAAABJRU5ErkJggg==\"/></td>\n",
       "      <td>brain_tumor positif</td>\n",
       "    </tr>\n",
       "    <tr>\n",
       "      <th>97</th>\n",
       "      <td>/kaggle/input/brain-tumor-detection/yes/y1085.jpg</td>\n",
       "      <td><img src=\"data:image/png;base64,iVBORw0KGgoAAAANSUhEUgAAABwAAAAcCAAAAABXZoBIAAACGUlEQVR4nGNgIBcwIrGdXVkll554i02Z8nV+O1NGhqkVWhhSTP+NhBgZmAQNGBSXaaMb+8vuVNGfV5YPJP64tvnOPoYi+W/3hl/3mRhl/92xvWbSwyx0B2IcJ4Ozoji3lRjjM/Hfu0USat77G7jmRTJII3T+z3n2/zv/jx9/7/ucZvlzZEa2xAsGBgYGJgYGBgYO8ywFUZ5f/5jfMh/j4+Ty/SdbyACXDBRaevnzW5avDot/t+149/c3z9rVMnDJK/+vSwky3vq2qX6XiePfb+wXTblM4ZKXivjuWVuw/X16v+rjj1+CfxgnMXxhYGBgYGFgYGCYk3r90x1Dtr2MFbZfGDg/iz2SevcPLjmt8PG31z9l9T+YMV/8wsP8icuWZR7c2AsM608dZ3seyMr42vgow19+tlOOCK9s/8LxjvXBl7s/cssE//N8+8R34JkRE0zS8cPnj5++nD9l8pBrHj8TH/P/X5Eb/sHsdBb4pPNKiv/jC47XS58LMPtFJH+tgAfffhcffpMPL0TPM+kvM/rFxMn4ymX1KQYGBkYGtv+SDo+DHv9X/fRnv+BPRrZX7NK8L5cyQ4z9xfBo0X/G3Q/+79T8qvSE/6vlT+Gmb/n/ELGS4NzqxPyYVeRvlk5c45Kt/O5lyJHtwS/E8+MLh8OxV4xRm6Z47UFNJgw/2YNl3l6OFG0smX8eS/IrO/X///+uUA4sUiQDAFId0nsPfxPiAAAAAElFTkSuQmCC\"/></td>\n",
       "      <td>brain_tumor positif</td>\n",
       "    </tr>\n",
       "    <tr>\n",
       "      <th>98</th>\n",
       "      <td>/kaggle/input/brain-tumor-detection/yes/y1086.jpg</td>\n",
       "      <td><img src=\"data:image/png;base64,iVBORw0KGgoAAAANSUhEUgAAABwAAAAcCAAAAABXZoBIAAAC60lEQVR4nAXBb0jUdxwH8Pfn+/t+f787Td2ZnjuvbprFZakYtXKMigoKytPCJzWikS4a4YMeRKyH+wNRyJ6MImyOHmxBEVpRG9Q27b/JUuMah5lBdmKad+H07nf3+/fZ60USABOBiYkBYoDAAJgcCQCCASJAY/IAMIgBAAJEBAB2xUHr0cPfrfURVxALAgGCAJBAhXxkF26N3+/8uIejZcQgMEFXSuryV6Ol80XnWWZO/7060SWKlFIaCY8gZOS229V9aXDka2vLxapPO4ztCwzWWBATzPq2iZMnHpQO1excMtHr4EFjrJgIJIigFf5YfCGRCjilM+cOT/eOfzvXNZJ3STDp7F3bF9qhwk9Cb2pnqia18FSqJLvpRZ8kW4Dkl+qH+tGkP7fs7X7oS8bmW87sNm41aUwSaLSH27cpafjsxcSimgpOLPyMtEVCOgLWwDDTthXjb96tNb4a9VZ55Q9rn5UcUOsYpImQ/+mRMTNcuegL/3unue7e8vl0zYWfXnWFLfKXpnL45nGdN+4raL0cjER+CVl+Lu92PN0R7vzFsgatIp5Zk7qCoJdIV2bzJebrox+agpCQK783B7kgOSdpuqzwfl4rTvVXxK4fGzMhkGu6ek/TTX8uunj+sdDiOT+tNv4o3TsPEm7uSX902UdZx/e+3efWqv8C+WjbMbH89CbJUnqxjRtirbrtuKFo2WwoVV21PpM5dO5u/0GSrKWyZ2/uumsmP/HKpz9LJI/3pQOZ5/98/lJn0sm1abdYi6kPuuWERk9W56xIfPLSsN/ISjBVf3F5+pR8N1nZIFrmRJFQATM6tkezIQh4/xvidaO8xR4oGCjqsX3Z73oXrEEGhOexRTM7gxHVUbLjz1uzwXHXzlc5gQwYUEopo+gGmmu6W5tnlxr1pzoaRTsppRSglK50HQ2Mw8nrf/X1FFLDlTallFQSJIkJTDb0zbHQ6/KBt+YQlPAAhkOKmUBg3VY2PCIQewJgMLz/AYSBQvDY80nhAAAAAElFTkSuQmCC\"/></td>\n",
       "      <td>brain_tumor positif</td>\n",
       "    </tr>\n",
       "    <tr>\n",
       "      <th>99</th>\n",
       "      <td>/kaggle/input/brain-tumor-detection/yes/y1087.jpg</td>\n",
       "      <td><img src=\"data:image/png;base64,iVBORw0KGgoAAAANSUhEUgAAABwAAAAcCAAAAABXZoBIAAACn0lEQVR4nG2SS2hUZxiG3+8//7nMuUzOyeQynUCbQGJLVLpIEQyuFFpFMJu0JbQopYIWAqGbQinFnQQXKagIXbgJFLpyUSqKgtBSRE1CIFaRtGlTcnOmTjJzci5zbv/pIhIIzbP5+N538W4eYA987wv2+qocC2maJ9iHApTjpI1yGumG1LaTEQCwynoif9k/8NeTePgnZfP9G2tqTPnrEuhdvnB+1iDGSJ/sT96YGn64s0gATi0fW6kXFtfDRiUy4L4c28h3yhzE73zcbVWLA83ZUOvrjHXER691AiBQ3lEZcjUyjjadUpaL24HWSIo/ROrOpnRlJtJa4uXI3xMrw8UPlYRrrt55axkEKDE+4nbdZ3bEmlZ7c7Dqhzm/+6LPZxzxJweZsrVq9FY79LLeoEe1OKfsVYcnCCwof1Ba6k40tSVlv7VOKA1ZqbY54sjnnEP8UnDc5rv/aDG8n0+WNgxb57LXsMZzlVM+sdkw+v9VWpS1Ltp/WqzgblsJssGqYDm+OrRuJmuJJgfFxRdCitdDsW3K4dxZwUHXB4UndVEoZNlcqeiURcQzR+irgiGvhbafkueb0ervb7W8wNcKkru2FT0DAz/ZITmOJHPD1fmvask/1yNlvS53LhEz08s31UUH+tIMs1it5qk/MtmqpV3vTDLmSae7nvVssPhNKh0wc7vd3vwj6UmH7t0qZwTgmwdvB2TIYd/8oDMfiHJcN9VpXPgeBCA3+t9LWwoJKxKRXtV0YO55o5LGDACbXjA1UrJtb6tu14o8osP+EzuIwQjIP5u5ypRAsYP0ad3K/eixO3VsVzC0ff1F10jYts2611SVxeNntsyAMhkAYACFT6eKY6OlcQDPv7OYBIIi0664SvxtuSrMh/eZv5/X/+M/CbYV5GGWTp4AAAAASUVORK5CYII=\"/></td>\n",
       "      <td>brain_tumor positif</td>\n",
       "    </tr>\n",
       "  </tbody>\n",
       "</table>                          </body>                                                          </html>"
      ],
      "text/plain": [
       "<IPython.core.display.HTML object>"
      ]
     },
     "metadata": {},
     "output_type": "display_data"
    }
   ],
   "source": [
    "train_data.explore()"
   ]
  },
  {
   "cell_type": "markdown",
   "metadata": {},
   "source": [
    "# ![](http://)add the Chest CT-Scan images Dataset to the global data"
   ]
  },
  {
   "cell_type": "code",
   "execution_count": 71,
   "metadata": {},
   "outputs": [
    {
     "data": {
      "text/html": [
       "<pre>Invalid PNG file\t file: /kaggle/input/chest-ctscan-images/Data/train/normal/n7 (2) - Copy.png</pre>"
      ],
      "text/plain": [
       "Invalid PNG file\t file: /kaggle/input/chest-ctscan-images/Data/train/normal/n7 (2) - Copy.png"
      ]
     },
     "metadata": {},
     "output_type": "display_data"
    },
    {
     "data": {
      "text/html": [
       "<pre>Invalid PNG file\t file: /kaggle/input/chest-ctscan-images/Data/train/normal/n7 (2).png</pre>"
      ],
      "text/plain": [
       "Invalid PNG file\t file: /kaggle/input/chest-ctscan-images/Data/train/normal/n7 (2).png"
      ]
     },
     "metadata": {},
     "output_type": "display_data"
    },
    {
     "data": {
      "text/html": [
       "<pre>Invalid PNG file\t file: /kaggle/input/chest-ctscan-images/Data/train/normal/n7 - Copy.png</pre>"
      ],
      "text/plain": [
       "Invalid PNG file\t file: /kaggle/input/chest-ctscan-images/Data/train/normal/n7 - Copy.png"
      ]
     },
     "metadata": {},
     "output_type": "display_data"
    },
    {
     "data": {
      "text/html": [
       "<pre>Invalid PNG file\t file: /kaggle/input/chest-ctscan-images/Data/train/normal/n7.png</pre>"
      ],
      "text/plain": [
       "Invalid PNG file\t file: /kaggle/input/chest-ctscan-images/Data/train/normal/n7.png"
      ]
     },
     "metadata": {},
     "output_type": "display_data"
    }
   ],
   "source": [
    "\n",
    "# Load images \n",
    "train_data_chest = tc.image_analysis.load_images('../input/chest-ctscan-images', with_path=True)\n",
    "image_sarray = train_data_chest[\"image\"]\n",
    "resized_images = tc.image_analysis.resize(image_sarray, 28, 28, 1)\n",
    "train_data_chest['image']=resized_images\n",
    "\n",
    "# From the path-name, create a label column\n",
    "train_data_chest['label'] = \"chest_cancer\"\n",
    "\n",
    "# Save the data for future use\n",
    "train_data_chest.save('/content/chest-tumor.sframe')"
   ]
  },
  {
   "cell_type": "code",
   "execution_count": 72,
   "metadata": {},
   "outputs": [
    {
     "name": "stderr",
     "output_type": "stream",
     "text": [
      "/opt/conda/lib/python3.7/site-packages/turicreate/visualization/_plot.py:461: UserWarning: Displaying only the first 100 rows.\n",
      "  warnings.warn(\"Displaying only the first {} rows.\".format(maximum_rows))\n"
     ]
    },
    {
     "data": {
      "text/html": [
       "<html lang=\"en\">                                                     <head>                                                               <style>                                                              .sframe {                                                            font-size: 12px;                                                   font-family: HelveticaNeue;                                        border: 1px solid silver;                                        }                                                                  .sframe thead th {                                                   background: #F7F7F7;                                               font-family: HelveticaNeue-Medium;                                 font-size: 14px;                                                   line-height: 16.8px;                                               padding-top: 16px;                                                 padding-bottom: 16px;                                              padding-left: 10px;                                                padding-right: 38px;                                               border-top: 1px solid #E9E9E9;                                     border-bottom: 1px solid #E9E9E9;                                  white-space: nowrap;                                               overflow: hidden;                                                  text-overflow:ellipsis;                                            text-align:center;                                                 font-weight:normal;                                              }                                                                  .sframe tbody th {                                                   background: #FFFFFF;                                               text-align:left;                                                   font-weight:normal;                                                border-right: 1px solid #E9E9E9;                                 }                                                                  .sframe td {                                                         background: #FFFFFF;                                               padding-left: 10px;                                                padding-right: 38px;                                               padding-top: 14px;                                                 padding-bottom: 14px;                                              border-bottom: 1px solid #E9E9E9;                                  max-height: 0px;                                                   transition: max-height 5s ease-out;                                vertical-align: middle;                                            font-family: HelveticaNeue;                                        font-size: 12px;                                                   line-height: 16.8px;                                               background: #FFFFFF;                                             }                                                                  .sframe tr {                                                         padding-left: 10px;                                                padding-right: 38px;                                               padding-top: 14px;                                                 padding-bottom: 14px;                                              border-bottom: 1px solid #E9E9E9;                                  max-height: 0px;                                                   transition: max-height 5s ease-out;                                vertical-align: middle;                                            font-family: HelveticaNeue;                                        font-size: 12px;                                                   line-height: 16.8px;                                               background: #FFFFFF;                                             }                                                                  .sframe tr:hover {                                                   background: silver;                                              },                                                               </style>                                                         </head>                                                            <body>                                                               <h1>  </h1>                                             <table border=\"1\" class=\"dataframe sframe\">\n",
       "  <thead>\n",
       "    <tr style=\"text-align: right;\">\n",
       "      <th></th>\n",
       "      <th>path</th>\n",
       "      <th>image</th>\n",
       "      <th>label</th>\n",
       "    </tr>\n",
       "  </thead>\n",
       "  <tbody>\n",
       "    <tr>\n",
       "      <th>0</th>\n",
       "      <td>/kaggle/input/chest-ctscan-images/Data/test/adenocarcinoma/000108 (3).png</td>\n",
       "      <td><img src=\"data:image/png;base64,iVBORw0KGgoAAAANSUhEUgAAABwAAAAcCAAAAABXZoBIAAACZ0lEQVR4nGVSOWtVURic7zvnLue+9/LyfMbEjRgVJKiJNgq2NtqoiFq5/ABtBLEVQRBsFARFLRRcEEQs/QdiIyK4FIoRXEJcsnjfTe69Z/ksXEAdppphmCkGhP/wv0R/SP+6Ax1NMIOGwUD3b68P/X0q6UdTAWhpZD/DGgDwHcc+C/H9L9g6Dll8liC/qwTxUVUHR8rMZ9VCZHE3/72jU80fTWzc8s4snqm48Hm6cMtbgAjI6GAf5RtPSbbLNdWcPDiswuydAgCjJUXsqpHTmoayoWZjRXfvdYv2wRYBDK84ZXMOZbwlZWJvlu+5aklIAO7U9QnSpCUtOh7kA6nh5jZwARD3HOYqutFlrWBIQhQEfMVFHhDWqFVYKR+DTTWxFVJOohexQwQwY7U07wWjRASBtXegDeiXAw0Ce+xs82sQm0ZlkRCRv5QTpYvmBcwQW3V18Av5jTDnfGDuTkR55iOAPfpo6GuIR5Zoc03PumCv5xKWQRcJdFQBOdP6Z4ORA9SHyYkEC+obAE65hxmno/7nejoqy2LRxNvN8cZU9UqHUhisTCfpDXs9Koc2hU/28cyTmDMTQwJDHvq3ZfIRYy8H103WwcaNdqhL/wiwDHmXq31WjbzjsuoMyABXvfKATD/VBCaiy/lYoz2Vl2u6xTdtxqM483NXEQAWCkhe7WgNd0Y3rf06PZq+SszuoBQBIES85P1xZWZbq6Z6K5Pe+zd2+yzOEA1OVwQs/R7iI3GU2jouYlUvrybry+2SVAECcOHilJOT81YjUZDSuZsW42tu/7ptNnRtLG0Yk8ZJ0sgyk+0/nwHAD4GVB2HnpG64AAAAAElFTkSuQmCC\"/></td>\n",
       "      <td>chest_cancer</td>\n",
       "    </tr>\n",
       "    <tr>\n",
       "      <th>1</th>\n",
       "      <td>/kaggle/input/chest-ctscan-images/Data/test/adenocarcinoma/000109 (2).png</td>\n",
       "      <td><img src=\"data:image/png;base64,iVBORw0KGgoAAAANSUhEUgAAABwAAAAcCAAAAABXZoBIAAACX0lEQVR4nF1SPUwUYRSc93b3u73dPbgf4CD4g5VoQogYFUykNJHCaImRQhNt0NLG2sSYWNhYWWAiMcRCSYx2FtrYaEJBYoFYgCGAHgd3e3f7+z2LO4k43XuTeW+SGaANs5ixVJlwAO2RetLISLydrt2evSQXNklIAJgAgMzoCUqIxX5MbshJOYnq+8ryTEBaxNSiEi1mLOmrMATAADFaiRYit2hETCRsqeuq1CYz5rQ2UrFPhQ5dcnJ9WqigZjo/dYZYG9bg/YyBt5P9T69FXAWfXN4FA1aDxaTcA1Zp3OyJaSEXQ+vREGDAvt1ibayYCBxrplUe67JguwQBGBQwNDufWMnw1NCIN5y8sKNWmvEscMfvBCwr2T6jfUptZUOMKDXByNko5VHrTjVPy1p13TgfKTBpbYLRjERL97cw47toDEjX0pbB2tWkfDDiOngcHPq2Wq1soNFatYKCLRABQ2DQ1/R43osvrryZ8+0xrYObIFQKMFGqiO86a3WohaF73wd+l6k3N+/LhlTBaMCKqrSptFM6W5eYXmMy1DYtAmDk8USwVbx8RIzeSvTuS5y9aotvAABjk/BRaCdTHJm60jJ+rART76u7yXNQJ08lswHfXWxGE5+j5dNoCryH+2GbMG6o3ppdO7xnnfvQJPflT4G0SbIIQnciEi7GXIvndJySdJSOd3SJWXBhPErgzW+nnFhm9e9ZT+fTPQElVkqmuAVap0bbLQD/EerZI0bW0l2DqnBobaO/8W99ndlb3Z7jZF3H84496ztQasATio2+XOtXYAKN/0jAQ0pgCPn7qz/hGwTtW80/eQAAAABJRU5ErkJggg==\"/></td>\n",
       "      <td>chest_cancer</td>\n",
       "    </tr>\n",
       "    <tr>\n",
       "      <th>2</th>\n",
       "      <td>/kaggle/input/chest-ctscan-images/Data/test/adenocarcinoma/000109 (4).png</td>\n",
       "      <td><img src=\"data:image/png;base64,iVBORw0KGgoAAAANSUhEUgAAABwAAAAcCAAAAABXZoBIAAACVklEQVR4nI2STUhUYRSG33O++zd35s44k6bZYA3YIhA3uYigqMCNi2jTwgQXgS7btKoWFUibtkL/kNDCaBcUbStwUbkIxFCKIJMUTZ3f69z73e+0MJvc9SzOOfAezlm8L9CC/pY/cGt0ARCIdtrOIgkAUm6S5Nyaa5perbAMgEVAJADQto3LjntT7CtNfvOhwGutP8i6YyEZlYqQeBXi4E6wLru3c85F4jYrXcxuLi51uGu08roMABaAvDMs+60X86ejvvipXTcPZ7rjdEMAIgnSwwjUpFaNa+Lbc69Yj2+qJ2EIsICHCXQ3ozDBbUp6vaR9krGdAoHhDzIDiFLKFhOF9kn9S/XK+BaEGKoItD+KmY6Iyw4ZM5DLLRhcz0EYmtsTbef7+1drzUSIVnmj8bwTVQtg+Eaft73a7M9jngebtrfe2yZWlokyxE6iuGy2VVe9uKydyF7/mmpwUWtVrQtHichcPCThaHcbLbHkz54o6KOmA8iCQcYYdzg9CrPcPFTXU+W3yAwWBCiDQXmLii+HkltRiejwg+ZSAm9hywgcMMo31vWXTId1NdLZzTA+6Hg8mK5WArhgQBVqTe7VqVRS2jg3Uqk4+7pCY26juuPKRBWuNfIskUwo8cfS8fmmvTQtBgSgeyVXGtR+ytbrOQ7jA9+9Semf2TU7owcWewY6bdjNDUuyn99VSt9yP3aTcGkaZ2aNI1rEeBSjal143Epe5l5fkPaDfE+P7/nBqfvpfzIE+DDOWL8xTvRpSifc2CMiMIYSGAUWhRr2ioAPwwZEaOB/+A2LzPxMwL8UaQAAAABJRU5ErkJggg==\"/></td>\n",
       "      <td>chest_cancer</td>\n",
       "    </tr>\n",
       "    <tr>\n",
       "      <th>3</th>\n",
       "      <td>/kaggle/input/chest-ctscan-images/Data/test/adenocarcinoma/000109 (5).png</td>\n",
       "      <td><img src=\"data:image/png;base64,iVBORw0KGgoAAAANSUhEUgAAABwAAAAcCAAAAABXZoBIAAACWElEQVR4nG2Tz0tUcRTFz73f73tvnDczzRsnIWnsh0HUomhZm6CCqEUZ4aJACQKRWrYI+juCIpBciC1sl4jUMqRdElQGRmFhpqnjvDdvZpz3vt/bQrOizvIcuFw4nwNsi/CvfntqOObi1JdCaDZJdkISgORcj1vmRuKaGng83goZEADupUohiVZq+xT0QX1NEcC/zma8q8VHnrmstUj9RXMoGmsBJAQAvu7PjhL6bbbgSRSN6+v26SoAJpDWV4JRK4xKp0vI7RnIjqUDCgALJHvGfe1ojyqApNI0wUXlr5/ceigTFrvncZy1w1TdTIqag/bE7sMgMCi5SSYKvrLf1jaXzbQNQjcWuSFgFB3prPv1HDe/tQmwIHqVdQolBGBUbyEdjTycDqa/Q4GaePajbWJyLThAjSVxvWBmrfbWams3ptY4dXPilsAGAneyI4ybWvU+iBaXxhe601wrtBnKcQjKm3eeu0FGJoNV23O3Yz7182WDz8TAhK7NJaVih+Ggr/cInPOci/Ifo5qzqYFw3W901s2JaNaWY/o0s+RUFi5Ui6GkDCBo+Xe66i9n88fY+JniLvd92gjikYQIAIaTQnbOafSUo2rfhzfPVeWsDZ9EQgQiS0NJIckoMmbvclPp8tHpzZHtypQV4N6K2BKw3iWr7Lf0QwMlloA8EVs3dcgzymN2HMNtRU46CwKQEbLKCHGqSESlIJ0qaW1josnCMqckEIYoC0XtHSxvHyJioi0amRin/uTWFzu4//4yifCBwcXHTv1vqLNsAEPEJFz/zwpylmAZ8Y7xE9TeAeTwO+U2AAAAAElFTkSuQmCC\"/></td>\n",
       "      <td>chest_cancer</td>\n",
       "    </tr>\n",
       "    <tr>\n",
       "      <th>4</th>\n",
       "      <td>/kaggle/input/chest-ctscan-images/Data/test/adenocarcinoma/000112 (2).png</td>\n",
       "      <td><img src=\"data:image/png;base64,iVBORw0KGgoAAAANSUhEUgAAABwAAAAcCAAAAABXZoBIAAACTUlEQVR4nFWSS2tTURSF197nJPeRpHm11RYRKtY6EKHiQHygg86KIqIgVkUUxB+gI3+DIycFQRF8RKRIESeOFHEkIkgHKiqFQosak+bRm5ubc852kFraNVvrY80+AABAAA0hVfAx1G//QwBIpwIfOgcAw3lsSUjb1UDK80r9nVT/TACgqfjn4mAT0M+pXmhYqGLdCUAklKXeDIlQ4NdBwq25QpX9dv+ZbwYXLLMbfWz2Toz9rjKJ8+9HABicZK6SggzejcyHzlzk+RaIrwwBYLie7gAyMJuW3hlaqMxLybFNGiiDkbGrItAc0OjpgM4m5XkuWUYp3wFjTa5D2BkyVQ6L+UzbPGAfoWsnZUYBjr2UfaT27MqxY5UKEMUUn8zmO4wOxIVh1vX+jmiwOsdWd8kxZtoRwwNp5nS61/oRx+LQHOtWeFseXQVGEys9njBOl4/owAjbFdZkRCECo4BXuvZzPNRVXxnp3bmUKM5DoADGKkBkdQvxm7VKV59QSSlQ0nGLDC4BgJFvpMPwaZzWB7+aX2Ip4dcOXAPwXiVOxZOfsreGqfJxPDfNRGBAA8CXw63h8x6WloPGZ0Pfdyol7iEABgB3j+vGuSlka7ut9fPppKES14ckqLjUofTbyzy1z0t7R0ciO6vWTfBjZa9pOrCy/50t+s1m0MSTwtI63FFzueoNq73AGZZVWPNMRRsOnVqsV83xyYZS8FF90aXi8oaXQCC3F16SiHIkPH3sZoxNEAidczQQxC0wS4StEBmBI0dM1N6i+wYHOUSbhn90WfeiiHBAawAAAABJRU5ErkJggg==\"/></td>\n",
       "      <td>chest_cancer</td>\n",
       "    </tr>\n",
       "    <tr>\n",
       "      <th>5</th>\n",
       "      <td>/kaggle/input/chest-ctscan-images/Data/test/adenocarcinoma/000113 (7).png</td>\n",
       "      <td><img src=\"data:image/png;base64,iVBORw0KGgoAAAANSUhEUgAAABwAAAAcCAAAAABXZoBIAAACV0lEQVR4nI2Sy0uUYRjFz/O8322+b8a5OE7q5KVAyiAoo1rUJtxEIS5EyHA/i/6BNvUPRKsiyJZtjRYtWkRUiyCCkkwCLyQRIeboeBn97u/TQidp11k+P86Bh3MIAEgAEidrJL6d+DFaYgAQoCL50KhvhbFVNC0AAAFMIMCwdVtYWUug925OJq5r7jsIAIrNAsZIwCSCFOZUvt4yw4rK44lRolQ1CszRrk9Ps2uHsEYZd9N1yr+jhbd0b3lDnjfifejxBHHH4ivDkOsvwzRVtbA5MxuQgOHak0pIvXd747F87dYg8SODhoKCAIzMJUBlp31ZGjlShMxZtjMsuib7f3YWc8bx0OGOsoqTOJWwf7JC6CwAjKYSnS6Uyp7d0bBUePsMfklK6soOwLAMNs2MuRIMLmV14q7OnO61E+S0A7CzA6q6cdobHS2tz937Wjr7bT5tz4D8IjigNF2lfNXEs7lc990T9ueQdquOMjTAIKSai2uFcxOzQZfkprldzMWLItQAA9KE/jLkXzBj11yd+gnha8FH0uKAoedZu7lMz7ZY3esDoaF8J6cIjAQMvJFmU13u+f5uvHPz1Iit1agHvd1GCQhAdZTZjU42mjj/QYcLY8VPddKPD1pRNDwAOxcaEVJLIwk5ebGS6oPKcrEq39iNEzZJzF2VeSIBwtYS8lF/Q0hSGCyGtG3ElR86aA1s637QCLOstB/EflTv21vuuoNDeZWHpayX8RzHdd1jD0re3w0BgEOiK1f7rO351z4B/j8QngY0CREIewc3Oox2kYDAYu7gf/QHzWP+Je+VjUYAAAAASUVORK5CYII=\"/></td>\n",
       "      <td>chest_cancer</td>\n",
       "    </tr>\n",
       "    <tr>\n",
       "      <th>6</th>\n",
       "      <td>/kaggle/input/chest-ctscan-images/Data/test/adenocarcinoma/000114 (5).png</td>\n",
       "      <td><img src=\"data:image/png;base64,iVBORw0KGgoAAAANSUhEUgAAABwAAAAcCAAAAABXZoBIAAACm0lEQVR4nEWSzWtUVxiHf+97zr1zP2Zu5iMziYEkINhVC134GfBrVSgBabsqLaV0UehKcCsUuklLqQhqiAj+AW7iwqUrwZ0SXEVBa4i1Wodkcm8yM3fuveect4tafJbPs30QEcAAmsA8AMxT41CsAAAgZdEb+MGR19kQXU1v537KSt34owwzgECxXKycU2oSr+CrRWU858IJr5laRkDvW1YWDoqpqqEygak8srg50gS6ZJSuqBaooJAY+9EbJsXWL69Ao6ngLKbXX4Zj+0M+0aMe91EIldbTOC3Ws73f0Upnv9QyXVVprfeOxKA+4vg4tI2ua2Tz+71EJS3Sxm+zDxqRHqVMUzMuGs7u/ahrAZRQZJgLz0nMIHa1d2YiA9P1iHPXDpWLdc1xMmQ4q6uHM9qrLaqsyqtXO0ppvylCHhioGzxOPV99bUxhVb1D3p3MTny4hCmqPO+wdhymnPhh/dAIq4PnNkicFCwDUxhXhNV257aIc6X/1FV/Wh8MYaxVHTnaSfPl9O0DgdvpbzRkHi2xacUQRd3uRLeetRdejMaK7i+Nw3Mos2kIE8rBiymV1Nu3+ssL1ut8vFtmRRvlZUALbX5aN8aVe8H0qa2gGr7sc/zKCgAwcB/Z7hfkdD7oY/Haxl8uPK9a1CUGA3KdorZGPNMe7m3OPVYhn62nuCwCDUHe7XvfbBx89Pl2PnNsF/Xvn+d0FRBQ0Pkb/MvYNpYedXbCYj+2C1sHtH3Xyuw/hBDUfPPrAFN+6fV22NoB0Pw5ySkHASu/OYuTp43xnDjfWOnd6KO1P/pvz/Cz1bkgTAI/6s5GFIRRN773CQAQACCi8sJ3w/XNseucOBOvPNEy/hDRcMqSE7ZMQoyD98fjPU1xlgAioYP/3b8kRjJvayyDIwAAAABJRU5ErkJggg==\"/></td>\n",
       "      <td>chest_cancer</td>\n",
       "    </tr>\n",
       "    <tr>\n",
       "      <th>7</th>\n",
       "      <td>/kaggle/input/chest-ctscan-images/Data/test/adenocarcinoma/000114.png</td>\n",
       "      <td><img src=\"data:image/png;base64,iVBORw0KGgoAAAANSUhEUgAAABwAAAAcCAAAAABXZoBIAAACTklEQVR4nF2SzUtVURTF197n3Ou9773r+1JRspBKQSSaVBA0aNYgigbZFwgVWNCkaJb/QlDRwCZRTRoEDSInFQT9AU0EgzBBVNI0fT59vut7955zdoPUtD1Z7L1Ya7J/wN4pBPxvoS2NGuL5foUMCbttU2/JcCwgEhE/HYuru5NcuMgsZTlMU6qSCtRouAkADADeIJPNT66ONybX+gPAPdjMb9fSdXYoVz+E5tJHUbfCVV7tWgA7MIBhBpX1Gwar81l64dp8uQBkAA1kmVyLiuANHOme1o69FVGCqA4wEENTuvwYamYfqSYHVSKnbhsBmCCwsPBZAotosGHfiV+23GSABZDWsvqUaHXNLBQQKr+3qLQ4Bhg4ydqqdZt2TVRyojsLScNKnkgB7OMYSEfKeicGsC4d537SFxYjkgE48ZcA7XzdU3z79BXwVdvx9FDCqIXQSMZu2k7EvVO55G6y1DZb+tXH0zHDWGggJrXcxJw/caBHVporuWiwQgEQ0RoDcJBUic3OxEkUDVVVIDZ9gnUDBuCL8a/AbEQt+SQdc/HsfmsB0mDAe1113J4plC6bttqjWmmI5mqfQbIGBvDb1LzkbPFOPjPZqhutOOrwY+fZmYHj0pLpmwgNWPUvLdbt80Q6Fv+axVjdW3Nezll4aLgm3s+HBskWJle/fS/dqCee8zykRl6SlJPFHfoO3h8xZMP2MErml4mCU92ju9DM0Ih7VrdCQsGZ0w9nG3u4zQo1dRBJfYMVob4XakROxGoHFlK1/4gHkIUFKccbO5c/6LP/4Rs8tm8AAAAASUVORK5CYII=\"/></td>\n",
       "      <td>chest_cancer</td>\n",
       "    </tr>\n",
       "    <tr>\n",
       "      <th>8</th>\n",
       "      <td>/kaggle/input/chest-ctscan-images/Data/test/adenocarcinoma/000115 (4).png</td>\n",
       "      <td><img src=\"data:image/png;base64,iVBORw0KGgoAAAANSUhEUgAAABwAAAAcCAAAAABXZoBIAAACT0lEQVR4nI3STUiUURQG4Pfce7+5M9+M8+MMo+LUxiCzEGYZlEHmxrAfSCUIjNwUriqiWrUIhIIWYi1cRItqI21GMFIogoogIggqkrBFY0bpjOP8OH5/97boS8xV7+YceOBdHA6wEdoyN2+prhYxxlTg5Kxd1FswOZhW1Pbe6aiUClOLW3Bk29T80YRtmAUVUHdcAADzrWnX2Od47sGCvSbYpDwb3Yzs2I2AvVQcbA0Zpnlioq0W95EAmDGphROWMUFaxjPfh20fNdBw5mGh3sXPMaWJa12ejx4I0N9aI1Ll1kuTCTAQOfkZviOsfTSHMqyTxcy8ggK0ApZlZ9rHtPvD/eitFnMExqgyGd89J7J+bao3UqE681oGXiioXK7/1NdvrjwCCAAFU3OmQm7hS7v9Ot8RNMJD76QtzTUGQDOKJIKdwnW82vZfb5TNnaxnmRIMSKGqG1e9ZMQ++Di504iWTOsJg6xEQEBihV1aV5PMFlZ3c8OYzL5VzX2GsCeqDFiBXudcenDQk1HcirbWl3qs0q2af4Rx0W47XPFy2fDwaSHJZ+ke9B/USswJcmArgzcGV+J0mt+3EfYPT6Nev6DGpl/rkcueVx8IUBGogcANaAt0NTq9txbufhZSKWsxcNuL/9QgBIzhVx/gGheghEtrQWU448hcGXE9EO6OaHYIzx2d2JeWMj9TE+L6tRoiywABHfNMA1D7eyWVS48WuAIwelH7D3b4KQBAEykQAZp4deOHpq0sQYOgNGmteV+9in+y52YsGDRD4ePn8X/5DVNx7hmRuMpdAAAAAElFTkSuQmCC\"/></td>\n",
       "      <td>chest_cancer</td>\n",
       "    </tr>\n",
       "    <tr>\n",
       "      <th>9</th>\n",
       "      <td>/kaggle/input/chest-ctscan-images/Data/test/adenocarcinoma/000115 (8).png</td>\n",
       "      <td><img src=\"data:image/png;base64,iVBORw0KGgoAAAANSUhEUgAAABwAAAAcCAAAAABXZoBIAAACUklEQVR4nFXSz29MURQH8O8599559/3ozGjRVNOR1EIXhESESJCwlZAIYSvCiqU/RCIR6YLowsqqViSCjR0VCyzQNiI6r2amz8y85717j4WpH2d3zifnnM2XABIAAChQokypseFGQ/oNCKvpk1VUPDmaeFnMZUNIRkiN8mIurNiRIypJxhd0urkZnCWiRINMz7JjdESWX3oIA7DnmX1sqoPbe8pPzQzJEHZGIiCAr3/TUGMbiRHSktd7EqTw8Tx5Bvs1ct5luPewC5vM3r6fexIMzggY6jIxo9b4ID23oxh+dapNZDVZAauykGZNR7UVY3g1rb3m5oumr6xSTWJnPLzldZuVCav6+mu1pttKBZEcA8clNwxbNc9B8Lz60an7I+6B1FWgpokFlFWsaGDd9/bdyPvxV84Hnstq1bODeDgkeqh+mlr4bjrLQ9LwXi2CCzilatB+q/d0vjzwsT/LRLEPBWAgEaqAwzk1zHbdyvjT8CyXqguAgTvkxMuualIG4aAwtEPP8RBumcAANTJWvHfKdQ/nrtyv03OfI5MGLwQEQF/AhIN7Wp6qTyzRx90SousXINAAqqTfrdv+lU6WHnrf2pmGdkWe/U3C1dxvKYOSfrS+GIu8G0a38BtJQFf7NR1QGXRjMS4LXy75EcImHYcrBfEw9CLapY9IsK09Ohs7KcheerxvHK5ceotqJvUFNuvaZGSbyhicPpGgFUQTY/in7PEbM2EUBnEcBWNzN6NRkjdVuaq5ZzZcfbOiSQ3+RyAizxWxkPvz7i8CiCEq+6f/BcAIComEWlEMAAAAAElFTkSuQmCC\"/></td>\n",
       "      <td>chest_cancer</td>\n",
       "    </tr>\n",
       "    <tr>\n",
       "      <th>10</th>\n",
       "      <td>/kaggle/input/chest-ctscan-images/Data/test/adenocarcinoma/000115.png</td>\n",
       "      <td><img src=\"data:image/png;base64,iVBORw0KGgoAAAANSUhEUgAAABwAAAAcCAAAAABXZoBIAAACQUlEQVR4nIWSPWsUURSG33PunZ3NzKw7m0+TGDGBEFHQQiIKgo0o1oKCILFLI2LjD/APaCPYiKBYGoiggmCaIERIoUEskkIRTQhhsrvZ3ezu7Nx7j4VrCGl8usPD2xweACB0IQDwoXu7twYggAqMzbVHKy3fc51SUqqQdCUAN9Mi6dHLnWW6Y+ekqsWChAAgNDMC8mLTNsgAuKc9qQPABOjdewZ9pTgdVUNxb38/5AH7IIClyCaoaOJKXm+bTvNI2w7w75tZJABjx+EWM8q89aQ6PNh+11BlMJ9qAGAgp5yOqchz/oi285/WnOHYTRMALk3oyEWSw2LTJd83ISs7VISCD4AraXNH1RDV14VevO295pkJT6dODABGGYCDTHJH+BcdMyM/Y2hFBqM+QwbhSqANv+DsrBAlr5y5FAqObqUMl0DJiGSd1GTDZA85Y/UimthUYHTGAWzQlOTCfGhR5kAFqL3UzoCBOjKn6YfYbJqBosvknAXyOQUGanhWt3SyIHwiSdYCdYYX5GvJuRQMtEECtZpFoxdd+qYydpqp8a1u/34IAHYD3D9/9UPsxXylEpvMkLS7klJ7NiiPGST67m0KhrYXrKf/Lf3XNB+nOVFs1mG9pY0MQ5P/sjlcw2wrZx3Y2Xy+vFSb+kitvbgePl/lSLW8sWYjTI7Tajq+shcccGHgvZXYNR2FhWrDu/HlM/YR9j26XIiioBD1X39c7NmXKgBEhjI9mG9UHZh2D0hEzrEjISXUwEGJUCBg7Kn/8AdFyP+e/J+W/gAAAABJRU5ErkJggg==\"/></td>\n",
       "      <td>chest_cancer</td>\n",
       "    </tr>\n",
       "    <tr>\n",
       "      <th>11</th>\n",
       "      <td>/kaggle/input/chest-ctscan-images/Data/test/adenocarcinoma/000116 (5).png</td>\n",
       "      <td><img src=\"data:image/png;base64,iVBORw0KGgoAAAANSUhEUgAAABwAAAAcCAAAAABXZoBIAAACWElEQVR4nFWTu09UURDGv5lz7nP3ssvu8hTiRhAS1GCMBi2sTIyRTmPjg1hQin+HrQ0xITZqtCAaSwu1o8SGwhCBgkQNAuu+WHb33nPGYnl5ijmTfJmvmO83QOfRiQqAjjoAFEQ61aMO1YOPAQBuIQ5dajhZ1ePzgAc5YdRDsztgI+TMw00lieb2/qGYnQFaIDDEEkR0TG/ccsc2r1pWCCbnpSM3ArFV9PB0d0ds3KNYJBx/96E6ecl6nlgyfC1wAALCGeh29lUcMMy0p5NzywzJVBdLYHiKMwkZd0hFztNB3dv/fUozKkgARmJt2RbeYnv/7gi7BbJdH1Ng4vECGOGMILrlF/LpT2NMpIw7ZkmBvu2AM34Mdh8PeMMZKthaLF0U3A5a1rguuL6jwgJURTdkd8ftTysTr8wFDgkyLluPnEHiVL1UjurSBDXwozc2ipsljyUSqdWT3erf8+3NpkOV7fd81rIBTE2jJnvc9vPNrXXc3My86CG0Jn5mKxoAoxWKNdfXsyYYiSdzczaUcK0odl4AhqwkVd8fXPX7fuera/bRRTOR3qg4trPbL4xWc0oX3RtdVY/2l4vFeo3n5SDsJWbTOz102m4NX05060wSa7GdPElYZe+wrzxDKtpauqrrxC9bh2H37mo8CEy+qjmd2JpB9LwN6YhBriSU8KxRhrvLlrAQ7Nu+XweTxT9WJ0ak78pQqvl5FV2ZLWocgTnwLB2m+if7T+Wyoxe8IBhdOEloQPJk8PWGYfiT9xe/8t5/+CItVkQBiWI5sjzGPhIYhnD9+A7+AU+Z8VSbQzn0AAAAAElFTkSuQmCC\"/></td>\n",
       "      <td>chest_cancer</td>\n",
       "    </tr>\n",
       "    <tr>\n",
       "      <th>12</th>\n",
       "      <td>/kaggle/input/chest-ctscan-images/Data/test/adenocarcinoma/000116 (7).png</td>\n",
       "      <td><img src=\"data:image/png;base64,iVBORw0KGgoAAAANSUhEUgAAABwAAAAcCAAAAABXZoBIAAACiklEQVR4nFWSO2gUURiFz3/vndl57242ycYIKhYGMQYrUSTaCOIDC9OoYOWjEBUrwcLCYIigCBaCRQSJYG8VBLUUGxUlSsBCRQmJu242uzOTed17LZaInuo8yvMB6+oT9QEXMKi/lwkQPVdLU8AofJeHpbabSBA0SACk0W/El0xlPZt3LxbMuyO51AA0AeCeGBmXjOxU8VrRAJkzTaVJgwBUShcSDGWu3p1/zJoBGtyfLjIAAigX5yOzVp0MJ5r07oO1ou59DlMDpEFw88tMDXx6bmTZtWg4vs22fL/5Qz1OOhoMhkvg+Qsh1Y3SMAXn9G/jkSxGIxAYsrPMpAdcUOC5ps7sPqW6NWOXZ2iw6iZGehD5wZLMCayhicy1VcmvlEGMHaeq4/ORV8IzG8XPqti0Q3kzAyrtQotIDWFl1E88cYb6qE6iE3mhRZQLe415WonBL+FSGL1dyymXc4tJS+ScG1ddMMmhi8SS6ZF9PzqxK49NSAarGA2MFhivKLV9sy0vb4nmqjG3OhuMbdkps0Jkg6mHiV5YqJftjDaE9WJ2VqZfnf3uQnjXqohWKxIl94A7PXa4sku97ojnMNlSKGXHiQWYaeQixxWut/1aFB1PCjrdapYJMRjUVLudWse5aeFkbJ4WDX+jVM5KDQwE0K1Vrvuj8W+Lti6o+16cWCCIyR4ple5wco7kYKHSUmGyMXrJW0+cJnpnu0GBnYfahLwkrQzMeJBIUVoGCAD2zItA8pyMQuo+WmYqWOQxAAYAb6ZGWqs7XB0r0+t2tjqJd3TvX2Th2sHTQ4HjOY5l+9X71x1vHV0A8LSmQvp1/1czF0Ry7d8R8HMmuVYEgugC/4+ApygXIMXD9eYPGqwZ36vB2aoAAAAASUVORK5CYII=\"/></td>\n",
       "      <td>chest_cancer</td>\n",
       "    </tr>\n",
       "    <tr>\n",
       "      <th>13</th>\n",
       "      <td>/kaggle/input/chest-ctscan-images/Data/test/adenocarcinoma/000116 (9).png</td>\n",
       "      <td><img src=\"data:image/png;base64,iVBORw0KGgoAAAANSUhEUgAAABwAAAAcCAAAAABXZoBIAAACZElEQVR4nG2SPWsUYRSFz73vvDuzOzO72V1dAwlRlJAIiigIKqKkMBYq4lcpKIhYiP4FWwsVBEUFGxFEBG0UCz+LCIqF8bNJQBExJprEJDu7yc6891pojIVPec/hNPcB5iHC/6H/ZwwAUEIOCCi3BJGJc3/6IAIJAOB4i1TVpIay8IL8HVQUskNQ43VMSOeY3xoTc6MOAMQCqvWVSLtcQ6vDoZvl9lFKb4//mcZhy1o7I9X+vI1bc9mjnQmyq0LKAMKcem3nlNbW4sVhW7XSfzlI5QQUDOAgvPiib/esLoWgVj5f7nxWNg0PYEbFIeSc1Sd5sEk9FnVvfJWTACsdYPKukayYNLBZ6rUIM6v8xTS9iFgp0zBqUvi1bzLNvCDNWqOVoREimlRG0ZD93mZ7llYmUmFSbX4bsZtFuQLObxJQ2a81MELWZYLhqQHoQzYuJa/5ocNJ4/O6WAYHK9u06N9PHdO9I6XJKTA+IaCvrj73gzB6ncbvKAywhURUGdBA63GmXJC8zXIb4ViiDXVDgAdQ01s1MD6deJG3XZZT5vGaoUJCVVIPqEwExSgJJPG7djffjtaWFR6796Wp8woGnyb3UexMsCO//MXL3M2tLx7lC7MCh4AhptyM9jXrzacNu0Sw8pZfndtfaIwwZhlwp2naHC5Gxc4ijL+um5OeyJXuCkBAoLy+t7zrtpJnu9/bJOx9nV2S0o/fz+4ac/HRlmVppR1fbE5ncYU5mTfBP/XgudHChl5fG69eNxh7a2fnDQQQZWg/1m5+amzfXa0zEvwTArEjAcAspMmC638pGAFjZuHwC+8QATJTTKi+AAAAAElFTkSuQmCC\"/></td>\n",
       "      <td>chest_cancer</td>\n",
       "    </tr>\n",
       "    <tr>\n",
       "      <th>14</th>\n",
       "      <td>/kaggle/input/chest-ctscan-images/Data/test/adenocarcinoma/000117 (4).png</td>\n",
       "      <td><img src=\"data:image/png;base64,iVBORw0KGgoAAAANSUhEUgAAABwAAAAcCAAAAABXZoBIAAACH0lEQVR4nGWSTW9NYRSFn73P+56+957euqLxlSCRkg4qQiOIxFwY8fOM/QUTEyZURQyIRCJFVH0FrV49H/e8exu0RGIN1mAN1mCtB/6X/DERBxAtO8QUtR5gLwVALfaz1F7a1MX+VgSAQe+zpwUvHgKEEz++/+0XSbpkIq6Sn9riCHXvniGOwKBfRhw0xhrtHVx81QGhkEtThAp6xt97nakdTFkBJWsnsb/eTppuuQ7V4Wk5HIq4XwbVeF4GMb2r0sXx66Ee2emndQ0ipgQzFzFba8vPp+xFWi+SSD3swkTUdCBIrYlgX+7cm3vSygXzVBdecgFVETc5W011XZpH08Hj2yPxmU56DM3pp5XyfLE49DVv5WtDy1/cCDigrb6Uwn3dN0z9WnM/yNq+cC64sIpGkrbGgSqkfn+u5kjpG0clmzo6Fl2xHft0bHhydHHh40JsT5Ry14Ouggoq29J0b2J5Kz9gtHBmabSE1ZJBDm6XunX8aK7KHQkG1aSQ+beuKw66Y2a6/krbhiDe0zC098ja7vAp0ddqV7rC1HMRCutz+PBm989IFbayCnPHBslNcrHZ1D83985OjLsfUpDLPKg8+WTbXMipRmBM1bQ1ionAHlmeJhBgM9TTmWDm6vgudoW0+oe+6NoRQm8C4MRU0wEKML06G8OwyWYSIiGaVd0/kIcbi2WIsYwxhnL+5ugf9IHSsfmTY3693VCk3Q1/A/IJAovx4/AkAAAAAElFTkSuQmCC\"/></td>\n",
       "      <td>chest_cancer</td>\n",
       "    </tr>\n",
       "    <tr>\n",
       "      <th>15</th>\n",
       "      <td>/kaggle/input/chest-ctscan-images/Data/test/adenocarcinoma/000117 (8).png</td>\n",
       "      <td><img src=\"data:image/png;base64,iVBORw0KGgoAAAANSUhEUgAAABwAAAAcCAAAAABXZoBIAAACQ0lEQVR4nE2Sy0uUYRjFz3ne97vNjHcHzQviwoW7pGgnaVK4CrpA0LpFf1yLNiEkmUIGBa2kiBKKEsQwB5355pvv8r5Pixmrs3o45zmczQ8AAIiAAAGMjOCvCGr/WleWb7DhFXw98Dh42ixM4LWA1gTtcLuf9ZurFjUIWKpRGF4kW1QAQgXuWAwptZiJ7PAtdD27m9qvKlYN6qKKKh7Xs8mpt4lJ6ff6mxuOqFGzZCk/YtQNO6FoW+QV1WLaqbdp4zxxh4haDqMdB9B7KgXL9YbA8srK+HiWM2o9y4bPuyRvisqSJ2rh2GzroHPSeFGdf+IHEwNijIcsEsq89S1+93L4Qu3HUqO9BWUU6zSkrEshQ87stpP3P++OtmOXtn6xIXQ3IAK35Jxh4YvTk0p8z9ak8jlVOpBA9WyFWEzGlPfrB5r0SlgTBg4O8h0uPWb4ZTZlWQXXcWG9MnKlqRHyOZfCqchiXD1qtloBrHLcSJ0lIKAE2IAt1x+mHR1db7jw3m9FKrmA1Nvx1QNficnhR9rN02y6TVsC3V0ViNO5inWFUDKe+rBlvAO7JSjwtrvjXNc7S5cZwKuzQGr2oQS5xhgg1adxoL1oPm8XPb9DD4GO7EjmqJpmUZFpTY5O80YpGAIIhHTXJlPrfQz1HpHtadXYQtUH7PH+sU9m5n4cUpfnK28Nt2Xh6yWf8ZOJwAbh0ESzOTVmgjCcfVr/h2biggfZTke9AMnaxPMO8/+4DUnvCHhRq4LeJfEDRYRTFUBUBhn+APTaGroIbWFpAAAAAElFTkSuQmCC\"/></td>\n",
       "      <td>chest_cancer</td>\n",
       "    </tr>\n",
       "    <tr>\n",
       "      <th>16</th>\n",
       "      <td>/kaggle/input/chest-ctscan-images/Data/test/adenocarcinoma/000117.png</td>\n",
       "      <td><img src=\"data:image/png;base64,iVBORw0KGgoAAAANSUhEUgAAABwAAAAcCAAAAABXZoBIAAACb0lEQVR4nF2TO2gUURSG/3PuncnOPmY368Y8QBQfiGIaLQRBbSxSCxIwgogoWBkEG9EQo00iioUQBO1EtBKsgo8IVqlEsVg7DWZ94GaTzYwzuzNz77GJD/zL72u/HyAABBD+m/rD/M5k5twOrIpu0cP31QZBsC7LU6ERgOTTdk5FCLP8VUBCAIYmg4CUWCdlySfcIVh1IwBAJOUpJBGczkApctzA/QLL2vWutAQEXPWtDlXnc3tvLnIwt3CJUt0X4QKgUaOgFmey9pT3xVuZzh5b8nJx2xRqTWKcM34MvecRBroDmrWu7t4WFxMnG4No9LBVcWGCR1teXmC7bq6uUiWmD6Tx6nDIvMu7WEHccV1LFlz7kY8LBsLqtQWq508baI+j2CLrUjYUIJhW4FyaEz18vMOaFVpJlxDQKjTZoALOI0cb6luE0yxtUrcTNtsOZdrM2BaY8FxwlMpFsu/uoPozMkO5IggiABt6RvLYUI/o5ctabQsG3dxPx0NCAibJhL4om7D5sLG/3VAOHHJUWQjMIGbsh2KxKnTDb0iMa40eF0GVLZRESw3HVbi+qXrwiW2QIdtSECTcokSb1Xvf05XpxVL9Db00y59VaAyIYoYLE7kX7s88OOXOtwdPLN/N6pvXKoBwSkBen/HzFSOiETtO9+ZlLKlrSX8YgoAdTWuvh76CTjTpjHbOq9pUQN4PEIDxpW9vZeTIsgJbGPSszKbcN3FyvUJ/+4sDZb/kFYol3yuW/N6RuV78rg8+WTU2+nFhMa4MHzIzC6TafyV6UxYRZQ1DFIFX8Y8EKrAwlnRGitrr7J8XlAGBMK3+Ib8AHZUbtVvYp3EAAAAASUVORK5CYII=\"/></td>\n",
       "      <td>chest_cancer</td>\n",
       "    </tr>\n",
       "    <tr>\n",
       "      <th>17</th>\n",
       "      <td>/kaggle/input/chest-ctscan-images/Data/test/adenocarcinoma/000118 (5).png</td>\n",
       "      <td><img src=\"data:image/png;base64,iVBORw0KGgoAAAANSUhEUgAAABwAAAAcCAAAAABXZoBIAAACWElEQVR4nIWSO2tUURSF197nnMmdyZ25wYlGTYLBFCoiPhoVBSGxEWxsFEufYMQ3UcEHiKKFIthEFLGzUVtB/QGCiIII2kSDRASNk4kzGZI795y9LZKIqVzl+libXXzA/BAYRACBAJor1R5zhZs5m2rhB+lMaWehXqkV437UO3TM35v6ewYAwOfSNm4W26cKw8ZVXr0GQDq7TAak87Lz6zbJQ/LNc5tHvwMKMABQX7b6epwt3ehwpBu52/HuePY3ALq895qkZle3bes8MCAYWnIwYVIwgNYzyaUlfLLUo+XEkV9taKndDyUwYActha9bn0smbKdryebYnFlAF1pBDMQN1cLk23xmxWPMmy/eGuLJAGVgny/aZYNHd0Tfo1gXRTKyIfVTZT2hlgkw3LrTqwzYKLWYeLT4jVsIaW+yZ407KCsRG7k73pCs8azytjWM5zxpmayZDEYaWn3ijodryaHchpXuPtWT+kRUgSVGR33i6a9mqfYm2ja2auOLjyFQJSQVIfbyO91Sk7aW/INPbet7RuVdo5oenlrLZIjBpfCyuOdnvpYP7ZyfvO2nXYnK73/dWajMcnE8bvCNrq41a/f2DndHfgWdKlam2/2YEgAMssuaZfQ0Rjur0XDLinik3nKVBQQb1ISzgXJarCaFijOoWrllRAECWOD8aWUWsBEx8N8eC+sMjNirhYdTVQMiry6QSBNgYNrkLItliLUBISWnpGjO+dhvDREzM4PADGPMP7aW+s4btgYOholzQ33z7EMsknVtz+jzh9QJ1+dDoAgNwmDMof/kD/DQ/NW8JOF0AAAAAElFTkSuQmCC\"/></td>\n",
       "      <td>chest_cancer</td>\n",
       "    </tr>\n",
       "    <tr>\n",
       "      <th>18</th>\n",
       "      <td>/kaggle/input/chest-ctscan-images/Data/test/adenocarcinoma/000118 (7).png</td>\n",
       "      <td><img src=\"data:image/png;base64,iVBORw0KGgoAAAANSUhEUgAAABwAAAAcCAAAAABXZoBIAAACeElEQVR4nFWSPWgUURSFz73vzZvJzP7PZrdQkkZFMSIKxmClhYKFiggBXbGyEERE0MLKSi0iYsBSJSCihYidhURQLCyCoKZRNP5E8YdsEnc3szu7M+9aRFG/6sApzik+AAQQfkP/RAIAYgBgb2sNI8Cqs0eKZQAMgMAWAJVqjGKzoyjkRlNfFQEAhgUAOcRhlcv+tsTzMoPBScMAeHmidKQw3uP9eT9OwU5rIK2PiwAaAPpqNGHSbFj0KDG9xI6dQtAkWT5znIuNONyQd1lURxs1dLFylATCAEpx/+X+tL3WWG27uqe4ErxzSr8f12jY/eZFIemueEo69KX/fvkQCAzkuDofBev5iZFEKIFSG0uhR0bAhArZ6ez6t9k3MRvpdZMlvzi09F2fAbRgZ4YfmpEdz5RNIsVOi3+4Bcu6BTDTtGCW73fV5K2futCenWiIpOXVIoC24I7LtjlW2Pb07t743pyXVpOkWs/EXoeJtzM5iDYNTmVabqvhNj5Cll59VaoHFtvL2y09GdpjTF+hYpPNs1OLn2O/OedBA25HrZkcemDIHktdR72oPJ8O1kn3pgEDj/RCRr0lpDSQD3QLkVevn7NWd8EIHy+UFn3jtsV+jpiKrrbh8CMnSBiMeTjdVi2CpK6vdBuj6OTWmvoFWDCELsV5Z53rbxhdOf/hYO6uN7hLtUAACF5mDidC2pW/XX1/4PWMTmDsAk++zC+CgBXzaeEw+UE7No6wim2E6AZsd1nK3eWpmfT8UsSJSkE6vP5J8bXRP4rCK145ncvlgkw2nw3W3Nnn/7EYAJBLKbUECIOJqPFfCeQkFZAwlDT/+v8PGf5bAMAv/uH44DAsdNoAAAAASUVORK5CYII=\"/></td>\n",
       "      <td>chest_cancer</td>\n",
       "    </tr>\n",
       "    <tr>\n",
       "      <th>19</th>\n",
       "      <td>/kaggle/input/chest-ctscan-images/Data/test/adenocarcinoma/000119 (4).png</td>\n",
       "      <td><img src=\"data:image/png;base64,iVBORw0KGgoAAAANSUhEUgAAABwAAAAcCAAAAABXZoBIAAACWklEQVR4nF2SPWtUURCG35lz7t37lU02m2QTCH4gYqGNCrYaSRkQLLQwaOcPiIKFYisYtNFEEGxCLLVVsRDBTqzURiEYiWYTNx+7e7PZe+85ZywSgzrNMDzDzFs8AADCTu11AkAgDQAS6sKY0M+9FkgwYJoAyc4yeSaKVkO2AUK26LjArQMAGIBA0gbnRicCSoJ2buMqAIIGULKjjeJmalU4XU4vWTLs3uRZ0AKByI3U5booJ/0tqyuyaUSEH7pkg8AOfuWKAQ1uD232dTUtDdYtm8qTZbuTfkpUuJ08zsLLzrLuVWaFoWfbrIePASDk0WwSTR7oNwkoTIlN1xONxipup6rAfLkTHzS92VbJpcLk2TVobd3hFlU7tYzGzrSDZjnJhP2iR68CTKa0AHJBt2y+vPcaseoIjBeDGGCjhL1+ptX18aW32yGgxDFF2jLAVjmJ1Yj+Sa/9cfX0RRZ6QWfGMDlAOzXx7s6ULg59XSxeVi9S5kr3R4WhChCj82wlLwzVlvX+s/XntpLL9uJpVps+RIME4ML/3rf/Y92/WmoOT/eER8X1MMAQgtxtN4fOfQ7Ftjbwyw5D/Kxxg8GAAHgg3aGBnCqRrM9j/bxabtXI7Zlx8EJ8ZA7HT+Uf8G2oL5eeW7smgIVwuap6KVc+1fwfDfPpFf7AyGXga2S8gMOtuNPie2xAtfrO2RjYoisDmiGAw0xKmr109yPmTiZR4ilmMBBEcTgy+Zeq8cSJR2sWYOPBDY7tu5f+BZGQhYQH+tsLG5o5/UdyAGURBzjNoCb+hwDKjti198bfFpAHkv4+f+gAAAAASUVORK5CYII=\"/></td>\n",
       "      <td>chest_cancer</td>\n",
       "    </tr>\n",
       "    <tr>\n",
       "      <th>20</th>\n",
       "      <td>/kaggle/input/chest-ctscan-images/Data/test/adenocarcinoma/000119 (5).png</td>\n",
       "      <td><img src=\"data:image/png;base64,iVBORw0KGgoAAAANSUhEUgAAABwAAAAcCAAAAABXZoBIAAACV0lEQVR4nFWSvU9UURDFz8y9d9/uvrf7dvlav0IIUmmCEJWCGP8AEzsjQU38SIwkYGVrQWNILJUGiMWWFiQmJlpqoQ2NiQliTwQDsizu233svvvuWAABp5k585tTzQEAEMAMVLKH4qgdjkDg7pMrvXwiuaWm4PgAJOia4NCZtFEgrqVLKUiOncEdFfxsjQ7KduTzVvJuGxCAQALKPCRTTRw9+LSuTTzVlAUWARgCljJKy7qHZ8x4KdNrqqzGHAhgAE7dKrxu20jr/PlHV7bQrvqXi3IIzWPK5kKtW5Ue8vqzvu9B3wvdAbyLYEEahbQvsZTh/ahRfJN31wjQ4JKnRc3EajO/nTN7PqSyyyQDyoLhJqlTnOpkzPezyu4X/w75Wy7I5Nx0SIxuF2bYsnM3koIDD5WmheKLHMZWGM1uF67DKmc34iRZmx2rZgrcIgkTMHxXqActu19f6Vn8mL30wv5GlF3RBboKNjvGBjwW0PLw/PB4OUk3TS6kbsRmDVqwnc8mxWqTNnI/brZqux9UozzJStUInMNaxuW/TvSbL+dUuzSy3ExKqn4a7be74AZ9rkeu07k+OmDngtVavux1z3q/9rJ/BAR2/HyHg7RiT5lvfSO1NYryaU3PCzkCiATPmr2RR6mgo21C4FcAHzyGU6EpCHuSsEsK++iaSwUkIACeY04F7FlYaIFlk5C0D2ISWkDIkQPDAZySg4qPkneGoZkI0EzMYEUGxxU8HdSsCQpgRbq8eCKaAHxqV25fcCbeer+qKPofAr5wQiRKODpaHUMAAZzEJ/Q/i/b2Ye14VxsAAAAASUVORK5CYII=\"/></td>\n",
       "      <td>chest_cancer</td>\n",
       "    </tr>\n",
       "    <tr>\n",
       "      <th>21</th>\n",
       "      <td>/kaggle/input/chest-ctscan-images/Data/test/adenocarcinoma/000119 (6).png</td>\n",
       "      <td><img src=\"data:image/png;base64,iVBORw0KGgoAAAANSUhEUgAAABwAAAAcCAAAAABXZoBIAAACYklEQVR4nFVTO2hUURA9M/e+3X3f3cR813zAXxpRCwkBLQK2EYWAimJjmoCtWFuKtYWxCImFn0IbLRQCCtFSUEyEaBpj0JjfJpu3b3ffe/dei+yaeLo5Z+YwDGeAPRCAXOtBCW4Qcpc2xAqs2vuG01i7k2nY7CYDICgXLkMoQ9lgXRtrKmpakSHTcZEgg8Kx93mha2tknm+ANZEBADFG6JS/Ts7Txy9sja8Z+Shs2trXiYL6s+jAYEHPbNVpPDRPy2QkYAAH8O9zbPf01zouzK8sfe/ClZe/d7f2RkHKMSI9l7NE68BX/dYjWsWueE0SvQKZvNPSC5PNCNVuMMZgAG1QJlj3Buy8gNKlJOPQH9I6AAMoGUVpalbsTf4Rbwk6ssosBVeYQfCFVGmLNRKf/1kQHT3higfPElQwTMYR2uZ4q6/7THcxgEhfJ4LLvosEbFDbQJYt39+ZeWNik87V27UPkqgZCZGrqDjH4ed3vUP3Mjf8E/GLtqRrE5QQQ1chxVEpt3N2otKt5elo2E+Ok8UgCTtiEqWq9KOlonaC7pr9mLIfvIpSYESsZW1bHwrr27O4fSoOZl2TSUspdi9EU3XhD9pwtYo/fZsq19P+GiotAAMaOyYM0xoj8AiejpS4JIS625jEA6hkSNjVxCSWoF53IVN+2LDVnWJS+aP5gn9zreJc7Y7uOOGEaMQEsDXd2j69aGWXvLogIesTClFTRHGTe0dIlqxEqCyqT3RxcV9m3enDvuPmsvlcznXbJor/ggwA8AyS9rM9WJhbzrKu/C8CQcKKADYc7nuBPfgGqrpX/gWZePz7dumeGwAAAABJRU5ErkJggg==\"/></td>\n",
       "      <td>chest_cancer</td>\n",
       "    </tr>\n",
       "    <tr>\n",
       "      <th>22</th>\n",
       "      <td>/kaggle/input/chest-ctscan-images/Data/test/adenocarcinoma/000120.png</td>\n",
       "      <td><img src=\"data:image/png;base64,iVBORw0KGgoAAAANSUhEUgAAABwAAAAcCAAAAABXZoBIAAACXElEQVR4nI2STUhUYRiFz/t+97s/M1dnvKlhv4IZmauwIIOEoFW7aJOLCILCCEIKjIx2kmBREbUJ2gTu+iFoU7bIgnYt2wQu1IUNps44c+fnzv2+t81o0KqzOXAezuocwrY6/XTVACAhAUACp0Wytna90nY3pzeclJsgAQACAHKzV5A6hojEK80W4cVgCxBAQfWWCFO3eKi4BRKedqmx1ey5SADvv6lUMqU3vHUyNK0MAAZwwaZZ2zHpujVsLM88jKyViSkAxEAbUVChglEIx3XXjdFHObZSuh1BGCiD6rb9xaH8vmtpgDDDj8GEtAowcI4h4nGhdDzjNE3aMVjvtNY44xQxunoAbrvXvcu8gq/g0V7XUywElBiV5RSsdGUp30EEEmyGSy7IWDIMfge2gdOr/aJJNFt8s7MpQKCIERNS19qF+m/PhBZpY8B3c0oLybrDVhwbJQYUcNMTNs/c2DdoqsbOFbbAE2uNuF3B6bVFKc+PDe+Bk2Fpt3DgNhNi1mpgZS4Oxv0F8zPXLDsqnQ7gwEqT4gPt/d+bPXSnoorreu2s59ZUkoCRgn7Ey9Gx4aTqNfTz0Vi4L6PMfQIYHMp7Ll56Oo9qyWlsvk7qmVJa1EYABjHwhVd7nZxcrsZXVajOK2VyAoBhfOCrLU8ctsHu/qNuX3efBAWZ2Bo7Y/MnBsXzoFFxoY98kjdLqtyCL8fApwZYwa/uqNcsFt+q8Nf2wfSHM0rMwZEgjRbmYuMMDc38fSyyGf/Bx5F8lA/3T34+mW1vxdTykCwEQhaaNvEPRM4AFtCgIv5LfwDNBPxeQPhQnwAAAABJRU5ErkJggg==\"/></td>\n",
       "      <td>chest_cancer</td>\n",
       "    </tr>\n",
       "    <tr>\n",
       "      <th>23</th>\n",
       "      <td>/kaggle/input/chest-ctscan-images/Data/test/adenocarcinoma/000121 (6).png</td>\n",
       "      <td><img src=\"data:image/png;base64,iVBORw0KGgoAAAANSUhEUgAAABwAAAAcCAAAAABXZoBIAAACSElEQVR4nI2Su2tUURDGv5lzzn3t3WQfMcGN4iMEYmETrLQKgr0WBhWsBFELsRH9E0S0EVQQRCwVBMEupBCtBFNYCKIWmoSISXbz2pu9955zxmIT0M6vmGJ+31TzAwAAxAhGUyCkJGqCsLPtT8HQWSs+7fmG7YQv2yLsQbul9Fwj6lR/mTqbrCsvVkCye4n6GVLcLNuiBtoq7ekHApBwH07Xlnq6i1ZrcNuUW2VODAj1YbP2UDXTxFhItdki2X/DAxAGAzzNk0cCY5gk1ewTvr8BMMDwUIJnU1HEIkRlXqDUF8ZjeIAATrZuBtAWxJl2LOy5rcvnPRIGvLqyIkGhVSmqGxce3LXe9IjBQLruD6iQnQtUWi5L1xit3YkRcWBwgZqjTGliKU1oq4UunFq9BIDhy9vkvRcPkle5ywpqFy5fXAaIEQkLMRH74v1SPvxFex2ZMYtBCKOnbE5eykLU98tKRkPp6hEEbh1gQO7ERB4I8lIf+jlP6fBAIJ1GAmYgwnaLFNi/C8nVFjbB3s/Hd7PUM7A9tPHBkXadBa8rh8NZEFDLQFtgQPKFZtv59de1Wxd/fxOZI1q0Cjv/DPOr0VxOEx+n0mRt4pEdbkx+fSJ9TaJK++TBPeMze8lYV9ScZZs9hgm6IAAxSeN0bCsFytBD2Kp7yki2o8m1mR90/NhqZE1lTZX1t5/t0U897Ca5fmqgGkZxGCVBElfM04m/1ETMfuj82NpSWd+Xz77RKvsboipO5dpDlVp56uIfCKSWnfKiRW3if/IHRZQFq43SjQcAAAAASUVORK5CYII=\"/></td>\n",
       "      <td>chest_cancer</td>\n",
       "    </tr>\n",
       "    <tr>\n",
       "      <th>24</th>\n",
       "      <td>/kaggle/input/chest-ctscan-images/Data/test/adenocarcinoma/000121 (7).png</td>\n",
       "      <td><img src=\"data:image/png;base64,iVBORw0KGgoAAAANSUhEUgAAABwAAAAcCAAAAABXZoBIAAACUElEQVR4nGXSu2sUURQG8O+ce2d2ZmfGzWYfJiGRSLDRwvwJltaCAVEQrWy0UgwkEEihpEhlLRYSEO1CBLWyFnwgIgQREqJ5GM2uu7O7mce9xyJZ8VGdc/jg4xQ/AAQAUIcTBDrc0M8AZg5JMYFVPyGCKKMsuzYBqqZRYa85snqQagHMUNS43tLlaW6luOIYGZwzpl9K9csqK9C+WqD5HihTRnlzfg8ggNwbAy2xTFBQyIwr4iVvngugAbmZd4SorhOfuknt535uYU693wQzAAswKo/utFtpscZZVRMrrwtYJsCIkfF7YbHutyP2hlWE3KR08C1ZqNqthXiZApUjF+VpJwGiNjEgYM6uOeGJIgc9y9r1q4nlvA1hH5FWlfMTmZ00LGxS5DRK2lEAuIcYpC+JIv6eOQQN2tusZ7BwwQiAEr7YjOkpZ4kiS0vdtJB7EDB1ZEcMkyG7MfPVppAn51YcFeaUgQX0oOGMahhRqPDOVpKvbLO/KIrAYNEqLq5pZ0sV49LE/ccBz9p4TzwBk0Vecq++Stpvp2aHm4mu7cZRBhTSMlgImG99cNfeNZ6VyiOL6ecmv3Zr+JY2oCGgzn558uVIcTfpyVjl0+ljR3bvQgBogNlUG+4Q+1MbeeHkmprsxAYgAQjwj647t3O/lKrO+DahYXMdzjjZoYTju6hcFF+ZbHCv5CY/5OMLB3Hf3oXV9a7MeE0hnTu12YS8pbO/dcKPziyPDRwJgiAMw+mHXvS32pLNQRkLZQFM9x/SQAgYsLLc+s87ACBQ3Pzz/gUrivvpDOZLqAAAAABJRU5ErkJggg==\"/></td>\n",
       "      <td>chest_cancer</td>\n",
       "    </tr>\n",
       "    <tr>\n",
       "      <th>25</th>\n",
       "      <td>/kaggle/input/chest-ctscan-images/Data/test/adenocarcinoma/000121.png</td>\n",
       "      <td><img src=\"data:image/png;base64,iVBORw0KGgoAAAANSUhEUgAAABwAAAAcCAAAAABXZoBIAAACPklEQVR4nGXSP2hTcRAH8O/d773XpO8lbZL+0dY/LVUU7KLFQURwqIODSwShILio+GdwcXFxFqFUKiKCi4iDg4jgWBdFXTpVHCRDQfpP0jZJm7y8JO935xAtqd5y3B03HPcBADBAhHbQrrQriBPM/7ezlOjNGZ/aa9SxTnwNouzEZJWoexbSMcxdJEWONFljbJJK4YvEAByAtC9P0L6vC9RfuPr9TAl0WD9i8BcYUJMH8YC74FpcflN4HfgwR7Wn2L7iBhkSPFPHXAigW07CU71VcdvDWNRSPUHR6f6hCTYv0WJugQEGhIxn3LXQTZ9iHjvnShkO8ZAATIBmfG3NdXE2XSoat8VZdPfqVDfACkch6SOITLG8mRvoie3zNBlwBeAEDIvjPk46AH/wnEF/HzxjqSAAR6Zh5JDWG6nhA+8XS/jRXGE7yfSOUhmGhZhQWnZjvKYPIu7f22LzWVWxXWOAhJe51yY/rV05qLRSNWzrDAD7GSDfEuW9qKqbS2md20rf92grgPrrDOhMSDTh+nFXbjVQZyRc3CN2GmhWGHCpKfTtvMncjY7baW6M2dU4CVAMBno0KDWjY/nrzvIGzWhicjzenmWCggAk6ZIvAYd+3Td2tLxewYu659b+PHu4rDcb7EtESSYpOU8GS5xd+ivh6aOf6Ds5krCNlpOcn29S5t7tHSY+3Vl522xLU3LPnnhY6/AZiMrw1Ggcu7T4qkgId+MNBBCwZQJR9V/ZKYVYZiGu7hDvhJ1SSNhR/wamV+bBgBv9wwAAAABJRU5ErkJggg==\"/></td>\n",
       "      <td>chest_cancer</td>\n",
       "    </tr>\n",
       "    <tr>\n",
       "      <th>26</th>\n",
       "      <td>/kaggle/input/chest-ctscan-images/Data/test/adenocarcinoma/000122 (4).png</td>\n",
       "      <td><img src=\"data:image/png;base64,iVBORw0KGgoAAAANSUhEUgAAABwAAAAcCAAAAABXZoBIAAACVUlEQVR4nH2SPWsUURSG33PunXvnzuyG3XyjQsRC1MIPSCFqYWEU/AOCCGlEtBBB7PxoRASLoCAIgmhnwEoE+2BlYWxMIGIiokmUKBuT3dndmbn3WCQqWPiU5znd+wAACCACA9EgYQuDNm7QACBAktGhkWxuFnZ0aObjSgnZfADgOhhXqgcNqahWCFOrP/BX4nzRA0TDYdvycp7Hq5P1xd+ydnSkVW0n21a2z/lUZ15aZfVBATAAnOrPAqXdJddmXYQ0dHJqjlc3ZVqNSa8V77MvUOpn3Kro4KpnhsAAzgkpS/bZqwhEpbE9Ra1mdHwSDFRKomDK56E/sAqsblq9poIAYKDJJUzYsobvrzOeCOt4nAu4+ZOUxsAKVJaqBXj/ZmU+ZC+GvjX7Qw3Vhtdog9kdntLMUny4KNxpoSKhq0URo4TLSRSz4iSOzKOgSAp/xIdImErca/OC5/2qok5pPo+cDVRC3SdgKQnBLyk6pr2vNVY/U3yiT/NLyZsg7YUuN+o759tRvuvbjr5pfI+Ed8+EcH9zugu1en3Gj77LoEKyc1pVOwOfJhvQAARxM1uM+C15Q9ydrZSFfFaNjQgEfKmDNLCQEImUAV08JAHBSQEh7Dm+TlpR5L0UDnj6lQNwsHevcwkrbUxsjDbOJm574up3ADC15syVYaNGIATFhEqEfGQsuw4AuGVtHPfe3ZcmzsXOpcMTYzaOzemNTOotFrDAC5GwMESIovWNyRr5OEhEWBMUCAK61lnHX87G1hpjrbHW2Rv4lwNXe9PYpYO3t/7J9f/8Al/+8nXIuc5LAAAAAElFTkSuQmCC\"/></td>\n",
       "      <td>chest_cancer</td>\n",
       "    </tr>\n",
       "    <tr>\n",
       "      <th>27</th>\n",
       "      <td>/kaggle/input/chest-ctscan-images/Data/test/adenocarcinoma/000122.png</td>\n",
       "      <td><img src=\"data:image/png;base64,iVBORw0KGgoAAAANSUhEUgAAABwAAAAcCAAAAABXZoBIAAACXUlEQVR4nI2SO2gUYRSFz73/zOzOPmY2j92YhCSmiYkKQbATLAyC2ttIfDSKChIFBcGAi4UPVLARxEqwsLIQK41FEG0iKASNEBMkFiYm+3KS7Lo78//XYkPUzlOc5jvn3uYAAACiTcMfMQACQYD27gQAAdKgZoYAkKDjR/zI9rcTdSJBA06DpAlJKH69YhgsbFnrokTjxVxpo0m50y7VNUnHYMjVxe8MRHRvtflTzrrE4tithblTUwWdI2MUzlsALKDNoEEqc1P86PIalWvZMuvWUn4cYOACyCZ9K/KKZ9Jusj9zv1NzhaLmWYOIGyPkrO/tZDJhx7m7YJUzLoFBNovFo12DzjKMNBSnwpyYgJIChtw2UcVLV5eoDSoXixkORXMdDYChqqzapLJU6F4wMAJUaTitya8CDKNF7HYd7/rmrZC2QjNvP3SVRkRgklB8U1axXrM4AdYsb1IWhXQVAksAK9aYTsWmsPpl2Ymsd4tDrrGkBhAzgU1qd81y4/6lbUH22msqD/S1awOARdGjYnwkGe++2O8Gw+QRt+yyi08MIJb4ReJi1SnseLw+m114qe2Q3rvmK0m2wAioFK49783MhPn9dWfaG3Q+rRVYC60II8yWWacP9fSd+Pyhh26UUwPjCRMAiIMAJOnwVjkwGyiTrEX206NBEOZTGlUQgOOTZX2nKFEiYWIs+BXgQUm5Kxtjyzwbmzdq355UvW47Mvkq5C350c0l+vrYwbEiCRCxZbyTLVcCbEJ4gETOziEvnPkYKGVW8RcEfGNURNCK2HCAfyHgGxEQiH/if/QbuZsKlL5i7U8AAAAASUVORK5CYII=\"/></td>\n",
       "      <td>chest_cancer</td>\n",
       "    </tr>\n",
       "    <tr>\n",
       "      <th>28</th>\n",
       "      <td>/kaggle/input/chest-ctscan-images/Data/test/adenocarcinoma/000123 (4).png</td>\n",
       "      <td><img src=\"data:image/png;base64,iVBORw0KGgoAAAANSUhEUgAAABwAAAAcCAAAAABXZoBIAAACeklEQVR4nGWSS2xMYRiG3+/7/znnzDlnOp22Wi1jVEPYdCNxi7qusCBEYmMl1YVoWFmwQdiKBdHE0kqQWIlKNIiNWLCoxCWlml60ndHp/Vz+/7NoKxLf7v2evO/qAQAARACBiPDfEYDGDLtAsT5sXspq+Q9gdXwqYyyplDh+PLlcEQJIUHfa2NKMM7la1GxF7icAiyw3Gzvn/IVCXG375s/ZvDfRk5KwXZ433eEdN/aPN2UFMvn03MT1pWEG4J3b1MO2/WTJseC4cPTSVO4vbDzmXHYyuX5PtHDk6Ly74+LSJANS2+oVuZoJILygAKLuSh4AgYEw26cHZtXRnDIxAIMCF7qUQMCoO6T7WsSPn1gD6wnJcLMtzuRKABgE5X7RAYuQTRIiQwPOlcLUIABGN2824VbUZUct58nG9lkpr/RVAGD1K/M5DNbVpfxoZDHRxt7Jtx/M2NEMCLqJFcfuJ5v6SW/zdl1+HrZqqom1m0jIYlj8aGRhobxqpj+qGWhwIkagxQEWeYwXOWpxZIu/2+uctXt0NLA4tY9RAVKm+hrqmCjMf237sK22bbr3187o5bs0CRoAcP4m2ZIMBtn1IweEqiPp18LewJOHZQb4ty1bCb3EvG7/qTwbZcvVwcPVuR+iAQ1bG5sjb3PDyXz9kFlbMlXXK8KSxAC1/nTP+P70d5rseud2vNrVO96y/33lnuIEIHicvTBWqykRlWhiQWT0g4qJlgQLGsbTa0OKA5bYqWiVfdGfCUZXrOw4cWsCyYa9awE7/GxcqfTu7Y8rEFneeP7N0wSGhcOza26M8/xfn4HQWpUqi5RFKWDuH9kBIGdA1igSYVph+AP43g1kSov7gAAAAABJRU5ErkJggg==\"/></td>\n",
       "      <td>chest_cancer</td>\n",
       "    </tr>\n",
       "    <tr>\n",
       "      <th>29</th>\n",
       "      <td>/kaggle/input/chest-ctscan-images/Data/test/adenocarcinoma/000123 (6).png</td>\n",
       "      <td><img src=\"data:image/png;base64,iVBORw0KGgoAAAANSUhEUgAAABwAAAAcCAAAAABXZoBIAAACOUlEQVR4nG2SO2tUURSF197nvmeGeegYJSEBkUAwmEJQSQLaCFYisdBCCxE7wSj5EVYilgpREQ1Yp7YRI6JBUIsQNSCICUTzMHMfc+85Z1tkhgR1NRv2B6tZH2EnFBa+KnSOv0NuDzEAwFGNoPvcPkEZaV5EOkSihT2oRLqwvlVKriVkoofuOc+yeeYUVHSgE2WXDXnlpM1WCQrg1ZLt1NbzgVHYOgR0wsw5mYdN+xRiAAJqF1NwEFI+KAv6XfPtzV86xpuVdQGhKuehtCo9Lh3/clRmQ5MOjm9Yem5TMNyJsKIN1Sh9MVZlN23zYu4omvAJjDYCt+boe0ZUb63/LFeMmgETXygTQwkV1Kj4yurvKQ7YFllvSEkjI2G0lPWUqMwdYtwRQweNai+Xq6AMDIsUVx3ALOgf12NW8bBPqRhWORhEbczqk1Vyj8z31tZaq5/awYiesobBICZbVy8zeJ9jCWZ8z5Pig3uXyIKhHyBfBJwi96cqhyebsQ1OeQ1nAwQGEMVS0I2qe9/WUjrtqLRqfxolsr3KFaox5QMjs4yY9w9sfa20NmnabsPJDTu4RgJpi0fkWndVR9NZd+zmpfVQs4giSyVOrfvIWzMdGOxNxFf+lu1vNvZ58u11knq/uyaMvsfwUiGuJsvKKDAfmqcMYACY41uLqddnlXIVQor6NpfGsx3BQjrT88QaZUGAGh27bfIdiMgoIz3H9tiVj8sMSnerCSCEISGAIR22CyICBAKi5B/l/5c/aXP323yLo7QAAAAASUVORK5CYII=\"/></td>\n",
       "      <td>chest_cancer</td>\n",
       "    </tr>\n",
       "    <tr>\n",
       "      <th>30</th>\n",
       "      <td>/kaggle/input/chest-ctscan-images/Data/test/adenocarcinoma/000123 (9).png</td>\n",
       "      <td><img src=\"data:image/png;base64,iVBORw0KGgoAAAANSUhEUgAAABwAAAAcCAAAAABXZoBIAAACZElEQVR4nI2ST0gVURTGv3PunXlv5r15+d74ByPMWqRILQwCzVVUkG5c2CZoUUaUYNCqsDbRqlVRYMsIkQhrX60qDCqCMFzURqSMzNTU92fmvZm597Z4arTrWx3Oj+9wPvgAACAA4PpE2FZ9rQG4fT2YXB1yIdaf1PQ2JBjyhhPy3PXEkWoDGN90kgGA9IhO2fEOzhSjlJbfzEQFAKQBAO9MnJl/rvl8tGyeau/6x64PZDa/kId04493nAznpN96umNttNCbN7QJk/3Mr9cx6MOyRP5oKICzMFSHY1y4syr1geVcQglkxhp3kiYYYgBekXpqaZUSbXGgBRVd0nt1/2Zyh1NDqGltDDyQWUmT6cw1gA0DdA4yI207k4rKyk7C+cWCmRbCN2DAlBGlPF9d0RUiVX27mF1yNMcRSAI5ypdrvOYWYaci+1GYjV22Q7IIDJiGDW12Nlvy2pqwN1ZF0apFZBhaM+gi+rNy/me4cGJqcbVwtVd2W5wnlBiSslVvNkzSrN67okXcLg60zig5FyIxYFMVcWCfhNV1bGV3SJyxftl03DqskYdky0KcbomstonaqbTlqOkI8sLSrMEGWAeTAeL2bPezkmolURKBEPLNywRGg8GLNR3MPfwSy8aSW7SNw9kHiV/JbdXkEnm7vj7ed7B9oe/zPZYDqqFSu1+HbuH7ZS0d45SSPXP95oXvLLC627hSd7b9xmCz9k3FCaq+0EusZj4h2DrbcWQq1COuUbFRnMvdrPqdr7aribSkG7gVCihJYrRpTJf/9haARwnHAkpqLVkF+AcCWRhOwKy4jP/RH477AQoXDnT6AAAAAElFTkSuQmCC\"/></td>\n",
       "      <td>chest_cancer</td>\n",
       "    </tr>\n",
       "    <tr>\n",
       "      <th>31</th>\n",
       "      <td>/kaggle/input/chest-ctscan-images/Data/test/adenocarcinoma/000124 (6).png</td>\n",
       "      <td><img src=\"data:image/png;base64,iVBORw0KGgoAAAANSUhEUgAAABwAAAAcCAAAAABXZoBIAAACJ0lEQVR4nG2STWsTcRDGn5n/y26STZo2SZtGPYiI5yJ4U3wDRfHopxC8+330CwjtxYoInsSLByta8WAPxZravG12s9n/jIfU2oI/GJh5nuP8AACMM9DxLLDH2UlCi40BkLvCAHSRMgDoogCAR6V9fRO0pQBISQHQ0gAgtPt4KC6okfK1CCkeBCaxik1Ye2g6FJu8Dp3fj6dJyGPmVAOBhYzK47QhmGqNKVcXvIIyz5iYlwz2gWBsnGStjgvuXD3V8ZohpRjcJhnZjMtSmuYweefHaQWVYUdZvxMfcXhL1TKOysKkR+P51NNSgCLgg3Jx1ZlZkB6MvJikt8s8t+MoytgYAuMTi3MeWtkP7z+uF9tOO7jYLXUnAiNv8BsJ141+Vk64Gm1uzbHyldODLhiSmnIizxFsUV6LByYURxgZ3W0EMGoR6NskiGxYW+8vp9wm/OB0f9gHYzDpYI+miVxutVK3fO/CndLEo0FSAAR4qmfVjfO1AzFcH1Kg5rD3ZRtqMgasE5vJz72pKyRomOtkujtrCikIgGfX7ttbhTFu7mjmMtnJBwLMCECsalr5zF/qgkWJile9X4G0WDzbE6i6Mpz5UcR5YzZvDkSJ8oUURa+C6e9knbqz4FJpGfjGev7XstWh1oRjyYKQy0pZHVL+z8a7He/s0kLRNR/Vak9Ou+rt0xtRHMXWR8nasyQ6ERgAECt0bmypTMQZzpZADAVIjOb4P5Xq6esPGQf/nvkJPygAAAAASUVORK5CYII=\"/></td>\n",
       "      <td>chest_cancer</td>\n",
       "    </tr>\n",
       "    <tr>\n",
       "      <th>32</th>\n",
       "      <td>/kaggle/input/chest-ctscan-images/Data/test/adenocarcinoma/000124 (9).png</td>\n",
       "      <td><img src=\"data:image/png;base64,iVBORw0KGgoAAAANSUhEUgAAABwAAAAcCAAAAABXZoBIAAACVUlEQVR4nGWSvWsUURTFz73vzcfOzM5mVzei+UANkWAdUbDWQkgQxQ8QIVgoIvk7bFQESWkjRIxiKzYqaGEhWtlEE0RXA0k02WQzM7uz8961SKJBT3fPj9PccwgkAEACRG4nqebdfPsGYVulKykFr4+3iWcSu5XYZuWL3Rqplf3Lsu49alnshOoS7+KmqbMhWdTTbbD9CydQezXrnH+aRm795KKayYQEvEldqX2cq6d24sLebOFXyIUHAbEARHTZUe/x60YQ9O3z1DNfjrnohTAAEZhiilS57Fu7S3XkoXMw85YADQDls4g98U4Q228rUWDXS51umG8mdQt6uHBate5ysXtdZykPyblEYjCAYhL0lgu/gnrHmevLogKqrPQaGNRPG3HlOdUOZUosX/Mrds83JeQCGvIdVbI6X1rxji/Hqv3SY8m8riGAQf4kiMkfrbyfju/fMcPG69mdgw3AkHZqtZH6/OpYVrra+7GhsnxVQiMAA7AYWHN/UOWlagb5V4TQxRFnnwUYBNqYq10Pk5+DfNilam7Lp3QD4wAYQnGhTDnJdWN8JdHzerAdSROfDcCA3OUimPW1SgZUM6V4fm/zqNt84Wy+j3XCY4O3bXWR+v24ibGRD4Z0Z7NPLRO6hNpC+0Bjf/uBPJlJrJl/I1tlh+M98FSbndTJRte/GGtqjxt/ZhJicpXKufGsVbQm8ZS78XdDZ979LMaGOt0uF0HJu0UDn7BDgXfzdBBEvheWwpF7wZa7PbDIorC6ymnLJdr4BwKRGDLMxqEW/oNARBaS7jB+A/W3/lxHkdLOAAAAAElFTkSuQmCC\"/></td>\n",
       "      <td>chest_cancer</td>\n",
       "    </tr>\n",
       "    <tr>\n",
       "      <th>33</th>\n",
       "      <td>/kaggle/input/chest-ctscan-images/Data/test/adenocarcinoma/000125 (2).png</td>\n",
       "      <td><img src=\"data:image/png;base64,iVBORw0KGgoAAAANSUhEUgAAABwAAAAcCAAAAABXZoBIAAACQ0lEQVR4nH2SvU9UURDFz8y9+772LY9libjoIgYTjQUddkRiZ4MYExotBP8I7WnsrQiiFlIYjQmJiZaGSgtjjB8hREMAo0b5ersLu/veu3csWFApPMXM5JxmkvMDQABwsAAQ7d1q31Pgdt42rg0TtJDgUv6RmRC6D4Bkb0zYU9sfCIyRkxlHsbJkH7AhIUh4WTFoVkPohIVsU1qK1XVWTzaFJkVEQNAkTERBaqNaQYjjMftyROTtuWjdggHDlHdDbLmt5vly4OgLLDzss7JgURRZJfZ0qL2+d9+TvOMUI8mUMEcMMzAjTks5XiOar9dCGciZXMlB3EGKgRovbLgmyeRO9SHVseL51Q1yCdkmA43eVRJd0h2FqlHT5ulczCWpKhAzci3kHMiXrKLMxWXkOswar2trUhCjTGv68bbq5k8Nev/mVnOLXnnse8LaMjrJdgt+GuLUfCUz1zJyzEmjflfASEymsKC7uzpdwlVvLBBZ5sbOanZPGIvMP4obdutXl+NLcaenpRnaH3ViAgMUOkGYW5Rs1JwVqfnhUZcxX79LIMAj48eY5Oj4aqNwpr70bLSQjM9Ot6v1RJc/R+NuvqmyHCeVbzZL1l5AQAB8cZXE6gaxnyqyiWqaj68hbSiKzMbsmsEh66pEkOnFBVbpPjGe2JQIFqT7qp0rqXi8e8Db1JDjhApKKYYm7XqD+Ev+zBHPd7t6y5UeN/Aqt0/8Q2sg5mb++VKi+q9gyu4eQjkga9Uel7qGQyEQWJXpVOPPK//Vb9Tm9QjRW5xlAAAAAElFTkSuQmCC\"/></td>\n",
       "      <td>chest_cancer</td>\n",
       "    </tr>\n",
       "    <tr>\n",
       "      <th>34</th>\n",
       "      <td>/kaggle/input/chest-ctscan-images/Data/test/adenocarcinoma/000125 (4).png</td>\n",
       "      <td><img src=\"data:image/png;base64,iVBORw0KGgoAAAANSUhEUgAAABwAAAAcCAAAAABXZoBIAAACOklEQVR4nG1TTWsTURQ9975585Fk0jRJW9vQWiXVhYgLFyru/AGK4K5L6aIrwb0/wS5EhEJLceuiipsK/gBBcCWoqIithEJo0yRtkpl5M++6SKNWejb343C5F865wClwCAQQnFFjeWALz47z+YUtYSugYfkAvYwytbVLMn6HIeDSY4Aw/xNYMlAFFflxoiQUYI/BB5vgC406cilD0OIovjpVOxKTTlQZ5XEiB2yWB2NpYsqt6nzDOsmBCpvacQ/pOStA+la5MRt2dmIbOzNIyk7eZWvZaMcFFIKs+32jXAozRGH3UDILAluTanDXy6n6D90322PtTC1ImM+sEENlacHmDfGTKF5vr6npND0AuopFGLHCG4XLnLf1nEgIcUmN46ySijiY3sO2lY8k+DrZe30fvApn0d3tYwWM3SkWVmLPEvXSfqkjNa08pSAAAw32tvbBjQnnEj9kM9AcGJFkA2BANLdgbHSd3qtDab9oTt7TDAHAADoWr45odir0VHe/0KH2uSxtMTBU5WIDS536Hn4VbkZfkg83VGW/twbQULJA124lPuuYzjRnjzq6ye8+jSZJAqpcK5aNsrVvvoNB8raR/SURUFq9G2mdFKVniit+LDRygjY00wmb093FwPLmjgUA8DAg8IqATzkATERglHz/j99qFd+n4x0EVL3gyj9uLK7OBa7nlWuTged7c8FTjA4CgEDcR72X2xlVzt/+vK6iEyTylgChVKfKqh5OkkAeAhGwjU57g//xG4sf60MX76a6AAAAAElFTkSuQmCC\"/></td>\n",
       "      <td>chest_cancer</td>\n",
       "    </tr>\n",
       "    <tr>\n",
       "      <th>35</th>\n",
       "      <td>/kaggle/input/chest-ctscan-images/Data/test/adenocarcinoma/000125 (5).png</td>\n",
       "      <td><img src=\"data:image/png;base64,iVBORw0KGgoAAAANSUhEUgAAABwAAAAcCAAAAABXZoBIAAACOUlEQVR4nI2Sz0tUURTHv+fc+96dd2d0eKOWhIKphItMgsIgDIqKiAhaFBXSpjL8E9q0DFxHrSL6AQXiMqg2CVFUtKpFWQsrtChb+Manzo/33j0tZiZx13f5/ZzvWZzvITRFKEHSVFVSYMNryOMaulazul9MxMVNkwEQDHHBHnQVl6ufHI8RNDMEAF4amDPSGBaBu8NpC5Lk/POJ6oLIao6gl1P/UTlrrhVdPUvFQjnwwyBZvPW4iLqUWslw+TIodHc9HDMPjUAm/2QPqNJIugmtqXybExvIsMOQ/k58IW2szR+nDDxrle7Z1naYMK+fimCyAwDDy4edWWdc5V2H2OrR3lrdGwJqqyAwMoKo3fAx6C1ROnC6TdJYk6OcgJEQqPQJpF/ARhzOHyBzA6ZzvAowAnEX5advKIyn3paVfUZVVQgcwhAaTrl7UqSse+H+Vdi1DwZQGHtFsQGD3FrCnjaL51xgsydzuXj9Gl6nlK2BEZWgRuonCsNfuMeLonxN4ZsS7ZUah59o9yXD0tz2Hk5nEtajfcrFv2cADSCMOva92f98rN90R3pa+vu2/ordTKuyK760cXJqmjRTb+/HqCxon2pBPjIgKq8gqTgV1CL9cuXrv7K7JDV7h8HJunOObG32R1IhacItKyoPSpxfBxNnGe9816oMWDo6GMdD2rIiTanprny+VNn4Qdium6G1xpqctYU91+3m17SOMozs8MrvF5hpfTOEdRCCAEQttgGBQJwSCFXxX/oL1DXfezQ5WQ4AAAAASUVORK5CYII=\"/></td>\n",
       "      <td>chest_cancer</td>\n",
       "    </tr>\n",
       "    <tr>\n",
       "      <th>36</th>\n",
       "      <td>/kaggle/input/chest-ctscan-images/Data/test/adenocarcinoma/000125 (6).png</td>\n",
       "      <td><img src=\"data:image/png;base64,iVBORw0KGgoAAAANSUhEUgAAABwAAAAcCAAAAABXZoBIAAACUklEQVR4nFWSPUxUURCFz8y9z7e/LLsLLD+KkGBjZaxIRBMLY2Up0Vi4FlKIsZNO7Ggw0Q2FrY0m2thYQUFjtLFRo4SCaJTV8ISV5S379+69Y7GwkdOdnMxMJucDAAIxDkQKDHRtV1kMcD4DLwHNnVgfRukzZ3O6tQdtKfl0mwUACABIEJsLB3S9PR7s5jmsLUUASBgABBkOM6X5au3jti6Xl/vuDjIgh9erM/nF1kxbFYYHJvTUQs/lXoDAgAPUvYuPko78QXjajgzNLmZD6kwCPO8VlfMwlEiRM+wPpQqzOXR2slQy/cPFK2za2kW+OGou+MWDV9LF3NLkFPf/8chEmi3ZdCNWTYfMAFWRaUwqBx1EtqUabH9E1FQzcAxIKnF6gp3GhlFbRuI2eGn8/ZwFNEnydnMVnjX4vKKu+RV/401MGufXLcBCDd/FhZzAU+aFv1t6q8NWfo1ULxhxtPI2ijT/ClLJ6er4w6bWPcdSO1QlhuHHsndjrS2vqcnjE1o4oRJhuW9ZRAOEisq9+1Crn/p+J1bfXCmMrlauI/jCYLQtl9qbN0Vre27Ljemg/Mk7qfp6yDkC2PGD3Rx/9TPeaLaw/u2Vd+LWz50Sk6VO1cevZsdaW830vmdiU+8DOzIHhiEAiqzgfiTItxqU+UsiT0AEBwIQd8TsjLZMjpQYYnZsdK2DScKxc56BEBGELEEbah7SFVMEBSJSgIYipbvgAUg+9xQRgwjEfGx6Fl36AKTYmEsXBrUKfj+rktSPhEAaIhYg7ah2iP8R6NPswv/sPw6v7iBrnY1xAAAAAElFTkSuQmCC\"/></td>\n",
       "      <td>chest_cancer</td>\n",
       "    </tr>\n",
       "    <tr>\n",
       "      <th>37</th>\n",
       "      <td>/kaggle/input/chest-ctscan-images/Data/test/adenocarcinoma/000125 (8).png</td>\n",
       "      <td><img src=\"data:image/png;base64,iVBORw0KGgoAAAANSUhEUgAAABwAAAAcCAAAAABXZoBIAAACNUlEQVR4nIWSO2sUYRSG33O+b2YvM3tLQi6iBBRBBUH0DwhiLGJCjKQSFQuR9DainY2dhdhYaJXYKIoJUfwBIin0F8TgBcUk7O5sdjO7M/OdYxGD8QK+xSnOc97qPMDfMf/Y/Rb6OUhJQQoKFZa7EqbRNlHavlOgihPrH7h1TeZ7Tn/VSQFUZ2IqdbIB11T72G+DFCAQFOBwwpahXFwLUhPpQmunyQIEU1ojkN3aeDN03OvoYgQAFhCWYFoqZmPp6OizIPz6+bKN42oTABNK0jeZ9NnOCz4yMpkkPj2i7nkFA6wlVxs3fpQ9sVLCvvJmfwyX83wSgCubpgFiXR4tDirTmD2Vp6WSnFEGcUS4KGXZs7La3si1XV7nB6SdsJ6TQNkCtgIZSQtk76f1knVRQgfAIWIw+51MqbrAfnmCnM2AJOeoVBGqgJPerHoWZTTjl7RYhfUy530hNQowYHPxdR4u5LsJJ8Rxut+kCZtwrAEGnqfhnYykZwZ4du1d3q16Z7UnaZXAwCfjlAL2KL3p732/Gfp8COPUfapgAGHDaHyJil2uZ55t64Vv/EqMAAzgniFj69M3HkqDHvjmdEUOGsr05z+vJLVandUJtDC03lMYac5hu+m/zrfXB1tKOJbI94yDqBXNDe+IVIrN1U1PiFJXhpEtvF2xWzsQM8trCGfyqTor3seF3OGpW7tMLObHb/cXikEhDIKTdyvBLj8BoKhOiaBKVmP8ARFCVIyDh/b/jAcA/AACb/OTsQnDygAAAABJRU5ErkJggg==\"/></td>\n",
       "      <td>chest_cancer</td>\n",
       "    </tr>\n",
       "    <tr>\n",
       "      <th>38</th>\n",
       "      <td>/kaggle/input/chest-ctscan-images/Data/test/adenocarcinoma/000126 (6).png</td>\n",
       "      <td><img src=\"data:image/png;base64,iVBORw0KGgoAAAANSUhEUgAAABwAAAAcCAAAAABXZoBIAAACVUlEQVR4nHWTP2gTYRjGn/f9Lpe73J1JkxJsagu2VKiTpaAiLoogOqjo4GClkxUUKeLg2sXFgoOC4FAUh+qk7SQ6W0UXEUEXO8U6VPPvckkud5fvdbDVKvRZnuG3PfwegLBtiIQEAJDVJ7Iv/dZsx1jyaxtws9wpjWJulT1px/So/ReS4EKW8l3DFq2tgKuphQAAGyAhgV3oFd+/Sh86WH1XDiYONwUANJEAUJcpdz9S54ZT0m4tN+2L9UUfAAsI/Qx3PraMLJE4+ZPU7DP2EhgMCOIZmGnWSactpCkfJ3NqkqDBAKgh9u1Ep0pjhTBiTlKl9A7xiIgB4CalvCHdPhqTp7SuqjYV9LSIMIB0gJ1h22CbWjqA+bYXY6SgAWIAPbZd9GVUtt6NXPPN+r6o8NGIPSUGAJhROf195LSYyugtfh375DYaNltNMGBdSakYcfkpnsSqVZYG2NjF+Akw0IsNw9J2sLYAqtvXz9e8gj3RpRxgkNhpsjKkzIFKMyje5Ut9jYSex+QDLE6YUG4oFdK3OJUwlZ7lHH3W3oOeA0Y3kqjyulRi5dCQ6gWjYZhY4z+IOmAkbIo6crySUb6jEqO24luu+0USAhjQd1qNFZ3xo9Epy6RhK+o+CON6/+a2/Toybww6xYHysatV2X3gRdCVW/LbhEx2pkJiG8D4587k0vzqMtG9wbUNTXJhPKszRDi1pLhXE+kscvhHsDPrH6CveV3psOEF83Zxem6Loa41+Xi/6zhu1tsx/TBv/6Mm4AhEkxCYRfn/QXgaWitRRP72H9iSX5oA+/wHRT87AAAAAElFTkSuQmCC\"/></td>\n",
       "      <td>chest_cancer</td>\n",
       "    </tr>\n",
       "    <tr>\n",
       "      <th>39</th>\n",
       "      <td>/kaggle/input/chest-ctscan-images/Data/test/adenocarcinoma/000127 (5).png</td>\n",
       "      <td><img src=\"data:image/png;base64,iVBORw0KGgoAAAANSUhEUgAAABwAAAAcCAAAAABXZoBIAAACaklEQVR4nE2SS0hUcRTGv//jPuZ5Z3R8pA1oTmhECj0WkkULNxHYIiiCsMCgqEWu2kkQRBuhNtkmEIQIomUEQRC1DG1VBBJlkjo5Pubhbebe+//f02JmtLM63/fj25zzMTACALBoyMMaQSrUNQGsvsIpm7ZvRap3Swvv0tsNXIcMkPdXGMh2gk16yQvEQzSTbZ53nTpoJ577ZagVmpNFgBE4AMC1bjFmB+GfhfUn8XZ5rRwDCJAAYPNNLboeyfA8MmMvlscrrYWYC9STWk2yU9NQh9OJePcxb0ZcsVwA4GBIyZrv3LH0wXN+OkDSi3SqVtQhMVgXTZEMve9+yoAyDGdYFtsZwDhgBzsd4lkNR1w/ScKQMftqcqJMAHGgSjeFUD7/yRMVvaH91nVbCBNMgEOkTYixqNC9WYvrDiG5LUf07TTpFg6GSUO/LVLysipG4a3Pl7TyI64AtjiUX03wfhuFx2IV2lj7HFD4UVIRDBxwTVgFQTatpqoyHDrUZcseM0wwgoRTMqoibyknGz7XN4K1wW/WuiwzgwCOEvKGNnzpLwdybCid28puyqWoGTTON+NZ/gmjNrjMsj9U5cuHbEzzjVoDsr8YGbAT1Zg0/ZXXXjw/PLozV21Aalfz1RbT29eXyXnKCHsm3gQcza9MeYiPHyBn4Ognp7Mt2zdLZUKzCTF1Nhee/BpJ/Xb7F830lh+Z5u5uTVI1OZU3hRkok2+LzENqW9pNAsfPPKVw/2inKLxfNHTvvUv4f+LWhVenHSeR6n4wm4k1zGZvkQxDgAiMM3IbHm/CMucAkRCMN9leEgDiXDFe2dP/AEFI+26WPGOWAAAAAElFTkSuQmCC\"/></td>\n",
       "      <td>chest_cancer</td>\n",
       "    </tr>\n",
       "    <tr>\n",
       "      <th>40</th>\n",
       "      <td>/kaggle/input/chest-ctscan-images/Data/test/adenocarcinoma/000128 (5).png</td>\n",
       "      <td><img src=\"data:image/png;base64,iVBORw0KGgoAAAANSUhEUgAAABwAAAAcCAAAAABXZoBIAAACQklEQVR4nH2SPWtUURCG35lzz/3aTdyNMUUSNTGo8SuFAREE7Wzsgglip3aC4C8QRPA/WMRCwUrQwkohoJDCTmyUxGAkwciKZt3snt2999wZi101lW81zMNM8z7Af0IgaG/a05VAVA05pf4KIAVQ9Z4oI1Zwrsa2+gwA4rSaUAJYEAgWbAMACEiBctCcmZZA+M2n+XJBqk/yyPdP487ZaYQl1cD5KERTO3jaDnMoARQtsFQJhPMfmtHgl05EOz54qAADvEDEDcL2sY3BcDKacgYW+fXe2/LloWYmw/Uz9NFVW7WleK7trEryAAzM75U4CX5s3bmLfRotjWfPUgspnAUDIuBUJ96O6Is6hXbd+EVCVOGrYICkTT59zVujrWB52yc+I1sphxUFA1wfqJj4fexXC5qxnSMdj1dEIAbDCvyOz0035TwaQ7SiWjlEsQjAyOvEBdHBdqbeGp9IErgpHbdOiIHnwQ5xcCPksm18HXSuNCwHdLUQVgaw5mlU3l2JooVz3ZNzgavdroEIjV4t16RqCp1cy8sTK0LdtFMW1PWxYQBombHZAbMZxHnNhlTS0Ld/0eeiSwCs3GpyEJLvkicbKSob1HjZUOq1fTid2O8NF5HnwsHkQ48y7/oqJHp0K2OvQGGJQNZzZ/T7TzAAtGc3GiMSgGGESVHwiXw9RQ9iObvXylzpVGwsYfx4q/nt4oXNv4YhUdwcXqwJWMNLp+83jPunHxArizBQsKGC2GE3BBKogEiYyP0xfldSVaW/CPgNrNj/cCLKQ2YAAAAASUVORK5CYII=\"/></td>\n",
       "      <td>chest_cancer</td>\n",
       "    </tr>\n",
       "    <tr>\n",
       "      <th>41</th>\n",
       "      <td>/kaggle/input/chest-ctscan-images/Data/test/adenocarcinoma/000129 (5).png</td>\n",
       "      <td><img src=\"data:image/png;base64,iVBORw0KGgoAAAANSUhEUgAAABwAAAAcCAAAAABXZoBIAAACZUlEQVR4nH2STU8TURSG33PunWk7M9B22iIkEPArIERJ0IUx/gQ3fkWDmiCwM7riP7jQneiGBBcaV66MRkNcmbgwGgmgkIgmmghYymdbO+107r0uoH5sfDcnOU/ezTkPkQEAgEy67IjNFh2U0QjtTktntvw6tJGBwwW9s5TYqcZwKWCCIggx4YfFP81kBSNgp1ksdw1MBSHUIxOYBuSzPmUuL3+Zbe18+/7jVW+1/mRdA0QA0Dyo/YdlKezBpFn5MF+9PX3f3TAAATJ1Xnh3peooDiUoZHmnpgbNJGoAI+2fs/xJHUVLF2NGkBCDJukDDgAGznDUkYxLDDk2BVIqSRvj7jABYERwMvlCN9nNFtiWOlyCrXO65gOcjDhAcfjkKWtWmshAyedQNuEaAywD5SrL81qbZmp1EqHQyApeiZXrAAcsQ1JEFlcnypViWL0XWYdhkVIAh5pkbd3UC8Hxvgj25gN3oLBNe5mrKXACIkHxknot5j5b+6z58uYM8vhJpKrgEj02teSLV2udOp7bKs5FHlsl+g4tqpAwS9vojH1L2S06kJHp/SS82h6PYhEgAUTpmbZc5kdHT+9WNt63mF3To19r4zsXwnap+XQ1nz54rChSY0+9bWdkHqrxT/dGMXVk2rTnFvxk9tnUgf1she/e7MKcaboQRa0l4tAibisEayJ587cJCdO+NVomW0NyICryZV4H9YZl6euu09OfSqVbj57oTiMXd1tu/VYQjntlzIu7bsJNxF330HjW+VvNBGlWTf1d8dWFRSaD4B9vkWBoRUoSGars7rgBA9KahQQZ0WD/zy9vTvVfIOJPBwAAAABJRU5ErkJggg==\"/></td>\n",
       "      <td>chest_cancer</td>\n",
       "    </tr>\n",
       "    <tr>\n",
       "      <th>42</th>\n",
       "      <td>/kaggle/input/chest-ctscan-images/Data/test/adenocarcinoma/000129.png</td>\n",
       "      <td><img src=\"data:image/png;base64,iVBORw0KGgoAAAANSUhEUgAAABwAAAAcCAAAAABXZoBIAAACIklEQVR4nG2SvWuTURTGn3Pe+34kufloSSU6RC2Wxq2Dg06SuohCHfzAVdBJKIKCg5ODFKQoooJgBf+ADm5OIkpB3EQEB7FSWqiUNMa3afNx33uPQ5LWiM9yD/y4l/twfkAvBBoMw2dvIACEIIf/pIBAl1IAMLL7zuD2/suOUUCDrVPBfFJoAKA+HD/rKVuiUdTsBtguv7YggQIAZGZEzNg83JUXarbu+LAAAjAARDeFUXzm+QXr+Y+DSPgWCH3YrpMb87oqe86/yv5ahqXlyQBeU6yaC2y6E2WTy77zSPEsBjDjHDqGnIAPmmxqnAQG4B4kyplDSh+/Qwm1xMwloaeAqP9b7QdzEnWSrtfIHHE1aKlRGO0wMoBNJdpLB2fa8N3pbz+TIgEh6mBsg1h8r5v7vfgqXi0GrhUSQNzvqdhOihdGKxu6/bBUn4a7JNLq9KCh+Lvv19LWBu761+Z7RYt1tdszTTapurjcDo/6o9HkKYL/HJwCA6B7HlGZw9WLPxQtVbamyCYx0AIDkCCx4ydHzKjm/PLaF6yjniMS9HrqfONT4fyHY1z6fMBmb6w3cBck/WWnqVKV/Nhm4tinpor5qSlubw9MKG+62y1TTIyE7a7hl9JR8Z4mDxZWpHCiokAm+vgGel/1yV9+6Zn7Ra11KqO1nng0lR7WUzsEF6Y77tfbJcNuZxgiK+JIIB6Btv4RG8g5QCDM8ZDsu8nbPQLgD2eGzyLaIfJhAAAAAElFTkSuQmCC\"/></td>\n",
       "      <td>chest_cancer</td>\n",
       "    </tr>\n",
       "    <tr>\n",
       "      <th>43</th>\n",
       "      <td>/kaggle/input/chest-ctscan-images/Data/test/adenocarcinoma/000130 (6).png</td>\n",
       "      <td><img src=\"data:image/png;base64,iVBORw0KGgoAAAANSUhEUgAAABwAAAAcCAAAAABXZoBIAAACKUlEQVR4nGWSzWoUQRSFz73V3VWd7p42msRJHEQiGFA0C1FcafAHwbU+hOLCp/BRBLcuBMkPBrfiQkQ3ggsTownRjHbP1HRX1XWRMUY8q3v5zu58ABH2QwAB0f51EIJSVMRjCjD/rQN3HAtD4mXnhZJLHR+9gCMBAbhNQAd+SCCXwlLg4M2yBQjJzZBbXxDCQLIGkrUE+hn4pQWjkZJThgTKNbJOOosAX3C4BnB0FCJsqrr1PUmfIL5QDge2BvFdsDsvWJiizLU3PpW75Uie92NTMEpVg2ENbbuO6kysqG/qXsD6RUGVpyEVYryPXF7NBju8tbY6Lcee1Y9pkCGhRjRj2KiN3peYsdbEO3HqPSlD3KMGluFaYKecGAW4XrK7GVToKrnSgAkRtBa1VzvmuctH8tEZ/woVsp1tMUMiQF/Pz72TGrlHNP9xTr7y8Gq5XNNoJQJGXLdso8Bk1few1Xb3zOtUFdUqGMBnvHHGZARjVcum7xECfhGBAXr7ga0l8oMBbUolEFCvkiqMd51aahoWilQLxF7TgFA89WOYME2EuKKgJhfKEET316c3xmNPton1SgAfBeUjT+Csb8cwBs/8CIHgOSghRYIwSq1jAGiXutuNYQ5ARAzxMu9YuT+OmfvHk2Rm8WRZ5GV3MdV66tEhA3Vy9uG00UbrVJtTD04k+rCiCQmkOJ1ha9MSEUb/+JuQCIQFhH30r9wJIAAHlgb/QUADBHvw/gZo2PIJhRw5FQAAAABJRU5ErkJggg==\"/></td>\n",
       "      <td>chest_cancer</td>\n",
       "    </tr>\n",
       "    <tr>\n",
       "      <th>44</th>\n",
       "      <td>/kaggle/input/chest-ctscan-images/Data/test/adenocarcinoma/000131 (2).png</td>\n",
       "      <td><img src=\"data:image/png;base64,iVBORw0KGgoAAAANSUhEUgAAABwAAAAcCAAAAABXZoBIAAACNklEQVR4nG2SPWhTYRSG33O+7/7l5iZNTNqYwR9cCo4OQofi5ubu4CCCKAguWsFBB10cpIMg3RxcnNwcCgoOHVykgzhpqWK1scm1yW1vmvv3HYekWqzvdM55D+cdzgMAAAGEsXi/AMCgsSUahzTeYwMo19sx2Z+WBLR/ROdMBeAao2a44/bHQwAkaAwWfxnnns5E7hakK7fa3wUgVQCgRzusU0L72n0xVl54o6dRMcnkhVaXdWEsUY1iC5SxlS3GAANg4/SVFM3jgT3Xx9GG8cVgYZJp6rlW2n4Sprc3pmGvHwlVbkmjRwwA5ED8J2SSZko22tWGkClCggaAbRDUpRPL5xwvTrSyFUSnrFIGauQlpvo+0KcrKvEoZVFTnPeaFhilvsQWmw8NaW1SsWd5hdl1FJZGMTOGUkKKyoxWnce5ycTY2TuoAgNoBjAk24p/Uv7D7zhiyCSfdFkgsBkASaNGe90dp7w88HdNuFQaWgwfOQMQ3Ihyx/28xptqu3bn+WA2g0IMYaAFoN+ffvEtNnNGmcq8t+Lt1gEkDHQAWP7FKFDuWXd2rbniyXB0k0Dg8Ts34l4brTN7Tv9VO/GuewJpyr75DN750NJZ94tXTmujbQfUnbysEuHysUow/bU+/zoMsFXIgwlgAKKS+7Ieh5v++mrPz4rc6/ruX8CweuWjXD0VGyhK2g9D6OgghX77zclqMOVXa9XgwtvyQTQBlMlwZnSmQIqjf0wgsHLkLIoGh/H+j34D/mfpNSj5dbkAAAAASUVORK5CYII=\"/></td>\n",
       "      <td>chest_cancer</td>\n",
       "    </tr>\n",
       "    <tr>\n",
       "      <th>45</th>\n",
       "      <td>/kaggle/input/chest-ctscan-images/Data/test/adenocarcinoma/000132 (2).png</td>\n",
       "      <td><img src=\"data:image/png;base64,iVBORw0KGgoAAAANSUhEUgAAABwAAAAcCAAAAABXZoBIAAACJElEQVR4nI3SO2sVURAH8P/M2bOv3PXe5GJCHvhARVJYWShWtoI2ihYRYhXEz2CniJgPES1EfERrtTNgoyBaiFgYCyUYgnncm7t39+yeGYuQh1ZON/yYKWb+IOwWIdrbYNdiYgk72tgEWHYcpAAGqCTvKRIuNfFxZxuBdl1Yx6ZyxoMUiMuo2N5o4yTE2IwB0KBsEARCc3vS+NBdVaVHwJQQnnrYigUgkEZUZBddi6GbTfG511dr0lqPCxAQGSdnR9qCzMXNn0K6Gs5TDwAYqeb19DgpOhuN3v5nj1GjyguAUnBGUdgwYvTdQmnSWYrnrQ2nQktpAO5qV65ErURXqlHI6X3OHEdKfVYhYlSQPnyZl9XcMg93m3KLqDllYPoRI4CwIn0JBEtg35VsUJUJYguGJYDjQ009cWbtG8LEBgMg7RMpGFDwOceV+b7we0TZoaiMkFgVMDqAvK4Xi0rH1o/QZNuV7ljpyaEAAxbQ4JIMsplZefLpcCLwDSUWgIGUbDU5T0Wx1PM1v7exX9QfIgowsIEH8gXnTXT3VHqPsuqaR+8toQQCAMqdoaHV6wfyN0Hv5OebH4dXA5atrwAY+zU9us4S+JpY6kSKOdKtwwNYip4vW2GvARvY4dKmod1BXAgf1s4VdZ131X8N70u72hPK7HYSp/H4wYnxjJN44s5u+gAg8UdvvPhQK7Uut2aR/41IVYWVIAbcwz8IDJAoCNTDf9UfYdH3mSMGQeQAAAAASUVORK5CYII=\"/></td>\n",
       "      <td>chest_cancer</td>\n",
       "    </tr>\n",
       "    <tr>\n",
       "      <th>46</th>\n",
       "      <td>/kaggle/input/chest-ctscan-images/Data/test/adenocarcinoma/000132 (7).png</td>\n",
       "      <td><img src=\"data:image/png;base64,iVBORw0KGgoAAAANSUhEUgAAABwAAAAcCAAAAABXZoBIAAACVklEQVR4nI2SPWgUURSFz71v3s7s7F/cdVcRokgwG4mCaEQEBcUunaDgDySKjYIgSWFhZSUWFiJICrEICZjCUsEijYhiEZBEFIwE1CJEJZvsziS7OzPvXYtNAuk85f3u4cI9hwAAJGALL59A9LIfACAhAaEj0tqcOkCeQ7NvuvzFjSFIAECPhGBLEBVpO5Fb7Jg7O/4wdg7MObldC/Wz0Sua9H9vOVN0XQ+MJoavKWrT6+v11oukAXRu8k1bvesdnL+RdbRRSxNylcZiAAwgP4LiAwffK7lM2nF08Yg+bXyAQAAql/KuEL/vL3NiRK2M+8EVfrbWcV6I9wnInDQNWJIEg2f6S9IsAgxVlEJAJCnleKuRhfIrXYenlReCGaamU5aFIrjNyMK0tJulZb5VgGVAeVRLmMSaggRRSxnU0ZdqrTAYEGs9K7FjZp6oTGMuJW1I0ZW0AoPQol4NNvpTYt1Ss2nWXRarAwbDJdX+moCR5Ie7Td2xgnW1QBYuGK4JfetAnKnScewllV6TbPZylCAAo07Po0YttqteNkBz6ldS3l0I5ymEgIEUN1R14ePM+aNYKcrfz00OP3Q1J5HvPP5ebJKaWRqaR6k9JXtKs4M6eCqdVIhu51mZWIPIFsepMPQtHBPZqEmqfDF9biZU1rJux5l2YPMPZTPP6k9zBybZQc0oa1INTt59sfEmRP/+aXQf6zVvK4fsn5dxqxyO3seW/NzjPt/3076fTqd7HlXdjfZtUGFre04g/DEHIl7bBpGzFmQELE6iQ2yHQMaKqJjJCfE/+gdpMQW7c5aCjAAAAABJRU5ErkJggg==\"/></td>\n",
       "      <td>chest_cancer</td>\n",
       "    </tr>\n",
       "    <tr>\n",
       "      <th>47</th>\n",
       "      <td>/kaggle/input/chest-ctscan-images/Data/test/adenocarcinoma/000132 (8).png</td>\n",
       "      <td><img src=\"data:image/png;base64,iVBORw0KGgoAAAANSUhEUgAAABwAAAAcCAAAAABXZoBIAAACWUlEQVR4nF2Su2tUURDGv5lz7t5792YfWRVNTEAwKIoabCwsfRUqoghqIwaxEBTsxPwVWgiiURMliYWIYKmlAYkWSkTUiA8Q8s7mmn1kd+85ZyzWmOgUwwwf3xTf/EAACM0OAF4Kf4uWB98l2sDbdWAx/DYyR4CsiJmSPk9sHRQbgrrXWO3MnwIQ2eyJ/kBhQdRdA4BISEiyp4XW+XMpFWOY1bkqJ4+qAAHsoHsIG/uKRGcC+31sITy7xI+Lf87y5TrREJvahYzkZu0DZI/X9f0EDACFGjgIUlzo1Npr9QyVsiyHQAzAOwn2+xMXXtEm62x263o/9NGuhQH4lho7vDW6ZrFBGyV2nn9FJAYMwjFy0Rcy9mgNE1KpJ3OUMolTOTCICnAmakEUFyt5XttqEx1vCYgsmFyrEpUxs2rbTy9NRtTbBlSfSdsqWFBcTEdclPLr+WEA9ON9V6c+yB45MFL6qa8TRPXQ2/t8RMp0CePS0RACNBoqLmXMdpvZuWkgxZuTd3smOqa/Bo4AjaAGY1szUnkT738VNbr0ZGHaBumyI2HUAPJKoyzB50/cn03lX04lzLFAoAHAj/PO00oWk1EeH1LdxZkKLUXN+HBTLHpRNG0hvEDLh4mHnObrJBoAuIzcR/YxuZudeJqTZ8HiHXbNl7VUj3QW2m7HONw9FnovsI/KAw0nTTEtUrvqGgFZNtrpUq4yWOalZYZu9dY4vFgUpeAs0k+mVTS9Algo1yYGmQwTQNwT3Kj/w21Ikuj2Fj0zRZ5Q9V+ogUjYCcDg0v/EN9EWlFetvwEiA/369QRBLQAAAABJRU5ErkJggg==\"/></td>\n",
       "      <td>chest_cancer</td>\n",
       "    </tr>\n",
       "    <tr>\n",
       "      <th>48</th>\n",
       "      <td>/kaggle/input/chest-ctscan-images/Data/test/adenocarcinoma/000132.png</td>\n",
       "      <td><img src=\"data:image/png;base64,iVBORw0KGgoAAAANSUhEUgAAABwAAAAcCAAAAABXZoBIAAACT0lEQVR4nI2SP2hTURSHf+fc9/KSJnkvaTRpG7Wt0qUgtqgt+G8RFRxEqpNDrSiOOjgJuhR0EAviIoJjqQq6aRdF6iC4KIQKtQXForRSG2uTNMlL3r3HIWmpm2e757u/w7ncDwDAAAgbxaDGmQHANJoONZDKSKPRCCg1tKegaolcbrDl/XSwPqJx+bohAB0m36p/CRmemN+A6UtBSJNk8v2rtToWAzC9ewsAFgBbrIDEu+eHA/bpbo6VHvyUby40IsLSMaFMeeTqteBmGxPxtvVXGFI6c2dVcDEbbj+TGEsHglPNsSEiY/uBbYV32o6frtpEoGozmTQi9IAD4wmXtFs5Ma4stDSTBZDtGuWIrSqqwPyS67ZVb8KacNAb7VJ92VrI2CHLrm39DeP4YAY0b3GK5enZ13CYIt/CHFJOmuMgYcAm8ZYC0WffLAiqj/2QXfd0sAIIAykTmDa3q8fqzfnlYmc8krBOiq0h4AhWmXd8ccozy5PD3Svt54aPLMpkPg4AXLEN88Jh/2d0wvdLiiq0vY/Atxr/Wa/bBT2VtCume+mH+8gSDB0voYQQwADlqoXw00R44Gj/BXf2iTbfX+kQRAMEtBZvIImp6rFyJDPn3b/iR9bWbkM5ZRCAGO0/KKdnlk0Q1uzv/rBmPfzt1UpNE9pL5nySKQmjNXM5NmokNb+uSXR89Gugeg51Us2RueclZPdmxzZkdGP7Xgx4btz14jG39fKzVHSTfYixaEkd2GUtff5oCFTcDIE4idQtAYia6B/RXRgBWOEP/qf+AmSs6436cUl0AAAAAElFTkSuQmCC\"/></td>\n",
       "      <td>chest_cancer</td>\n",
       "    </tr>\n",
       "    <tr>\n",
       "      <th>49</th>\n",
       "      <td>/kaggle/input/chest-ctscan-images/Data/test/adenocarcinoma/000133 (2).png</td>\n",
       "      <td><img src=\"data:image/png;base64,iVBORw0KGgoAAAANSUhEUgAAABwAAAAcCAAAAABXZoBIAAACTUlEQVR4nI2Su2sUYRTFz73fzM7szuzsy2QTXRQVBKORIIiNWIh/gBBIOkFEIiKihRbWiXVEEAJiYSUWYiF2EVGwiKAoaVSID6KJj7jZR2ayO9/3XYs8FCtPcw+cy2nODwQAAIGAdb9pWNZuFjW4tSKKAAABQLT245QQX+iIMplbdRvKCkCAAAQSVM8tA+wWW1q0UDhh2G62B2NkSVXtkk+ZRmVRVG6yuREGZ0nnTX7SSbr2PN7tT4R45kVMAgYiayKTTOxmNXQ5X9p5f6sHffBSPwAGRqmUdAbcmq0cdxX1DN/Mk8PJGSEwPI+7kKvVD3sXnDhjnWyzIo6VVlnAgCaV9qrW8GHfy2oWKVyhjkcAwNiibFMZ5yQiRS4JiIISpbADJTDqBg4dCAuCggggZGiXI+x06mDEN7QUniui5dSARF6vxh+FRF4BTGw8o4fqP+zT1qzVRj/ri8psWQUMlpzpOHs+84NHC/4baJ4abKXLGia1FgyL6/rTclCfS4J24ri5WYOYs6xigJFQyBYoAp4b6fcmq10uh5gSgCkXtbP1GO3edOFEznuiMkrE1Cm2AIs0aNwWGYuDgUe8NNTmkRSYJACMxCVQayzwv5sdsYleKhSrDWsMAIaklh9L10M38+Xbymj/9pHmvO1R63uGtvL1IhX8bX0ztXlXlqhL029XNkgI8w3/tFUIVjnbRNe/u5j79QfCQ0fv/ZTasXJvJ56bblBp/BT+UhhUbt/ZVyoUK0ceXvOjf/CNjIgoyxpMqvVPCORFoB1R0sb/6TesIwCP6D1TWgAAAABJRU5ErkJggg==\"/></td>\n",
       "      <td>chest_cancer</td>\n",
       "    </tr>\n",
       "    <tr>\n",
       "      <th>50</th>\n",
       "      <td>/kaggle/input/chest-ctscan-images/Data/test/adenocarcinoma/000133 (4).png</td>\n",
       "      <td><img src=\"data:image/png;base64,iVBORw0KGgoAAAANSUhEUgAAABwAAAAcCAAAAABXZoBIAAACUklEQVR4nG3Sv2sUURAH8O/Me2/3dvdyl9yFhCT4I0YFUfEHFtpYWRgrRQshTTSoWIi2NuIfoCjxB2IT0lgoCFG0sQiCxM7CIoWCBEUDiV6Sy+792rdvLBISjX6rgZlhivkAAEBYz5/1arwOk/fbVdEngEArIxoAUND79mRE5i41o3ysW3pZSABiB0TekGmChEA6c1lh4hv5ldULPo2AhIXYkteCI5NGo7lFgAGylwSiWOVduNPzy+CUl4cbK5tFOwzlsP0OctXMnX86CAYITypgoJaJzuTU7c60yW44PPm8TDDsmgCjmLG2xGezWBtzLlBbzoy3kXWc02Bq+VehxTOKJHcx6CZb6D8qmbhWCJa6W3KiI7G260hakkIjkknNzIkDQ3vUJh3TxtQXp+aXlTPSfG/gnLLgkDKmg40pY4ytB23wYRcTxaC0Ca1qRati38v0jp4fiXK28tLu4mLSggSakKA5H0eNgc1R+o4GHhaPTwxk2gpQ5xbqOqlHJ7KPb7d+uNHJF0oT5b6OqqlDgxs5vCLiEfTiRTRblrnQtT4tBc0xAIwyvkhSu3f4F2aGFn6+/vwV45FbAmBXn3o5M+FMvD/f4Dc9cbndKfcoJQEDgH38TKo3H5g4Tq8t9HaBxKSQVTFacnKlVsJC4Jljk7MkY8kap765Qsti06Aom4sq4o8GCeyatUB2L3xnyvyefjVdqYddyWKybu96IdxWinzf9z2vsDcID/0lM3/6VnsUhlEYhWH3/QMbCEcsKRfzabWmWJINTaDgHCDsVPwv+f/lNyWt9VABAPMlAAAAAElFTkSuQmCC\"/></td>\n",
       "      <td>chest_cancer</td>\n",
       "    </tr>\n",
       "    <tr>\n",
       "      <th>51</th>\n",
       "      <td>/kaggle/input/chest-ctscan-images/Data/test/adenocarcinoma/000134 (2).png</td>\n",
       "      <td><img src=\"data:image/png;base64,iVBORw0KGgoAAAANSUhEUgAAABwAAAAcCAAAAABXZoBIAAACSklEQVR4nI2SS0hUcRjFz/f9/3fGeV7nYaA9JLSEghYVbVtEq2oVRkokLcTAhRG0aRmtEloEEUEoLVIChQJp0UIiEGqTm6hF2dPIHNGZ8TqPO/d+X4uZDFr12/7OWRw4AEAAIl1OIolclkBoQbAAKdBRKI4JNDeuHHc2mlJbufxIlVmFVI2QPlz70yVAzZhaJ8hXqp3rEU8Cbrtf9QBSAkt62Ahs4rYNU1dpreMzqx3PrwIgUnsFkVCj98K+9zRsban3G0iDRwWAFW2gdJ4eNLAoI3k3tvODVQ3sKAMW8BCllXztup06S8osuz0JLG1l1pUBGK1EgqMsg44BCYLJuAOSSykwAKDszJ0UFR9GoI5a5Sy03JR1TgNgIxQAXGs/LFonBRiAgMMzyqFwGBrlJ6vzjnrMAAMUcsoXC2M2xCjqn/bOpEBAO5igTxFFkRQ6O1kpFe52/gjIivImWDm9pKgsKelid81NPG5nJgSh3IqDIRWK1eitkPfi4/4GkiW/noJrQZtgIKGTWz69Wpmg2GXfa/TojnOAJgEwUMZ3jRRfT4esX7JTwbJUqKuBG02pIPXPa/UYubzlOOERJ/qzkUNrZ0bLJmNzb+hEY+CC9L4boHJwE81mdwkT4o/Svkz2tOk7UO2vFn1T1da5YuReFBkqzLv1IHa8/nLTzi5X0JJIBHxqj4kGuULSA8vMr3j867Zsmx4KobsOdbil5YUa49rzBfwlnnQGn/V3uOnswTtzPfHU9nObpEITsBKEmcr4RwIxAoVsgTL+i9/FUgWgiRWuRAAAAABJRU5ErkJggg==\"/></td>\n",
       "      <td>chest_cancer</td>\n",
       "    </tr>\n",
       "    <tr>\n",
       "      <th>52</th>\n",
       "      <td>/kaggle/input/chest-ctscan-images/Data/test/adenocarcinoma/000134 (9).png</td>\n",
       "      <td><img src=\"data:image/png;base64,iVBORw0KGgoAAAANSUhEUgAAABwAAAAcCAAAAABXZoBIAAACZUlEQVR4nF2SO2tUURSF197nvu+dmdyZJBPzwBijEK2ttDSNhRAQfBUiCApCJFUsfDQiKGnEYGMUSadoYedvEBSbgBqFCGpi5j2ZZOY+zjkWk0Tiahbsb3frA0AgEKEbMrvN6ILtOGydHQPNTJvk7Hxut++eS1gJxVpLjhahdiF5/qUmmTlpZ4aWFJWA51KBNAEIWtMRuE/6P46GKxx+LK4L7b6ogwgIa9ekoViM33Ku1F+SwnVdsTq5OYCBxqwW2vac28YWjGNRrzUvDGV1sgAzvKomwH46SFfHRg5mqolKABWfB1ihpQ1oGYUlPvApNzQR2M4C4EPbYMI0AS4W6+GACKPgcJyX2K/bQrhgDRZhNspIWSt9oz/CTsqO10SuV06BUehA2OG4Q0bSNN/+tJwTW4kqCCkKYFSsbKrE19hUU/13l9pSLJs9sVbaFWQAXmxr1aZcgz7PmgNfmm1/PeU4SRPNwFxbnqG8pc13759V8SGbBk6oRu34MRhIkbxGiVv9nU17YvVXoFcipdaYAYOCDTgEPyPLQlwoV2rtxJvUsaEAsN6gQkknziTFOrKsrJWYaiTxVe1Jd/H7usGmedy1rEyzJ5+aQzRB9VxXB61iiSgzjOKNVk1ezBVPnV4uyYfUHZvVnbLpp/pIbX18eZ+9Fjcof4+0BgEY+o2Th6xMrLnek0aiR9ayD6SQ25p4yq3NdPpStlfzsckV61FhQ2ztCBakcvBySZIgSNhvypKy69hN/8KoawWuaXt24DnFV/4eNQOkwzez5cTLfZ+v8uZeb4FAGlIDJFg38T8EMpCkufXv8BfQrQNgsceRjQAAAABJRU5ErkJggg==\"/></td>\n",
       "      <td>chest_cancer</td>\n",
       "    </tr>\n",
       "    <tr>\n",
       "      <th>53</th>\n",
       "      <td>/kaggle/input/chest-ctscan-images/Data/test/adenocarcinoma/000134.png</td>\n",
       "      <td><img src=\"data:image/png;base64,iVBORw0KGgoAAAANSUhEUgAAABwAAAAcCAAAAABXZoBIAAACSElEQVR4nG2Sz0tUcRTFz7nvOW/mzZsfTuSUaaJYtBATFxG0iApqEVHUNoKCWhRYQQRCEi0iSGlTEAUVRH9BCK2C2hhBtWhRBoG0sBwyHZ2ZNzPvx/e2GCutzu6cc1f3fIB/RRD8T/6rbUlWLAmgHfBAIMfVR8TZok9NtJU65MWUj3wZAJUAkLkQKy1TxFxHsEgY3q4CVBBA4pKxIkvXf7d3v0w51UBivH4OKmwAbiwgsxOIHuZK6eufYkbD7xYVFADnAYMt9+xN0emR0cyV7cZQAgAUQJqSQPFaGJojHW5nInNxA4TbCBgBPSEYGvZUBnOR2REkY1d4XEEI1DF2wEeRI0HK1JqbzdD9gCwRShv4YauVqyfD/jOWsWppvkokqxacBlQAhu1eb9oU96PaNLmqq0nXadcsAAENmUSz/vXGXGTlo7u9Th554QIAgZLgNyOZq7O+6JzzwdYUVCMAkkRSNN/lFLg0Tadijxz1o/rB1sulIXWlO6P15q113cFyV7Bx9It5VsuCzAuMErNgo1F/w3RI0eCMrY1xWCwLAHvZ9nc6bc6pmZnUZUesAyk/XkBkIABuNkPv8NbiydRgXxhNMHo/6/ug3Ro7XTwRu/bQRwP47oPcMV1MjKGz7IMA+koysC8uhG0NjyY//DSYf6y0KiuYTJ6bN3v21uIEGIKZ8Yr21z7/xs079KTgeZm053ppN+MOTPatpjBD0z2WezvtF3b1TN2psrYG0ZwBYohRoVpcWssvkDVEYEPUWvob7lYvaqzyH/8Tb/Hmtp4ldoEAAAAASUVORK5CYII=\"/></td>\n",
       "      <td>chest_cancer</td>\n",
       "    </tr>\n",
       "    <tr>\n",
       "      <th>54</th>\n",
       "      <td>/kaggle/input/chest-ctscan-images/Data/test/adenocarcinoma/000135 (5).png</td>\n",
       "      <td><img src=\"data:image/png;base64,iVBORw0KGgoAAAANSUhEUgAAABwAAAAcCAAAAABXZoBIAAACXElEQVR4nG2SyWsUQRTGv1e99/RMT2ZzkhjIpuagJh4kggGRIOJB0IgSUE/qJXgTEtSjKAgBFQ9CwL9AUBTEWw6KEMFLJIpCcAnRJDpLZuxOz1Jd5WEyMS4PXh3q9+p78NUHAACocSiOTgCIGo0mtAAi5/fN5iKoqgWmd51IZTSwhlhzVFUnciSYTOWr6gNO3JPNZch83zJCKQSOwsgrWneiJQEADAAyteiITFt89tvSwqST8s7ZKgMBKgDkY6fgutcdr9e1Tt5UznvLJCAbL02jYqD/BuOnTctou2DcV8ZcaspaIgi7Lvft9WJGjIx6YLeHRbkOU1S5aNxd+8y0SFIEVS0qtrErDhHASOXBmEyIpOjnZcEF1xy61FKoyziISbt+lpTWMJCf/OiaX2Uxl1uCjbtFmAxlVYHeo4n95QHSHJdWFuO5IZGXQMBcrSIT+q3snpf+IWZyJf/YyJmBIwkAK9lS5yz99YPeNr1YZV7Zt+J4bShSAxh8O0Q4qvuDHe8fzZQi3QfMiN5d5z9DgIGvwjBWHO3jw3TaIxYpD0TN7VVmNBzKQvbNhZal6OZRW/lRfd5pPzGcdROWQzEnhvWiqQc18fbZkvlmaKd+u5Zs2DdVwIDmpOOZbGt7XijM3vdutSZyDbi1vTzjHI4l+LHUwsFspuXMK0og3fxsMxxDbVcm88IPe0qlwWlB96iykYSOghwvSFvVuR6uGMlrWsviRiaBIzum1KrW26fPznMou49PYBOEDftq/OmXsHPYmZxnPv6AiNW0UJIkkmAe/oJAFBySQS3/N9j/1C9E290ltP12pgAAAABJRU5ErkJggg==\"/></td>\n",
       "      <td>chest_cancer</td>\n",
       "    </tr>\n",
       "    <tr>\n",
       "      <th>55</th>\n",
       "      <td>/kaggle/input/chest-ctscan-images/Data/test/adenocarcinoma/000136 (2).png</td>\n",
       "      <td><img src=\"data:image/png;base64,iVBORw0KGgoAAAANSUhEUgAAABwAAAAcCAAAAABXZoBIAAACNklEQVR4nF2SO2hUYRCFz8z/39fuzWbvZmMgWmgbxcJCRFG0EEUQBE2QKAERTGVnKzaSTgQRgilEC2tFbEQRH6AsaiQWVhYJBDRZkyXJuo/7mLHYJGZzqhlmznBgPqAjAgCijZLQJSo7TgEgbC5stQGwEQgebfehCIzegOPbAnuBW9w0kQLANfEp5nKVUmvudwVRvqphEKRaHZRkmbIHYUOVdP38md3hnsrLZCQ1QPSH5bFpgNQCADk7mW5RdsgMCmWtUiNuu6QK7jg9b79Vb2+UcCo5L+dc8hjoDE2cmtvB2fN1n2LjWjzyoswCsAAQnesx+WHOksS4LZtKKZpvhomAAUbVmqenWeA145YDNPWOVQQAA4KSq20mFvFWINJqO2FQWFOAASabP3CUhC1zvEZEdKRfLlODwCi4/lj2rVdJKH1eelWpk0vtQBQWjHrazDhdgMnkyXzzWJBnKdqGAiEYktK0Hv6qbZqh0ajupS3fWeUCUCMGyHmHaWcRq9+5bCs/bWDnTupdEJQBjWklyVc+vifxTev3bLb04QpS7qTNA5PZRZ/98nBvYch+eTGTe+aygGCBv6TkLh2fDocaw7M/Wlqrn6pNKYt2/umVfo2H7om3iaGDs28GymuTQtHy+rNHPi+m4zklTg1nnLTv7ao6fXMbbPVNTCxo/5iJs8zJf3ptZcf4zf985XIDU9eLYZjvCXv2Pbzg+11UIswgVkhARqXZjSyAEELCyqhv57mjQsr1Le0/J6LeUD2jt0sAAAAASUVORK5CYII=\"/></td>\n",
       "      <td>chest_cancer</td>\n",
       "    </tr>\n",
       "    <tr>\n",
       "      <th>56</th>\n",
       "      <td>/kaggle/input/chest-ctscan-images/Data/test/adenocarcinoma/000136 (8).png</td>\n",
       "      <td><img src=\"data:image/png;base64,iVBORw0KGgoAAAANSUhEUgAAABwAAAAcCAAAAABXZoBIAAACL0lEQVR4nHXSv2tTURwF8HO+97732iTtS6z0By0WLRTqoiBuRTepSu2gUBxKRdRN0M3VP0DoJCoOooODSjdHuzsUB1EUpIOVYlOapEmT9OXe+3VIlXbwrOf7nc4HAACCBAEQACD4X6TA/YfuuQIYql/nh/Xe2q1o9WOxgr999/5m1h+H7ShKdry+SvZABQgqUGjcbaSqzclOo5Z0GuFlbwugEgAZsFiqv3OFS/7719J0qZI+ywBQIOgJ5xaO6nLHXw78EpWXTVrPLAAVBuQXTxCbjlEGuZKp+2R5w1kAoijOiBDvNbJTE+NRnLOfM/WLACHAnBVEk5HOJq6KCdch3oIynyoEgqJ3eOBMxT3xLT9/27d2e5gfmEutYOqIFDyBsNJxS1udY0/7YgtxTNQLpv2eDLZH1CYjYRK2naQukmIkyRkR+GocMz0fHfebvDi08Trs+NQJTX2Fwues8ILhQDlPneiJq8FFM8novQYBiaHWrQZ7dax0evbnVjLr7IKY4lJb4Qj0X+uX8R8s1bK+jVPNshvbsKSvvKAK2GBN1obDlvpafm2doWxnfKj2Qrt73gntJJ9rwxtV9TK43XbR4/29lfcz6J4xKqYlzgQmb37DeBAYrTEQ9GCgJh1msdpMQqsrIRYGQEKgSiCoUKOmuc/kZCtkTj2DVwAqqtDmP3EWhgRoICCEJj7ocfhhLBSQFEr8aPCwvlxAlj+bx69vnSi0cLgEctRAEODuf8EfzB+Sx/E+Xwp/CQAAAABJRU5ErkJggg==\"/></td>\n",
       "      <td>chest_cancer</td>\n",
       "    </tr>\n",
       "    <tr>\n",
       "      <th>57</th>\n",
       "      <td>/kaggle/input/chest-ctscan-images/Data/test/adenocarcinoma/000137 (2).png</td>\n",
       "      <td><img src=\"data:image/png;base64,iVBORw0KGgoAAAANSUhEUgAAABwAAAAcCAAAAABXZoBIAAACNUlEQVR4nF2SO2tUURSF197nzL0zdx7JHTNoZAwhaiMEREhhYWVliARR0MIHqIVi7S+wF0EsUgiJpLHSSrBQURRSKRosBCEIiho1wZnJzL1zztnbIuTl6tb+ilXsDwAIIKyHAWy1zaSxMZv8PxoTkYUlAsDEO1gCDI0DKXESl8oG28fS1cuupM4kbeM1ecBS+LvOSQFcMkkh8d1eXehHtfswTzoAQCwY4rN9Tj++kilLRrXSxmzkFIAV0hXJbDqD8kg1iUjCcpJdmyMfAIZCAD8X1/YfLUdgMc3HmvUMA7BEgithwJwpQIxxUECuzyAoAFYgloH5czYAgtA3JHp8wORUBBgCTiYmRFjJ9L3xvj1FegHOAwyii3ZhPCIiIWaFFHV6UgAhMLTa518aCCHSbu65GMXRzTogKThGp0yLJOK4a5cqaxJClB7UGuCJbaFOzqkzhrvzIxKRVxQmKQc6yky/21EIRbH+6YlSAhOtlHWRc6AC9g51P9buo/epMVybQSc0aHWvAvDg3NLt7pG3LuRfWsWh5lIVCC++tsDowYoAldaxz73lsebgt8NvRgf7r2+8nwWgYFRAd7Jys71rn46P2j3PHz0bXvpOG88uhfTn1fhQ6YPEmcC1pt6t3Q+VfrZuwmAP5dNR7KyzwgUXCnctTGfDs1PZSw27pyshFxP9mTdonLy3pWgSGjcXnqgA0OL5A7c63R3+lkDeBlIlkPUZdspdFWWvTCDqbNx2uF0LWNve/wFvKPP5u3kmVAAAAABJRU5ErkJggg==\"/></td>\n",
       "      <td>chest_cancer</td>\n",
       "    </tr>\n",
       "    <tr>\n",
       "      <th>58</th>\n",
       "      <td>/kaggle/input/chest-ctscan-images/Data/test/adenocarcinoma/000137 (4).png</td>\n",
       "      <td><img src=\"data:image/png;base64,iVBORw0KGgoAAAANSUhEUgAAABwAAAAcCAAAAABXZoBIAAACIklEQVR4nG2SOWtVYRCG35nv7Pckd/EmRFFBSRElSMQFDYJFKrGxMTYmNpYW/gr/hTYhjQuYQizE0g2rgNgYDEhCUCPmbufec873zViYVZxqZh7e6n0AAISd2dsOXJW45SIkVGQlANJ9MPEGJnGZlgCAtCj2JUPr5gBSep5Vtyb1M0zU2obUHHTmwCTK/ssZhRJedWy+nazmswRSUNolETWWsTiUleQBqI1eguoQuej4htWirUSIWlGpDCC7qAC1jEsqJ02qvh94emPeAB4QTLPU8rwy9HZrJjVZ0K11FSxlpcdAcFSbELWPO8V8L1xeWvUlGAbNEhhRDxAebri88O+UWKPVFIHfUC3BGCgjA5AqRsxDL+aw0YDkYAsGA2zppqBuvxf3eKq0Kwj7BUPBEIgKnnn133FxulmEIEuTqZWOgAEsKshJ13QPX6muvZHxaf1UEi0BDIau65Ybb57kibl++1djsGwdUUUBQnMTmDqjF76W19sfJ+zT6P4Lwg9e2Gkl0KtH/HqpEqg9/y4eWe/gSf8vJA0Fwa0g8MQ54zntinz4ojuVqQeYa8NG1Xg27FG80BeQbsNQhUjp8ikWzl7/VEt2zwQij0TBagSACtU2AYABIAxGYgsmYUtQEFXLZBfmZ10+FgsRWKB6yM+SbBfiff8BO4+T+ljTZ7997vbGAW8j407cHXwbjB5beWQ5+1fxBHCsRKy9//mfCki4t/f4A206/kMpvLWfAAAAAElFTkSuQmCC\"/></td>\n",
       "      <td>chest_cancer</td>\n",
       "    </tr>\n",
       "    <tr>\n",
       "      <th>59</th>\n",
       "      <td>/kaggle/input/chest-ctscan-images/Data/test/adenocarcinoma/000137 (8).png</td>\n",
       "      <td><img src=\"data:image/png;base64,iVBORw0KGgoAAAANSUhEUgAAABwAAAAcCAAAAABXZoBIAAACRklEQVR4nI2SMWgUURCG/3nv7b7du9vz7nIXFBIhihdESS+mUlsLLRRMIxotkoCCoCBYCFEb4bqgRAzYqGAhIgha2AgiWAkaD8RESMwpScwm7mb3dt97FpuE08q/mIH5GKaYD+iIlTVGIADYqAAZdqRPmgfRBXM3DQEym5AMwEd4V9DXrGpaEJNBNt3c9M7mMbF/YCD/XuZWzKNWJ6wM8ebHRRGO3GdOdLVFjex4dvE8K77lPBx1L0nOxsvmTAesRbUpnrKxQtm7jFy+UfG6t6B1Mv8hMrGo7kgscSJKLNinChkkXIHz2tYkEhTVLFyV3imwIQkIwHStUo8zbF7OlNP5Ikw7H4RRImUMAnDRVKorisfS+NiZXN/b98Ian/MrNxIBMqpoxcR1Tq6zmr/otJrd/m+7tugkDAYlagc6jgR/7Kj1r/1KhuWSXkcAAVRZvQnmPl2ot54fDU5P001pvljFHEFALJnZtr28fcb8tGSV5r49tC2n7aaRAgM3vpZ2fcoth1Y9yK88k1zdtnU7IDBITDC158cx8nel/aXue4Eqmd5BEzcqIIBhzIZXbM6L3R4OvplS7nFvDb8mYQhgGre+W+UeLKdx4BZw+F0rDl99AtMbz2ajopRIpYj99ha61ngDxFRmglCcRrjixFJNbUfVrpExZDLoaAJgGKAJpAkAIdoUrDdONdNKA+ApCQ2WhFtOPrE4AAbiYARB3Oo01jtwThDnBBC32eAw/vIWnkrVvkPR0udpS9DqPxDYZrTW4Jx8/E/+AFVW57yCDMtdAAAAAElFTkSuQmCC\"/></td>\n",
       "      <td>chest_cancer</td>\n",
       "    </tr>\n",
       "    <tr>\n",
       "      <th>60</th>\n",
       "      <td>/kaggle/input/chest-ctscan-images/Data/test/adenocarcinoma/000138 (6).png</td>\n",
       "      <td><img src=\"data:image/png;base64,iVBORw0KGgoAAAANSUhEUgAAABwAAAAcCAAAAABXZoBIAAACWUlEQVR4nFWSOWhUURSG/3PufdudLRknGiVqAsHEKgSXRiIiKV0qJUKwcuksLARrq0AsxVgEAkIK0U5stLATRMRKLRQxRFHJNpl572Xee/ceixlcTnf4+PiL/wf+HOmIjdIMAEQAoHuksVFrB5FNxZidEGsCkBABJFAhh03TDPNAkgB+rtsgATRI0J+VOueEgbDIlYgs6kpLABAAU+RXLdWhNm1kHLtNWRazIQADdYxccabKmQ13HfOn1vKaXOqs98zq5KFc1zF8Zya2jwMbxNeLJj3kFGCUZdSy2KHbeJpJyFkR3Wt5Mus8gGEvol5TzTmKsPvAyTzCTjCeM10rAYwQA0RuV4lb5yo8vK885sm8JuwUBKaMC6toSVQerKMyrbe5ltdsvyuF4Ig1K4R2w9oX2TeudZrRAENJ42wKTjqFHHHGsgqOLkVW9Vn72Td9ADxiZC59hzwcOIgPNya+41fc0HGLJYfPDFBHPG/255dTH1+unXhgaaVcwkXLUggDfUpGMFbSbwenyj+y/R0XX1DLfqve0QzcRWvFfTkzenwq/XB5ZtU3AtLAfWQE4GZa9VIe5FWcfi7es8np94xNu9htha8pV0nKedxnC13kHKh1+AviwABkgW2KgnS7LeJFkYvrT16LdE3sbe/eHhmubg0pTgpbCV59beaJ68E928o4OHGqIHhsWY2/6lYG4OetoTjdo7T2NSnndHnrzfn07yzN6Hy1FAaB8cMwMofnTHesPRpB3MTZhivyT49SouQ/CCNkCY4IopDgfwgYEYLVjv7E/QO7evLP+xuvpwZltu/GdAAAAABJRU5ErkJggg==\"/></td>\n",
       "      <td>chest_cancer</td>\n",
       "    </tr>\n",
       "    <tr>\n",
       "      <th>61</th>\n",
       "      <td>/kaggle/input/chest-ctscan-images/Data/test/adenocarcinoma/000138 (9).png</td>\n",
       "      <td><img src=\"data:image/png;base64,iVBORw0KGgoAAAANSUhEUgAAABwAAAAcCAAAAABXZoBIAAACcElEQVR4nI2SOWhUURiFz//f++bN2yaTGWYV40I0giCIjSiIjYUIwaVTCEIUG0UstLCVEFAsAlqJWogLCoKVnYiFWCgGIoILRLKamJlklszy7rvvWsQgdp7ucL7TfQABRACYIIgYBAAAgUBk1gqbYhg6dZkQtAisAwAbQ9kLVTIiFiEsbZr3ADIAgQyA3Kmo4K26rYbnw64v+CNkAEgAgDMUyOvxsPBVrS4SVrqRrQIghgGSZ+xHo7yF0245X1ad2t3ekz4AMACcl3sqUh3ucSUSOm/M1lfeMQCGAaS76WFjEmTrCBGxy9s+bMz1gsAATgebnEi6hSQnBQvBrn3xZpSFAQMeOx9zG2Tc1ZYycaSltFXVPbL2vKzp8VLbs59RSFBxS1rc3mVMxoCBZYs40un+Fc3TC4ITnUVpfFcQwCCrZ5VEMfzsPNCpcvNHs51s2U4fnwUYRsZ56dSb+UOzt/XcrXfLyu/rKXU9F2CIrqnEGt3F517GQWGFc5aS36c7D10wtA610dF2Zyms2rmkrpAkNZGMv3TAzL5lFZUzWXacIeYFe1yFNP6SYwogY9dEjZ1zs6VpkcnzN/XLHttvTbxQDhpgmNFVa1/ai8g6rloDxSDQr6cOVDojJgYLBThfRVToAsV0obM7n7IpSCkmgLWmsVZwLjnDQWv+52T7/aQuDaZrmZgBQnmeLsEr7H0zs3nq6NPSCpFrqvKGjAACfOgdB3MtwY2gE/msw67+9JabfwS7didc9q802kyM0DjZq6LcmVk3EL7Xf/+EH/hO4KZSqcEnA95fNQEEMRQRaW0ZJorb/4xAYAwpYgZTDf+T37az+/7WyqJlAAAAAElFTkSuQmCC\"/></td>\n",
       "      <td>chest_cancer</td>\n",
       "    </tr>\n",
       "    <tr>\n",
       "      <th>62</th>\n",
       "      <td>/kaggle/input/chest-ctscan-images/Data/test/adenocarcinoma/000139 (5).png</td>\n",
       "      <td><img src=\"data:image/png;base64,iVBORw0KGgoAAAANSUhEUgAAABwAAAAcCAAAAABXZoBIAAACU0lEQVR4nFWSS2gTURSG/3PuzGSSGZNJ0qht0WILUnzQiuJKRHDlRrBWRUVciCuF6kIQXHThA7Q+wJUIigtxL250r+BCEUSpqBTBB9JHTJpMJpnMvceFpk3/3Tkf/zmbDyAsx7ORdd3/qyVAAAUZTwGADyLQitJqJwUAnPFTfqdlgQRgKTWVp5yqFE/JPQMvXLonAHH2ZB0g2JmK1X4oS8+UhtK5M7NrBGRCMzC3wI/ys+i8daxMeKxULjlv1j5T7dsfyoX7ugqASAAVmIMlPXJBy5D+0XAvf6k9aTUBYgHlUuEh6NFLbjy+bbjKrUlqH0lbDDDQQ+MnTJBMtCzVi6GdKp98Yz5dMAADse2SW30uREczrDbqhn7ry8JcAcLI1w6rXBSUpZFIYjjfrxGOGWIDYsCKswSJOdPbt8BSWccp/mQVzldIGCpmotJC2sv+saukV++2RE0Tl30BI4QxhO/S5OOL5LbVewXuXyVEARgRA2JtWy98a/7xzQoG0iRpy3CzDgYspffFe3/Z0cgL96JlT0dp+hqoothgIC5GL5x6wK0Z7QRkf7T9Pr9irnsRGMBVLa3XO/MbyPWw9Z1v6sO1pCZ1gAEoEPGA19gSjIV/PlTT/bnEMnD+Qf2gvIjGjiDa3Izc3YM9xXj73G+OOj64+4uFlnHC1ODM4oFfrZlG4QbiDrx2JzpbzQmThkISZqec/M9l/7y7E9B6dJdtz7/6zLxpz1S3nNkke+Xl07axEJyLJ+36SnN9zdJ2NIEoUQ2shMAqDQMoUbUu1bviizS6xr8pL+vx9slykAAAAABJRU5ErkJggg==\"/></td>\n",
       "      <td>chest_cancer</td>\n",
       "    </tr>\n",
       "    <tr>\n",
       "      <th>63</th>\n",
       "      <td>/kaggle/input/chest-ctscan-images/Data/test/adenocarcinoma/000139 (6).png</td>\n",
       "      <td><img src=\"data:image/png;base64,iVBORw0KGgoAAAANSUhEUgAAABwAAAAcCAAAAABXZoBIAAACLElEQVR4nI1Sv2sUYRB9M9/37e7t7W3uzCUxIggaSJVWkHgWYimiELQR/wAbi4hapRFUbCRIwL9ALC3EQBALCxF7fxRBNKhBktu7M3e53P6YsbgkBitfMzO8eTMw8wAwAIAI+6D9gkBA2QB1HuYH23b5mmEDDyAAlocRIDgMZxNAOMJ/RRaKAsFg4lL8pJtPcjH/0/JS0SMlHapDdx0qirFbtwVOjMqi3wZAYAHmnYKLUbTGZbMgwNd7AlKGAI1AQfXO685sf0OrjjVPq2CFBVhmhaX8KEzehO7YZm8ksQU7CGCBoK/C8SJNrV0ZVPI4b1c6Qdoqs0ssjIGoLUz61tZJuKg3idMizQVgVDMlJzU5OhKz8TaZg9M+eDwmgDnZAYqxBT8ZzAhlYeHsx8iYTlsBFhDRITV+euK8phpm6cu7gGRUAxiqWvHE6wffHrB17LQZ5URaa+3e9PFGZkGTVz9x7reXzqoGSpkZkvpL8sucbnmv1pPtZ43l+HgA9asAgwBwcLLa6LVcfNg0wuziauuDNpsAQ8eAUvvzzqpdmePf691lT315gdrwjxvAgkhcGex0Tev5e8/2mwQk2DMQ1wcXuHrGdUKTT9zw5P6eQwBEXXMTU9GaPfUu5+AHj85rubenNKF7SKtftbedOHzX0oNSubevxMpcptPXEjG24NE7mO58Oei/MFqZieIwjCpxdO5pCQd2AoigkqtfFMZCtv8hgYpSASalLfwX/gCHs+QH3YUgAQAAAABJRU5ErkJggg==\"/></td>\n",
       "      <td>chest_cancer</td>\n",
       "    </tr>\n",
       "    <tr>\n",
       "      <th>64</th>\n",
       "      <td>/kaggle/input/chest-ctscan-images/Data/test/adenocarcinoma/000139 (8).png</td>\n",
       "      <td><img src=\"data:image/png;base64,iVBORw0KGgoAAAANSUhEUgAAABwAAAAcCAAAAABXZoBIAAACSElEQVR4nF2SO2tUURSF197n3Oe8Mg9nQqIxQiCagBZWgpVgkTZGRG3sJD/ESrBQULQSUVAUBAn4D+wEm6BEMCQp4iOZTGbmzp1777lnW2SSiKvb62NV+wMAwigEgEYXHwMSoJ4kilKIW9wZVURCAqCZLUVsPJ1Izu5zkoMJCYCiXcohKMc5FTtQhj94uwCILUjd6SkpKaJW1FojRpvwJh8xQsSatTLKO5c6J1MqWdwAQxgo2OsKKMf71V7yZSNTc6KVyBwDGhhcIUspSv6nqR0aqz5VlwMIzq8bMIVoWpJGaffZ59NN+yfqtDWLcnhRgWVQ0e5YpW1zqmXr27W13H/b4aBoLYEBMQXlYPCRui/53daKsqgbbescgOF2KDFJZdrLGvnK8rZSMVaLriMSg5GCklTLNvEuRfFm2c/oh2B/TwwYDkjUPFt2ue+cWPwtTb9aaNWEAIZAQl6leStZacG03f29xiW7JagADEPJkAy+ap4Mz/ROo+5v5mDiJwwG5D3EEVmgXtxV36s7vVvM3KlCgQFYGmDGb43HpwrlmWuVq6nKxT6GPXi2uomyGprMDce3FFme/dZ/AWjDAJD70r0wGzZUtglDVIu7KQPmQBuh5a4TaD0ceJli7qvha5CMHCKh2yYs2iQyjvay9BXYHgoH3++wvdtXplDq+MSPAGr9PLLv7IYRQ4KJENEvy/UuhW0c5eFY4DmT0EzORBAG4X38m+DivWm/UPBc3597MOUdSw4AKOQkOec6c6Ai/AeB0HIOYfDgsPkL7B72vpGXgXsAAAAASUVORK5CYII=\"/></td>\n",
       "      <td>chest_cancer</td>\n",
       "    </tr>\n",
       "    <tr>\n",
       "      <th>65</th>\n",
       "      <td>/kaggle/input/chest-ctscan-images/Data/test/adenocarcinoma/000139 (9).png</td>\n",
       "      <td><img src=\"data:image/png;base64,iVBORw0KGgoAAAANSUhEUgAAABwAAAAcCAAAAABXZoBIAAACQklEQVR4nF2Su2sUURTGv3PunTvP7E42m4iohUQblRgr/QdEO8UYH4WPTsVCxcr/QGwV7YRgxE4kqFgEWwVBLAJaxhAicSPZ98zOzL3XYnYleLrz/eCc79z7AUQoi4A4VAIhAAiMZAAMYLJOQCzgA2AailzysOFWqtHxeSgQjCWAALIAqyy4oIUtqNIteNHvARgt9IWhcxRrFTcpNx3z2iblLiZUjMnnqAYn79tUmZjmFABAwoA7vrlElcHuTbGxVPfOdOI/LbApzRDy8xxx8LjZponf688E01UMDXmpO8820Fv9vXW19kZEyUV07AsADCJ/ngUP9i1/mrRMXDR7sy1FYIDhcKarE9CrSqX5+uRBj7x7TiGuG4CRJcahLPQ/FFh4+Vwes47GWGHz8nXMzYKNVKmUTgYTzBymMVRj5tJtEjQcIfxMa9wttqZXbBeUxzcACUBG6vTbPSncPqerX4IiGhhhDUAM4GfblajZalc+mPpcFIc6rJm0hGUAy5n56qyorBoYZ1bk36OHbmb0dnmNjfI1a+cK3A42riXjtTRBDckiDf/7SqwyPS2bEw08yXedhEOms2AgAUAIWVQGPzzREL3LOWWh1e0WDVNg1dbRdtUTGtZNfTcwTku91yjH+vZWG6HSuielIH3gG4t328kQYv8vvt3KydPWDnydu69yr4kRxIn6R6NnjowLcH9pU9bv38GO8tXZR1NhEPhedOppHP5L8jCYpGHJkBYE0f0PAmPawggySEbKDgggtNzd0f4FB5rp1WZyHd0AAAAASUVORK5CYII=\"/></td>\n",
       "      <td>chest_cancer</td>\n",
       "    </tr>\n",
       "    <tr>\n",
       "      <th>66</th>\n",
       "      <td>/kaggle/input/chest-ctscan-images/Data/test/adenocarcinoma/000139.png</td>\n",
       "      <td><img src=\"data:image/png;base64,iVBORw0KGgoAAAANSUhEUgAAABwAAAAcCAAAAABXZoBIAAACHElEQVR4nH2Sy2tTURDGvznn5Ca39948mtSaqsWWLgRBrBR1J650IXSrqGhpcSUuuvM/EHQlKkrdiIiPfUFQF0J3oqKCLkRBqtSYtmpeTe69Z8ZFEmNE/DYD82OGeXxAvzIa/1KhmAelAQegTqobh/dvt2KEVfKSXyPuQRLkjhPRkFP8HH2DqIVmGyoAAn0Swrlbz72VZh7KznXaGQCAZlD+ysDTJ6ETza8pGi2F0qmEOUNUUG7dnJp1yQ4qmXbgdWFM0HSjqey41PybpAwJFHXgDCVRTvnqBLyslYiZZqkhHTgskWSj6d1jMnRkIn4gCeEUddtGiUG5nrx3SJfEibwWeQUYBqDgA2FGjE5MqHpBwsEYrhZqAgSFGiDgwKx+WuTW6rY3aKWEubuKzlN8ULQaeX0+vrsyEwdqFxQCI1CAXZf6S2oUv8tU+nD+tgrl7bqgotsDUQY1Y8INmqpsyex1hZksgs4qfCEWnixbzmdT4pOXgL4Gjtu3JVba7nnFKfoaLZZwf4kZaEgbisMbOwqPy8e2mvKXRG7J/nhIvWdnxw7odDz5wlHN5WenN6rhVUvy2wmuc+6nm6R6rpXwKmt0OYip0T0f5goXP4bVWrJpaLnqLAzIpsYfHto38gg8WtyZrbz7UJLN82f7vOcV70wGQeAH6czRhQG3333w2WJo3Cu/b5FC/S+ItCUrBEVU7aZ6ED7Ayuoe+79+AQRb2cCILo5nAAAAAElFTkSuQmCC\"/></td>\n",
       "      <td>chest_cancer</td>\n",
       "    </tr>\n",
       "    <tr>\n",
       "      <th>67</th>\n",
       "      <td>/kaggle/input/chest-ctscan-images/Data/test/adenocarcinoma/000140.png</td>\n",
       "      <td><img src=\"data:image/png;base64,iVBORw0KGgoAAAANSUhEUgAAABwAAAAcCAAAAABXZoBIAAAB9klEQVR4nHWSO2tVURCF15qz9zn3qd4kiliokBAt0gSxMATUUiJYqVhZCXY2/i8xihIkpjQiCtorWCQg8ZHkvs45e+8ZixC8JDjVsNa8YD4AAEDgSHJUOGZMlBz3DhQpLNGiAbQJUwA4zxic+sJRDPDtwz4BBKLmLasjqQCTNDsAYCBccsH5lEyEJMdoxuCyEqCxM5RUWL3cFfWv8hjb+bKtZdGNANDHXFPzhrRgpb184H752O7j3ZAVwMLq2fkiZE0ieFoSQHQUN+uRQSr6ed/qtgVpDi8aIQPSOHWvXSoAYR3ZMqdV/eirDQZT12tjcQonz3qAtOyO63W2DWQNyqAbPBU2WE9RDMkpKwvVwzcbMyd+bN5KQwgztDMIAHV7HXOdJ/5x4T/a00Zb59WYKggyjAyNnAs7w2/bF3vQxdTZMdN9QpDQzLhPfLp5VefGi1MXvsjCT7HXZkIAWGmpwM7vDk2nsl3qle874Xk6fNntriQi5Fo1qlY53bfhKo0mAIRlVA0mGoVFYN/CBgy9g2vtbQLIrCwDTIuEug/w98FYZzNLzpXyfsvux9xsvCpoDg939sbW6pvBaHZP/6yf3pPyHy2Xl3KfT7eEZG+6KPJzdydxbNjsyrMtKMAzK58/hCOsFqJKI5VkeQzkhlEhRo7/D/dE/AXLgu/HnXoB2AAAAABJRU5ErkJggg==\"/></td>\n",
       "      <td>chest_cancer</td>\n",
       "    </tr>\n",
       "    <tr>\n",
       "      <th>68</th>\n",
       "      <td>/kaggle/input/chest-ctscan-images/Data/test/adenocarcinoma/000141 (2).png</td>\n",
       "      <td><img src=\"data:image/png;base64,iVBORw0KGgoAAAANSUhEUgAAABwAAAAcCAAAAABXZoBIAAACK0lEQVR4nGXSPWtUURAG4HfmnJu73wlrXL8QYxQUFGxSiD9BC1OpRawSEMQ/YG1hp51IIIgQCCrYaCfaiAYVtFPBCIpG0YjJJnt3795zZ8Zid03Q6YYHhmHeAQAABGDEV2IQAEa/fB8tPnEkp1/3hhPZ8X2ABJABw+4MKRioZh1fv7kWADIQAGDkQuIEYNc1Mojz86vozSdgei1WaCMq14u1GnsvM9v7aKgmoyTSWE5/rqYbG3souGSm0V8TFy3SsFtVldLINceXXE7F6wYPkIkniQTsFV4w+pldsZXFKRgE5yJFNTMzZ46Ywq6gZZlmMMxEQihGcUSqHFJWt0idyJH1rvGQ4CkTI9HuEMy93eZhKIFBwIr6IRTgsoKkeWs9nG5rKAJgGJAZmg7QodzH9+MKSYmTVPPe2BGlQ2I5SG7zSrfF2EcsFHq45qRNpDCb9HGZ0H0XxG5oD/0bWyUUmG8FX8dwxR9gZutnZ4uckEECJmBZnuWfanhAvcOTQCy4zGxvs97K9NtzMnyxXtiNH6jb/HmzO5Opji2UWpamH3wOeMC6oGfHpuZy22/t0KENd/V95/HgechwOYmju3rqYDL2+kn5eJpR6dogssLo10tmh5NWLOImXvxW+/hyfYAoa2FKXJxnBK+QpafROv5iYfbKMsZPxtKt4NUjLpydxZYqxkcXxivlWrlS2zl3rrj5mn2GKkPNU5S3/0XUAiMnZqCF/xBAVRw3t/R/AKU1BalT427sAAAAAElFTkSuQmCC\"/></td>\n",
       "      <td>chest_cancer</td>\n",
       "    </tr>\n",
       "    <tr>\n",
       "      <th>69</th>\n",
       "      <td>/kaggle/input/chest-ctscan-images/Data/test/adenocarcinoma/000142.png</td>\n",
       "      <td><img src=\"data:image/png;base64,iVBORw0KGgoAAAANSUhEUgAAABwAAAAcCAAAAABXZoBIAAACVklEQVR4nI2SPWyMcRzHv9/f83LPy9312us1VAgD2lqkCzaLdmEUg0EiBAkGg8Qgpd6Timg6mRhNSFSa0M3SEJOUsCAuKi13vZf2ubvn//8ZkMbmM34/+W4f4DckBQABIdYgQALkOgkFBFD8M4MAFeJmz/ur0ZjXinOFd821HxWDBz1D6zgwNLCWiG7UACqpuJaIOoYbOoVWQ7gAgXE+P1DAVWSTsO102Hu/3kzOzr8+saSIk41REyAwhnxNkJ2KEj1TDN+XN60GtrjAy4AAYODb0iTqfVcKrt2+/e5oirowJISBat3jbdkYLzoGptN17hBVYoSAaMxM0uhPg6p33F9yHQTdUjRJ6ljShZVE3S1W9EhsS4RjqHCM0ZZC0FZxemd0kdNfm6y0RCr+fN5xmCgE1ijt4yDX1XoSBdmMMdX+GR+pBShot0nYtDOioUJNe2U6GDGpxkortLecCIFXesv9k5VK5dvT1ex3z/cvUCmqopGFb+fK06f7KoWJV9Xy3j2FFEoIKETYU0uKR1sWPSbKb9g9/HGJFlkVMjU/ByfCes+sl1loXE22DZRffsEcsEJXRWjfoMf6Pw5v/dSqdAdz2NXiM8BQYPxurdnrO78di54PZMczw/03w44HwFMCWc1fXHaHOmVnOUdpPzrg/sQ4So0GCGBzWpVLTaZBfiUWajXNTH1nvPi7I5zCw44pjg75qbEBX8xart8XTfyRyLn3PtxJ1YqCsPGR4ZNpHX8lcoCxxR2bSj8+ztdEWPtbLQAgD6pRgUIILuMfCRQUVkGqU8X/8AurhgrL7lQsWgAAAABJRU5ErkJggg==\"/></td>\n",
       "      <td>chest_cancer</td>\n",
       "    </tr>\n",
       "    <tr>\n",
       "      <th>70</th>\n",
       "      <td>/kaggle/input/chest-ctscan-images/Data/test/adenocarcinoma/000143 (5).png</td>\n",
       "      <td><img src=\"data:image/png;base64,iVBORw0KGgoAAAANSUhEUgAAABwAAAAcCAAAAABXZoBIAAACUklEQVR4nI2SvWsUYRDGn5l3P+5ubzfJ3XmeyaFBoimiBCwiWgUhEKKQ/AMaAhaCndjZ21oYsIpaWqggqJ1FwEJR0IBBG7UxEjiyucvebW5v333H4i4SO6cYmHnmGQbmBwAAEYgAAAwABPSrQYMIBCA/MhD7AgEGILFKjkt5W/s4ioM1BzOlnGIMXJ4z8Paz17GVE+djP6O8v+X0utK/hAQYbpYXFMhKmMUInLVyaA6cxba6WoFp+ShQw8u4qdaqOiQBAxVTv5YzEYKCO5vuvG6YIVkuZZYAhIJ9vaHKmlo6TEdfuFkuWmmydtc0YIGXdph1qN7snJqGk/jpSJaJ1fUpBLvLSlG2i1fJsWZQm3f3Vfw4B8HSHoHTTtFDUQXS3VkpF72L1DbWRBaM6EDAYpicxDwxnpNLsiPDwxWdf2iJUSjBmmDOHDsmR5LPxRpqcZDvao9FEIMjsKXMRi9KyxuPnlnepVDVsowIIYi32SRsR8XicKuxuCD69HgQMd0SRSKsmPLnu7OUJGfVe7fNVN1PC7mXEBhwhl15p85YXveTMaqi17/Xh67IpgUWML6JMfx1yi1VneMUP/1ttwqjJpd6ImC8tfc4U/OBX6+ca0UzUbM8s4Veb9VkIODEYlt5LOH+ePtC7bnzZay6zxoP7LT/Mrq57Xqa2RiSyYkfm4mM3Od4QMLkL3Ojy1aqA3Qcq9ep3lNTH/5iUr99B5lxKiet1s8mkTU3tnqIQt+Yy3Mf13f10PR8eFfb7UOAAb5AxBAMERmO8Y8I+KKJDaDQxv/EH5ZD95XhLU6CAAAAAElFTkSuQmCC\"/></td>\n",
       "      <td>chest_cancer</td>\n",
       "    </tr>\n",
       "    <tr>\n",
       "      <th>71</th>\n",
       "      <td>/kaggle/input/chest-ctscan-images/Data/test/adenocarcinoma/000143 (6).png</td>\n",
       "      <td><img src=\"data:image/png;base64,iVBORw0KGgoAAAANSUhEUgAAABwAAAAcCAAAAABXZoBIAAACKklEQVR4nIWTO28TQRSFz70z+3S8XjvB4eUkcqrQQINSBHqQaFNAQYOQ+AOU/AAoqECINDQIKRJCQogif4FISNBCQV6IRzZ27F2vd2dnhsZEgSa3/I5Odb4LnHgMAggEgACivxSYEAAgIgYT/1slAMQMAsBgOoIAfEx6BCYiQAAAJNjg1KpxFBvxlC0siTvazm72NgFCY6zuVbCyqcam0YNXGiFywWX0GBJjMorjAQpPkJHBIBaE+IcQmVsxQBBNxN0RMsVTZ6KVND0oWo2YViBhrcfDlk7i+sw4DYroQ1yFVBFpFwzBvqlVbA77o6Qo8tEgjzM5W0l3wzIuUgkX857VT16VD8tRYyqRlesYAzB2S+Fb0UXzXcmv7+Oj0F0tteYmrESyuLd2u7YRoh8PbTP9/KW46ZitIHkGMJBBIPA1TE+Zql3XcxTakCLZBiNPpXiZ6La+7Dhz0SfYn4u8bPuPzk6TBEadX+wfwCzvb1/ZWW28v/492jmoO5mxBNTU0havik4anf7dV7M688bD7PkMVT0CUKPuN3M3nzbWOEZ5Van0WyWZdglAALGw7fGtEjYu/IwqtZ61CsUDAoDQiHOUmGL+mkblb7/RzXpa0nCy9vxItVtfI9o/jEQuiqCTZezuTkLfUul57UKN+kQwQHeP8yOH1pdCfwEgMIDzbnjpwnHDAvfF1SAIg8ANg86DG7XjhgGYMtZohhFg5PgvRB0a1hIbOTz5DYA/odXn5IJlme4AAAAASUVORK5CYII=\"/></td>\n",
       "      <td>chest_cancer</td>\n",
       "    </tr>\n",
       "    <tr>\n",
       "      <th>72</th>\n",
       "      <td>/kaggle/input/chest-ctscan-images/Data/test/adenocarcinoma/000144 (2).png</td>\n",
       "      <td><img src=\"data:image/png;base64,iVBORw0KGgoAAAANSUhEUgAAABwAAAAcCAAAAABXZoBIAAACIklEQVR4nH2TvWsUURTFz73vvfnYnWwSd03MBqNRIqJibwoLEQ2KIKQRrGytLfwX7MUyRkmlIEGwUrBQ0FRiJQiKClExJpOdnY/dfTPvWsSQxMLT3OLH4TS/C/wn9Pc2i8ipvEsTa3YvZIdA++sciOqVAHzx0l3Nerb/AoTgL0R1a343OqYPki3IenAdgCMWePcxeyh8ViQAEUjgtc8XQvsS6CAvUQFMy6ojYAjCwWwOz8fMq42oOTOimUSuXo4ADUCYJcpL3LWvD2Sifb9rwwIKYFAIT5rGyQ/TnzdYeVQnbmWOLgIMqWAIYuhtFXg0HOdLvSjVY84Yn+H5AyDmoVEeHCeR+VA/iXujws5jBuWtFkFk2NPJm650pCqPjZZOsSsYA/xalYqU72w3eZfXpoPwi9VeI3BgAHBD5Oy6V5Ed/5acFvvSH+pXi30wpKLgMYnu5XWdfJwmFnTI8WYJMBBJWqC0kepbzLXx1OJaFZcRARpIQVlYNFKaMm7s56dCST3VyUNga1PoASmpr35FFr0PTa2nKMU2hNjvneEroTrTzc/a6oSrOss7EPKC18q5c02/fWpk4pJ2lezWBLiZjWShECwbFy+RbDd9fwy4p2NkGcFwvJkG3k5zur/BuTl6suFnTtBYoCMfdkk4fnsyCGoH2+NTE8YLD9/Zq2YorVsrz3OFyRufF7nYC1ETgXKVKg2k+EdqAJG4irRT6f+eYCd/AHAb7yLUTQE0AAAAAElFTkSuQmCC\"/></td>\n",
       "      <td>chest_cancer</td>\n",
       "    </tr>\n",
       "    <tr>\n",
       "      <th>73</th>\n",
       "      <td>/kaggle/input/chest-ctscan-images/Data/test/adenocarcinoma/000144 (5).png</td>\n",
       "      <td><img src=\"data:image/png;base64,iVBORw0KGgoAAAANSUhEUgAAABwAAAAcCAAAAABXZoBIAAACJUlEQVR4nF2STUtVYRSF197v+XjPOfdLCwSTghSdFCEYEiFimZPoY9SkP9CPaNhvadCgBmIQEWRSYKNGDgonZQhSA73nnOt73o/dwKt1W6PFWqw92Q9wJgKQIjsxZ8mJUoTM1Ujh/GnENKx7kbIlJbCG0RtZASrqJjrtxe2ZFfTAw7MkAFowD/pA5EUgxJvOAiAhgKQTzGLeBdzMQS2CUj4YAQAGENe1zTu2Ova+2nn9hlp8v6cJAIEE6Ypkym1K68q2cll1m8vu+jEAhrTzu0CEXY9KsU0H9rPw4VIBEAP9pQrom4N0IowvOKeTfkeITpY6E0UUtmt3sKbG1kwpQiigFYRBrShxNIncLqYch2JC9EuP9qoADF7IuIVvzUTcjwZ1tEzaqk5ArQCGCYGjzhfy9NX99OQQgtJxYGqBwUSCp8rtpeS3kCttFQ0c+8KA4amiuWecZv07g0eRKiqVBLoY1FEChm9p2sWy9dn6p3dt0HU9mci+6SoBAxsGJlweZ2j7WI6anez3ggrxK0uIgJqQ+D2VV3n0K4RNsecTssGiAgNoV+JxLZ1qp6U9ZzHeJUSOhl95kR0202F1EObndHNrqrgZpPx+xlDuLswWknBwZVvYx1XYMs1wiXpx/700xjRu2orYyr+12T8IFU90kkTd2RtXx+Ik1Q9nRtDMAu5Nffxh1KV5fm6lGeVWgwLAngMYx/9DjSxAOBCdVqPsAnn42wD4Awz/8pBhjaFSAAAAAElFTkSuQmCC\"/></td>\n",
       "      <td>chest_cancer</td>\n",
       "    </tr>\n",
       "    <tr>\n",
       "      <th>74</th>\n",
       "      <td>/kaggle/input/chest-ctscan-images/Data/test/adenocarcinoma/000145 (9).png</td>\n",
       "      <td><img src=\"data:image/png;base64,iVBORw0KGgoAAAANSUhEUgAAABwAAAAcCAAAAABXZoBIAAACRklEQVR4nG2SO2sUYRSG33Pm+2ayszPZjZqbFwJaJIh2op1pvAQjEUMM3go78Qf4D9L5C7SKmiKg4qURbISQ2kItIhaiqKCYZNfN7uzON985Ftn1Ar5wipeH91QP8Fdo+6hX6A8qG9mi1NTRv6kAQMq/B6k5MRrb+szVuKHdaW+5qzHvg/JP7MCG0hPNupgFQJLPclWptOd1zM22PqUWADAEQNXNUTX7GnbefHqsPsVM2HusQGVaB+SRSY8+s1rwbJA9jOpgYSihcpYG9GW5MSkTI3lf9ML6C3VAwEiQzHjJdHMkTkYnPqPwhU/cgAExV9sVUyh4ubN2mnTomCHvnxRymkDCNW6foYAP+iIbDVhGhgeDwsVsHJgYroRKGQtCQ4vvvtVMbcN7P2z8RRblQM9VxZI33A5WS1SxkTWkHlaE2CYOoJDSgsG2DC1fspzFuxyQcnuLszZbblSaed9qFNjvy1G+HrpkLzwTSV8ygXD3KZvTkZwaxbgTEhtOw7HCZvq6GPvy3PPU4MaKr76lKyydDlPOwP1CJbyorbQZ+bG1uIbOfjoUtm4rGBDKbOfDXOTu7K0nmgX957/oe6ddE4ZODojDgXXs2/lq+BadZWu8by5tm0LzYTS+RtZ7DuCKvk5ZG7jXVSQuzbZt5G2bqZmykssLWqrWuoJVM3OtZoJcSPqLsOXSuxRsoWff9ZWP6qbGvPHEwYMfcvjyTfyGKPkbsuhZRUI/eXxBeoJ1KUFAIgjEoPWX5NuJFRAmb7WJ/yYu/VN/AS4PAuv2OqiHAAAAAElFTkSuQmCC\"/></td>\n",
       "      <td>chest_cancer</td>\n",
       "    </tr>\n",
       "    <tr>\n",
       "      <th>75</th>\n",
       "      <td>/kaggle/input/chest-ctscan-images/Data/test/adenocarcinoma/000146 (3).png</td>\n",
       "      <td><img src=\"data:image/png;base64,iVBORw0KGgoAAAANSUhEUgAAABwAAAAcCAAAAABXZoBIAAACOUlEQVR4nG2TvWtTYRTGn3Pe934kN7eJSShaWrpFkDbQoTpa/MCPwSKCHQQH3Z0Fwf/CzUXEUcQOIi5VnKyguFQH26IUW4whSW9ukpt73/c4pK1Kfcbndw5neJ4DHBKBQH8brKs5r6LKzsjeYxoA4IbRtQTek8jXQ9KFtljZn/GSyiUWS0T5h1Pneux+WNNJtgfzvAgiMQrWQcogw7mnbQswEPZjgRiMebqKkguQx/FVPboZaWJAi33r++db2gYdSzR03C4YCM2SMIrJshn8eDZ49YJKkEDqDDAKdANKcf0N9Y2c9ReOLCsv35O1AYPBfaPIyH0SdeFMpTyRTs+brqWloQ9G5qsxckJR8LZOpXD01j1xFGJYMNR1a0pBibJSNruRMNeGCkEoghwYmeVsQY7nuFd71wzsrxmVD6AVKYCBb8hep59tUPz+tbBi/PViTBpWTAsMtYLEOIV02Iy9/Eyr2Iwm1XyHGAAXlBAj2DgqdT5ZLY13mu5itmqgoMBJhDGJonBOr4cndhsv36f1L8eI7CMYcGrxwLe7pnpx+nTcutLYqkwEOx12DmLVl4tcbvkO1Xa2N29+3M2EHv+BRLeSvPGjmU23a3oUPt8+CBuKGbjdReZ4ro1ouYsMJCM43sn1BIA7N6uw+omREjLZ3/Sl3ADDKKuEhexUI0kAgAFgMNl2auOeI0ojnJjS25MJDiDW+U65baDJcPwzulte22/wSIEVy+xlQ2Fl+/gXAnlhCxJwfPgJ/qffPv/s+ZHgVscAAAAASUVORK5CYII=\"/></td>\n",
       "      <td>chest_cancer</td>\n",
       "    </tr>\n",
       "    <tr>\n",
       "      <th>76</th>\n",
       "      <td>/kaggle/input/chest-ctscan-images/Data/test/adenocarcinoma/000146 (6).png</td>\n",
       "      <td><img src=\"data:image/png;base64,iVBORw0KGgoAAAANSUhEUgAAABwAAAAcCAAAAABXZoBIAAACXklEQVR4nF2Sv2tTURTHv/fc+/KSd19+mrZoRSu0BkGROmhBKsXRQShKkSwinVyc3F3Ewc1BSIsiKB0EQXBw8S9waQcrKEWrg7VJWpJKXl7ej3uPQ6PQfpfD4fuFA+f7AYYSgBA4JHFo5giA3M8KACBmx9jynnWL9R6pN50EgGAIgJiRowUFyZYKUrQIhZVtAEJAMODdTgll6UytHgssx23Q2/a/U+5iClTStOdGn9Yo9+Rzh2TDDM25SUulZbA/cc7uvS93wzvSPANAAHQNaroRDyKaLp+YnPuTVHwrFj0BAkbr7Mr7rqvUQkWSWxuo0iu2dJNBQIkR+0oZkR3JK0PIFNtRsSDcKghyjoUz4VQyORNZXzTZFDJCxIwECmSkUZGoyu2C1w9CH6eaqUhTaYwgJJJIb56cuWbv9lM9fiQ+Ghs5lfURsNJZLoik8kunV1YvIUVrKW+k90OnzFBqV1Lkxc7rcFD/6WhP2tq6inolqOoOxUgSL4zKuztR9HIl+K5tyw3ZDWFKoAGUNCSbF1L6wI5/1kw2Rd6qESO/gQDqBqd7mVWv31I3osRrZ4PkVj9kwyBGw2bX9WhsCxTN1rytJHIo43dD2v/tSM93LnMmYdvaNO8iCOWE2iwBBPBj0+HEh8xW+0E/zSXmQaD2Xuz3Ob4l7sXe1ENl69QpjT0V18NILEvLEAA8zvO8d3WjPfb7zFoN+mt342PKg2HZ85tf+PyMcLuuTGBRfB6Q6v7nU198VPF97ble1s3l9WwjdwBXDYSZ46VMu9XLkg0OsgxoAICF5OAw+MOAPrD+BZfTA1QAXBxWAAAAAElFTkSuQmCC\"/></td>\n",
       "      <td>chest_cancer</td>\n",
       "    </tr>\n",
       "    <tr>\n",
       "      <th>77</th>\n",
       "      <td>/kaggle/input/chest-ctscan-images/Data/test/adenocarcinoma/000147.png</td>\n",
       "      <td><img src=\"data:image/png;base64,iVBORw0KGgoAAAANSUhEUgAAABwAAAAcCAAAAABXZoBIAAACHElEQVR4nG2Sv2tTURTHv+fce/vy3n1JmtBWWq0/oUYdrIKDg6uDhYLQoSKIu6u4+F8ICkVxUaSDdBBxctPNqUMdVLBTScGkaZKXl/fy3j0OSdQGv8u9lw98uZzzAQDC3xAIANHocjREFuXxQ4/O42kUV+NMm8MI6QT01jokUICI48JGBhYBCGBH07eFTJG17bqkJ5RvRgAARsGRrCkdlDuf8oNIm+mKkzvDPg6UJ8ghPrb2fnT6L58neobkwRD2ogRWGUlj4/SiitWrvKlkXAvgLlulPyb5VTnp2PXFaMMaAIOIXYmktZ+f1wOcMMQIy84M4TVPHEnV42z3fQvXa1Mf4CDz/YDA+NlX5AgKy9HOs8bmDjdD7lKj6hgMhYxyuC3zbZWFy17sFVxAnWauwKgD0Dck6aVb9IhW1pmTJc8BC4PhbwvJZ11GyWanZPFNKfL2cgU0eAhfJ8A5k/Tu1SuGL/ly0fmYdvkQtrTIFedUKW4j3b4pX9pPyt10NAQeSJFmUaIs3ZjrnfHY0UBno5VJ8ZCyle3LTYu0vtqYauwrrz9WpNq+T7P9uYarfUe8/LVFL8LY745gmNt1spRRFwWDVvbuVyWO/8h1upndOjYgduzMoPN25sC0//Hq8YXAD2f86tlatRIG/vzDI9aFi09rNggCG9jlJwv+2NMxFSezS7a5W58SxBMQVsQRCRjcxSRE0QkAUDQp+v/zG2ZX3u7C27bwAAAAAElFTkSuQmCC\"/></td>\n",
       "      <td>chest_cancer</td>\n",
       "    </tr>\n",
       "    <tr>\n",
       "      <th>78</th>\n",
       "      <td>/kaggle/input/chest-ctscan-images/Data/test/adenocarcinoma/000148 (3).png</td>\n",
       "      <td><img src=\"data:image/png;base64,iVBORw0KGgoAAAANSUhEUgAAABwAAAAcCAAAAABXZoBIAAACbUlEQVR4nFWSzUtUURjGn/ece8+dOx93Rh0nDSEQk8oQMjCEssiVf0BQi5IWQdCm/gOXLdooRRuhRRiRuIlaBNWmwnJjH0gIoYiikk4wX3ece885b4sZpZ7NC8/v4V39gFb8tsAtIE8EgKjZOc1TqKRPnxULtNu1q4K9/E6zbW7y0d1Sohaz4CdIkKxlag3mA9h2VRpL0hAgNMiJP+zaYuu7d8fsexrZyLV1Zx9klcaLIkMAgFONMg07OPO2dLwn9jsM9q281o4mtNKGOHXfq76bfOSax4ERNjIxiIiRK9+2UPOwqf4zVhe2nl0PNcF/WhQMUfUY7FLmpF3yWYn8FYdJoF6FAFw5AUq+UpUVdOZEEMr214pc6SsIwEmCSWndAzJWqIQFJ3XDfrcQyDQq7HmCBnZ6s3YtTcJ1Slq5PFQjB8LkRNyRpZ92W4z3cmS1LjiqjhC+gGVLqcYYB9zR816zrJfe1EORgVKhgEadxYlZEed+t43XtC5+6t8fLBBPKTiIZESW61penvuxOWqeu/ZzblVqYgUHRoKrKyKIXnp9fV04/2c5Hgl1/BUxBGBwhEoYJffcxoi/3j3c6d4LkvgCggAkJi2B0o3FS782mcqm+0FYJaAMAoRF6gbMrRk/OVFdW7IfL+qyna20TBDs8mi/52sVMeLF2YcNnZjmFiSW0sFNnXPqlKJ4L8E783wAEei+VS3v1GQks3JHLi8oEx1CJE1PMbLx0BgbZ2MObcltWcNhjvqJAeUKz/M8le7zU8cAtDQBtpzp0HWVlJIcDqbk+j/eAkixTQxf8HYXvhnBNfwPkWYLgEBUPaj+AjbVFLfMQL/VAAAAAElFTkSuQmCC\"/></td>\n",
       "      <td>chest_cancer</td>\n",
       "    </tr>\n",
       "    <tr>\n",
       "      <th>79</th>\n",
       "      <td>/kaggle/input/chest-ctscan-images/Data/test/adenocarcinoma/000148 (6).png</td>\n",
       "      <td><img src=\"data:image/png;base64,iVBORw0KGgoAAAANSUhEUgAAABwAAAAcCAAAAABXZoBIAAACE0lEQVR4nFWSzUtUYRTGn+e8HzNz74iMWiZKLYwWgpBYmi0iEqJV/0X/YtA2ElKS2tgmglLBmaDJr5l75773fU+LGc2e7Y/zwTk/YBzCAYTBjZAAAOk8UOX5V3Atq9V9uK4AslVIcrXaaKMvCeiegjqGG6I5ACoHHXdBxYC744bAFpREzXBbpsqOotIcm24CkwHrwg/Yrqt8uHTpOISuWQACh2Y2Cu1SG12yfxZnC1VDPAYgfNSC5m+e1kuHjeS1eLfjFFYYBSA2vFGGdvmZjQfHSwfzJ3F95EUK3YUAlTEmH32p66E/Jg9j8jQJLQEEpC5SF5QEn/mUrD1w9KIJEDjK7zuaIphMtpcx1GciiCUBwQ5QnWjPGJEZs31hIerCKwMHWCgTRRkj2Q/ZdFVriPYt0QMEOCq4mmTL8fn9evFhaet1QqDfAAJ80hSJM784VxfN7GR/JacbofwICKBmmNeNvk2nFxh0s+27SQKK5vi2+C5tjARW03xA1f8zNR9Lvp/ArhxWGlWL6keUaLPisqLTybNhN5lMSqoC0QZKae6fXpmQNzCcvlWUKY460zNK7R6FTu+q0rUCo4kKmyiAkiEhjGdiZlTPESCiImmkLCS0JguhtzJ7kqZyklYVbqn82X59/k9Rt/zCO2O98d55v/zSXasJwFHB1XsMFuefBkC4CeEVgEIJAAz4DwIOVIxNnjD8BfOL9By3ZUgnAAAAAElFTkSuQmCC\"/></td>\n",
       "      <td>chest_cancer</td>\n",
       "    </tr>\n",
       "    <tr>\n",
       "      <th>80</th>\n",
       "      <td>/kaggle/input/chest-ctscan-images/Data/test/adenocarcinoma/000148 (8).png</td>\n",
       "      <td><img src=\"data:image/png;base64,iVBORw0KGgoAAAANSUhEUgAAABwAAAAcCAAAAABXZoBIAAACIklEQVR4nF3Sy2pUQRCA4b+qz3UyGZN42RgVI0QRgggiiGgu4CJ7d258KJ9FBKMBRREFQXAnIoiKV8TMmTnT53R3uYgBtVZFfZta/PD/LF38swgCIAZcR/Ofn9eYiunuASOG2FYamoVOKGPBpHuKGCiYkK3bHGq9MGgLs2G2iaEIkG/0sahJWrbNwui7M21IjwAFudKb1oaVcycGcRLp+4HZxj6u13OqWH/kwoePPZOYeo042xYUUKlX99C93cNFX4+q7JC5XKQ1lG2cyDsnOqk7nloz8VnmY8JAmVU++VB3fqmZ9sd/la+Xv8eUqlpuoIhmxwZlSFx+iV8b7syeDNVlhZadKNiiOg2a30nPji6mLL0PLhU9M0wx13CS3NwXveabJT9MWoacNA+KxnDyy8g5vxpH8zU6lZWmiqL7Dzmejw8txuLcqezbj6nIqSQunQliCGwNgqO1QRQ7PW5++sNmLqWi97uKaH/LySBXEXn7azpY6BLJJOkLFNnx95OYTaSTGAuTHLGrmYSxCcimDbUPKDGfDUOcb0s62gdiCjyU8VTzHMKEMdpq61d8RFCw8mEVG7HQ4WKMEIVXcY+EAKXlYdMn559Fd6nSOsVEuWP9fmCjGZlfeQOILZ+PllV3nbYHOd6uirxYEnAi1HNZtrD2pz6Asrz5+H1QMSE5t8W98BeSq8Vs5WwVvr79lAkdfyOlCZb2SxXPvwilSDJAZweX35oQDEkMiG9TAAAAAElFTkSuQmCC\"/></td>\n",
       "      <td>chest_cancer</td>\n",
       "    </tr>\n",
       "    <tr>\n",
       "      <th>81</th>\n",
       "      <td>/kaggle/input/chest-ctscan-images/Data/test/adenocarcinoma/000148.png</td>\n",
       "      <td><img src=\"data:image/png;base64,iVBORw0KGgoAAAANSUhEUgAAABwAAAAcCAAAAABXZoBIAAACRElEQVR4nG2TTUtVURSG37X2Pvt83Hu9V9PQMCvKUAInQSANqpnQRIIigwqKBg76GQ0aGzRIQyIQIoqIoEkEQREFjfsia2RYpvfLc849e+/VpPQGvbPF87Im61mE7VDNpGmB/2QAxGGsAWNAW3UAhDhAX7UyGAAA+lSJthgALuVHDol8eEt5qQHicn0bDh3rccpXdAtWuYf8SyXrAAkBSVqbsRDes5qq/asNC+LSnLcACMxlOiOiyvOJK6ZfHh1YY6f93dwDBARyybPU5mOqz/ADF57KQYjvuCYYEGuZqNDILrIfU7JUUcxZngJMiA3D0RdVGLujNBmO13wC4oABFmSz7BXeGDfS78tBsCz3WlqquQRgoCf1STkKsmhDyEr/aEaDWlbPVwIwsEYUxLrlByPXQMGfY5/nsRabgQF8Y+p0Ql45yeVNGjoNihARiwGjhqdejY+rQLu8o8Tfz6ypkrAXaOQUQn10m8boud7w7IvY0logRKoNRkeyMIdVoV8+YKf8WDWM1D7HbAGGA27UYVR24nV2bcJ/bVuLvRo3U0AD7MH1vonDrpa9T5Zc5JPwWRvsAAY84bb/edxhqlHdnXFurhYatwQAAwDcY6pP4tX0wdELRg1/5/UI/s+xo2iDr5BV4a61IukdeZd11EK6ZUK5QH45yXtC3zGdtleL3jTxd23r3M5w8VNvo5UWqVlZWByea3YJFsvsj0fiWJiErj95vokuCCTiSWoqb1Ag1Ma/EBVxBKvY6+b2C3RJHyuvml0zfgNLNvaLj0DBJQAAAABJRU5ErkJggg==\"/></td>\n",
       "      <td>chest_cancer</td>\n",
       "    </tr>\n",
       "    <tr>\n",
       "      <th>82</th>\n",
       "      <td>/kaggle/input/chest-ctscan-images/Data/test/adenocarcinoma/000149 (2).png</td>\n",
       "      <td><img src=\"data:image/png;base64,iVBORw0KGgoAAAANSUhEUgAAABwAAAAcCAAAAABXZoBIAAACU0lEQVR4nIXSOWtUYRTG8eec925zZzUzZERUDGJIRBFtgoWIBIxgsBBFOzFfwUo/hF/ABAQLV2IjCXYGA2plaQSbRAMSY2a5s9ztPcciRrHylOfXPMWfAABodBxDw5xr8QAAwAoFCABMPevWWsYUfwKuemr6IIWCAATgua6whhvLXCMgtqFI3wIEVMk5X4QacVQweA5gcuqJS5GCQNq4XI4gDRFGHLMZMowsjoerYDiVq9pRqSPLT4Zmoho4RJmcPnF0HxgZJ8pMOx27dN8J20mjUANwXOUK2IcVVCtcHlu0vSjvufZcPjKCFERwXB1TD7D9edPzrWs+bN0cmMhlP1VwL12nLJNRpCiXEjHX4mfdVpXK5aKAndGzTASpaGgHOelmuv02jHO4rMROvKLs3NI0j2xhZV7lupdJUtpfEyYOutwRfqzNwLVtinbInzCLanLjknAEu8w9SyFiOti/UYeu2SJM/N2kYIM43EyMrmeObuuZgdqgngf+ttt6ajgFvDWypmk1jJP2JL2M+3EAN3tHYABb3/yO3akEQ9frby8kluZomrtfrGUApA9UMZNbuRg3PTh02C51F5TBAClQjtxjM6XZsF6YdYqXvk53cqOyWwKAianQT+GGA8kLJpfokaiAgQYx8PlFAuO2uy32JCn0jIXsNlSAGwHe7SwnPwu8dEjeQxrid2BBpSMmNnLoSPEAcu/NBo+nn/YQM6X3Lc3DivjJD3UwevfeDv4gQtE7I6sfB7Z54dSr15TsfvfWlkSVRMHKhAH+RaAIUVjnL/3nfgEEWCWD7Nws5wAAAABJRU5ErkJggg==\"/></td>\n",
       "      <td>chest_cancer</td>\n",
       "    </tr>\n",
       "    <tr>\n",
       "      <th>83</th>\n",
       "      <td>/kaggle/input/chest-ctscan-images/Data/test/adenocarcinoma/000149 (4).png</td>\n",
       "      <td><img src=\"data:image/png;base64,iVBORw0KGgoAAAANSUhEUgAAABwAAAAcCAAAAABXZoBIAAACKUlEQVR4nI2Sv2sUURSFz73vzezOTDazuwmBqCDEQDrxJ0HBRiEiKFZCRCJqY2PhP5G0NgHBThRNECyCECwtRMEmtZCQFMZi12h2d3ZnZ+bda7HsYjpPd/k4cOF8wDAMgHAkg9N4UsnYtqJW7BKVI7D6p3bTJ9HyC0ceEKXoyxCaSv8ukYCEd063WAif99EeQPKwpAQhGAGRChT0qnIAMGDKzhmRahAcm6zXAoYSuSUd/FiU7pNQnNuP61szB7GpksIoJgBGXL/FBrD2XZZvr/DzDYwDoB4ABh8ACnTX4aj8pFLoW98HyY0EYEhJooqlpqqNL+nUBcsdR45qJR9si8dszDg+WTM2fbbIL8/TL+IJ0sMArOhBjAmrOHWv+6Nh8xhfYq8gcA52hYqY0FfKXs8uvyTdmx7nyGNIAI6Lsu04P8NU0+0sP8iqe94VudMRRgrOolVltXKi2Ze2F5gGN27re4XAgNM2QPhJF2uVdDFo00Yp3DRSUBUOrEof5LAbeMeD2cbemTX1nyoR3DMkg8lOXiUTX/uayPXdN2OT1VLapa1vwz3ZeygRCxeB5Oe2W0lO+5ujsa2aR84vF7bDoVf8BtYS0lGTjeL8fOKswLpolTUfaVLphakwDAlYhDhj1Jtu2Axl7rsjqELBrIFk2h8Kie7CLqbnYiI2phzPpFLvj2wFNvKFxd2EyZLJu/GK7v/rLRCRE/heUThPpYejEAgBYecJuviv/AW1VPIn3x6bkwAAAABJRU5ErkJggg==\"/></td>\n",
       "      <td>chest_cancer</td>\n",
       "    </tr>\n",
       "    <tr>\n",
       "      <th>84</th>\n",
       "      <td>/kaggle/input/chest-ctscan-images/Data/test/adenocarcinoma/000149 (7).png</td>\n",
       "      <td><img src=\"data:image/png;base64,iVBORw0KGgoAAAANSUhEUgAAABwAAAAcCAAAAABXZoBIAAACXElEQVR4nI2SzWsTURTFz30zb2aSadJk8tFa0w9p1SJKVawgggpCKxYVXAlCVwGF6l9QV+5FN0Jpu9RNBVEX3Sq4ky6kFMWN1PpRW5s0k0yTycy891w0sbrzbC6XH5d7uecAeyIwRnsNwFoV6DIGjWRc52YqAwCqBRUAw5bGhgiFjOsVL98a1QEAOVSL0CUhIlDE5jWpoAACSOX4pK8y3Kie/unzdVERcwjaeylZVOrk+nLhcz7nLnpVfst7bNegQAC60xN+YjaKW8dHkqSaD2u8GM36uwfp/rjqnmPML4zaFIbmFNfiBA6AwUlPIv1UhshejXMlTTJj2Vm6nQKIoZ5nKu7auvgGJcmOpIi2eJ9o5qEY6IJ07KwDSmiiKQOJj4oCi0/5AIPSQJ8O9HQJoyEtpvFwEaRCqlsAgw3HN3sP9XR5M0qgFroxrvFtDWDEAEC/yaywZEG4Jff9TB8DC2zatMGgXtDAu7cr6ynjhms4+99wn6ugnwGmYqC12oeSpw85Vxb2DWS+muqHr3ccZcAWGKBT59kjG7GxwVyysvMSncKS0WJj188SS3vPL/KC/yS1rdd9WTYiXvSCud33BdNBcvXgr43DE6fWrt0VJzg5jUzotdMwfoxGl8yYp59ZKvUu1HsuV8qJ+y0Y98/lhkRSkB4qqUaWo6qlHrT9RExc+jKmpGY0ya5wkiuvc5sxtx2u+emd4dT3stIoazRqrk+pO/f+JA+JseFHkkhKTQ9JO595VscehA0W9F8fbJa9V6tEzMPfEB0SUjAmCZrUPPwLgQ4pARDDDv5HvwECxvPnb1wkoQAAAABJRU5ErkJggg==\"/></td>\n",
       "      <td>chest_cancer</td>\n",
       "    </tr>\n",
       "    <tr>\n",
       "      <th>85</th>\n",
       "      <td>/kaggle/input/chest-ctscan-images/Data/test/adenocarcinoma/000151 (5).png</td>\n",
       "      <td><img src=\"data:image/png;base64,iVBORw0KGgoAAAANSUhEUgAAABwAAAAcCAAAAABXZoBIAAACRklEQVR4nI2SO2sUYRSG33O+uX0zs5PNZgMxKQwxUdMkKBo0NgoSsLBVXEH8Af4AQUtLFUQLQQkWgkRENIiF1hYW2ihIJCoEk5gLe8lmbzPzzbFIAiaVb3c471O9D7A7BBD9cwAA+Q5zHKO1t8kZiq3cxRjZTK0nraO7ZVc5I9kiPWtsdLs5nbvaDj7Ot7i6TRZwZBAglRnHgMQQQT7NN3bIyyBAuhNHarYxJOK2vek2wIi4TRYhmnz67tmHiZi8UCSh+LgGmMR3OQHTdVOWXzfdxsx4xELZIQWwbDZLhglPyDkYOJekwDc0Qh9iB2DYV1gpiVzlLtDUQH/fCanrRhOFSgyGtsUhxHBjKk6aDvepWUspVYYPBjLlWvnP1AnpVKWTa34LXZ0SSDGYEvEoENGojRRSd7Hzs7uZ5LXAANzFlKaHO8sblrcwt7aiwgtLlqVsh6gCrjEb/V0mbUK7orJ7D7+mYfO8GAjDwkZUq0ZOhOJqeEzLLecVlcpvNgxYNzjCHUkbXMqt+KTs3y9fdwaWh9k3LzILVo0zQlqfPfNFTY29V1WDCftHHXYVNRBAvZslK3PPlZfWx/48sgdOVuvCj0GytUrMp/erfCYkXs/R55lIeJdlezLLKFLX6laaBVDeCq2+lXRHEz/Zl6wzaPRsKxHSy7MmIyQ7gmmS4TmCgI0CQP1rqtUGAAbQuj04r8a7AhKVLxaDkcXkQPsfB3Xvg6Ew8AOtdZgbut+321uEkorX6zbKsSJp7nkCQUYZiMCb+K/8BYCK78zhfJnKAAAAAElFTkSuQmCC\"/></td>\n",
       "      <td>chest_cancer</td>\n",
       "    </tr>\n",
       "    <tr>\n",
       "      <th>86</th>\n",
       "      <td>/kaggle/input/chest-ctscan-images/Data/test/adenocarcinoma/000153 (5).png</td>\n",
       "      <td><img src=\"data:image/png;base64,iVBORw0KGgoAAAANSUhEUgAAABwAAAAcCAAAAABXZoBIAAACW0lEQVR4nF2SO2gUYRSFz73/zOw895HERIlJCpUYEw2IhUiwEgmaLhDRQsFKtLG1tLQTCyGkEKKFGLFQ8FFJLG0EES0SIhjBaB67m33Nzsz/X4tsgniaC9/HudUBAAIAkLNzQYQO3AVh7KZB3ZFmwVQBNsCe7OGR8TQlPDXROhdroS53JAks55rKxNhaCEJwn60XN/aazlVLhLTv1jNbsxaVbzypCsAAwi43YpHepuk70VfMw+hme8brNMMrIqTs9+WQKxej+ug3EaVXPtbAAFIhRd7CBlN8ueQMLvkgL3eYd94aginNGxXh+oF9eUQvbdRZK8ACXBLQWOkMLbrKymC6LsWJFas2wEDSJ9R1z+3vH1B2FltO5pzlVKBDMALvAsPUe0QOnksSZgJuF2wxuTos6NRIdxLkCTXyImZVr7IyQgrgktaePchZpdX+8wWia+X0laWNJQRwkrqvTday0/XlLbz52a42FrzjMWdkAE7hfaflzFTWPuPksYL3btFr7u+KaE5Z4ATV1DDGGhV/6NNo0UNvqzCdtixkPhi5EiQOT6k4/nU6CD/MbIt6nul5YBsMbxNk6quT/V5uYs2MJ78PTXLZNFEFGBXQY6IkGJ24s3qr2HjLaquNHEEAAkg4cKZtTxke/Tp194jTYDMHks6O/NjGzYZVqIwv+dumDetRk83uElynDemeYlgBl9l+6GZJrrUrh3+gtKnJmTjqy8oL42tjNbCX4v286/YPFEpR90jgeUOz+De+Pzx7vhQFgd9940Eh6FDa1aGhjNgAsKTxvwQCiIDBtT3yFzjQ+0QmuNKCAAAAAElFTkSuQmCC\"/></td>\n",
       "      <td>chest_cancer</td>\n",
       "    </tr>\n",
       "    <tr>\n",
       "      <th>87</th>\n",
       "      <td>/kaggle/input/chest-ctscan-images/Data/test/adenocarcinoma/000155 (4).png</td>\n",
       "      <td><img src=\"data:image/png;base64,iVBORw0KGgoAAAANSUhEUgAAABwAAAAcCAAAAABXZoBIAAACYElEQVR4nG2SOWhUURSG/3Pue/O2mcnsWVCTSUQCNqIRYqEo2IhitJBYRBBERQYCkt5G25BWIWglYhuwEGysAoKgFoqGEAwmkjFx1szMW+69FpNFwb85nL34P0JXBGiY0J67GQIA6W4RAGCG+bYTkYxJrlLYndfcjWaqIEerlWYtc+8ypTIgAvTOZto4dkQoArQGa37s1rVmBQIou52YVJQD0Zab5HqN9ItGgN2fXJI55fu9Wf/rglI3zQrNKx+AATjytnbTs9mf6rrZ7+c2n93ymh3PB8Bg3GEZPepkEiNCxe6XhZp3qdQBAEZiEkrEbevj9viBNEmzw3IEaioHgKHiWoCtpDJS4LDasdiZSZnxBgMMQxe0+5J02si2jd/W1fGJyCaKpk2ArUpSpZy2MPJ3W/ZGTzpaWujTxdDYVgS2TYErgN1k0Lr+tebLaCs6zA4bGlyjBn0JJ1YjrzxXKPQujjVA5pt8jG0PDFLyG2fcG2dTjhiyi80zwmzzgEUUwgCokUHsoi2Vm63Xv7+jrDUQrQfSDMBQyWQwdCg1yyJXsfpWBsxa+ZqlZGoDIECUdMHXMbRGfwSDD/2THwZPMypPlAYDMqErLXGinS0O96rpg6vHZ7xmg6TuusLD5xxKh2asbjNfelWVnHy72NqxzCmuxaakoSwROoZRjozXqxj5tOunzWPLLJnNo25G8PulyPWrwR5gcw/CU58pEEEiAIf5FaNvGfuKT5USnus4tht3E/1Pe2zsYQK4rKAvnIduV5+vCdLtv5uAA6JIMzSIW/uk717WCtCsSDTxX3neP+kf7PbwjDDXjHoAAAAASUVORK5CYII=\"/></td>\n",
       "      <td>chest_cancer</td>\n",
       "    </tr>\n",
       "    <tr>\n",
       "      <th>88</th>\n",
       "      <td>/kaggle/input/chest-ctscan-images/Data/test/adenocarcinoma/000155.png</td>\n",
       "      <td><img src=\"data:image/png;base64,iVBORw0KGgoAAAANSUhEUgAAABwAAAAcCAAAAABXZoBIAAACNklEQVR4nFWSvWsUURTFz73vY97sZxJdhBjxA6MImsYmVSwkVtqIIAgWQbG0sbIS/BtMa6OFIjYRbGyMRbDQTkWixsRYJK4x2c1mZndm3rsWMcl6qnP5ceAWPwIAGFeETAASkGA3DIA0b4ovkysbqwlqYAcSUC26Ui8oCQQBiAZzvb47NyjBblcV61hVKUb131J7QZzqi4B7Qi7ow2MvQmYpFYCgYCmZWjcl2uKn+6NxeAqzObKchFwWJ270hFQ5eJVGBPa0RW82fAGQitLyZD3LSwiDayYgsKI/kFcqLcA+kQvGa6dw/rZ/jCO1FP54pTppBGBUIHHwPk9m7zUEax0nfIMN6ypA4HBpQB9aTiV+WZ0IX9IzQUihtfKhA4aB8rmlnmlF3eHwdfFkbkxXETOD0QNZ7haV6HVvKilTabqMksvw3hMYgHgldTobFUu1us26o8XpUyy9woABfGJ8C+Fdod1SSAy3XXueNIoMDND8pr+7TsnlW2Hfyh19rBlGiD7DB2hAUAkPjY8aP/3QavNKbYHaof2RCIEB4FHWEpIfXi/q5u9laYz4OUgIYAAKIkoRsQ9Bc3GuuZCuyI4JXj3riBcga+VS8BytZnuaQLuZhEi27HfTsz7I/AxQ3tYEQC2la8mvWaIgVx06z2s9yfY8mzDREIhZK2rYA9aNoT8Hb8aRtTayxtlo+L7bsQ8A4OCPXl94uxENj7sHXZX+B4E4cNh+kZI9b3cpIJ77WD8EUAKSvvMv1Qv5Y05tA3gAAAAASUVORK5CYII=\"/></td>\n",
       "      <td>chest_cancer</td>\n",
       "    </tr>\n",
       "    <tr>\n",
       "      <th>89</th>\n",
       "      <td>/kaggle/input/chest-ctscan-images/Data/test/adenocarcinoma/000156 (4).png</td>\n",
       "      <td><img src=\"data:image/png;base64,iVBORw0KGgoAAAANSUhEUgAAABwAAAAcCAAAAABXZoBIAAACbUlEQVR4nI2Su2sUURjFz/fdmbs7uzu77hp317dERAlY2ATS+SgstBVbkQgiGAgaVIKF4gt8QBBjEf8BixQ2Yqc2CmoXEaKlMcpmE7Pv2Zl772examHlKc8PTnH4EQAQhIQEqVLcjVW+DpAMerADgHxXbjZ93QTEn2vGIgMIYFOzf3A06LGyXHY1cRseL4EdCOwQRMF5Ag9FOtKxMukV8WabQkIAEPQuiyvFnRn/3INSWw+Nr9vgdgIwgNBOOVdUM49AfNGO2doKUeIDYICTSRDJXZceUeLMG3bzw547lwYYoJPGZ/+eddGX8XD4gha/07dQVwAG/CoZqvpOVfYeGPa2iF81l5g58sFUTVmlbK7jJY0LnmLK9RoqWxC2WbD8aCjPpd9slhETo2a7SSpCrEW8iBgaVCznPzRSi1RvpaU1NZLs9slLS0G8MAJJkvkUGDdrXbS8WS/yZ0qCTCTgloGTlEz4COaaq19fTiblABkKetbAg4BSpldWfuvdgrpydFn/SOmKf2K+w2AwqM+6tMnRyZ1F2nPnrU46x81Ta+vw4GDY0rfvJv1Cxzm/99q4cOu67vLg2x1WHUpAynbGjPm4Jjlv3zYDYjCA86srr/KHM0li9xcaT6JcO36/sN6+5cAAoejq6qweynC+xl6mp85Y5cqDWcF0qNben46C7ZFdmszYUfcTGydkoEmwY/FarLoltrq02s72snV9Q3T826FCQp1ppT1vpdJfq5iuuw+J/gr27FTf8XVuWy+RIHvVyq6HR/A32ezz04UwH2bDfL5w7MWWQUt/cM5xrJxTidIsrX8gNkCsAxSoif/JL3ewH15pKrtgAAAAAElFTkSuQmCC\"/></td>\n",
       "      <td>chest_cancer</td>\n",
       "    </tr>\n",
       "    <tr>\n",
       "      <th>90</th>\n",
       "      <td>/kaggle/input/chest-ctscan-images/Data/test/adenocarcinoma/000157 (5).png</td>\n",
       "      <td><img src=\"data:image/png;base64,iVBORw0KGgoAAAANSUhEUgAAABwAAAAcCAAAAABXZoBIAAACQ0lEQVR4nI2SP0hVYRjGn/f9vvPn3nMOl+u9piZeccrFQYigIXIraKioaCgoRQpa2mpwC1qClggUpFzahIYmaSkaiqDWBi3QCsX0er15O97z53u/Bq+gTT3b+zzvMz0/AgACAAsAAFkAtH91MiZUSuqgA+j9jhtcBpu14d9wn7Xl0A9wv9mNTFqhQ9tmc37PYxABoLuNinm33hscUZ+rQbm8V+s0S1dLM72/gtHanBMmU8vp8wwgywAIxSvOHDX6kpo7kaV4WFUTHojBAGx0ncuZyhoX+23/DVNNH1dpHGzAAHjErcwWxm62qzygBqNN4zxiaAEY4PJIzpR9XPJCp5nXYzc0xa580gIaiC5RULpl4qCht4uSJCSJytkcWwQD7Fhv2CJKz1BBWrU7ieaqeO4YLAPjpYLZJa00djdaP6eDflHbA1J0PDCwazxelLgtqx+Q94zrmhU/iJzoAjG0VUeTuna/vp43r5I+b+V9UpZFOQffMnI/X4sKNn3L4cb5wSG97CC/ptyFnRdg4MlO08jJJfp2fH3IX33wyZzKyNhNLwdBC012Y8vf+KJOhzG2XkLd++FTcxoggEXd5opJB+u61bPslda72rKTzVqWzipTdce37cKfcqvYJh2nC9+V2ZtMWVGjJ1hlBMdkStl8hqxVBgTAFyYRJquttblroFNlVdwZO8rZEIRFWTJgYZVSss8PPM1KMRQTCGCwgwMKnnrMDAKRIopmDtNXIGuHzg6Y5sqbupL4HzQRcm6FGKJb+B/9BWWi7Tifx+JWAAAAAElFTkSuQmCC\"/></td>\n",
       "      <td>chest_cancer</td>\n",
       "    </tr>\n",
       "    <tr>\n",
       "      <th>91</th>\n",
       "      <td>/kaggle/input/chest-ctscan-images/Data/test/adenocarcinoma/000157 (6).png</td>\n",
       "      <td><img src=\"data:image/png;base64,iVBORw0KGgoAAAANSUhEUgAAABwAAAAcCAAAAABXZoBIAAACWklEQVR4nI2SPWgUURSFz73vvfnb2UwyuyGoAcU/jGIKWytTxEWsFVGx01IQGzvRwiK1WIiEmEZshEAUBEFBDAZJShV/sFFRYjbr7mRnZ+fdZ5EYsPPA4XA4nO4DAADEBBAxbdS/uaWa1iFqgA4VANCmAaByqQ9TKucEVrdmyAHkNkZyl912ZbK1xoL440s//ClyW8/6+b1zzxu7iSEOlobW5j8AIA0A0bl91yTc5Qa9jqI8p2eNxkoT5BgALvrXS78vcUxJBaJp/H2yl8iBAZrENh7KKA3gaXFxEFUrlaOxYzCoeiDtDnUNKtwvmz2jA8r826pNAoYbhb2TR7Vqz/NyDomR+HByxYE0aBLU62sETU2lsdqpbyWd4Z4Ry3CSjERme0mPWbqt9dL+1swYQ+TAIFKpjAzHX1u5b+NXPRMFCMOUjYDhDL0z7besi9u30s6bIlfFjpH2sh4kMFTBXl6OrnkTHudevddWNep7HHysgOGcHPMtBflLreJ6/jQVEnkiLWRgGvBlrihXjp9gd1bnwXqTc1m/qkklYMoiKQKTzX+yZ/b7tlPc+c7y4HO7Y1tgsTcyOat8pGa4CDkYi2anZ/Z07D0CGAKbKhTmXeuUVhPyVvl97+CAAwjMwKOmuVnt1aLFw+XrkKLK7tNxe5pIoKW+8mXoV35l9WeybB1mOy+I866ssgAEeNqe3Jnmpiz174QVdzNeWpTuJiZ3rxZu9OJqbogsFUk55R1SC1tURtGRhxNJXI3jaGAguXB/Z7xJ80aEcFAlORLWsF38MwKxgwCkHDr4L/0BSYz5+W9FPRIAAAAASUVORK5CYII=\"/></td>\n",
       "      <td>chest_cancer</td>\n",
       "    </tr>\n",
       "    <tr>\n",
       "      <th>92</th>\n",
       "      <td>/kaggle/input/chest-ctscan-images/Data/test/adenocarcinoma/000158 (2).png</td>\n",
       "      <td><img src=\"data:image/png;base64,iVBORw0KGgoAAAANSUhEUgAAABwAAAAcCAAAAABXZoBIAAACUklEQVR4nI1SO2gUYRD+5v/3383t3u7lLrmLxleMJJVBbaNgZxURBDWgwSI2PiBJZyUIvqqIqFiIiNpEUCxEgoWQxiqFWMRHtBQkL+/h7e3ePv6xuCMeVn7FDMw3883AfABAIACt0M6io0IMoPALeYnAKgMMgMAGAAgNspLISMpwQUYswK2GtpJnZiWAjEAH2osyQfdMhXl1jq9U4N5lX/8ls/WtJwq+kvWeRlbXjFDetnwALZk6xos6Z6f5ATupFZTnTfubk3bjQh/qo5eM8ExxcTGeSHvD9FbSmixosjgqXBTNk9vMQ+f46f6A/QwIAnCrDILzWBnmEIGcXTwdahbEEICZetDReq0RjEW1qMlj6HMkhwwhIDdofUY6b7eogc/S7pLCylXLVemBtLBScJa9tFaVxS9KaRHrxHheEGuCIZoAWUW53Iyou1RPoI1nUkvYx3XrWp6I9bu+fl44YFlkVnIhFKkRQTBgJISRpeGVwD27JptY+BYYSUQIejZYIAHLpegw94+771+n1tCpTLHL1Ile1xBAHkuxSth9dD88YicL0Uh18Hwkf7BFAqhg3sAO+6u5J+wxX/pvPrjLQ/v8OTgsACZRpdWMWfqurHiUyG7aHz9ZQLl1Lc8qOVkIDz7YuVLKpuRcRu0qUfsrlrCnoCpTD9N+tbaob7yIruteP2g/e/dPnM57pGMnlt7wvH3Tgvq9aZO9x2Y5HT2aRImhomsq3X5nrMNLWXvw1WTedXN5r3TvieN1GgxAhigxSFMsBbjxDwlbpiI2WCVUx3/gD0qQ8Okr3zbDAAAAAElFTkSuQmCC\"/></td>\n",
       "      <td>chest_cancer</td>\n",
       "    </tr>\n",
       "    <tr>\n",
       "      <th>93</th>\n",
       "      <td>/kaggle/input/chest-ctscan-images/Data/test/adenocarcinoma/000158 (3).png</td>\n",
       "      <td><img src=\"data:image/png;base64,iVBORw0KGgoAAAANSUhEUgAAABwAAAAcCAAAAABXZoBIAAACrElEQVR4nFWRz2tcVRzFz/d77/sxeTOZzqSTSZNgSEnz0yJFiymIYPyxCCikdSFBsCktLaUWEvoH1C7caCh14aYEEYKNSCAFaUUhG/HXStGEpK2IbaiEmHSm782befPeu/d2ERr0szmLcw5ncYD/QwQABNCu7JLLHfsmbItslTFbe0kAIIPj5axLwSdqBqlKb/j/MYHClBep1oEVym/Cq2RnYwCABAB0TLR+7IihZ4bin5bSd3NNL95rkpl6eUapQpSI17vX/pDVC9UvtwCAAcAtXtSOGI7FW13Z0be94qyblp+aZmK/Q/HQL/qdXmXBG9vJ0HvB081s97XIVnesZrmRJ0hndGCzQ3ghwCDU3dRhJusl8oRS2naqi/1TCoCE8U6plGA4djglhEJvV91AmEIFDBwFjGbLaD+tU5qzrI0f4/veOQkwcs8VjXQHdeuzf9Y8wcRq29GL0hsrQKI7qwOtt/Ky7wWHNFN9bjq62ZNwV7bC7qugk6YZVf3bSy5DRN+/b5qTJSvyhsGRqKFKdi0RYEWi9tmGkYV4MEpUf5HBnlkQHp1V6vmlv//5qPugNoo0C9KPGCmpYjGSXzRP/G7K+7B6WBDElhhk2caQ0L07/Ebd/jrYEVxKlxsQP+xP/qJ8k3G1EZZJ3bLVGT3hwxft33713UofDerZUAKtapmSYpC52jO+mmfzW6aWix7yehQSA5d960120th+cC9oGG0CN3Z8K/2ccgxgzn4NjRYLskH+gFHIY1HVg4rxGUDorHvVIIk0nNIYk7ttNjhzHbuXmSv+eUuQffBxbdVyWnK9k2vuB4bbQJn2+0B2Ovr353Ev6ZR3s4a0EB9K1AHaZ5pwHp/uMAJJ2FljAxXOh+i59OunIPfIi/M18MgrBg5Ci23M7RwYKS3oQyt4As9mH80Dxo7rAAAAAElFTkSuQmCC\"/></td>\n",
       "      <td>chest_cancer</td>\n",
       "    </tr>\n",
       "    <tr>\n",
       "      <th>94</th>\n",
       "      <td>/kaggle/input/chest-ctscan-images/Data/test/adenocarcinoma/000158 (5).png</td>\n",
       "      <td><img src=\"data:image/png;base64,iVBORw0KGgoAAAANSUhEUgAAABwAAAAcCAAAAABXZoBIAAACS0lEQVR4nG2SS0hUcRTGv3Pue+beeSYzNI6paWFBtjMK1yK06QEiRRAILVq2Dtq3CBRCoUWrchMEvRZCUIvIDNpEoAhmmpoy3Enn3jtz79z/v80kk3Y255zvcM7ifD8AIIBwKA5IfKgACGAQClDMZKpgKNl9nVq5J3AVBGYDMQo1s9J+Oa80rwmQJHAsxfOa8rttaE5IeQTlijewxT+DkGYyVQBEALLBTc70bdQtcnffbtrB7Wo8q1Ramx1j7LzYlkK9mrciuTi/827anGoCYBBdAPgXBY0bhiWYT+3RcEeUzgJgJLKdlHkUNJB08iKOdDGocVNMuAAY+rhIHQ2AxB0DQk2Ecj6hzdh+rgNgRILU0/msEi5J8gUkKAwVPRqPAU7VQOJ15On6m1rkcCxj9tVIqgIABwwj1sJ0k2hbIbkbTGrFLl0VqAMcMSVFvQkjHRX8GrwnJWt0gyIb0gSjqYj+6516T/bWtFekpA8x6xhpDU0VDKyItcdxoJUXcoNe6unAsQb2jO0GhAcGXrnucK++eULv81KU7f5cPs6XLetjLMGAJGPuSslZ6Drpr/OvVbm1bOxx9UvL9Ie++mkod84xw5H1sS1LLd7NuMStx1v58yW9f9GEuDgXi9Xi0Ncdnvzrp4EzK5fSoerEuxlZ1Y26/SCQQgIqgEbvcv37N0crJ3OSbF56j0hT9/ZJsO9PrSLXrdk/3FJlTRbP8rM2Om1BoyMvPzSknhrvuudS/R90kxASUrJgIqF4B7lOSgGKiQUH/4U+AcBv6/8AJKjux4IrC9YAAAAASUVORK5CYII=\"/></td>\n",
       "      <td>chest_cancer</td>\n",
       "    </tr>\n",
       "    <tr>\n",
       "      <th>95</th>\n",
       "      <td>/kaggle/input/chest-ctscan-images/Data/test/adenocarcinoma/000158 (6).png</td>\n",
       "      <td><img src=\"data:image/png;base64,iVBORw0KGgoAAAANSUhEUgAAABwAAAAcCAAAAABXZoBIAAACZUlEQVR4nI2SwatUZRjGn+f9vjlnzpw7c2fm3jslRty8lZhFYBlC4KpAULiYkYRmiFEXceMm/wLBaBG0CEWprRsXttGgbYG1MBAVBqy4qY0pdu/cmTkz55zvfVt4Rdz1Wz4/eFY/Yh1a6pJ/Yiucq99/vAGAU9AvDYU6lU+E+OVGDoBGADTAH0ZHFWSZ1e/78lsFDR6Age6wdrIz/ODV5rXvsiPBp2sgjI/eqwdnl38sNt7dd8EPKR8GOQsDBADgPqptvJjb7b3Ym7cRzrflGMF1eUQWTiaVyvaXEsc1X0m/d5M2DAKg+ZnWbhhC5Tl9dnZfvJvDey/oezEhQON9ZXzdi006ThpSdAuvM46fGATcRPoNb3+8VK3We//mz2xdnCv98YZM3oKH7Zgead/TtmzuR+MWd/0wSGQU2dzrXUErFIjXdGI7o/Svr38f82o2HgQNYSqIjJpSrwbGZVg9U/18Nv3TxxFrKy3Eh7yyiDf0wkCuuN+ev7Qnrc/7cTK/s4aSQTBZxV0mL18eRPVha/NM/6tI8p6p+JXTAuuumOqdxQdX4+LdmaRfjjxPpGKrTQj4c9vydyw78EZnN27NvejNH+rSGb4gAdqn0w46Pwl/N9p/bOq98muWetf/RoUAqUuRSU0r4WGsCbxoyMY/3TQQAGnt/Rq7vIwCWDaKvDwHqAQCeJPjMhSWqwoyB0NwrmA5AAEkikAxmFeAgU6DpzF7FNi2e5RYKknpJDg1BrgQXXnc5VHxJAFAQALOpXjC1GunKiIUCoR+4cvak24BIDUtajtyLi97yhBPS6BRqBgoHOD/8B/IIP/fvcJkwQAAAABJRU5ErkJggg==\"/></td>\n",
       "      <td>chest_cancer</td>\n",
       "    </tr>\n",
       "    <tr>\n",
       "      <th>96</th>\n",
       "      <td>/kaggle/input/chest-ctscan-images/Data/test/adenocarcinoma/000158.png</td>\n",
       "      <td><img src=\"data:image/png;base64,iVBORw0KGgoAAAANSUhEUgAAABwAAAAcCAAAAABXZoBIAAACZElEQVR4nI3Su2sUYRQF8HPvzOzMbPZtNuYh0QR1ESWKoDaiaVLqn6FWa1AbIQEfoCLGIjYiiAELK9HGIiCIEiQa0CKCIoYkRCObzWZ39jW78/iuhShr5+nO4ZQ/gNARxr8dAHVO9PcGAgmAmG+4poo7nNTWQYZHEJAQQGLfcARMAc1nclA2WQ++eSAIQbOnKpqrCEJRlzkIhUkp/V4RINhXxY/XPSNrtq2ind1AEUIWgukiMSahwjYoZ07ceu36m+/OD4JETCtPorMXIcUqmtds5PpsnBqr926Sp6KUKnNCEJpV3N+ncu14xgs9KxUxGX7NuAhuaA031NI7HPoykfE0nwmGqYwIWSGxL4qa3Xe/OkqRHuqKRYeTUjrKzDpirp/pR3ePtubYrHSESijeagrdSur4mWBrXR/bszyc0tk1g0D7YQxUODQaDcYdpcnD5EF78O3t1aVSk7BalYUugQUwdKRBx5hMjV+ykSjMz2SM7UK4DGboGhMaigIzfmlXi56m44svWpLSfFIMLyaqb7FcXfOqTnt/ufwhy4JaZVIETOKUkfdnnj8Jjze3tR+lV0ofl0fsEAKwxkmF79HWil4bDteWa4UThd7SXNsQEHFStlTFu9lvHRrfmzFGz0Ve5fqvd9XfABBCFw2Mb1ix2IEFEACazY7A8a7Izk0QMOT4uNYQM0FKDD1UKGhqqgVj4DMBmJ79tIWe07ubigIx2Fx6tiVDlcejv60l6MLRfCkEhAQEMs8ePtOs/4GYhJLAPnIyY7XK7+dcGKraoRRJEVa+DiEA0JxOwgBSikIQCOAK/iO/AGHAE+5abxI9AAAAAElFTkSuQmCC\"/></td>\n",
       "      <td>chest_cancer</td>\n",
       "    </tr>\n",
       "    <tr>\n",
       "      <th>97</th>\n",
       "      <td>/kaggle/input/chest-ctscan-images/Data/test/adenocarcinoma/000160 (4).png</td>\n",
       "      <td><img src=\"data:image/png;base64,iVBORw0KGgoAAAANSUhEUgAAABwAAAAcCAAAAABXZoBIAAACaUlEQVR4nG2Sv2tTURTHz7n33bxfSd5L8pqhtaE42E5VEDu00EWlk1hRsUIHRR0E/wEF53YUQamjUEQHlw6COCk6WIm1Cop0Ufr7R2Lsy0ua9+69x8FWG/GznfP9cs7yAdgD4S+I+1ZIgOSlKlxmTWmtADDd1meF8bo2JVecTYe6/Zi4SrYTesdfxWqLfZpVtBcisOwFlie71RCtkHJSPt62fyIh/v54nYI7foKj3UJ/+253wKMQAIABAEFA3j0nap3uNBR19r0eIBus3dDGMWEYRiB8U6M0c6WbubPejgnAAAqprOqdkvbPK0ZdJZY2PPsNIcYADKDKLhmL6OyojNNEUyHFha/BZaICMOBUi7MPhewnNC3QpFS0LCBCEQLjTvYac1VC71KTCrVmLFnjOjJvEQOWEoJjj20Zdp+7wkzi8bawD+WtLcGBNas17c3LnVDMWSlTQVR9ypylMcHdyDZ4XgakVaFuOs0M0g94frI+y6csHUFsqM2CNjATJGFxcKp7MOuMfFjkhoHIBbIMq4R1fXQ9OZNZ4wMli83UmkVziHSLOSwsgHTkKFgvNo6kDsbrq+cOlBrFt7qYiWsGbIkc9r50Ijky7atYzNhV0+2n6C7mKwzIn9hYEAMdQeT6/nap0/LzXpNaCBUwADbTQejFpSgpnnDjz0PlLtmH1TnqWgYEABvkjTiVP9zzIH2sLP3hmSR+P4+NXU3Ol1eT2xuYI62RhTo1W1aU/HHInXjyUSvMlawvNSRkF837+wRLY2t4fOHZqjZ7T7mTS9hssy+jESQx1Aw18Pq/nrugueSaGDTgv7jptvEXmWIK7Oda8m8AAAAASUVORK5CYII=\"/></td>\n",
       "      <td>chest_cancer</td>\n",
       "    </tr>\n",
       "    <tr>\n",
       "      <th>98</th>\n",
       "      <td>/kaggle/input/chest-ctscan-images/Data/test/adenocarcinoma/000160 (6).png</td>\n",
       "      <td><img src=\"data:image/png;base64,iVBORw0KGgoAAAANSUhEUgAAABwAAAAcCAAAAABXZoBIAAAB/0lEQVR4nGWSS09UQRCFT1V33+47TwaNCDFGIuIscCGBGBZEE3+FP9UYY4ILReNGjWtDNCNEhQFmbt9HV7kAedamkvNVrc4HEK4OXVjX6ZWQetZ1LUIAOvfAly82awUBklXEmoi2SU8gOVmFbVymZiomF5Ip6fc9AExwukbUdB2sMMJ9UeoAQ98CCK5ZJ0WbNN4ct9RoOtTOIVhH+8cE3qiVw8RynoJNYm33R0RiNZ8qbktCr6O2NbARf9mkXdP389wKUoEnIC9ibDqajvFuP+7vvubqT1uMPgXDi1AV88x+3KEnNs7vjd+aqlCl6BiVZirhsPlq0tZPK680lc7mdans2SiY+mzaEyvNMMvhG57LZNFTqDgBoreWsgmVnjvcbXQh/ZLVEdEbZiCAdkqTvDZyUGhW7ZqcKxiBMrA1FToWs+m500pxI+FRyV8wzdEwABTqchwM8weTQRVX1gwWba1bIALA69YnI8HiyCbtNxpvj4oPCmYAeqB3WVqxGPOc6lFT0O/4WQE56fN5AU+AJDXKTKXI+9OySYGHN7Rdc6EGCFpVZpvkzASCPouAakjCaRt6LpBzAQCIVggmMADi4P7TOwvW9kBgAkCE3Lr++a99YZ1z3JsdDLxz2czyxkX7jKmXH38bTWBnl2ZeRm0uy+tAilMf6+tme4iCiMqz5B+OZe1+HWzKBgAAAABJRU5ErkJggg==\"/></td>\n",
       "      <td>chest_cancer</td>\n",
       "    </tr>\n",
       "    <tr>\n",
       "      <th>99</th>\n",
       "      <td>/kaggle/input/chest-ctscan-images/Data/test/adenocarcinoma/000161 (4).png</td>\n",
       "      <td><img src=\"data:image/png;base64,iVBORw0KGgoAAAANSUhEUgAAABwAAAAcCAAAAABXZoBIAAACTklEQVR4nI2STUuUURiG7+c55/2Yb8dpNCWVsKCoCMRVEC6CtNyU5BdhBNYf6E8EQbQrlSDa1EJpWbSIqFWLoEVQLsrIFpVhM873vO8552mhRrXqWt1wLe+LAAAgIfHDiJWhiCPsQLvDm7fOecuTxklmKfotSYBsPC1FbdxWnqKmMSsNkAAMEoAqk6oY3Qr7+7rVhzivJgEBoCEAEqSz714Gd8YSK0zR5WyFRUDCAID0TCZ+zcpXsTERHpC6lAQABgEYt+Fy5NPoIC5gDNHdDBcBAUMQXOXkq3YHpwtuv6MXTrGjUz4YDHTNxDYMvLLKFPyocyIvUc89xsUOBwaOMXFf71zGjpof5VRy1g9KlBX/PKBJBvKbdmuPm23nPnc1VadxLlC+S8WZKkvCxekwUFr5Jf/Z4s9mINmKeBnpnIIGFwTBekIZ/XBweCSPG6mja+W6L8ZBo15NjD8JG8/tlnvz8VpkDq++D8SyGDADLX7aSx1Bd97PTdc2Fr4NVMszVEQ7FAYe1cx3cUOfqqb/SMKLK5t02nFJaIEZaJDnzsnZqUN7p0vr5nqxceKKX7CtJbEEAPM5APUDtZHH+9YOfq0ZL9mU+Pb22aTnAsuh5qbpX82mmwEakVq021IbNTxkvFggnmEStvF9KOdAAIao7qIY1oojcZaIxRFabRCAhIhRRJbYQbU9J0QAt3YCO75JrLWvSMIWCQtBzNvd8nBSEwEKRFAEzaTwB8kzE4qJlYIi0jcH/+42JDK2py+98aWqQY1/okZKSJwoiKrhf/gFmHkBWgiZwGUAAAAASUVORK5CYII=\"/></td>\n",
       "      <td>chest_cancer</td>\n",
       "    </tr>\n",
       "  </tbody>\n",
       "</table>                          </body>                                                          </html>"
      ],
      "text/plain": [
       "<IPython.core.display.HTML object>"
      ]
     },
     "metadata": {},
     "output_type": "display_data"
    }
   ],
   "source": [
    "train_data_chest.explore()"
   ]
  },
  {
   "cell_type": "code",
   "execution_count": 73,
   "metadata": {},
   "outputs": [],
   "source": [
    "train_data=train_data.append(train_data_chest)"
   ]
  },
  {
   "cell_type": "code",
   "execution_count": 74,
   "metadata": {},
   "outputs": [
    {
     "data": {
      "text/html": [
       "<pre>Materializing SArray</pre>"
      ],
      "text/plain": [
       "Materializing SArray"
      ]
     },
     "metadata": {},
     "output_type": "display_data"
    },
    {
     "data": {
      "text/html": [
       "<html>                 <body>                     <iframe style=\"border:0;margin:0\" width=\"920\" height=\"770\" srcdoc='<html lang=\"en\">                         <head>                             <script src=\"https://cdnjs.cloudflare.com/ajax/libs/vega/5.4.0/vega.js\"></script>                             <script src=\"https://cdnjs.cloudflare.com/ajax/libs/vega-embed/4.0.0/vega-embed.js\"></script>                             <script src=\"https://cdnjs.cloudflare.com/ajax/libs/vega-tooltip/0.5.1/vega-tooltip.min.js\"></script>                             <link rel=\"stylesheet\" type=\"text/css\" href=\"https://cdnjs.cloudflare.com/ajax/libs/vega-tooltip/0.5.1/vega-tooltip.min.css\">                             <style>                             .vega-actions > a{                                 color:white;                                 text-decoration: none;                                 font-family: \"Arial\";                                 cursor:pointer;                                 padding:5px;                                 background:#AAAAAA;                                 border-radius:4px;                                 padding-left:10px;                                 padding-right:10px;                                 margin-right:5px;                             }                             .vega-actions{                                 margin-top:20px;                                 text-align:center                             }                            .vega-actions > a{                                 background:#999999;                            }                             </style>                         </head>                         <body>                             <div id=\"vis\">                             </div>                             <script>                                 var vega_json = \"{\\\"$schema\\\": \\\"https://vega.github.io/schema/vega/v4.json\\\", \\\"autosize\\\": {\\\"type\\\": \\\"fit\\\", \\\"resize\\\": false, \\\"contains\\\": \\\"padding\\\"}, \\\"padding\\\": 8, \\\"metadata\\\": {\\\"bubbleOpts\\\": {\\\"showAllFields\\\": false, \\\"fields\\\": [{\\\"field\\\": \\\"count\\\"}, {\\\"field\\\": \\\"label\\\"}, {\\\"field\\\": \\\"percentage\\\"}]}}, \\\"width\\\": 720, \\\"height\\\": 550, \\\"title\\\": \\\"Distribution of Values [string]\\\", \\\"style\\\": \\\"cell\\\", \\\"data\\\": [{\\\"name\\\": \\\"pts_store_store\\\"}, {\\\"name\\\": \\\"source_2\\\", \\\"values\\\": [{\\\"label\\\": \\\"brain_tumor positif\\\", \\\"label_idx\\\": 0, \\\"count\\\": 1492, \\\"percentage\\\": \\\"59.9678%\\\"}, {\\\"label\\\": \\\"chest_cancer\\\", \\\"label_idx\\\": 1, \\\"count\\\": 996, \\\"percentage\\\": \\\"40.0322%\\\"}]}, {\\\"name\\\": \\\"data_0\\\", \\\"source\\\": \\\"source_2\\\", \\\"transform\\\": [{\\\"type\\\": \\\"formula\\\", \\\"expr\\\": \\\"toNumber(datum[\\\\\\\"count\\\\\\\"])\\\", \\\"as\\\": \\\"count\\\"}, {\\\"type\\\": \\\"filter\\\", \\\"expr\\\": \\\"datum[\\\\\\\"count\\\\\\\"] !== null &amp;&amp; !isNaN(datum[\\\\\\\"count\\\\\\\"])\\\"}]}], \\\"signals\\\": [{\\\"name\\\": \\\"unit\\\", \\\"value\\\": {}, \\\"on\\\": [{\\\"events\\\": \\\"mousemove\\\", \\\"update\\\": \\\"isTuple(group()) ? group() : unit\\\"}]}, {\\\"name\\\": \\\"pts_store\\\", \\\"update\\\": \\\"data(\\\\\\\"pts_store_store\\\\\\\").length &amp;&amp; {count: data(\\\\\\\"pts_store_store\\\\\\\")[0].values[0]}\\\"}, {\\\"name\\\": \\\"pts_store_tuple\\\", \\\"value\\\": {}, \\\"on\\\": [{\\\"events\\\": [{\\\"source\\\": \\\"scope\\\", \\\"type\\\": \\\"click\\\"}], \\\"update\\\": \\\"datum &amp;&amp; item().mark.marktype !== &apos;group&apos; ? {unit: \\\\\\\"\\\\\\\", encodings: [\\\\\\\"x\\\\\\\"], fields: [\\\\\\\"count\\\\\\\"], values: [datum[\\\\\\\"count\\\\\\\"]]} : null\\\", \\\"force\\\": true}]}, {\\\"name\\\": \\\"pts_store_modify\\\", \\\"on\\\": [{\\\"events\\\": {\\\"signal\\\": \\\"pts_store_tuple\\\"}, \\\"update\\\": \\\"modify(\\\\\\\"pts_store_store\\\\\\\", pts_store_tuple, true)\\\"}]}], \\\"marks\\\": [{\\\"name\\\": \\\"marks\\\", \\\"type\\\": \\\"rect\\\", \\\"style\\\": [\\\"bar\\\"], \\\"from\\\": {\\\"data\\\": \\\"data_0\\\"}, \\\"encode\\\": {\\\"hover\\\": {\\\"fill\\\": {\\\"value\\\": \\\"#7EC2F3\\\"}}, \\\"update\\\": {\\\"x\\\": {\\\"scale\\\": \\\"x\\\", \\\"field\\\": \\\"count\\\"}, \\\"x2\\\": {\\\"scale\\\": \\\"x\\\", \\\"value\\\": 0}, \\\"y\\\": {\\\"scale\\\": \\\"y\\\", \\\"field\\\": \\\"label\\\"}, \\\"height\\\": {\\\"scale\\\": \\\"y\\\", \\\"band\\\": true}, \\\"fill\\\": {\\\"value\\\": \\\"#108EE9\\\"}}}}], \\\"scales\\\": [{\\\"name\\\": \\\"x\\\", \\\"type\\\": \\\"linear\\\", \\\"domain\\\": {\\\"data\\\": \\\"data_0\\\", \\\"field\\\": \\\"count\\\"}, \\\"range\\\": [0, {\\\"signal\\\": \\\"width\\\"}], \\\"nice\\\": true, \\\"zero\\\": true}, {\\\"name\\\": \\\"y\\\", \\\"type\\\": \\\"band\\\", \\\"domain\\\": {\\\"data\\\": \\\"data_0\\\", \\\"field\\\": \\\"label\\\", \\\"sort\\\": {\\\"op\\\": \\\"mean\\\", \\\"field\\\": \\\"label_idx\\\", \\\"order\\\": \\\"descending\\\"}}, \\\"range\\\": [{\\\"signal\\\": \\\"height\\\"}, 0], \\\"paddingInner\\\": 0.1, \\\"paddingOuter\\\": 0.05}], \\\"axes\\\": [{\\\"orient\\\": \\\"top\\\", \\\"scale\\\": \\\"x\\\", \\\"labelOverlap\\\": true, \\\"tickCount\\\": {\\\"signal\\\": \\\"ceil(width/40)\\\"}, \\\"title\\\": \\\"Count\\\", \\\"zindex\\\": 1}, {\\\"orient\\\": \\\"top\\\", \\\"scale\\\": \\\"x\\\", \\\"domain\\\": false, \\\"grid\\\": true, \\\"labels\\\": false, \\\"maxExtent\\\": 0, \\\"minExtent\\\": 0, \\\"tickCount\\\": {\\\"signal\\\": \\\"ceil(width/40)\\\"}, \\\"ticks\\\": false, \\\"zindex\\\": 0, \\\"gridScale\\\": \\\"y\\\"}, {\\\"scale\\\": \\\"y\\\", \\\"labelOverlap\\\": true, \\\"orient\\\": \\\"left\\\", \\\"title\\\": \\\"Values\\\", \\\"zindex\\\": 1}], \\\"config\\\": {\\\"axis\\\": {\\\"gridColor\\\": \\\"rgba(204,204,204,1.0)\\\", \\\"labelFont\\\": \\\"\\\\\\\"San Francisco\\\\\\\", HelveticaNeue, Arial\\\", \\\"labelFontSize\\\": 12, \\\"labelPadding\\\": 10, \\\"labelColor\\\": \\\"rgba(0,0,0,0.847)\\\", \\\"tickColor\\\": \\\"rgb(136,136,136)\\\", \\\"titleFont\\\": \\\"\\\\\\\"San Francisco\\\\\\\", HelveticaNeue, Arial\\\", \\\"titleFontWeight\\\": \\\"normal\\\", \\\"titlePadding\\\": 20, \\\"titleFontSize\\\": 14, \\\"titleColor\\\": \\\"rgba(0,0,0,0.847)\\\"}, \\\"axisY\\\": {\\\"minExtent\\\": 30}, \\\"legend\\\": {\\\"labelFont\\\": \\\"\\\\\\\"San Francisco\\\\\\\", HelveticaNeue, Arial\\\", \\\"labelColor\\\": \\\"rgba(0,0,0,0.847)\\\", \\\"titleFont\\\": \\\"\\\\\\\"San Francisco\\\\\\\", HelveticaNeue, Arial\\\", \\\"cornerRadius\\\": 30, \\\"gradientLength\\\": 608, \\\"titleColor\\\": \\\"rgba(0,0,0,0.847)\\\"}, \\\"range\\\": {\\\"heatmap\\\": {\\\"scheme\\\": \\\"greenblue\\\"}}, \\\"style\\\": {\\\"rect\\\": {\\\"stroke\\\": \\\"rgba(200, 200, 200, 0.5)\\\"}, \\\"cell\\\": {\\\"stroke\\\": \\\"transparent\\\"}, \\\"group-title\\\": {\\\"fontSize\\\": 29, \\\"font\\\": \\\"HelveticaNeue, Arial\\\", \\\"fontWeight\\\": \\\"normal\\\", \\\"fill\\\": \\\"rgba(0,0,0,0.65)\\\"}}, \\\"title\\\": {\\\"color\\\": \\\"rgba(0,0,0,0.847)\\\", \\\"font\\\": \\\"\\\\\\\"San Francisco\\\\\\\", HelveticaNeue, Arial\\\", \\\"fontSize\\\": 18, \\\"fontWeight\\\": \\\"normal\\\", \\\"offset\\\": 30}}}\";                                 var vega_json_parsed = JSON.parse(vega_json);                                 var toolTipOpts = {                                     showAllFields: true                                 };                                 if(vega_json_parsed[\"metadata\"] != null){                                     if(vega_json_parsed[\"metadata\"][\"bubbleOpts\"] != null){                                         toolTipOpts = vega_json_parsed[\"metadata\"][\"bubbleOpts\"];                                     };                                 };                                 vegaEmbed(\"#vis\", vega_json_parsed).then(function (result) {                                     vegaTooltip.vega(result.view, toolTipOpts);                                  });                             </script>                         </body>                     </html>' src=\"demo_iframe_srcdoc.htm\">                         <p>Your browser does not support iframes.</p>                     </iframe>                 </body>             </html>"
      ],
      "text/plain": [
       "<IPython.core.display.HTML object>"
      ]
     },
     "metadata": {},
     "output_type": "display_data"
    }
   ],
   "source": [
    "train_data['label'].show()"
   ]
  },
  {
   "cell_type": "markdown",
   "metadata": {},
   "source": [
    "## add covid 19 data set to the global data "
   ]
  },
  {
   "cell_type": "code",
   "execution_count": 75,
   "metadata": {},
   "outputs": [
    {
     "data": {
      "text/html": [
       "<pre>Invalid PNG file\t file: /kaggle/input/covidct/CT_COVID/2020.03.12.20034686-p17-91-1.png</pre>"
      ],
      "text/plain": [
       "Invalid PNG file\t file: /kaggle/input/covidct/CT_COVID/2020.03.12.20034686-p17-91-1.png"
      ]
     },
     "metadata": {},
     "output_type": "display_data"
    },
    {
     "data": {
      "text/html": [
       "<pre>Invalid PNG file\t file: /kaggle/input/covidct/CT_COVID/2020.03.12.20034686-p17-91-2.png</pre>"
      ],
      "text/plain": [
       "Invalid PNG file\t file: /kaggle/input/covidct/CT_COVID/2020.03.12.20034686-p17-91-2.png"
      ]
     },
     "metadata": {},
     "output_type": "display_data"
    },
    {
     "data": {
      "text/html": [
       "<pre>Invalid PNG file\t file: /kaggle/input/covidct/CT_COVID/2020.03.16.20035105-p6-64-1.png</pre>"
      ],
      "text/plain": [
       "Invalid PNG file\t file: /kaggle/input/covidct/CT_COVID/2020.03.16.20035105-p6-64-1.png"
      ]
     },
     "metadata": {},
     "output_type": "display_data"
    },
    {
     "data": {
      "text/html": [
       "<pre>Invalid PNG file\t file: /kaggle/input/covidct/CT_COVID/2020.03.16.20035105-p6-64-2.png</pre>"
      ],
      "text/plain": [
       "Invalid PNG file\t file: /kaggle/input/covidct/CT_COVID/2020.03.16.20035105-p6-64-2.png"
      ]
     },
     "metadata": {},
     "output_type": "display_data"
    },
    {
     "data": {
      "text/html": [
       "<pre>Invalid PNG file\t file: /kaggle/input/covidct/CT_COVID/2020.03.16.20035105-p6-64-3.png</pre>"
      ],
      "text/plain": [
       "Invalid PNG file\t file: /kaggle/input/covidct/CT_COVID/2020.03.16.20035105-p6-64-3.png"
      ]
     },
     "metadata": {},
     "output_type": "display_data"
    },
    {
     "data": {
      "text/html": [
       "<pre>Invalid PNG file\t file: /kaggle/input/covidct/CT_COVID/2020.03.16.20035105-p6-64-4.png</pre>"
      ],
      "text/plain": [
       "Invalid PNG file\t file: /kaggle/input/covidct/CT_COVID/2020.03.16.20035105-p6-64-4.png"
      ]
     },
     "metadata": {},
     "output_type": "display_data"
    },
    {
     "data": {
      "text/html": [
       "<pre>Invalid PNG file\t file: /kaggle/input/covidct/CT_COVID/2020.03.16.20036145-p19-128-1.png</pre>"
      ],
      "text/plain": [
       "Invalid PNG file\t file: /kaggle/input/covidct/CT_COVID/2020.03.16.20036145-p19-128-1.png"
      ]
     },
     "metadata": {},
     "output_type": "display_data"
    },
    {
     "data": {
      "text/html": [
       "<pre>Invalid PNG file\t file: /kaggle/input/covidct/CT_COVID/2020.03.16.20036145-p19-128-2.png</pre>"
      ],
      "text/plain": [
       "Invalid PNG file\t file: /kaggle/input/covidct/CT_COVID/2020.03.16.20036145-p19-128-2.png"
      ]
     },
     "metadata": {},
     "output_type": "display_data"
    },
    {
     "data": {
      "text/html": [
       "<pre>Invalid PNG file\t file: /kaggle/input/covidct/CT_COVID/2020.03.16.20036145-p19-128-3.png</pre>"
      ],
      "text/plain": [
       "Invalid PNG file\t file: /kaggle/input/covidct/CT_COVID/2020.03.16.20036145-p19-128-3.png"
      ]
     },
     "metadata": {},
     "output_type": "display_data"
    },
    {
     "data": {
      "text/html": [
       "<pre>Invalid PNG file\t file: /kaggle/input/covidct/CT_COVID/2020.03.16.20036145-p19-128-4.png</pre>"
      ],
      "text/plain": [
       "Invalid PNG file\t file: /kaggle/input/covidct/CT_COVID/2020.03.16.20036145-p19-128-4.png"
      ]
     },
     "metadata": {},
     "output_type": "display_data"
    },
    {
     "data": {
      "text/html": [
       "<pre>Invalid PNG file\t file: /kaggle/input/covidct/CT_COVID/2020.03.18.20038125-p15-54-2.png</pre>"
      ],
      "text/plain": [
       "Invalid PNG file\t file: /kaggle/input/covidct/CT_COVID/2020.03.18.20038125-p15-54-2.png"
      ]
     },
     "metadata": {},
     "output_type": "display_data"
    },
    {
     "data": {
      "text/html": [
       "<pre>Invalid PNG file\t file: /kaggle/input/covidct/CT_COVID/2020.03.18.20038125-p15-54-4.png</pre>"
      ],
      "text/plain": [
       "Invalid PNG file\t file: /kaggle/input/covidct/CT_COVID/2020.03.18.20038125-p15-54-4.png"
      ]
     },
     "metadata": {},
     "output_type": "display_data"
    },
    {
     "data": {
      "text/html": [
       "<pre>Invalid PNG file\t file: /kaggle/input/covidct/CT_COVID/2020.03.18.20038125-p15-54-5.png</pre>"
      ],
      "text/plain": [
       "Invalid PNG file\t file: /kaggle/input/covidct/CT_COVID/2020.03.18.20038125-p15-54-5.png"
      ]
     },
     "metadata": {},
     "output_type": "display_data"
    },
    {
     "data": {
      "text/html": [
       "<pre>Invalid PNG file\t file: /kaggle/input/covidct/CT_COVID/2020.03.18.20038125-p15-54-6.png</pre>"
      ],
      "text/plain": [
       "Invalid PNG file\t file: /kaggle/input/covidct/CT_COVID/2020.03.18.20038125-p15-54-6.png"
      ]
     },
     "metadata": {},
     "output_type": "display_data"
    },
    {
     "data": {
      "text/html": [
       "<pre>Invalid PNG file\t file: /kaggle/input/covidct/CT_COVID/2020.03.18.20038125-p16-56-1.png</pre>"
      ],
      "text/plain": [
       "Invalid PNG file\t file: /kaggle/input/covidct/CT_COVID/2020.03.18.20038125-p16-56-1.png"
      ]
     },
     "metadata": {},
     "output_type": "display_data"
    },
    {
     "data": {
      "text/html": [
       "<pre>Invalid PNG file\t file: /kaggle/input/covidct/CT_COVID/2020.03.18.20038125-p16-56-2.png</pre>"
      ],
      "text/plain": [
       "Invalid PNG file\t file: /kaggle/input/covidct/CT_COVID/2020.03.18.20038125-p16-56-2.png"
      ]
     },
     "metadata": {},
     "output_type": "display_data"
    },
    {
     "data": {
      "text/html": [
       "<pre>Invalid PNG file\t file: /kaggle/input/covidct/CT_COVID/2020.03.18.20038125-p16-56-3.png</pre>"
      ],
      "text/plain": [
       "Invalid PNG file\t file: /kaggle/input/covidct/CT_COVID/2020.03.18.20038125-p16-56-3.png"
      ]
     },
     "metadata": {},
     "output_type": "display_data"
    },
    {
     "data": {
      "text/html": [
       "<pre>Invalid PNG file\t file: /kaggle/input/covidct/CT_COVID/2020.03.18.20038125-p16-56-4.png</pre>"
      ],
      "text/plain": [
       "Invalid PNG file\t file: /kaggle/input/covidct/CT_COVID/2020.03.18.20038125-p16-56-4.png"
      ]
     },
     "metadata": {},
     "output_type": "display_data"
    },
    {
     "data": {
      "text/html": [
       "<pre>Invalid PNG file\t file: /kaggle/input/covidct/CT_COVID/2020.03.18.20038125-p16-56-5.png</pre>"
      ],
      "text/plain": [
       "Invalid PNG file\t file: /kaggle/input/covidct/CT_COVID/2020.03.18.20038125-p16-56-5.png"
      ]
     },
     "metadata": {},
     "output_type": "display_data"
    },
    {
     "data": {
      "text/html": [
       "<pre>Invalid PNG file\t file: /kaggle/input/covidct/CT_COVID/2020.03.18.20038125-p16-56-6.png</pre>"
      ],
      "text/plain": [
       "Invalid PNG file\t file: /kaggle/input/covidct/CT_COVID/2020.03.18.20038125-p16-56-6.png"
      ]
     },
     "metadata": {},
     "output_type": "display_data"
    },
    {
     "data": {
      "text/html": [
       "<pre>Invalid PNG file\t file: /kaggle/input/covidct/CT_COVID/2020.03.21.20040691-p18-6-6.png</pre>"
      ],
      "text/plain": [
       "Invalid PNG file\t file: /kaggle/input/covidct/CT_COVID/2020.03.21.20040691-p18-6-6.png"
      ]
     },
     "metadata": {},
     "output_type": "display_data"
    },
    {
     "data": {
      "text/html": [
       "<pre>Invalid PNG file\t file: /kaggle/input/covidct/CT_COVID/2020.03.21.20040691-p18-67-1.png</pre>"
      ],
      "text/plain": [
       "Invalid PNG file\t file: /kaggle/input/covidct/CT_COVID/2020.03.21.20040691-p18-67-1.png"
      ]
     },
     "metadata": {},
     "output_type": "display_data"
    },
    {
     "data": {
      "text/html": [
       "<pre>Invalid PNG file\t file: /kaggle/input/covidct/CT_COVID/2020.03.21.20040691-p18-67-2.png</pre>"
      ],
      "text/plain": [
       "Invalid PNG file\t file: /kaggle/input/covidct/CT_COVID/2020.03.21.20040691-p18-67-2.png"
      ]
     },
     "metadata": {},
     "output_type": "display_data"
    },
    {
     "data": {
      "text/html": [
       "<pre>Invalid PNG file\t file: /kaggle/input/covidct/CT_COVID/2020.03.21.20040691-p18-67-3.png</pre>"
      ],
      "text/plain": [
       "Invalid PNG file\t file: /kaggle/input/covidct/CT_COVID/2020.03.21.20040691-p18-67-3.png"
      ]
     },
     "metadata": {},
     "output_type": "display_data"
    },
    {
     "data": {
      "text/html": [
       "<pre>Invalid PNG file\t file: /kaggle/input/covidct/CT_COVID/2020.03.21.20040691-p18-67-4.png</pre>"
      ],
      "text/plain": [
       "Invalid PNG file\t file: /kaggle/input/covidct/CT_COVID/2020.03.21.20040691-p18-67-4.png"
      ]
     },
     "metadata": {},
     "output_type": "display_data"
    },
    {
     "data": {
      "text/html": [
       "<pre>Invalid PNG file\t file: /kaggle/input/covidct/CT_COVID/2020.03.21.20040691-p18-67-5.png</pre>"
      ],
      "text/plain": [
       "Invalid PNG file\t file: /kaggle/input/covidct/CT_COVID/2020.03.21.20040691-p18-67-5.png"
      ]
     },
     "metadata": {},
     "output_type": "display_data"
    },
    {
     "data": {
      "text/html": [
       "<pre>Invalid PNG file\t file: /kaggle/input/covidct/CT_COVID/2020.03.21.20040691-p18-67-7.png</pre>"
      ],
      "text/plain": [
       "Invalid PNG file\t file: /kaggle/input/covidct/CT_COVID/2020.03.21.20040691-p18-67-7.png"
      ]
     },
     "metadata": {},
     "output_type": "display_data"
    },
    {
     "data": {
      "text/html": [
       "<pre>Invalid PNG file\t file: /kaggle/input/covidct/CT_COVID/2020.03.21.20040691-p18-67-8.png</pre>"
      ],
      "text/plain": [
       "Invalid PNG file\t file: /kaggle/input/covidct/CT_COVID/2020.03.21.20040691-p18-67-8.png"
      ]
     },
     "metadata": {},
     "output_type": "display_data"
    },
    {
     "data": {
      "text/html": [
       "<pre>Invalid PNG file\t file: /kaggle/input/covidct/CT_COVID/2020.03.22.20034041-p16-66.png</pre>"
      ],
      "text/plain": [
       "Invalid PNG file\t file: /kaggle/input/covidct/CT_COVID/2020.03.22.20034041-p16-66.png"
      ]
     },
     "metadata": {},
     "output_type": "display_data"
    },
    {
     "data": {
      "text/html": [
       "<pre>Invalid PNG file\t file: /kaggle/input/covidct/CT_COVID/2020.03.22.20034041-p17-80-1.png</pre>"
      ],
      "text/plain": [
       "Invalid PNG file\t file: /kaggle/input/covidct/CT_COVID/2020.03.22.20034041-p17-80-1.png"
      ]
     },
     "metadata": {},
     "output_type": "display_data"
    },
    {
     "data": {
      "text/html": [
       "<pre>Invalid PNG file\t file: /kaggle/input/covidct/CT_COVID/2020.03.22.20034041-p17-80-2.png</pre>"
      ],
      "text/plain": [
       "Invalid PNG file\t file: /kaggle/input/covidct/CT_COVID/2020.03.22.20034041-p17-80-2.png"
      ]
     },
     "metadata": {},
     "output_type": "display_data"
    },
    {
     "data": {
      "text/html": [
       "<pre>Invalid PNG file\t file: /kaggle/input/covidct/CT_COVID/2020.03.22.20034041-p18-92-1.png</pre>"
      ],
      "text/plain": [
       "Invalid PNG file\t file: /kaggle/input/covidct/CT_COVID/2020.03.22.20034041-p18-92-1.png"
      ]
     },
     "metadata": {},
     "output_type": "display_data"
    },
    {
     "data": {
      "text/html": [
       "<pre>Invalid PNG file\t file: /kaggle/input/covidct/CT_COVID/2020.03.22.20034041-p18-92-2.png</pre>"
      ],
      "text/plain": [
       "Invalid PNG file\t file: /kaggle/input/covidct/CT_COVID/2020.03.22.20034041-p18-92-2.png"
      ]
     },
     "metadata": {},
     "output_type": "display_data"
    },
    {
     "data": {
      "text/html": [
       "<pre>Invalid PNG file\t file: /kaggle/input/covidct/CT_COVID/2020.03.22.20034041-p18-92-3.png</pre>"
      ],
      "text/plain": [
       "Invalid PNG file\t file: /kaggle/input/covidct/CT_COVID/2020.03.22.20034041-p18-92-3.png"
      ]
     },
     "metadata": {},
     "output_type": "display_data"
    }
   ],
   "source": [
    "\n",
    "# Load images \n",
    "train_data_covid = tc.image_analysis.load_images('../input/covidct', with_path=True)\n",
    "image_sarray = train_data_covid[\"image\"]\n",
    "resized_images = tc.image_analysis.resize(image_sarray, 28, 28, 1)\n",
    "train_data_covid['image']=resized_images\n",
    "\n",
    "# From the path-name, create a label column\n",
    "train_data_covid['label'] = train_data_covid['path'].apply(lambda path: 'covid_19 positif' if '/CT_COVID' in path else 'covid_&9 negatif')\n",
    "\n",
    "\n",
    "\n",
    "# Save the data for future use\n",
    "train_data_covid.save('/content/covid.sframe')\n",
    "\n"
   ]
  },
  {
   "cell_type": "code",
   "execution_count": 76,
   "metadata": {},
   "outputs": [
    {
     "data": {
      "text/html": [
       "<pre>Materializing SFrame</pre>"
      ],
      "text/plain": [
       "Materializing SFrame"
      ]
     },
     "metadata": {},
     "output_type": "display_data"
    },
    {
     "data": {
      "text/html": [
       "<pre>Warning: Skipping column 'image'. Unable to show columns of type 'image'; only [int, float, str] can be shown.</pre>"
      ],
      "text/plain": [
       "Warning: Skipping column 'image'. Unable to show columns of type 'image'; only [int, float, str] can be shown."
      ]
     },
     "metadata": {},
     "output_type": "display_data"
    },
    {
     "data": {
      "text/html": [
       "<pre>Further warnings of unsupported type will be suppressed.</pre>"
      ],
      "text/plain": [
       "Further warnings of unsupported type will be suppressed."
      ]
     },
     "metadata": {},
     "output_type": "display_data"
    },
    {
     "data": {
      "text/html": [
       "<html>                 <body>                     <iframe style=\"border:0;margin:0\" width=\"1000\" height=\"900\" srcdoc='<html lang=\"en\">                         <head>                             <script src=\"https://cdnjs.cloudflare.com/ajax/libs/vega/5.4.0/vega.js\"></script>                             <script src=\"https://cdnjs.cloudflare.com/ajax/libs/vega-embed/4.0.0/vega-embed.js\"></script>                             <script src=\"https://cdnjs.cloudflare.com/ajax/libs/vega-tooltip/0.5.1/vega-tooltip.min.js\"></script>                             <link rel=\"stylesheet\" type=\"text/css\" href=\"https://cdnjs.cloudflare.com/ajax/libs/vega-tooltip/0.5.1/vega-tooltip.min.css\">                             <style>                             .vega-actions > a{                                 color:white;                                 text-decoration: none;                                 font-family: \"Arial\";                                 cursor:pointer;                                 padding:5px;                                 background:#AAAAAA;                                 border-radius:4px;                                 padding-left:10px;                                 padding-right:10px;                                 margin-right:5px;                             }                             .vega-actions{                                 margin-top:20px;                                 text-align:center                             }                            .vega-actions > a{                                 background:#999999;                            }                             </style>                         </head>                         <body>                             <div id=\"vis\">                             </div>                             <script>                                 var vega_json = \"{\\\"$schema\\\": \\\"https://vega.github.io/schema/vega/v4.json\\\", \\\"metadata\\\": {\\\"bubbleOpts\\\": {\\\"showAllFields\\\": false, \\\"fields\\\": [{\\\"field\\\": \\\"left\\\"}, {\\\"field\\\": \\\"right\\\"}, {\\\"field\\\": \\\"count\\\"}, {\\\"field\\\": \\\"label\\\"}]}}, \\\"width\\\": 800, \\\"height\\\": 680, \\\"padding\\\": 8, \\\"data\\\": [{\\\"name\\\": \\\"pts_store\\\"}, {\\\"name\\\": \\\"source_2\\\", \\\"values\\\": [{\\\"a\\\": 0, \\\"title\\\": \\\"path\\\", \\\"num_row\\\": 712, \\\"type\\\": \\\"str\\\", \\\"num_unique\\\": 712, \\\"num_missing\\\": 0, \\\"categorical\\\": [{\\\"label\\\": \\\"/kaggle/input/covidct/CT_COVID/2019-novel-Coronavirus-severe-adult-respiratory-dist_2020_International-Jour-p3-89%0.png\\\", \\\"label_idx\\\": 0, \\\"count\\\": 1, \\\"percentage\\\": \\\"0.140449%\\\"}, {\\\"label\\\": \\\"/kaggle/input/covidct/CT_COVID/2019-novel-Coronavirus-severe-adult-respiratory-dist_2020_International-Jour-p3-89%1.png\\\", \\\"label_idx\\\": 1, \\\"count\\\": 1, \\\"percentage\\\": \\\"0.140449%\\\"}, {\\\"label\\\": \\\"/kaggle/input/covidct/CT_COVID/2019-novel-Coronavirus-severe-adult-respiratory-dist_2020_International-Jour-p3-91.png\\\", \\\"label_idx\\\": 2, \\\"count\\\": 1, \\\"percentage\\\": \\\"0.140449%\\\"}, {\\\"label\\\": \\\"/kaggle/input/covidct/CT_COVID/2020.01.24.919183-p27-132.png\\\", \\\"label_idx\\\": 3, \\\"count\\\": 1, \\\"percentage\\\": \\\"0.140449%\\\"}, {\\\"label\\\": \\\"/kaggle/input/covidct/CT_COVID/2020.01.24.919183-p27-133.png\\\", \\\"label_idx\\\": 4, \\\"count\\\": 1, \\\"percentage\\\": \\\"0.140449%\\\"}, {\\\"label\\\": \\\"/kaggle/input/covidct/CT_COVID/2020.01.24.919183-p27-134.png\\\", \\\"label_idx\\\": 5, \\\"count\\\": 1, \\\"percentage\\\": \\\"0.140449%\\\"}, {\\\"label\\\": \\\"/kaggle/input/covidct/CT_COVID/2020.01.24.919183-p27-135.png\\\", \\\"label_idx\\\": 6, \\\"count\\\": 1, \\\"percentage\\\": \\\"0.140449%\\\"}, {\\\"label\\\": \\\"/kaggle/input/covidct/CT_COVID/2020.02.10.20021584-p6-52%0.png\\\", \\\"label_idx\\\": 7, \\\"count\\\": 1, \\\"percentage\\\": \\\"0.140449%\\\"}, {\\\"label\\\": \\\"/kaggle/input/covidct/CT_COVID/2020.02.10.20021584-p6-52%1.png\\\", \\\"label_idx\\\": 8, \\\"count\\\": 1, \\\"percentage\\\": \\\"0.140449%\\\"}, {\\\"label\\\": \\\"/kaggle/input/covidct/CT_COVID/2020.02.10.20021584-p6-52%10.png\\\", \\\"label_idx\\\": 9, \\\"count\\\": 1, \\\"percentage\\\": \\\"0.140449%\\\"}, {\\\"label\\\": \\\"Other (702 labels)\\\", \\\"label_idx\\\": 10, \\\"count\\\": 702, \\\"percentage\\\": \\\"98.5955%\\\"}], \\\"numeric\\\": []}, {\\\"a\\\": 1, \\\"title\\\": \\\"label\\\", \\\"num_row\\\": 712, \\\"type\\\": \\\"str\\\", \\\"num_unique\\\": 2, \\\"num_missing\\\": 0, \\\"categorical\\\": [{\\\"label\\\": \\\"covid_&amp;9 negatif\\\", \\\"label_idx\\\": 0, \\\"count\\\": 397, \\\"percentage\\\": \\\"55.7584%\\\"}, {\\\"label\\\": \\\"covid_19 positif\\\", \\\"label_idx\\\": 1, \\\"count\\\": 315, \\\"percentage\\\": \\\"44.2416%\\\"}], \\\"numeric\\\": []}]}, {\\\"name\\\": \\\"data_2\\\", \\\"source\\\": \\\"source_2\\\", \\\"transform\\\": [{\\\"type\\\": \\\"formula\\\", \\\"expr\\\": \\\"20\\\", \\\"as\\\": \\\"c_x_axis_back\\\"}, {\\\"type\\\": \\\"formula\\\", \\\"expr\\\": \\\"toNumber(datum[\\\\\\\"a\\\\\\\"])*300+66\\\", \\\"as\\\": \\\"c_main_background\\\"}, {\\\"type\\\": \\\"formula\\\", \\\"expr\\\": \\\"toNumber(datum[\\\\\\\"a\\\\\\\"])*300+43\\\", \\\"as\\\": \\\"c_top_bar\\\"}, {\\\"type\\\": \\\"formula\\\", \\\"expr\\\": \\\"toNumber(datum[\\\\\\\"a\\\\\\\"])*300+59\\\", \\\"as\\\": \\\"c_top_title\\\"}, {\\\"type\\\": \\\"formula\\\", \\\"expr\\\": \\\"toNumber(datum[\\\\\\\"a\\\\\\\"])*300+58\\\", \\\"as\\\": \\\"c_top_type\\\"}, {\\\"type\\\": \\\"formula\\\", \\\"expr\\\": \\\"toNumber(datum[\\\\\\\"a\\\\\\\"])*300+178\\\", \\\"as\\\": \\\"c_rule\\\"}, {\\\"type\\\": \\\"formula\\\", \\\"expr\\\": \\\"toNumber(datum[\\\\\\\"a\\\\\\\"])*300+106\\\", \\\"as\\\": \\\"c_num_rows\\\"}, {\\\"type\\\": \\\"formula\\\", \\\"expr\\\": \\\"toNumber(datum[\\\\\\\"a\\\\\\\"])*300+130\\\", \\\"as\\\": \\\"c_num_unique\\\"}, {\\\"type\\\": \\\"formula\\\", \\\"expr\\\": \\\"toNumber(datum[\\\\\\\"a\\\\\\\"])*300+154\\\", \\\"as\\\": \\\"c_missing\\\"}, {\\\"type\\\": \\\"formula\\\", \\\"expr\\\": \\\"toNumber(datum[\\\\\\\"a\\\\\\\"])*300+105\\\", \\\"as\\\": \\\"c_num_rows_val\\\"}, {\\\"type\\\": \\\"formula\\\", \\\"expr\\\": \\\"toNumber(datum[\\\\\\\"a\\\\\\\"])*300+130\\\", \\\"as\\\": \\\"c_num_unique_val\\\"}, {\\\"type\\\": \\\"formula\\\", \\\"expr\\\": \\\"toNumber(datum[\\\\\\\"a\\\\\\\"])*300+154\\\", \\\"as\\\": \\\"c_missing_val\\\"}, {\\\"type\\\": \\\"formula\\\", \\\"expr\\\": \\\"toNumber(datum[\\\\\\\"a\\\\\\\"])*300+195\\\", \\\"as\\\": \\\"c_frequent_items\\\"}, {\\\"type\\\": \\\"formula\\\", \\\"expr\\\": \\\"toNumber(datum[\\\\\\\"a\\\\\\\"])*300+218\\\", \\\"as\\\": \\\"c_first_item\\\"}, {\\\"type\\\": \\\"formula\\\", \\\"expr\\\": \\\"toNumber(datum[\\\\\\\"a\\\\\\\"])*300+235\\\", \\\"as\\\": \\\"c_second_item\\\"}, {\\\"type\\\": \\\"formula\\\", \\\"expr\\\": \\\"toNumber(datum[\\\\\\\"a\\\\\\\"])*300+252\\\", \\\"as\\\": \\\"c_third_item\\\"}, {\\\"type\\\": \\\"formula\\\", \\\"expr\\\": \\\"toNumber(datum[\\\\\\\"a\\\\\\\"])*300+269\\\", \\\"as\\\": \\\"c_fourth_item\\\"}, {\\\"type\\\": \\\"formula\\\", \\\"expr\\\": \\\"toNumber(datum[\\\\\\\"a\\\\\\\"])*300+286\\\", \\\"as\\\": \\\"c_fifth_item\\\"}, {\\\"type\\\": \\\"formula\\\", \\\"expr\\\": \\\"toNumber(datum[\\\\\\\"a\\\\\\\"])*300+200\\\", \\\"as\\\": \\\"c_mean\\\"}, {\\\"type\\\": \\\"formula\\\", \\\"expr\\\": \\\"toNumber(datum[\\\\\\\"a\\\\\\\"])*300+220\\\", \\\"as\\\": \\\"c_min\\\"}, {\\\"type\\\": \\\"formula\\\", \\\"expr\\\": \\\"toNumber(datum[\\\\\\\"a\\\\\\\"])*300+240\\\", \\\"as\\\": \\\"c_max\\\"}, {\\\"type\\\": \\\"formula\\\", \\\"expr\\\": \\\"toNumber(datum[\\\\\\\"a\\\\\\\"])*300+260\\\", \\\"as\\\": \\\"c_median\\\"}, {\\\"type\\\": \\\"formula\\\", \\\"expr\\\": \\\"toNumber(datum[\\\\\\\"a\\\\\\\"])*300+280\\\", \\\"as\\\": \\\"c_stdev\\\"}, {\\\"type\\\": \\\"formula\\\", \\\"expr\\\": \\\"toNumber(datum[\\\\\\\"a\\\\\\\"])*300+198\\\", \\\"as\\\": \\\"c_mean_val\\\"}, {\\\"type\\\": \\\"formula\\\", \\\"expr\\\": \\\"toNumber(datum[\\\\\\\"a\\\\\\\"])*300+218\\\", \\\"as\\\": \\\"c_min_val\\\"}, {\\\"type\\\": \\\"formula\\\", \\\"expr\\\": \\\"toNumber(datum[\\\\\\\"a\\\\\\\"])*300+238\\\", \\\"as\\\": \\\"c_max_val\\\"}, {\\\"type\\\": \\\"formula\\\", \\\"expr\\\": \\\"toNumber(datum[\\\\\\\"a\\\\\\\"])*300+258\\\", \\\"as\\\": \\\"c_median_val\\\"}, {\\\"type\\\": \\\"formula\\\", \\\"expr\\\": \\\"toNumber(datum[\\\\\\\"a\\\\\\\"])*300+278\\\", \\\"as\\\": \\\"c_stdev_val\\\"}, {\\\"type\\\": \\\"formula\\\", \\\"expr\\\": \\\"toNumber(datum[\\\\\\\"a\\\\\\\"])*300+106\\\", \\\"as\\\": \\\"graph_offset\\\"}, {\\\"type\\\": \\\"formula\\\", \\\"expr\\\": \\\"toNumber(datum[\\\\\\\"a\\\\\\\"])*300+132\\\", \\\"as\\\": \\\"graph_offset_categorical\\\"}, {\\\"type\\\": \\\"formula\\\", \\\"expr\\\": \\\"(toString(datum[\\\\\\\"type\\\\\\\"]) == \\\\\\\"integer\\\\\\\" || toString(datum[\\\\\\\"type\\\\\\\"]) == \\\\\\\"float\\\\\\\")?false:true\\\", \\\"as\\\": \\\"c_clip_val\\\"}, {\\\"type\\\": \\\"formula\\\", \\\"expr\\\": \\\"(toString(datum[\\\\\\\"type\\\\\\\"]) == \\\\\\\"integer\\\\\\\" || toString(datum[\\\\\\\"type\\\\\\\"]) == \\\\\\\"float\\\\\\\")?250:0\\\", \\\"as\\\": \\\"c_width_numeric_val\\\"}, {\\\"type\\\": \\\"formula\\\", \\\"expr\\\": \\\"(toString(datum[\\\\\\\"type\\\\\\\"]) == \\\\\\\"str\\\\\\\")?false:true\\\", \\\"as\\\": \\\"c_clip_val_cat\\\"}, {\\\"type\\\": \\\"formula\\\", \\\"expr\\\": \\\"(toString(datum[\\\\\\\"type\\\\\\\"]) == \\\\\\\"str\\\\\\\")?250:0\\\", \\\"as\\\": \\\"c_width_numeric_val_cat\\\"}]}], \\\"marks\\\": [{\\\"encode\\\": {\\\"enter\\\": {\\\"x\\\": {\\\"value\\\": 0}, \\\"width\\\": {\\\"value\\\": 734}, \\\"y\\\": {\\\"value\\\": 0}, \\\"height\\\": {\\\"value\\\": 366}, \\\"clip\\\": {\\\"value\\\": 0}, \\\"fill\\\": {\\\"value\\\": \\\"#ffffff\\\"}, \\\"fillOpacity\\\": {\\\"value\\\": 0}, \\\"stroke\\\": {\\\"value\\\": \\\"#000000\\\"}, \\\"strokeWidth\\\": {\\\"value\\\": 0}}}, \\\"marks\\\": [{\\\"encode\\\": {\\\"enter\\\": {\\\"x\\\": {\\\"value\\\": 0}, \\\"width\\\": {\\\"value\\\": 734}, \\\"y\\\": {\\\"value\\\": 0}, \\\"height\\\": {\\\"value\\\": 366}, \\\"clip\\\": {\\\"value\\\": 0}, \\\"fill\\\": {\\\"value\\\": \\\"#ffffff\\\"}, \\\"fillOpacity\\\": {\\\"value\\\": 0}, \\\"stroke\\\": {\\\"value\\\": \\\"#000000\\\"}, \\\"strokeWidth\\\": {\\\"value\\\": 0}}}, \\\"scales\\\": [], \\\"axes\\\": [], \\\"marks\\\": [{\\\"from\\\": {\\\"data\\\": \\\"data_2\\\"}, \\\"encode\\\": {\\\"enter\\\": {\\\"x\\\": {\\\"value\\\": 33}, \\\"width\\\": {\\\"value\\\": 700}, \\\"y\\\": {\\\"value\\\": 66}, \\\"height\\\": {\\\"value\\\": 250}, \\\"fill\\\": {\\\"value\\\": \\\"#FEFEFE\\\"}, \\\"fillOpacity\\\": {\\\"value\\\": 1}, \\\"stroke\\\": {\\\"value\\\": \\\"#DEDEDE\\\"}, \\\"strokeWidth\\\": {\\\"value\\\": 0.5}}, \\\"update\\\": {\\\"x\\\": {\\\"signal\\\": \\\"datum[\\\\\\\"c_x_axis_back\\\\\\\"]\\\"}, \\\"y\\\": {\\\"field\\\": \\\"c_main_background\\\"}}}, \\\"type\\\": \\\"rect\\\"}, {\\\"from\\\": {\\\"data\\\": \\\"data_2\\\"}, \\\"encode\\\": {\\\"enter\\\": {\\\"x\\\": {\\\"value\\\": 33}, \\\"width\\\": {\\\"value\\\": 700}, \\\"y\\\": {\\\"value\\\": 43}, \\\"height\\\": {\\\"value\\\": 30}, \\\"fill\\\": {\\\"value\\\": \\\"#F5F5F5\\\"}, \\\"fillOpacity\\\": {\\\"value\\\": 1}, \\\"stroke\\\": {\\\"value\\\": \\\"#DEDEDE\\\"}, \\\"strokeWidth\\\": {\\\"value\\\": 0.5}}, \\\"update\\\": {\\\"x\\\": {\\\"signal\\\": \\\"datum[\\\\\\\"c_x_axis_back\\\\\\\"]\\\"}, \\\"y\\\": {\\\"field\\\": \\\"c_top_bar\\\"}}}, \\\"type\\\": \\\"rect\\\"}, {\\\"from\\\": {\\\"data\\\": \\\"data_2\\\"}, \\\"encode\\\": {\\\"enter\\\": {\\\"x\\\": {\\\"value\\\": 720}, \\\"y\\\": {\\\"value\\\": 58}, \\\"text\\\": {\\\"signal\\\": \\\"&apos;&apos;+datum[\\\\\\\"type\\\\\\\"]\\\"}, \\\"align\\\": {\\\"value\\\": \\\"right\\\"}, \\\"baseline\\\": {\\\"value\\\": \\\"middle\\\"}, \\\"dx\\\": {\\\"value\\\": 0, \\\"offset\\\": 0}, \\\"dy\\\": {\\\"value\\\": 0, \\\"offset\\\": 0}, \\\"angle\\\": {\\\"value\\\": 0}, \\\"font\\\": {\\\"value\\\": \\\"AvenirNext-Medium\\\"}, \\\"fontSize\\\": {\\\"value\\\": 12}, \\\"fontWeight\\\": {\\\"value\\\": \\\"normal\\\"}, \\\"fontStyle\\\": {\\\"value\\\": \\\"normal\\\"}, \\\"fill\\\": {\\\"value\\\": \\\"#595859\\\"}}, \\\"update\\\": {\\\"x\\\": {\\\"signal\\\": \\\"datum[\\\\\\\"c_x_axis_back\\\\\\\"]+687\\\"}, \\\"y\\\": {\\\"field\\\": \\\"c_top_type\\\"}}}, \\\"type\\\": \\\"text\\\"}, {\\\"from\\\": {\\\"data\\\": \\\"data_2\\\"}, \\\"encode\\\": {\\\"enter\\\": {\\\"x\\\": {\\\"value\\\": 44}, \\\"y\\\": {\\\"value\\\": 59}, \\\"text\\\": {\\\"signal\\\": \\\"&apos;&apos;+datum[\\\\\\\"title\\\\\\\"]\\\"}, \\\"align\\\": {\\\"value\\\": \\\"left\\\"}, \\\"baseline\\\": {\\\"value\\\": \\\"middle\\\"}, \\\"dx\\\": {\\\"value\\\": 0, \\\"offset\\\": 0}, \\\"dy\\\": {\\\"value\\\": 0, \\\"offset\\\": 0}, \\\"angle\\\": {\\\"value\\\": 0}, \\\"font\\\": {\\\"value\\\": \\\"AvenirNext-Medium\\\"}, \\\"fontSize\\\": {\\\"value\\\": 15}, \\\"fontWeight\\\": {\\\"value\\\": \\\"normal\\\"}, \\\"fontStyle\\\": {\\\"value\\\": \\\"normal\\\"}, \\\"fill\\\": {\\\"value\\\": \\\"#9B9B9B\\\"}}, \\\"update\\\": {\\\"x\\\": {\\\"signal\\\": \\\"datum[\\\\\\\"c_x_axis_back\\\\\\\"]+11\\\"}, \\\"y\\\": {\\\"field\\\": \\\"c_top_title\\\"}}}, \\\"type\\\": \\\"text\\\"}, {\\\"from\\\": {\\\"data\\\": \\\"data_2\\\"}, \\\"encode\\\": {\\\"enter\\\": {\\\"x\\\": {\\\"value\\\": 500}, \\\"y\\\": {\\\"value\\\": 178}, \\\"stroke\\\": {\\\"value\\\": \\\"#EDEDEB\\\"}, \\\"strokeWidth\\\": {\\\"value\\\": 1}, \\\"strokeCap\\\": {\\\"value\\\": \\\"butt\\\"}, \\\"x2\\\": {\\\"value\\\": 720}, \\\"y2\\\": {\\\"value\\\": 178}}, \\\"update\\\": {\\\"x\\\": {\\\"signal\\\": \\\"datum[\\\\\\\"c_x_axis_back\\\\\\\"]+467\\\"}, \\\"x2\\\": {\\\"signal\\\": \\\"datum[\\\\\\\"c_x_axis_back\\\\\\\"]+687\\\"}, \\\"y\\\": {\\\"field\\\": \\\"c_rule\\\"}, \\\"y2\\\": {\\\"field\\\": \\\"c_rule\\\"}}}, \\\"type\\\": \\\"rule\\\"}, {\\\"from\\\": {\\\"data\\\": \\\"data_2\\\"}, \\\"encode\\\": {\\\"enter\\\": {\\\"x\\\": {\\\"value\\\": 500}, \\\"y\\\": {\\\"value\\\": 106}, \\\"text\\\": {\\\"value\\\": \\\"Num. Rows:\\\"}, \\\"align\\\": {\\\"value\\\": \\\"left\\\"}, \\\"baseline\\\": {\\\"value\\\": \\\"middle\\\"}, \\\"dx\\\": {\\\"value\\\": 0, \\\"offset\\\": 0}, \\\"dy\\\": {\\\"value\\\": 0, \\\"offset\\\": 0}, \\\"angle\\\": {\\\"value\\\": 0}, \\\"font\\\": {\\\"value\\\": \\\"AvenirNext-Medium\\\"}, \\\"fontSize\\\": {\\\"value\\\": 12}, \\\"fontWeight\\\": {\\\"value\\\": \\\"normal\\\"}, \\\"fontStyle\\\": {\\\"value\\\": \\\"normal\\\"}, \\\"fill\\\": {\\\"value\\\": \\\"#4A4A4A\\\"}}, \\\"update\\\": {\\\"x\\\": {\\\"signal\\\": \\\"datum[\\\\\\\"c_x_axis_back\\\\\\\"]+467\\\"}, \\\"y\\\": {\\\"field\\\": \\\"c_num_rows\\\"}}}, \\\"type\\\": \\\"text\\\"}, {\\\"from\\\": {\\\"data\\\": \\\"data_2\\\"}, \\\"encode\\\": {\\\"enter\\\": {\\\"x\\\": {\\\"value\\\": 500}, \\\"y\\\": {\\\"value\\\": 130}, \\\"text\\\": {\\\"value\\\": \\\"Num. Unique:\\\"}, \\\"align\\\": {\\\"value\\\": \\\"left\\\"}, \\\"baseline\\\": {\\\"value\\\": \\\"middle\\\"}, \\\"dx\\\": {\\\"value\\\": 0, \\\"offset\\\": 0}, \\\"dy\\\": {\\\"value\\\": 0, \\\"offset\\\": 0}, \\\"angle\\\": {\\\"value\\\": 0}, \\\"font\\\": {\\\"value\\\": \\\"AvenirNext-Medium\\\"}, \\\"fontSize\\\": {\\\"value\\\": 12}, \\\"fontWeight\\\": {\\\"value\\\": \\\"normal\\\"}, \\\"fontStyle\\\": {\\\"value\\\": \\\"normal\\\"}, \\\"fill\\\": {\\\"value\\\": \\\"#4A4A4A\\\"}}, \\\"update\\\": {\\\"x\\\": {\\\"signal\\\": \\\"datum[\\\\\\\"c_x_axis_back\\\\\\\"]+467\\\"}, \\\"y\\\": {\\\"field\\\": \\\"c_num_unique\\\"}}}, \\\"type\\\": \\\"text\\\"}, {\\\"from\\\": {\\\"data\\\": \\\"data_2\\\"}, \\\"encode\\\": {\\\"enter\\\": {\\\"x\\\": {\\\"value\\\": 500}, \\\"y\\\": {\\\"value\\\": 154}, \\\"text\\\": {\\\"value\\\": \\\"Missing:\\\"}, \\\"align\\\": {\\\"value\\\": \\\"left\\\"}, \\\"baseline\\\": {\\\"value\\\": \\\"middle\\\"}, \\\"dx\\\": {\\\"value\\\": 0, \\\"offset\\\": 0}, \\\"dy\\\": {\\\"value\\\": 0, \\\"offset\\\": 0}, \\\"angle\\\": {\\\"value\\\": 0}, \\\"font\\\": {\\\"value\\\": \\\"AvenirNext-Medium\\\"}, \\\"fontSize\\\": {\\\"value\\\": 12}, \\\"fontWeight\\\": {\\\"value\\\": \\\"normal\\\"}, \\\"fontStyle\\\": {\\\"value\\\": \\\"normal\\\"}, \\\"fill\\\": {\\\"value\\\": \\\"#4A4A4A\\\"}}, \\\"update\\\": {\\\"x\\\": {\\\"signal\\\": \\\"datum[\\\\\\\"c_x_axis_back\\\\\\\"]+467\\\"}, \\\"y\\\": {\\\"field\\\": \\\"c_missing\\\"}}}, \\\"type\\\": \\\"text\\\"}, {\\\"from\\\": {\\\"data\\\": \\\"data_2\\\"}, \\\"encode\\\": {\\\"enter\\\": {\\\"x\\\": {\\\"value\\\": 700}, \\\"y\\\": {\\\"value\\\": 105}, \\\"text\\\": {\\\"signal\\\": \\\"toString(format(datum[\\\\\\\"num_row\\\\\\\"], \\\\\\\",\\\\\\\"))\\\"}, \\\"align\\\": {\\\"value\\\": \\\"right\\\"}, \\\"baseline\\\": {\\\"value\\\": \\\"middle\\\"}, \\\"dx\\\": {\\\"value\\\": 0, \\\"offset\\\": 0}, \\\"dy\\\": {\\\"value\\\": 0, \\\"offset\\\": 0}, \\\"angle\\\": {\\\"value\\\": 0}, \\\"font\\\": {\\\"value\\\": \\\"AvenirNext-Medium\\\"}, \\\"fontSize\\\": {\\\"value\\\": 12}, \\\"fontWeight\\\": {\\\"value\\\": \\\"normal\\\"}, \\\"fontStyle\\\": {\\\"value\\\": \\\"normal\\\"}, \\\"fill\\\": {\\\"value\\\": \\\"#5A5A5A\\\"}}, \\\"update\\\": {\\\"x\\\": {\\\"signal\\\": \\\"datum[\\\\\\\"c_x_axis_back\\\\\\\"]+667\\\"}, \\\"y\\\": {\\\"field\\\": \\\"c_num_rows_val\\\"}}}, \\\"type\\\": \\\"text\\\"}, {\\\"from\\\": {\\\"data\\\": \\\"data_2\\\"}, \\\"encode\\\": {\\\"enter\\\": {\\\"x\\\": {\\\"value\\\": 700}, \\\"y\\\": {\\\"value\\\": 130}, \\\"text\\\": {\\\"signal\\\": \\\"toString(format(datum[\\\\\\\"num_unique\\\\\\\"], \\\\\\\",\\\\\\\"))\\\"}, \\\"align\\\": {\\\"value\\\": \\\"right\\\"}, \\\"baseline\\\": {\\\"value\\\": \\\"middle\\\"}, \\\"dx\\\": {\\\"value\\\": 0, \\\"offset\\\": 0}, \\\"dy\\\": {\\\"value\\\": 0, \\\"offset\\\": 0}, \\\"angle\\\": {\\\"value\\\": 0}, \\\"font\\\": {\\\"value\\\": \\\"AvenirNext-Medium\\\"}, \\\"fontSize\\\": {\\\"value\\\": 12}, \\\"fontWeight\\\": {\\\"value\\\": \\\"normal\\\"}, \\\"fontStyle\\\": {\\\"value\\\": \\\"normal\\\"}, \\\"fill\\\": {\\\"value\\\": \\\"#5A5A5A\\\"}}, \\\"update\\\": {\\\"x\\\": {\\\"signal\\\": \\\"datum[\\\\\\\"c_x_axis_back\\\\\\\"]+667\\\"}, \\\"y\\\": {\\\"field\\\": \\\"c_num_unique_val\\\"}}}, \\\"type\\\": \\\"text\\\"}, {\\\"from\\\": {\\\"data\\\": \\\"data_2\\\"}, \\\"encode\\\": {\\\"enter\\\": {\\\"x\\\": {\\\"value\\\": 700}, \\\"y\\\": {\\\"value\\\": 154}, \\\"text\\\": {\\\"signal\\\": \\\"toString(format(datum[\\\\\\\"num_missing\\\\\\\"], \\\\\\\",\\\\\\\"))\\\"}, \\\"align\\\": {\\\"value\\\": \\\"right\\\"}, \\\"baseline\\\": {\\\"value\\\": \\\"middle\\\"}, \\\"dx\\\": {\\\"value\\\": 0, \\\"offset\\\": 0}, \\\"dy\\\": {\\\"value\\\": 0, \\\"offset\\\": 0}, \\\"angle\\\": {\\\"value\\\": 0}, \\\"font\\\": {\\\"value\\\": \\\"AvenirNext-Medium\\\"}, \\\"fontSize\\\": {\\\"value\\\": 12}, \\\"fontWeight\\\": {\\\"value\\\": \\\"normal\\\"}, \\\"fontStyle\\\": {\\\"value\\\": \\\"normal\\\"}, \\\"fill\\\": {\\\"value\\\": \\\"#5A5A5A\\\"}}, \\\"update\\\": {\\\"x\\\": {\\\"signal\\\": \\\"datum[\\\\\\\"c_x_axis_back\\\\\\\"]+667\\\"}, \\\"y\\\": {\\\"field\\\": \\\"c_missing_val\\\"}}}, \\\"type\\\": \\\"text\\\"}, {\\\"from\\\": {\\\"data\\\": \\\"data_2\\\"}, \\\"encode\\\": {\\\"enter\\\": {\\\"x\\\": {\\\"value\\\": 500}, \\\"y\\\": {\\\"value\\\": 200}, \\\"text\\\": {\\\"signal\\\": \\\"(toString(datum[\\\\\\\"type\\\\\\\"]) == \\\\\\\"str\\\\\\\")? \\\\\\\"Frequent Items\\\\\\\":\\\\\\\"\\\\\\\"\\\"}, \\\"align\\\": {\\\"value\\\": \\\"left\\\"}, \\\"baseline\\\": {\\\"value\\\": \\\"middle\\\"}, \\\"dx\\\": {\\\"value\\\": 0, \\\"offset\\\": 0}, \\\"dy\\\": {\\\"value\\\": 0, \\\"offset\\\": 0}, \\\"angle\\\": {\\\"value\\\": 0}, \\\"clip\\\": {\\\"value\\\": true}, \\\"font\\\": {\\\"value\\\": \\\"AvenirNext-Medium\\\"}, \\\"fontSize\\\": {\\\"value\\\": 11}, \\\"fontWeight\\\": {\\\"value\\\": \\\"bold\\\"}, \\\"fontStyle\\\": {\\\"value\\\": \\\"normal\\\"}, \\\"fill\\\": {\\\"value\\\": \\\"#4A4A4A\\\"}}, \\\"update\\\": {\\\"x\\\": {\\\"signal\\\": \\\"datum[\\\\\\\"c_x_axis_back\\\\\\\"]+467\\\"}, \\\"y\\\": {\\\"field\\\": \\\"c_frequent_items\\\"}}}, \\\"type\\\": \\\"text\\\"}, {\\\"from\\\": {\\\"data\\\": \\\"data_2\\\"}, \\\"encode\\\": {\\\"enter\\\": {\\\"x\\\": {\\\"value\\\": 520}, \\\"y\\\": {\\\"value\\\": 200}, \\\"text\\\": {\\\"signal\\\": \\\"((datum[\\\\\\\"categorical\\\\\\\"].length >= 1) &amp;&amp; (toString(datum[\\\\\\\"type\\\\\\\"]) == \\\\\\\"str\\\\\\\"))? toString(datum[\\\\\\\"categorical\\\\\\\"][0][\\\\\\\"label\\\\\\\"]):\\\\\\\"\\\\\\\"\\\"}, \\\"align\\\": {\\\"value\\\": \\\"left\\\"}, \\\"baseline\\\": {\\\"value\\\": \\\"middle\\\"}, \\\"dx\\\": {\\\"value\\\": 0, \\\"offset\\\": 0}, \\\"dy\\\": {\\\"value\\\": 0, \\\"offset\\\": 0}, \\\"angle\\\": {\\\"value\\\": 0}, \\\"clip\\\": {\\\"value\\\": true}, \\\"font\\\": {\\\"value\\\": \\\"AvenirNext-Medium\\\"}, \\\"fontSize\\\": {\\\"value\\\": 11}, \\\"fontWeight\\\": {\\\"value\\\": \\\"normal\\\"}, \\\"fontStyle\\\": {\\\"value\\\": \\\"normal\\\"}, \\\"fill\\\": {\\\"value\\\": \\\"#4A4A4A\\\"}}, \\\"update\\\": {\\\"x\\\": {\\\"signal\\\": \\\"datum[\\\\\\\"c_x_axis_back\\\\\\\"]+487\\\"}, \\\"y\\\": {\\\"field\\\": \\\"c_first_item\\\"}}}, \\\"type\\\": \\\"text\\\"}, {\\\"from\\\": {\\\"data\\\": \\\"data_2\\\"}, \\\"encode\\\": {\\\"enter\\\": {\\\"x\\\": {\\\"value\\\": 520}, \\\"y\\\": {\\\"value\\\": 200}, \\\"text\\\": {\\\"signal\\\": \\\"((datum[\\\\\\\"categorical\\\\\\\"].length >= 2) &amp;&amp; (toString(datum[\\\\\\\"type\\\\\\\"]) == \\\\\\\"str\\\\\\\"))? toString(datum[\\\\\\\"categorical\\\\\\\"][1][\\\\\\\"label\\\\\\\"]):\\\\\\\"\\\\\\\"\\\"}, \\\"align\\\": {\\\"value\\\": \\\"left\\\"}, \\\"baseline\\\": {\\\"value\\\": \\\"middle\\\"}, \\\"dx\\\": {\\\"value\\\": 0, \\\"offset\\\": 0}, \\\"dy\\\": {\\\"value\\\": 0, \\\"offset\\\": 0}, \\\"angle\\\": {\\\"value\\\": 0}, \\\"clip\\\": {\\\"value\\\": true}, \\\"font\\\": {\\\"value\\\": \\\"AvenirNext-Medium\\\"}, \\\"fontSize\\\": {\\\"value\\\": 11}, \\\"fontWeight\\\": {\\\"value\\\": \\\"normal\\\"}, \\\"fontStyle\\\": {\\\"value\\\": \\\"normal\\\"}, \\\"fill\\\": {\\\"value\\\": \\\"#4A4A4A\\\"}}, \\\"update\\\": {\\\"x\\\": {\\\"signal\\\": \\\"datum[\\\\\\\"c_x_axis_back\\\\\\\"]+487\\\"}, \\\"y\\\": {\\\"field\\\": \\\"c_second_item\\\"}}}, \\\"type\\\": \\\"text\\\"}, {\\\"from\\\": {\\\"data\\\": \\\"data_2\\\"}, \\\"encode\\\": {\\\"enter\\\": {\\\"x\\\": {\\\"value\\\": 520}, \\\"y\\\": {\\\"value\\\": 200}, \\\"text\\\": {\\\"signal\\\": \\\"((datum[\\\\\\\"categorical\\\\\\\"].length >= 3) &amp;&amp; (toString(datum[\\\\\\\"type\\\\\\\"]) == \\\\\\\"str\\\\\\\"))? toString(datum[\\\\\\\"categorical\\\\\\\"][2][\\\\\\\"label\\\\\\\"]):\\\\\\\"\\\\\\\"\\\"}, \\\"align\\\": {\\\"value\\\": \\\"left\\\"}, \\\"baseline\\\": {\\\"value\\\": \\\"middle\\\"}, \\\"dx\\\": {\\\"value\\\": 0, \\\"offset\\\": 0}, \\\"dy\\\": {\\\"value\\\": 0, \\\"offset\\\": 0}, \\\"angle\\\": {\\\"value\\\": 0}, \\\"clip\\\": {\\\"value\\\": true}, \\\"font\\\": {\\\"value\\\": \\\"AvenirNext-Medium\\\"}, \\\"fontSize\\\": {\\\"value\\\": 11}, \\\"fontWeight\\\": {\\\"value\\\": \\\"normal\\\"}, \\\"fontStyle\\\": {\\\"value\\\": \\\"normal\\\"}, \\\"fill\\\": {\\\"value\\\": \\\"#4A4A4A\\\"}}, \\\"update\\\": {\\\"x\\\": {\\\"signal\\\": \\\"datum[\\\\\\\"c_x_axis_back\\\\\\\"]+487\\\"}, \\\"y\\\": {\\\"field\\\": \\\"c_third_item\\\"}}}, \\\"type\\\": \\\"text\\\"}, {\\\"from\\\": {\\\"data\\\": \\\"data_2\\\"}, \\\"encode\\\": {\\\"enter\\\": {\\\"x\\\": {\\\"value\\\": 520}, \\\"y\\\": {\\\"value\\\": 200}, \\\"text\\\": {\\\"signal\\\": \\\"((datum[\\\\\\\"categorical\\\\\\\"].length >= 4) &amp;&amp; (toString(datum[\\\\\\\"type\\\\\\\"]) == \\\\\\\"str\\\\\\\"))? toString(datum[\\\\\\\"categorical\\\\\\\"][3][\\\\\\\"label\\\\\\\"]):\\\\\\\"\\\\\\\"\\\"}, \\\"align\\\": {\\\"value\\\": \\\"left\\\"}, \\\"baseline\\\": {\\\"value\\\": \\\"middle\\\"}, \\\"dx\\\": {\\\"value\\\": 0, \\\"offset\\\": 0}, \\\"dy\\\": {\\\"value\\\": 0, \\\"offset\\\": 0}, \\\"angle\\\": {\\\"value\\\": 0}, \\\"clip\\\": {\\\"value\\\": true}, \\\"font\\\": {\\\"value\\\": \\\"AvenirNext-Medium\\\"}, \\\"fontSize\\\": {\\\"value\\\": 11}, \\\"fontWeight\\\": {\\\"value\\\": \\\"normal\\\"}, \\\"fontStyle\\\": {\\\"value\\\": \\\"normal\\\"}, \\\"fill\\\": {\\\"value\\\": \\\"#4A4A4A\\\"}}, \\\"update\\\": {\\\"x\\\": {\\\"signal\\\": \\\"datum[\\\\\\\"c_x_axis_back\\\\\\\"]+487\\\"}, \\\"y\\\": {\\\"field\\\": \\\"c_fourth_item\\\"}}}, \\\"type\\\": \\\"text\\\"}, {\\\"from\\\": {\\\"data\\\": \\\"data_2\\\"}, \\\"encode\\\": {\\\"enter\\\": {\\\"x\\\": {\\\"value\\\": 520}, \\\"y\\\": {\\\"value\\\": 200}, \\\"text\\\": {\\\"signal\\\": \\\"((datum[\\\\\\\"categorical\\\\\\\"].length >= 5) &amp;&amp; (toString(datum[\\\\\\\"type\\\\\\\"]) == \\\\\\\"str\\\\\\\"))? toString(datum[\\\\\\\"categorical\\\\\\\"][4][\\\\\\\"label\\\\\\\"]):\\\\\\\"\\\\\\\"\\\"}, \\\"align\\\": {\\\"value\\\": \\\"left\\\"}, \\\"baseline\\\": {\\\"value\\\": \\\"middle\\\"}, \\\"dx\\\": {\\\"value\\\": 0, \\\"offset\\\": 0}, \\\"dy\\\": {\\\"value\\\": 0, \\\"offset\\\": 0}, \\\"angle\\\": {\\\"value\\\": 0}, \\\"clip\\\": {\\\"value\\\": true}, \\\"font\\\": {\\\"value\\\": \\\"AvenirNext-Medium\\\"}, \\\"fontSize\\\": {\\\"value\\\": 11}, \\\"fontWeight\\\": {\\\"value\\\": \\\"normal\\\"}, \\\"fontStyle\\\": {\\\"value\\\": \\\"normal\\\"}, \\\"fill\\\": {\\\"value\\\": \\\"#4A4A4A\\\"}}, \\\"update\\\": {\\\"x\\\": {\\\"signal\\\": \\\"datum[\\\\\\\"c_x_axis_back\\\\\\\"]+487\\\"}, \\\"y\\\": {\\\"field\\\": \\\"c_fifth_item\\\"}}}, \\\"type\\\": \\\"text\\\"}, {\\\"from\\\": {\\\"data\\\": \\\"data_2\\\"}, \\\"encode\\\": {\\\"enter\\\": {\\\"x\\\": {\\\"value\\\": 700}, \\\"y\\\": {\\\"value\\\": 200}, \\\"text\\\": {\\\"signal\\\": \\\"((datum[\\\\\\\"categorical\\\\\\\"].length >= 1) &amp;&amp; (toString(datum[\\\\\\\"type\\\\\\\"]) == \\\\\\\"str\\\\\\\"))? toString(datum[\\\\\\\"categorical\\\\\\\"][0][\\\\\\\"count\\\\\\\"]):\\\\\\\"\\\\\\\"\\\"}, \\\"align\\\": {\\\"value\\\": \\\"right\\\"}, \\\"baseline\\\": {\\\"value\\\": \\\"middle\\\"}, \\\"dx\\\": {\\\"value\\\": 0, \\\"offset\\\": 0}, \\\"dy\\\": {\\\"value\\\": 0, \\\"offset\\\": 0}, \\\"angle\\\": {\\\"value\\\": 0}, \\\"clip\\\": {\\\"value\\\": true}, \\\"font\\\": {\\\"value\\\": \\\"AvenirNext-Medium\\\"}, \\\"fontSize\\\": {\\\"value\\\": 11}, \\\"fontWeight\\\": {\\\"value\\\": \\\"normal\\\"}, \\\"fontStyle\\\": {\\\"value\\\": \\\"normal\\\"}, \\\"fill\\\": {\\\"value\\\": \\\"#7A7A7A\\\"}}, \\\"update\\\": {\\\"x\\\": {\\\"signal\\\": \\\"datum[\\\\\\\"c_x_axis_back\\\\\\\"]+667\\\"}, \\\"y\\\": {\\\"field\\\": \\\"c_first_item\\\"}}}, \\\"type\\\": \\\"text\\\"}, {\\\"from\\\": {\\\"data\\\": \\\"data_2\\\"}, \\\"encode\\\": {\\\"enter\\\": {\\\"x\\\": {\\\"value\\\": 700}, \\\"y\\\": {\\\"value\\\": 200}, \\\"text\\\": {\\\"signal\\\": \\\"((datum[\\\\\\\"categorical\\\\\\\"].length >= 2) &amp;&amp; (toString(datum[\\\\\\\"type\\\\\\\"]) == \\\\\\\"str\\\\\\\"))? toString(datum[\\\\\\\"categorical\\\\\\\"][1][\\\\\\\"count\\\\\\\"]):\\\\\\\"\\\\\\\"\\\"}, \\\"align\\\": {\\\"value\\\": \\\"right\\\"}, \\\"baseline\\\": {\\\"value\\\": \\\"middle\\\"}, \\\"dx\\\": {\\\"value\\\": 0, \\\"offset\\\": 0}, \\\"dy\\\": {\\\"value\\\": 0, \\\"offset\\\": 0}, \\\"angle\\\": {\\\"value\\\": 0}, \\\"clip\\\": {\\\"value\\\": true}, \\\"font\\\": {\\\"value\\\": \\\"AvenirNext-Medium\\\"}, \\\"fontSize\\\": {\\\"value\\\": 10}, \\\"fontWeight\\\": {\\\"value\\\": \\\"normal\\\"}, \\\"fontStyle\\\": {\\\"value\\\": \\\"normal\\\"}, \\\"fill\\\": {\\\"value\\\": \\\"#7A7A7A\\\"}}, \\\"update\\\": {\\\"x\\\": {\\\"signal\\\": \\\"datum[\\\\\\\"c_x_axis_back\\\\\\\"]+667\\\"}, \\\"y\\\": {\\\"field\\\": \\\"c_second_item\\\"}}}, \\\"type\\\": \\\"text\\\"}, {\\\"from\\\": {\\\"data\\\": \\\"data_2\\\"}, \\\"encode\\\": {\\\"enter\\\": {\\\"x\\\": {\\\"value\\\": 700}, \\\"y\\\": {\\\"value\\\": 200}, \\\"text\\\": {\\\"signal\\\": \\\"((datum[\\\\\\\"categorical\\\\\\\"].length >= 3) &amp;&amp; (toString(datum[\\\\\\\"type\\\\\\\"]) == \\\\\\\"str\\\\\\\"))? toString(datum[\\\\\\\"categorical\\\\\\\"][2][\\\\\\\"count\\\\\\\"]):\\\\\\\"\\\\\\\"\\\"}, \\\"align\\\": {\\\"value\\\": \\\"right\\\"}, \\\"baseline\\\": {\\\"value\\\": \\\"middle\\\"}, \\\"dx\\\": {\\\"value\\\": 0, \\\"offset\\\": 0}, \\\"dy\\\": {\\\"value\\\": 0, \\\"offset\\\": 0}, \\\"angle\\\": {\\\"value\\\": 0}, \\\"clip\\\": {\\\"value\\\": true}, \\\"font\\\": {\\\"value\\\": \\\"AvenirNext-Medium\\\"}, \\\"fontSize\\\": {\\\"value\\\": 10}, \\\"fontWeight\\\": {\\\"value\\\": \\\"normal\\\"}, \\\"fontStyle\\\": {\\\"value\\\": \\\"normal\\\"}, \\\"fill\\\": {\\\"value\\\": \\\"#7A7A7A\\\"}}, \\\"update\\\": {\\\"x\\\": {\\\"signal\\\": \\\"datum[\\\\\\\"c_x_axis_back\\\\\\\"]+667\\\"}, \\\"y\\\": {\\\"field\\\": \\\"c_third_item\\\"}}}, \\\"type\\\": \\\"text\\\"}, {\\\"from\\\": {\\\"data\\\": \\\"data_2\\\"}, \\\"encode\\\": {\\\"enter\\\": {\\\"x\\\": {\\\"value\\\": 700}, \\\"y\\\": {\\\"value\\\": 200}, \\\"text\\\": {\\\"signal\\\": \\\"((datum[\\\\\\\"categorical\\\\\\\"].length >= 4) &amp;&amp; (toString(datum[\\\\\\\"type\\\\\\\"]) == \\\\\\\"str\\\\\\\"))? toString(datum[\\\\\\\"categorical\\\\\\\"][3][\\\\\\\"count\\\\\\\"]):\\\\\\\"\\\\\\\"\\\"}, \\\"align\\\": {\\\"value\\\": \\\"right\\\"}, \\\"baseline\\\": {\\\"value\\\": \\\"middle\\\"}, \\\"dx\\\": {\\\"value\\\": 0, \\\"offset\\\": 0}, \\\"dy\\\": {\\\"value\\\": 0, \\\"offset\\\": 0}, \\\"angle\\\": {\\\"value\\\": 0}, \\\"clip\\\": {\\\"value\\\": true}, \\\"font\\\": {\\\"value\\\": \\\"AvenirNext-Medium\\\"}, \\\"fontSize\\\": {\\\"value\\\": 10}, \\\"fontWeight\\\": {\\\"value\\\": \\\"normal\\\"}, \\\"fontStyle\\\": {\\\"value\\\": \\\"normal\\\"}, \\\"fill\\\": {\\\"value\\\": \\\"#7A7A7A\\\"}}, \\\"update\\\": {\\\"x\\\": {\\\"signal\\\": \\\"datum[\\\\\\\"c_x_axis_back\\\\\\\"]+667\\\"}, \\\"y\\\": {\\\"field\\\": \\\"c_fourth_item\\\"}}}, \\\"type\\\": \\\"text\\\"}, {\\\"from\\\": {\\\"data\\\": \\\"data_2\\\"}, \\\"encode\\\": {\\\"enter\\\": {\\\"x\\\": {\\\"value\\\": 700}, \\\"y\\\": {\\\"value\\\": 200}, \\\"text\\\": {\\\"signal\\\": \\\"((datum[\\\\\\\"categorical\\\\\\\"].length >= 5) &amp;&amp; (toString(datum[\\\\\\\"type\\\\\\\"]) == \\\\\\\"str\\\\\\\"))? toString(datum[\\\\\\\"categorical\\\\\\\"][4][\\\\\\\"count\\\\\\\"]):\\\\\\\"\\\\\\\"\\\"}, \\\"align\\\": {\\\"value\\\": \\\"right\\\"}, \\\"baseline\\\": {\\\"value\\\": \\\"middle\\\"}, \\\"dx\\\": {\\\"value\\\": 0, \\\"offset\\\": 0}, \\\"dy\\\": {\\\"value\\\": 0, \\\"offset\\\": 0}, \\\"angle\\\": {\\\"value\\\": 0}, \\\"clip\\\": {\\\"value\\\": true}, \\\"font\\\": {\\\"value\\\": \\\"AvenirNext-Medium\\\"}, \\\"fontSize\\\": {\\\"value\\\": 10}, \\\"fontWeight\\\": {\\\"value\\\": \\\"normal\\\"}, \\\"fontStyle\\\": {\\\"value\\\": \\\"normal\\\"}, \\\"fill\\\": {\\\"value\\\": \\\"#7A7A7A\\\"}}, \\\"update\\\": {\\\"x\\\": {\\\"signal\\\": \\\"datum[\\\\\\\"c_x_axis_back\\\\\\\"]+667\\\"}, \\\"y\\\": {\\\"field\\\": \\\"c_fifth_item\\\"}}}, \\\"type\\\": \\\"text\\\"}, {\\\"from\\\": {\\\"data\\\": \\\"data_2\\\"}, \\\"encode\\\": {\\\"enter\\\": {\\\"x\\\": {\\\"value\\\": 500}, \\\"y\\\": {\\\"value\\\": 200}, \\\"text\\\": {\\\"signal\\\": \\\"(toString(datum[\\\\\\\"type\\\\\\\"]) == \\\\\\\"integer\\\\\\\" || toString(datum[\\\\\\\"type\\\\\\\"]) == \\\\\\\"float\\\\\\\")? \\\\\\\"Mean:\\\\\\\":\\\\\\\"\\\\\\\"\\\"}, \\\"align\\\": {\\\"value\\\": \\\"left\\\"}, \\\"baseline\\\": {\\\"value\\\": \\\"middle\\\"}, \\\"dx\\\": {\\\"value\\\": 0, \\\"offset\\\": 0}, \\\"dy\\\": {\\\"value\\\": 0, \\\"offset\\\": 0}, \\\"angle\\\": {\\\"value\\\": 0}, \\\"clip\\\": {\\\"value\\\": true}, \\\"font\\\": {\\\"value\\\": \\\"AvenirNext-Medium\\\"}, \\\"fontSize\\\": {\\\"value\\\": 11}, \\\"fontWeight\\\": {\\\"value\\\": \\\"bold\\\"}, \\\"fontStyle\\\": {\\\"value\\\": \\\"normal\\\"}, \\\"fill\\\": {\\\"value\\\": \\\"#4A4A4A\\\"}}, \\\"update\\\": {\\\"x\\\": {\\\"signal\\\": \\\"datum[\\\\\\\"c_x_axis_back\\\\\\\"]+467\\\"}, \\\"y\\\": {\\\"field\\\": \\\"c_mean\\\"}}}, \\\"type\\\": \\\"text\\\"}, {\\\"from\\\": {\\\"data\\\": \\\"data_2\\\"}, \\\"encode\\\": {\\\"enter\\\": {\\\"x\\\": {\\\"value\\\": 500}, \\\"y\\\": {\\\"value\\\": 220}, \\\"text\\\": {\\\"signal\\\": \\\"(toString(datum[\\\\\\\"type\\\\\\\"]) == \\\\\\\"integer\\\\\\\" || toString(datum[\\\\\\\"type\\\\\\\"]) == \\\\\\\"float\\\\\\\")? \\\\\\\"Min:\\\\\\\":\\\\\\\"\\\\\\\"\\\"}, \\\"align\\\": {\\\"value\\\": \\\"left\\\"}, \\\"baseline\\\": {\\\"value\\\": \\\"middle\\\"}, \\\"dx\\\": {\\\"value\\\": 0, \\\"offset\\\": 0}, \\\"dy\\\": {\\\"value\\\": 0, \\\"offset\\\": 0}, \\\"angle\\\": {\\\"value\\\": 0}, \\\"font\\\": {\\\"value\\\": \\\"AvenirNext-Medium\\\"}, \\\"fontSize\\\": {\\\"value\\\": 11}, \\\"fontWeight\\\": {\\\"value\\\": \\\"bold\\\"}, \\\"fontStyle\\\": {\\\"value\\\": \\\"normal\\\"}, \\\"fill\\\": {\\\"value\\\": \\\"#4A4A4A\\\"}}, \\\"update\\\": {\\\"x\\\": {\\\"signal\\\": \\\"datum[\\\\\\\"c_x_axis_back\\\\\\\"]+467\\\"}, \\\"y\\\": {\\\"field\\\": \\\"c_min\\\"}}}, \\\"type\\\": \\\"text\\\"}, {\\\"from\\\": {\\\"data\\\": \\\"data_2\\\"}, \\\"encode\\\": {\\\"enter\\\": {\\\"x\\\": {\\\"value\\\": 500}, \\\"y\\\": {\\\"value\\\": 240}, \\\"text\\\": {\\\"signal\\\": \\\"(toString(datum[\\\\\\\"type\\\\\\\"]) == \\\\\\\"integer\\\\\\\" || toString(datum[\\\\\\\"type\\\\\\\"]) == \\\\\\\"float\\\\\\\")? \\\\\\\"Max:\\\\\\\":\\\\\\\"\\\\\\\"\\\"}, \\\"align\\\": {\\\"value\\\": \\\"left\\\"}, \\\"baseline\\\": {\\\"value\\\": \\\"middle\\\"}, \\\"dx\\\": {\\\"value\\\": 0, \\\"offset\\\": 0}, \\\"dy\\\": {\\\"value\\\": 0, \\\"offset\\\": 0}, \\\"angle\\\": {\\\"value\\\": 0}, \\\"font\\\": {\\\"value\\\": \\\"AvenirNext-Medium\\\"}, \\\"fontSize\\\": {\\\"value\\\": 11}, \\\"fontWeight\\\": {\\\"value\\\": \\\"bold\\\"}, \\\"fontStyle\\\": {\\\"value\\\": \\\"normal\\\"}, \\\"fill\\\": {\\\"value\\\": \\\"#4A4A4A\\\"}}, \\\"update\\\": {\\\"x\\\": {\\\"signal\\\": \\\"datum[\\\\\\\"c_x_axis_back\\\\\\\"]+467\\\"}, \\\"y\\\": {\\\"field\\\": \\\"c_max\\\"}}}, \\\"type\\\": \\\"text\\\"}, {\\\"from\\\": {\\\"data\\\": \\\"data_2\\\"}, \\\"encode\\\": {\\\"enter\\\": {\\\"x\\\": {\\\"value\\\": 500}, \\\"y\\\": {\\\"value\\\": 260}, \\\"text\\\": {\\\"signal\\\": \\\"(toString(datum[\\\\\\\"type\\\\\\\"]) == \\\\\\\"integer\\\\\\\" || toString(datum[\\\\\\\"type\\\\\\\"]) == \\\\\\\"float\\\\\\\")? \\\\\\\"Median:\\\\\\\":\\\\\\\"\\\\\\\"\\\"}, \\\"align\\\": {\\\"value\\\": \\\"left\\\"}, \\\"baseline\\\": {\\\"value\\\": \\\"middle\\\"}, \\\"dx\\\": {\\\"value\\\": 0, \\\"offset\\\": 0}, \\\"dy\\\": {\\\"value\\\": 0, \\\"offset\\\": 0}, \\\"angle\\\": {\\\"value\\\": 0}, \\\"font\\\": {\\\"value\\\": \\\"AvenirNext-Medium\\\"}, \\\"fontSize\\\": {\\\"value\\\": 11}, \\\"fontWeight\\\": {\\\"value\\\": \\\"bold\\\"}, \\\"fontStyle\\\": {\\\"value\\\": \\\"normal\\\"}, \\\"fill\\\": {\\\"value\\\": \\\"#4A4A4A\\\"}}, \\\"update\\\": {\\\"x\\\": {\\\"signal\\\": \\\"datum[\\\\\\\"c_x_axis_back\\\\\\\"]+467\\\"}, \\\"y\\\": {\\\"field\\\": \\\"c_median\\\"}}}, \\\"type\\\": \\\"text\\\"}, {\\\"from\\\": {\\\"data\\\": \\\"data_2\\\"}, \\\"encode\\\": {\\\"enter\\\": {\\\"x\\\": {\\\"value\\\": 500}, \\\"y\\\": {\\\"value\\\": 280}, \\\"text\\\": {\\\"signal\\\": \\\"(toString(datum[\\\\\\\"type\\\\\\\"]) == \\\\\\\"integer\\\\\\\" || toString(datum[\\\\\\\"type\\\\\\\"]) == \\\\\\\"float\\\\\\\")? \\\\\\\"St. Dev:\\\\\\\":\\\\\\\"\\\\\\\"\\\"}, \\\"align\\\": {\\\"value\\\": \\\"left\\\"}, \\\"baseline\\\": {\\\"value\\\": \\\"middle\\\"}, \\\"dx\\\": {\\\"value\\\": 0, \\\"offset\\\": 0}, \\\"dy\\\": {\\\"value\\\": 0, \\\"offset\\\": 0}, \\\"angle\\\": {\\\"value\\\": 0}, \\\"font\\\": {\\\"value\\\": \\\"AvenirNext-Medium\\\"}, \\\"fontSize\\\": {\\\"value\\\": 11}, \\\"fontWeight\\\": {\\\"value\\\": \\\"bold\\\"}, \\\"fontStyle\\\": {\\\"value\\\": \\\"normal\\\"}, \\\"fill\\\": {\\\"value\\\": \\\"#4A4A4A\\\"}}, \\\"update\\\": {\\\"x\\\": {\\\"signal\\\": \\\"datum[\\\\\\\"c_x_axis_back\\\\\\\"]+467\\\"}, \\\"y\\\": {\\\"field\\\": \\\"c_stdev\\\"}}}, \\\"type\\\": \\\"text\\\"}, {\\\"from\\\": {\\\"data\\\": \\\"data_2\\\"}, \\\"encode\\\": {\\\"enter\\\": {\\\"x\\\": {\\\"value\\\": 700}, \\\"y\\\": {\\\"value\\\": 198}, \\\"text\\\": {\\\"signal\\\": \\\"(toString(datum[\\\\\\\"type\\\\\\\"]) == \\\\\\\"integer\\\\\\\" || toString(datum[\\\\\\\"type\\\\\\\"]) == \\\\\\\"float\\\\\\\")?toString(format(datum[\\\\\\\"mean\\\\\\\"], \\\\\\\",\\\\\\\")):\\\\\\\"\\\\\\\"\\\"}, \\\"align\\\": {\\\"value\\\": \\\"right\\\"}, \\\"baseline\\\": {\\\"value\\\": \\\"middle\\\"}, \\\"dx\\\": {\\\"value\\\": 0, \\\"offset\\\": 0}, \\\"dy\\\": {\\\"value\\\": 0, \\\"offset\\\": 0}, \\\"angle\\\": {\\\"value\\\": 0}, \\\"font\\\": {\\\"value\\\": \\\"AvenirNext-Medium\\\"}, \\\"fontSize\\\": {\\\"value\\\": 10}, \\\"fontWeight\\\": {\\\"value\\\": \\\"normal\\\"}, \\\"fontStyle\\\": {\\\"value\\\": \\\"normal\\\"}, \\\"fill\\\": {\\\"value\\\": \\\"#6A6A6A\\\"}}, \\\"update\\\": {\\\"x\\\": {\\\"signal\\\": \\\"datum[\\\\\\\"c_x_axis_back\\\\\\\"]+667\\\"}, \\\"y\\\": {\\\"field\\\": \\\"c_mean_val\\\"}}}, \\\"type\\\": \\\"text\\\"}, {\\\"from\\\": {\\\"data\\\": \\\"data_2\\\"}, \\\"encode\\\": {\\\"enter\\\": {\\\"x\\\": {\\\"value\\\": 700}, \\\"y\\\": {\\\"value\\\": 218}, \\\"text\\\": {\\\"signal\\\": \\\"(toString(datum[\\\\\\\"type\\\\\\\"]) == \\\\\\\"integer\\\\\\\" || toString(datum[\\\\\\\"type\\\\\\\"]) == \\\\\\\"float\\\\\\\")?toString(format(datum[\\\\\\\"min\\\\\\\"], \\\\\\\",\\\\\\\")):\\\\\\\"\\\\\\\"\\\"}, \\\"align\\\": {\\\"value\\\": \\\"right\\\"}, \\\"baseline\\\": {\\\"value\\\": \\\"middle\\\"}, \\\"dx\\\": {\\\"value\\\": 0, \\\"offset\\\": 0}, \\\"dy\\\": {\\\"value\\\": 0, \\\"offset\\\": 0}, \\\"angle\\\": {\\\"value\\\": 0}, \\\"font\\\": {\\\"value\\\": \\\"AvenirNext-Medium\\\"}, \\\"fontSize\\\": {\\\"value\\\": 10}, \\\"fontWeight\\\": {\\\"value\\\": \\\"normal\\\"}, \\\"fontStyle\\\": {\\\"value\\\": \\\"normal\\\"}, \\\"fill\\\": {\\\"value\\\": \\\"#6A6A6A\\\"}}, \\\"update\\\": {\\\"x\\\": {\\\"signal\\\": \\\"datum[\\\\\\\"c_x_axis_back\\\\\\\"]+667\\\"}, \\\"y\\\": {\\\"field\\\": \\\"c_min_val\\\"}}}, \\\"type\\\": \\\"text\\\"}, {\\\"from\\\": {\\\"data\\\": \\\"data_2\\\"}, \\\"encode\\\": {\\\"enter\\\": {\\\"x\\\": {\\\"value\\\": 700}, \\\"y\\\": {\\\"value\\\": 238}, \\\"text\\\": {\\\"signal\\\": \\\"(toString(datum[\\\\\\\"type\\\\\\\"]) == \\\\\\\"integer\\\\\\\" || toString(datum[\\\\\\\"type\\\\\\\"]) == \\\\\\\"float\\\\\\\")?toString(format(datum[\\\\\\\"max\\\\\\\"], \\\\\\\",\\\\\\\")):\\\\\\\"\\\\\\\"\\\"}, \\\"align\\\": {\\\"value\\\": \\\"right\\\"}, \\\"baseline\\\": {\\\"value\\\": \\\"middle\\\"}, \\\"dx\\\": {\\\"value\\\": 0, \\\"offset\\\": 0}, \\\"dy\\\": {\\\"value\\\": 0, \\\"offset\\\": 0}, \\\"angle\\\": {\\\"value\\\": 0}, \\\"font\\\": {\\\"value\\\": \\\"AvenirNext-Medium\\\"}, \\\"fontSize\\\": {\\\"value\\\": 10}, \\\"fontWeight\\\": {\\\"value\\\": \\\"normal\\\"}, \\\"fontStyle\\\": {\\\"value\\\": \\\"normal\\\"}, \\\"fill\\\": {\\\"value\\\": \\\"#6A6A6A\\\"}}, \\\"update\\\": {\\\"x\\\": {\\\"signal\\\": \\\"datum[\\\\\\\"c_x_axis_back\\\\\\\"]+667\\\"}, \\\"y\\\": {\\\"field\\\": \\\"c_max_val\\\"}}}, \\\"type\\\": \\\"text\\\"}, {\\\"from\\\": {\\\"data\\\": \\\"data_2\\\"}, \\\"encode\\\": {\\\"enter\\\": {\\\"x\\\": {\\\"value\\\": 700}, \\\"y\\\": {\\\"value\\\": 258}, \\\"text\\\": {\\\"signal\\\": \\\"(toString(datum[\\\\\\\"type\\\\\\\"]) == \\\\\\\"integer\\\\\\\" || toString(datum[\\\\\\\"type\\\\\\\"]) == \\\\\\\"float\\\\\\\")?toString(format(datum[\\\\\\\"median\\\\\\\"], \\\\\\\",\\\\\\\")):\\\\\\\"\\\\\\\"\\\"}, \\\"align\\\": {\\\"value\\\": \\\"right\\\"}, \\\"baseline\\\": {\\\"value\\\": \\\"middle\\\"}, \\\"dx\\\": {\\\"value\\\": 0, \\\"offset\\\": 0}, \\\"dy\\\": {\\\"value\\\": 0, \\\"offset\\\": 0}, \\\"angle\\\": {\\\"value\\\": 0}, \\\"font\\\": {\\\"value\\\": \\\"AvenirNext-Medium\\\"}, \\\"fontSize\\\": {\\\"value\\\": 10}, \\\"fontWeight\\\": {\\\"value\\\": \\\"normal\\\"}, \\\"fontStyle\\\": {\\\"value\\\": \\\"normal\\\"}, \\\"fill\\\": {\\\"value\\\": \\\"#6A6A6A\\\"}}, \\\"update\\\": {\\\"x\\\": {\\\"signal\\\": \\\"datum[\\\\\\\"c_x_axis_back\\\\\\\"]+667\\\"}, \\\"y\\\": {\\\"field\\\": \\\"c_median_val\\\"}}}, \\\"type\\\": \\\"text\\\"}, {\\\"from\\\": {\\\"data\\\": \\\"data_2\\\"}, \\\"encode\\\": {\\\"enter\\\": {\\\"x\\\": {\\\"value\\\": 700}, \\\"y\\\": {\\\"value\\\": 278}, \\\"text\\\": {\\\"signal\\\": \\\"(toString(datum[\\\\\\\"type\\\\\\\"]) == \\\\\\\"integer\\\\\\\" || toString(datum[\\\\\\\"type\\\\\\\"]) == \\\\\\\"float\\\\\\\")?toString(format(datum[\\\\\\\"stdev\\\\\\\"], \\\\\\\",\\\\\\\")):\\\\\\\"\\\\\\\"\\\"}, \\\"align\\\": {\\\"value\\\": \\\"right\\\"}, \\\"baseline\\\": {\\\"value\\\": \\\"middle\\\"}, \\\"dx\\\": {\\\"value\\\": 0, \\\"offset\\\": 0}, \\\"dy\\\": {\\\"value\\\": 0, \\\"offset\\\": 0}, \\\"angle\\\": {\\\"value\\\": 0}, \\\"font\\\": {\\\"value\\\": \\\"AvenirNext-Medium\\\"}, \\\"fontSize\\\": {\\\"value\\\": 10}, \\\"fontWeight\\\": {\\\"value\\\": \\\"normal\\\"}, \\\"fontStyle\\\": {\\\"value\\\": \\\"normal\\\"}, \\\"fill\\\": {\\\"value\\\": \\\"#6A6A6A\\\"}}, \\\"update\\\": {\\\"x\\\": {\\\"signal\\\": \\\"datum[\\\\\\\"c_x_axis_back\\\\\\\"]+667\\\"}, \\\"y\\\": {\\\"field\\\": \\\"c_stdev_val\\\"}}}, \\\"type\\\": \\\"text\\\"}, {\\\"from\\\": {\\\"facet\\\": {\\\"name\\\": \\\"new_data\\\", \\\"data\\\": \\\"data_2\\\", \\\"field\\\": \\\"numeric\\\"}}, \\\"encode\\\": {\\\"enter\\\": {\\\"x\\\": {\\\"value\\\": 120}, \\\"width\\\": {\\\"value\\\": 250}, \\\"y\\\": {\\\"field\\\": \\\"graph_offset\\\"}, \\\"height\\\": {\\\"value\\\": 150}, \\\"fill\\\": {\\\"value\\\": \\\"#ffffff\\\"}, \\\"fillOpacity\\\": {\\\"value\\\": 0}, \\\"stroke\\\": {\\\"value\\\": \\\"#000000\\\"}, \\\"strokeWidth\\\": {\\\"value\\\": 0}}, \\\"update\\\": {\\\"x\\\": {\\\"signal\\\": \\\"datum[\\\\\\\"c_x_axis_back\\\\\\\"]+87\\\"}, \\\"clip\\\": {\\\"field\\\": \\\"c_clip_val\\\"}, \\\"width\\\": {\\\"field\\\": \\\"c_width_numeric_val\\\"}}}, \\\"type\\\": \\\"group\\\", \\\"scales\\\": [{\\\"name\\\": \\\"x\\\", \\\"type\\\": \\\"linear\\\", \\\"domain\\\": {\\\"data\\\": \\\"new_data\\\", \\\"fields\\\": [\\\"left\\\", \\\"right\\\"], \\\"sort\\\": true}, \\\"range\\\": [0, {\\\"signal\\\": \\\"width\\\"}], \\\"nice\\\": true, \\\"zero\\\": true}, {\\\"name\\\": \\\"y\\\", \\\"type\\\": \\\"linear\\\", \\\"domain\\\": {\\\"data\\\": \\\"new_data\\\", \\\"field\\\": \\\"count\\\"}, \\\"range\\\": [{\\\"signal\\\": \\\"height\\\"}, 0], \\\"nice\\\": true, \\\"zero\\\": true}], \\\"axes\\\": [{\\\"title\\\": \\\"Values\\\", \\\"scale\\\": \\\"x\\\", \\\"labelOverlap\\\": true, \\\"orient\\\": \\\"bottom\\\", \\\"tickCount\\\": {\\\"signal\\\": \\\"ceil(width/40)\\\"}, \\\"zindex\\\": 1}, {\\\"scale\\\": \\\"x\\\", \\\"domain\\\": false, \\\"grid\\\": true, \\\"labels\\\": false, \\\"maxExtent\\\": 0, \\\"minExtent\\\": 0, \\\"orient\\\": \\\"bottom\\\", \\\"tickCount\\\": {\\\"signal\\\": \\\"ceil(width/40)\\\"}, \\\"ticks\\\": false, \\\"zindex\\\": 0, \\\"gridScale\\\": \\\"y\\\"}, {\\\"title\\\": \\\"Count\\\", \\\"scale\\\": \\\"y\\\", \\\"labelOverlap\\\": true, \\\"orient\\\": \\\"left\\\", \\\"tickCount\\\": {\\\"signal\\\": \\\"ceil(height/40)\\\"}, \\\"zindex\\\": 1}, {\\\"scale\\\": \\\"y\\\", \\\"domain\\\": false, \\\"grid\\\": true, \\\"labels\\\": false, \\\"maxExtent\\\": 0, \\\"minExtent\\\": 0, \\\"orient\\\": \\\"left\\\", \\\"tickCount\\\": {\\\"signal\\\": \\\"ceil(height/40)\\\"}, \\\"ticks\\\": false, \\\"zindex\\\": 0, \\\"gridScale\\\": \\\"x\\\"}], \\\"style\\\": \\\"cell\\\", \\\"signals\\\": [{\\\"name\\\": \\\"width\\\", \\\"update\\\": \\\"250\\\"}, {\\\"name\\\": \\\"height\\\", \\\"update\\\": \\\"150\\\"}], \\\"marks\\\": [{\\\"name\\\": \\\"marks\\\", \\\"type\\\": \\\"rect\\\", \\\"style\\\": [\\\"rect\\\"], \\\"from\\\": {\\\"data\\\": \\\"new_data\\\"}, \\\"encode\\\": {\\\"hover\\\": {\\\"fill\\\": {\\\"value\\\": \\\"#7EC2F3\\\"}}, \\\"update\\\": {\\\"x\\\": {\\\"scale\\\": \\\"x\\\", \\\"field\\\": \\\"left\\\"}, \\\"x2\\\": {\\\"scale\\\": \\\"x\\\", \\\"field\\\": \\\"right\\\"}, \\\"y\\\": {\\\"scale\\\": \\\"y\\\", \\\"field\\\": \\\"count\\\"}, \\\"y2\\\": {\\\"scale\\\": \\\"y\\\", \\\"value\\\": 0}, \\\"fill\\\": {\\\"value\\\": \\\"#108EE9\\\"}}}}]}, {\\\"from\\\": {\\\"facet\\\": {\\\"name\\\": \\\"data_5\\\", \\\"data\\\": \\\"data_2\\\", \\\"field\\\": \\\"categorical\\\"}}, \\\"encode\\\": {\\\"enter\\\": {\\\"x\\\": {\\\"value\\\": 170}, \\\"width\\\": {\\\"value\\\": 250}, \\\"y\\\": {\\\"field\\\": \\\"graph_offset_categorical\\\"}, \\\"height\\\": {\\\"value\\\": 150}, \\\"fill\\\": {\\\"value\\\": \\\"#ffffff\\\"}, \\\"fillOpacity\\\": {\\\"value\\\": 0}, \\\"stroke\\\": {\\\"value\\\": \\\"#000000\\\"}, \\\"strokeWidth\\\": {\\\"value\\\": 0}}, \\\"update\\\": {\\\"x\\\": {\\\"signal\\\": \\\"datum[\\\\\\\"c_x_axis_back\\\\\\\"]+137\\\"}, \\\"clip\\\": {\\\"field\\\": \\\"c_clip_val_cat\\\"}, \\\"width\\\": {\\\"field\\\": \\\"c_width_numeric_val_cat\\\"}}}, \\\"type\\\": \\\"group\\\", \\\"style\\\": \\\"cell\\\", \\\"signals\\\": [{\\\"name\\\": \\\"unit\\\", \\\"value\\\": {}, \\\"on\\\": [{\\\"events\\\": \\\"mousemove\\\", \\\"update\\\": \\\"isTuple(group()) ? group() : unit\\\"}]}, {\\\"name\\\": \\\"pts\\\", \\\"update\\\": \\\"data(\\\\\\\"pts_store\\\\\\\").length &amp;&amp; {count: data(\\\\\\\"pts_store\\\\\\\")[0].values[0]}\\\"}, {\\\"name\\\": \\\"pts_tuple\\\", \\\"value\\\": {}, \\\"on\\\": [{\\\"events\\\": [{\\\"source\\\": \\\"scope\\\", \\\"type\\\": \\\"click\\\"}], \\\"update\\\": \\\"datum &amp;&amp; item().mark.marktype !== &apos;group&apos; ? {unit: \\\\\\\"\\\\\\\", encodings: [\\\\\\\"x\\\\\\\"], fields: [\\\\\\\"count\\\\\\\"], values: [datum[\\\\\\\"count\\\\\\\"]]} : null\\\", \\\"force\\\": true}]}, {\\\"name\\\": \\\"pts_modify\\\", \\\"on\\\": [{\\\"events\\\": {\\\"signal\\\": \\\"pts_tuple\\\"}, \\\"update\\\": \\\"modify(\\\\\\\"pts_store\\\\\\\", pts_tuple, true)\\\"}]}], \\\"marks\\\": [{\\\"name\\\": \\\"marks\\\", \\\"type\\\": \\\"rect\\\", \\\"style\\\": [\\\"bar\\\"], \\\"from\\\": {\\\"data\\\": \\\"data_5\\\"}, \\\"encode\\\": {\\\"hover\\\": {\\\"fill\\\": {\\\"value\\\": \\\"#7EC2F3\\\"}}, \\\"update\\\": {\\\"x\\\": {\\\"scale\\\": \\\"x\\\", \\\"field\\\": \\\"count\\\"}, \\\"x2\\\": {\\\"scale\\\": \\\"x\\\", \\\"value\\\": 0}, \\\"y\\\": {\\\"scale\\\": \\\"y\\\", \\\"field\\\": \\\"label\\\"}, \\\"height\\\": {\\\"scale\\\": \\\"y\\\", \\\"band\\\": true}, \\\"fill\\\": {\\\"value\\\": \\\"#108EE9\\\"}}}}], \\\"scales\\\": [{\\\"name\\\": \\\"x\\\", \\\"type\\\": \\\"linear\\\", \\\"domain\\\": {\\\"data\\\": \\\"data_5\\\", \\\"field\\\": \\\"count\\\"}, \\\"range\\\": [0, 250], \\\"nice\\\": true, \\\"zero\\\": true}, {\\\"name\\\": \\\"y\\\", \\\"type\\\": \\\"band\\\", \\\"domain\\\": {\\\"data\\\": \\\"data_5\\\", \\\"field\\\": \\\"label\\\", \\\"sort\\\": {\\\"op\\\": \\\"mean\\\", \\\"field\\\": \\\"label_idx\\\", \\\"order\\\": \\\"descending\\\"}}, \\\"range\\\": [150, 0], \\\"paddingInner\\\": 0.1, \\\"paddingOuter\\\": 0.05}], \\\"axes\\\": [{\\\"orient\\\": \\\"top\\\", \\\"scale\\\": \\\"x\\\", \\\"labelOverlap\\\": true, \\\"tickCount\\\": {\\\"signal\\\": \\\"ceil(width/40)\\\"}, \\\"title\\\": \\\"Count\\\", \\\"zindex\\\": 1}, {\\\"orient\\\": \\\"top\\\", \\\"scale\\\": \\\"x\\\", \\\"domain\\\": false, \\\"grid\\\": true, \\\"labels\\\": false, \\\"maxExtent\\\": 0, \\\"minExtent\\\": 0, \\\"tickCount\\\": {\\\"signal\\\": \\\"ceil(width/40)\\\"}, \\\"ticks\\\": false, \\\"zindex\\\": 0, \\\"gridScale\\\": \\\"y\\\"}, {\\\"scale\\\": \\\"y\\\", \\\"labelOverlap\\\": true, \\\"orient\\\": \\\"left\\\", \\\"title\\\": \\\"Label\\\", \\\"zindex\\\": 1}]}], \\\"type\\\": \\\"group\\\"}], \\\"type\\\": \\\"group\\\"}], \\\"config\\\": {\\\"axis\\\": {\\\"labelFont\\\": \\\"HelveticaNeue-Light, Arial\\\", \\\"labelFontSize\\\": 7, \\\"labelPadding\\\": 10, \\\"labelColor\\\": \\\"#595959\\\", \\\"titleFont\\\": \\\"HelveticaNeue-Light, Arial\\\", \\\"titleFontWeight\\\": \\\"normal\\\", \\\"titlePadding\\\": 9, \\\"titleFontSize\\\": 12, \\\"titleColor\\\": \\\"#595959\\\"}, \\\"axisY\\\": {\\\"minExtent\\\": 30}, \\\"style\\\": {\\\"rect\\\": {\\\"stroke\\\": \\\"rgba(200, 200, 200, 0.5)\\\"}, \\\"group-title\\\": {\\\"fontSize\\\": 20, \\\"font\\\": \\\"HelveticaNeue-Light, Arial\\\", \\\"fontWeight\\\": \\\"normal\\\", \\\"fill\\\": \\\"#595959\\\"}}}}\";                                 var vega_json_parsed = JSON.parse(vega_json);                                 var toolTipOpts = {                                     showAllFields: true                                 };                                 if(vega_json_parsed[\"metadata\"] != null){                                     if(vega_json_parsed[\"metadata\"][\"bubbleOpts\"] != null){                                         toolTipOpts = vega_json_parsed[\"metadata\"][\"bubbleOpts\"];                                     };                                 };                                 vegaEmbed(\"#vis\", vega_json_parsed).then(function (result) {                                     vegaTooltip.vega(result.view, toolTipOpts);                                  });                             </script>                         </body>                     </html>' src=\"demo_iframe_srcdoc.htm\">                         <p>Your browser does not support iframes.</p>                     </iframe>                 </body>             </html>"
      ],
      "text/plain": [
       "<IPython.core.display.HTML object>"
      ]
     },
     "metadata": {},
     "output_type": "display_data"
    }
   ],
   "source": [
    "train_data_covid.show()"
   ]
  },
  {
   "cell_type": "code",
   "execution_count": 77,
   "metadata": {},
   "outputs": [],
   "source": [
    "train_data_covid=train_data_covid[train_data_covid['label']=='covid_19 positif']\n"
   ]
  },
  {
   "cell_type": "code",
   "execution_count": 78,
   "metadata": {},
   "outputs": [
    {
     "data": {
      "text/html": [
       "<pre>Materializing SFrame</pre>"
      ],
      "text/plain": [
       "Materializing SFrame"
      ]
     },
     "metadata": {},
     "output_type": "display_data"
    },
    {
     "data": {
      "text/html": [
       "<pre>Warning: Skipping column 'image'. Unable to show columns of type 'image'; only [int, float, str] can be shown.</pre>"
      ],
      "text/plain": [
       "Warning: Skipping column 'image'. Unable to show columns of type 'image'; only [int, float, str] can be shown."
      ]
     },
     "metadata": {},
     "output_type": "display_data"
    },
    {
     "data": {
      "text/html": [
       "<pre>Further warnings of unsupported type will be suppressed.</pre>"
      ],
      "text/plain": [
       "Further warnings of unsupported type will be suppressed."
      ]
     },
     "metadata": {},
     "output_type": "display_data"
    },
    {
     "data": {
      "text/html": [
       "<html>                 <body>                     <iframe style=\"border:0;margin:0\" width=\"1000\" height=\"900\" srcdoc='<html lang=\"en\">                         <head>                             <script src=\"https://cdnjs.cloudflare.com/ajax/libs/vega/5.4.0/vega.js\"></script>                             <script src=\"https://cdnjs.cloudflare.com/ajax/libs/vega-embed/4.0.0/vega-embed.js\"></script>                             <script src=\"https://cdnjs.cloudflare.com/ajax/libs/vega-tooltip/0.5.1/vega-tooltip.min.js\"></script>                             <link rel=\"stylesheet\" type=\"text/css\" href=\"https://cdnjs.cloudflare.com/ajax/libs/vega-tooltip/0.5.1/vega-tooltip.min.css\">                             <style>                             .vega-actions > a{                                 color:white;                                 text-decoration: none;                                 font-family: \"Arial\";                                 cursor:pointer;                                 padding:5px;                                 background:#AAAAAA;                                 border-radius:4px;                                 padding-left:10px;                                 padding-right:10px;                                 margin-right:5px;                             }                             .vega-actions{                                 margin-top:20px;                                 text-align:center                             }                            .vega-actions > a{                                 background:#999999;                            }                             </style>                         </head>                         <body>                             <div id=\"vis\">                             </div>                             <script>                                 var vega_json = \"{\\\"$schema\\\": \\\"https://vega.github.io/schema/vega/v4.json\\\", \\\"metadata\\\": {\\\"bubbleOpts\\\": {\\\"showAllFields\\\": false, \\\"fields\\\": [{\\\"field\\\": \\\"left\\\"}, {\\\"field\\\": \\\"right\\\"}, {\\\"field\\\": \\\"count\\\"}, {\\\"field\\\": \\\"label\\\"}]}}, \\\"width\\\": 800, \\\"height\\\": 680, \\\"padding\\\": 8, \\\"data\\\": [{\\\"name\\\": \\\"pts_store\\\"}, {\\\"name\\\": \\\"source_2\\\", \\\"values\\\": [{\\\"a\\\": 0, \\\"title\\\": \\\"path\\\", \\\"num_row\\\": 315, \\\"type\\\": \\\"str\\\", \\\"num_unique\\\": 315, \\\"num_missing\\\": 0, \\\"categorical\\\": [{\\\"label\\\": \\\"/kaggle/input/covidct/CT_COVID/2019-novel-Coronavirus-severe-adult-respiratory-dist_2020_International-Jour-p3-89%0.png\\\", \\\"label_idx\\\": 0, \\\"count\\\": 1, \\\"percentage\\\": \\\"0.31746%\\\"}, {\\\"label\\\": \\\"/kaggle/input/covidct/CT_COVID/2019-novel-Coronavirus-severe-adult-respiratory-dist_2020_International-Jour-p3-89%1.png\\\", \\\"label_idx\\\": 1, \\\"count\\\": 1, \\\"percentage\\\": \\\"0.31746%\\\"}, {\\\"label\\\": \\\"/kaggle/input/covidct/CT_COVID/2019-novel-Coronavirus-severe-adult-respiratory-dist_2020_International-Jour-p3-91.png\\\", \\\"label_idx\\\": 2, \\\"count\\\": 1, \\\"percentage\\\": \\\"0.31746%\\\"}, {\\\"label\\\": \\\"/kaggle/input/covidct/CT_COVID/2020.01.24.919183-p27-132.png\\\", \\\"label_idx\\\": 3, \\\"count\\\": 1, \\\"percentage\\\": \\\"0.31746%\\\"}, {\\\"label\\\": \\\"/kaggle/input/covidct/CT_COVID/2020.01.24.919183-p27-133.png\\\", \\\"label_idx\\\": 4, \\\"count\\\": 1, \\\"percentage\\\": \\\"0.31746%\\\"}, {\\\"label\\\": \\\"/kaggle/input/covidct/CT_COVID/2020.01.24.919183-p27-134.png\\\", \\\"label_idx\\\": 5, \\\"count\\\": 1, \\\"percentage\\\": \\\"0.31746%\\\"}, {\\\"label\\\": \\\"/kaggle/input/covidct/CT_COVID/2020.01.24.919183-p27-135.png\\\", \\\"label_idx\\\": 6, \\\"count\\\": 1, \\\"percentage\\\": \\\"0.31746%\\\"}, {\\\"label\\\": \\\"/kaggle/input/covidct/CT_COVID/2020.02.10.20021584-p6-52%0.png\\\", \\\"label_idx\\\": 7, \\\"count\\\": 1, \\\"percentage\\\": \\\"0.31746%\\\"}, {\\\"label\\\": \\\"/kaggle/input/covidct/CT_COVID/2020.02.10.20021584-p6-52%1.png\\\", \\\"label_idx\\\": 8, \\\"count\\\": 1, \\\"percentage\\\": \\\"0.31746%\\\"}, {\\\"label\\\": \\\"/kaggle/input/covidct/CT_COVID/2020.02.10.20021584-p6-52%10.png\\\", \\\"label_idx\\\": 9, \\\"count\\\": 1, \\\"percentage\\\": \\\"0.31746%\\\"}, {\\\"label\\\": \\\"Other (305 labels)\\\", \\\"label_idx\\\": 10, \\\"count\\\": 305, \\\"percentage\\\": \\\"96.8254%\\\"}], \\\"numeric\\\": []}, {\\\"a\\\": 1, \\\"title\\\": \\\"label\\\", \\\"num_row\\\": 315, \\\"type\\\": \\\"str\\\", \\\"num_unique\\\": 1, \\\"num_missing\\\": 0, \\\"categorical\\\": [{\\\"label\\\": \\\"covid_19 positif\\\", \\\"label_idx\\\": 0, \\\"count\\\": 315, \\\"percentage\\\": \\\"100%\\\"}], \\\"numeric\\\": []}]}, {\\\"name\\\": \\\"data_2\\\", \\\"source\\\": \\\"source_2\\\", \\\"transform\\\": [{\\\"type\\\": \\\"formula\\\", \\\"expr\\\": \\\"20\\\", \\\"as\\\": \\\"c_x_axis_back\\\"}, {\\\"type\\\": \\\"formula\\\", \\\"expr\\\": \\\"toNumber(datum[\\\\\\\"a\\\\\\\"])*300+66\\\", \\\"as\\\": \\\"c_main_background\\\"}, {\\\"type\\\": \\\"formula\\\", \\\"expr\\\": \\\"toNumber(datum[\\\\\\\"a\\\\\\\"])*300+43\\\", \\\"as\\\": \\\"c_top_bar\\\"}, {\\\"type\\\": \\\"formula\\\", \\\"expr\\\": \\\"toNumber(datum[\\\\\\\"a\\\\\\\"])*300+59\\\", \\\"as\\\": \\\"c_top_title\\\"}, {\\\"type\\\": \\\"formula\\\", \\\"expr\\\": \\\"toNumber(datum[\\\\\\\"a\\\\\\\"])*300+58\\\", \\\"as\\\": \\\"c_top_type\\\"}, {\\\"type\\\": \\\"formula\\\", \\\"expr\\\": \\\"toNumber(datum[\\\\\\\"a\\\\\\\"])*300+178\\\", \\\"as\\\": \\\"c_rule\\\"}, {\\\"type\\\": \\\"formula\\\", \\\"expr\\\": \\\"toNumber(datum[\\\\\\\"a\\\\\\\"])*300+106\\\", \\\"as\\\": \\\"c_num_rows\\\"}, {\\\"type\\\": \\\"formula\\\", \\\"expr\\\": \\\"toNumber(datum[\\\\\\\"a\\\\\\\"])*300+130\\\", \\\"as\\\": \\\"c_num_unique\\\"}, {\\\"type\\\": \\\"formula\\\", \\\"expr\\\": \\\"toNumber(datum[\\\\\\\"a\\\\\\\"])*300+154\\\", \\\"as\\\": \\\"c_missing\\\"}, {\\\"type\\\": \\\"formula\\\", \\\"expr\\\": \\\"toNumber(datum[\\\\\\\"a\\\\\\\"])*300+105\\\", \\\"as\\\": \\\"c_num_rows_val\\\"}, {\\\"type\\\": \\\"formula\\\", \\\"expr\\\": \\\"toNumber(datum[\\\\\\\"a\\\\\\\"])*300+130\\\", \\\"as\\\": \\\"c_num_unique_val\\\"}, {\\\"type\\\": \\\"formula\\\", \\\"expr\\\": \\\"toNumber(datum[\\\\\\\"a\\\\\\\"])*300+154\\\", \\\"as\\\": \\\"c_missing_val\\\"}, {\\\"type\\\": \\\"formula\\\", \\\"expr\\\": \\\"toNumber(datum[\\\\\\\"a\\\\\\\"])*300+195\\\", \\\"as\\\": \\\"c_frequent_items\\\"}, {\\\"type\\\": \\\"formula\\\", \\\"expr\\\": \\\"toNumber(datum[\\\\\\\"a\\\\\\\"])*300+218\\\", \\\"as\\\": \\\"c_first_item\\\"}, {\\\"type\\\": \\\"formula\\\", \\\"expr\\\": \\\"toNumber(datum[\\\\\\\"a\\\\\\\"])*300+235\\\", \\\"as\\\": \\\"c_second_item\\\"}, {\\\"type\\\": \\\"formula\\\", \\\"expr\\\": \\\"toNumber(datum[\\\\\\\"a\\\\\\\"])*300+252\\\", \\\"as\\\": \\\"c_third_item\\\"}, {\\\"type\\\": \\\"formula\\\", \\\"expr\\\": \\\"toNumber(datum[\\\\\\\"a\\\\\\\"])*300+269\\\", \\\"as\\\": \\\"c_fourth_item\\\"}, {\\\"type\\\": \\\"formula\\\", \\\"expr\\\": \\\"toNumber(datum[\\\\\\\"a\\\\\\\"])*300+286\\\", \\\"as\\\": \\\"c_fifth_item\\\"}, {\\\"type\\\": \\\"formula\\\", \\\"expr\\\": \\\"toNumber(datum[\\\\\\\"a\\\\\\\"])*300+200\\\", \\\"as\\\": \\\"c_mean\\\"}, {\\\"type\\\": \\\"formula\\\", \\\"expr\\\": \\\"toNumber(datum[\\\\\\\"a\\\\\\\"])*300+220\\\", \\\"as\\\": \\\"c_min\\\"}, {\\\"type\\\": \\\"formula\\\", \\\"expr\\\": \\\"toNumber(datum[\\\\\\\"a\\\\\\\"])*300+240\\\", \\\"as\\\": \\\"c_max\\\"}, {\\\"type\\\": \\\"formula\\\", \\\"expr\\\": \\\"toNumber(datum[\\\\\\\"a\\\\\\\"])*300+260\\\", \\\"as\\\": \\\"c_median\\\"}, {\\\"type\\\": \\\"formula\\\", \\\"expr\\\": \\\"toNumber(datum[\\\\\\\"a\\\\\\\"])*300+280\\\", \\\"as\\\": \\\"c_stdev\\\"}, {\\\"type\\\": \\\"formula\\\", \\\"expr\\\": \\\"toNumber(datum[\\\\\\\"a\\\\\\\"])*300+198\\\", \\\"as\\\": \\\"c_mean_val\\\"}, {\\\"type\\\": \\\"formula\\\", \\\"expr\\\": \\\"toNumber(datum[\\\\\\\"a\\\\\\\"])*300+218\\\", \\\"as\\\": \\\"c_min_val\\\"}, {\\\"type\\\": \\\"formula\\\", \\\"expr\\\": \\\"toNumber(datum[\\\\\\\"a\\\\\\\"])*300+238\\\", \\\"as\\\": \\\"c_max_val\\\"}, {\\\"type\\\": \\\"formula\\\", \\\"expr\\\": \\\"toNumber(datum[\\\\\\\"a\\\\\\\"])*300+258\\\", \\\"as\\\": \\\"c_median_val\\\"}, {\\\"type\\\": \\\"formula\\\", \\\"expr\\\": \\\"toNumber(datum[\\\\\\\"a\\\\\\\"])*300+278\\\", \\\"as\\\": \\\"c_stdev_val\\\"}, {\\\"type\\\": \\\"formula\\\", \\\"expr\\\": \\\"toNumber(datum[\\\\\\\"a\\\\\\\"])*300+106\\\", \\\"as\\\": \\\"graph_offset\\\"}, {\\\"type\\\": \\\"formula\\\", \\\"expr\\\": \\\"toNumber(datum[\\\\\\\"a\\\\\\\"])*300+132\\\", \\\"as\\\": \\\"graph_offset_categorical\\\"}, {\\\"type\\\": \\\"formula\\\", \\\"expr\\\": \\\"(toString(datum[\\\\\\\"type\\\\\\\"]) == \\\\\\\"integer\\\\\\\" || toString(datum[\\\\\\\"type\\\\\\\"]) == \\\\\\\"float\\\\\\\")?false:true\\\", \\\"as\\\": \\\"c_clip_val\\\"}, {\\\"type\\\": \\\"formula\\\", \\\"expr\\\": \\\"(toString(datum[\\\\\\\"type\\\\\\\"]) == \\\\\\\"integer\\\\\\\" || toString(datum[\\\\\\\"type\\\\\\\"]) == \\\\\\\"float\\\\\\\")?250:0\\\", \\\"as\\\": \\\"c_width_numeric_val\\\"}, {\\\"type\\\": \\\"formula\\\", \\\"expr\\\": \\\"(toString(datum[\\\\\\\"type\\\\\\\"]) == \\\\\\\"str\\\\\\\")?false:true\\\", \\\"as\\\": \\\"c_clip_val_cat\\\"}, {\\\"type\\\": \\\"formula\\\", \\\"expr\\\": \\\"(toString(datum[\\\\\\\"type\\\\\\\"]) == \\\\\\\"str\\\\\\\")?250:0\\\", \\\"as\\\": \\\"c_width_numeric_val_cat\\\"}]}], \\\"marks\\\": [{\\\"encode\\\": {\\\"enter\\\": {\\\"x\\\": {\\\"value\\\": 0}, \\\"width\\\": {\\\"value\\\": 734}, \\\"y\\\": {\\\"value\\\": 0}, \\\"height\\\": {\\\"value\\\": 366}, \\\"clip\\\": {\\\"value\\\": 0}, \\\"fill\\\": {\\\"value\\\": \\\"#ffffff\\\"}, \\\"fillOpacity\\\": {\\\"value\\\": 0}, \\\"stroke\\\": {\\\"value\\\": \\\"#000000\\\"}, \\\"strokeWidth\\\": {\\\"value\\\": 0}}}, \\\"marks\\\": [{\\\"encode\\\": {\\\"enter\\\": {\\\"x\\\": {\\\"value\\\": 0}, \\\"width\\\": {\\\"value\\\": 734}, \\\"y\\\": {\\\"value\\\": 0}, \\\"height\\\": {\\\"value\\\": 366}, \\\"clip\\\": {\\\"value\\\": 0}, \\\"fill\\\": {\\\"value\\\": \\\"#ffffff\\\"}, \\\"fillOpacity\\\": {\\\"value\\\": 0}, \\\"stroke\\\": {\\\"value\\\": \\\"#000000\\\"}, \\\"strokeWidth\\\": {\\\"value\\\": 0}}}, \\\"scales\\\": [], \\\"axes\\\": [], \\\"marks\\\": [{\\\"from\\\": {\\\"data\\\": \\\"data_2\\\"}, \\\"encode\\\": {\\\"enter\\\": {\\\"x\\\": {\\\"value\\\": 33}, \\\"width\\\": {\\\"value\\\": 700}, \\\"y\\\": {\\\"value\\\": 66}, \\\"height\\\": {\\\"value\\\": 250}, \\\"fill\\\": {\\\"value\\\": \\\"#FEFEFE\\\"}, \\\"fillOpacity\\\": {\\\"value\\\": 1}, \\\"stroke\\\": {\\\"value\\\": \\\"#DEDEDE\\\"}, \\\"strokeWidth\\\": {\\\"value\\\": 0.5}}, \\\"update\\\": {\\\"x\\\": {\\\"signal\\\": \\\"datum[\\\\\\\"c_x_axis_back\\\\\\\"]\\\"}, \\\"y\\\": {\\\"field\\\": \\\"c_main_background\\\"}}}, \\\"type\\\": \\\"rect\\\"}, {\\\"from\\\": {\\\"data\\\": \\\"data_2\\\"}, \\\"encode\\\": {\\\"enter\\\": {\\\"x\\\": {\\\"value\\\": 33}, \\\"width\\\": {\\\"value\\\": 700}, \\\"y\\\": {\\\"value\\\": 43}, \\\"height\\\": {\\\"value\\\": 30}, \\\"fill\\\": {\\\"value\\\": \\\"#F5F5F5\\\"}, \\\"fillOpacity\\\": {\\\"value\\\": 1}, \\\"stroke\\\": {\\\"value\\\": \\\"#DEDEDE\\\"}, \\\"strokeWidth\\\": {\\\"value\\\": 0.5}}, \\\"update\\\": {\\\"x\\\": {\\\"signal\\\": \\\"datum[\\\\\\\"c_x_axis_back\\\\\\\"]\\\"}, \\\"y\\\": {\\\"field\\\": \\\"c_top_bar\\\"}}}, \\\"type\\\": \\\"rect\\\"}, {\\\"from\\\": {\\\"data\\\": \\\"data_2\\\"}, \\\"encode\\\": {\\\"enter\\\": {\\\"x\\\": {\\\"value\\\": 720}, \\\"y\\\": {\\\"value\\\": 58}, \\\"text\\\": {\\\"signal\\\": \\\"&apos;&apos;+datum[\\\\\\\"type\\\\\\\"]\\\"}, \\\"align\\\": {\\\"value\\\": \\\"right\\\"}, \\\"baseline\\\": {\\\"value\\\": \\\"middle\\\"}, \\\"dx\\\": {\\\"value\\\": 0, \\\"offset\\\": 0}, \\\"dy\\\": {\\\"value\\\": 0, \\\"offset\\\": 0}, \\\"angle\\\": {\\\"value\\\": 0}, \\\"font\\\": {\\\"value\\\": \\\"AvenirNext-Medium\\\"}, \\\"fontSize\\\": {\\\"value\\\": 12}, \\\"fontWeight\\\": {\\\"value\\\": \\\"normal\\\"}, \\\"fontStyle\\\": {\\\"value\\\": \\\"normal\\\"}, \\\"fill\\\": {\\\"value\\\": \\\"#595859\\\"}}, \\\"update\\\": {\\\"x\\\": {\\\"signal\\\": \\\"datum[\\\\\\\"c_x_axis_back\\\\\\\"]+687\\\"}, \\\"y\\\": {\\\"field\\\": \\\"c_top_type\\\"}}}, \\\"type\\\": \\\"text\\\"}, {\\\"from\\\": {\\\"data\\\": \\\"data_2\\\"}, \\\"encode\\\": {\\\"enter\\\": {\\\"x\\\": {\\\"value\\\": 44}, \\\"y\\\": {\\\"value\\\": 59}, \\\"text\\\": {\\\"signal\\\": \\\"&apos;&apos;+datum[\\\\\\\"title\\\\\\\"]\\\"}, \\\"align\\\": {\\\"value\\\": \\\"left\\\"}, \\\"baseline\\\": {\\\"value\\\": \\\"middle\\\"}, \\\"dx\\\": {\\\"value\\\": 0, \\\"offset\\\": 0}, \\\"dy\\\": {\\\"value\\\": 0, \\\"offset\\\": 0}, \\\"angle\\\": {\\\"value\\\": 0}, \\\"font\\\": {\\\"value\\\": \\\"AvenirNext-Medium\\\"}, \\\"fontSize\\\": {\\\"value\\\": 15}, \\\"fontWeight\\\": {\\\"value\\\": \\\"normal\\\"}, \\\"fontStyle\\\": {\\\"value\\\": \\\"normal\\\"}, \\\"fill\\\": {\\\"value\\\": \\\"#9B9B9B\\\"}}, \\\"update\\\": {\\\"x\\\": {\\\"signal\\\": \\\"datum[\\\\\\\"c_x_axis_back\\\\\\\"]+11\\\"}, \\\"y\\\": {\\\"field\\\": \\\"c_top_title\\\"}}}, \\\"type\\\": \\\"text\\\"}, {\\\"from\\\": {\\\"data\\\": \\\"data_2\\\"}, \\\"encode\\\": {\\\"enter\\\": {\\\"x\\\": {\\\"value\\\": 500}, \\\"y\\\": {\\\"value\\\": 178}, \\\"stroke\\\": {\\\"value\\\": \\\"#EDEDEB\\\"}, \\\"strokeWidth\\\": {\\\"value\\\": 1}, \\\"strokeCap\\\": {\\\"value\\\": \\\"butt\\\"}, \\\"x2\\\": {\\\"value\\\": 720}, \\\"y2\\\": {\\\"value\\\": 178}}, \\\"update\\\": {\\\"x\\\": {\\\"signal\\\": \\\"datum[\\\\\\\"c_x_axis_back\\\\\\\"]+467\\\"}, \\\"x2\\\": {\\\"signal\\\": \\\"datum[\\\\\\\"c_x_axis_back\\\\\\\"]+687\\\"}, \\\"y\\\": {\\\"field\\\": \\\"c_rule\\\"}, \\\"y2\\\": {\\\"field\\\": \\\"c_rule\\\"}}}, \\\"type\\\": \\\"rule\\\"}, {\\\"from\\\": {\\\"data\\\": \\\"data_2\\\"}, \\\"encode\\\": {\\\"enter\\\": {\\\"x\\\": {\\\"value\\\": 500}, \\\"y\\\": {\\\"value\\\": 106}, \\\"text\\\": {\\\"value\\\": \\\"Num. Rows:\\\"}, \\\"align\\\": {\\\"value\\\": \\\"left\\\"}, \\\"baseline\\\": {\\\"value\\\": \\\"middle\\\"}, \\\"dx\\\": {\\\"value\\\": 0, \\\"offset\\\": 0}, \\\"dy\\\": {\\\"value\\\": 0, \\\"offset\\\": 0}, \\\"angle\\\": {\\\"value\\\": 0}, \\\"font\\\": {\\\"value\\\": \\\"AvenirNext-Medium\\\"}, \\\"fontSize\\\": {\\\"value\\\": 12}, \\\"fontWeight\\\": {\\\"value\\\": \\\"normal\\\"}, \\\"fontStyle\\\": {\\\"value\\\": \\\"normal\\\"}, \\\"fill\\\": {\\\"value\\\": \\\"#4A4A4A\\\"}}, \\\"update\\\": {\\\"x\\\": {\\\"signal\\\": \\\"datum[\\\\\\\"c_x_axis_back\\\\\\\"]+467\\\"}, \\\"y\\\": {\\\"field\\\": \\\"c_num_rows\\\"}}}, \\\"type\\\": \\\"text\\\"}, {\\\"from\\\": {\\\"data\\\": \\\"data_2\\\"}, \\\"encode\\\": {\\\"enter\\\": {\\\"x\\\": {\\\"value\\\": 500}, \\\"y\\\": {\\\"value\\\": 130}, \\\"text\\\": {\\\"value\\\": \\\"Num. Unique:\\\"}, \\\"align\\\": {\\\"value\\\": \\\"left\\\"}, \\\"baseline\\\": {\\\"value\\\": \\\"middle\\\"}, \\\"dx\\\": {\\\"value\\\": 0, \\\"offset\\\": 0}, \\\"dy\\\": {\\\"value\\\": 0, \\\"offset\\\": 0}, \\\"angle\\\": {\\\"value\\\": 0}, \\\"font\\\": {\\\"value\\\": \\\"AvenirNext-Medium\\\"}, \\\"fontSize\\\": {\\\"value\\\": 12}, \\\"fontWeight\\\": {\\\"value\\\": \\\"normal\\\"}, \\\"fontStyle\\\": {\\\"value\\\": \\\"normal\\\"}, \\\"fill\\\": {\\\"value\\\": \\\"#4A4A4A\\\"}}, \\\"update\\\": {\\\"x\\\": {\\\"signal\\\": \\\"datum[\\\\\\\"c_x_axis_back\\\\\\\"]+467\\\"}, \\\"y\\\": {\\\"field\\\": \\\"c_num_unique\\\"}}}, \\\"type\\\": \\\"text\\\"}, {\\\"from\\\": {\\\"data\\\": \\\"data_2\\\"}, \\\"encode\\\": {\\\"enter\\\": {\\\"x\\\": {\\\"value\\\": 500}, \\\"y\\\": {\\\"value\\\": 154}, \\\"text\\\": {\\\"value\\\": \\\"Missing:\\\"}, \\\"align\\\": {\\\"value\\\": \\\"left\\\"}, \\\"baseline\\\": {\\\"value\\\": \\\"middle\\\"}, \\\"dx\\\": {\\\"value\\\": 0, \\\"offset\\\": 0}, \\\"dy\\\": {\\\"value\\\": 0, \\\"offset\\\": 0}, \\\"angle\\\": {\\\"value\\\": 0}, \\\"font\\\": {\\\"value\\\": \\\"AvenirNext-Medium\\\"}, \\\"fontSize\\\": {\\\"value\\\": 12}, \\\"fontWeight\\\": {\\\"value\\\": \\\"normal\\\"}, \\\"fontStyle\\\": {\\\"value\\\": \\\"normal\\\"}, \\\"fill\\\": {\\\"value\\\": \\\"#4A4A4A\\\"}}, \\\"update\\\": {\\\"x\\\": {\\\"signal\\\": \\\"datum[\\\\\\\"c_x_axis_back\\\\\\\"]+467\\\"}, \\\"y\\\": {\\\"field\\\": \\\"c_missing\\\"}}}, \\\"type\\\": \\\"text\\\"}, {\\\"from\\\": {\\\"data\\\": \\\"data_2\\\"}, \\\"encode\\\": {\\\"enter\\\": {\\\"x\\\": {\\\"value\\\": 700}, \\\"y\\\": {\\\"value\\\": 105}, \\\"text\\\": {\\\"signal\\\": \\\"toString(format(datum[\\\\\\\"num_row\\\\\\\"], \\\\\\\",\\\\\\\"))\\\"}, \\\"align\\\": {\\\"value\\\": \\\"right\\\"}, \\\"baseline\\\": {\\\"value\\\": \\\"middle\\\"}, \\\"dx\\\": {\\\"value\\\": 0, \\\"offset\\\": 0}, \\\"dy\\\": {\\\"value\\\": 0, \\\"offset\\\": 0}, \\\"angle\\\": {\\\"value\\\": 0}, \\\"font\\\": {\\\"value\\\": \\\"AvenirNext-Medium\\\"}, \\\"fontSize\\\": {\\\"value\\\": 12}, \\\"fontWeight\\\": {\\\"value\\\": \\\"normal\\\"}, \\\"fontStyle\\\": {\\\"value\\\": \\\"normal\\\"}, \\\"fill\\\": {\\\"value\\\": \\\"#5A5A5A\\\"}}, \\\"update\\\": {\\\"x\\\": {\\\"signal\\\": \\\"datum[\\\\\\\"c_x_axis_back\\\\\\\"]+667\\\"}, \\\"y\\\": {\\\"field\\\": \\\"c_num_rows_val\\\"}}}, \\\"type\\\": \\\"text\\\"}, {\\\"from\\\": {\\\"data\\\": \\\"data_2\\\"}, \\\"encode\\\": {\\\"enter\\\": {\\\"x\\\": {\\\"value\\\": 700}, \\\"y\\\": {\\\"value\\\": 130}, \\\"text\\\": {\\\"signal\\\": \\\"toString(format(datum[\\\\\\\"num_unique\\\\\\\"], \\\\\\\",\\\\\\\"))\\\"}, \\\"align\\\": {\\\"value\\\": \\\"right\\\"}, \\\"baseline\\\": {\\\"value\\\": \\\"middle\\\"}, \\\"dx\\\": {\\\"value\\\": 0, \\\"offset\\\": 0}, \\\"dy\\\": {\\\"value\\\": 0, \\\"offset\\\": 0}, \\\"angle\\\": {\\\"value\\\": 0}, \\\"font\\\": {\\\"value\\\": \\\"AvenirNext-Medium\\\"}, \\\"fontSize\\\": {\\\"value\\\": 12}, \\\"fontWeight\\\": {\\\"value\\\": \\\"normal\\\"}, \\\"fontStyle\\\": {\\\"value\\\": \\\"normal\\\"}, \\\"fill\\\": {\\\"value\\\": \\\"#5A5A5A\\\"}}, \\\"update\\\": {\\\"x\\\": {\\\"signal\\\": \\\"datum[\\\\\\\"c_x_axis_back\\\\\\\"]+667\\\"}, \\\"y\\\": {\\\"field\\\": \\\"c_num_unique_val\\\"}}}, \\\"type\\\": \\\"text\\\"}, {\\\"from\\\": {\\\"data\\\": \\\"data_2\\\"}, \\\"encode\\\": {\\\"enter\\\": {\\\"x\\\": {\\\"value\\\": 700}, \\\"y\\\": {\\\"value\\\": 154}, \\\"text\\\": {\\\"signal\\\": \\\"toString(format(datum[\\\\\\\"num_missing\\\\\\\"], \\\\\\\",\\\\\\\"))\\\"}, \\\"align\\\": {\\\"value\\\": \\\"right\\\"}, \\\"baseline\\\": {\\\"value\\\": \\\"middle\\\"}, \\\"dx\\\": {\\\"value\\\": 0, \\\"offset\\\": 0}, \\\"dy\\\": {\\\"value\\\": 0, \\\"offset\\\": 0}, \\\"angle\\\": {\\\"value\\\": 0}, \\\"font\\\": {\\\"value\\\": \\\"AvenirNext-Medium\\\"}, \\\"fontSize\\\": {\\\"value\\\": 12}, \\\"fontWeight\\\": {\\\"value\\\": \\\"normal\\\"}, \\\"fontStyle\\\": {\\\"value\\\": \\\"normal\\\"}, \\\"fill\\\": {\\\"value\\\": \\\"#5A5A5A\\\"}}, \\\"update\\\": {\\\"x\\\": {\\\"signal\\\": \\\"datum[\\\\\\\"c_x_axis_back\\\\\\\"]+667\\\"}, \\\"y\\\": {\\\"field\\\": \\\"c_missing_val\\\"}}}, \\\"type\\\": \\\"text\\\"}, {\\\"from\\\": {\\\"data\\\": \\\"data_2\\\"}, \\\"encode\\\": {\\\"enter\\\": {\\\"x\\\": {\\\"value\\\": 500}, \\\"y\\\": {\\\"value\\\": 200}, \\\"text\\\": {\\\"signal\\\": \\\"(toString(datum[\\\\\\\"type\\\\\\\"]) == \\\\\\\"str\\\\\\\")? \\\\\\\"Frequent Items\\\\\\\":\\\\\\\"\\\\\\\"\\\"}, \\\"align\\\": {\\\"value\\\": \\\"left\\\"}, \\\"baseline\\\": {\\\"value\\\": \\\"middle\\\"}, \\\"dx\\\": {\\\"value\\\": 0, \\\"offset\\\": 0}, \\\"dy\\\": {\\\"value\\\": 0, \\\"offset\\\": 0}, \\\"angle\\\": {\\\"value\\\": 0}, \\\"clip\\\": {\\\"value\\\": true}, \\\"font\\\": {\\\"value\\\": \\\"AvenirNext-Medium\\\"}, \\\"fontSize\\\": {\\\"value\\\": 11}, \\\"fontWeight\\\": {\\\"value\\\": \\\"bold\\\"}, \\\"fontStyle\\\": {\\\"value\\\": \\\"normal\\\"}, \\\"fill\\\": {\\\"value\\\": \\\"#4A4A4A\\\"}}, \\\"update\\\": {\\\"x\\\": {\\\"signal\\\": \\\"datum[\\\\\\\"c_x_axis_back\\\\\\\"]+467\\\"}, \\\"y\\\": {\\\"field\\\": \\\"c_frequent_items\\\"}}}, \\\"type\\\": \\\"text\\\"}, {\\\"from\\\": {\\\"data\\\": \\\"data_2\\\"}, \\\"encode\\\": {\\\"enter\\\": {\\\"x\\\": {\\\"value\\\": 520}, \\\"y\\\": {\\\"value\\\": 200}, \\\"text\\\": {\\\"signal\\\": \\\"((datum[\\\\\\\"categorical\\\\\\\"].length >= 1) &amp;&amp; (toString(datum[\\\\\\\"type\\\\\\\"]) == \\\\\\\"str\\\\\\\"))? toString(datum[\\\\\\\"categorical\\\\\\\"][0][\\\\\\\"label\\\\\\\"]):\\\\\\\"\\\\\\\"\\\"}, \\\"align\\\": {\\\"value\\\": \\\"left\\\"}, \\\"baseline\\\": {\\\"value\\\": \\\"middle\\\"}, \\\"dx\\\": {\\\"value\\\": 0, \\\"offset\\\": 0}, \\\"dy\\\": {\\\"value\\\": 0, \\\"offset\\\": 0}, \\\"angle\\\": {\\\"value\\\": 0}, \\\"clip\\\": {\\\"value\\\": true}, \\\"font\\\": {\\\"value\\\": \\\"AvenirNext-Medium\\\"}, \\\"fontSize\\\": {\\\"value\\\": 11}, \\\"fontWeight\\\": {\\\"value\\\": \\\"normal\\\"}, \\\"fontStyle\\\": {\\\"value\\\": \\\"normal\\\"}, \\\"fill\\\": {\\\"value\\\": \\\"#4A4A4A\\\"}}, \\\"update\\\": {\\\"x\\\": {\\\"signal\\\": \\\"datum[\\\\\\\"c_x_axis_back\\\\\\\"]+487\\\"}, \\\"y\\\": {\\\"field\\\": \\\"c_first_item\\\"}}}, \\\"type\\\": \\\"text\\\"}, {\\\"from\\\": {\\\"data\\\": \\\"data_2\\\"}, \\\"encode\\\": {\\\"enter\\\": {\\\"x\\\": {\\\"value\\\": 520}, \\\"y\\\": {\\\"value\\\": 200}, \\\"text\\\": {\\\"signal\\\": \\\"((datum[\\\\\\\"categorical\\\\\\\"].length >= 2) &amp;&amp; (toString(datum[\\\\\\\"type\\\\\\\"]) == \\\\\\\"str\\\\\\\"))? toString(datum[\\\\\\\"categorical\\\\\\\"][1][\\\\\\\"label\\\\\\\"]):\\\\\\\"\\\\\\\"\\\"}, \\\"align\\\": {\\\"value\\\": \\\"left\\\"}, \\\"baseline\\\": {\\\"value\\\": \\\"middle\\\"}, \\\"dx\\\": {\\\"value\\\": 0, \\\"offset\\\": 0}, \\\"dy\\\": {\\\"value\\\": 0, \\\"offset\\\": 0}, \\\"angle\\\": {\\\"value\\\": 0}, \\\"clip\\\": {\\\"value\\\": true}, \\\"font\\\": {\\\"value\\\": \\\"AvenirNext-Medium\\\"}, \\\"fontSize\\\": {\\\"value\\\": 11}, \\\"fontWeight\\\": {\\\"value\\\": \\\"normal\\\"}, \\\"fontStyle\\\": {\\\"value\\\": \\\"normal\\\"}, \\\"fill\\\": {\\\"value\\\": \\\"#4A4A4A\\\"}}, \\\"update\\\": {\\\"x\\\": {\\\"signal\\\": \\\"datum[\\\\\\\"c_x_axis_back\\\\\\\"]+487\\\"}, \\\"y\\\": {\\\"field\\\": \\\"c_second_item\\\"}}}, \\\"type\\\": \\\"text\\\"}, {\\\"from\\\": {\\\"data\\\": \\\"data_2\\\"}, \\\"encode\\\": {\\\"enter\\\": {\\\"x\\\": {\\\"value\\\": 520}, \\\"y\\\": {\\\"value\\\": 200}, \\\"text\\\": {\\\"signal\\\": \\\"((datum[\\\\\\\"categorical\\\\\\\"].length >= 3) &amp;&amp; (toString(datum[\\\\\\\"type\\\\\\\"]) == \\\\\\\"str\\\\\\\"))? toString(datum[\\\\\\\"categorical\\\\\\\"][2][\\\\\\\"label\\\\\\\"]):\\\\\\\"\\\\\\\"\\\"}, \\\"align\\\": {\\\"value\\\": \\\"left\\\"}, \\\"baseline\\\": {\\\"value\\\": \\\"middle\\\"}, \\\"dx\\\": {\\\"value\\\": 0, \\\"offset\\\": 0}, \\\"dy\\\": {\\\"value\\\": 0, \\\"offset\\\": 0}, \\\"angle\\\": {\\\"value\\\": 0}, \\\"clip\\\": {\\\"value\\\": true}, \\\"font\\\": {\\\"value\\\": \\\"AvenirNext-Medium\\\"}, \\\"fontSize\\\": {\\\"value\\\": 11}, \\\"fontWeight\\\": {\\\"value\\\": \\\"normal\\\"}, \\\"fontStyle\\\": {\\\"value\\\": \\\"normal\\\"}, \\\"fill\\\": {\\\"value\\\": \\\"#4A4A4A\\\"}}, \\\"update\\\": {\\\"x\\\": {\\\"signal\\\": \\\"datum[\\\\\\\"c_x_axis_back\\\\\\\"]+487\\\"}, \\\"y\\\": {\\\"field\\\": \\\"c_third_item\\\"}}}, \\\"type\\\": \\\"text\\\"}, {\\\"from\\\": {\\\"data\\\": \\\"data_2\\\"}, \\\"encode\\\": {\\\"enter\\\": {\\\"x\\\": {\\\"value\\\": 520}, \\\"y\\\": {\\\"value\\\": 200}, \\\"text\\\": {\\\"signal\\\": \\\"((datum[\\\\\\\"categorical\\\\\\\"].length >= 4) &amp;&amp; (toString(datum[\\\\\\\"type\\\\\\\"]) == \\\\\\\"str\\\\\\\"))? toString(datum[\\\\\\\"categorical\\\\\\\"][3][\\\\\\\"label\\\\\\\"]):\\\\\\\"\\\\\\\"\\\"}, \\\"align\\\": {\\\"value\\\": \\\"left\\\"}, \\\"baseline\\\": {\\\"value\\\": \\\"middle\\\"}, \\\"dx\\\": {\\\"value\\\": 0, \\\"offset\\\": 0}, \\\"dy\\\": {\\\"value\\\": 0, \\\"offset\\\": 0}, \\\"angle\\\": {\\\"value\\\": 0}, \\\"clip\\\": {\\\"value\\\": true}, \\\"font\\\": {\\\"value\\\": \\\"AvenirNext-Medium\\\"}, \\\"fontSize\\\": {\\\"value\\\": 11}, \\\"fontWeight\\\": {\\\"value\\\": \\\"normal\\\"}, \\\"fontStyle\\\": {\\\"value\\\": \\\"normal\\\"}, \\\"fill\\\": {\\\"value\\\": \\\"#4A4A4A\\\"}}, \\\"update\\\": {\\\"x\\\": {\\\"signal\\\": \\\"datum[\\\\\\\"c_x_axis_back\\\\\\\"]+487\\\"}, \\\"y\\\": {\\\"field\\\": \\\"c_fourth_item\\\"}}}, \\\"type\\\": \\\"text\\\"}, {\\\"from\\\": {\\\"data\\\": \\\"data_2\\\"}, \\\"encode\\\": {\\\"enter\\\": {\\\"x\\\": {\\\"value\\\": 520}, \\\"y\\\": {\\\"value\\\": 200}, \\\"text\\\": {\\\"signal\\\": \\\"((datum[\\\\\\\"categorical\\\\\\\"].length >= 5) &amp;&amp; (toString(datum[\\\\\\\"type\\\\\\\"]) == \\\\\\\"str\\\\\\\"))? toString(datum[\\\\\\\"categorical\\\\\\\"][4][\\\\\\\"label\\\\\\\"]):\\\\\\\"\\\\\\\"\\\"}, \\\"align\\\": {\\\"value\\\": \\\"left\\\"}, \\\"baseline\\\": {\\\"value\\\": \\\"middle\\\"}, \\\"dx\\\": {\\\"value\\\": 0, \\\"offset\\\": 0}, \\\"dy\\\": {\\\"value\\\": 0, \\\"offset\\\": 0}, \\\"angle\\\": {\\\"value\\\": 0}, \\\"clip\\\": {\\\"value\\\": true}, \\\"font\\\": {\\\"value\\\": \\\"AvenirNext-Medium\\\"}, \\\"fontSize\\\": {\\\"value\\\": 11}, \\\"fontWeight\\\": {\\\"value\\\": \\\"normal\\\"}, \\\"fontStyle\\\": {\\\"value\\\": \\\"normal\\\"}, \\\"fill\\\": {\\\"value\\\": \\\"#4A4A4A\\\"}}, \\\"update\\\": {\\\"x\\\": {\\\"signal\\\": \\\"datum[\\\\\\\"c_x_axis_back\\\\\\\"]+487\\\"}, \\\"y\\\": {\\\"field\\\": \\\"c_fifth_item\\\"}}}, \\\"type\\\": \\\"text\\\"}, {\\\"from\\\": {\\\"data\\\": \\\"data_2\\\"}, \\\"encode\\\": {\\\"enter\\\": {\\\"x\\\": {\\\"value\\\": 700}, \\\"y\\\": {\\\"value\\\": 200}, \\\"text\\\": {\\\"signal\\\": \\\"((datum[\\\\\\\"categorical\\\\\\\"].length >= 1) &amp;&amp; (toString(datum[\\\\\\\"type\\\\\\\"]) == \\\\\\\"str\\\\\\\"))? toString(datum[\\\\\\\"categorical\\\\\\\"][0][\\\\\\\"count\\\\\\\"]):\\\\\\\"\\\\\\\"\\\"}, \\\"align\\\": {\\\"value\\\": \\\"right\\\"}, \\\"baseline\\\": {\\\"value\\\": \\\"middle\\\"}, \\\"dx\\\": {\\\"value\\\": 0, \\\"offset\\\": 0}, \\\"dy\\\": {\\\"value\\\": 0, \\\"offset\\\": 0}, \\\"angle\\\": {\\\"value\\\": 0}, \\\"clip\\\": {\\\"value\\\": true}, \\\"font\\\": {\\\"value\\\": \\\"AvenirNext-Medium\\\"}, \\\"fontSize\\\": {\\\"value\\\": 11}, \\\"fontWeight\\\": {\\\"value\\\": \\\"normal\\\"}, \\\"fontStyle\\\": {\\\"value\\\": \\\"normal\\\"}, \\\"fill\\\": {\\\"value\\\": \\\"#7A7A7A\\\"}}, \\\"update\\\": {\\\"x\\\": {\\\"signal\\\": \\\"datum[\\\\\\\"c_x_axis_back\\\\\\\"]+667\\\"}, \\\"y\\\": {\\\"field\\\": \\\"c_first_item\\\"}}}, \\\"type\\\": \\\"text\\\"}, {\\\"from\\\": {\\\"data\\\": \\\"data_2\\\"}, \\\"encode\\\": {\\\"enter\\\": {\\\"x\\\": {\\\"value\\\": 700}, \\\"y\\\": {\\\"value\\\": 200}, \\\"text\\\": {\\\"signal\\\": \\\"((datum[\\\\\\\"categorical\\\\\\\"].length >= 2) &amp;&amp; (toString(datum[\\\\\\\"type\\\\\\\"]) == \\\\\\\"str\\\\\\\"))? toString(datum[\\\\\\\"categorical\\\\\\\"][1][\\\\\\\"count\\\\\\\"]):\\\\\\\"\\\\\\\"\\\"}, \\\"align\\\": {\\\"value\\\": \\\"right\\\"}, \\\"baseline\\\": {\\\"value\\\": \\\"middle\\\"}, \\\"dx\\\": {\\\"value\\\": 0, \\\"offset\\\": 0}, \\\"dy\\\": {\\\"value\\\": 0, \\\"offset\\\": 0}, \\\"angle\\\": {\\\"value\\\": 0}, \\\"clip\\\": {\\\"value\\\": true}, \\\"font\\\": {\\\"value\\\": \\\"AvenirNext-Medium\\\"}, \\\"fontSize\\\": {\\\"value\\\": 10}, \\\"fontWeight\\\": {\\\"value\\\": \\\"normal\\\"}, \\\"fontStyle\\\": {\\\"value\\\": \\\"normal\\\"}, \\\"fill\\\": {\\\"value\\\": \\\"#7A7A7A\\\"}}, \\\"update\\\": {\\\"x\\\": {\\\"signal\\\": \\\"datum[\\\\\\\"c_x_axis_back\\\\\\\"]+667\\\"}, \\\"y\\\": {\\\"field\\\": \\\"c_second_item\\\"}}}, \\\"type\\\": \\\"text\\\"}, {\\\"from\\\": {\\\"data\\\": \\\"data_2\\\"}, \\\"encode\\\": {\\\"enter\\\": {\\\"x\\\": {\\\"value\\\": 700}, \\\"y\\\": {\\\"value\\\": 200}, \\\"text\\\": {\\\"signal\\\": \\\"((datum[\\\\\\\"categorical\\\\\\\"].length >= 3) &amp;&amp; (toString(datum[\\\\\\\"type\\\\\\\"]) == \\\\\\\"str\\\\\\\"))? toString(datum[\\\\\\\"categorical\\\\\\\"][2][\\\\\\\"count\\\\\\\"]):\\\\\\\"\\\\\\\"\\\"}, \\\"align\\\": {\\\"value\\\": \\\"right\\\"}, \\\"baseline\\\": {\\\"value\\\": \\\"middle\\\"}, \\\"dx\\\": {\\\"value\\\": 0, \\\"offset\\\": 0}, \\\"dy\\\": {\\\"value\\\": 0, \\\"offset\\\": 0}, \\\"angle\\\": {\\\"value\\\": 0}, \\\"clip\\\": {\\\"value\\\": true}, \\\"font\\\": {\\\"value\\\": \\\"AvenirNext-Medium\\\"}, \\\"fontSize\\\": {\\\"value\\\": 10}, \\\"fontWeight\\\": {\\\"value\\\": \\\"normal\\\"}, \\\"fontStyle\\\": {\\\"value\\\": \\\"normal\\\"}, \\\"fill\\\": {\\\"value\\\": \\\"#7A7A7A\\\"}}, \\\"update\\\": {\\\"x\\\": {\\\"signal\\\": \\\"datum[\\\\\\\"c_x_axis_back\\\\\\\"]+667\\\"}, \\\"y\\\": {\\\"field\\\": \\\"c_third_item\\\"}}}, \\\"type\\\": \\\"text\\\"}, {\\\"from\\\": {\\\"data\\\": \\\"data_2\\\"}, \\\"encode\\\": {\\\"enter\\\": {\\\"x\\\": {\\\"value\\\": 700}, \\\"y\\\": {\\\"value\\\": 200}, \\\"text\\\": {\\\"signal\\\": \\\"((datum[\\\\\\\"categorical\\\\\\\"].length >= 4) &amp;&amp; (toString(datum[\\\\\\\"type\\\\\\\"]) == \\\\\\\"str\\\\\\\"))? toString(datum[\\\\\\\"categorical\\\\\\\"][3][\\\\\\\"count\\\\\\\"]):\\\\\\\"\\\\\\\"\\\"}, \\\"align\\\": {\\\"value\\\": \\\"right\\\"}, \\\"baseline\\\": {\\\"value\\\": \\\"middle\\\"}, \\\"dx\\\": {\\\"value\\\": 0, \\\"offset\\\": 0}, \\\"dy\\\": {\\\"value\\\": 0, \\\"offset\\\": 0}, \\\"angle\\\": {\\\"value\\\": 0}, \\\"clip\\\": {\\\"value\\\": true}, \\\"font\\\": {\\\"value\\\": \\\"AvenirNext-Medium\\\"}, \\\"fontSize\\\": {\\\"value\\\": 10}, \\\"fontWeight\\\": {\\\"value\\\": \\\"normal\\\"}, \\\"fontStyle\\\": {\\\"value\\\": \\\"normal\\\"}, \\\"fill\\\": {\\\"value\\\": \\\"#7A7A7A\\\"}}, \\\"update\\\": {\\\"x\\\": {\\\"signal\\\": \\\"datum[\\\\\\\"c_x_axis_back\\\\\\\"]+667\\\"}, \\\"y\\\": {\\\"field\\\": \\\"c_fourth_item\\\"}}}, \\\"type\\\": \\\"text\\\"}, {\\\"from\\\": {\\\"data\\\": \\\"data_2\\\"}, \\\"encode\\\": {\\\"enter\\\": {\\\"x\\\": {\\\"value\\\": 700}, \\\"y\\\": {\\\"value\\\": 200}, \\\"text\\\": {\\\"signal\\\": \\\"((datum[\\\\\\\"categorical\\\\\\\"].length >= 5) &amp;&amp; (toString(datum[\\\\\\\"type\\\\\\\"]) == \\\\\\\"str\\\\\\\"))? toString(datum[\\\\\\\"categorical\\\\\\\"][4][\\\\\\\"count\\\\\\\"]):\\\\\\\"\\\\\\\"\\\"}, \\\"align\\\": {\\\"value\\\": \\\"right\\\"}, \\\"baseline\\\": {\\\"value\\\": \\\"middle\\\"}, \\\"dx\\\": {\\\"value\\\": 0, \\\"offset\\\": 0}, \\\"dy\\\": {\\\"value\\\": 0, \\\"offset\\\": 0}, \\\"angle\\\": {\\\"value\\\": 0}, \\\"clip\\\": {\\\"value\\\": true}, \\\"font\\\": {\\\"value\\\": \\\"AvenirNext-Medium\\\"}, \\\"fontSize\\\": {\\\"value\\\": 10}, \\\"fontWeight\\\": {\\\"value\\\": \\\"normal\\\"}, \\\"fontStyle\\\": {\\\"value\\\": \\\"normal\\\"}, \\\"fill\\\": {\\\"value\\\": \\\"#7A7A7A\\\"}}, \\\"update\\\": {\\\"x\\\": {\\\"signal\\\": \\\"datum[\\\\\\\"c_x_axis_back\\\\\\\"]+667\\\"}, \\\"y\\\": {\\\"field\\\": \\\"c_fifth_item\\\"}}}, \\\"type\\\": \\\"text\\\"}, {\\\"from\\\": {\\\"data\\\": \\\"data_2\\\"}, \\\"encode\\\": {\\\"enter\\\": {\\\"x\\\": {\\\"value\\\": 500}, \\\"y\\\": {\\\"value\\\": 200}, \\\"text\\\": {\\\"signal\\\": \\\"(toString(datum[\\\\\\\"type\\\\\\\"]) == \\\\\\\"integer\\\\\\\" || toString(datum[\\\\\\\"type\\\\\\\"]) == \\\\\\\"float\\\\\\\")? \\\\\\\"Mean:\\\\\\\":\\\\\\\"\\\\\\\"\\\"}, \\\"align\\\": {\\\"value\\\": \\\"left\\\"}, \\\"baseline\\\": {\\\"value\\\": \\\"middle\\\"}, \\\"dx\\\": {\\\"value\\\": 0, \\\"offset\\\": 0}, \\\"dy\\\": {\\\"value\\\": 0, \\\"offset\\\": 0}, \\\"angle\\\": {\\\"value\\\": 0}, \\\"clip\\\": {\\\"value\\\": true}, \\\"font\\\": {\\\"value\\\": \\\"AvenirNext-Medium\\\"}, \\\"fontSize\\\": {\\\"value\\\": 11}, \\\"fontWeight\\\": {\\\"value\\\": \\\"bold\\\"}, \\\"fontStyle\\\": {\\\"value\\\": \\\"normal\\\"}, \\\"fill\\\": {\\\"value\\\": \\\"#4A4A4A\\\"}}, \\\"update\\\": {\\\"x\\\": {\\\"signal\\\": \\\"datum[\\\\\\\"c_x_axis_back\\\\\\\"]+467\\\"}, \\\"y\\\": {\\\"field\\\": \\\"c_mean\\\"}}}, \\\"type\\\": \\\"text\\\"}, {\\\"from\\\": {\\\"data\\\": \\\"data_2\\\"}, \\\"encode\\\": {\\\"enter\\\": {\\\"x\\\": {\\\"value\\\": 500}, \\\"y\\\": {\\\"value\\\": 220}, \\\"text\\\": {\\\"signal\\\": \\\"(toString(datum[\\\\\\\"type\\\\\\\"]) == \\\\\\\"integer\\\\\\\" || toString(datum[\\\\\\\"type\\\\\\\"]) == \\\\\\\"float\\\\\\\")? \\\\\\\"Min:\\\\\\\":\\\\\\\"\\\\\\\"\\\"}, \\\"align\\\": {\\\"value\\\": \\\"left\\\"}, \\\"baseline\\\": {\\\"value\\\": \\\"middle\\\"}, \\\"dx\\\": {\\\"value\\\": 0, \\\"offset\\\": 0}, \\\"dy\\\": {\\\"value\\\": 0, \\\"offset\\\": 0}, \\\"angle\\\": {\\\"value\\\": 0}, \\\"font\\\": {\\\"value\\\": \\\"AvenirNext-Medium\\\"}, \\\"fontSize\\\": {\\\"value\\\": 11}, \\\"fontWeight\\\": {\\\"value\\\": \\\"bold\\\"}, \\\"fontStyle\\\": {\\\"value\\\": \\\"normal\\\"}, \\\"fill\\\": {\\\"value\\\": \\\"#4A4A4A\\\"}}, \\\"update\\\": {\\\"x\\\": {\\\"signal\\\": \\\"datum[\\\\\\\"c_x_axis_back\\\\\\\"]+467\\\"}, \\\"y\\\": {\\\"field\\\": \\\"c_min\\\"}}}, \\\"type\\\": \\\"text\\\"}, {\\\"from\\\": {\\\"data\\\": \\\"data_2\\\"}, \\\"encode\\\": {\\\"enter\\\": {\\\"x\\\": {\\\"value\\\": 500}, \\\"y\\\": {\\\"value\\\": 240}, \\\"text\\\": {\\\"signal\\\": \\\"(toString(datum[\\\\\\\"type\\\\\\\"]) == \\\\\\\"integer\\\\\\\" || toString(datum[\\\\\\\"type\\\\\\\"]) == \\\\\\\"float\\\\\\\")? \\\\\\\"Max:\\\\\\\":\\\\\\\"\\\\\\\"\\\"}, \\\"align\\\": {\\\"value\\\": \\\"left\\\"}, \\\"baseline\\\": {\\\"value\\\": \\\"middle\\\"}, \\\"dx\\\": {\\\"value\\\": 0, \\\"offset\\\": 0}, \\\"dy\\\": {\\\"value\\\": 0, \\\"offset\\\": 0}, \\\"angle\\\": {\\\"value\\\": 0}, \\\"font\\\": {\\\"value\\\": \\\"AvenirNext-Medium\\\"}, \\\"fontSize\\\": {\\\"value\\\": 11}, \\\"fontWeight\\\": {\\\"value\\\": \\\"bold\\\"}, \\\"fontStyle\\\": {\\\"value\\\": \\\"normal\\\"}, \\\"fill\\\": {\\\"value\\\": \\\"#4A4A4A\\\"}}, \\\"update\\\": {\\\"x\\\": {\\\"signal\\\": \\\"datum[\\\\\\\"c_x_axis_back\\\\\\\"]+467\\\"}, \\\"y\\\": {\\\"field\\\": \\\"c_max\\\"}}}, \\\"type\\\": \\\"text\\\"}, {\\\"from\\\": {\\\"data\\\": \\\"data_2\\\"}, \\\"encode\\\": {\\\"enter\\\": {\\\"x\\\": {\\\"value\\\": 500}, \\\"y\\\": {\\\"value\\\": 260}, \\\"text\\\": {\\\"signal\\\": \\\"(toString(datum[\\\\\\\"type\\\\\\\"]) == \\\\\\\"integer\\\\\\\" || toString(datum[\\\\\\\"type\\\\\\\"]) == \\\\\\\"float\\\\\\\")? \\\\\\\"Median:\\\\\\\":\\\\\\\"\\\\\\\"\\\"}, \\\"align\\\": {\\\"value\\\": \\\"left\\\"}, \\\"baseline\\\": {\\\"value\\\": \\\"middle\\\"}, \\\"dx\\\": {\\\"value\\\": 0, \\\"offset\\\": 0}, \\\"dy\\\": {\\\"value\\\": 0, \\\"offset\\\": 0}, \\\"angle\\\": {\\\"value\\\": 0}, \\\"font\\\": {\\\"value\\\": \\\"AvenirNext-Medium\\\"}, \\\"fontSize\\\": {\\\"value\\\": 11}, \\\"fontWeight\\\": {\\\"value\\\": \\\"bold\\\"}, \\\"fontStyle\\\": {\\\"value\\\": \\\"normal\\\"}, \\\"fill\\\": {\\\"value\\\": \\\"#4A4A4A\\\"}}, \\\"update\\\": {\\\"x\\\": {\\\"signal\\\": \\\"datum[\\\\\\\"c_x_axis_back\\\\\\\"]+467\\\"}, \\\"y\\\": {\\\"field\\\": \\\"c_median\\\"}}}, \\\"type\\\": \\\"text\\\"}, {\\\"from\\\": {\\\"data\\\": \\\"data_2\\\"}, \\\"encode\\\": {\\\"enter\\\": {\\\"x\\\": {\\\"value\\\": 500}, \\\"y\\\": {\\\"value\\\": 280}, \\\"text\\\": {\\\"signal\\\": \\\"(toString(datum[\\\\\\\"type\\\\\\\"]) == \\\\\\\"integer\\\\\\\" || toString(datum[\\\\\\\"type\\\\\\\"]) == \\\\\\\"float\\\\\\\")? \\\\\\\"St. Dev:\\\\\\\":\\\\\\\"\\\\\\\"\\\"}, \\\"align\\\": {\\\"value\\\": \\\"left\\\"}, \\\"baseline\\\": {\\\"value\\\": \\\"middle\\\"}, \\\"dx\\\": {\\\"value\\\": 0, \\\"offset\\\": 0}, \\\"dy\\\": {\\\"value\\\": 0, \\\"offset\\\": 0}, \\\"angle\\\": {\\\"value\\\": 0}, \\\"font\\\": {\\\"value\\\": \\\"AvenirNext-Medium\\\"}, \\\"fontSize\\\": {\\\"value\\\": 11}, \\\"fontWeight\\\": {\\\"value\\\": \\\"bold\\\"}, \\\"fontStyle\\\": {\\\"value\\\": \\\"normal\\\"}, \\\"fill\\\": {\\\"value\\\": \\\"#4A4A4A\\\"}}, \\\"update\\\": {\\\"x\\\": {\\\"signal\\\": \\\"datum[\\\\\\\"c_x_axis_back\\\\\\\"]+467\\\"}, \\\"y\\\": {\\\"field\\\": \\\"c_stdev\\\"}}}, \\\"type\\\": \\\"text\\\"}, {\\\"from\\\": {\\\"data\\\": \\\"data_2\\\"}, \\\"encode\\\": {\\\"enter\\\": {\\\"x\\\": {\\\"value\\\": 700}, \\\"y\\\": {\\\"value\\\": 198}, \\\"text\\\": {\\\"signal\\\": \\\"(toString(datum[\\\\\\\"type\\\\\\\"]) == \\\\\\\"integer\\\\\\\" || toString(datum[\\\\\\\"type\\\\\\\"]) == \\\\\\\"float\\\\\\\")?toString(format(datum[\\\\\\\"mean\\\\\\\"], \\\\\\\",\\\\\\\")):\\\\\\\"\\\\\\\"\\\"}, \\\"align\\\": {\\\"value\\\": \\\"right\\\"}, \\\"baseline\\\": {\\\"value\\\": \\\"middle\\\"}, \\\"dx\\\": {\\\"value\\\": 0, \\\"offset\\\": 0}, \\\"dy\\\": {\\\"value\\\": 0, \\\"offset\\\": 0}, \\\"angle\\\": {\\\"value\\\": 0}, \\\"font\\\": {\\\"value\\\": \\\"AvenirNext-Medium\\\"}, \\\"fontSize\\\": {\\\"value\\\": 10}, \\\"fontWeight\\\": {\\\"value\\\": \\\"normal\\\"}, \\\"fontStyle\\\": {\\\"value\\\": \\\"normal\\\"}, \\\"fill\\\": {\\\"value\\\": \\\"#6A6A6A\\\"}}, \\\"update\\\": {\\\"x\\\": {\\\"signal\\\": \\\"datum[\\\\\\\"c_x_axis_back\\\\\\\"]+667\\\"}, \\\"y\\\": {\\\"field\\\": \\\"c_mean_val\\\"}}}, \\\"type\\\": \\\"text\\\"}, {\\\"from\\\": {\\\"data\\\": \\\"data_2\\\"}, \\\"encode\\\": {\\\"enter\\\": {\\\"x\\\": {\\\"value\\\": 700}, \\\"y\\\": {\\\"value\\\": 218}, \\\"text\\\": {\\\"signal\\\": \\\"(toString(datum[\\\\\\\"type\\\\\\\"]) == \\\\\\\"integer\\\\\\\" || toString(datum[\\\\\\\"type\\\\\\\"]) == \\\\\\\"float\\\\\\\")?toString(format(datum[\\\\\\\"min\\\\\\\"], \\\\\\\",\\\\\\\")):\\\\\\\"\\\\\\\"\\\"}, \\\"align\\\": {\\\"value\\\": \\\"right\\\"}, \\\"baseline\\\": {\\\"value\\\": \\\"middle\\\"}, \\\"dx\\\": {\\\"value\\\": 0, \\\"offset\\\": 0}, \\\"dy\\\": {\\\"value\\\": 0, \\\"offset\\\": 0}, \\\"angle\\\": {\\\"value\\\": 0}, \\\"font\\\": {\\\"value\\\": \\\"AvenirNext-Medium\\\"}, \\\"fontSize\\\": {\\\"value\\\": 10}, \\\"fontWeight\\\": {\\\"value\\\": \\\"normal\\\"}, \\\"fontStyle\\\": {\\\"value\\\": \\\"normal\\\"}, \\\"fill\\\": {\\\"value\\\": \\\"#6A6A6A\\\"}}, \\\"update\\\": {\\\"x\\\": {\\\"signal\\\": \\\"datum[\\\\\\\"c_x_axis_back\\\\\\\"]+667\\\"}, \\\"y\\\": {\\\"field\\\": \\\"c_min_val\\\"}}}, \\\"type\\\": \\\"text\\\"}, {\\\"from\\\": {\\\"data\\\": \\\"data_2\\\"}, \\\"encode\\\": {\\\"enter\\\": {\\\"x\\\": {\\\"value\\\": 700}, \\\"y\\\": {\\\"value\\\": 238}, \\\"text\\\": {\\\"signal\\\": \\\"(toString(datum[\\\\\\\"type\\\\\\\"]) == \\\\\\\"integer\\\\\\\" || toString(datum[\\\\\\\"type\\\\\\\"]) == \\\\\\\"float\\\\\\\")?toString(format(datum[\\\\\\\"max\\\\\\\"], \\\\\\\",\\\\\\\")):\\\\\\\"\\\\\\\"\\\"}, \\\"align\\\": {\\\"value\\\": \\\"right\\\"}, \\\"baseline\\\": {\\\"value\\\": \\\"middle\\\"}, \\\"dx\\\": {\\\"value\\\": 0, \\\"offset\\\": 0}, \\\"dy\\\": {\\\"value\\\": 0, \\\"offset\\\": 0}, \\\"angle\\\": {\\\"value\\\": 0}, \\\"font\\\": {\\\"value\\\": \\\"AvenirNext-Medium\\\"}, \\\"fontSize\\\": {\\\"value\\\": 10}, \\\"fontWeight\\\": {\\\"value\\\": \\\"normal\\\"}, \\\"fontStyle\\\": {\\\"value\\\": \\\"normal\\\"}, \\\"fill\\\": {\\\"value\\\": \\\"#6A6A6A\\\"}}, \\\"update\\\": {\\\"x\\\": {\\\"signal\\\": \\\"datum[\\\\\\\"c_x_axis_back\\\\\\\"]+667\\\"}, \\\"y\\\": {\\\"field\\\": \\\"c_max_val\\\"}}}, \\\"type\\\": \\\"text\\\"}, {\\\"from\\\": {\\\"data\\\": \\\"data_2\\\"}, \\\"encode\\\": {\\\"enter\\\": {\\\"x\\\": {\\\"value\\\": 700}, \\\"y\\\": {\\\"value\\\": 258}, \\\"text\\\": {\\\"signal\\\": \\\"(toString(datum[\\\\\\\"type\\\\\\\"]) == \\\\\\\"integer\\\\\\\" || toString(datum[\\\\\\\"type\\\\\\\"]) == \\\\\\\"float\\\\\\\")?toString(format(datum[\\\\\\\"median\\\\\\\"], \\\\\\\",\\\\\\\")):\\\\\\\"\\\\\\\"\\\"}, \\\"align\\\": {\\\"value\\\": \\\"right\\\"}, \\\"baseline\\\": {\\\"value\\\": \\\"middle\\\"}, \\\"dx\\\": {\\\"value\\\": 0, \\\"offset\\\": 0}, \\\"dy\\\": {\\\"value\\\": 0, \\\"offset\\\": 0}, \\\"angle\\\": {\\\"value\\\": 0}, \\\"font\\\": {\\\"value\\\": \\\"AvenirNext-Medium\\\"}, \\\"fontSize\\\": {\\\"value\\\": 10}, \\\"fontWeight\\\": {\\\"value\\\": \\\"normal\\\"}, \\\"fontStyle\\\": {\\\"value\\\": \\\"normal\\\"}, \\\"fill\\\": {\\\"value\\\": \\\"#6A6A6A\\\"}}, \\\"update\\\": {\\\"x\\\": {\\\"signal\\\": \\\"datum[\\\\\\\"c_x_axis_back\\\\\\\"]+667\\\"}, \\\"y\\\": {\\\"field\\\": \\\"c_median_val\\\"}}}, \\\"type\\\": \\\"text\\\"}, {\\\"from\\\": {\\\"data\\\": \\\"data_2\\\"}, \\\"encode\\\": {\\\"enter\\\": {\\\"x\\\": {\\\"value\\\": 700}, \\\"y\\\": {\\\"value\\\": 278}, \\\"text\\\": {\\\"signal\\\": \\\"(toString(datum[\\\\\\\"type\\\\\\\"]) == \\\\\\\"integer\\\\\\\" || toString(datum[\\\\\\\"type\\\\\\\"]) == \\\\\\\"float\\\\\\\")?toString(format(datum[\\\\\\\"stdev\\\\\\\"], \\\\\\\",\\\\\\\")):\\\\\\\"\\\\\\\"\\\"}, \\\"align\\\": {\\\"value\\\": \\\"right\\\"}, \\\"baseline\\\": {\\\"value\\\": \\\"middle\\\"}, \\\"dx\\\": {\\\"value\\\": 0, \\\"offset\\\": 0}, \\\"dy\\\": {\\\"value\\\": 0, \\\"offset\\\": 0}, \\\"angle\\\": {\\\"value\\\": 0}, \\\"font\\\": {\\\"value\\\": \\\"AvenirNext-Medium\\\"}, \\\"fontSize\\\": {\\\"value\\\": 10}, \\\"fontWeight\\\": {\\\"value\\\": \\\"normal\\\"}, \\\"fontStyle\\\": {\\\"value\\\": \\\"normal\\\"}, \\\"fill\\\": {\\\"value\\\": \\\"#6A6A6A\\\"}}, \\\"update\\\": {\\\"x\\\": {\\\"signal\\\": \\\"datum[\\\\\\\"c_x_axis_back\\\\\\\"]+667\\\"}, \\\"y\\\": {\\\"field\\\": \\\"c_stdev_val\\\"}}}, \\\"type\\\": \\\"text\\\"}, {\\\"from\\\": {\\\"facet\\\": {\\\"name\\\": \\\"new_data\\\", \\\"data\\\": \\\"data_2\\\", \\\"field\\\": \\\"numeric\\\"}}, \\\"encode\\\": {\\\"enter\\\": {\\\"x\\\": {\\\"value\\\": 120}, \\\"width\\\": {\\\"value\\\": 250}, \\\"y\\\": {\\\"field\\\": \\\"graph_offset\\\"}, \\\"height\\\": {\\\"value\\\": 150}, \\\"fill\\\": {\\\"value\\\": \\\"#ffffff\\\"}, \\\"fillOpacity\\\": {\\\"value\\\": 0}, \\\"stroke\\\": {\\\"value\\\": \\\"#000000\\\"}, \\\"strokeWidth\\\": {\\\"value\\\": 0}}, \\\"update\\\": {\\\"x\\\": {\\\"signal\\\": \\\"datum[\\\\\\\"c_x_axis_back\\\\\\\"]+87\\\"}, \\\"clip\\\": {\\\"field\\\": \\\"c_clip_val\\\"}, \\\"width\\\": {\\\"field\\\": \\\"c_width_numeric_val\\\"}}}, \\\"type\\\": \\\"group\\\", \\\"scales\\\": [{\\\"name\\\": \\\"x\\\", \\\"type\\\": \\\"linear\\\", \\\"domain\\\": {\\\"data\\\": \\\"new_data\\\", \\\"fields\\\": [\\\"left\\\", \\\"right\\\"], \\\"sort\\\": true}, \\\"range\\\": [0, {\\\"signal\\\": \\\"width\\\"}], \\\"nice\\\": true, \\\"zero\\\": true}, {\\\"name\\\": \\\"y\\\", \\\"type\\\": \\\"linear\\\", \\\"domain\\\": {\\\"data\\\": \\\"new_data\\\", \\\"field\\\": \\\"count\\\"}, \\\"range\\\": [{\\\"signal\\\": \\\"height\\\"}, 0], \\\"nice\\\": true, \\\"zero\\\": true}], \\\"axes\\\": [{\\\"title\\\": \\\"Values\\\", \\\"scale\\\": \\\"x\\\", \\\"labelOverlap\\\": true, \\\"orient\\\": \\\"bottom\\\", \\\"tickCount\\\": {\\\"signal\\\": \\\"ceil(width/40)\\\"}, \\\"zindex\\\": 1}, {\\\"scale\\\": \\\"x\\\", \\\"domain\\\": false, \\\"grid\\\": true, \\\"labels\\\": false, \\\"maxExtent\\\": 0, \\\"minExtent\\\": 0, \\\"orient\\\": \\\"bottom\\\", \\\"tickCount\\\": {\\\"signal\\\": \\\"ceil(width/40)\\\"}, \\\"ticks\\\": false, \\\"zindex\\\": 0, \\\"gridScale\\\": \\\"y\\\"}, {\\\"title\\\": \\\"Count\\\", \\\"scale\\\": \\\"y\\\", \\\"labelOverlap\\\": true, \\\"orient\\\": \\\"left\\\", \\\"tickCount\\\": {\\\"signal\\\": \\\"ceil(height/40)\\\"}, \\\"zindex\\\": 1}, {\\\"scale\\\": \\\"y\\\", \\\"domain\\\": false, \\\"grid\\\": true, \\\"labels\\\": false, \\\"maxExtent\\\": 0, \\\"minExtent\\\": 0, \\\"orient\\\": \\\"left\\\", \\\"tickCount\\\": {\\\"signal\\\": \\\"ceil(height/40)\\\"}, \\\"ticks\\\": false, \\\"zindex\\\": 0, \\\"gridScale\\\": \\\"x\\\"}], \\\"style\\\": \\\"cell\\\", \\\"signals\\\": [{\\\"name\\\": \\\"width\\\", \\\"update\\\": \\\"250\\\"}, {\\\"name\\\": \\\"height\\\", \\\"update\\\": \\\"150\\\"}], \\\"marks\\\": [{\\\"name\\\": \\\"marks\\\", \\\"type\\\": \\\"rect\\\", \\\"style\\\": [\\\"rect\\\"], \\\"from\\\": {\\\"data\\\": \\\"new_data\\\"}, \\\"encode\\\": {\\\"hover\\\": {\\\"fill\\\": {\\\"value\\\": \\\"#7EC2F3\\\"}}, \\\"update\\\": {\\\"x\\\": {\\\"scale\\\": \\\"x\\\", \\\"field\\\": \\\"left\\\"}, \\\"x2\\\": {\\\"scale\\\": \\\"x\\\", \\\"field\\\": \\\"right\\\"}, \\\"y\\\": {\\\"scale\\\": \\\"y\\\", \\\"field\\\": \\\"count\\\"}, \\\"y2\\\": {\\\"scale\\\": \\\"y\\\", \\\"value\\\": 0}, \\\"fill\\\": {\\\"value\\\": \\\"#108EE9\\\"}}}}]}, {\\\"from\\\": {\\\"facet\\\": {\\\"name\\\": \\\"data_5\\\", \\\"data\\\": \\\"data_2\\\", \\\"field\\\": \\\"categorical\\\"}}, \\\"encode\\\": {\\\"enter\\\": {\\\"x\\\": {\\\"value\\\": 170}, \\\"width\\\": {\\\"value\\\": 250}, \\\"y\\\": {\\\"field\\\": \\\"graph_offset_categorical\\\"}, \\\"height\\\": {\\\"value\\\": 150}, \\\"fill\\\": {\\\"value\\\": \\\"#ffffff\\\"}, \\\"fillOpacity\\\": {\\\"value\\\": 0}, \\\"stroke\\\": {\\\"value\\\": \\\"#000000\\\"}, \\\"strokeWidth\\\": {\\\"value\\\": 0}}, \\\"update\\\": {\\\"x\\\": {\\\"signal\\\": \\\"datum[\\\\\\\"c_x_axis_back\\\\\\\"]+137\\\"}, \\\"clip\\\": {\\\"field\\\": \\\"c_clip_val_cat\\\"}, \\\"width\\\": {\\\"field\\\": \\\"c_width_numeric_val_cat\\\"}}}, \\\"type\\\": \\\"group\\\", \\\"style\\\": \\\"cell\\\", \\\"signals\\\": [{\\\"name\\\": \\\"unit\\\", \\\"value\\\": {}, \\\"on\\\": [{\\\"events\\\": \\\"mousemove\\\", \\\"update\\\": \\\"isTuple(group()) ? group() : unit\\\"}]}, {\\\"name\\\": \\\"pts\\\", \\\"update\\\": \\\"data(\\\\\\\"pts_store\\\\\\\").length &amp;&amp; {count: data(\\\\\\\"pts_store\\\\\\\")[0].values[0]}\\\"}, {\\\"name\\\": \\\"pts_tuple\\\", \\\"value\\\": {}, \\\"on\\\": [{\\\"events\\\": [{\\\"source\\\": \\\"scope\\\", \\\"type\\\": \\\"click\\\"}], \\\"update\\\": \\\"datum &amp;&amp; item().mark.marktype !== &apos;group&apos; ? {unit: \\\\\\\"\\\\\\\", encodings: [\\\\\\\"x\\\\\\\"], fields: [\\\\\\\"count\\\\\\\"], values: [datum[\\\\\\\"count\\\\\\\"]]} : null\\\", \\\"force\\\": true}]}, {\\\"name\\\": \\\"pts_modify\\\", \\\"on\\\": [{\\\"events\\\": {\\\"signal\\\": \\\"pts_tuple\\\"}, \\\"update\\\": \\\"modify(\\\\\\\"pts_store\\\\\\\", pts_tuple, true)\\\"}]}], \\\"marks\\\": [{\\\"name\\\": \\\"marks\\\", \\\"type\\\": \\\"rect\\\", \\\"style\\\": [\\\"bar\\\"], \\\"from\\\": {\\\"data\\\": \\\"data_5\\\"}, \\\"encode\\\": {\\\"hover\\\": {\\\"fill\\\": {\\\"value\\\": \\\"#7EC2F3\\\"}}, \\\"update\\\": {\\\"x\\\": {\\\"scale\\\": \\\"x\\\", \\\"field\\\": \\\"count\\\"}, \\\"x2\\\": {\\\"scale\\\": \\\"x\\\", \\\"value\\\": 0}, \\\"y\\\": {\\\"scale\\\": \\\"y\\\", \\\"field\\\": \\\"label\\\"}, \\\"height\\\": {\\\"scale\\\": \\\"y\\\", \\\"band\\\": true}, \\\"fill\\\": {\\\"value\\\": \\\"#108EE9\\\"}}}}], \\\"scales\\\": [{\\\"name\\\": \\\"x\\\", \\\"type\\\": \\\"linear\\\", \\\"domain\\\": {\\\"data\\\": \\\"data_5\\\", \\\"field\\\": \\\"count\\\"}, \\\"range\\\": [0, 250], \\\"nice\\\": true, \\\"zero\\\": true}, {\\\"name\\\": \\\"y\\\", \\\"type\\\": \\\"band\\\", \\\"domain\\\": {\\\"data\\\": \\\"data_5\\\", \\\"field\\\": \\\"label\\\", \\\"sort\\\": {\\\"op\\\": \\\"mean\\\", \\\"field\\\": \\\"label_idx\\\", \\\"order\\\": \\\"descending\\\"}}, \\\"range\\\": [150, 0], \\\"paddingInner\\\": 0.1, \\\"paddingOuter\\\": 0.05}], \\\"axes\\\": [{\\\"orient\\\": \\\"top\\\", \\\"scale\\\": \\\"x\\\", \\\"labelOverlap\\\": true, \\\"tickCount\\\": {\\\"signal\\\": \\\"ceil(width/40)\\\"}, \\\"title\\\": \\\"Count\\\", \\\"zindex\\\": 1}, {\\\"orient\\\": \\\"top\\\", \\\"scale\\\": \\\"x\\\", \\\"domain\\\": false, \\\"grid\\\": true, \\\"labels\\\": false, \\\"maxExtent\\\": 0, \\\"minExtent\\\": 0, \\\"tickCount\\\": {\\\"signal\\\": \\\"ceil(width/40)\\\"}, \\\"ticks\\\": false, \\\"zindex\\\": 0, \\\"gridScale\\\": \\\"y\\\"}, {\\\"scale\\\": \\\"y\\\", \\\"labelOverlap\\\": true, \\\"orient\\\": \\\"left\\\", \\\"title\\\": \\\"Label\\\", \\\"zindex\\\": 1}]}], \\\"type\\\": \\\"group\\\"}], \\\"type\\\": \\\"group\\\"}], \\\"config\\\": {\\\"axis\\\": {\\\"labelFont\\\": \\\"HelveticaNeue-Light, Arial\\\", \\\"labelFontSize\\\": 7, \\\"labelPadding\\\": 10, \\\"labelColor\\\": \\\"#595959\\\", \\\"titleFont\\\": \\\"HelveticaNeue-Light, Arial\\\", \\\"titleFontWeight\\\": \\\"normal\\\", \\\"titlePadding\\\": 9, \\\"titleFontSize\\\": 12, \\\"titleColor\\\": \\\"#595959\\\"}, \\\"axisY\\\": {\\\"minExtent\\\": 30}, \\\"style\\\": {\\\"rect\\\": {\\\"stroke\\\": \\\"rgba(200, 200, 200, 0.5)\\\"}, \\\"group-title\\\": {\\\"fontSize\\\": 20, \\\"font\\\": \\\"HelveticaNeue-Light, Arial\\\", \\\"fontWeight\\\": \\\"normal\\\", \\\"fill\\\": \\\"#595959\\\"}}}}\";                                 var vega_json_parsed = JSON.parse(vega_json);                                 var toolTipOpts = {                                     showAllFields: true                                 };                                 if(vega_json_parsed[\"metadata\"] != null){                                     if(vega_json_parsed[\"metadata\"][\"bubbleOpts\"] != null){                                         toolTipOpts = vega_json_parsed[\"metadata\"][\"bubbleOpts\"];                                     };                                 };                                 vegaEmbed(\"#vis\", vega_json_parsed).then(function (result) {                                     vegaTooltip.vega(result.view, toolTipOpts);                                  });                             </script>                         </body>                     </html>' src=\"demo_iframe_srcdoc.htm\">                         <p>Your browser does not support iframes.</p>                     </iframe>                 </body>             </html>"
      ],
      "text/plain": [
       "<IPython.core.display.HTML object>"
      ]
     },
     "metadata": {},
     "output_type": "display_data"
    }
   ],
   "source": [
    "train_data_covid.show()"
   ]
  },
  {
   "cell_type": "markdown",
   "metadata": {},
   "source": []
  },
  {
   "cell_type": "code",
   "execution_count": 79,
   "metadata": {},
   "outputs": [],
   "source": [
    "# add the train_data_covid to the global train_data\n",
    "train_data=train_data.append(train_data_covid)"
   ]
  },
  {
   "cell_type": "code",
   "execution_count": 80,
   "metadata": {},
   "outputs": [
    {
     "data": {
      "text/html": [
       "<pre>Materializing SArray</pre>"
      ],
      "text/plain": [
       "Materializing SArray"
      ]
     },
     "metadata": {},
     "output_type": "display_data"
    },
    {
     "data": {
      "text/html": [
       "<html>                 <body>                     <iframe style=\"border:0;margin:0\" width=\"920\" height=\"770\" srcdoc='<html lang=\"en\">                         <head>                             <script src=\"https://cdnjs.cloudflare.com/ajax/libs/vega/5.4.0/vega.js\"></script>                             <script src=\"https://cdnjs.cloudflare.com/ajax/libs/vega-embed/4.0.0/vega-embed.js\"></script>                             <script src=\"https://cdnjs.cloudflare.com/ajax/libs/vega-tooltip/0.5.1/vega-tooltip.min.js\"></script>                             <link rel=\"stylesheet\" type=\"text/css\" href=\"https://cdnjs.cloudflare.com/ajax/libs/vega-tooltip/0.5.1/vega-tooltip.min.css\">                             <style>                             .vega-actions > a{                                 color:white;                                 text-decoration: none;                                 font-family: \"Arial\";                                 cursor:pointer;                                 padding:5px;                                 background:#AAAAAA;                                 border-radius:4px;                                 padding-left:10px;                                 padding-right:10px;                                 margin-right:5px;                             }                             .vega-actions{                                 margin-top:20px;                                 text-align:center                             }                            .vega-actions > a{                                 background:#999999;                            }                             </style>                         </head>                         <body>                             <div id=\"vis\">                             </div>                             <script>                                 var vega_json = \"{\\\"$schema\\\": \\\"https://vega.github.io/schema/vega/v4.json\\\", \\\"autosize\\\": {\\\"type\\\": \\\"fit\\\", \\\"resize\\\": false, \\\"contains\\\": \\\"padding\\\"}, \\\"padding\\\": 8, \\\"metadata\\\": {\\\"bubbleOpts\\\": {\\\"showAllFields\\\": false, \\\"fields\\\": [{\\\"field\\\": \\\"count\\\"}, {\\\"field\\\": \\\"label\\\"}, {\\\"field\\\": \\\"percentage\\\"}]}}, \\\"width\\\": 720, \\\"height\\\": 550, \\\"title\\\": \\\"Distribution of Values [string]\\\", \\\"style\\\": \\\"cell\\\", \\\"data\\\": [{\\\"name\\\": \\\"pts_store_store\\\"}, {\\\"name\\\": \\\"source_2\\\", \\\"values\\\": [{\\\"label\\\": \\\"brain_tumor positif\\\", \\\"label_idx\\\": 0, \\\"count\\\": 1492, \\\"percentage\\\": \\\"53.2287%\\\"}, {\\\"label\\\": \\\"chest_cancer\\\", \\\"label_idx\\\": 1, \\\"count\\\": 996, \\\"percentage\\\": \\\"35.5334%\\\"}, {\\\"label\\\": \\\"covid_19 positif\\\", \\\"label_idx\\\": 2, \\\"count\\\": 315, \\\"percentage\\\": \\\"11.238%\\\"}]}, {\\\"name\\\": \\\"data_0\\\", \\\"source\\\": \\\"source_2\\\", \\\"transform\\\": [{\\\"type\\\": \\\"formula\\\", \\\"expr\\\": \\\"toNumber(datum[\\\\\\\"count\\\\\\\"])\\\", \\\"as\\\": \\\"count\\\"}, {\\\"type\\\": \\\"filter\\\", \\\"expr\\\": \\\"datum[\\\\\\\"count\\\\\\\"] !== null &amp;&amp; !isNaN(datum[\\\\\\\"count\\\\\\\"])\\\"}]}], \\\"signals\\\": [{\\\"name\\\": \\\"unit\\\", \\\"value\\\": {}, \\\"on\\\": [{\\\"events\\\": \\\"mousemove\\\", \\\"update\\\": \\\"isTuple(group()) ? group() : unit\\\"}]}, {\\\"name\\\": \\\"pts_store\\\", \\\"update\\\": \\\"data(\\\\\\\"pts_store_store\\\\\\\").length &amp;&amp; {count: data(\\\\\\\"pts_store_store\\\\\\\")[0].values[0]}\\\"}, {\\\"name\\\": \\\"pts_store_tuple\\\", \\\"value\\\": {}, \\\"on\\\": [{\\\"events\\\": [{\\\"source\\\": \\\"scope\\\", \\\"type\\\": \\\"click\\\"}], \\\"update\\\": \\\"datum &amp;&amp; item().mark.marktype !== &apos;group&apos; ? {unit: \\\\\\\"\\\\\\\", encodings: [\\\\\\\"x\\\\\\\"], fields: [\\\\\\\"count\\\\\\\"], values: [datum[\\\\\\\"count\\\\\\\"]]} : null\\\", \\\"force\\\": true}]}, {\\\"name\\\": \\\"pts_store_modify\\\", \\\"on\\\": [{\\\"events\\\": {\\\"signal\\\": \\\"pts_store_tuple\\\"}, \\\"update\\\": \\\"modify(\\\\\\\"pts_store_store\\\\\\\", pts_store_tuple, true)\\\"}]}], \\\"marks\\\": [{\\\"name\\\": \\\"marks\\\", \\\"type\\\": \\\"rect\\\", \\\"style\\\": [\\\"bar\\\"], \\\"from\\\": {\\\"data\\\": \\\"data_0\\\"}, \\\"encode\\\": {\\\"hover\\\": {\\\"fill\\\": {\\\"value\\\": \\\"#7EC2F3\\\"}}, \\\"update\\\": {\\\"x\\\": {\\\"scale\\\": \\\"x\\\", \\\"field\\\": \\\"count\\\"}, \\\"x2\\\": {\\\"scale\\\": \\\"x\\\", \\\"value\\\": 0}, \\\"y\\\": {\\\"scale\\\": \\\"y\\\", \\\"field\\\": \\\"label\\\"}, \\\"height\\\": {\\\"scale\\\": \\\"y\\\", \\\"band\\\": true}, \\\"fill\\\": {\\\"value\\\": \\\"#108EE9\\\"}}}}], \\\"scales\\\": [{\\\"name\\\": \\\"x\\\", \\\"type\\\": \\\"linear\\\", \\\"domain\\\": {\\\"data\\\": \\\"data_0\\\", \\\"field\\\": \\\"count\\\"}, \\\"range\\\": [0, {\\\"signal\\\": \\\"width\\\"}], \\\"nice\\\": true, \\\"zero\\\": true}, {\\\"name\\\": \\\"y\\\", \\\"type\\\": \\\"band\\\", \\\"domain\\\": {\\\"data\\\": \\\"data_0\\\", \\\"field\\\": \\\"label\\\", \\\"sort\\\": {\\\"op\\\": \\\"mean\\\", \\\"field\\\": \\\"label_idx\\\", \\\"order\\\": \\\"descending\\\"}}, \\\"range\\\": [{\\\"signal\\\": \\\"height\\\"}, 0], \\\"paddingInner\\\": 0.1, \\\"paddingOuter\\\": 0.05}], \\\"axes\\\": [{\\\"orient\\\": \\\"top\\\", \\\"scale\\\": \\\"x\\\", \\\"labelOverlap\\\": true, \\\"tickCount\\\": {\\\"signal\\\": \\\"ceil(width/40)\\\"}, \\\"title\\\": \\\"Count\\\", \\\"zindex\\\": 1}, {\\\"orient\\\": \\\"top\\\", \\\"scale\\\": \\\"x\\\", \\\"domain\\\": false, \\\"grid\\\": true, \\\"labels\\\": false, \\\"maxExtent\\\": 0, \\\"minExtent\\\": 0, \\\"tickCount\\\": {\\\"signal\\\": \\\"ceil(width/40)\\\"}, \\\"ticks\\\": false, \\\"zindex\\\": 0, \\\"gridScale\\\": \\\"y\\\"}, {\\\"scale\\\": \\\"y\\\", \\\"labelOverlap\\\": true, \\\"orient\\\": \\\"left\\\", \\\"title\\\": \\\"Values\\\", \\\"zindex\\\": 1}], \\\"config\\\": {\\\"axis\\\": {\\\"gridColor\\\": \\\"rgba(204,204,204,1.0)\\\", \\\"labelFont\\\": \\\"\\\\\\\"San Francisco\\\\\\\", HelveticaNeue, Arial\\\", \\\"labelFontSize\\\": 12, \\\"labelPadding\\\": 10, \\\"labelColor\\\": \\\"rgba(0,0,0,0.847)\\\", \\\"tickColor\\\": \\\"rgb(136,136,136)\\\", \\\"titleFont\\\": \\\"\\\\\\\"San Francisco\\\\\\\", HelveticaNeue, Arial\\\", \\\"titleFontWeight\\\": \\\"normal\\\", \\\"titlePadding\\\": 20, \\\"titleFontSize\\\": 14, \\\"titleColor\\\": \\\"rgba(0,0,0,0.847)\\\"}, \\\"axisY\\\": {\\\"minExtent\\\": 30}, \\\"legend\\\": {\\\"labelFont\\\": \\\"\\\\\\\"San Francisco\\\\\\\", HelveticaNeue, Arial\\\", \\\"labelColor\\\": \\\"rgba(0,0,0,0.847)\\\", \\\"titleFont\\\": \\\"\\\\\\\"San Francisco\\\\\\\", HelveticaNeue, Arial\\\", \\\"cornerRadius\\\": 30, \\\"gradientLength\\\": 608, \\\"titleColor\\\": \\\"rgba(0,0,0,0.847)\\\"}, \\\"range\\\": {\\\"heatmap\\\": {\\\"scheme\\\": \\\"greenblue\\\"}}, \\\"style\\\": {\\\"rect\\\": {\\\"stroke\\\": \\\"rgba(200, 200, 200, 0.5)\\\"}, \\\"cell\\\": {\\\"stroke\\\": \\\"transparent\\\"}, \\\"group-title\\\": {\\\"fontSize\\\": 29, \\\"font\\\": \\\"HelveticaNeue, Arial\\\", \\\"fontWeight\\\": \\\"normal\\\", \\\"fill\\\": \\\"rgba(0,0,0,0.65)\\\"}}, \\\"title\\\": {\\\"color\\\": \\\"rgba(0,0,0,0.847)\\\", \\\"font\\\": \\\"\\\\\\\"San Francisco\\\\\\\", HelveticaNeue, Arial\\\", \\\"fontSize\\\": 18, \\\"fontWeight\\\": \\\"normal\\\", \\\"offset\\\": 30}}}\";                                 var vega_json_parsed = JSON.parse(vega_json);                                 var toolTipOpts = {                                     showAllFields: true                                 };                                 if(vega_json_parsed[\"metadata\"] != null){                                     if(vega_json_parsed[\"metadata\"][\"bubbleOpts\"] != null){                                         toolTipOpts = vega_json_parsed[\"metadata\"][\"bubbleOpts\"];                                     };                                 };                                 vegaEmbed(\"#vis\", vega_json_parsed).then(function (result) {                                     vegaTooltip.vega(result.view, toolTipOpts);                                  });                             </script>                         </body>                     </html>' src=\"demo_iframe_srcdoc.htm\">                         <p>Your browser does not support iframes.</p>                     </iframe>                 </body>             </html>"
      ],
      "text/plain": [
       "<IPython.core.display.HTML object>"
      ]
     },
     "metadata": {},
     "output_type": "display_data"
    }
   ],
   "source": [
    "train_data['label'].show()"
   ]
  },
  {
   "cell_type": "markdown",
   "metadata": {},
   "source": [
    "#  add the alzeimer dataset"
   ]
  },
  {
   "cell_type": "code",
   "execution_count": 81,
   "metadata": {},
   "outputs": [
    {
     "data": {
      "text/html": [
       "<pre>Read 7005 images in 5.00019 secs\tspeed: 1400.95 file/sec</pre>"
      ],
      "text/plain": [
       "Read 7005 images in 5.00019 secs\tspeed: 1400.95 file/sec"
      ]
     },
     "metadata": {},
     "output_type": "display_data"
    }
   ],
   "source": [
    "import turicreate as tc\n",
    "# Load images \n",
    "train_data_alzheimer = tc.image_analysis.load_images('../input/alzheimermridataset/Alzheimer_s Dataset', with_path=True)\n",
    "image_sarray = train_data_alzheimer[\"image\"]\n",
    "resized_images = tc.image_analysis.resize(image_sarray, 28, 28, 1)\n",
    "train_data_alzheimer['image']=resized_images\n",
    "\n",
    "\n",
    "\n",
    "# From the path-name, create a label column\n",
    "train_data_alzheimer['label'] = train_data_alzheimer['path'].apply(lambda path: 'Mild Demented alzeighmer' if '/MildDemented' in path else 'moderate Demented alzeighmer' if '/ModerateDemented' in path else 'verry mild demented alzeighmer' if '/VeryMildDemented' in path else 'not affected with alzheimer')\n",
    "\n",
    "# Save the data for future use\n",
    "train_data_alzheimer.save('/content/alzheimer.sframe')"
   ]
  },
  {
   "cell_type": "code",
   "execution_count": 82,
   "metadata": {},
   "outputs": [
    {
     "name": "stderr",
     "output_type": "stream",
     "text": [
      "/opt/conda/lib/python3.7/site-packages/turicreate/visualization/_plot.py:461: UserWarning: Displaying only the first 100 rows.\n",
      "  warnings.warn(\"Displaying only the first {} rows.\".format(maximum_rows))\n"
     ]
    },
    {
     "data": {
      "text/html": [
       "<html lang=\"en\">                                                     <head>                                                               <style>                                                              .sframe {                                                            font-size: 12px;                                                   font-family: HelveticaNeue;                                        border: 1px solid silver;                                        }                                                                  .sframe thead th {                                                   background: #F7F7F7;                                               font-family: HelveticaNeue-Medium;                                 font-size: 14px;                                                   line-height: 16.8px;                                               padding-top: 16px;                                                 padding-bottom: 16px;                                              padding-left: 10px;                                                padding-right: 38px;                                               border-top: 1px solid #E9E9E9;                                     border-bottom: 1px solid #E9E9E9;                                  white-space: nowrap;                                               overflow: hidden;                                                  text-overflow:ellipsis;                                            text-align:center;                                                 font-weight:normal;                                              }                                                                  .sframe tbody th {                                                   background: #FFFFFF;                                               text-align:left;                                                   font-weight:normal;                                                border-right: 1px solid #E9E9E9;                                 }                                                                  .sframe td {                                                         background: #FFFFFF;                                               padding-left: 10px;                                                padding-right: 38px;                                               padding-top: 14px;                                                 padding-bottom: 14px;                                              border-bottom: 1px solid #E9E9E9;                                  max-height: 0px;                                                   transition: max-height 5s ease-out;                                vertical-align: middle;                                            font-family: HelveticaNeue;                                        font-size: 12px;                                                   line-height: 16.8px;                                               background: #FFFFFF;                                             }                                                                  .sframe tr {                                                         padding-left: 10px;                                                padding-right: 38px;                                               padding-top: 14px;                                                 padding-bottom: 14px;                                              border-bottom: 1px solid #E9E9E9;                                  max-height: 0px;                                                   transition: max-height 5s ease-out;                                vertical-align: middle;                                            font-family: HelveticaNeue;                                        font-size: 12px;                                                   line-height: 16.8px;                                               background: #FFFFFF;                                             }                                                                  .sframe tr:hover {                                                   background: silver;                                              },                                                               </style>                                                         </head>                                                            <body>                                                               <h1>  </h1>                                             <table border=\"1\" class=\"dataframe sframe\">\n",
       "  <thead>\n",
       "    <tr style=\"text-align: right;\">\n",
       "      <th></th>\n",
       "      <th>path</th>\n",
       "      <th>image</th>\n",
       "      <th>label</th>\n",
       "    </tr>\n",
       "  </thead>\n",
       "  <tbody>\n",
       "    <tr>\n",
       "      <th>0</th>\n",
       "      <td>/kaggle/input/alzheimermridataset/Alzheimer_s Dataset/all image/mildDem0.jpg</td>\n",
       "      <td><img src=\"data:image/png;base64,iVBORw0KGgoAAAANSUhEUgAAABwAAAAcCAAAAABXZoBIAAAB7klEQVR4nGNgoAlghLPUtDlvPZMye8O2BC7EBKXFi7kdjutr8rLf11KRgEmyQChlFqU3//J+XRf6L/s/7BN/K4rOP1pMRqyv75kIG/7a/vfMHBlkO210/4mzCV4XuHY1QKqF3Zv7xcl7/2E6tYwv3RW8/l/u0Sl+GVa2X09lJf4bwexkUpRR5JjzW+HVPW2pK8x//p4wZI3aAJM0Ft+sYPqEgfuVmATLcfs/zIyfdn7kYfwPkXxz+QnHjz8qR6TvHWLQXKV7Pekps9jb/1AHKTkyaXFysK59LK0kMMtZR/L7J/43Ow5AJdWCJCcwZPHxXOe/J8X+W+7yzRsRB24/g3lFwv7XZTd5Fo4fB42FWf4/fLWRlY3/MtQrzNynDnxg+PKF8/3XAz8Y3326yfiXnxEWQn+FmBjdhZ8yPf3wkJf79Z9/xoxuTLfhwXf6A8flj3J33nxV4zrF9UH4BfNVpn9wScYu/Vc7Xyn8kr1xiO+u0mkuQ4lLP+GS/18J+cdpKt4TM2D+vJmFb6897z+kWNkh8oD16Rfr23+0+T3/WhnzcP5Hkjz4zYxDiVP8/gPeW8b/f2nc3IOaTCQjNRh/3b90nyFC/Oey259Qk8mbLy8uvhJg10z6P+uhyneMBMYg/8fm1cM/AZeO/GGgLQAAoEu+2p9AIGQAAAAASUVORK5CYII=\"/></td>\n",
       "      <td>not affected with alzheimer</td>\n",
       "    </tr>\n",
       "    <tr>\n",
       "      <th>1</th>\n",
       "      <td>/kaggle/input/alzheimermridataset/Alzheimer_s Dataset/all image/mildDem1.jpg</td>\n",
       "      <td><img src=\"data:image/png;base64,iVBORw0KGgoAAAANSUhEUgAAABwAAAAcCAAAAABXZoBIAAAB60lEQVR4nGNgoAlghLPKFZ68uMIdrLt4NoakiKud5u8fP94wqTFKtS6ECjJBqCDfn3clxJ/Ne8PBK3L7QhxUkgVCfTQI+X9Rb0O0/C4jBgWZaM6ZCJ2MHi85udi3XKi4sNqV6wnTBInYULidjH5aqo9i/v5nWDnHSczrFqve7heSe3dDjf1vLqtu7P3Xw+8Js6DDJO7Tlb6fm34y/4UYG87H9Jv/u1T0UcHMK9Oytv8q+3vW2usvVKeU4qcDnjIq6w4+52Hk62lZJ8MROfM/0z+IJP9Fto/sKVa3t/fs9ZhexhHw78Nqi43/oa59/+F40hoVSfVp4jvPFvNoXylj494gApOczKsx9cqzB4yC5/4/leF/8exb/jabTzB//vvptvX2p0/vFZhYv71g/sFo90r93D54IHzfoc8u+PLJeVP5eLFdj/9/eL9J8Cxcspf3qseJJ79+Jr9rOm77SIDt2+d5SAF/+O/CL2a/b0/9OWfLZeU/C/l+3kSSNFGYz/Lqy3ou9ae3digXlKlVIcfK10BREZ23eWcevdo+k+0w4z915Mjmipf/6MImuf+6rL76BoX5iQW3UVKCfo0J73dvRiW+WpYbD44uRk0mPIXyXHXrT3zgfm+7/PIRjATGYvb8p8PtmD1/tjPQGAAApL/GfS4d+MQAAAAASUVORK5CYII=\"/></td>\n",
       "      <td>not affected with alzheimer</td>\n",
       "    </tr>\n",
       "    <tr>\n",
       "      <th>2</th>\n",
       "      <td>/kaggle/input/alzheimermridataset/Alzheimer_s Dataset/all image/mildDem10.jpg</td>\n",
       "      <td><img src=\"data:image/png;base64,iVBORw0KGgoAAAANSUhEUgAAABwAAAAcCAAAAABXZoBIAAAB+klEQVR4nGNgoAlghLNidRRnBc8w5nQIxZBUE6/mn88vd9hEmuvr+1xUSXcdc3aeT7te2z3jZ/LsersdIsrCwMDAwMAubCnz6Pcbw/vSXzar/0tnFFrKwMDAwMDEwMDAwKCp/ZZR767RUX6WrXa8s34ftYhhhkkyp1Sz3NvizvAw6t8H3iMP/lZ5M5ipwiT/6rxTNFzKLLv556oVv5qvMTw5K8LnBZPU+uZixfb/H7vWHdY7PPcZBNmZWFcYM0IdxLNa6bHnv/9znnF+/v27w+b5Da3p3reZ/kIkNWTa2Z05JGJn8fkp7k0QVme/Vrztyl+oP/3kDkQrsts++vG1mrnnv9TW/3Oz5/07BbVzk+A0qcKXJzkFhT+8eSvxSfHJJ21pR7g/lW6tUfn6/hPPs59/OCTZfysprVfaApdsk3n+i4/91dFvbJovj9x79fXGJoUbcMn7V74YXfvx2ntqjNlClRc/vxr9mvoXHrZ/Z7Lv4Qllm8fEIbfvEL8g23vhs4iA/1/6xvnoxWunBZgUH89SUNtaNoPpHyLgz8ozM+qmavW/XLaQV0Jk4c3v/5Hj09MyaK/jg3sbvQW4Pzpy7l50ECnKGLazxTAKmGgrPpUy/nLIccZB1GTCKd9xx7jttt433Vd2k69gJDAGZS+vUhkbgaNrfjPQFgAANte9TwHIoiYAAAAASUVORK5CYII=\"/></td>\n",
       "      <td>not affected with alzheimer</td>\n",
       "    </tr>\n",
       "    <tr>\n",
       "      <th>3</th>\n",
       "      <td>/kaggle/input/alzheimermridataset/Alzheimer_s Dataset/all image/mildDem100.jpg</td>\n",
       "      <td><img src=\"data:image/png;base64,iVBORw0KGgoAAAANSUhEUgAAABwAAAAcCAAAAABXZoBIAAAB+klEQVR4nGNgoDEo9T3pZLh9+aFNCCFGKC3XxMA6P+jxHyc2tber2lAl9bwjn77lfssjuJ4941+m4EaIKBOEYr9+TLD+ner7mS7Hzz1ullFF0skYwZ3JM82a5e3swg3v1HlNuB7OuvQHpjPiegzXvZWKZt983ulwPfmkLMeeEAo3lqXqAms629RpN2eu+amRsecuswyLEgMDAwMLAwODu9V993uMkkYCOzjus7T3/vzz89GW6yx/IDo/Hfi25ed/of+/z/3l4m7T/GYq4lTO/R/qoFJvNrHfbJ9f/vzZKBWkIsBzTf7dTb74/xCd37iul7w+JMLD+fk7n9YvqQ8zDp8wfPsf6qCpv7XbKj9d5+Lj/cnNofjyntVM7r6vMAexXXgjLcj3m0n1PeMl7n9s/2SFp1vthQeCm91eYz0OoxdXFVnfKL6/eevIR5ZbMGMZdq26w/rt9UnJnvMr9gg8ULnrHsHEhQjb0H/XPwjxHv759OOBPcynmfaduPMVIblH3lJcRrs59PNr80lGjHZcpv8ZYA5iYBCKfWv+63ef8jSJ6gf/Ar/Lnv2DFGXrN57//uuD3DzuN9MlOP6/41zPgKSTYaHzcVMW5luMLK/f8S7j/X0HRZLhjOq3be6aP24J75X4eX07WhpiYBDiytgjf9X81Y3LGGmPygAABO3I/388GrYAAAAASUVORK5CYII=\"/></td>\n",
       "      <td>not affected with alzheimer</td>\n",
       "    </tr>\n",
       "    <tr>\n",
       "      <th>4</th>\n",
       "      <td>/kaggle/input/alzheimermridataset/Alzheimer_s Dataset/all image/mildDem101.jpg</td>\n",
       "      <td><img src=\"data:image/png;base64,iVBORw0KGgoAAAANSUhEUgAAABwAAAAcCAAAAABXZoBIAAAB/UlEQVR4nGNgoAlghLNU5rb8ZWNh97/ShSGppufx7wvf1vuiYTzr9GtQJJncLfg/z0s6/CTzoTivDPPWKRBJJgYGBgaGf0J7Bad+vZLidUv8z+bPlSZByJIKit7T/zDGPDsvKPlccWXFdZ4gZpgkc5r0D5WHPP77OH//vn7085kPj/5rh8Pt9FByr/jELOZz8c03GYU1bH/6eF4cncPAwMDCwMBQqiX49wcL69vjKTvu84gxyN//9nnHF44fEJ0SfDL+t7bI3wth2sv1yubeW/lo4f93C/5CdGbwPmOT8+UyPPNS962anpX499/3xP8xQo0V5VH++teJ5ZXC36lqvv+5P5y5HnyQ6w/MQZZp05mCeCSf/3nMI/6f4yHrdKW4hYehXmGJrHsr/efOe71ffzl4JIX+fVZ68fslzJ9/7mh/+8fKxHNHKVJN6tsFDl5VpmW3EGHrxyYk8/+b0fHHrDoGp5TPnxF/cOEvPPhiLx5kkf/9gEGE++NV0d/v31248BcRtqd9BNYtdT8irGCzeYfksuexQv+RAn6nmmZBCrugxcO3vXys0XclAv4jR3b7V33+3z/3vNTTYvvP+HUNz+L/CJ0MlSe/X/n224TvxYsfvxjWyyyC6GSBpogT311Y/s16//6h6x4LjWaMBMZacNjrsMpdrSVv/zPQFgAAN0HLKIR5m94AAAAASUVORK5CYII=\"/></td>\n",
       "      <td>not affected with alzheimer</td>\n",
       "    </tr>\n",
       "    <tr>\n",
       "      <th>5</th>\n",
       "      <td>/kaggle/input/alzheimermridataset/Alzheimer_s Dataset/all image/mildDem102.jpg</td>\n",
       "      <td><img src=\"data:image/png;base64,iVBORw0KGgoAAAANSUhEUgAAABwAAAAcCAAAAABXZoBIAAAB7UlEQVR4nGNgoAlghLMyzDjY+j6Z8coXYUgGPS5Q/lmUdkGexZRhQz9UkAlCyT4y3fr92xT+W+paknL/VFF1xsQo/2U9aPD3OofyVdPdxt17PyN0Gh5uv/D7n9uvZ+f1PgizB/92t4Aby6iZJM8odf8Jz8unT39xfO/8rqknrwY31oq3jiviV8/me6+0JX+xHKk3+P+i8jBUp84LHj5hLrHKcgWGE3aB11j+PgpqsGSFSn6IPh/25wMD/zVpbq4p779yGz5UerAEZqwRe8V3bbVHZxgbta942ombP+Bk7WZr/Q+R1JvKLrbOwOzw/+9lLhEMEufucQey7UhmYGBgYWBguMTyecKx/lsKb96yMDDwMXEwnlX7dJEBKsmQwPzPX/wnl+iTf/fZJV8L6K6/NI8DHgi/Q21/3L3/TKJT2m3dizvPfvz6bnEFLnnvhfwJvt/PD79+tFpc4IvOXnXzI4xwYxl2srHdk+Z6yCI3P4bP+tEX5ozX/xGxGjjfpa/tspLSc/cPsq8mH1WYhhxlz2ebWPv8cDmzWufBmZdyrOIPkSVPZD08zSRbWP9X7OUfActHM44xIkd2zA3VfUxsyn9/zvm5cPWPSYf/oyQTpqbfIg+MJxiH7vy7mfcMRgJj1/L+K7zd7+ezCQw0BgCLIcBD94DjkQAAAABJRU5ErkJggg==\"/></td>\n",
       "      <td>not affected with alzheimer</td>\n",
       "    </tr>\n",
       "    <tr>\n",
       "      <th>6</th>\n",
       "      <td>/kaggle/input/alzheimermridataset/Alzheimer_s Dataset/all image/mildDem103.jpg</td>\n",
       "      <td><img src=\"data:image/png;base64,iVBORw0KGgoAAAANSUhEUgAAABwAAAAcCAAAAABXZoBIAAAB8UlEQVR4nGNgoAlghLPUs/x6ft7mK76XBBdigtKKZuFOqyMZg1S+Pot2RJOUEu7590uFm1+G54uzsWkrqrE13/I/7H+s+FPn71dehY+nPtYg6QxeK8P5kU/9peovw1vvf6/e/76AgYGBgYGFgYGBKSSKgfNLj+292N0il4y3KLkf9DtqeRyq87/FQlmVysj7grtXrhLfypQgFX/nvDAjVNJeslng9elpQfy/2Z4dCeNkfnPqrY0YG9TYL2de/fOyUr287vtX5ktHOEzkRK+xGC6ESgpwy984W8Xy5h2LFutbJQ6t9yuNGOX/Q429r3bey2w2v2KY/5UzqkJa92pD5W8eg0neXftVuINzxwdxjht/2YWenFbd+sPiOEyS4cnnczwcnP/ezGHjEf3BJMrxjiP3L8yfDA89Hj8weSl1qeD75/+TXH793qOuugEu+erat6u6Gvf4zj9/4G/+ho3x7Qrm34jg076k/pGTWe75ZePzGv8eP8m5sx0pbG+bOr+vU780r+jt6UeqR+x2NCFH2fM/EmUz+GW37b/RxCjd9sD4A7LkAQUtPm1W091Xn+8wEuCIeHOGFTmys7Z9/b2O4T6/Mv+nq38Psy/4DY8yBgYGhgkKsv//mq76KqNzmvXtdIwExt5y7/OF4HOKjBMZaAwAtyjGHBkmUzoAAAAASUVORK5CYII=\"/></td>\n",
       "      <td>not affected with alzheimer</td>\n",
       "    </tr>\n",
       "    <tr>\n",
       "      <th>7</th>\n",
       "      <td>/kaggle/input/alzheimermridataset/Alzheimer_s Dataset/all image/mildDem104.jpg</td>\n",
       "      <td><img src=\"data:image/png;base64,iVBORw0KGgoAAAANSUhEUgAAABwAAAAcCAAAAABXZoBIAAAB7klEQVR4nGNgoAlghLPC3WRzpaOZ+aWs/sKEmKC0hC+r9DvG99J/uRjmx6BKMlkIsAhLMPYzbFiY8kP4WzaqsTpT9iQwfb21MlEw/Pf+c88ZC5F0xue+j2H7++2t4IQt8/lc9d+xGcIlGU1MPr5i7fsqf3vvbfetRizvsoz19RgYGBhYGBgY/rtL8akkPRJ/cf6/Xov6XZZ18Zcec8J0Wktv2vjtiaQ9+3O2S39zXrBIfzdq8odJivDGWzAKO+9RYmNgeLc+nzuU95GUHMy1ts+8NIK//XjxfP1TeVVzKdlvi0LPqVr8hdip1cHP06nuIsqVnm1oxyp6P29+A7v0X6ixM6/XH9v44C674Me/0pziX+57bVazPA335+7Y5ggNgZ+i/1m+sH75xcB7VvnRTHgIyWW+4BTjtP3w9yWr6rtfPz6UGpvXwiVZxbSFHdUfKFx+8M9E96xMq+L9R3dhgcDAwHeTUYLnrdhfuefX/5o9lvn+6i4ibH+nW6V7X4nZxP/z1JGpf5rNyuRZkGLFppJLlpVzm91cPaeTBu+FLt7JQ5Jk1U61Yef5M1PxdrAg878TF/ZeRIqy3xfesP3p/Bn2UHDJn2MzJQ5fRE1DHLVrypT+prmZnfuqNfUaRgIT5hHUu8AQ9uDzut8MtAUAGRW2G90a3AoAAAAASUVORK5CYII=\"/></td>\n",
       "      <td>not affected with alzheimer</td>\n",
       "    </tr>\n",
       "    <tr>\n",
       "      <th>8</th>\n",
       "      <td>/kaggle/input/alzheimermridataset/Alzheimer_s Dataset/all image/mildDem105.jpg</td>\n",
       "      <td><img src=\"data:image/png;base64,iVBORw0KGgoAAAANSUhEUgAAABwAAAAcCAAAAABXZoBIAAAB80lEQVR4nGNgoAlghLOKntzltjxo8OfV7u8wISYorelnUWid8ZmFJ0ukwhFVJ1PjXQ+na7IrDuXfEn714/6/eSg6fxWduyHO5qDL56Dk51jHbY0safR3Z46KCMcNEaaPr25rbNBrdWSES0Zl67J+us64/v3CuRzHfi70t/rrUw2XNJblsBZMexu+7v3xc54sc9k5f738CZPM3n9ZR7CU+81EYe6/p1jLuHb/F3VUZ4NKvvT4sJr5E98pg79sDJK3siUsfmxexP+LgYGBhYGBgYOZUebj4mdPqhKZ/4iLCiQ9FkxaPBNm7OX/76/ynGAzmWK6bK8Ys8S9tU92qfQyQHVefZfHnOTAoCj7hfkXi87LK49WhF8/zvQPovPPhxVPnoi/5v718/d73qffmYWZTn/Y8Q/mlb3cDb+4uO5+VOycIPn3AeN704VM+2DGMpzXein5UfCazIMTHz1Zvwu/fCa25zMi+L6yaN3i4+F7paPyVID7mN2055v+IyTfFHhI33Xd5ffjtfNh1VdCOtDoYGFgYGBgMFViNfzOHPjot8JfRo5YJZXHYUix0j/zzA/Oj2IHvpy44fuh58WZSSjxuUSK9xffr6sX4r8y8nR92HIENQ0x771q955pu7D9SaOfm3oxEhhHD5vCIQ6JScnFfxhoCwAGo8NXmwR/YwAAAABJRU5ErkJggg==\"/></td>\n",
       "      <td>not affected with alzheimer</td>\n",
       "    </tr>\n",
       "    <tr>\n",
       "      <th>9</th>\n",
       "      <td>/kaggle/input/alzheimermridataset/Alzheimer_s Dataset/all image/mildDem106.jpg</td>\n",
       "      <td><img src=\"data:image/png;base64,iVBORw0KGgoAAAANSUhEUgAAABwAAAAcCAAAAABXZoBIAAAB/UlEQVR4nGNgoAlghLPan1/Vvv5YNfZ3NIakj5Xqf8YK+RjNIw7nuu9ABZkgVJSmBudhockCbCw3uC7MKkPVWWMh/5lB+McaGcWfl4P+Xl20BUmnn5085+8z/7f8btmlxve9e7ZfEEJnB9P796WveDmutRslsf3lPcYpvu7CfgYGBhYGBgamp3q+TMxbZDlv/Niq/lBmW7fgTAbD/VBj08wMHn1tO6747Op3ppPRG/4xvNN7tokZKrl776Kqi2xfLwR9Y+B8vZ3lg+SdrxIh/6B2ujw0U9Z0fHBj+1m5dyyFUsaP/v/a+3LCX4hkuttJl5/ckj++vp3AmSqgfnD3/9w/1xP/QYyd+f4zd+mJG+wCX8WEf3O/+ih85POzy/9g/lwr08fI/4uRV0DkNQffP0FOoVuM5xigXmHg+Mz666HwC26ZRwL8NzgZ2L/euHUCHkLr5Y7/4+J5zHb78sWHGi+l/39dtf8bXCfjbAZe1pNaHC9UvO6waN2by8h5HhG2/1XK/D8xmVTvnftEcLX44aQSPUh0sDAwMDAwGLwNuSDMnqa8SN1L+beHXjM7y19ErFQff6wl9VV3y8OvJ5V/q/8xFkDWybCdK+aG+8/ntzVF/8z2ZOu9hSLJcMji7TxB/pe/ma5zrDgFlYNLvi7lE4mS5Octfyh04zcDbQEAgWDHH10UP48AAAAASUVORK5CYII=\"/></td>\n",
       "      <td>not affected with alzheimer</td>\n",
       "    </tr>\n",
       "    <tr>\n",
       "      <th>10</th>\n",
       "      <td>/kaggle/input/alzheimermridataset/Alzheimer_s Dataset/all image/mildDem107.jpg</td>\n",
       "      <td><img src=\"data:image/png;base64,iVBORw0KGgoAAAANSUhEUgAAABwAAAAcCAAAAABXZoBIAAAB80lEQVR4nGNgoAlghLNc335yOiP/oHrFGgzJdLcf3Lwbf9nxsv79OvkwVJAJQkUbTHn9+LQTZzMTn9TWxnQUnWwb2AQ+zy1e8dlyj0zC32tvjy5A0ulftVJYienp6/3360S6OV/vf6zNBJNkcr0ab/XtpLauyNftB3Xy/tg98zYOZWBgYGBhYGD45/jjVcAXmT9115nfvljLc3ZWB8+p2zCdvu+e8/zJKTA1+czy5XHXCdZFAvvSqmGSL3nENRhUlFcc+CUje766lq2NP1LmB8xYLl2Bv4ztj34ann15U9ldeBfD9/N3DJn+QXTyaX5SLrr3W1zU5JmWt5LGoV2pf9x4/kGN3fRRpPretde/+GWEhFXFX3P9evHtxXa4Pzv+HNQTfsj85vfFi79fcv7mUeh49AMeQvOW33Xyeyv1V/EsA7PM+7e7fzz5dQGuM+m2+4sbYi/fHz6z5oHEZy0VYdWPiOBj5N5065Lgu2+nXZpP7TS8wHiM6z4DzCsM/12k/sq/ibJy/HExoM3r8fHWBwwISYYn4j9NP7Jv55jD676ZPV3X4iRyfK5l+fVV9Ldw6QvudUI/OXQvv2BCjuyyN3xLOd5Xc83azDTzwJcD8/+hJBMZQ1lT+3UrSvWedzHYV2IkMMblu80naZhdvnbuPwNtAQCR8M0lf3/C3AAAAABJRU5ErkJggg==\"/></td>\n",
       "      <td>not affected with alzheimer</td>\n",
       "    </tr>\n",
       "    <tr>\n",
       "      <th>11</th>\n",
       "      <td>/kaggle/input/alzheimermridataset/Alzheimer_s Dataset/all image/mildDem108.jpg</td>\n",
       "      <td><img src=\"data:image/png;base64,iVBORw0KGgoAAAANSUhEUgAAABwAAAAcCAAAAABXZoBIAAAB9UlEQVR4nGNgoAlghLN2PPkhUDT1qTGH7Q90yZb4fz+PXtL8bCnM+EdACirIBKHyJFkY2TStPyrcfMkzq2QKquQz2cW/+4Wmvfh5rPl8afqtPmTJAoYfbh+ftlnrn7ivf+jjlvdPqhgYGBgYWBgYGJgjLnVcUzkpbaa4bmfSv232gXzMhzSvQ3X+1YhaYH6tnWXdvA3MXFJV5dJsryU8YDrtX5jb/V7xL/VLKMOn12zbP79lOXFNiesbRFJA7Ma+aD/luTIMHP+W/jFT4lrzneHwN6jOW/dYvP8bmD74wCH3zdZERPJ34uttp5j/Quzki5MTurHniyBL3TdnA3bBj2Xvjgda/4M66PT7AtmGq49+63MxC0tI/npybZVYu8V/qCST3KuXT4V+szGwv/ohwPHtd/L85w5TYIHwZ5nwcQEuRsZ34pN8eT8/f/PnX8/584iA13nPFOj4X73W8Jbfu/fi95ke73n0H+paBoZff1n+nHA68eKb9U1jyR6mxz+eIgc8m/f5ByotLt+Ynl1j/fesvY0LKT41A0SN/5lfE5jDWnhK69vHBx/TkHReF7vDpfhMeNZhhi6dz184dzejxGfhxecXGVhFv/7jvHHxT7/AYxRJhlNHqza9sODg9/1354B8D0YCY5M1kVipr/5996N/DLQFAOQUzTwX4WczAAAAAElFTkSuQmCC\"/></td>\n",
       "      <td>not affected with alzheimer</td>\n",
       "    </tr>\n",
       "    <tr>\n",
       "      <th>12</th>\n",
       "      <td>/kaggle/input/alzheimermridataset/Alzheimer_s Dataset/all image/mildDem109.jpg</td>\n",
       "      <td><img src=\"data:image/png;base64,iVBORw0KGgoAAAANSUhEUgAAABwAAAAcCAAAAABXZoBIAAAB9ElEQVR4nGNgoAlghLMc/1i9fMlifOzuXQxJUfUfugyx+14k8R7f9PY4VJAJQmkb5IkJhj+4xXHoBQtHviaKTqYkxat5EY43ol5o8PxWO8X2seA/QjIg659A8q/2k6+Mef/sVndaxvpzLsxYRnO+Wf9i/9ieM327Ze8G39mcBlkCcjDJ/wYWudw/f99mWXXtEmNdvWiv9Zv/9jBJY+6WDwys4k8yv3NynN4nx8x59RjfW5gk+26p6l+sby033frCxcWUwzVR/SPHf0aog5zY77JNFGBLlY6/JynAzSn84/+/tZylUJ1/78Ysfn6aYUqM1F5Zhg+ia+fdvf/vPyNU8mBYSF+1wPt/RozKbyVVX/LyHbn4bh1MkpHlt6jci28cv069+/mD4z+7wioVUeZ/MK/MXLWBU/j9x7fMt+b+vvOD6bFg+/+j8BBilOP84avBHOFuLvyy+MD/s08Md55kYGBgYGFgYGBg0H1jIGX4Zdmr2wKcO7/rPz3IeBop4E0/SryUqUphXBJmxZG/5pHCp1k/EVFmwfY1sv6DSVkHexnHkwCV7Td+Ike2dYPUP9b3F369VzBhZfhw+nH/L6TIPtp8YJ3nj79fP29kfnPs5fXOXyjJhEU19YLSlZvJBvwJXP9OYiQw7iB2j4kvTD5p9jDQGAAAvvTGsJbJPrsAAAAASUVORK5CYII=\"/></td>\n",
       "      <td>not affected with alzheimer</td>\n",
       "    </tr>\n",
       "    <tr>\n",
       "      <th>13</th>\n",
       "      <td>/kaggle/input/alzheimermridataset/Alzheimer_s Dataset/all image/mildDem11.jpg</td>\n",
       "      <td><img src=\"data:image/png;base64,iVBORw0KGgoAAAANSUhEUgAAABwAAAAcCAAAAABXZoBIAAAB9klEQVR4nGNgoAlghLPSvTmeN8y69OLmln/okprRwrpXT0uJHUmQPLJxF1SQhYGBgYGB1TXmvyS3+GdugSRuZska7vUQSSYGBgYGht8Kj42FTshaiL6RefdN4WZ+PLJkxt0r336o8/EcuvNd89onu1MmSXBJlhiVcDP2i39WivE8+8j9muuzm4q6AUzyD8dxaZP/hnISa86Z7srVSZ74+ch9EZikjVS8Okfu+wf3RC3+v06t/L5HzEgmmAMqqWR/ed//Z1OzHL9vmv3mVagQ//cdzz79hPoz+u5r5WrBr2+eKP3j/cbCK/XpucTvK9FQnc9/ynq++yUsL8658OgvVv5r6Tyz3oswQiX3KWhbZh49+16D5eYlJdaPd/5Ncj725T8shCwNLyu85/zD8vj1/Xs/5NmcFp75zgUPvn3S2yUFOL4dFchT/cp06/droU+8V+AhtOPQg6+vRV6bHni75+PT54q8mszqrHCdTP/C59xmMD5z2517s4d+/QPWn2uRoqyU2UL2uXq6LJvCMqmpD9jWP1+FFPBB999Nn3xdu/y+0OaQVc+5hESRY8VS4uG3eI6yq9fuLbEPWHT/wytWlJQQEPXYXaT7ow4fv8jfn2vnIOtkYNj6yPL4LfE932Xm1nzbPwcjgTHU/+C7yMQvcnflfwbaAgDhLcfjc2AyNwAAAABJRU5ErkJggg==\"/></td>\n",
       "      <td>not affected with alzheimer</td>\n",
       "    </tr>\n",
       "    <tr>\n",
       "      <th>14</th>\n",
       "      <td>/kaggle/input/alzheimermridataset/Alzheimer_s Dataset/all image/mildDem110.jpg</td>\n",
       "      <td><img src=\"data:image/png;base64,iVBORw0KGgoAAAANSUhEUgAAABwAAAAcCAAAAABXZoBIAAAB+UlEQVR4nGNgoDHwdzsi71h/PMOEBS7ECKVjFZSkBe5vjFTeZdbHsQQqyAShckyvGv5+JPWpvkZBwL6+GlXS8nndhmy1F48SXD4WuL31rkSSZDY7e4ZpWjf/RNb5W1Vj/mzbLxXAxMDAwMDCwMDAEJLyQeo/y+G/hhv/t/XZHI5l22777BRMMmBf9cvIf8r9L/8zTJNb9d67jMfA6twfiLEVL4WnsYuy3ZsoxsrFl/ng29dg3vsBzFCvhLLpcz6ImiS7/Q3Db6EvLTva2Ji/fNeCSkb8Nbxr68V4/SfjLSZxTj7xH0IH9E6l/IUYezskuuZTz3N1CdZ7P7nY9a8s3K/w04QR6pWzZkx7evlu3OWX/vJaRfUF47+6H6f2/YG59pr4QgHlP6LvuZ7/+8386Y3Qr5SfYnB/rv+suZ/581MOyQSON/8+MH5i9N97Hi65wNHo92v9V6ob3v6T4/qgdi9C6sN/uOSfR5MZja7wXPnz9g33D6FnnKskHyEFfJRexO/nbiuemv6ROap8c1ZVESROIeQ6r0uOapyVUot5LLmEdRacu8nyG6Hz4qcOTe7fyie3+6zQ/GYvomD4HUknw9R3iVKCDA/D7338J/D9MFM6SmQzrL2XtOwv38V1Sh9Xv7iZjpaGGBgYquUky+NE3056+Qcz9VEVAAAuMcZZ0YeqYgAAAABJRU5ErkJggg==\"/></td>\n",
       "      <td>not affected with alzheimer</td>\n",
       "    </tr>\n",
       "    <tr>\n",
       "      <th>15</th>\n",
       "      <td>/kaggle/input/alzheimermridataset/Alzheimer_s Dataset/all image/mildDem111.jpg</td>\n",
       "      <td><img src=\"data:image/png;base64,iVBORw0KGgoAAAANSUhEUgAAABwAAAAcCAAAAABXZoBIAAAB9klEQVR4nGNgoAlghLPSZPQu3FSR/zr9BoZkHZuI2a0P85Ofuf8/zp0BFWSCahMU+P1P4K3SWfMrXHYWc1El3TklvPkF/eTCdjPWSkjrliBLJn6Msf95n+Ubf27gHbtuRuGCdha4ZLjgz98PZintvLJQ4dO/HzuZmrrEemGSvNbZ0p8SVc44Hfpv+Pqt8o/8WpE7X2CS3kfOaTF8WM7a/fDPpu3ZM9jZ2TW4ddigko9tV896LRpx990f1t/f5/lKTfq14cn3X1B/pms//eauz3SCmfU4mxozj92rk0YLNl2B6nyw0tDn6x12HT6mrTe5hVRO9YtOuBHCDJXcqfr387ybV/kV2L+81hT++kKposzl+F8GBgYWBgYGluv8yreZP37mf/jv3lO+X2/+cGz99ocBKvnnn95lvd/vnjyXrXBkvf5F8CXvTM29MEmGc32cgn8ZHzhMufyRj51R+sHXH2dYf8NC6K8d48NHbKxHZL+/+yT7n+WPf9j934iwFc6Z+vez1nJjY++dJVbTv/IF/EMK+Jf/JdIsf5tIsp6ca8OVq+V0BTmyuUyNyv4zfD50g/dBFc//9+9TIamBhYGBgYHh20HvY9yPHM88cXD4N/cVh84N1GTCmc70O/7R8QtKiRsE15/ASGCcNaKfZki7cX5oYqAxAABu3slJVabEwQAAAABJRU5ErkJggg==\"/></td>\n",
       "      <td>not affected with alzheimer</td>\n",
       "    </tr>\n",
       "    <tr>\n",
       "      <th>16</th>\n",
       "      <td>/kaggle/input/alzheimermridataset/Alzheimer_s Dataset/all image/mildDem112.jpg</td>\n",
       "      <td><img src=\"data:image/png;base64,iVBORw0KGgoAAAANSUhEUgAAABwAAAAcCAAAAABXZoBIAAAB7UlEQVR4nGNgoAlghLN8hA9rfZLTvvBl+z+YEAuM0asu9NP/qMlP/4/vAsugYkwMDAwMDGweE0TmsZYx3fjK81ZxvnEliiTDx2lcdY+EXyRdNrgzd8/X9fJIdnKHqDizl3byf5xnKXJ4+f/NDy+uPQ+zk9nd6scB0dtvp+uy97Cksv5MnsmgumY1VPKvLbPD/8A/354wXlL6//4zx0eucxxPYMaqc8izVwdLf5+6jIuN4c/mjwLtz358rILqZOu6ynqjYK5rmOuBf5ycn3+uv8nI9xdmJxe7DcsrS98bMlN+M3GkSekcUD5heBNmrKy12c/5Ob6vP37NFW8R/Hb31L6a1u9PoP58fGLRLVmxj8yiH5glPv4Q4TLia7XQgQeC76cjfxk+/+f9xiAsLPv352e+aNc/8LB9Xbj/FcM9pV+s/FnX//3/zfBIs+4mXOeKg1ySv7+clzifkLHp6yvJb3KXZRFhy6x9+OyzS5q77p19d+mpqsyVdIk9CMm/9xozF7zh7/ziqxbf/WwWk9495Pj8KvDNL+SU8tRl/JKcXxL+L9yLLLmOQyeSw8e8XE5KYSXPUy4+VpT4XMa54PpfJpMNG4/e2fnxxvkzKJIM1RqMS9j28ouekjg/4f1ajARmFSD06NVZ4xs2LQw0BgBN6MZeTqcHTgAAAABJRU5ErkJggg==\"/></td>\n",
       "      <td>not affected with alzheimer</td>\n",
       "    </tr>\n",
       "    <tr>\n",
       "      <th>17</th>\n",
       "      <td>/kaggle/input/alzheimermridataset/Alzheimer_s Dataset/all image/mildDem113.jpg</td>\n",
       "      <td><img src=\"data:image/png;base64,iVBORw0KGgoAAAANSUhEUgAAABwAAAAcCAAAAABXZoBIAAAB+klEQVR4nGNgoAlghLNSGQJ/90qUrvs0FVOyRNrt8GFW/y0VJ0/f2g4VY2JgYGBgYNXLDrP8qxz+ZzPXQ8PX9Vkokr/9eBj5b4uvDrXlunWyZce3WiRJoUhdDRZOAc7Oq0qfd8i9jbBkSWeGSTL5GvZ+4Dg4uWf6navCrOcOsJpyCMQwMDAwsDAwMPxjtvP6F8AcP21K5uffog4huqoCOrtgOoOOTA5j+iJ4qnai33WfsIT/W5n+sSlzQnV+iWR/x8r7R3n1w3uak4wYGNqeirEy/4RK6m6W8f1x5u4j02brgwWqyWovTn74/vc/1NjPQrYmflcFpCT8tquKCPDdrZP6LC/9H6pz1kL5+2ZPOUUeqbO4MP0UuXh+/88dF+D+bH/Z9+PX92vigr/4xMUv8IecVVv4Fi4pWSNnw/f6rVReUtPRO8LfGdy+8J6AS+7/f2PGs3fOq5kf/N8u9oLn0oQvfzhhgcDA4Gpy5ZPt5Ut/pFnuHdGf+FLnwN1/iID/+O79iQM7tsw6nf+rRfr+58eF/xgQOhkeeZv8mtXJ+Vf3dOWttf84E1Eie9Lqmd8kvtZyP1Aq52P4UKvSjhSfDHmCn3eV/fb75XeBbcKlL8YQOZixDFtlfz4IbHu+ye/z698tG1BSAgPD36kqH2J/hrM9OPLCGyZHKwAAucjKUNJumCYAAAAASUVORK5CYII=\"/></td>\n",
       "      <td>not affected with alzheimer</td>\n",
       "    </tr>\n",
       "    <tr>\n",
       "      <th>18</th>\n",
       "      <td>/kaggle/input/alzheimermridataset/Alzheimer_s Dataset/all image/mildDem114.jpg</td>\n",
       "      <td><img src=\"data:image/png;base64,iVBORw0KGgoAAAANSUhEUgAAABwAAAAcCAAAAABXZoBIAAAB9UlEQVR4nGNgoAlghLMC4h6ce+Ks+GbDwf8wISYYI0lERsH7vcw20ZRJnjAxFggVoaV6k+fBZXXjs/xad39/PoKiUyBRPvOvVsrXh1f+vDe4OCUKSSeTI+cTGZaDn4R8BNb8dFjeVxH0ci/MQUyujm/eF3wXZXu6Tlpq0v9Xp/d3OB84DNXJ9ItF3W3Fu++CxutUbtbV8GxVCOT6xvgfYqeJ02ubr2sPJXP3st+b/pXt/0vRRx802aEO+rV581wO9cTDMt++/a45vUo2hStNyvwH1Fj2GjYRxq5/Tz4EPWJ87s649c2Je/5TYK5988bx704tJQkGk1UMjeK8J8/wqy8TgPnzvvjvizMeHvgj/P3HBwE+jq9yzUzKx2CSjM+en/n5nfcvn/R3LkHZNwxX+StZfsOM/T2lYZk6J/Ofc0znbj++w/OJRcyh+Ro8VlgVmRj9XZ/6LPrzSvXzD7uzM9h4j/+FhS2jXCmvGve7NY++s2/jMP705+OXU3/hAf9LW87v9EyfO7U/lEt2q9UtW838GylWTv7nzqoRLlhxk1elhaFLis3uP1JKYHII9mTm/PVhEdvLRob3TO4yx5B0/tt35gPrnV/XWQSbuL6/ne90DCUlMOxjMT1Tf/Gm/oVtPhN/7cFIYF/sIv98+yfbJ7OPgcYAAKsLy19nozxzAAAAAElFTkSuQmCC\"/></td>\n",
       "      <td>not affected with alzheimer</td>\n",
       "    </tr>\n",
       "    <tr>\n",
       "      <th>19</th>\n",
       "      <td>/kaggle/input/alzheimermridataset/Alzheimer_s Dataset/all image/mildDem115.jpg</td>\n",
       "      <td><img src=\"data:image/png;base64,iVBORw0KGgoAAAANSUhEUgAAABwAAAAcCAAAAABXZoBIAAAB80lEQVR4nGNgoAlghLN2TGC2vurMzM7lhylp68H847AODx/PIcZnh6BiTBAlGZ6d583ORwmfNrrHJ6pujaKT00Az88snyX51XfnXi1yZuF7kIeksYrR491+U0eTfuRd3FBZL35d3YYJLzhUOff9t4fX7Fk+5fuy5+/qpu2BBOQMDAwMLAwOD6GVZVaHc98LXw45esHWZwtXTn24gC9N5kuv8CZYvwhe0tnK8v2XK+E2J1VdZkAWqs+40u8R3Zk5XifM/GZ7GVe0oe/3nyb0/UNda//iVYiz+5y4z+7I/GirqP0+x6e5hLYMa+61qlU3OkU+8TI8viemwPDv5acar5zsZoZLnH7+88ufevu+Sgpwc/Px8LIzMDTa8/6F2Mtzl+PrhtwDH/5sf3377wsDy/PfnQ3Jwf164N4X5/9fHTxWnf33J/PYtA+sP7klwyeO7lO2FRF9oXFtz74niQ9Yz0Z7rWRDBZ/PxKDfnn50fVStebFQWN+IUvP8HLvnnuk/PiyOB76JuS95dp3/74bYjfxlgwcfAoHCN2fP/H41z92c0Lfjt4Pp4DXJ8zmWT2/Hyt8xWecnLyRz//nBzI0syLD6vy8v2J1qS+f6f/8yn9y9AkWSYe45psciehyymX66t/9GLkcBqznh9fcX19QPPFAYaAwDEd8b+b77IVwAAAABJRU5ErkJggg==\"/></td>\n",
       "      <td>not affected with alzheimer</td>\n",
       "    </tr>\n",
       "    <tr>\n",
       "      <th>20</th>\n",
       "      <td>/kaggle/input/alzheimermridataset/Alzheimer_s Dataset/all image/mildDem116.jpg</td>\n",
       "      <td><img src=\"data:image/png;base64,iVBORw0KGgoAAAANSUhEUgAAABwAAAAcCAAAAABXZoBIAAAB8klEQVR4nGNgoAlghLMc/zsefpj1Q23f9H8Ykqa2whwMS8OYWJ/xfumCirFAlBT+E3ov8eM7y6MHHsZss9RvQiSZGBgYGBj+/xbUMHwue9tf7denlb+YdeWRJUPu3Wa7PftZwIv7stdEt4SbcpuxwI11EWJxXyTJfIDlzafPtlu4BK5IGU20hEnyPpa9eYYl8vRVWYPvu/592dZ4eustmLFeHFkfn4p83ZtvyHZJIpBDWfzxpy9iMGMVuHdxWB0WsV9/h+fTQTaRJ03/+N7dYfoHkfx+UsWdtfPvPTOBc589eIUE3200TzxxAGosc4oHZ/3d99KfJO7+k+CSvLLQ6OprcZidcz6evsh+8/pPuS9/f3yQfPbear3f2hv/oZKMy63nMvL+ZP/Jz8wqxcsh+eTrSRXX/7CwdbNc4SDNwyC9z/zjjpznt1kv3f386hfMn7ue/bitck9Y5vgRgffPn/98952d9Qki+N4ziV+xNrn9IfwXywlmQfn7ny8hha2yo9wZifX9jNf/h2y4/uE6mwFywH8QYev89FOr7w6LgTi7i6vDW+T4vCRp8J0ngmkHk9DtHo6HPPxGB5B0Muxc9WTft7+f2G7d//39c9e/PtRkwufA8iD3/jqDX0YfLllXYyQwcRW3naLXY17vufGfgbYAAC0VygWUTvYZAAAAAElFTkSuQmCC\"/></td>\n",
       "      <td>not affected with alzheimer</td>\n",
       "    </tr>\n",
       "    <tr>\n",
       "      <th>21</th>\n",
       "      <td>/kaggle/input/alzheimermridataset/Alzheimer_s Dataset/all image/mildDem117.jpg</td>\n",
       "      <td><img src=\"data:image/png;base64,iVBORw0KGgoAAAANSUhEUgAAABwAAAAcCAAAAABXZoBIAAAB9klEQVR4nGNgoAlghLPcOLiva9t+XqG7AC7EAmNY6nzXVT3371+GPs+fGag6rcQdNQ5Zvnh781mG7OsDb2dBRJkYGBgYGDjD+J/z+XCySht7fb3M90e0ghUhyVjszBkrxSr685vI+ydL33uHKZuzwiU9hFjjmd8zs7NdfS14yf+2+AfNWC24g8x1Lqv+OHleSOzmGmUJzuag23d/u12ESiZu5nb50/Kg5uTLOywedk1CHApfGP7AdIr58r9nYUu8wraV4d+st16nvzJdPmHD+B8iyfVhr2/ArBf3PntNVZCTF0m6czvpEeN/qIO+JS4x8N3GqyHx9cRLRQb+Y3Ws6WGcMNd2zv75gOvL4a+SDMw/2UTe3+eZV/juDyPMK667L+t8Z/zD/Jr1xzfuPyz/Lj/4fBJmLMO973tkWT6ef/VDO4Pl9Y1/XFq7zh+CB0LdO4YnTByf738yOXvn1A8OrV+yt77AJb8e/nXwHcv/vx9Y3rzn4mL49vjV0X9wyb8GqS0bPnjcCeX/e2Sy7ftTLeeRAp7h30sOO3GmSIa74gtTOH7ympb+Ro5PE4liWaYv8zi/OBv+YrlczHoNSSfDmXMd7+6x2TDIvP6w49pM22vIkc3A8EVp+r1HN96tvnNvKoP1PIwEFqrKc5D7V9PWNVf/MNAWAACXcMvrRdPINQAAAABJRU5ErkJggg==\"/></td>\n",
       "      <td>not affected with alzheimer</td>\n",
       "    </tr>\n",
       "    <tr>\n",
       "      <th>22</th>\n",
       "      <td>/kaggle/input/alzheimermridataset/Alzheimer_s Dataset/all image/mildDem118.jpg</td>\n",
       "      <td><img src=\"data:image/png;base64,iVBORw0KGgoAAAANSUhEUgAAABwAAAAcCAAAAABXZoBIAAAB6klEQVR4nGNgoAlghLMS7dTXfGPX+cGTCBdigjFCM0zuq0lZKcm9uJWEJhk7hecro5D2uzfP5ZN4GDNRJFlEuZs02IQFlbX0//76VMbjy4qQ5LB/8+4Nw3v5Gy+3fVl7g5dT39oSIeniY6Ql9I/pve4/rkfqm36z/LrrFA6TZH56g1eb0X7zqdrbmzj2PjD9dDjz/keYpHuqnf+/6bx2Rx5feL+4/Qcrd/VaMVcGBgYGFgYGhtdrH15M0j/ObH3jg+hjn7ydLLwpH68w/odI/pgq/JXV3uYc/y/Pz04SkjHvT67nsP4Ps/PoP+b600zywq1HXNxlNQ9OP+Wmvh9m54WHiceffTnPyMlXKPZc/v1H/f2l3jIwSaa/LKcfsnEwK71e/E3q+7dvt0zLHP/AJP/de3HvL/Oj/8+uVB/7/O6q/HndO9x18EDY+kHXYonE069rj567KPj78+9zgpzsMK8wMLjuZw0U+XT3qUjcZG6rw1JP3p35iwh4uZhWoSvGTfJRXz2mcf2662z7lwGh8wH3zoLPP2tD1vpJX+L0UH2GmhLmmD2wYeJY8PWKjyUj4933zSeRIztlHSvX119SHCLr/jJ85Os6iZqWmHa0ulz0Ue7adyrp8ArMBCYqb+1Sx2orveHwfwbaAgBGesDE5dHV0wAAAABJRU5ErkJggg==\"/></td>\n",
       "      <td>not affected with alzheimer</td>\n",
       "    </tr>\n",
       "    <tr>\n",
       "      <th>23</th>\n",
       "      <td>/kaggle/input/alzheimermridataset/Alzheimer_s Dataset/all image/mildDem119.jpg</td>\n",
       "      <td><img src=\"data:image/png;base64,iVBORw0KGgoAAAANSUhEUgAAABwAAAAcCAAAAABXZoBIAAAB8UlEQVR4nGNgoAlghLO8OQOn6Ni+MD5RDRdigTGmvzWcwioopfTptJHUFhSdzMaihZfUTpntFzwfJv57yd0jEEkmBgYGBoa/3qoyfEl++x/duTbxsJCwawELkqTXR/vH/QqssqJOQhYPbkWFK+rAJVnMNGUfH2ez+8q9dbeK6OfFTKvf/NeASf5RMfR12czAl/uQ8RzfJqPHDz1skyVhkjqGrO9Off+hULif5a9A79pfrF9OssrCvCL16csuTb2P96//ZGddsdPwDO/f8zoKTP8gOoXEHq7mce3W97Pm+F2QH7Lxx7/gx0z/oMY+fm2w9O73g/IcOpI+cr8Vjsz8czNZG2bnUVeph30/fryWFHZR4TJ/90V7rs2Hd/Dgu6Ey4zsbBzfn+4Ni8t+YWETuHfh0Hh4IS29dN7rw6/G5Txl/Xr+8+u6wC6/UUbjk4Ql6MoKin4S/LjrxkuelhuZhwReMcMl//KcO8Im9uHDa5c+psyIHGV9emvIfLvnfcHLKnMe8q6RYVp3dzMNzNVfjH1J8npEK0novFeNa+/vAFKlfSm9EUFLCNCbLNxoftm9xVjH+wMH2cPIW5JSQNefBs//ntH6usrLs8tygugUtDS2e1Ca067i3KsvtWobn/9HSUKzhk3Pf7z7+9WHRqz8MtAUA00nH0iNw/XgAAAAASUVORK5CYII=\"/></td>\n",
       "      <td>not affected with alzheimer</td>\n",
       "    </tr>\n",
       "    <tr>\n",
       "      <th>24</th>\n",
       "      <td>/kaggle/input/alzheimermridataset/Alzheimer_s Dataset/all image/mildDem12.jpg</td>\n",
       "      <td><img src=\"data:image/png;base64,iVBORw0KGgoAAAANSUhEUgAAABwAAAAcCAAAAABXZoBIAAAB80lEQVR4nGNgoAlghLNcjH4KzzfkdFi5B0MyxkhK8Px+bkYX0Z8sC7dBBZkgVNyv9wIMMm/OqAlnVXL55qFIsoYJKfWm3i7O+vOF9WeukqQOsqTkBRWlK/oeN2ZuYApl/Ff/ntucgYGBgYGFgYGBKcbkmvv/v3aPPoT9+aXF+POpxX1DrflQyX+aXLJX7jFyL7SZz//3McMfbs6MZwdgxqbLKjib7+AVtb/7/f09m39cn54wvVZkg+pkOPmZwU/K+TLXWeY/at9dX1xT2M38/hfUn/E87+81cLJc+Sn87v9zRV4Fpo9/P96vhBrLe/N89q2fz3WEOA98Vefm+nHtxIubGjA7p/zWv7b/OeNrWYFzdyWlf//8NWsbww+4P038d4q/+Mj85/X/93//Crx9F/iNZRHMnwxsV5/d1nqk+P2Hgf+/rz9es369cOsuXLI/9p+cxO9zf76y3RTg+M526SDTp39wY39t5mI9oPKLn/nb7bciP5mFuL69RITtv7OaGmzzLTjsJPhczlmtYudIZkIK+Emm/K8Dz6p/1fj5VI255r+E0n94wDMwTJFkarjEw7BOTIZVgZHFWW79fySdX+9EPZES+C3+4sCqX/9ZD97diZpMuGzTeF99PcYSuNtr+48ZGAmMoeYz5znp4DVM8xhoDAB0l8V50YNWowAAAABJRU5ErkJggg==\"/></td>\n",
       "      <td>not affected with alzheimer</td>\n",
       "    </tr>\n",
       "    <tr>\n",
       "      <th>25</th>\n",
       "      <td>/kaggle/input/alzheimermridataset/Alzheimer_s Dataset/all image/mildDem120.jpg</td>\n",
       "      <td><img src=\"data:image/png;base64,iVBORw0KGgoAAAANSUhEUgAAABwAAAAcCAAAAABXZoBIAAAB7klEQVR4nGNgoAlghLPc5UOOPJNUv89UDRdigTG6f38WNbvL+NyEIdI2C1Wnrr+E3Yf7fy7y8rwOFHr+ywsiygSh4ixufcv6Ou+0nrJkBvv1uRXIOmOF/7mzX+ITvK10VOhW1npL5lPdv6E6mW1ENNhljiszMT5b8FjUpjRZlZPDBeag/zqm6g7zf29X72J+FX1X9+0H3pNKAtuhOo0db235sn9P1C/GPzx/LKeJcX6X2MHCBJVkPCQoztSrtIeJ89vfQ4dCp7H9fMB07x9UUuLVD4PfAhUyqmIKfNqeDv/OHQjmPw3zyj8z/Ye/pv7yfKr91djkO//dXrV18erMUMktbOJ3NvN+u2XPFSzOYvrvj+e8772Sf2GBsGcex/6fz7me+VxktNt04wPvl2u/jsFD6IHkAh8epkdfn8sueizzVvD6R79T++CSVzb+fsIm8EXm0RG2V9z/LvMp72NjgcfK/9eRZ4XeKV177q9xlZ3r/x9x/jVIAS/x3OnOTaFD0lb83z/9lngtfpIJKT4FDvOlyzMlcXX6Jr3g/3JHacE/JJ07f3Fy/Pgj+UjmwQaOr6xCj/8jx+ffhy9+v+b8cHjbM7NbzK8l5jxGTSZrbEQnCol95f2zxvbP7YcYCSzs52vd3UIv+Z+9/89AWwAA9a7GD+VMFDgAAAAASUVORK5CYII=\"/></td>\n",
       "      <td>not affected with alzheimer</td>\n",
       "    </tr>\n",
       "    <tr>\n",
       "      <th>26</th>\n",
       "      <td>/kaggle/input/alzheimermridataset/Alzheimer_s Dataset/all image/mildDem121.jpg</td>\n",
       "      <td><img src=\"data:image/png;base64,iVBORw0KGgoAAAANSUhEUgAAABwAAAAcCAAAAABXZoBIAAAB90lEQVR4nGNgoAlghLM2fd0SfvRmyD35hP8Yks1/IzYqMnw67feM92c8qmSrOYfk109t9hqXjSV42FaXQESZGBgYGBhY1C8J/c15Viv136gu4sMLkx4kSUYjJq2P1Yy8Hxk4b4UzNbLOfhkKl2QKS/2h8++83rlPp79f/fLjBjf3d/VwmOQ/Z1HT20m/dA/M3bBLyODn92011n9FYZKeDx5vFmBW6Z4pz3xRVECUQfz9S96/TFDJ/+cnHWJKf1W045o5z4ImATZrRkEBvv8MDAwsDAwMv4yD2Zhjos4/f/X3d4yeqNw3VsPP/P+hOlnV/qtXvWDmU+t74WHAxX238Pqe5ywwY3eq6J3+cuMe71cGW0VOUean2o1Kr1b9g/nz0rc1rC8+/zAUlPrO+fcvgxnT4n+vGKB2Mqz/8z6U4etvztc7grm+vfn9kPu68GF4CB3oZzjA+PmVaDXfnGmy76R//f59HCls+cLvdYorzvzIx3xjDfuhmzyOl5Fi1dLhwuxV52V3X1spI/QkWvN8JkSYhYGBgYGBO+mPlMbbEs2MGfvX/m1gK5NDltxj9v2ljpz4SoYlzOGf/39wbkeOT4a2ube2/3ilZ/35OeOjuOdn7yPrZGA4/Zj3UWLhVzWbt1eZai5hJDCDRG7Wd31+Wq0v/jHQFgAA2wzE+NitQRYAAAAASUVORK5CYII=\"/></td>\n",
       "      <td>not affected with alzheimer</td>\n",
       "    </tr>\n",
       "    <tr>\n",
       "      <th>27</th>\n",
       "      <td>/kaggle/input/alzheimermridataset/Alzheimer_s Dataset/all image/mildDem122.jpg</td>\n",
       "      <td><img src=\"data:image/png;base64,iVBORw0KGgoAAAANSUhEUgAAABwAAAAcCAAAAABXZoBIAAAB+ElEQVR4nGNgoAlghLPS+dR3aWtu0D6/Bi7EBGPEivoei/jEHPWJNysNVSeTk6an1M3/n6++V/zsszBw/QJknf9MhRQOX//G9MtuheRc1y2MFkiSHKbr93/awv5NUuPrD/G7vbLm1k7MMElmU7H++Jq7jC8YdqzO2fzyzX3pA0YqMMn//5wFha6z/hLbZen98yMD61Eh5jOhjFBJ5arJS7WZeWZpHpj+hvn+X/FfH2sYeFkYGBhYGBgYJPckszIyMQevlVB/LMcrd+/Yu3dvuP9BdXKvnSvw9GSgh+U7tpu/i/P3Jd9kq3vxFyr52z4voGxtvLhY0rH/3CKSuy3msD57B3PQHm3npjc/9vGJsrHzsvPwcYu/Z+y/AZNkZGbczsf44KCkoNw7CdX/vzlZw/rFGKAO+v/+4I//31W42NpeybRsfcH26bNYzT2YJEOHhxA711fuF28lnjCf+PH2zp9XbL/gwffv7pfvR0V/n/zzkonx6Ucrqd8y1/7BdTLoeaps+7NuL1vThovNtl/mTbx9CElS/sKjlDvcuil6xsvXfn0wr+wV51dEfDIbBMef+KJ97bi4z41b3Lyc/Zf/I+Lz79kPBy6qCfErriw2VGGUO3jpP0oa4ktW+Bi1uyfOUn4J++qLGAlM3Frj24nvqvoMteiJkNoAAFknwt5FbHARAAAAAElFTkSuQmCC\"/></td>\n",
       "      <td>not affected with alzheimer</td>\n",
       "    </tr>\n",
       "    <tr>\n",
       "      <th>28</th>\n",
       "      <td>/kaggle/input/alzheimermridataset/Alzheimer_s Dataset/all image/mildDem123.jpg</td>\n",
       "      <td><img src=\"data:image/png;base64,iVBORw0KGgoAAAANSUhEUgAAABwAAAAcCAAAAABXZoBIAAAB70lEQVR4nGNgoDHw3DzzoPiUQwuiEUIsMMaUU6I3juiJ3b8XxPp2M1SMEUIV/4xg/sR04bPJA07zwzIH+yCiTBDqnTkn9/bjAjLCTAd6DWW4kpEkuQLZeBk+2rl8XP/g10eu5V8+yDrCJRljTBgOMBxhEzNX7F77xWz7C9cHovIwyf+f7vqkzpnwo2/BAyXzoG2/dqnHcKjBJB0M5KQYDvM05cjfPq7KeIvl0Juqe9bMUK/8OHNn1TzOH1zr5QWYL5sy/FvPXsVz7R9UUkJDQ/PT/Dc/7/74/U+bt1v/wffDDtf+w3QKCst8XSsvxf3/h7bAX8Eri2S+PNJl+QOxc4eAIkeuBAuPKJu1KQPH71cy699MfPQH5s+f57MUn397qyL56YqEOvv3O5rKP87DA2Hrl6df/n4TYlzz9ED777M/FM88VNoND/it12wFZJhf/bn6hFF+N7fs+hzmxf/hkkwmDz6pSnNevf+Xc5eW8lrNvn+vEWH7T4up86zkg3a23SsZJslfvddS+A8pPsOUeY1e8+v1ZVrubn4z7eW5/chRpvPiuuEvlZ7OV5pbG7g/S2u8Rpb8X/bnhsnDPwxSk68xPOHb1XwOJSUwcGQJfuP99PNw18cfHB0nUZMJAwODWuxe6U9/Ay9sf/SHgbYAAMGXyOt7nt8eAAAAAElFTkSuQmCC\"/></td>\n",
       "      <td>not affected with alzheimer</td>\n",
       "    </tr>\n",
       "    <tr>\n",
       "      <th>29</th>\n",
       "      <td>/kaggle/input/alzheimermridataset/Alzheimer_s Dataset/all image/mildDem124.jpg</td>\n",
       "      <td><img src=\"data:image/png;base64,iVBORw0KGgoAAAANSUhEUgAAABwAAAAcCAAAAABXZoBIAAAB9UlEQVR4nGNgoAlghLP81cQ+nJVXNtjeDxdigjFOZ+g+vuJ2Q0RIyKYNTTIp8KLl38CLbwsZw5ZOtrdHlRQr9XzdOt/+xKf/DB+CObtKkSXtVK7+jlDw8P0hyq/F9LlqskwSQjLHXFb2g47GRF67j41GLKyXw91k42GSAorOmqpF+xT4er5tNQ/5x8xg/07mHwMDAwMLAwNDluyvn38fKHasOHnlxVJ9xWdMV759V4ZJvuziEW31f+m7f6XCvUUbJr7+K/VQjpfxP0TyhgvzRaY8jrc39yv+e/MysYfv5MN/wv+hdn6TUah3//P3j3jm7jd2grxcbS94JrHAHHT+HV9x+I1fPGxiXA4CvBx3va6/EL0Ak+Qw/PyXi/3rb6WvqrI/lATe/tk21WsePOADv9yNUpBQ+/qc/54yC9OHN+c+7r4HD4RNj5g/cX6/qLn3aNcVrQfvV3BICzHBJf8zBXLe1fpzRPxK8av9PNK63/+e+QeX/Je+/jnrCpeVVm9sl1XqVV06Yw0JchYGBgYGBt8f+qqsDGLScnf29vyf2j1xzj+klMBaI2qo+p/h7fa7HIXs/z8cvtHzD6Hzd30d19/f37uF1bl+/nu04fsUBiRjGRj6BeS3c8QfXsZh8mmJRDcDquTnIik5E4arzFVTtGYy0BgAAMsBwqIfq49PAAAAAElFTkSuQmCC\"/></td>\n",
       "      <td>not affected with alzheimer</td>\n",
       "    </tr>\n",
       "    <tr>\n",
       "      <th>30</th>\n",
       "      <td>/kaggle/input/alzheimermridataset/Alzheimer_s Dataset/all image/mildDem125.jpg</td>\n",
       "      <td><img src=\"data:image/png;base64,iVBORw0KGgoAAAANSUhEUgAAABwAAAAcCAAAAABXZoBIAAAB80lEQVR4nGNgoAlghLNivFRuvziby3064zdMiAnG6Hr68TPjg+g/T/9MakaTLHYXmWn38DaHuPBP38fCm1GM5bU3NFHcbPRtg8qph1wrVn6WzUToZFKXERZ55LDwHIPLpLiXS91dXiYwwSWdjfgk2ctkWp302W8855zDe0zRxx8myWh+S8Iqnnn3oXfHdm3W+cXWkvztiCYDAwMDCwMDwwRpM413X4UcHnbelwyWY2OT/mhqfJTpH8RBXoFiX8xSufUYr39/+ddQddOOA1s41POhrtWOfMwfK8x278vnAxcTZSVEP7K8vLZ6xx+IsRIizsJLHTnZOT4fdhNj/3HyiqKCauFWqIP26jMvfvDiLRMPY7ASH/+Df9K1N99u+A/zypnHhxX+sP0TEt98no9bnuXX74OPhGGuZVhg9oyJ5T3v5V/lD25IfP7OJhe7dCY8EM6+t2Bj/3/T5O2VLy9E3n34y3v5KFLYKol6Khg8effE5uIHMdUXtxYx3EOKld5E+acvOeanXl6UM/vPWa4SW+RYsXY3F33L/ktu4ys/7jsKIvOlCn4idB515BU2kFX//E9URMiSjfH5vz/IkW07+dermxxTrrzZ+ffOg+MK2X9R0hDXnE+belZ8Vja/vMWCsRQjgSk7HRZ8EyTxZ+aDPwy0BQB8LcF6N0CdsgAAAABJRU5ErkJggg==\"/></td>\n",
       "      <td>not affected with alzheimer</td>\n",
       "    </tr>\n",
       "    <tr>\n",
       "      <th>31</th>\n",
       "      <td>/kaggle/input/alzheimermridataset/Alzheimer_s Dataset/all image/mildDem126.jpg</td>\n",
       "      <td><img src=\"data:image/png;base64,iVBORw0KGgoAAAANSUhEUgAAABwAAAAcCAAAAABXZoBIAAAB7klEQVR4nGNgoAlghLP2Xfx17Gvnhy/dR//DhJhgjOIOD2EjbmYxvoTcJDSdU/5Zvf65U/qi59ZK2Tw56QIUSRfDvFfv/3JdEP9iss1n3RXDSiRjJ+r5fuTl+P9Q6pHEYabvDy+eMmFmYGBgYGFgYGCw1jLmZDiuL7SC5fG9A2kBa4TMfuxcAtXJEnDm5C8Pjtajive+SBX8436boGtiCDPWQFSJV1iyPerUiUcv7usd/sHb5pf/EyYp+Hb698+fGe9qPRbm/1RuI8P38z/LQphru3Rv6Ylwclx5OVvwTI2KgNRj0YsLGTZDdb6XcmCLu8nNIxFxLVSSVfpR41Sp3lyYse1/f29+f/mgGBfjd3lu0Vfv7DdkP2OE+/PW0/VSAn//8ypI3P8qzMwu8//DhjtwyYfn2Nx//rkiNVPp4esz7z6+89b+VwqXLH/zhYnt/7+/lx49fCDyhPX9UbNDPxDBd01w2R8ty11M78z+3Fdg/Ou68dIfhKTOLw6ezV/L/26uW1kn9U/gT+o/pIC/MUH7scIxm+2rV2yXfLD8XMw/5Chj2qXwSILn44prShp2DN+Z1v1uRdL5zyWZ4/8H5ldM8n+fM/BcFGhFTUO8HR8uuv89cK2QSYB/7USMBKYZrnRwV7bM/XkP/zHQFgAAyLrKT+uvqQQAAAAASUVORK5CYII=\"/></td>\n",
       "      <td>not affected with alzheimer</td>\n",
       "    </tr>\n",
       "    <tr>\n",
       "      <th>32</th>\n",
       "      <td>/kaggle/input/alzheimermridataset/Alzheimer_s Dataset/all image/mildDem127.jpg</td>\n",
       "      <td><img src=\"data:image/png;base64,iVBORw0KGgoAAAANSUhEUgAAABwAAAAcCAAAAABXZoBIAAAB7UlEQVR4nGNgoAlghLNCEthfX3hlwnGzGy7EAmP42d5jZ/1hxH/Rl4mvGirGBKFyOg0/q/7ewvrpxW2pX38moUiy838QCep8Vf72q4Jqh5mZ21pkSSN2Tc/ViV5/1U0POXBtF7l1xZoNLln9Qcx8P5/g3//8hw+cZj/w5qe5nh3MQcyfFh3+teVWwr8Nr/i8369nXZe57jHc2EDeAo7jNz/3KZvxSYdukPzGuTfM0JUJKvnhn/ZTAzlm4ceGn7k/sEmIF3s+sneFBYKmv5LSLyn2z533uH9/ahPU3SZ3xPO1O1RnSLTW76wLktx13YIMXWsZzryf4nvmKszOZs7vMxS+nvnO9//NB4YCqe9PpAu4LsBcy7p47/tshqfirL85VTgkX/H+eBRy4iRM5+9rd8Tv7OBg/vJFIfvH1Ycv1D4J/7sND4TV+sy80peOvD7xs26z/pOfD3/mP2GCSzLfvCqkyMT1UOyy4KntSh/lP8Zu+gOPsr86vJe/OfEeX7hExW+PGdeeqedYEJIM3wM4pd7fEzo14/Ke3b/keRtv/UFOCTbC3txygkce3zAI//fh35Pl65FTwpG5OluEnm37rPj7x0WOK3OfoKQEhqy3W5++MlW7/YN1+62DTzASmLTU7wk9/wO4u678YaAtAABdBMt0+3g6IgAAAABJRU5ErkJggg==\"/></td>\n",
       "      <td>not affected with alzheimer</td>\n",
       "    </tr>\n",
       "    <tr>\n",
       "      <th>33</th>\n",
       "      <td>/kaggle/input/alzheimermridataset/Alzheimer_s Dataset/all image/mildDem128.jpg</td>\n",
       "      <td><img src=\"data:image/png;base64,iVBORw0KGgoAAAANSUhEUgAAABwAAAAcCAAAAABXZoBIAAACB0lEQVR4nGNgoAlghLOK3pfn/C399ok9GlOy657NvPLjPz24frGu6EORZNRTy//ymueEOe965nymovcHIZJMDAwMDAz/eRhv8vZ+c7m7yfrVjjtldipIOvk92SrZ2/n+uPSGvt5vwBby8v6Sc39hOktvpzDfOuVYcdefQcny2ztODrnMUAYGBgYWBgYGhp9zX3CmMm1a+++4xWtL42pHvfPvZJn+QXQ68c6RuM0oypPM/v+Yis+O3yLMPD9PsUJ1cpzUWWf1n1Pm1KHfbCceizCp/7PUPvkL6qDKkP8C3/n/Xfp+/MLLcjl53nOsf0+rhkEd9P739sQ/65j45Y2eyCh843lWf++483mYP2dw2fU1/jsl+1eU3fi/xIsn0RNeNPDBA+Hw4auflXgZzNl+npQUZ/36n2H/h/1wr2xxbQ//84PpwcWV3w+Zvvtxh5H59Qm45PZnv77flj1pPuHDWUb7GzKLg3kP3fsPM5bV6/8OdiHRvX8YTK7s5LzKt+XU5v9wO38f5AsV4BVt1Ta7JDFd+73qp9/MSFFmW/LDkOfDE90lTMEndX9+ZD9RyAC3k+Gwrsa/lwxSJTKv7+b+YftxaTIjwlgGhmm39n/49Uv05fH7/34sffnt3n+kyGZgmHfzU8EJ0e+/lS+e+3GtAirIAqW/TTj2mu0hF/OX45ue/MVIhtQFAFL919x+lJPBAAAAAElFTkSuQmCC\"/></td>\n",
       "      <td>not affected with alzheimer</td>\n",
       "    </tr>\n",
       "    <tr>\n",
       "      <th>34</th>\n",
       "      <td>/kaggle/input/alzheimermridataset/Alzheimer_s Dataset/all image/mildDem129.jpg</td>\n",
       "      <td><img src=\"data:image/png;base64,iVBORw0KGgoAAAANSUhEUgAAABwAAAAcCAAAAABXZoBIAAAB+ElEQVR4nGNgoAlghLNc5hQo3pcQSDkVBRdigjECOm6W+6ocvv5K02Y6qk7maD1+hr7y5wczd6kbibLPb0TW+ffWdummH0cdvF/HyUz5XeZRjCTJ7O4d0vb3XwHLXknhJbYN0btEfNhgkkxVMs+MH3Cldr3683X2l6dnWDkeOabC7awQiXL5xSyQsPsXI5vBEqbvW/4+Ptn6D6Kz083tPcf//+9ndVp98BJk1eX8+vPUG2aoTmkD1rxLU3l+WimtEH/mfO51QJDijbuJUMn5ksyyV95+5Hmy0ekth6uA6teXT3Vf+v9hYGBhYGAQEH/z46ue8BMZtQmq/kz81+4cSmrQ+AN1bWA4e+mcD88E/7KFOcmz/P7NeaGv6C7cn/0Jb0y/XGQ2YmET+qko9v6v7ouftxkYIMYyPOd7x/2Zi/GFmtIrxTuv2P4pMRVdh+tMYVVhYv2yT2RX7cKdas/UHj5UF2GCBwLj1jzhVPlzvB9/8rDwKv3c/eT10Z9wnf8fF6lu3BJ65XmQXfc6oa7L3lq/kWJlOptGgs9/poKX/CcE2cs/aCr8Q04J23gFeb7+3/5KR4uP6cevfc/7kFOCV/WPte8Z5ZivfGdgZN/yDyIH8QoDA8Ol2TK8v2Y+5H9scsdGFZaKEAmMt/5c+AyjV6ILn/9joC0AAIVSwjtreNUaAAAAAElFTkSuQmCC\"/></td>\n",
       "      <td>not affected with alzheimer</td>\n",
       "    </tr>\n",
       "    <tr>\n",
       "      <th>35</th>\n",
       "      <td>/kaggle/input/alzheimermridataset/Alzheimer_s Dataset/all image/mildDem13.jpg</td>\n",
       "      <td><img src=\"data:image/png;base64,iVBORw0KGgoAAAANSUhEUgAAABwAAAAcCAAAAABXZoBIAAAB8klEQVR4nGNgoAlghLMiE37tET/l/8NZ6w9MiAlK71pYx8Yj9j1/h8k+q2Voko0Pjv0VkWB8x2DwT7fKYg6KJPfvq0Vib1h0fnyU23da9ZxcP7JksX4802/Zpff1ru/037TbbJuOE0Iyi2cfF8PP2WoS17gseIwWfKtaGhgFl7zwKp37yjz3p09UV6l+D3synbFV/Q9Msplfi+1vvh37jVcLH83+FmVz8Bvz1uMcUMlvRcocbwTPX03YK2z47nDk56Cv6/Wqf0EDIf6x/+1Mrt93tiaeFeNkE+Jjv3X04ru9DAwMLAwMDE+Y/qR+YxLjFeH7r/WZUfnm8wfRYix7ocbuDRT9X3Xj2HPV36uOCQtc/HhnfakmN9y1bzR6dd98/f6A4fMZrpdS//gZz3x5B5e8+f2UmA7bL+XfWQFc7+68+KkYvjuTAWonw0bD//9fc9959unpg0dS7349FeDaxvYLJvl15u+nbMJiDGK33qk+lH7Ktv7/9f+IsA1VUj1wy/qULo+e5QnjZ/dmlSNHdomGthinwDOGpQI2Yr//3GW8VPEPobPn24Q9Fx4LTuW+fIrx8h41pqv/kCM7T0Dx+xs2p6eMrC/1FFuOLYSIskAjfaaC8AoTv3NPRdlrdG/Mx0hgjLa+rKdexE39cPcfA20BAJs4y3XvbvqoAAAAAElFTkSuQmCC\"/></td>\n",
       "      <td>not affected with alzheimer</td>\n",
       "    </tr>\n",
       "    <tr>\n",
       "      <th>36</th>\n",
       "      <td>/kaggle/input/alzheimermridataset/Alzheimer_s Dataset/all image/mildDem130.jpg</td>\n",
       "      <td><img src=\"data:image/png;base64,iVBORw0KGgoAAAANSUhEUgAAABwAAAAcCAAAAABXZoBIAAAB80lEQVR4nGNgoAlghLOCTBiE53+wDzhVjylpkCGmGl9+VeGVzu9D/VAxJgglq89ziuHF1I/bmd2VrAR0UHWmWDowMxw1f3KPT+iy7yWF9i1fETrN9q19/P2NLd/fd2pXvzIYX3X3YoRJMmrFh/zmX3Lv/f7nX/5I3V72V/3bYx24sbauPhyhDK3df36rczLe+dIr9fBb35G/EJ2ab/4Jif8QLS3X+H466uNfBp7LmRVqMGP/JC8OfMf4h4uNQV6kokyNS+5bmPA2Rqix5kzJjv/kHlz40iH9IktcWpnppcwSpnyosV8nuHKtXiMtolD/OlxbUubc7MnvnUWYocZe/X3FYS//OTHuv19+sLF//PPpz7ljR/8zMDCwMDAw/M/8y6gs/piPhYnzMYvmUxbL5o+nxX5DJRk4whnu3WL/IRvOybJX9uJ/ti8GRjXwELpwT/ABw6cnR358OMf8g0V1kZXZQgYGmE7OjTu57pv/uMX1c24kn/dFUc2Oe0ix6rgrIbt6m5Tsh+jf0s/mH7XZiBxlAjNe+VryW165rPf26nfJv/IXkKOMddoHcUPBv73yLyKFGNiufV6+/jdySpDpYbT5c+PLjV/pvZzcj6cxIBzEwMDw4ukjsfs8s7VSFr1farwVI4EpigayfH7gcYGthYHGAAC2G8DTmqrWOQAAAABJRU5ErkJggg==\"/></td>\n",
       "      <td>not affected with alzheimer</td>\n",
       "    </tr>\n",
       "    <tr>\n",
       "      <th>37</th>\n",
       "      <td>/kaggle/input/alzheimermridataset/Alzheimer_s Dataset/all image/mildDem131.jpg</td>\n",
       "      <td><img src=\"data:image/png;base64,iVBORw0KGgoAAAANSUhEUgAAABwAAAAcCAAAAABXZoBIAAAB9ElEQVR4nGNgoAlghLM0C02XPnkm2rInFy7EAmPoa2nv9r7K/fnt+ahPW6BiTBBKxqFbj8nwz51/Qq/SvLmmoBjL1PHGmefqDZN7xl++v3X+v5yjAaGTNXuegNInVb5Vch+0F//4t2TvhUi4TqYIXRee92s5f7uf4HhvujTv001ZpokHoDr/Cd35+X2+ICf/+bmX7qxXTeSzvb+GnREqqWUZw/vy+BZLsV+8ux4X3Pjz7zFnsAkj1Ct/TvL+iY39evz4q5887JNMdKXEFBlf/4NKaksKvbkT+OeX7Iv333hNRLTeLpX4wsL8F2LsRfMvXmrln9m0TG7ctRBUv9lnYsjy/B/UzntrXrA3G7z6w/jnvxor/8ervN9YbM/+h0qyXPrw9tPLH384VsnwC7B8YeU4xRT6Fxa2fx44HxS3eSl5uunhU8VDPEzaE/hU9sAD/smTd3dltB6o7H9xjPfbK57rz/b+QAQfky2P/HvZT5xf/+bfE2V89K326WmE5L+F2pZvMl03tXl+nndB+aDYmSrkKPt1zqyh8I/kad5PyznVq65JsyJHGfdk2+/MbBx7L/1RC/rxTnj2u7m/ETq/Js3iFTnK/kWIW/Tla76Hb2f8Rkkmyz1ec3ziPfeBU/nx2lcLMBKYRM6Nr99MXgte2s5AYwAAZ03QkHez5wcAAAAASUVORK5CYII=\"/></td>\n",
       "      <td>not affected with alzheimer</td>\n",
       "    </tr>\n",
       "    <tr>\n",
       "      <th>38</th>\n",
       "      <td>/kaggle/input/alzheimermridataset/Alzheimer_s Dataset/all image/mildDem132.jpg</td>\n",
       "      <td><img src=\"data:image/png;base64,iVBORw0KGgoAAAANSUhEUgAAABwAAAAcCAAAAABXZoBIAAAB80lEQVR4nGNgoAlghLOCIgVzZAOEFP/b/IUJMcEYriqC5/Xey3z9xN7mjSrJZODwV1qUI4zx/rLUryKclajGKq+4YPtDYs/hSI4wtg1PL/6pQuhk8qh46snN/e4eT9nFHEFvcQ52fbgki17yueeMk6+wMm39rrVLh+lboIWLGgMDAwMLAwPDH/9X9sbhr55vfvxfNi9uKsuOqCunVW9BdbpyLbnK8lI41Og+wx1eRwZW5T8mTVpMUEkmuRbJf3p65xjFhP5/3VnG7M7OKq7+D2rsj1Y/e/Yu1rsvv7MwxyiL7vs5K/CoMcsfiE7p1XpSa9f85Fdo/WCsxi95Ly6t9+aPP1Bjl+2dcnvSq+vcTF8YTER4Pj/222lucAzuz3kZtYH6/F+02YX+coky/vu8nuP+Krjki8PJ/C9uMJ1nK+X4/uyxON/9XVK34JLPdz4+xaF9TfbehYN3Vd5935rOu4gdFggMzGybmK3O81z6JOhw5JvJG65P1y4iwvaPY1S8/Q+n/V9Vj+3t/NcYHyiLHCvWfd+UWP5vcz2nIbPX+BPP07P5yFGm0iUmysKyhOuOl8b/n08vL76AnBLunGe728Zg8U3x7O+jiz+vg8hBHMTAwNDNu8fl+c/ZPvEHPrKW3cVIYGbvGZSeMPkxvp3zm4G2AABzvLt5diruWAAAAABJRU5ErkJggg==\"/></td>\n",
       "      <td>not affected with alzheimer</td>\n",
       "    </tr>\n",
       "    <tr>\n",
       "      <th>39</th>\n",
       "      <td>/kaggle/input/alzheimermridataset/Alzheimer_s Dataset/all image/mildDem133.jpg</td>\n",
       "      <td><img src=\"data:image/png;base64,iVBORw0KGgoAAAANSUhEUgAAABwAAAAcCAAAAABXZoBIAAAB9klEQVR4nGNgoAlghLPqD33itzis8ev1jn8wISYYI0B+kknlc16dYq8aB1SdrH3HU+Vv8Zw84yj/7pbcHsEpyDr/PEub/1FR3EtCzvxdmFTNFz1kSXvpz53cTOw3+PSX3NxnfsSh0xIhGZdi8O79XoE7D9b0Wt/72+riKOnZDJc0keF3Fek+wL7n184t6WI7Wf7fuveMkYGBgYWBgaH8/HM7xmn8z78KcP7+qenJflPBVP36rL8Qnc/c/11g52Hnfyf049+nw+EiKgybpz/6CzWWi0fEhr9osdApZV15HbmwDX+eReueYoVKHvvwbNfnXVwO5cYPfigzC1+eKj6FqRym8/Lj9FSvp1ceSfyVk/wr8+Ut23LX/+f+QR3EwHhQnEH9neYbjucs3G9ZnnLJnXt3AO6VNe9m/vrAdv+75uRmVaZnEjelD78/ywDT+fjybZmPyre09hy+m/2RievX4xcsXxEBn3JenjnvAcuvvwKv5N88+bNQ/shPRNg+qsmxeeJ5ze3JQ4OLbs8EWR9ChFkYGBgYGCyZpZXfMrp85pQU/vYtVlrraSxSrDQeWckq8Ev8PPvig4n/dzy7uQg1mewSkWD71X/F14JR/MvdqVtQJXm23eJk4d2vqbNLlW3tEqggC5T+YqeW/E+K76bcTq6yPwy0BQB1IsVoBYsA9wAAAABJRU5ErkJggg==\"/></td>\n",
       "      <td>not affected with alzheimer</td>\n",
       "    </tr>\n",
       "    <tr>\n",
       "      <th>40</th>\n",
       "      <td>/kaggle/input/alzheimermridataset/Alzheimer_s Dataset/all image/mildDem134.jpg</td>\n",
       "      <td><img src=\"data:image/png;base64,iVBORw0KGgoAAAANSUhEUgAAABwAAAAcCAAAAABXZoBIAAAB/UlEQVR4nGNgoAlghLMKOFZbPPzgrM8b9RsmxARjhGh7Rl5mtbP+zdZhhibpVpSsclYj6fd/xnPCD9q9UY3tVBf6xyxw85Scwhs2hWesK1f8g+tk8VAT4P904dNJhr5jBozvTi9SjoHrZKmQenap9vfvL99XKxj8v+9667vwtisnoJLs8ZrGHExJgb/Zl/5TNNrxajHzXAahSVBjg6x53nyZJ8oueePvbw7fj8qsf41vHWJgYGBgYWBgOPKF6V2w0O/fEq+ZmV7v5+XlZPinonD5L0TS44y6tYxT4O1zN7Ve8ki1aN//x2l35y9U57fSR5anvujL86ovVA3iET584HLdKzPG/xA7l3558nTuvav/uP/LMH9h+Ple5C2D4rb/MH8el1j4neUHEz+X0Dduyb88P7mu33sCcxDDc3bW/5+ZX/0W2yPM+eDjfzbGK3z74SG0U/T6L1ae58o3P9/9IPlbgePngQP/4DpZtvyS570p+Ooru+Spr+oPl3Lw3/yPCPhYFcYL3BUVt9dfWfuqrcpa8F3rf7hOBlV+ExWOP8GmmzhrjzPHqW36+J8BIdmsx6v07Zv6vP88Z3WYTD/xMnH8QE4mWnn8TIrL7tja/FwvI9JznQFJJwPDx2u816REb/m8Of3x9PubDKiSTyep/Db9wfPx0g7W2/8YaAsAAS7Jba9bF/sAAAAASUVORK5CYII=\"/></td>\n",
       "      <td>not affected with alzheimer</td>\n",
       "    </tr>\n",
       "    <tr>\n",
       "      <th>41</th>\n",
       "      <td>/kaggle/input/alzheimermridataset/Alzheimer_s Dataset/all image/mildDem135.jpg</td>\n",
       "      <td><img src=\"data:image/png;base64,iVBORw0KGgoAAAANSUhEUgAAABwAAAAcCAAAAABXZoBIAAAB+UlEQVR4nGNgoAlghLM8RG74bJK6W7FkN6bknJ9qLFvfOQk9+SndehZFkjGK+UrlARWNJS88nL82hK3dBZFkYWBgYGD4HyLL9vqP5Wm5gKUf/Ka+EVCdysDAwMDAxMDAwMCQ37GaSeLTgwsrn7Tqb2I++ITdDC7J5LNBT/fzGS9dnZ/rn9+K2uO54a1lCNzOAr6XeecuiO9jvfZbX2HH/2mMPAU/L0B1hr5jFPk5Y6tR4qt/vwIS/3Edlf08MZUFqtPU5W8g36Z9Nlu+qX57YKg09yTTsy8vY6CuFeYOZvgVZsksv0X0mrMbZ86vd+/WuDD9gxj72mjJt9RzTGxqIXcUbCRltm8vvZYj/w+q8+w3v8oPrxhl+fiNhGX5f0ncfvDvyl+4P7c/vaoj+ZH9/b/dpzn+/v4gojnrxk64V6bN5Jf1+83/8+ejb9JqL7/uZfj2dQ9cZ9YHn+9n+Z99fn14+Vvld1rSaox3kcKWcyLHJ7uv/475s8/nNTnEstryEZKkpfZ7E24fRyVH4cOtBw4r9r2ZjyT53PyR1l+uddJTOCqjOCZcEpr2DylWdrz48Z2TWa72B99WNQZuvcvsDEiSDA3sf6Z+ehn9f+PaH60br1xbjRzZDAwL+I7/Sb17JMH05c+J7hMxEphI04aw2S6K+14jEhiNAAA9I81raE5t5AAAAABJRU5ErkJggg==\"/></td>\n",
       "      <td>not affected with alzheimer</td>\n",
       "    </tr>\n",
       "    <tr>\n",
       "      <th>42</th>\n",
       "      <td>/kaggle/input/alzheimermridataset/Alzheimer_s Dataset/all image/mildDem136.jpg</td>\n",
       "      <td><img src=\"data:image/png;base64,iVBORw0KGgoAAAANSUhEUgAAABwAAAAcCAAAAABXZoBIAAAB9ElEQVR4nGNgoAlghLOO7RHkrKpQ5pbW/och+eLrmycXBXhN/ot8FZCEijFBqJJ5b/9y8BreETz8/WdJch+KJONDtoMMm6UrX/6/1HV1auHZKmTJgo/cLk83brJPP/rR4dTvrT9vV8MlGRMeNN778sSS3W/dDtGfVx9GpnWzacEk/6tVHvI5VMv7+tw+RUO9wEJh6RMOYQwMDAwsDAwM7k9f+f289M9BPefHRX32hW/+/Lq1UpHlD0SSl/fxoYRwlg2yl9QeLWEOkWfax2D6+A9U5zOuay7feZKfvv3zTzRAUlb+ky/DppMsfyB28nmLaR9b9kdOrPuNiyKf9J+ML/NdPP9AHbTjVsb3FayPP0szKUryCr859HuLUQcfzLXsgie+3n31WVCE591PSUVmboc1j50WwiR/rvy+mV2V4+e77+Xm0m8ffmd4OW37NUTASzOyBDp+8/bxXlr9/pPIZYmHO+/A/MnAyvmZ79097RUvhSseaX3Y8mrjt5eIsP3NyK2+d6Fgs/FN8QU7eY6+rKj+hxSfKm7CYWxfGfnbHSxOOLx+zvE6jAFuLMOd0CsR3CxcZRzX3nu9Ffqd9hIlstvZrk78Kfjj18cTV1+daXJ+hppMWJ3vVkixZMQECOw7L1WFkcCkOK2+nZOWZDzy/D8DbQEApeLLGC8p12EAAAAASUVORK5CYII=\"/></td>\n",
       "      <td>not affected with alzheimer</td>\n",
       "    </tr>\n",
       "    <tr>\n",
       "      <th>43</th>\n",
       "      <td>/kaggle/input/alzheimermridataset/Alzheimer_s Dataset/all image/mildDem137.jpg</td>\n",
       "      <td><img src=\"data:image/png;base64,iVBORw0KGgoAAAANSUhEUgAAABwAAAAcCAAAAABXZoBIAAAB+klEQVR4nGNgoAlghLNsOXU+vHmk+/P0g/8wIRYYw+o1s4H/nh8xbKorhU+i6GQ0FYpbpel4+K3AP7tbx7UP7EOWZI7WuZyZaXTblUvmO6/iyTc8xQhJRp/Cx7pRP9P/XrSRfvmQyX06C8dcBgYGBiYGBgZW7Wfp7NE/Pd/qsCxYe1Vrjoh1uLwkTPK3VdB8uU9/totP3/dGKaxNYo4Lx3NvmGvVT9/i8GBhZvQ9JPNpJdsfRq7rdyUOwHQKCf6ZcPUfr+CF2+9/imr2SxRoveBnY4Q6yPb3E7lOqa+93EGfed6J/dH8+ERqiljrP4hO3ru5s89eFErz4yj9wflPacMKxits7IxQY7dleVV2/7jNofkn9L6SwnfWHyfvcWz4D5VkYL2oqfnu+1+Bm1f/fuX6yWIyz/of3z+Y5IRNS4UFXv66/5Vz34vjf1geSSfx7YOHEJMK17sATZYkRamQfXO2sl74JHXqwC94rKiwOwmo/J/D/O+LxKavGiJH2Pb+hfmT4d+TNx9X1P9tZpm/+uFe9wvbwuSZGeCSDLavTiqk3ZOP28kylf+CsfTUH7+QU4JnpcQnzg/XP75T1/si8eXKhQl/kFLC9h/hVy90/2X9fkmb5YDM6o2oaYhVsvU+z4oXRUq8HUKC0zASmKbao4KmnwLmgj0MNAYALwnFYIvq808AAAAASUVORK5CYII=\"/></td>\n",
       "      <td>not affected with alzheimer</td>\n",
       "    </tr>\n",
       "    <tr>\n",
       "      <th>44</th>\n",
       "      <td>/kaggle/input/alzheimermridataset/Alzheimer_s Dataset/all image/mildDem138.jpg</td>\n",
       "      <td><img src=\"data:image/png;base64,iVBORw0KGgoAAAANSUhEUgAAABwAAAAcCAAAAABXZoBIAAAB80lEQVR4nGNgoDGIsDgiZ5l2apobQogRxojVFhT/tLZc9CJ3k8Z8qBgTAwMDAwNnxMTX7uLMCl+y87iUHVsqUc2cl3GiWub8WsWGHbNC71++24es0/Q+o+CqLrnJWosP8fr8Xb+JPZoVLhlTKO73/duaU9rXmI1OCh6K8WCT0YM7aOvCHvbUC5PnXPv3zdhgOd/+dHmFR11QnTXXNDf84Gfr6Zb+Jygfx/zpTx7jdwtOqM6Q7+Yyl7MqPFfc//eTVcrtdw4H45ebLgwMDCwMDAy8rHz3gzkXXRV9tonNR0pC+o3ATBMmpn8QyZvNJu/2b/HSZ+A7LCvOqrj/oG3oc9l/UDuPCf+7Vffx4UUVEWVBbb33rPwtL65vZ4Aay3D6TZGS43upe6y32Ny/sr1meJvGwgOXPLwmZdYvlvuSjD5/PrF8Zfwj43dtCTwQljz87fpV+73wsYfXX/I8MWJ0lzjOAdfJxTiXw+Alx7HPn5mu/eb5+Wcr511E2H4JsJd/fsNu5q64vyyL9A7saO5CDvjdmleUYtjz5674lpAmqLHo8GFmBrixDFeebhZi+qaxfmvSVfNfTi+N5P+ipATLNGYj4QZF1k+xAt+fXUpFNpaB4cTvqbN/eN2co/a1683qVPQ0xCDhKWVf6SHE0fLiPwNtAQDT8rpa2YdDOQAAAABJRU5ErkJggg==\"/></td>\n",
       "      <td>not affected with alzheimer</td>\n",
       "    </tr>\n",
       "    <tr>\n",
       "      <th>45</th>\n",
       "      <td>/kaggle/input/alzheimermridataset/Alzheimer_s Dataset/all image/mildDem139.jpg</td>\n",
       "      <td><img src=\"data:image/png;base64,iVBORw0KGgoAAAANSUhEUgAAABwAAAAcCAAAAABXZoBIAAAB8ElEQVR4nGNgoAlghLMK/7gdeWDD82LJnZ8wIRYYI0Uy5BzfzzfMJrbH/5dBxZggVHCv8eM/olf/XxI4zS9qOAfFWKY111zFPn39dE5he8TCRqZf06Yj6ax5V6J24ex7Zd7G+N12S8V/ZZcjJHM4/3w4ulDl3PolCu8Efy353jqHeyZMklcrxuhXafhVzVuv+R6+FmSeUsny8DZMMuz8U9lP3ycrb/nIdOF01mQ2bj59BmuY5E3J6V2P5bwOPfvAxPB0UihX4v8LPE/ZoP4U0RZ/z7zmz1Xtl9s+BSjwZH3akn5qym+ozhcblPwf7fklJSt+S1BJQPVMu8HWZfowY0/I/z60/uMFUTE+tneqIl9fK+X6+D/7D5VkOnj6zk1WlnfSv/5+fvLz17d/kqs/P4OF7b+f4pc0/76/++p9sIfY1b8cv6y2fT8LD4Tz8//z/GZ+obTj585rjL/E/tx4/ZUJLsms8+Aq02/Jw3pfFR78/MnwzUX/xj9EwGfrqU4xCcpMZtYP+b+2X8FAyhApPt9KSEz8cN3KbvG7LdN53T/pn0KOMkZfxeo/f3/v/PTvZhX/v2cMMTf+I3T+31R4/8MdlzOvnK1/T/0nznodNZlMl3/7zsT74E5t699fLm3CSGCK+d8+7GUyMbndwUBjAAB5bNn6zkGaJwAAAABJRU5ErkJggg==\"/></td>\n",
       "      <td>not affected with alzheimer</td>\n",
       "    </tr>\n",
       "    <tr>\n",
       "      <th>46</th>\n",
       "      <td>/kaggle/input/alzheimermridataset/Alzheimer_s Dataset/all image/mildDem14.jpg</td>\n",
       "      <td><img src=\"data:image/png;base64,iVBORw0KGgoAAAANSUhEUgAAABwAAAAcCAAAAABXZoBIAAAB70lEQVR4nGNgoAlghLNymTjfPAn9/+zwbrgQC5TW1glh+LhNR+ebmPa7tHSoIBOEKgv5wvl/+tfbE68dVDS2KEDVqTzXkuOXl93dHwsUTpYccf43CUmy1iBD9e+8A2zfj5uxmPyxWsbrfOAvzNgyiWdGfL815wuv4NUWeOT5VXibVATMTmHZQ/f+eG2xPTrbQGzzJzaubV4bQvVZocb63LPWYtZdxS7++uknwcwtSi+er9f5xwTV+erF9YVsn40E7r/+zsoZK83g8Eji65efUJ2iJ379K/LX+7R8yWO2DyLKrr9uz005AguhcoHvzkuSRZlucqaWCYnyXHywYcIcqyyosZ1/zGt2nL7zSebVjyOKQmxMbO+qYy7CXMvGeueL+P/vDOIfWV+8Yvz48y/z/x+3YJK/nv77/efflycnf+h2/Tr6+89Lo3fvzsPDdjLvV8MnjM9lN4qtfeV0+48IM/fHj3BJxsscjw3VOa/ofj39dvcdNonX3xv+wyX/M3KITF1r3M/H9Pv3pIBF235nfEQK+HvmQhlCz6MMX6i7vGcOfiZxHyUlLBMR+8LBc2CD1aXKX9+Evl9JQ0km0+46f5W++ZiX2erX1Rvfp6GmIZYJEu8uKT16WNz/U0S+ESOBMRry217Tv3mA+fE/BtoCAP720NTZCzdDAAAAAElFTkSuQmCC\"/></td>\n",
       "      <td>not affected with alzheimer</td>\n",
       "    </tr>\n",
       "    <tr>\n",
       "      <th>47</th>\n",
       "      <td>/kaggle/input/alzheimermridataset/Alzheimer_s Dataset/all image/mildDem140.jpg</td>\n",
       "      <td><img src=\"data:image/png;base64,iVBORw0KGgoAAAANSUhEUgAAABwAAAAcCAAAAABXZoBIAAACBElEQVR4nGNgoAlghLMCnSfKMvO4nD304A+GZKEjxxbLYy4PVV5PC6xAkWT1sH97vYHnXEcmL4OQNOOOIogkEwMDAwPD768T9JqucR4s+62wYtWlG3NVWRA6WcIdDJgKan+Kb7R+e3D3/z3Xry26zsDAwMDCwMDA7BnE+u7Ag+/1Bt92Mqdv5ghaoqQ8dydU8p/rM+cfyxkYLVRmWgmvY2f7ztvN9IjxP8RYLUYZxRI33g/9917911/1+LVK9wPmB0VQO3X7WJ7xsVX7LDC5KPjJ+tTzq69v8z1KhLqWh5NXiUF3q23LFZaPupFTb+78fvjNU0aoThXuRM7GJmOGH6+z2CcLfP6w8XBV99+nfyA673ztmWHE9ZeD7SWTHss75Z+2HE0BRoywQAjn+KbA9v6dKK+IuojuH+Y/qvmmv37DJJ8W2t3leM3+4hez6+YnX39/uaFTuRMefMtuiv1j+HJDdbFHyuHPV0S+m51Q/wOX/Mc19/bzjWILGNgk7z+UET0SL8vGAAs+hj9365maDLh7GLou+LdW/ZSXuLwZKVbefBfUKDwqde6kbBT7T8uSWVMYEToZ9pvozv8j5lon+ubJWpHL/KKKz/4gJBm61R5IGrzSm/vjuM6Lv/e+HUSObAaG3M//LvOt+PZnlejFOY97MBKYdzDf3k9PHbZYT8SWEKkJAMBzyjX2qn7/AAAAAElFTkSuQmCC\"/></td>\n",
       "      <td>not affected with alzheimer</td>\n",
       "    </tr>\n",
       "    <tr>\n",
       "      <th>48</th>\n",
       "      <td>/kaggle/input/alzheimermridataset/Alzheimer_s Dataset/all image/mildDem141.jpg</td>\n",
       "      <td><img src=\"data:image/png;base64,iVBORw0KGgoAAAANSUhEUgAAABwAAAAcCAAAAABXZoBIAAAB7klEQVR4nGNgoAlghLMSWYM+92v7L5XpxpRM5Ig8/5edZUPz3tWqy6FiLBDKxDvyoKDYv9lyol8CmG1EJ0FEmSCU/ac/Lgv1dtdoed7ZFnbqZBKSJEdIkD33OyO2sqUWfV9/PbAP/5vKDJd0NyhZy/T0YsZtiRcCN56fFfLwex0Gt9PKOYAh8K/ZLZ6Frq+UI8OMhe8UTWX6B9EZunhL6f+3v3cvrFF4UKOTyHqe+/MD739QY8U1n//+xiydXPSKh3nCp7fvMn+ocV9ighr78bprPsety68Ma7W3Vio4KL48e5dTHaaTTcRYIGmnPL+09wZXJnaFKxMEBV1EYA6ae/H6VwHG21IP9VZZCrD8/7mX72Pja7hXov5n8Xz7+ZiT/f8vMf3LzK5n2S98gnuFdWvKH4HXP/z95+XYpHHc/+nCzH4bLnmB5d8NOd6gJZwzGS6LnRbadSb6/2+4sUzOLvEP1I+c/P3z5/s9igvY+dZxIcL23yPWNY+3rtmfqKzL1iHx+duv7CtI8Rlrz+jxapGKc+4MgRI/vR9/g+4gR/bc5ctei32Z/+Hdx5nsDJ/mMTQjx2ey2vMdXiyWD+0+chXcZGRqRkkJDLNNtn8us7x9IuvqnXszFjGgpASG30nuf3T50u68PiIbC5OjFQAAImnDT4uO6xsAAAAASUVORK5CYII=\"/></td>\n",
       "      <td>not affected with alzheimer</td>\n",
       "    </tr>\n",
       "    <tr>\n",
       "      <th>49</th>\n",
       "      <td>/kaggle/input/alzheimermridataset/Alzheimer_s Dataset/all image/mildDem142.jpg</td>\n",
       "      <td><img src=\"data:image/png;base64,iVBORw0KGgoAAAANSUhEUgAAABwAAAAcCAAAAABXZoBIAAAB9ElEQVR4nGNgoAlghLP8Qt6evRfI+eLUwZ8wISYYI9lJR9Dsj/Blt8I6G5gYC4Ty1xBnYNlnoaN34buOgvLf48g6WeQz+QIZQkQ+/X7w74PQ3m53JiQ73ZwM1bhWiH9gktNhsN3OOU999n6YsawmsrdeSm23YmRdxL3oOZ/XOeHeIIb9UMk/Er5/9XY8P/SmZOsdDq/NXBcsWdnfwuy0Z1+r+2/r3pqYbIFzHXvYmP7yfvznzA6V/M5wuZ3dPnDb0z/vWNz5epWNWGPV5H9Cjf0XpMP8P4rp2i9txX//zSUWPb95IuEr43+ozk+cjOvOfJZgytu5w12Z/fjCH0aVr2F2XlH+fHvam6ucwq+YGVj+cDLaFDOH3GCDSjLdu7j+K+e/n8pqzKxyen//nuer/fPsJywQbBJn8mSxqj75rHH+rwTLy7tvpWfegQff6Wr5t3v4Lqhf3rji34PLahy7jgozwSX/OEfJKgi8P3aVrXwKp+Z79t9H3P/BJf/KKnv8mBSyb8ITnsjZyn2Xp4m1IkXZcQ0VazbGjv1/XsQ68AXuFTK/hhQrzK6O0X84mV8u4fua+ecjexzzMaT4/Lvj4eV/9z9/fyKcxnH25lbFYygpgWHTL89j+SdkjkvsDJr3dgdGAvtvEMX26YN3FetR9ERIbQAAwjPCoprLkhYAAAAASUVORK5CYII=\"/></td>\n",
       "      <td>not affected with alzheimer</td>\n",
       "    </tr>\n",
       "    <tr>\n",
       "      <th>50</th>\n",
       "      <td>/kaggle/input/alzheimermridataset/Alzheimer_s Dataset/all image/mildDem143.jpg</td>\n",
       "      <td><img src=\"data:image/png;base64,iVBORw0KGgoAAAANSUhEUgAAABwAAAAcCAAAAABXZoBIAAAB8klEQVR4nGNgoAlghLPW9klyf7bg+63ogylpb8N7/J49l9rd389e7IOKMUHI7ODaXxZP4kU2a7x4zapojarTy9r2812rDezsLhc2uPxhZc5C0lnL/+XzO+VPP5kYNm413qYnKBzCBJeczu/85c+B1dt8nv3j/H7hyX0NDj8PmCTXZR4J/6qTWsfubN6wO/oa06yXs2coMkIlj3yfvYP1D+NS38liz9TEmH6bsIlLMzAzMDCwMDAwzNrPfO/nfznTj9zfmc9cDvns80tAaP9/qGvthL6lcYmx3eN8ueGbkbbO0+PaIvffVEKN/RHUKVZ77inf31+3lXW4nt760/J7/zKYnae+PHnx5+q5TxxcEtL8Qv8ZhVmaXNn/w7xy6/KVLxys3ApfP754//EH+/U/H3bow/154u1MJu5/D87y9V388vP5W26Ov1/mMkBdy3Dij4LDD9Ev5nP/v3qrdkp+Z8a5PUjBp/lxuSr3+2MszqH3Tor/UWIQDUQK+HhFjcOcWTP8H6pmfZy358qrf0cY4MYyvGH4E/r/i+GNOQ5Te/7Z2b8+cgTJ2K1fhe4z/JM94vr3frEQ53fml8iRzbDmBSf7vz8WHAznf3z99uH0ShRJhjnXviz+u/G8sM73ixted2AksNZdwZxn+D59+rmOgcYAAGDF0kaEBYDIAAAAAElFTkSuQmCC\"/></td>\n",
       "      <td>not affected with alzheimer</td>\n",
       "    </tr>\n",
       "    <tr>\n",
       "      <th>51</th>\n",
       "      <td>/kaggle/input/alzheimermridataset/Alzheimer_s Dataset/all image/mildDem144.jpg</td>\n",
       "      <td><img src=\"data:image/png;base64,iVBORw0KGgoAAAANSUhEUgAAABwAAAAcCAAAAABXZoBIAAAB7UlEQVR4nGNgoAlghLNc/znseVXzmXfnIkxJBSdR6Xf7bSVu/Pgt3QYVY4FQRR/Y3jh85/vzfU4Sm9BSgwsQUSYGBgYGBrZfYiEuV8XvhYvy/77+Q1RfHkmS2f/Y83dvtpy13XFX/OLvA6GGYvKscEknQemEZT/Zj21he3BDfNPh3XsZw47CHZTCICA2kb3s5GlNhW8H37NxVJ9dI3wBqtOVNfjLK6nvfc5BD+7+1meR0f78nVELZqzaz/XfPL7zJmxf/f/FV0b5RxliXlF3mKDGBj3X8WVlELrBvPPmu0gxDoVHR+RU3hZAdf7yjmAqfnqP95fCS0YpVuXT85Tfv/rHCpXcwrf5NPeRVwyS3H9+fJR5+dBrjfXRw79hXllgNeOn1Ju/PGyMjLwC//Wuf92l4goPPu2rwjaMTO9Ed7aenT3h41PDZ4fYriICXpFTxuOJmEL5P2bulK8v319nfHcPEbasn1RfWwte+eeo+PPRHyGFdx+FkQL+lxr/QcZts1n0v0WvvHP75m/300iS/BIvm/gZZeYuFHRmYc4xM9rPhBzZ6cw+HD+Yln7/Z2L87xn/uf/tSDoZZh55Oe/rD+n/Z88wveXvYmpHTSb8xm9Z6ncftJCSuv9JuQgjgYm6yq2UfBb18uyVPwy0BQB0RsGc9DYwZgAAAABJRU5ErkJggg==\"/></td>\n",
       "      <td>not affected with alzheimer</td>\n",
       "    </tr>\n",
       "    <tr>\n",
       "      <th>52</th>\n",
       "      <td>/kaggle/input/alzheimermridataset/Alzheimer_s Dataset/all image/mildDem145.jpg</td>\n",
       "      <td><img src=\"data:image/png;base64,iVBORw0KGgoAAAANSUhEUgAAABwAAAAcCAAAAABXZoBIAAAB9ElEQVR4nGNgoAlghLNMZRWOajhduMG1/h9MiAXG0Ir7zuRwhVEgQIf970pUSXsrYZW7hn8ZHnxVFXJ7/WUrRJQJQgU9+Mai++mJttj715/0/3PZMyMkGUtMRYNUmRQYeXjcL3R+DCgIVGOCS0bovixgePiF9d7hr7e+uD3/+ss1QQUmyav6/eY3jvNbZmps6zjBxVLNdWHvTz+YpM2hv25v6uckiG79/s8xZB4Pvy+jMDsL1LUmf7/d0GMJOPT6yA+B5UzpVxjYmZab/YFK/nt4ydai8dery16fbkSoirvd2Rd3iwPuoKo6A8+LHLyG3qck1Dkl7pRbtthwM0MlW2cKrJF+d5SV/c0vcVamN3ctqq1f/WKCSjLFzLz29smvP2K/ef4wyX3/8+vtZ4l9v2EBny8/xcH5K4f+uTde9wROCx/m+3726leYndMusv/4JPrjxifmCa9/CHOq7BVg+wt30J8HjKfe/v/x/zWTycv7gv+ZeN9a/oDHCpOgj+DUn7GbxE33b315cOGB9PZriID/+/8XS7TsP6+w62ZL3D+/0DPMR0kJjkJxKqzftrzntFBi+Xlq1YNb/5Hic/+ZqV9OMfGz/vv7bf3bNQ9u/keObIaX7rNecAn+2rT3+vL3kjcxEph1oM4EtS+Ob6bf+8NAWwAA3eXOkDWkEhgAAAAASUVORK5CYII=\"/></td>\n",
       "      <td>not affected with alzheimer</td>\n",
       "    </tr>\n",
       "    <tr>\n",
       "      <th>53</th>\n",
       "      <td>/kaggle/input/alzheimermridataset/Alzheimer_s Dataset/all image/mildDem146.jpg</td>\n",
       "      <td><img src=\"data:image/png;base64,iVBORw0KGgoAAAANSUhEUgAAABwAAAAcCAAAAABXZoBIAAAB9UlEQVR4nGNgoAlghLOCIvj3PpPSfPWrFi7EBGNU5BmwaKsIq/L8u5mCKskUW/Hu7I/fHGdktmlHMDCkohjLZmecw3RL9eEJGe2PPC9+3b/fz8DAwMDAwsDAwMBlJMB1WfuywoN3H99u9vT59/en48F/MGPtNCVERE/z7Ff9KCcj+fMdw83D9l5wOzkZxN1+lp58P+3G/K8vn3h9e9dy5SXMWCcrFY1f2/757r305fv0OQ48DBk9BuanoZJvF/wxyzTbc07k72++dzn15wRYcz7vg+n8O5+Z56/o0rPfGLTvpCgIur+6v/1JFEyS55L2ycPGNkpvSmqybL9I390k7vHrBsxBJ05kv/vAcpmTgzde+Kvkz5fGhysVRWGSrLc/P74lzPNF9feB/xz///6+b1GW8Qom+fuZ6pvP/14yfd2fMuXdl0sSF9Wu/m+F+/P+TdmwWZKPnxxb+fMey/9Hzx+oa3DDg++v6greOA7pE+9E7OZwm13T2i/5/Stc8r9kzs8rP8S7uOfeuzPV+vKxjsOLkGIl0P5T1D/O7R7v2Xnuy35+xn4xHxErDJusjP5x/QtY8ep7uPxvjnPSu5j+ISeTNAer5+JPTr/7F85yQq/sAGoymctRM/VDzRx2GfZl6lcOYCQwfjsrzToN+WfMS/8y0BYAAFcw0ZuObZTxAAAAAElFTkSuQmCC\"/></td>\n",
       "      <td>not affected with alzheimer</td>\n",
       "    </tr>\n",
       "    <tr>\n",
       "      <th>54</th>\n",
       "      <td>/kaggle/input/alzheimermridataset/Alzheimer_s Dataset/all image/mildDem147.jpg</td>\n",
       "      <td><img src=\"data:image/png;base64,iVBORw0KGgoAAAANSUhEUgAAABwAAAAcCAAAAABXZoBIAAAB80lEQVR4nGNgoAlghLP8nf+tl4/Y43S9FFNylpB4xs8yGY6f1TJMG1AlzZztuJmPSFwyOO4u8fPQnQUQUSYIpfdE4E2kxa0XHVdnXxDj5yxjQkgyBfFlv2/3YmWRKfpgdv2OU6GgAVySRUeC/fw9Lv5/n+dfNpT9MvvHAua/GgwMDAwsDAwMf6TclZnzPwp2OHBvFfxpv/h10L8/u25AdZrEPuQ+85SDoXETH2t+6oy3zF8OsusxQSUFnoqs4XSU5C/5/YWnfqWsgAj3w/d8/2HG/r342d7M8Vre3W0vyjkkTU+8SZsr/R+q8zeLaenT75vlWMX5UgWY5bd0iC9St4C59qgew5Omr4x/1Xl9eHg0//72XWqjdBLmWoYbQtnvOXm/cv/cqiDO8Iv/49NVArfhgbDiEaPW41/PHj0wvPz0x+X7D00tdfbDdZ54Zqf5XfblvzenHzCI7jP9dEny0h9E2IodOC3Kzn33nMvfrWvV94u++LoPEbb/nRe4zXl3YyGr045bW79+XKLw5hZSlFl7e7Kf/vXVq7hMc5rxo68sLDlIklzTb6W+En657qGXjOr7/4J3Z6/6j5wS+q03eX4T2jPPqajY4QdbCWoyYZ+8u/ju9YdWxq8+1HBdgwqyQOmfaSo3bv05oXb+2qYnfxhoCwBHm8h5ExczSAAAAABJRU5ErkJggg==\"/></td>\n",
       "      <td>not affected with alzheimer</td>\n",
       "    </tr>\n",
       "    <tr>\n",
       "      <th>55</th>\n",
       "      <td>/kaggle/input/alzheimermridataset/Alzheimer_s Dataset/all image/mildDem148.jpg</td>\n",
       "      <td><img src=\"data:image/png;base64,iVBORw0KGgoAAAANSUhEUgAAABwAAAAcCAAAAABXZoBIAAAB9ElEQVR4nGNgoAlghLOcRSOWcujo7eepw5Ss//sz6uQ30aeCqhv4WlAldVyNVARufHnC9FLJ4feP914QUSYIler3jDfsSvdqBc33gRw7F6awIHQyxbFKOT35+oqLVejEV8Ggne5PL7f+g+pkNJFUfCQw6xeL8NWFV8VFUqN4+RS8GBgYGFgYGBgYjE01/y+QePNx9YcvGSxMbK+kl2o5bP8L0Wltc3j9xwsPTbTZmLh/KszgYH3nd+Mn3NiT8kKsE1SOvGb7/WvbvriNkj+f8T35DzWW66SGKRNz+WlOHoObDt6iF1/e8fh4iuUP1Ct5Oic+Vn12v6H7xFDgAxdjp9EaJ4E/UGN3vvr/bov2+3vB332lmUy+/k3rfVUpAA+E9dO+nP33lOFN1DPxgEM3H3/h4lC5igghlTOeTOwv/1/6Ofkm9z+hE48Mj56A+/PQ+5/fGSSfyv6+wPpH9cwLQbuDrD/hkkys0WdEXimduq2g8eD/z78yH0x/IoxlZHjn8vW01GXZnoxrL4UZX6vu28AA1/lX7PCrLEHmTM6C5Nb7Ym9/Kl9BjrJdLxX///jPf0nl5Gl+DkHWmwzIkv/uvb3LxvTn0rVnn87cffK7/xFKZDPM/Pe9ZY7MAyHZFftufnmKkcDyr7/2Wi7yhf3Fi/8MtAUANgLQ8HbcPf4AAAAASUVORK5CYII=\"/></td>\n",
       "      <td>not affected with alzheimer</td>\n",
       "    </tr>\n",
       "    <tr>\n",
       "      <th>56</th>\n",
       "      <td>/kaggle/input/alzheimermridataset/Alzheimer_s Dataset/all image/mildDem149.jpg</td>\n",
       "      <td><img src=\"data:image/png;base64,iVBORw0KGgoAAAANSUhEUgAAABwAAAAcCAAAAABXZoBIAAAB9ElEQVR4nGNgoAlghLNWim93Ong5/tOrCrgQE4wx45YQH5+G40MJjlPr0HS2xLL+e/9uojv3T069l7ybWpB1Mpnu/vUp6ErcPyaZ7iAhdrtpyJIWfxTehYnxSvCKrrT/XfRz2918Rpgkc1zWZb0vX+RW/Xz4/YbWj2dSz1mlshgYGBhYGBgY/pppmjxM+KK5rfXn3gRJzp/rGw9fOwfT6fXq2KpfYsqLVvm84Od4Jvlf5c87AVZGqGvDb/zmXfQqvoFlnsznW7Iv/qz79Ovhs0KosV9i5MVZ1U5e/PTz+eNCCXnF93/ERThhxv6VlxENesrKK112PUBDVOB86qsFh74yQSV3iPFsl3hwkffvP3/Dv8x/nujm6r/r+wfz5637037//PtHT03lFYfkH04zqbk87DCvMGzU0DH+zM756cJ8eZuXP5iffnw79zQ8hLauv7ri5883/FXfTncrPhD/JmLxkQUpbMN+LVNhWvjrD/vt3Vo3bkl9+P0HEavBLidnrTghn/2yQFT8Wb7SrXZmpCh3O3N99/3tqe+mvb1Z/uLKw/p+iDALAwMDA8MuO4e7OnqaG/u+8me85//M1YeSEmoWPu/8/1s6+cEDxhuht788Rk1DbIoJykbh0t9yNae/PPQEI4G5RL5mYpkUrrTwxD8G2gIACDzPH5GXfoAAAAAASUVORK5CYII=\"/></td>\n",
       "      <td>not affected with alzheimer</td>\n",
       "    </tr>\n",
       "    <tr>\n",
       "      <th>57</th>\n",
       "      <td>/kaggle/input/alzheimermridataset/Alzheimer_s Dataset/all image/mildDem15.jpg</td>\n",
       "      <td><img src=\"data:image/png;base64,iVBORw0KGgoAAAANSUhEUgAAABwAAAAcCAAAAABXZoBIAAAB/klEQVR4nGNgoAlghLM6HP5t/PPP78WP3C8wISYoXbtTgG/Hf1Hbid/4ErrRJOM1We3/6Fs8Ph+yXU3cqANFkiNeRPzbZbE37wIv6KxwkLGYzY6QZFbYfITnqpKMDu9BlVOnF357/bCWGS6Z5mYo92w906uZzC81uT12X2JnNwmGSXIpKe82arx0qteE8UKa2qR/s96nytozMDAwsDAwMOiYCPteuPpPc9ux08z5UxiZ3v/9wvANptOF79Eb/n9mNY23//5jC2ZnXPDz7wMtFmggyOt+CRTU3vdU76mS2CIZR6O3kz3OaYVAJWu1Hys/UJP7IPOa79f/n5LXd1zMkvzv9AtibPOViHk9598I/OX6cJhD/v1vzpslrPN/Qe3kCDtyx+Xnzx8cgge2/33zh/m98N+KZzAH/Ti6n4Xl/27l77cPmfN8vnmTR8nxwXZ4rHAk70tZJRbA/pnjzxfBPw//r/v5//5/WAj9OPzzWGj5T5Zv718/ZTsvs4k5795/WCAwMGi6Mqvcs52q/4LfY1rr02Lx6yx/ELHC/l/yljFzsKvWW5YINi7Jt9J/kKJslaAB36+P3L0PPzFbcbOIs3UxIUn+CJluLPr8fzXbiflfXnP1fzjzjwFhJwPDFJPt3FEzrjAI/bi4XSYVI4Ex1clffsTke5m3FiMVUhkAADu1yw1u2KdtAAAAAElFTkSuQmCC\"/></td>\n",
       "      <td>not affected with alzheimer</td>\n",
       "    </tr>\n",
       "    <tr>\n",
       "      <th>58</th>\n",
       "      <td>/kaggle/input/alzheimermridataset/Alzheimer_s Dataset/all image/mildDem150.jpg</td>\n",
       "      <td><img src=\"data:image/png;base64,iVBORw0KGgoAAAANSUhEUgAAABwAAAAcCAAAAABXZoBIAAAB80lEQVR4nGNgoAlghLNKfuhu17Depzzr8n+YEBOMkcgeci3jsbDjV4eoBFRJJpcyu7jvFs+kDr566P83OwZF8p+JqNjaG8qvOJk6HKZEzH2hx4SQZDc6v0d4N/9JVfk3f1kfdkp7cBsxMTAwMLAwMDAwm5iYqtbfY78gvImv+eDH379E9E+o3ILq/Gtqo/XqFvMBh23ypl/3/GdZrnJFRBdmrJpxbYUGo9COHw+2vf/884+wHE+TgBnMWL6z7t9Y//H+FGIxZ5dilGOY9UT+GTPzX0ggON+ULpDTXCb/cRHH10hxZuOoko98l8uhxv4rqfAo3xogxxtx8zfDL9EdxvN0/rHA7NyvJLrl6ctD4oK/mb+xSokwq7z/Vb0R7s8T3FW8XM/2KmqK/FeW/sHKzR1ewwtzEAPnvj8/v6pwc6Yz/068dZL55yv12rtwyQYFQcbnAgKPfgj8/LdL8M213y9//IdL/mX+zCwo/u051xsOpldvjR6z8DI+gEsyaiu5HWVfvYfJ/ur7BjOf1X3/gxngkv8Vxe5HXPpnEO7I0LP7++WlfRd+IacENaPmBw/13+z/XHDuFvtLrg03/yClhFs6T78ac3LyXYzUUmYPPXv1D0oa4mr5/Cdmf0eYo8aUB8+OYyQwcVUuxnuGarIv6hloDAADULwrb+a6tAAAAABJRU5ErkJggg==\"/></td>\n",
       "      <td>not affected with alzheimer</td>\n",
       "    </tr>\n",
       "    <tr>\n",
       "      <th>59</th>\n",
       "      <td>/kaggle/input/alzheimermridataset/Alzheimer_s Dataset/all image/mildDem151.jpg</td>\n",
       "      <td><img src=\"data:image/png;base64,iVBORw0KGgoAAAANSUhEUgAAABwAAAAcCAAAAABXZoBIAAAB9klEQVR4nGNgoAlghLO8/L8LlFcrPN2x5S9MiAXGqPwv8+yj0d9P1+1kzh1H0ckYIytucJPlywt5BmbN61+uz4RIMjEwMDAw/Ff8qf1vwhEVMY67Z2fI6HA4I0my+Fx2/PPcKer+if+vfguv/vDXzpYRJskcY8y04sckva8sfD2f92kc/un/0kAB5qC/r0S9Ffsfvzr1+puaUmgJw/5o73n8MJ12Or9V/l5i2Bhi/fC49GxB1rM/G15Ys0Ilf237msVgwSPSYiooyZ33+9cMxo56lb9QY5WFONp+Zzz8//bwn6/v/zXLvf02z+sMzM7XbpxfWOcq2X/7+c+M/x/vq5nvZO9K/oMau+uvqGCToRIDF4ehLJPg38dGzy9ufMEIlWT8tCuT7dOXB6qiH69xyLH+esjmz37xP1Ty/7b3P5kYGZWZ1l08M4HtCiP777cyV+EBv0vb7jfvv2fvH/z7J3/xl8rmFMZH/xBhK3HuAbM0162Xv5kOvtY9qTN5igdSpPbKr3ZbVyClsn+xjOIBlcyFeWyIgP9vXs3my8Svuqb47xr1x/N8T7OhpIQIVZen0gxdD8KY7Fm+Ml+adQ0pPhlWfL8gdIKNX2LTJs4fPw9Pu4aahrhSWRk5OJ8dKPz+g2fDDowEJmov8OmpnM2a+0/+MNAWAADt2sk08kMBpgAAAABJRU5ErkJggg==\"/></td>\n",
       "      <td>not affected with alzheimer</td>\n",
       "    </tr>\n",
       "    <tr>\n",
       "      <th>60</th>\n",
       "      <td>/kaggle/input/alzheimermridataset/Alzheimer_s Dataset/all image/mildDem152.jpg</td>\n",
       "      <td><img src=\"data:image/png;base64,iVBORw0KGgoAAAANSUhEUgAAABwAAAAcCAAAAABXZoBIAAAB8UlEQVR4nGNgoAlghLNidX49u6auJnlkOlyICcY46sDy6qfLSVbJv2adaJJVVi99fnkf4kj8EX90qqkTqqRMrs6rDfMkrzEp/f0Q9r8wjhVJ0pr1G0PGT+f854qPHJl/Nu1U82WGS+Zb/P/3Xb+m+4npjQOuDIxXQzzZSxgYGBhYGBgYmHmMdP5l31ZSW2J/VUDoNwuHygnnSzDJOPHXn/juq3TOf3T+c78574+/T1+9YYP505SVS6hk3yXd34s1blU9OX6VeePfl5fK/kJ0ahh//8rtH3XrldYPgSdS+UJi+w+yqPyDOugKu5qL67d/LEJeDxjE5RkEOt4a7+BlhEqe/yLTEHfrozyvuJy9HJfIC+8vR/+f+gd1EIPw0ZccIn8+anyUEv6v+OI119xvzvvhAa/B/CdcXFzz432jtmBhhu/vjvCuuA8PhJvfOJ9zMlzQObzg8CWFJ29nSfGqIoKP6ZsXx2t5ob3i3Pav90uKSbz6/Bgh+S9l/7VH64yaxB9Vby6XXXbqq+MtBlgIMfxP5+Izkfjr7HX4/qE6xgie+MV/kVICWzu/lMFflvsnHzFmcnz7t+TZfIROhl/F7Uw//39Y+1tF7u81pov3l6GmIc6pX1//Vr+3Q7Dp5kHGORgJTDxYTGPr77T66AwGGgMAPbnEKId/GDEAAAAASUVORK5CYII=\"/></td>\n",
       "      <td>not affected with alzheimer</td>\n",
       "    </tr>\n",
       "    <tr>\n",
       "      <th>61</th>\n",
       "      <td>/kaggle/input/alzheimermridataset/Alzheimer_s Dataset/all image/mildDem153.jpg</td>\n",
       "      <td><img src=\"data:image/png;base64,iVBORw0KGgoAAAANSUhEUgAAABwAAAAcCAAAAABXZoBIAAAB/ElEQVR4nGNgoAlghLOybKXvPb+ayLK5By7EBGN0vhT5f/pEtBhr4JogNJ3F51O1f11k+6bH9FVz/TOTAGSdHM/9f3K2ivKcOt+QHuGstHoSkiS7n/Brkb1Om19/UW7OfbhMznp7JQtcUu+DiJFgp1OFiR7b1dMsC7T/NGp4wSX92f4bp/1dO+/49wUPXf8xtYStX2/IwMDAwMLAwNDuwhz89odsOHv+pWAPZsEfCt8crV6z/4S41iacg8us56Xe7XcC9//afLm56niHlMTsfxBJ3YzP/6N+Cl/5efTNuUQpdannf7/f2jvrP8RYZW4rnrXyYix/DJudVJk/3dgR8tRGeM5fiIM2qD0+sunvV34BzhjN/7w/uLTzJLe2/YW59uGzbpvfLN9Fxfddk5b4+5+Ha+9LKbhXps4XZWf5yXbnQvKf/S++//zCZc+2BC55RNecifXDI/n3J/7/4nv7g1/g9QZmmD8ZGI/8C2DW+Xv0fdLD7XssDn09d5bxDzxW2KZ8FX8r+3vW7H1z1lu1nZL6t/jqX0SUWTroKD77y6234bvX+3smf7qY132FG8twvFSZW/H/n1cfmP+rqD7kYDBfjJwSgiYyfL/C3nz10f4fH/98086BiLJAU8TS0KPPJM0vGZsteqbAUI2RwBStTqo/s1V6v+DxPwbaAgAZcM+kyaLVcwAAAABJRU5ErkJggg==\"/></td>\n",
       "      <td>not affected with alzheimer</td>\n",
       "    </tr>\n",
       "    <tr>\n",
       "      <th>62</th>\n",
       "      <td>/kaggle/input/alzheimermridataset/Alzheimer_s Dataset/all image/mildDem154.jpg</td>\n",
       "      <td><img src=\"data:image/png;base64,iVBORw0KGgoAAAANSUhEUgAAABwAAAAcCAAAAABXZoBIAAAB7klEQVR4nGNgoAlghLP2XmQ4zNjwWLh6L1yICcYoLLb46ffpn/yP/HmFaJJdzQE9T/5zCj2dzGl1+mE7quQrTjXJ11aCNv/TmVYU298PRJJkynpl/O6XMf9VufvnGk99P7JHQ5uRgYGBgYWBgYFBN5D1779ZwTynbt1lYTV3Xn/AnOvoDqhOZr9dZ3i9ZCdNNT93zcRzL99nb3E3H5hOCwOOj8xCe0L+zP3J/cnlwH+eWds4DWF2st1Musr48e93bhYFtgfz/nrz/fv/6zVMp7uzudCvvZy3nv74+y5XjlnrdF7iun+7oTq/f+P+XXDpE4d48vNYAWaZJ+W9f0IdYcY28n499eLKMV5ujn8q7Pw/n6YdLHnOzgLz56NnUxS5RL6/V5e5xCb/g4335/u+c39g/nxy4pvLvxdCCuka+3jkP3797HdNvAYeQjmvxJ/xcPwVeHH8y6etb9g/PHC59RMRtq++H7lrKLf59yf+V7xyr5+4nFFCis+wW5wpzOqRrCsYQ78efnKARTgLKVZ+Tgg89uWM6LopF3ZLX115y1UMOSUwTXR4Ksf2YxbrOxdttl/M9RzLkHT+y82UZvrw99wBlRuvvgju1l2GmobEY/VvG/87uT7Z8Kng4xyMBOZg4jD/bLzsw+UPfzPQFgAAyMrJ6g/LXuEAAAAASUVORK5CYII=\"/></td>\n",
       "      <td>not affected with alzheimer</td>\n",
       "    </tr>\n",
       "    <tr>\n",
       "      <th>63</th>\n",
       "      <td>/kaggle/input/alzheimermridataset/Alzheimer_s Dataset/all image/mildDem155.jpg</td>\n",
       "      <td><img src=\"data:image/png;base64,iVBORw0KGgoAAAANSUhEUgAAABwAAAAcCAAAAABXZoBIAAAB+ElEQVR4nGNgoAlghLN8Yxl+Xnympb59HqZkQsBpmW8PDN5+sDvOUQkVY4JQOfFK7535Tks8Yngq++HLZBRJTgYxfqO64+XvTqt7tpvI261BltQRivLbYmbxSzDgKof+PutzR60Qkm2sjMJ7RPVMOPiWr2PYtuOZVpm9FwMDAwMLAwMDy4f+O78PHame/+SwvUnnA6YduV3PjsN0ut+K57p98Vedl5H8W/MHAix823KNG2GSt96yr+FWZxc+xf7t9wNuY/Eol528KqxQfxo7Gem9FeB/MPeC0DvZCGWNjUYzk++HQHUaRcq9ylvPJ5LX848hfcHvy29aktfdhhk7+8uLAlbVQ1/Y/jBycXfL/HgtM0n3HMy1DE13pMI+fpKTf6vMxav4+tv37y5n7sD9+f6/7KtFguwv317kuHf29lvti+x/LsElLwRJM5meP8m5kWfjAuXHku8F8yX+IoLv2Doptq98e2Uf/rt+2Py52hNXSOCyMDAwMPz9qPzwiv2XewtnCfitecy0b8m9xQhJBn0tOZ/fZ/+ePfXr6pY/6vIT7/9HimxmPTZPW4F/H/Y/FY/jevb16aKD/xE6/55foLfK//3UF4Fv/17+f3nyKwYkYxkYcpcul+fV5r9uxjlD7Nwr1GTC8NmP4+gx10/POS6JLr7MQFsAAAW6yPFsECa2AAAAAElFTkSuQmCC\"/></td>\n",
       "      <td>not affected with alzheimer</td>\n",
       "    </tr>\n",
       "    <tr>\n",
       "      <th>64</th>\n",
       "      <td>/kaggle/input/alzheimermridataset/Alzheimer_s Dataset/all image/mildDem156.jpg</td>\n",
       "      <td><img src=\"data:image/png;base64,iVBORw0KGgoAAAANSUhEUgAAABwAAAAcCAAAAABXZoBIAAAB9ElEQVR4nGNgoAlghLNy1TzihOt+nhCPgwsxwRi1J0VyZpgvZXT8tyIMTaexg7nmeYZdAZybGfN/TTtyBVknI+dHyfer5Xx3PrBnXHc/Ld4QSZIpyihHZZ50rvyHR5/ufTnHpuHqCZdknHzNj+P8E4k5lzRkVT0ZnzA/9ol0Z2BgYGBhYGD4/2EuH2sWi8m0f0fsjqj92hXqsfE9M0yn94fJTx6yc51q5+I462Xzgpnnp5y4LEyS54zw8b8/f3tvOPLnV9c0NhGVZ+ru/IxQYw2DfzI83P/v8ReVx79KVcQFzr1lneX1H6rz8ePlKSpz/nFwBH6Skv/O/ir9zZaotaywQDhyT2Kik7L2qz9VAYYizA8+t/H8NZz/G+rPE0fvfVcV5zL48XarsCD7t8cfmb7f/w21k2GH6cQglpeCPJu3X9tr9vPfjb+fv++D+ZNh7zvR38fMr/7f+OUUv99Z8WslHFenw4Pvv8ezlTw8Mvv+GhXcOyL/SG3Tvq//EAG/gSOTmYmzSzjyFn+NyEPW9w8XI0WZRqWYLM/nr+rXOQV3eTx/pnQ6hQFuJ8ONt9LM35i5i8XeMed/eS+5dgtKSijasfvgD1bNL3vu/Xtwkl3uHGoymXLNOO3at5P/jdnfXV+bgpHADIXjn58/5iix5AkDjQEAnEbI47CTQ3wAAAAASUVORK5CYII=\"/></td>\n",
       "      <td>not affected with alzheimer</td>\n",
       "    </tr>\n",
       "    <tr>\n",
       "      <th>65</th>\n",
       "      <td>/kaggle/input/alzheimermridataset/Alzheimer_s Dataset/all image/mildDem157.jpg</td>\n",
       "      <td><img src=\"data:image/png;base64,iVBORw0KGgoAAAANSUhEUgAAABwAAAAcCAAAAABXZoBIAAAB9ElEQVR4nGNgoAlghLMCo2exvpHmDblS/Q8mxARjxIT8CXAyfvzlg4JaBKpORm8JGe5Jqd+P+e9QsWH9c2wyss7/j5+KTGC9rmj0I1Nz5a8DZqFIkqzRkiqz//0LEnyl9Gay0yKZtRpecEmmDIlHNh+Y/Jfd+v5wtdaNswLWxy1DYXYy5QiZFH//LW7I8PqPlG4f4495F75/64fqzFXS/cLzl+f1PnfN+9rnOBQ5vhtyvGOBSq45vv5zCPNXfq59W/9O/8f6MOYvB6vsH6ixzbJsIrf/PeB9u02TTUyS2/DbrdtWH3OhOlnYHn17xOsvrBT7gEGeQ/jivi06nZtgrq3Mlupc9/Ou8H8GOxVBThYmwTuLyjiYoJLMjW1vrb89Y1IQ4hP/rcT0m0Hs8ePb/xgYGFgYGBj+Pv78n+sXG/M/4VsfPJ6///5ZRmvNDXgITWMwYGR8eULswMEjJ3jfaby4zs/OhAj4phU/AvRuM33/zMbDJ/9lD/vPem1E2H71N39w0u7uAX+bJdvYN/zQFdZFBPzv7e/kNFW//2tlE5r5j8X5lYgUM3JK6JP/x8r69dA/LgOef/9/fjwzFzklFDUwLHrByP76zo9fzIxbD85FTUOCkT/sWSY/Vf6rycQjWo6RwCSDnruu1Pr/8sQLeAKjEQAA4pXA/PgBrLcAAAAASUVORK5CYII=\"/></td>\n",
       "      <td>not affected with alzheimer</td>\n",
       "    </tr>\n",
       "    <tr>\n",
       "      <th>66</th>\n",
       "      <td>/kaggle/input/alzheimermridataset/Alzheimer_s Dataset/all image/mildDem158.jpg</td>\n",
       "      <td><img src=\"data:image/png;base64,iVBORw0KGgoAAAANSUhEUgAAABwAAAAcCAAAAABXZoBIAAAB+ElEQVR4nGNgoAlghLPsZJVlZ3w1r1lRiympFaugWJF4x2STz9sLU6BiTBBK0pj77NfPPc/2vU2QMVcxQdUZI536/999wfdHNMQf2P9/MWM5kk7DEwee/bvLKv/1v8aOI8x/Nrj5w3UyymdyPPJbwuTD8PO36J0N8Zrf1m37cwsqyWZZoP0niC1/gs0DSekbd/4t4Tv8ZcuOPxBjZR+8/M/Dwj5RU+nmxcDnjFxMxxe1vPoDtfNfYmXIhy+8n633m7PkNqkrCQkHOj5lghqrJ+2Y8Fr6wa3XW9/8zRQQFBDbo/v9VNlfiE6uXLevW1bKCKh6/ssSkpRnnnX8x33lv1BjT7A/CXmsdJ2HVeDtG+6/f25/+Hzz1yEGBgYGFgYGBoaU36JfOb9I/eRkfmCm+ohBdfdJ4RfwQNDt8uH/8ParRiXXgxXM138LMuZ4P4ZL7j+r9Pnt959bf3x6wndbVKrHg2kxA9zYz2vWshgbvfzK8cNzqaTPFUmZJ2xIYSvSFbZ66ate5kPy+/r+v8i6ZXwdoZNBZNflZJ5/KrteKPPtZBBREnqAHGXsM3hfu7AxN6hczOPn+P/1wK0pKClBpZBXTfjju2OccRO/sbyfj5ISGJ4xrTr/4PPWexZrvm58C5WD2snA8C1T+mWQkfCTx4+YHi5koC0AAG8Hy80cCL2KAAAAAElFTkSuQmCC\"/></td>\n",
       "      <td>not affected with alzheimer</td>\n",
       "    </tr>\n",
       "    <tr>\n",
       "      <th>67</th>\n",
       "      <td>/kaggle/input/alzheimermridataset/Alzheimer_s Dataset/all image/mildDem159.jpg</td>\n",
       "      <td><img src=\"data:image/png;base64,iVBORw0KGgoAAAANSUhEUgAAABwAAAAcCAAAAABXZoBIAAAB9ElEQVR4nGNgoAlghLO0CnW3PD4f6nSiGFNSMyTqKu/j/7xCG7lfz4eKMUEoyYQeoX+qz77/ZP6YFvF/IopOltavSspvjhl/4RL6/NXh0yKeBoRO9vSNzDYMcu9PMf6RXfD0/8FLe5whehgYGJgjOSZ+/L39qenfj89Yk88/N1Dl+M20G6qT8aUQo/DyH5qf2Kd+nrSOLf2vzKEVVjCdSoky/C83/5vx7wjzNpO+kH+iP8xcz7D9gjhIz+EbZ9adJXJfHz78zSQbx2DO8+/HG3OoTm2bj2wfVdu/3Dr++6Opu6zy28UsZ6Rgrj3ILWMmGPeYW8ftNbeHiNyldQJafgysUMlXB3b8agr48u0Dl6atwL+Xdx4qSIg/+geV/LuP5efZeww8kk+0pZl4/wlIHH1b8O4v1M7/v5kWeGjcEvjqdueM2imGHyLTmDn3wLzCcEn18R8V+du6K+8eMnr9Uv+e3P0/SAFv4c18m+cjJ6tOwA0xiUtfIp97IwKeSavk4q9fzZUHdnPZubusNP8ikIvQ+U95rV2RHYPQad53p2Q0Y1aLKKBE9kLbT+x8f3ZeZ5MO/fGa79KRSciRHd/Ow3qbTZabg+XdL8lnOyFyENcyMDDscb0jrHD1Iv8v1ofLpOZiJDDhkhuiv4R5vyy895+BtgAAQmnEmD8cmewAAAAASUVORK5CYII=\"/></td>\n",
       "      <td>not affected with alzheimer</td>\n",
       "    </tr>\n",
       "    <tr>\n",
       "      <th>68</th>\n",
       "      <td>/kaggle/input/alzheimermridataset/Alzheimer_s Dataset/all image/mildDem16.jpg</td>\n",
       "      <td><img src=\"data:image/png;base64,iVBORw0KGgoAAAANSUhEUgAAABwAAAAcCAAAAABXZoBIAAAB/0lEQVR4nGNgoDGYenKPseKqliOVCCFGKK3ayP/p0S2FLyyuT55dXYgiyWyWpSh5++//rS7fLvrdu8zaAZFkYmBgYGD4++Mh/4ePzE+CPihKbNOzvWaNLOkx4+P/Y4yKpp18P+UlN64s7rBGSCZwHhF6s1TpxYaHV46aCt8runs/PhwueennsYCc/+ycr/+89E96ffiivZ2WOgMDAwMLAwNDeLLS37s/RDlWn/l36EVX29999vWPwtl+QVyrKWLO7RHlrmzefJePwe7nwXWcu29uvPsfIllizcfKzX3/w8rydyxfJfnF3rMw/jwT8x9i52VBMZbPzKY2FSxz5KT+y5xbMeHvb06Yg3buYX0ZcezudzmuG0clZF/8/LRx66u7/6GSTAJrXkv9ecr47/uPIxyff7+R1JzLuxfm2n/Pfn//xfjrzX+JcL3f7968+ffs4+4diLDVFLMU5GN13vaeWUDii/j8oywc1xDBZ/r0zgsp7pNXjyz5+ZHvHj8f6zWksOWPSeS4aXQ33YTV7I/KB1/LZEYkyZciwjw6/zxZxBO4DVhdRfSn/GeAOYiBYdUzEWmO3xwf7v4V0P15XX2PwCMknQxH1kvxsPzczP9R5BnnyzTGS8jxycCw5233vUUGP4ylFj+X+LEeKsgCpd9GMnwSOHxI7+uxr1sxEx91AQDkac9qmuOSxgAAAABJRU5ErkJggg==\"/></td>\n",
       "      <td>not affected with alzheimer</td>\n",
       "    </tr>\n",
       "    <tr>\n",
       "      <th>69</th>\n",
       "      <td>/kaggle/input/alzheimermridataset/Alzheimer_s Dataset/all image/mildDem160.jpg</td>\n",
       "      <td><img src=\"data:image/png;base64,iVBORw0KGgoAAAANSUhEUgAAABwAAAAcCAAAAABXZoBIAAAB7klEQVR4nGNgoAlghLN849kbhRNYeBh8/sKEmGCM6FC2YyHfuN6xMKXFokoyaZd+45YWkvrxc0uyIN+rDhTJf9y2qdpbQ9+bsuezhgTn/GhAkmS0qX6s9dXh8zPOVgYr0UAZXg5juCSLTe5y4b+HN3yV28j2+o0V09cglwA5mCST+S0rtdzp98v2MPE2uW/nOPD22GFHmKQp35EfrHc4dVLv/78qI8DMrsYuUcYLk2Rljef6GyDAcYlb5P+rJx5/9Nh0vyrCAsFKQz6IhfPD+3fd/I/zRIU0vkw23eiVBNXJlydw58KMr3wSaXe0JfhFr+Yn72Jnghm7Y/s69rLvL1h+cDMY87L+/2C1X01rBwvMn4s8C8KVuT7pCUpzc8v+//l1Peuz239gkt83pz3+eZfrxrP67Z+v3hZierde4xw8hB48+/P4p95V3ef7nz0z+vjlRrzpmv8MDAwMLAwMDAwsLAs/c50U3sbE37Dqo8mDd3+efEaE7R/NDHclCYdj55z3HZnItq3UivscUmQ7tvyWYf673/0P1489Vj8+3XxVi5wSNBq+Wv9lXfjnuZPl17eCJxeeQk4JN05z76lh0mdRffT78ubTB0+hJpPZL7fJ3fq+5pH1sw9/O1ZjJDC9H2KMb/66yNyd95+BtgAAKAy++mhVOoUAAAAASUVORK5CYII=\"/></td>\n",
       "      <td>not affected with alzheimer</td>\n",
       "    </tr>\n",
       "    <tr>\n",
       "      <th>70</th>\n",
       "      <td>/kaggle/input/alzheimermridataset/Alzheimer_s Dataset/all image/mildDem161.jpg</td>\n",
       "      <td><img src=\"data:image/png;base64,iVBORw0KGgoAAAANSUhEUgAAABwAAAAcCAAAAABXZoBIAAAB/ElEQVR4nGNgoAlghLO6D/xgNLzO+5VxI1yIBcawZpow3WIHu4/dCZ1Tu1F1dp8q/f7tzZur3OEvHhovZJwDEWViYGBgYOB86T9FXlLP56+v9EErxnx+HWYkSTNVxW7Gr+L35eTazk9Vu6gXb8kMtzPIX/iqwNz43w83/YxYyzqx9On/B+61UEkuJx4j8z/blbiOv9vyzvVHXbrAjmtnYTqTHlx4bbfgz4FUUY0PenounG9ZHDUunfoHkXyQeeUrpxxL6FPhK9yHODW+qP48dIftH1Snvi6jlkBY0M19P4WZLcQ7VN/scuE6w/QP4tp9Fy8feDHvh66fLxOXEZfk1WqvlYed/0G9cvx5qHEpy7U3Yv8NTH9K/n5uMtNKdRPMn4zvHly4ZPDj73/G+7cFON6//Sa78+Q1mOT/HSdnCjxgevJRqj9A9skznuPyXNf3wgPhuvZjxTeqD2Uv7bgi8I+Vh/3fCcmf8OB7yyLEduwT/6XXNnWfeZlv2XercP2GS/752TrF76nDecdjH3mu6Fz4/XTfXKT4FH7M7/f0kweT4B+r86xlzOq8zn8RsdL1fscXUSbBV0onViUxff55e85fpCj7XaFwmoNb9vAyAZ/PP4ReHVqCmkwy1y5g/62iyMN88Lvw3g1oaeiXr7KZzBelv78OmKVjJkPqAgCb8cyCDId9IQAAAABJRU5ErkJggg==\"/></td>\n",
       "      <td>not affected with alzheimer</td>\n",
       "    </tr>\n",
       "    <tr>\n",
       "      <th>71</th>\n",
       "      <td>/kaggle/input/alzheimermridataset/Alzheimer_s Dataset/all image/mildDem162.jpg</td>\n",
       "      <td><img src=\"data:image/png;base64,iVBORw0KGgoAAAANSUhEUgAAABwAAAAcCAAAAABXZoBIAAACAElEQVR4nGNgoAlghLOyddp1n8m6SYs6/4QJscAYDtbKNuw/nvGwP6q/tQBFksXfzoLjvdupd4z/r9vcSv+7GFnyj6Ek01cuvff8Wrpv/njsDmdZ9JeBgYGBiYGBgYHDXkON6ddD7lcC0y4J/P/LvZcvkgEmyZqZejGf6TPHNr2nrt82pLGqaHoIWMAkf/P/c+j9Uvjq7K1tK6eLfwsSkpxwTQsmGaDx/u3vrbxHrG78/uNkza3Axe79jJ0F6qCrs3kFrFUPqf74K/jvsKaM5FexS05Sf6A6/Tn5FGQ9Z2ownJBnUmHMrPr1+of7K1gIJXoJ8m0U9/j47MMqYV9ukftnVs45YBj2H6Jz/q/LZ7f9PccqyKYk+OM/4xte7jd225hg/jwjvPEbG8N3MR6hn5xqX/he/z52/dVfWAjdYPn+563QkxeiK/gMHz1i5+K49ucgPIS289//8ZXnt/41hmesfAziLCx3Tn6BS7KsYRRi+fzrwScG1iPndW4v/iKgjQh4FkduuVlXGhsubWSLu2vUk6t6qxIpsmdyanx/p7Qn6Ki08gm1q+LXb079j5BkNg40+ir9bzWHAK85A+udB+9a/yHi8++pR3lh++3/3fJWvXvtK++Cu6jJhPmc4u7HvFdCfux9fYfxLloaerrmwW/Lp8wfHp358PA3loRITQAALuDItMRlAsMAAAAASUVORK5CYII=\"/></td>\n",
       "      <td>not affected with alzheimer</td>\n",
       "    </tr>\n",
       "    <tr>\n",
       "      <th>72</th>\n",
       "      <td>/kaggle/input/alzheimermridataset/Alzheimer_s Dataset/all image/mildDem163.jpg</td>\n",
       "      <td><img src=\"data:image/png;base64,iVBORw0KGgoAAAANSUhEUgAAABwAAAAcCAAAAABXZoBIAAACAElEQVR4nGNgoAlghLNcPZ9wbLPaV7TwKKbkyo+yP56cDmE+89Os6xiqZPLl94un+clMZuEveJejc/IysiTLJvW3zLts7//Umqkeyfz5xdaJfxkYGBiYGBgYGBjLly8VETjx8lzb60a3M+wHP2rYM8Al7RY91/3+qlbY5t/aVxNki+xn9Dj4MDAwMLAwMDAwGKcd01+4NfGoGN+RZxERv/NKeJMlWH9DdAa/eyPMuOOHQu2Nz6zFlv+FnivJzfT/DzX2heqVYM4qmQspr3XVs+bLPbPlPvJa6g/UtT6S5UxfRV59fbFB6Ly9iZDBPc7PhQnpvyCSyvlnCzPjzHi/PJojGCzNffrvEp0IFjOog+4qO2W/YH/FzsgS+Fecn0ny9m3BMxpw1x7+91hP6I3GR4YFEnasX75Kmbxf9QvuT9muQDamfzdfPLf9u+fbTYbl4rrqp+GS2Q8lfh0Uefbqy9pLf7lfy0hq3T/IgghbjR//9dN/v93I/PlLsvz59ztYOI4gJOOdbmmrKJgI7ha1v3M6PEiV1YMB7iCGm1GnHP7/3aS+8cfWWyyrnn9IZkAEPMOJQ8zMHNxSrYdfHBVl4Be7qoksydAqf2PCh98mHCd6GLvXHn28nQHJWAaGhtYt3zI/nwzUfPpnluRqBlTJz3micoWpX7l+934//peBtgAAMTXKKLh+RvsAAAAASUVORK5CYII=\"/></td>\n",
       "      <td>not affected with alzheimer</td>\n",
       "    </tr>\n",
       "    <tr>\n",
       "      <th>73</th>\n",
       "      <td>/kaggle/input/alzheimermridataset/Alzheimer_s Dataset/all image/mildDem164.jpg</td>\n",
       "      <td><img src=\"data:image/png;base64,iVBORw0KGgoAAAANSUhEUgAAABwAAAAcCAAAAABXZoBIAAAB7UlEQVR4nGNgoAlghLOOnv3HUz1FgkNa6QeG5L3/L/9d/sFm/0WO+4M8VIwJQlWeuPiZh03+qszh74/L8rehSj4//INpF3O7KMf1Ka8rMnd7IEsW3NHRf3nkvLLJcwHPM5+2CHMVwiUZ055N3Pvrhdorn5k955hfvQs36+M0gEmy8Nf8S9hTxfPz7i/jZDmhYn7ZVZphMEmHN3d4fr9m5E16+uPs8T9rPrC9+7dgD8wrIUJ2N6O/NSn/OcD+7aV4Eqf78XdfuIr/QCTDlV8mC/9iuPVquiy7hZSC7Mf/HFcWbYQa+8VDXnRdyw8Z2dJXlqrsfJ9y/7erOsPs3Hou5MNL6cc/uDhkOZlFPu2U2upV+QHuT659P7c/fi2ty8XCLqHAKyy55p7ZdLhk78uer+bcb+48rGMTeXSd4++vldveIQJeROhbsjajp7Pl1mqRZ3xn5B5tvc7AwMDAwsDAwMDAzmB5T0NozXONz29FGW4eXfWDBRGpLNLqBqrK5+R01t6Q894iYzsxl5kBrvOPiM+PGLmz8/Q2cu/frzf/P9f7v8iRnXt2Ah8zR4HMLyfN70yvU5gfIsfnZNvnxfd4vjJd7br/+9iS0IeoyYRFlqmIg6MgS1r91hHBCRgJTJzT+OULIe0Lb5/8Y6AtAAAZEsArgXyn3AAAAABJRU5ErkJggg==\"/></td>\n",
       "      <td>not affected with alzheimer</td>\n",
       "    </tr>\n",
       "    <tr>\n",
       "      <th>74</th>\n",
       "      <td>/kaggle/input/alzheimermridataset/Alzheimer_s Dataset/all image/mildDem165.jpg</td>\n",
       "      <td><img src=\"data:image/png;base64,iVBORw0KGgoAAAANSUhEUgAAABwAAAAcCAAAAABXZoBIAAAB90lEQVR4nGNgoAlghLO02PQ+f3wsJnfiPlyIBcYwf8fs9OciQzr7vz9CF1F0MhoKpB/S1pugLfLJ7so+lTurUYx1iDieE+T4VUZeiJ1R6dIl4XoGBgYGBiYGBgYGxqBwhvzwf7Ixb5nVv73aKvnsfApcklH38gKmmP/Rn7h+L+l9LjtX0cpOXwom+V89foH159+LLfuP/NQ3yBPf7mR83BcmqXFt2S5GJnYOSU7RT1MvM38SenNP7x4LVFLWXHTmLWbx7y9fvmeWk6u18lH6xMsLc63737eyFVIfj3OIbrFi5WLT+bFHf86vpf8gOv9dT2vf805BT+n7tkf/2JVPL1F/8FyCERpCu2fyT92m+FSS/6nia0+W798fX2XRuMz0F+rPn6/5FX/8YZHk+vXsi+D/X/495m9YfsPCdgLHD2eO75+/3fK+9Zb517/nalE+i+AhdP+T4I5zX++wT1ui26t+neeBZvYddnis/JfRk+WSZV/C+PUtxyJxMZaLnM9/IsL2i9CXPb0/+/7PfvB0t9bJl7EiJxAB/19u3bOHdjdYw2RfbeE/JX6plwMlygLKpd99/f32IrOm2kexH7dPTvyDlBI2fI3aLFh9Q+TRM02Ow9zNN1CTycGbnZ8ebriYxMe28rn4DYwEpm12KGMiM7eFRBsDjQEA1frG7CSuVxEAAAAASUVORK5CYII=\"/></td>\n",
       "      <td>not affected with alzheimer</td>\n",
       "    </tr>\n",
       "    <tr>\n",
       "      <th>75</th>\n",
       "      <td>/kaggle/input/alzheimermridataset/Alzheimer_s Dataset/all image/mildDem166.jpg</td>\n",
       "      <td><img src=\"data:image/png;base64,iVBORw0KGgoAAAANSUhEUgAAABwAAAAcCAAAAABXZoBIAAAB7ElEQVR4nGNgoDHwNdkoYmWzf4EjQogRxgiXkmD8tbtR7Me+xbpLoGIsUG0W28rvCvEeyRFP8/nkxzYPIsoEoVQZZqzOZLt0x7Hx8Yww4fwJSJIsxmKMf5Z2cCzX3X/9uynP3AMc0cxwY9PUfvn8/XeXW3+l1P+/cqfjX75i1L4E0+m6U5l/6j/XLQf+P9rHEdTK3HJM34EJKhl/TunJW07OpCIZViFxV/k3/zu4JZTZoMYy3tbj2JR213vaQ4a3a48YG3CyJL64+AtmJ4fsg0jmWfe4JE88T1ESlfr4YaKdOMxBdyeyC1/f4abzR/S8pRyv4KXVEVUXef9B7Tz87Cdz6vsbz6T4vM3l5T/+kak6de0iTCfj1Y/FZq5MYp+YrrxTYWR88+/1TPUlMMn/+75lbnmh8oSV1eTB3w/PGVlNrd4/hYfQ7ieMVoyir/VOvXr+SP234Ws92aX/4ZL/mbe/FmAV2PmcJfjCXsannLvb/P8jYiWQ9fTdd2m2f9b+fD1x4ZbjlQIOiID/v1X/gXbE78odq252ZwloNS6+jxyfd7aslf3xzXHRPu63Nj+MPjhyIUv+WvzJ4qOX9MmAD6sjGL8x/wpHiWyGzcIPd/7KP7XM+f2UlxuK0NMQg7KFhM0EMWWl7jv/GWgLAIZ7w5ulKUSCAAAAAElFTkSuQmCC\"/></td>\n",
       "      <td>not affected with alzheimer</td>\n",
       "    </tr>\n",
       "    <tr>\n",
       "      <th>76</th>\n",
       "      <td>/kaggle/input/alzheimermridataset/Alzheimer_s Dataset/all image/mildDem167.jpg</td>\n",
       "      <td><img src=\"data:image/png;base64,iVBORw0KGgoAAAANSUhEUgAAABwAAAAcCAAAAABXZoBIAAAB8ElEQVR4nGNgoAlghLPS3udueWbLf3bv9e8YkqE2fnfnsLNaGvLsuTEJKsYEoTIKYi4zcTI//8d87sdz57lQSRYGBgYGBmaP+7bab39avpXZnbUi+qNS4HoknT0fM/6fPnLXR6wvdqnpVtW7uaFMcMlc/teXjm/n+TRth8ZH+TdLfx8+z7sYJsmrrRuhkhdxnYvt1PPjX9//WBp978tlmGToL3nud2x1Hndecr58bjqTXZJT5ZcuzEGXOPK5/A25D19gZPtzdVPMehcGDotbMEnhkI9/ZLr/PFDb8eFNsJZ4+YvFQe8WM/6HGPv4oLzl4W0fRIUd3ivoc0mdq/d+2PP4P9TOa4x/N+xgeygsJ/yfQUr532v9Io0ARCDsFTv69hfDc+1HTB8/M7G8//F3keBHuCTXj8uaDB/+vbwWzy999j/fnajL667CA2HvDCfun3wvTHf/PXNF6acgz7Pt//7DJf+oHD4j895kpyaT7b1bvF+u88qII0VZtI72RrngWK9APi+mHXNlHN7Z/kPEyjcTRctHp5xTrv9YP+mPmqAswz8knUzx0llcP78ef/X1Rrnal3eMwReR4vPf/JAXH5/pXLngY8c6k4v7yUWUlMCw5/qzk2y2+gc//nq95lwpRgKTaDzG+uyZnv3tDgYaAwAars6kor9V7wAAAABJRU5ErkJggg==\"/></td>\n",
       "      <td>not affected with alzheimer</td>\n",
       "    </tr>\n",
       "    <tr>\n",
       "      <th>77</th>\n",
       "      <td>/kaggle/input/alzheimermridataset/Alzheimer_s Dataset/all image/mildDem168.jpg</td>\n",
       "      <td><img src=\"data:image/png;base64,iVBORw0KGgoAAAANSUhEUgAAABwAAAAcCAAAAABXZoBIAAAB/klEQVR4nGNgoAlghLM8nXaJvxaw/TzrPqZkjA7bN+5bri/V363XqIWKMTEwMDAwsIXOZn5rF6J48r/AU86mqIkokv8+trnGHhNeVCYkNWvrzWMTXJGMZY9x+mVWFPtK47T9lts3/mw49WnReQYGBgYWBgYGBs8o+X+T7vxYJPb3gKTbBYaIZewiC/ZCJRkt3yp82sR6LP37Sg/Bif9ZvzLl/vjN+B8iqTZbwTCLiXOPoYDeQ11O9g8aP/KFLp6A2qm8SPTzN8FM7f0S70UfuB1/dfPzU+ErflDXirK+v83Avym4/oPmk9DQGXdXv+7af50VqlPtT6Jo1Qxe4d8sCT/bJBm/9j3w3fD/0V+Izlussye4s4kIsNz5ZMH/U/FrOOP6FNe/sEBIZfunzfn9raqIq5m85fv/bPIlxg/hIXQ2zfMs8wv2548//p768gfzm1sq6Tvhkqv+SP748eK1Zh/frAuPX3P/8b6ihQhbZvYJD/9cFugRtdJ5e52J65A+AwsHXPLXmdbOFqFvM585/iyZfOqWso3wnh/wsGV49kD9l9MehuPPZvG1/7Swj3/9DTmyp+pp/nnPOYfrfJYsy2PB3ddnIcUnQ/bP2+d4vxsevH+b8c23429nIUc2A4P3DI5fXMuf8K96dm/6txaMBOZaenUty//w03wTGWgMAF1Cz7XUKPdiAAAAAElFTkSuQmCC\"/></td>\n",
       "      <td>not affected with alzheimer</td>\n",
       "    </tr>\n",
       "    <tr>\n",
       "      <th>78</th>\n",
       "      <td>/kaggle/input/alzheimermridataset/Alzheimer_s Dataset/all image/mildDem169.jpg</td>\n",
       "      <td><img src=\"data:image/png;base64,iVBORw0KGgoAAAANSUhEUgAAABwAAAAcCAAAAABXZoBIAAAB70lEQVR4nGNgoAlghLPiXhV961M3Oizd+w8mxARjeP7MuceQ8vNcpbBdOEyMBaJEw93pqMrLz1NF3932UfwhOQFZ5z8fDe20GqsT1cb1P45Z8dxxQJLki/M1Zjyd88+31WEyx56nSub8fkxwSRfJCS1/Wd43CJjcfLzl535+x6w3kXA73QQS/ob+1nn68KCAMIdvgxvLlcZGpn8QnXHnXkxm//B+39x1/++Ws/ZyPuE5ea6QCarz+6Oj4m94Za1cOGRerjHY8cXyvd2PubBAMP0d5Ciocv7L2w6hBzWSzCavDt75rp8KdZAIn9mFmsXKzOIxjzOZ/qufXMItGcbNCDV2+6W9thMSbot8Uvml9E/i+/9rvLdncv2HeSWAK0aM/dtfVkaOP5IKD/4JXbspzwz3CsfNrDff/zOqRez01Jj2/9VvU9NZ1+GSdx4wflJi053zN5fl/o/PAvv/W3/+DZf8Za536WLK0dMsr37/POiZJnj+LFLYsj36s/bLgfUnzLr5OJt//GUW6LmPiLJfT/jSnV7eTSlM2spRsqef4V0cSkro3DSP8zfjqse816Yx/P11+kkZckooD+DY08ng9kCS+U/ByxcvypBTAgNDjeS2f8vvfLmVe+7c1RudGAmsaEc605cVRddvbYAnMBoBAKSRziGkK/HHAAAAAElFTkSuQmCC\"/></td>\n",
       "      <td>not affected with alzheimer</td>\n",
       "    </tr>\n",
       "    <tr>\n",
       "      <th>79</th>\n",
       "      <td>/kaggle/input/alzheimermridataset/Alzheimer_s Dataset/all image/mildDem17.jpg</td>\n",
       "      <td><img src=\"data:image/png;base64,iVBORw0KGgoAAAANSUhEUgAAABwAAAAcCAAAAABXZoBIAAAB/klEQVR4nGNgoAlghLOsg7e/k/ot6DzlAoakROUTqZ0G5/T/CTP/4imECjIxMDAwMDDrZXDx3/fb+V1S4h+7+KFsFMm/7hzMP1Z8D5GeeZ/vLYMKozeysQESphc2MUlx8zJKKOzTkfh0/t/Wf1CdjI4XRFhX/3HL1Pz6WJP371Ku48LiETBj/1801+hlZPmxgvvWp19zpP60hwjp/WdlYGBgYWBgSBSWfPuE48/RjLs//+yOaWf6/4Vj9TNGqM4Lu9bd0PovInKGg5Hh8s1I+a9fHgrb/YLq1Pry4K/PXJFH9wLC+M7zC0QJ/1T49Zr5L0RS8be26sOyHyzfmLZauXwV47h+IpyF/y/U2BZ+nfmbHvz5KcX26zub6MfzX64f+ncVZicj16R3DF/u8/z+/ucx3z8uhr+iby/u+A/zyk6rP/85WL+/4s0NYP/28tUz6TN/7zNAHcSwXekT/1eB++y3/jPyMX7XfrLz7xGksH3J8fjX/+9cTFcfvmNVvPTjO9/5vwjJNCP9/V90LhqZcKjc4/7DZWnCzAA3lmGy5J8q5u98rI9YxThZHY+xszAh6dzM/OHoAx6HTe+E/zkyfzJnPPYHyU6G6Trm8gw/DL8x73nGILD/y/X/yJIM8++9+vj94qt3cszTP7CuwUhgDFkrYu5IMb47+uofA20BAMiZzWa0+fLuAAAAAElFTkSuQmCC\"/></td>\n",
       "      <td>not affected with alzheimer</td>\n",
       "    </tr>\n",
       "    <tr>\n",
       "      <th>80</th>\n",
       "      <td>/kaggle/input/alzheimermridataset/Alzheimer_s Dataset/all image/mildDem170.jpg</td>\n",
       "      <td><img src=\"data:image/png;base64,iVBORw0KGgoAAAANSUhEUgAAABwAAAAcCAAAAABXZoBIAAAB7UlEQVR4nGNgoAlghLM8HLiOXAsWXPfjzD+YEAuM4emptUDyodjNrq/bDpxFlXRVZmH/d6PyMwfTY3lTvd5LEFEmiBJF+986b5Kvf5D88Pqv0oYCXSQ7ucy85JSZL4lfY+NR/p6xjHc/++rdcJ1aP24f/jThyy29G78bDjJE/H0+0cYGZieLUiIj38Gfdw+kHL1qJvSf+Z2b4q/XMJ0G16Y9/rf7hWXNEv6n7gv//PvL9pHJG67T5shOneS1Z+9+/MNZ4PztjcQrK9bbMMnPpoEif1SKH+p8+izHK6uiffv9fn9Opn8QY/9/ffXs8K5fwuyRz89YSHDuWPldtfrEP6id12SkGWf+fyLI8kuE5R+7gIBnjXAqK8xY5ocX938W+/dbmeXLHyWhH3/uSXWkMMEDwdb55v2CXxKfXhvs/Gf3+u1TbtYZ9+GBcHiWHOdG3gfKN1cu42W4p86w5YY6UtjaGovKMjOdPKm3dslDja/8T7Yos8IlGXn/2f7ebbai8waLwmTx9T+q9af+hkfZ/yuqRjJsfzuffD3ZdEOQ45GZBHJ8nuK8EC/KyMX07dmt8E8JfyffQpb8tz/4iqQEN+tTbduvO9k4359HTSanODlO2f02X1yx02Thk+sYCex+vBnf6z9yB38cYKAxAACky8prCbKGCQAAAABJRU5ErkJggg==\"/></td>\n",
       "      <td>not affected with alzheimer</td>\n",
       "    </tr>\n",
       "    <tr>\n",
       "      <th>81</th>\n",
       "      <td>/kaggle/input/alzheimermridataset/Alzheimer_s Dataset/all image/mildDem171.jpg</td>\n",
       "      <td><img src=\"data:image/png;base64,iVBORw0KGgoAAAANSUhEUgAAABwAAAAcCAAAAABXZoBIAAAB+ElEQVR4nGNgoAlghLNWzRf79CP22UedyH8Ykr5S1hM+B/2wP8v68uwpqBgLAwMDAwNT/luHXzK/kj9vDnnI9UmHASrLBFHy2UdTccs0gf9hHPpPLLRtu5CNLf/2NPq6zu/90prLv+rdyOT+OHPLP5jOHgl7AaYvrbNN777mV7967RrrVw93mLGMx+VVkirXJvC93b3wl/tlsfWfz02UYoVKHvlUXv/tD9sk+xVy742fsD4L+HJF4hoT1LXznjDf+SspIXGbWeTj2v+2Yib/vD+cPQN1kLv6h9TvwszPf295Iaikqfp8uzPrn8s1UGNfqyUy1V14yv7P5ja7KsvLq8wFLNOXMkIlz3H+fPv63r3vvAy62kwif/+pCRS4MMHsZLj85BvTn29MAh8+vRJh+yV47p/+XrurMH/ue72MXfj/g0efk7d8+/7iBavYmcdz4GF7jUXK97bNd5mD97+/+flM4VjChb2/4WH7R/DNAm3ONwdZIuWufRV9x8EgYcEOD1v2eFPeFVZB0+xk/0f/nXf0wim+i0gBHyipqiPw/y7jfB/bsgZG5lenG5GibP1XdmYGVuVDNg/u1/EzfHh9Azk+GRY+/fX772fRn39P/fzx4925lSiSDPNefpz/98JJSQnuU+u5J2MksOwjhSzb1Jifv1zLQGMAAGUG1DJkV/tlAAAAAElFTkSuQmCC\"/></td>\n",
       "      <td>not affected with alzheimer</td>\n",
       "    </tr>\n",
       "    <tr>\n",
       "      <th>82</th>\n",
       "      <td>/kaggle/input/alzheimermridataset/Alzheimer_s Dataset/all image/mildDem172.jpg</td>\n",
       "      <td><img src=\"data:image/png;base64,iVBORw0KGgoAAAANSUhEUgAAABwAAAAcCAAAAABXZoBIAAAB8UlEQVR4nGNgoAlghLPcfnntv1/B9vLiArgQE4yh9tmZV1fh4M8rP21TUSWZawL1FLS5P//U6LbWyf9qiyLJdVc6S+e0IEsQv8Jf5s+iAsIQSRYGBgYGBtM7PA+YV12PqPeQPM11Il7+88fzcJ3Okp+CN7BqvN5vdf+Y2u6T1y5+9doDd2224H/GZb+nbTunySG66wULd9WZjV+eQ3X6CVpwMkkwlukFn//1kIFVUucrm4wSzE7hyxf/ZG1hSDj5gFNW3Hr5i7afahz3j0KNtec2t/73Q+LerYdnfodJMavfuPdDRCTrD8TYbzI6nC3nrjHLSbzhFmFT3DVNhv3Dl/9QO0+r3zzy6eV3LhlRhjcf+L59jOlXe7yBBeaVGerTPwh//8LNysIoK/nd+NG3hQKlP2GSYtflnb+/+MK2LFmh8c/rRzLKz/aFwkPo6BO+d6aPPh9/MpuJ8wLXsxt/dS/9gIcQC+s7nn+Gv/8zSrp+efRO0PTBOWYWuOQfBj7WPW/39f2v+Zm4/vzNG5JxN/4gYoWd632stBjP4nk8voysmdJfj6KkhKZLaT+Y/8+Q+qivx/nm782fHcgpoe7h00m/vzqwnt/55xTvNOYO1DQkpPeco3vpSS0XxsuiPKUYCUwi+PMBbh6HO++O/WagLQAA69TEBshBq9MAAAAASUVORK5CYII=\"/></td>\n",
       "      <td>not affected with alzheimer</td>\n",
       "    </tr>\n",
       "    <tr>\n",
       "      <th>83</th>\n",
       "      <td>/kaggle/input/alzheimermridataset/Alzheimer_s Dataset/all image/mildDem173.jpg</td>\n",
       "      <td><img src=\"data:image/png;base64,iVBORw0KGgoAAAANSUhEUgAAABwAAAAcCAAAAABXZoBIAAAB8klEQVR4nGNgoAlghLOMBTTOCBnv4/51EC7EAmMoBPPfMbjFoW8uzvVzH4okk5Exp8QHq/8/OMRYmPQFJZdCJJkgpM+r//ycj5+r3Tnx7o858w8dZJ0ear98/h8IfP+d2XH5dz19yesiB+A6Td2ue3x9xP3+5Mof+4RY3jF9tdeUhUnyidx/8J7tzq/lGrdXMIv+Lvx9aN4TI5ixWpzSXu9n3Ky5u/E1u9y/zf+5MjcyvGf7BdFpwPXkpKCAy7kTN3hZd39VK+Fj0Ln29D9U5523FhyMMbwXRa87n3cTtxG/tCFZ69F/qJ1aHcZSmdfe8skXHJLkYxO60ON9XE7yD1Ry0gbtDuH3Z3l//mZW5+Z6+8O9luPVD5hrWc3yf3x+z/hJi0eagVvm2/f/cuf478AD3lnulLbVd37ZayIy90SvcxyXYN1z/xssEPae+nP3nvjHjw8flr+QY+VR3/NHFBG2LEx/PnIz//zAxOz9cD/TT0YhZlEmuORf8bDc9Zdc7r9zUjjUY33nou+W1V/gkv9/cHPmsP4ILnlrNM/68xU983SUlOAlo2TB/HXnUyldxe9/d/PsuvAXEZ8M23bu/bmNlYmRgf/P9o/XN579ixTZDAyPXXZ8ZVXmOzXrxolvfNcwEph4pvFavrdyvP2vGWgMAGWXwbKWaoDXAAAAAElFTkSuQmCC\"/></td>\n",
       "      <td>not affected with alzheimer</td>\n",
       "    </tr>\n",
       "    <tr>\n",
       "      <th>84</th>\n",
       "      <td>/kaggle/input/alzheimermridataset/Alzheimer_s Dataset/all image/mildDem174.jpg</td>\n",
       "      <td><img src=\"data:image/png;base64,iVBORw0KGgoAAAANSUhEUgAAABwAAAAcCAAAAABXZoBIAAAB7ElEQVR4nGNgoAlghLP8EvlP3mO0/3t4NlyICcZoqzUX0pL+KfBK5Fo0mmRewpslH1+/PuS50Sj61fdUqCQLAwMDAwPnXc6mv9s8vplxZX79dd1BVbIJSdKSge+04V67D1xH/t1TzvjzRdbkDNzYYE5mTv6ZCvOlbumZvTN/wbp8Y6gXTJJZxkQlj33eH9Yj95b++Pc8/LdE1cNbMGMdJK0kv53jlebY+fTpqe5ghh++M5Ry86GSL+YvEerQZ71icp/z71H9MCGmP7nfFjH+h0gyLfkh+Y979/mvQr8/pYmpyX55cXBPxn+onTKf/m/pX/5BljvmfbIql+ijomfW3Y9gdm7nPmf7xe2UOSefj9h3hd8fI2ffnSQLk2Q69117A6voV8P99zQ5/zH8e+4mWSsP88q//wHPX7z+wvp3oWHXC84L3Me0jjDvgAfC/aNqGRuFP9y/t/Lzq7/fTj1/ZWb3HxF83J0SofxsJ79yKM4UcL6kNF/7AetveMSFbNmVeOGxrNqrx4ZK5yItzyUix8qrb/drmf8VRPxk2n5TrPqdoB6y5CF7bra/bFFbnv2JUfj7Y67pNZTIbn5yg+v5d01m9jXvvy9LWTEbNZnMeZG86HfRzY9v2DfbMh3BSGACVkFCNY7yuy2aGWgMAJY5yrJ4R2eYAAAAAElFTkSuQmCC\"/></td>\n",
       "      <td>not affected with alzheimer</td>\n",
       "    </tr>\n",
       "    <tr>\n",
       "      <th>85</th>\n",
       "      <td>/kaggle/input/alzheimermridataset/Alzheimer_s Dataset/all image/mildDem175.jpg</td>\n",
       "      <td><img src=\"data:image/png;base64,iVBORw0KGgoAAAANSUhEUgAAABwAAAAcCAAAAABXZoBIAAAB9klEQVR4nGNgoAlghLP8oy+dlozZIfmuFS7EBGO09yiceuz4xtd8T4Mvmk7TQEuNm3sk7nifsuf7d3PfTBSdXE/YT0Xqc3zPP7P5Brfyr2JWhCRTgEvqnf56zZ9ihXzst+4L5/DpIyT1BZ+ce8/x+Ob3pWck5T8uvTuXlUuRgYGBgYWBgYFBxY9Vu+OV3lYj5l0CP1X2f8n/9P3KfahO85QzhjsPsu5s2MPB1+O05CP37cPfTZmhkoJv9FbJFKh7x9wXZa94xqWlJPLv/vu/UGPfPj5pocAaeDPr/aanFWy5Ome+BHDxwhzExZ0W+eDWSlFBjv/1zNxml/uk+v6JwSQPslx+1ftHiFNSMOLTf5mvfzPXu3GegUky/+SNev7r7wcpzlPPVbn/Mr49M+npMZhX/s5XEeJhYbzJsfTHMc6g499+21v/qoMHwsXrmgFfZZiOct18x/P2ofIb8TfbmRFhy3/oGc9X9m+3Df5vOG9+UWv/jxN/4ZKMltM0DzGdnPa7as6DBU9O9L3cfgcpyuIYYjW3MjCb7QgR61H68eMddymSJGPnpeY7Cp/KDdUV5J4KfDl/fBXCWIb/ZfqP571lLBZcuOz/9i1nvi//i5KGBBoeBZ98+N5c5MvfJoErUEEWKP2hQFz36vVXwt/WP336hIG2AABOMc5LvvGM9wAAAABJRU5ErkJggg==\"/></td>\n",
       "      <td>not affected with alzheimer</td>\n",
       "    </tr>\n",
       "    <tr>\n",
       "      <th>86</th>\n",
       "      <td>/kaggle/input/alzheimermridataset/Alzheimer_s Dataset/all image/mildDem176.jpg</td>\n",
       "      <td><img src=\"data:image/png;base64,iVBORw0KGgoAAAANSUhEUgAAABwAAAAcCAAAAABXZoBIAAAB/0lEQVR4nGNgoDFwdz7sFTXlRkoHQogRxijk/+t35LfEYwHZm6+6USV1XKJ4OB9+fcO0J1KB5cvdYBTJ2ZqfDa19d0knf321aOesJ/+W/ENIpjBoOV7/cu2v7fuPDyXdjnkeutf1l4GBgYmBgYHBXErpGn/Px39KWy+u+8UXF/5OyMKbgYGBgYWBgYHB3Nrg6ypZntcnX7PHMT2Xvq43RVZvE1SnvfbGeb+fvGKKU2b+/cdg+TvxV/E/WBmgksz3tHjZ8pQ/3374mWHdIaPt0r+ZeR/CJAV280e8ZJ4gpaztxeZp23ngyBxmVX4mqOSPXrVN/4qeOJwTvh74/62QQp3rYs1f/6FeYezXvvyY21aYbYbUD46UV29e9wi9kVsP86cZi+43PTHV72JTDWxeff707qraj42nYf6UUfvq+F3grcS2VxPP/PorsO+i1JILcH+uU5B+zyL8iEHy2m8WmQvfFeR3cP2GSzKKRJ3/pqh16I70p0f8T9ikn7u8YYB5hYHn99dA+T3iZ1jX7D5xXY7hq866bUix4saoVMHI84a7JEPzjtTL10Ix9xA6GXY90fn957/IPp691yV4xe6f/AOJSBYIdfXpvpBvLLfZHxxS+6nzcu5zFEmGzrqbq755VTrZ1Qm8Fn7BgCr5t/7nnv96vw89/Hlq03/0tEdlAAB5zc0XTZfffAAAAABJRU5ErkJggg==\"/></td>\n",
       "      <td>not affected with alzheimer</td>\n",
       "    </tr>\n",
       "    <tr>\n",
       "      <th>87</th>\n",
       "      <td>/kaggle/input/alzheimermridataset/Alzheimer_s Dataset/all image/mildDem177.jpg</td>\n",
       "      <td><img src=\"data:image/png;base64,iVBORw0KGgoAAAANSUhEUgAAABwAAAAcCAAAAABXZoBIAAAB9klEQVR4nGNgoAlghLO2/jwq/mN/+Z/HWf9hQkwwxtwDWjweEvYf2f/d2Iams8lD892Xx/s0GcTfGh/k37UAWSej7ZNPT/1Pc9xk/Tjd31HPphNJktn60/OvMSq/HQw5Zvn+iH/27k4aQjIp7azvxX8663/e/f+V898r7e+aBikMDAwMLAwMDAyGxrofG9l/Ge3/sryU8f+/HaGrT1yF6XT7uLPmhdLf/UkGB62+n9X5a8QtzvcLJil0+LKezOxfoX+Oa706++W7ssBvw9wKRpixdlY8jJ9PXfvE/OWhv0CxzLMfIt8k/0N1/tAREI1//odL0uxOrLgo08X4B3MP3WWESm7493Mj9+uTIgzsfnLMLEyPXEu1j8xggXnlybmJn3+I/1LSVmLhlWdilxSdIMX7G2bn5jcJP57w/hHfNe/zgjuMHMxfWHdegQfC9k+HNv74xsDS+YOhXeuexHOmMCYmRNj+Ff32SYVxDev3v8832zy+bLXtwz+4JJOlYBf7wb91nOvl31TwnrxYlPUEKcoMe4T+C+3fPe2a+r15hf94tzKmIsdnUtx7q18MZ/s9hH0/cn9vP3wHOSXMO/M0+Tcju++BH9/eZu8QhchBvMLAwFChn8/4YarUew72o0r99xlQJf+cnfj5LpPu2ffbT2z6w0BbAADvQNAmgQTvygAAAABJRU5ErkJggg==\"/></td>\n",
       "      <td>not affected with alzheimer</td>\n",
       "    </tr>\n",
       "    <tr>\n",
       "      <th>88</th>\n",
       "      <td>/kaggle/input/alzheimermridataset/Alzheimer_s Dataset/all image/mildDem178.jpg</td>\n",
       "      <td><img src=\"data:image/png;base64,iVBORw0KGgoAAAANSUhEUgAAABwAAAAcCAAAAABXZoBIAAAB50lEQVR4nGNgoAlghLNyvxvvlne4KzDxIlyICaYoiT/mVslrSX32UPtQmCQLRMrFitfjsek7iTviR5Neevxbi6zzv66e8IYrirtkNyf71rjNemPLi5BkN/11QnOvzH4twbd8v59O0VH8qYeQtEsR9+19ILfn11nTvrfvb/OohX1UhEu62iT+OstSV7P1g9rHZr5fC81Py0rBJPX5vbyVfvHc/KP15uKn/1+Fw5UrxeRgkpxbpZgYWRmZlb8F5z1hlTLJ3sfNKQULBI+P2hHikrsF3qx9+s/Tlk+xNH1jyMHy/xCdvzPK1XvWaMtwBf7UlD///4h4ayyTMBPU2L1OB88f+nqCV/zH34cs+jL/JBneFM7/C3Ntk2YZE8/fG5JGkp/l1T/zCAukpArDvcK15x3HX1EOnrBf/+LEX/9nfqPWugkethNlRH+ccuG6zf76B8dZwcfbfvz6+R8RtmwsLFZsv+6y/mT+//CqmAgHhyhSfIY8KLhkvH0Xk+Kz/39NAub0/bZAkixRk1Y6dIjBOpQn55SahvOetTeRU4Iyx0KWo7bPz57r3v1E+OqDVxeQU8LdnCefLP6Jvv4cZi/CFPf4AnJKYGAoazvImLNui04M77ljqtcxEpiowgepu9HqX38VM9AYAABJc7egNTWDCwAAAABJRU5ErkJggg==\"/></td>\n",
       "      <td>not affected with alzheimer</td>\n",
       "    </tr>\n",
       "    <tr>\n",
       "      <th>89</th>\n",
       "      <td>/kaggle/input/alzheimermridataset/Alzheimer_s Dataset/all image/mildDem179.jpg</td>\n",
       "      <td><img src=\"data:image/png;base64,iVBORw0KGgoAAAANSUhEUgAAABwAAAAcCAAAAABXZoBIAAAB+0lEQVR4nGNgoAlghLPcvJReNk799mXtzv8Yknkaqt8/bDJQOaT2ceM5qBgLAwMDAwO7v/Z3m5PfOZTFvjnJvvylvhwiycTAwMDA8N/hpcvz+k0KAiy7H6/gNjZ2YkFIsnnu92a5Ktz2/ueP55w8K3ju+TkjJGPsZRe+7U6+/OTNGpsDAvs+xX8z0IRLPn+rlTOf9emRp7fF/5ZP+r3nq+b7XzBJT4H/ioxXGY7IKz+7LByt8P/pzy3PJVmhkh942Xt+x7L/W2pkbeUS9p+lljs3O/oP1J+ZEqz2fxnvcH55ffRhhCKr6OevM0KOr/wD0flQhfvp2+rTnD//ftHn/Sn8fcEsmbX8f6DGbvsiyVXvoszKLa6nwcnK+Mzk9qm7Z9hgrn2zN/PbH9Ybymz/H7BLvv/6gjPZiOEXLPiOf/khxcCiyLD21ueDy2/8fcn6lG8D3J87fjqxMjN+vnvtG6PquR9q39KVfiFC6C/fDTkhKcaHH/8wn/2u/1h5aqcaC1zyf8UnmzW/js9kbYxn6fnRJ5iv3/YHEStMvRLlvEwSW5a6zFF6Ntf5nvMf5MjWdY5+LsTY/MRJxeTHa/6jix4ixSfD5XePfmxh59e6OOc3E+OyDQ+RUwIDwzoWAe7dYccuR199K8x5GSOBCcq4f91vqbPxyePfDLQFAEKWzJPbujz2AAAAAElFTkSuQmCC\"/></td>\n",
       "      <td>not affected with alzheimer</td>\n",
       "    </tr>\n",
       "    <tr>\n",
       "      <th>90</th>\n",
       "      <td>/kaggle/input/alzheimermridataset/Alzheimer_s Dataset/all image/mildDem18.jpg</td>\n",
       "      <td><img src=\"data:image/png;base64,iVBORw0KGgoAAAANSUhEUgAAABwAAAAcCAAAAABXZoBIAAAB6klEQVR4nGNgoAlghLMC/YSXKO0Kdvrg8xcmxASl5fza5FnV1slMeX1tizuapLxK9mEeBf1+lrl3jYQ1XKGSLBDKIklf4xGDxXUdaT4eAa1Ytt2/EDpdL1xa8/Mf34Uj9xmFOJld3gXpIYw1vBNr4cXCfvfNY5Z3in/ufdr2W8sYLvlZyoMnxlqU4eOdG4cKvsUfSLwmx80IlVTzec7whIc94cy1z7zHEqcYH+Sw0BSDSf7S11+g9PTvHykGvjsWe/5JTljT3CIJCwRjloCFq9n4Fz32vGdVFSGj++fs4aWcd6GSWqGbZp+x/sP56ktOnTaHyMllcVzHV139AzH2muKKuUfvcnxl+v59H8evJ5ymc5hcA/7AAuHERdlvLE8EVHbynLps9eGn5P2r++/DQ2idwH9JaXa2dzIimayv7/x++nE2/1m4P19952ERY7zDs0L5xWOxt1rMerb3GRHBx/Lx4Ro2810PnY4bbPTaff7x+uf/EZIZojqZahw9TiKXuV//F2k0kfiNFCtbfYL/H3Cssbqjeyf9j/w/dcYLfxA6D/HPeOLPbbtlkftFZgaVSUyMKJGdJ8E2neHnL4ljUv9/LojqnvkHNQ0JRVuzqV3e6HIkrP3VTYwExqDyTyx8q8Xl889/M9AWAABmyLtl5BEK3AAAAABJRU5ErkJggg==\"/></td>\n",
       "      <td>not affected with alzheimer</td>\n",
       "    </tr>\n",
       "    <tr>\n",
       "      <th>91</th>\n",
       "      <td>/kaggle/input/alzheimermridataset/Alzheimer_s Dataset/all image/mildDem180.jpg</td>\n",
       "      <td><img src=\"data:image/png;base64,iVBORw0KGgoAAAANSUhEUgAAABwAAAAcCAAAAABXZoBIAAAB9klEQVR4nGNgoAlghLPSdJ9/v6KiLr1m9T+YEBOMcVr91/dvxndY/jIa9aBJtuh89Pjm/1LU6G3DpblGbqiSgknSLz61Pvylav7xW/DX3DxkSaN/Ur9nHAsoO8u2NIDhx6RTqjEIyUq7m7d/q+XMPKSzWcvn99+7ITa3ZjIwMDCwMDAwcL8OVv1debzZ7MmPP+ekf7P94FuXdxom6atwTZjzullX/6eNX9oD+H78f//u7B/G/xDJq894jxdVnfB41Kvx9Kcy+z1RlvBP+9dAJb3VmBn4zF0vvfM//PN8sfB/qaUrBe3+QR10Qdxc1PXZN1ZB1Y+GDNwfRNq+2z/kgrl2x7dvbSmf3kuzixkbyzJKfgkVPPh/B8xBzE8PPvvF8vuX7H8+Rj65D69/TmflfgmT/NstrC78nIHjx92sOFbxL3+/2mrNuQcPhGevOLb++H5D9sTUr194Hn2ZrfHB6i9c8r+AscZ/Kd6NbBqcV/frMv6+8vUkI1yS2enIwTNbTSvYmLadLOW98F4u8u5/uOTfTvGwuOg/fiW7Px22YlQNM5/xGzkltGnxKDEy3zzxUjSO5RV3/cuDCJ0MDFWnLt349e3YB0H37xve7eA88B8lDXEsvGr++NWfHSaxe56fPg0VZIHSP8LF/mowvNRJSYqdxkBjAAAuN9aqeN53TgAAAABJRU5ErkJggg==\"/></td>\n",
       "      <td>not affected with alzheimer</td>\n",
       "    </tr>\n",
       "    <tr>\n",
       "      <th>92</th>\n",
       "      <td>/kaggle/input/alzheimermridataset/Alzheimer_s Dataset/all image/mildDem181.jpg</td>\n",
       "      <td><img src=\"data:image/png;base64,iVBORw0KGgoAAAANSUhEUgAAABwAAAAcCAAAAABXZoBIAAAB8klEQVR4nGNgoAlghLOqOK2e3X4a8HX2gb8wISYYY8onV5bzp+NkdGeuNEXTmS+hLcjxlPGT2nMO3WtLwr1QdPLK3BFPYvy/8+as3DjFsEX1SJJMZYx7tOepX2D986G29cmqj0oH8xjhxurL6RtJhG/79XePwi615T8OntFbuWM/VCdrmByHYhL3sqKpvK2aal//dOhPX2kOM7ZBjzOa7ZeSz2y56SGW76W5Nf9r1qnxMDAwsDAwMGznlNpulX7n/I53Bvd4GDh/2L/Yc4ntB1SSgevbf1EvgTtKu19ftxXxlbwvXHfnzBmopLSozs/VzFJsYo69wRLcf3esKD4Y8J75L8TOldIHH0yXElFk/h8gxCT4R8ylQG9Hx1+YPx9/L7H7xPBBTGz/E3WZ798FmQ/s4oQHQv8UG26+D5yfToUfWv7n5afnbBZ2p+CSx/zVfzN+e/j712Zu1h8sDCz6zBsYGWCuZTj8OpxB88/Z50XME3eYPvl/es/P/whJe0a9J2xPpi78X7jUo/ihsM7eB0ixclHxr/F3rh6x427f+pgjlO+KMCFJ7uOWELKxUT5/++dbNYfPTALR/5Akf8euvPd2/8/ln67u//ufQ8asEDUNcazbIBR57rSGwWwN5ruzMRKYnOoTjwvijqtvPP/PQFsAAI1Gv7Yxbe2FAAAAAElFTkSuQmCC\"/></td>\n",
       "      <td>not affected with alzheimer</td>\n",
       "    </tr>\n",
       "    <tr>\n",
       "      <th>93</th>\n",
       "      <td>/kaggle/input/alzheimermridataset/Alzheimer_s Dataset/all image/mildDem182.jpg</td>\n",
       "      <td><img src=\"data:image/png;base64,iVBORw0KGgoAAAANSUhEUgAAABwAAAAcCAAAAABXZoBIAAAB70lEQVR4nGNgoAlghLPW3+TaxJv1XHj6zt8wISYYo6BLgzHhl4ACS+XqUjTJuibteT+4+Djf7RUTuXi4CVWSV9WCe4fyd6N3ga/Oxqd+04GIsjAwMDAwuP0WZLmdx/FY9+HMr1+Mbh+N274fLmmZwf31W7eH8S6uh28s7WwPq8vcYd4DNVZYa8ZF5Wjtu2Uux686Gk3leWDA5hoF06lt6c/5888T2fyef0zvZXT2CSy59usnzEG/7xVt5GZ5If/uj6zApS3vO/h5bjOYMkJ1unpFf3u8kuvlbc7X3wql/msesw3b+fk/VOffj/f/tl/68k0q+FM85w/xZ9W9H1Vc2aCSrTzfTj58fUjmjwC7CJvwr+cp97Oe3f8FC4RXX/oVv2v+ZNfU+iIo9fEnO5Nq0wt4CO2ex6AvdPW3Ur7UjFlcH7/81BFVK4ZLTntndp9blO3X680M/5Z9FHsrpMrGjAhbxgsvd6qJHmFlZHr7T+r4Kc3nnIzw+GRy4vjvp/0vgrf+X92PvY+3iHAXIwL+n3zcs4Vff/IvX2e8JeHc9W/uF5FTAmO9AocW+7dZEqcSlf4wivj8uYkUn/8bVsv8+fv72G6zfR8ZOSYG3URNQwKeGZed323d5G9xiV80HCOB+Qi7z3maLPxuxv1/DLQFAEYbxufiFaTdAAAAAElFTkSuQmCC\"/></td>\n",
       "      <td>not affected with alzheimer</td>\n",
       "    </tr>\n",
       "    <tr>\n",
       "      <th>94</th>\n",
       "      <td>/kaggle/input/alzheimermridataset/Alzheimer_s Dataset/all image/mildDem183.jpg</td>\n",
       "      <td><img src=\"data:image/png;base64,iVBORw0KGgoAAAANSUhEUgAAABwAAAAcCAAAAABXZoBIAAAB+klEQVR4nGNgoAlghLMSFThVdz+3UjvahSnZGLRd5t4r2ztPLW8yNEHFmCBKYuN+/zZnvKR1g+Gn9g++fBTJ/xrGAvydl7NerzLw69VhiFiBLGn1TD10qe1/7t+hp/+aHHY/fT4AIVn/nVf7MP/9YD7JXYeFJ2y95peh68HAwMDAwsDAwPFrOvPXI9tb5ipvtjeL+ct0xaZN4hHjf4hOg9X9n16f/dcSK8pzTpCBhUFyb55GKyPU2If/H7Zx2DFxLfjM+OrENz0pH5PjNxn+QY1VNnXl/paR8OjBfME/d6dJ6M93PRZ9DeYgiYAfPP2bBZXNe959ct7w+wZzR9C0nzDJNe//RTwSO/uJ8Q+fMme+wttDnCc9j8Fcy5LP6qrMwckt+d/jHa/qLSaFb1qX4Tr/8Pxifzb51c+7H6adPX3782eFC0x/N8ID4WqGEJ/W+weGEzlu7+S5zfOLuU0EEUJMD65wvTsjvF7sC8PdS7ZfRR6wL2WC2cnAdIhB6nLKnft7ejgLV92WebOG1fgfXPKPkLlKOPMm9iPMf/ZvYOJnPv7wLwNckuHYV8YfNom3X2z5yRjE/+rfm+3IUcZw0dJqwx+m+hMCz0Sffrsy6RoDkk4GhpzuHRKK7M+uJX+b8UbsAUpKYGB4Gffryy0PxRv3PujvXc5AWwAA6zLKgxvter8AAAAASUVORK5CYII=\"/></td>\n",
       "      <td>not affected with alzheimer</td>\n",
       "    </tr>\n",
       "    <tr>\n",
       "      <th>95</th>\n",
       "      <td>/kaggle/input/alzheimermridataset/Alzheimer_s Dataset/all image/mildDem184.jpg</td>\n",
       "      <td><img src=\"data:image/png;base64,iVBORw0KGgoAAAANSUhEUgAAABwAAAAcCAAAAABXZoBIAAAB+UlEQVR4nGNgoAlghLPybLTjpSv+bpfKhgsxwRjJ5wUaOxz6/4bfnuSEqpPZMP572HbedRHs+z4XPLq69hSyzr9/37jdv6pgvuiNquq8jy5RjkwISXafUEfpTbbVTnrP2I6bXBeVUvdjZmBgYGBhYGBg6FvtKHTm5YHkZy8VNDgfvfl6P/nq190wyTfVkn+z/qbdPnzTk+HTicfJfr1fPzL9g0hG3vz4X5yZb96pz6+u5OxTeMrI4iV04sIvqJ0P35/4zPO2dOH+H++D73ArS+7/xyH1C2qsah7v36MrGV9/MTzK2CInwnOZkzMvlekfROerL2sT7Sf8YmRy+64j/YvlW9qDOdlz/8ECYcMzvt2q2kZP3/TZm4tz3mfJYvoreRTmz52rHzzTEP2vxfnqkoQi+9cbDBoG/PBAuMW2wIDrxVuGtjbDtU+u/jj57/GNbYiwVQl9pGTCzx0ge09w+3GpkgzpE03wEGLx2PJPko/vHHMkY8cR/Ruam7nf8H6GGfvn0M9I6S/fG9gDGJibWPdf5ji39zOSsaUS/JKvXjj++ca0xf7DFdNbUQxwYxnuPLf8+02Ap4/t77WuX3dcen4zIEkyNHyXeBvKJfjklOWfXYzs2nmoyWT6UdPKH5+2c8o9Fpy5IQ8jgdmoeF+8eD6SefnTPwy0BQCqssz3jdp5cwAAAABJRU5ErkJggg==\"/></td>\n",
       "      <td>not affected with alzheimer</td>\n",
       "    </tr>\n",
       "    <tr>\n",
       "      <th>96</th>\n",
       "      <td>/kaggle/input/alzheimermridataset/Alzheimer_s Dataset/all image/mildDem185.jpg</td>\n",
       "      <td><img src=\"data:image/png;base64,iVBORw0KGgoAAAANSUhEUgAAABwAAAAcCAAAAABXZoBIAAAB7UlEQVR4nGNgoAlghLNybRcyvGUV8f9QABdigTESjBltma4+4P/B6/vqJFSMCUJ5F8h/72X/fcf9w1XmsCh/VEnBT3yNj4/x6P4Nk9/x9a1nKJIkc+69n/OZWLxZGARvT7VcxrBJxYQNLhklyOr9icnv9KUPHxa5Xb8vHHzEKQQmySUsU9DE/P/cbdb/17wtdrH3SGl/FYZJejAJ/hL8w/H4korKdck5rIL/3nro/meCSh58dfhbCNNvHs4P255PVxF6XcLMcO8rEzQQapT4Oe9yXOB/vUNSTFqKS+P7tev2jJlQnT8/XHxxj9VZUDniI58YF9vVvaddJiyDB59w8/wnxez8zz5+42HlE3r9c5Zs2r6FsOArnvzdnP0XoxTHR04mk2ssz7jv3zoLD9tXHzh5/vxhYvl78n/czZcMHxg8Ll6HB8IMVifWty8u8V45f/ncq+967/6LPOGBS/4Ju3vsmSLPMS5thV+MujeeGT5r+giX/PfM0urbLYPTO7PT1m1kvaKoKxKECPh/5+7Lioh85enj4O1n/CPzhfvPH+SUUCbBx8324+D/bwF//v9h/nVg8T+k+Ow6xjXrGfvPa5+v/P7NsXrHwn8oyWS3GMvPbw9ei554JP3IuBYjgYkGvnLdIqB59eDL/wy0BQBxIcXQSRvFbAAAAABJRU5ErkJggg==\"/></td>\n",
       "      <td>not affected with alzheimer</td>\n",
       "    </tr>\n",
       "    <tr>\n",
       "      <th>97</th>\n",
       "      <td>/kaggle/input/alzheimermridataset/Alzheimer_s Dataset/all image/mildDem186.jpg</td>\n",
       "      <td><img src=\"data:image/png;base64,iVBORw0KGgoAAAANSUhEUgAAABwAAAAcCAAAAABXZoBIAAAB6UlEQVR4nGNgoAlghLOMFCT/sOxxLVpRBRdigjG0ORWS3kmF+NaqzQlA0ykv7nA5UYx5moCYqdiXh8t2Q0RZIJSeWOGfP6++BGwx/PXEzFBdZj7CWFbrmxfOf9tzRYlTXvLn3m/3Ku3sEMZqeNgy8W3b3ST17qnYFFM1Xcbul9eewYwV8JLl8WCJ6YjZI6X79dj2DSdNnv59BjVW6TXz/9/8nOs/8Ny8rvf7E8MrgVc778LsZPVM9Gd48/e75k3dX7sdJGwlJdTspRmhdmraWfm84vxz6fPylyLRvLw6f5doa+9LheoU9GZ/sXclPzuvF3cBr6TSi6YfIqskYMYe+8GY/d72kpiI5PNnrN//vpZ4dontJNyfJd3PrrJ+lfjLx32LXfvLD47DLdeWwUPINv3Qx6/vfxrY/D/8yuTRX3GR6tfz4ZJLVVlZHv/l3fjhPzPHMam/JWEPFv2HSzJvfCYkp33kPesf8c2a0uflpb78QUgyfav4N8FdYybzErHrxbb/w+/L3kfEym/V19+jdZ9wnnzNaz2PgcOchYHpHyI+GZeKn/fgYG7XXpunzfnv/YFflSjJxDKai9n25ctTyjZbv754shE1mZz/O+PaffHz18QfMy3h2oiRwGQEg/We7nX4c3U+A40BAKYnv4WuYRqlAAAAAElFTkSuQmCC\"/></td>\n",
       "      <td>not affected with alzheimer</td>\n",
       "    </tr>\n",
       "    <tr>\n",
       "      <th>98</th>\n",
       "      <td>/kaggle/input/alzheimermridataset/Alzheimer_s Dataset/all image/mildDem187.jpg</td>\n",
       "      <td><img src=\"data:image/png;base64,iVBORw0KGgoAAAANSUhEUgAAABwAAAAcCAAAAABXZoBIAAAB+ElEQVR4nGNgoAlghLPU0rnP/L4WLnxxAqakap4i770PrMrsx38+mYcqKRmozmD17d7Xp0bfFERXc5VCRJkgVKz5L/O7Ozg5ZJi+32f2etWOJMnp/eu05xe+hzceMYu8fPvh+t21TgwMDAwMLAwMDAw2jPpfWda/8b316Zay9P/7ygWMd96fh+l84a2ls+SX1SPFrYwVO/+W/+WddS4IptOgUIaH4fSHIOE9LCeSgqPFuP9n/r/G+hviWjPZj6ZRv0pUGT9d/sohFium+EX4zT8bqE7twK+Sv/8tOf11quxLJwNF8Rc3r21TZfoHsXP/dSnRv1n35RSKnrGZigk+OPJRrZMJZueDC+8dFng9Vf3GZqTBxfTu2Rtb9rPM7N+hrr31hvnQa8Zf8v/Uef7ysHKznXt59ft3mD9lX5W5az8T+KL485DLjd+//+yVuvgQHkIbvn59yyRxm3/n7F2HP9/iYjLTlP+LCFsLn9sXhH694hbl/CLF/+yP+WchZnjwMexuvsy2L6bl+FpBS0+3DSIvlSYjxYrYeg8LLZYv+/kYL7Hrut5Ql0KJz0n23/8L/d97WYrL4/dH6adL5iDHZ17eO9aLX7XZP73/xsF5fhFEDmonA8Oto2+EDZftDPj4+84yWbRkwsDAIBPzWuekuubXznt/GGgLAKnHyaDEBU0TAAAAAElFTkSuQmCC\"/></td>\n",
       "      <td>not affected with alzheimer</td>\n",
       "    </tr>\n",
       "    <tr>\n",
       "      <th>99</th>\n",
       "      <td>/kaggle/input/alzheimermridataset/Alzheimer_s Dataset/all image/mildDem188.jpg</td>\n",
       "      <td><img src=\"data:image/png;base64,iVBORw0KGgoAAAANSUhEUgAAABwAAAAcCAAAAABXZoBIAAAB80lEQVR4nGNgoAlghLNc0mXqhIP47xja/YEJMcEYJcWiO4OeiDy0fGFUjSrJpN3/WF6U7euv7wdDlOXPT0GR/MctmsGeGPnGgcP/r1dJyetmZEn9rqvy15NeKTBP17BT8Rd6882GkYGBgYGFgYGBwbZgQebfl5u0JXsUDolz3Gcp+yH+5AFMp/YeaZ66VoUJc/+83Wp5hPHMm62XXZmgkiZsPFq/LgnfzWRm+252ko9XhlUmVOg/VJKbS+3Fjxw+9/WPRX9uk+X7pyRmdV/sP9ROXuafnuz+Fl/lX7znTlEzUXxbaj8jCebav9Y3Hl3r+Mou4/BCT+yf8IXS3P1KbDDJ7dv28+Wxfeb8J/3bmJPj34+gc3pq8xihkhwHrVKShf/+URNRZ+KQ/fv//FrO37wwB/34eyTjAOcTljtn+ua/vneXm5dro/1heAhd+8P2643BVbMvq/594nv/7L6T83xE8LEztt8SPHB1q5Bm1IbTut9fif19xwqX/Cnaa8ytFbtqmf6naz1CFyvVWU/+RkS2RZcYy2+ebf5MDD8XJHw/e+NXO3JK0Kl86ff/75ZXr81c3t+xv9R2mAEeKwwMV7aZL/oZL/hZ7s2PW9vu3D2Mmkw2fTnx+sH/g89Uvv/5O3cRRgKz+m326PF/R7FLKxhoDADJcsjknFWFlwAAAABJRU5ErkJggg==\"/></td>\n",
       "      <td>not affected with alzheimer</td>\n",
       "    </tr>\n",
       "  </tbody>\n",
       "</table>                          </body>                                                          </html>"
      ],
      "text/plain": [
       "<IPython.core.display.HTML object>"
      ]
     },
     "metadata": {},
     "output_type": "display_data"
    }
   ],
   "source": [
    "train_data_alzheimer.explore()"
   ]
  },
  {
   "cell_type": "code",
   "execution_count": 83,
   "metadata": {},
   "outputs": [
    {
     "data": {
      "text/html": [
       "<pre>Materializing SFrame</pre>"
      ],
      "text/plain": [
       "Materializing SFrame"
      ]
     },
     "metadata": {},
     "output_type": "display_data"
    },
    {
     "data": {
      "text/html": [
       "<pre>Warning: Skipping column 'image'. Unable to show columns of type 'image'; only [int, float, str] can be shown.</pre>"
      ],
      "text/plain": [
       "Warning: Skipping column 'image'. Unable to show columns of type 'image'; only [int, float, str] can be shown."
      ]
     },
     "metadata": {},
     "output_type": "display_data"
    },
    {
     "data": {
      "text/html": [
       "<pre>Further warnings of unsupported type will be suppressed.</pre>"
      ],
      "text/plain": [
       "Further warnings of unsupported type will be suppressed."
      ]
     },
     "metadata": {},
     "output_type": "display_data"
    },
    {
     "data": {
      "text/html": [
       "<html>                 <body>                     <iframe style=\"border:0;margin:0\" width=\"1000\" height=\"900\" srcdoc='<html lang=\"en\">                         <head>                             <script src=\"https://cdnjs.cloudflare.com/ajax/libs/vega/5.4.0/vega.js\"></script>                             <script src=\"https://cdnjs.cloudflare.com/ajax/libs/vega-embed/4.0.0/vega-embed.js\"></script>                             <script src=\"https://cdnjs.cloudflare.com/ajax/libs/vega-tooltip/0.5.1/vega-tooltip.min.js\"></script>                             <link rel=\"stylesheet\" type=\"text/css\" href=\"https://cdnjs.cloudflare.com/ajax/libs/vega-tooltip/0.5.1/vega-tooltip.min.css\">                             <style>                             .vega-actions > a{                                 color:white;                                 text-decoration: none;                                 font-family: \"Arial\";                                 cursor:pointer;                                 padding:5px;                                 background:#AAAAAA;                                 border-radius:4px;                                 padding-left:10px;                                 padding-right:10px;                                 margin-right:5px;                             }                             .vega-actions{                                 margin-top:20px;                                 text-align:center                             }                            .vega-actions > a{                                 background:#999999;                            }                             </style>                         </head>                         <body>                             <div id=\"vis\">                             </div>                             <script>                                 var vega_json = \"{\\\"$schema\\\": \\\"https://vega.github.io/schema/vega/v4.json\\\", \\\"metadata\\\": {\\\"bubbleOpts\\\": {\\\"showAllFields\\\": false, \\\"fields\\\": [{\\\"field\\\": \\\"left\\\"}, {\\\"field\\\": \\\"right\\\"}, {\\\"field\\\": \\\"count\\\"}, {\\\"field\\\": \\\"label\\\"}]}}, \\\"width\\\": 800, \\\"height\\\": 680, \\\"padding\\\": 8, \\\"data\\\": [{\\\"name\\\": \\\"pts_store\\\"}, {\\\"name\\\": \\\"source_2\\\", \\\"values\\\": [{\\\"a\\\": 0, \\\"title\\\": \\\"path\\\", \\\"num_row\\\": 11521, \\\"type\\\": \\\"str\\\", \\\"num_unique\\\": 11521, \\\"num_missing\\\": 0, \\\"categorical\\\": [{\\\"label\\\": \\\"/kaggle/input/alzheimermridataset/Alzheimer_s Dataset/all image/mildDem0.jpg\\\", \\\"label_idx\\\": 0, \\\"count\\\": 1, \\\"percentage\\\": \\\"0.0086798%\\\"}, {\\\"label\\\": \\\"/kaggle/input/alzheimermridataset/Alzheimer_s Dataset/all image/mildDem1.jpg\\\", \\\"label_idx\\\": 1, \\\"count\\\": 1, \\\"percentage\\\": \\\"0.0086798%\\\"}, {\\\"label\\\": \\\"/kaggle/input/alzheimermridataset/Alzheimer_s Dataset/all image/mildDem10.jpg\\\", \\\"label_idx\\\": 2, \\\"count\\\": 1, \\\"percentage\\\": \\\"0.0086798%\\\"}, {\\\"label\\\": \\\"/kaggle/input/alzheimermridataset/Alzheimer_s Dataset/all image/mildDem100.jpg\\\", \\\"label_idx\\\": 3, \\\"count\\\": 1, \\\"percentage\\\": \\\"0.0086798%\\\"}, {\\\"label\\\": \\\"/kaggle/input/alzheimermridataset/Alzheimer_s Dataset/all image/mildDem101.jpg\\\", \\\"label_idx\\\": 4, \\\"count\\\": 1, \\\"percentage\\\": \\\"0.0086798%\\\"}, {\\\"label\\\": \\\"/kaggle/input/alzheimermridataset/Alzheimer_s Dataset/all image/mildDem102.jpg\\\", \\\"label_idx\\\": 5, \\\"count\\\": 1, \\\"percentage\\\": \\\"0.0086798%\\\"}, {\\\"label\\\": \\\"/kaggle/input/alzheimermridataset/Alzheimer_s Dataset/all image/mildDem103.jpg\\\", \\\"label_idx\\\": 6, \\\"count\\\": 1, \\\"percentage\\\": \\\"0.0086798%\\\"}, {\\\"label\\\": \\\"/kaggle/input/alzheimermridataset/Alzheimer_s Dataset/all image/mildDem104.jpg\\\", \\\"label_idx\\\": 7, \\\"count\\\": 1, \\\"percentage\\\": \\\"0.0086798%\\\"}, {\\\"label\\\": \\\"/kaggle/input/alzheimermridataset/Alzheimer_s Dataset/all image/mildDem105.jpg\\\", \\\"label_idx\\\": 8, \\\"count\\\": 1, \\\"percentage\\\": \\\"0.0086798%\\\"}, {\\\"label\\\": \\\"/kaggle/input/alzheimermridataset/Alzheimer_s Dataset/all image/mildDem106.jpg\\\", \\\"label_idx\\\": 9, \\\"count\\\": 1, \\\"percentage\\\": \\\"0.0086798%\\\"}, {\\\"label\\\": \\\"Other (11511 labels)\\\", \\\"label_idx\\\": 10, \\\"count\\\": 11511, \\\"percentage\\\": \\\"99.9132%\\\"}], \\\"numeric\\\": []}, {\\\"a\\\": 1, \\\"title\\\": \\\"label\\\", \\\"num_row\\\": 11521, \\\"type\\\": \\\"str\\\", \\\"num_unique\\\": 4, \\\"num_missing\\\": 0, \\\"categorical\\\": [{\\\"label\\\": \\\"not affected with alzheimer\\\", \\\"label_idx\\\": 0, \\\"count\\\": 8321, \\\"percentage\\\": \\\"72.2246%\\\"}, {\\\"label\\\": \\\"verry mild demented alzeighmer\\\", \\\"label_idx\\\": 1, \\\"count\\\": 2240, \\\"percentage\\\": \\\"19.4428%\\\"}, {\\\"label\\\": \\\"Mild Demented alzeighmer\\\", \\\"label_idx\\\": 2, \\\"count\\\": 896, \\\"percentage\\\": \\\"7.7771%\\\"}, {\\\"label\\\": \\\"moderate Demented alzeighmer\\\", \\\"label_idx\\\": 3, \\\"count\\\": 64, \\\"percentage\\\": \\\"0.555507%\\\"}], \\\"numeric\\\": []}]}, {\\\"name\\\": \\\"data_2\\\", \\\"source\\\": \\\"source_2\\\", \\\"transform\\\": [{\\\"type\\\": \\\"formula\\\", \\\"expr\\\": \\\"20\\\", \\\"as\\\": \\\"c_x_axis_back\\\"}, {\\\"type\\\": \\\"formula\\\", \\\"expr\\\": \\\"toNumber(datum[\\\\\\\"a\\\\\\\"])*300+66\\\", \\\"as\\\": \\\"c_main_background\\\"}, {\\\"type\\\": \\\"formula\\\", \\\"expr\\\": \\\"toNumber(datum[\\\\\\\"a\\\\\\\"])*300+43\\\", \\\"as\\\": \\\"c_top_bar\\\"}, {\\\"type\\\": \\\"formula\\\", \\\"expr\\\": \\\"toNumber(datum[\\\\\\\"a\\\\\\\"])*300+59\\\", \\\"as\\\": \\\"c_top_title\\\"}, {\\\"type\\\": \\\"formula\\\", \\\"expr\\\": \\\"toNumber(datum[\\\\\\\"a\\\\\\\"])*300+58\\\", \\\"as\\\": \\\"c_top_type\\\"}, {\\\"type\\\": \\\"formula\\\", \\\"expr\\\": \\\"toNumber(datum[\\\\\\\"a\\\\\\\"])*300+178\\\", \\\"as\\\": \\\"c_rule\\\"}, {\\\"type\\\": \\\"formula\\\", \\\"expr\\\": \\\"toNumber(datum[\\\\\\\"a\\\\\\\"])*300+106\\\", \\\"as\\\": \\\"c_num_rows\\\"}, {\\\"type\\\": \\\"formula\\\", \\\"expr\\\": \\\"toNumber(datum[\\\\\\\"a\\\\\\\"])*300+130\\\", \\\"as\\\": \\\"c_num_unique\\\"}, {\\\"type\\\": \\\"formula\\\", \\\"expr\\\": \\\"toNumber(datum[\\\\\\\"a\\\\\\\"])*300+154\\\", \\\"as\\\": \\\"c_missing\\\"}, {\\\"type\\\": \\\"formula\\\", \\\"expr\\\": \\\"toNumber(datum[\\\\\\\"a\\\\\\\"])*300+105\\\", \\\"as\\\": \\\"c_num_rows_val\\\"}, {\\\"type\\\": \\\"formula\\\", \\\"expr\\\": \\\"toNumber(datum[\\\\\\\"a\\\\\\\"])*300+130\\\", \\\"as\\\": \\\"c_num_unique_val\\\"}, {\\\"type\\\": \\\"formula\\\", \\\"expr\\\": \\\"toNumber(datum[\\\\\\\"a\\\\\\\"])*300+154\\\", \\\"as\\\": \\\"c_missing_val\\\"}, {\\\"type\\\": \\\"formula\\\", \\\"expr\\\": \\\"toNumber(datum[\\\\\\\"a\\\\\\\"])*300+195\\\", \\\"as\\\": \\\"c_frequent_items\\\"}, {\\\"type\\\": \\\"formula\\\", \\\"expr\\\": \\\"toNumber(datum[\\\\\\\"a\\\\\\\"])*300+218\\\", \\\"as\\\": \\\"c_first_item\\\"}, {\\\"type\\\": \\\"formula\\\", \\\"expr\\\": \\\"toNumber(datum[\\\\\\\"a\\\\\\\"])*300+235\\\", \\\"as\\\": \\\"c_second_item\\\"}, {\\\"type\\\": \\\"formula\\\", \\\"expr\\\": \\\"toNumber(datum[\\\\\\\"a\\\\\\\"])*300+252\\\", \\\"as\\\": \\\"c_third_item\\\"}, {\\\"type\\\": \\\"formula\\\", \\\"expr\\\": \\\"toNumber(datum[\\\\\\\"a\\\\\\\"])*300+269\\\", \\\"as\\\": \\\"c_fourth_item\\\"}, {\\\"type\\\": \\\"formula\\\", \\\"expr\\\": \\\"toNumber(datum[\\\\\\\"a\\\\\\\"])*300+286\\\", \\\"as\\\": \\\"c_fifth_item\\\"}, {\\\"type\\\": \\\"formula\\\", \\\"expr\\\": \\\"toNumber(datum[\\\\\\\"a\\\\\\\"])*300+200\\\", \\\"as\\\": \\\"c_mean\\\"}, {\\\"type\\\": \\\"formula\\\", \\\"expr\\\": \\\"toNumber(datum[\\\\\\\"a\\\\\\\"])*300+220\\\", \\\"as\\\": \\\"c_min\\\"}, {\\\"type\\\": \\\"formula\\\", \\\"expr\\\": \\\"toNumber(datum[\\\\\\\"a\\\\\\\"])*300+240\\\", \\\"as\\\": \\\"c_max\\\"}, {\\\"type\\\": \\\"formula\\\", \\\"expr\\\": \\\"toNumber(datum[\\\\\\\"a\\\\\\\"])*300+260\\\", \\\"as\\\": \\\"c_median\\\"}, {\\\"type\\\": \\\"formula\\\", \\\"expr\\\": \\\"toNumber(datum[\\\\\\\"a\\\\\\\"])*300+280\\\", \\\"as\\\": \\\"c_stdev\\\"}, {\\\"type\\\": \\\"formula\\\", \\\"expr\\\": \\\"toNumber(datum[\\\\\\\"a\\\\\\\"])*300+198\\\", \\\"as\\\": \\\"c_mean_val\\\"}, {\\\"type\\\": \\\"formula\\\", \\\"expr\\\": \\\"toNumber(datum[\\\\\\\"a\\\\\\\"])*300+218\\\", \\\"as\\\": \\\"c_min_val\\\"}, {\\\"type\\\": \\\"formula\\\", \\\"expr\\\": \\\"toNumber(datum[\\\\\\\"a\\\\\\\"])*300+238\\\", \\\"as\\\": \\\"c_max_val\\\"}, {\\\"type\\\": \\\"formula\\\", \\\"expr\\\": \\\"toNumber(datum[\\\\\\\"a\\\\\\\"])*300+258\\\", \\\"as\\\": \\\"c_median_val\\\"}, {\\\"type\\\": \\\"formula\\\", \\\"expr\\\": \\\"toNumber(datum[\\\\\\\"a\\\\\\\"])*300+278\\\", \\\"as\\\": \\\"c_stdev_val\\\"}, {\\\"type\\\": \\\"formula\\\", \\\"expr\\\": \\\"toNumber(datum[\\\\\\\"a\\\\\\\"])*300+106\\\", \\\"as\\\": \\\"graph_offset\\\"}, {\\\"type\\\": \\\"formula\\\", \\\"expr\\\": \\\"toNumber(datum[\\\\\\\"a\\\\\\\"])*300+132\\\", \\\"as\\\": \\\"graph_offset_categorical\\\"}, {\\\"type\\\": \\\"formula\\\", \\\"expr\\\": \\\"(toString(datum[\\\\\\\"type\\\\\\\"]) == \\\\\\\"integer\\\\\\\" || toString(datum[\\\\\\\"type\\\\\\\"]) == \\\\\\\"float\\\\\\\")?false:true\\\", \\\"as\\\": \\\"c_clip_val\\\"}, {\\\"type\\\": \\\"formula\\\", \\\"expr\\\": \\\"(toString(datum[\\\\\\\"type\\\\\\\"]) == \\\\\\\"integer\\\\\\\" || toString(datum[\\\\\\\"type\\\\\\\"]) == \\\\\\\"float\\\\\\\")?250:0\\\", \\\"as\\\": \\\"c_width_numeric_val\\\"}, {\\\"type\\\": \\\"formula\\\", \\\"expr\\\": \\\"(toString(datum[\\\\\\\"type\\\\\\\"]) == \\\\\\\"str\\\\\\\")?false:true\\\", \\\"as\\\": \\\"c_clip_val_cat\\\"}, {\\\"type\\\": \\\"formula\\\", \\\"expr\\\": \\\"(toString(datum[\\\\\\\"type\\\\\\\"]) == \\\\\\\"str\\\\\\\")?250:0\\\", \\\"as\\\": \\\"c_width_numeric_val_cat\\\"}]}], \\\"marks\\\": [{\\\"encode\\\": {\\\"enter\\\": {\\\"x\\\": {\\\"value\\\": 0}, \\\"width\\\": {\\\"value\\\": 734}, \\\"y\\\": {\\\"value\\\": 0}, \\\"height\\\": {\\\"value\\\": 366}, \\\"clip\\\": {\\\"value\\\": 0}, \\\"fill\\\": {\\\"value\\\": \\\"#ffffff\\\"}, \\\"fillOpacity\\\": {\\\"value\\\": 0}, \\\"stroke\\\": {\\\"value\\\": \\\"#000000\\\"}, \\\"strokeWidth\\\": {\\\"value\\\": 0}}}, \\\"marks\\\": [{\\\"encode\\\": {\\\"enter\\\": {\\\"x\\\": {\\\"value\\\": 0}, \\\"width\\\": {\\\"value\\\": 734}, \\\"y\\\": {\\\"value\\\": 0}, \\\"height\\\": {\\\"value\\\": 366}, \\\"clip\\\": {\\\"value\\\": 0}, \\\"fill\\\": {\\\"value\\\": \\\"#ffffff\\\"}, \\\"fillOpacity\\\": {\\\"value\\\": 0}, \\\"stroke\\\": {\\\"value\\\": \\\"#000000\\\"}, \\\"strokeWidth\\\": {\\\"value\\\": 0}}}, \\\"scales\\\": [], \\\"axes\\\": [], \\\"marks\\\": [{\\\"from\\\": {\\\"data\\\": \\\"data_2\\\"}, \\\"encode\\\": {\\\"enter\\\": {\\\"x\\\": {\\\"value\\\": 33}, \\\"width\\\": {\\\"value\\\": 700}, \\\"y\\\": {\\\"value\\\": 66}, \\\"height\\\": {\\\"value\\\": 250}, \\\"fill\\\": {\\\"value\\\": \\\"#FEFEFE\\\"}, \\\"fillOpacity\\\": {\\\"value\\\": 1}, \\\"stroke\\\": {\\\"value\\\": \\\"#DEDEDE\\\"}, \\\"strokeWidth\\\": {\\\"value\\\": 0.5}}, \\\"update\\\": {\\\"x\\\": {\\\"signal\\\": \\\"datum[\\\\\\\"c_x_axis_back\\\\\\\"]\\\"}, \\\"y\\\": {\\\"field\\\": \\\"c_main_background\\\"}}}, \\\"type\\\": \\\"rect\\\"}, {\\\"from\\\": {\\\"data\\\": \\\"data_2\\\"}, \\\"encode\\\": {\\\"enter\\\": {\\\"x\\\": {\\\"value\\\": 33}, \\\"width\\\": {\\\"value\\\": 700}, \\\"y\\\": {\\\"value\\\": 43}, \\\"height\\\": {\\\"value\\\": 30}, \\\"fill\\\": {\\\"value\\\": \\\"#F5F5F5\\\"}, \\\"fillOpacity\\\": {\\\"value\\\": 1}, \\\"stroke\\\": {\\\"value\\\": \\\"#DEDEDE\\\"}, \\\"strokeWidth\\\": {\\\"value\\\": 0.5}}, \\\"update\\\": {\\\"x\\\": {\\\"signal\\\": \\\"datum[\\\\\\\"c_x_axis_back\\\\\\\"]\\\"}, \\\"y\\\": {\\\"field\\\": \\\"c_top_bar\\\"}}}, \\\"type\\\": \\\"rect\\\"}, {\\\"from\\\": {\\\"data\\\": \\\"data_2\\\"}, \\\"encode\\\": {\\\"enter\\\": {\\\"x\\\": {\\\"value\\\": 720}, \\\"y\\\": {\\\"value\\\": 58}, \\\"text\\\": {\\\"signal\\\": \\\"&apos;&apos;+datum[\\\\\\\"type\\\\\\\"]\\\"}, \\\"align\\\": {\\\"value\\\": \\\"right\\\"}, \\\"baseline\\\": {\\\"value\\\": \\\"middle\\\"}, \\\"dx\\\": {\\\"value\\\": 0, \\\"offset\\\": 0}, \\\"dy\\\": {\\\"value\\\": 0, \\\"offset\\\": 0}, \\\"angle\\\": {\\\"value\\\": 0}, \\\"font\\\": {\\\"value\\\": \\\"AvenirNext-Medium\\\"}, \\\"fontSize\\\": {\\\"value\\\": 12}, \\\"fontWeight\\\": {\\\"value\\\": \\\"normal\\\"}, \\\"fontStyle\\\": {\\\"value\\\": \\\"normal\\\"}, \\\"fill\\\": {\\\"value\\\": \\\"#595859\\\"}}, \\\"update\\\": {\\\"x\\\": {\\\"signal\\\": \\\"datum[\\\\\\\"c_x_axis_back\\\\\\\"]+687\\\"}, \\\"y\\\": {\\\"field\\\": \\\"c_top_type\\\"}}}, \\\"type\\\": \\\"text\\\"}, {\\\"from\\\": {\\\"data\\\": \\\"data_2\\\"}, \\\"encode\\\": {\\\"enter\\\": {\\\"x\\\": {\\\"value\\\": 44}, \\\"y\\\": {\\\"value\\\": 59}, \\\"text\\\": {\\\"signal\\\": \\\"&apos;&apos;+datum[\\\\\\\"title\\\\\\\"]\\\"}, \\\"align\\\": {\\\"value\\\": \\\"left\\\"}, \\\"baseline\\\": {\\\"value\\\": \\\"middle\\\"}, \\\"dx\\\": {\\\"value\\\": 0, \\\"offset\\\": 0}, \\\"dy\\\": {\\\"value\\\": 0, \\\"offset\\\": 0}, \\\"angle\\\": {\\\"value\\\": 0}, \\\"font\\\": {\\\"value\\\": \\\"AvenirNext-Medium\\\"}, \\\"fontSize\\\": {\\\"value\\\": 15}, \\\"fontWeight\\\": {\\\"value\\\": \\\"normal\\\"}, \\\"fontStyle\\\": {\\\"value\\\": \\\"normal\\\"}, \\\"fill\\\": {\\\"value\\\": \\\"#9B9B9B\\\"}}, \\\"update\\\": {\\\"x\\\": {\\\"signal\\\": \\\"datum[\\\\\\\"c_x_axis_back\\\\\\\"]+11\\\"}, \\\"y\\\": {\\\"field\\\": \\\"c_top_title\\\"}}}, \\\"type\\\": \\\"text\\\"}, {\\\"from\\\": {\\\"data\\\": \\\"data_2\\\"}, \\\"encode\\\": {\\\"enter\\\": {\\\"x\\\": {\\\"value\\\": 500}, \\\"y\\\": {\\\"value\\\": 178}, \\\"stroke\\\": {\\\"value\\\": \\\"#EDEDEB\\\"}, \\\"strokeWidth\\\": {\\\"value\\\": 1}, \\\"strokeCap\\\": {\\\"value\\\": \\\"butt\\\"}, \\\"x2\\\": {\\\"value\\\": 720}, \\\"y2\\\": {\\\"value\\\": 178}}, \\\"update\\\": {\\\"x\\\": {\\\"signal\\\": \\\"datum[\\\\\\\"c_x_axis_back\\\\\\\"]+467\\\"}, \\\"x2\\\": {\\\"signal\\\": \\\"datum[\\\\\\\"c_x_axis_back\\\\\\\"]+687\\\"}, \\\"y\\\": {\\\"field\\\": \\\"c_rule\\\"}, \\\"y2\\\": {\\\"field\\\": \\\"c_rule\\\"}}}, \\\"type\\\": \\\"rule\\\"}, {\\\"from\\\": {\\\"data\\\": \\\"data_2\\\"}, \\\"encode\\\": {\\\"enter\\\": {\\\"x\\\": {\\\"value\\\": 500}, \\\"y\\\": {\\\"value\\\": 106}, \\\"text\\\": {\\\"value\\\": \\\"Num. Rows:\\\"}, \\\"align\\\": {\\\"value\\\": \\\"left\\\"}, \\\"baseline\\\": {\\\"value\\\": \\\"middle\\\"}, \\\"dx\\\": {\\\"value\\\": 0, \\\"offset\\\": 0}, \\\"dy\\\": {\\\"value\\\": 0, \\\"offset\\\": 0}, \\\"angle\\\": {\\\"value\\\": 0}, \\\"font\\\": {\\\"value\\\": \\\"AvenirNext-Medium\\\"}, \\\"fontSize\\\": {\\\"value\\\": 12}, \\\"fontWeight\\\": {\\\"value\\\": \\\"normal\\\"}, \\\"fontStyle\\\": {\\\"value\\\": \\\"normal\\\"}, \\\"fill\\\": {\\\"value\\\": \\\"#4A4A4A\\\"}}, \\\"update\\\": {\\\"x\\\": {\\\"signal\\\": \\\"datum[\\\\\\\"c_x_axis_back\\\\\\\"]+467\\\"}, \\\"y\\\": {\\\"field\\\": \\\"c_num_rows\\\"}}}, \\\"type\\\": \\\"text\\\"}, {\\\"from\\\": {\\\"data\\\": \\\"data_2\\\"}, \\\"encode\\\": {\\\"enter\\\": {\\\"x\\\": {\\\"value\\\": 500}, \\\"y\\\": {\\\"value\\\": 130}, \\\"text\\\": {\\\"value\\\": \\\"Num. Unique:\\\"}, \\\"align\\\": {\\\"value\\\": \\\"left\\\"}, \\\"baseline\\\": {\\\"value\\\": \\\"middle\\\"}, \\\"dx\\\": {\\\"value\\\": 0, \\\"offset\\\": 0}, \\\"dy\\\": {\\\"value\\\": 0, \\\"offset\\\": 0}, \\\"angle\\\": {\\\"value\\\": 0}, \\\"font\\\": {\\\"value\\\": \\\"AvenirNext-Medium\\\"}, \\\"fontSize\\\": {\\\"value\\\": 12}, \\\"fontWeight\\\": {\\\"value\\\": \\\"normal\\\"}, \\\"fontStyle\\\": {\\\"value\\\": \\\"normal\\\"}, \\\"fill\\\": {\\\"value\\\": \\\"#4A4A4A\\\"}}, \\\"update\\\": {\\\"x\\\": {\\\"signal\\\": \\\"datum[\\\\\\\"c_x_axis_back\\\\\\\"]+467\\\"}, \\\"y\\\": {\\\"field\\\": \\\"c_num_unique\\\"}}}, \\\"type\\\": \\\"text\\\"}, {\\\"from\\\": {\\\"data\\\": \\\"data_2\\\"}, \\\"encode\\\": {\\\"enter\\\": {\\\"x\\\": {\\\"value\\\": 500}, \\\"y\\\": {\\\"value\\\": 154}, \\\"text\\\": {\\\"value\\\": \\\"Missing:\\\"}, \\\"align\\\": {\\\"value\\\": \\\"left\\\"}, \\\"baseline\\\": {\\\"value\\\": \\\"middle\\\"}, \\\"dx\\\": {\\\"value\\\": 0, \\\"offset\\\": 0}, \\\"dy\\\": {\\\"value\\\": 0, \\\"offset\\\": 0}, \\\"angle\\\": {\\\"value\\\": 0}, \\\"font\\\": {\\\"value\\\": \\\"AvenirNext-Medium\\\"}, \\\"fontSize\\\": {\\\"value\\\": 12}, \\\"fontWeight\\\": {\\\"value\\\": \\\"normal\\\"}, \\\"fontStyle\\\": {\\\"value\\\": \\\"normal\\\"}, \\\"fill\\\": {\\\"value\\\": \\\"#4A4A4A\\\"}}, \\\"update\\\": {\\\"x\\\": {\\\"signal\\\": \\\"datum[\\\\\\\"c_x_axis_back\\\\\\\"]+467\\\"}, \\\"y\\\": {\\\"field\\\": \\\"c_missing\\\"}}}, \\\"type\\\": \\\"text\\\"}, {\\\"from\\\": {\\\"data\\\": \\\"data_2\\\"}, \\\"encode\\\": {\\\"enter\\\": {\\\"x\\\": {\\\"value\\\": 700}, \\\"y\\\": {\\\"value\\\": 105}, \\\"text\\\": {\\\"signal\\\": \\\"toString(format(datum[\\\\\\\"num_row\\\\\\\"], \\\\\\\",\\\\\\\"))\\\"}, \\\"align\\\": {\\\"value\\\": \\\"right\\\"}, \\\"baseline\\\": {\\\"value\\\": \\\"middle\\\"}, \\\"dx\\\": {\\\"value\\\": 0, \\\"offset\\\": 0}, \\\"dy\\\": {\\\"value\\\": 0, \\\"offset\\\": 0}, \\\"angle\\\": {\\\"value\\\": 0}, \\\"font\\\": {\\\"value\\\": \\\"AvenirNext-Medium\\\"}, \\\"fontSize\\\": {\\\"value\\\": 12}, \\\"fontWeight\\\": {\\\"value\\\": \\\"normal\\\"}, \\\"fontStyle\\\": {\\\"value\\\": \\\"normal\\\"}, \\\"fill\\\": {\\\"value\\\": \\\"#5A5A5A\\\"}}, \\\"update\\\": {\\\"x\\\": {\\\"signal\\\": \\\"datum[\\\\\\\"c_x_axis_back\\\\\\\"]+667\\\"}, \\\"y\\\": {\\\"field\\\": \\\"c_num_rows_val\\\"}}}, \\\"type\\\": \\\"text\\\"}, {\\\"from\\\": {\\\"data\\\": \\\"data_2\\\"}, \\\"encode\\\": {\\\"enter\\\": {\\\"x\\\": {\\\"value\\\": 700}, \\\"y\\\": {\\\"value\\\": 130}, \\\"text\\\": {\\\"signal\\\": \\\"toString(format(datum[\\\\\\\"num_unique\\\\\\\"], \\\\\\\",\\\\\\\"))\\\"}, \\\"align\\\": {\\\"value\\\": \\\"right\\\"}, \\\"baseline\\\": {\\\"value\\\": \\\"middle\\\"}, \\\"dx\\\": {\\\"value\\\": 0, \\\"offset\\\": 0}, \\\"dy\\\": {\\\"value\\\": 0, \\\"offset\\\": 0}, \\\"angle\\\": {\\\"value\\\": 0}, \\\"font\\\": {\\\"value\\\": \\\"AvenirNext-Medium\\\"}, \\\"fontSize\\\": {\\\"value\\\": 12}, \\\"fontWeight\\\": {\\\"value\\\": \\\"normal\\\"}, \\\"fontStyle\\\": {\\\"value\\\": \\\"normal\\\"}, \\\"fill\\\": {\\\"value\\\": \\\"#5A5A5A\\\"}}, \\\"update\\\": {\\\"x\\\": {\\\"signal\\\": \\\"datum[\\\\\\\"c_x_axis_back\\\\\\\"]+667\\\"}, \\\"y\\\": {\\\"field\\\": \\\"c_num_unique_val\\\"}}}, \\\"type\\\": \\\"text\\\"}, {\\\"from\\\": {\\\"data\\\": \\\"data_2\\\"}, \\\"encode\\\": {\\\"enter\\\": {\\\"x\\\": {\\\"value\\\": 700}, \\\"y\\\": {\\\"value\\\": 154}, \\\"text\\\": {\\\"signal\\\": \\\"toString(format(datum[\\\\\\\"num_missing\\\\\\\"], \\\\\\\",\\\\\\\"))\\\"}, \\\"align\\\": {\\\"value\\\": \\\"right\\\"}, \\\"baseline\\\": {\\\"value\\\": \\\"middle\\\"}, \\\"dx\\\": {\\\"value\\\": 0, \\\"offset\\\": 0}, \\\"dy\\\": {\\\"value\\\": 0, \\\"offset\\\": 0}, \\\"angle\\\": {\\\"value\\\": 0}, \\\"font\\\": {\\\"value\\\": \\\"AvenirNext-Medium\\\"}, \\\"fontSize\\\": {\\\"value\\\": 12}, \\\"fontWeight\\\": {\\\"value\\\": \\\"normal\\\"}, \\\"fontStyle\\\": {\\\"value\\\": \\\"normal\\\"}, \\\"fill\\\": {\\\"value\\\": \\\"#5A5A5A\\\"}}, \\\"update\\\": {\\\"x\\\": {\\\"signal\\\": \\\"datum[\\\\\\\"c_x_axis_back\\\\\\\"]+667\\\"}, \\\"y\\\": {\\\"field\\\": \\\"c_missing_val\\\"}}}, \\\"type\\\": \\\"text\\\"}, {\\\"from\\\": {\\\"data\\\": \\\"data_2\\\"}, \\\"encode\\\": {\\\"enter\\\": {\\\"x\\\": {\\\"value\\\": 500}, \\\"y\\\": {\\\"value\\\": 200}, \\\"text\\\": {\\\"signal\\\": \\\"(toString(datum[\\\\\\\"type\\\\\\\"]) == \\\\\\\"str\\\\\\\")? \\\\\\\"Frequent Items\\\\\\\":\\\\\\\"\\\\\\\"\\\"}, \\\"align\\\": {\\\"value\\\": \\\"left\\\"}, \\\"baseline\\\": {\\\"value\\\": \\\"middle\\\"}, \\\"dx\\\": {\\\"value\\\": 0, \\\"offset\\\": 0}, \\\"dy\\\": {\\\"value\\\": 0, \\\"offset\\\": 0}, \\\"angle\\\": {\\\"value\\\": 0}, \\\"clip\\\": {\\\"value\\\": true}, \\\"font\\\": {\\\"value\\\": \\\"AvenirNext-Medium\\\"}, \\\"fontSize\\\": {\\\"value\\\": 11}, \\\"fontWeight\\\": {\\\"value\\\": \\\"bold\\\"}, \\\"fontStyle\\\": {\\\"value\\\": \\\"normal\\\"}, \\\"fill\\\": {\\\"value\\\": \\\"#4A4A4A\\\"}}, \\\"update\\\": {\\\"x\\\": {\\\"signal\\\": \\\"datum[\\\\\\\"c_x_axis_back\\\\\\\"]+467\\\"}, \\\"y\\\": {\\\"field\\\": \\\"c_frequent_items\\\"}}}, \\\"type\\\": \\\"text\\\"}, {\\\"from\\\": {\\\"data\\\": \\\"data_2\\\"}, \\\"encode\\\": {\\\"enter\\\": {\\\"x\\\": {\\\"value\\\": 520}, \\\"y\\\": {\\\"value\\\": 200}, \\\"text\\\": {\\\"signal\\\": \\\"((datum[\\\\\\\"categorical\\\\\\\"].length >= 1) &amp;&amp; (toString(datum[\\\\\\\"type\\\\\\\"]) == \\\\\\\"str\\\\\\\"))? toString(datum[\\\\\\\"categorical\\\\\\\"][0][\\\\\\\"label\\\\\\\"]):\\\\\\\"\\\\\\\"\\\"}, \\\"align\\\": {\\\"value\\\": \\\"left\\\"}, \\\"baseline\\\": {\\\"value\\\": \\\"middle\\\"}, \\\"dx\\\": {\\\"value\\\": 0, \\\"offset\\\": 0}, \\\"dy\\\": {\\\"value\\\": 0, \\\"offset\\\": 0}, \\\"angle\\\": {\\\"value\\\": 0}, \\\"clip\\\": {\\\"value\\\": true}, \\\"font\\\": {\\\"value\\\": \\\"AvenirNext-Medium\\\"}, \\\"fontSize\\\": {\\\"value\\\": 11}, \\\"fontWeight\\\": {\\\"value\\\": \\\"normal\\\"}, \\\"fontStyle\\\": {\\\"value\\\": \\\"normal\\\"}, \\\"fill\\\": {\\\"value\\\": \\\"#4A4A4A\\\"}}, \\\"update\\\": {\\\"x\\\": {\\\"signal\\\": \\\"datum[\\\\\\\"c_x_axis_back\\\\\\\"]+487\\\"}, \\\"y\\\": {\\\"field\\\": \\\"c_first_item\\\"}}}, \\\"type\\\": \\\"text\\\"}, {\\\"from\\\": {\\\"data\\\": \\\"data_2\\\"}, \\\"encode\\\": {\\\"enter\\\": {\\\"x\\\": {\\\"value\\\": 520}, \\\"y\\\": {\\\"value\\\": 200}, \\\"text\\\": {\\\"signal\\\": \\\"((datum[\\\\\\\"categorical\\\\\\\"].length >= 2) &amp;&amp; (toString(datum[\\\\\\\"type\\\\\\\"]) == \\\\\\\"str\\\\\\\"))? toString(datum[\\\\\\\"categorical\\\\\\\"][1][\\\\\\\"label\\\\\\\"]):\\\\\\\"\\\\\\\"\\\"}, \\\"align\\\": {\\\"value\\\": \\\"left\\\"}, \\\"baseline\\\": {\\\"value\\\": \\\"middle\\\"}, \\\"dx\\\": {\\\"value\\\": 0, \\\"offset\\\": 0}, \\\"dy\\\": {\\\"value\\\": 0, \\\"offset\\\": 0}, \\\"angle\\\": {\\\"value\\\": 0}, \\\"clip\\\": {\\\"value\\\": true}, \\\"font\\\": {\\\"value\\\": \\\"AvenirNext-Medium\\\"}, \\\"fontSize\\\": {\\\"value\\\": 11}, \\\"fontWeight\\\": {\\\"value\\\": \\\"normal\\\"}, \\\"fontStyle\\\": {\\\"value\\\": \\\"normal\\\"}, \\\"fill\\\": {\\\"value\\\": \\\"#4A4A4A\\\"}}, \\\"update\\\": {\\\"x\\\": {\\\"signal\\\": \\\"datum[\\\\\\\"c_x_axis_back\\\\\\\"]+487\\\"}, \\\"y\\\": {\\\"field\\\": \\\"c_second_item\\\"}}}, \\\"type\\\": \\\"text\\\"}, {\\\"from\\\": {\\\"data\\\": \\\"data_2\\\"}, \\\"encode\\\": {\\\"enter\\\": {\\\"x\\\": {\\\"value\\\": 520}, \\\"y\\\": {\\\"value\\\": 200}, \\\"text\\\": {\\\"signal\\\": \\\"((datum[\\\\\\\"categorical\\\\\\\"].length >= 3) &amp;&amp; (toString(datum[\\\\\\\"type\\\\\\\"]) == \\\\\\\"str\\\\\\\"))? toString(datum[\\\\\\\"categorical\\\\\\\"][2][\\\\\\\"label\\\\\\\"]):\\\\\\\"\\\\\\\"\\\"}, \\\"align\\\": {\\\"value\\\": \\\"left\\\"}, \\\"baseline\\\": {\\\"value\\\": \\\"middle\\\"}, \\\"dx\\\": {\\\"value\\\": 0, \\\"offset\\\": 0}, \\\"dy\\\": {\\\"value\\\": 0, \\\"offset\\\": 0}, \\\"angle\\\": {\\\"value\\\": 0}, \\\"clip\\\": {\\\"value\\\": true}, \\\"font\\\": {\\\"value\\\": \\\"AvenirNext-Medium\\\"}, \\\"fontSize\\\": {\\\"value\\\": 11}, \\\"fontWeight\\\": {\\\"value\\\": \\\"normal\\\"}, \\\"fontStyle\\\": {\\\"value\\\": \\\"normal\\\"}, \\\"fill\\\": {\\\"value\\\": \\\"#4A4A4A\\\"}}, \\\"update\\\": {\\\"x\\\": {\\\"signal\\\": \\\"datum[\\\\\\\"c_x_axis_back\\\\\\\"]+487\\\"}, \\\"y\\\": {\\\"field\\\": \\\"c_third_item\\\"}}}, \\\"type\\\": \\\"text\\\"}, {\\\"from\\\": {\\\"data\\\": \\\"data_2\\\"}, \\\"encode\\\": {\\\"enter\\\": {\\\"x\\\": {\\\"value\\\": 520}, \\\"y\\\": {\\\"value\\\": 200}, \\\"text\\\": {\\\"signal\\\": \\\"((datum[\\\\\\\"categorical\\\\\\\"].length >= 4) &amp;&amp; (toString(datum[\\\\\\\"type\\\\\\\"]) == \\\\\\\"str\\\\\\\"))? toString(datum[\\\\\\\"categorical\\\\\\\"][3][\\\\\\\"label\\\\\\\"]):\\\\\\\"\\\\\\\"\\\"}, \\\"align\\\": {\\\"value\\\": \\\"left\\\"}, \\\"baseline\\\": {\\\"value\\\": \\\"middle\\\"}, \\\"dx\\\": {\\\"value\\\": 0, \\\"offset\\\": 0}, \\\"dy\\\": {\\\"value\\\": 0, \\\"offset\\\": 0}, \\\"angle\\\": {\\\"value\\\": 0}, \\\"clip\\\": {\\\"value\\\": true}, \\\"font\\\": {\\\"value\\\": \\\"AvenirNext-Medium\\\"}, \\\"fontSize\\\": {\\\"value\\\": 11}, \\\"fontWeight\\\": {\\\"value\\\": \\\"normal\\\"}, \\\"fontStyle\\\": {\\\"value\\\": \\\"normal\\\"}, \\\"fill\\\": {\\\"value\\\": \\\"#4A4A4A\\\"}}, \\\"update\\\": {\\\"x\\\": {\\\"signal\\\": \\\"datum[\\\\\\\"c_x_axis_back\\\\\\\"]+487\\\"}, \\\"y\\\": {\\\"field\\\": \\\"c_fourth_item\\\"}}}, \\\"type\\\": \\\"text\\\"}, {\\\"from\\\": {\\\"data\\\": \\\"data_2\\\"}, \\\"encode\\\": {\\\"enter\\\": {\\\"x\\\": {\\\"value\\\": 520}, \\\"y\\\": {\\\"value\\\": 200}, \\\"text\\\": {\\\"signal\\\": \\\"((datum[\\\\\\\"categorical\\\\\\\"].length >= 5) &amp;&amp; (toString(datum[\\\\\\\"type\\\\\\\"]) == \\\\\\\"str\\\\\\\"))? toString(datum[\\\\\\\"categorical\\\\\\\"][4][\\\\\\\"label\\\\\\\"]):\\\\\\\"\\\\\\\"\\\"}, \\\"align\\\": {\\\"value\\\": \\\"left\\\"}, \\\"baseline\\\": {\\\"value\\\": \\\"middle\\\"}, \\\"dx\\\": {\\\"value\\\": 0, \\\"offset\\\": 0}, \\\"dy\\\": {\\\"value\\\": 0, \\\"offset\\\": 0}, \\\"angle\\\": {\\\"value\\\": 0}, \\\"clip\\\": {\\\"value\\\": true}, \\\"font\\\": {\\\"value\\\": \\\"AvenirNext-Medium\\\"}, \\\"fontSize\\\": {\\\"value\\\": 11}, \\\"fontWeight\\\": {\\\"value\\\": \\\"normal\\\"}, \\\"fontStyle\\\": {\\\"value\\\": \\\"normal\\\"}, \\\"fill\\\": {\\\"value\\\": \\\"#4A4A4A\\\"}}, \\\"update\\\": {\\\"x\\\": {\\\"signal\\\": \\\"datum[\\\\\\\"c_x_axis_back\\\\\\\"]+487\\\"}, \\\"y\\\": {\\\"field\\\": \\\"c_fifth_item\\\"}}}, \\\"type\\\": \\\"text\\\"}, {\\\"from\\\": {\\\"data\\\": \\\"data_2\\\"}, \\\"encode\\\": {\\\"enter\\\": {\\\"x\\\": {\\\"value\\\": 700}, \\\"y\\\": {\\\"value\\\": 200}, \\\"text\\\": {\\\"signal\\\": \\\"((datum[\\\\\\\"categorical\\\\\\\"].length >= 1) &amp;&amp; (toString(datum[\\\\\\\"type\\\\\\\"]) == \\\\\\\"str\\\\\\\"))? toString(datum[\\\\\\\"categorical\\\\\\\"][0][\\\\\\\"count\\\\\\\"]):\\\\\\\"\\\\\\\"\\\"}, \\\"align\\\": {\\\"value\\\": \\\"right\\\"}, \\\"baseline\\\": {\\\"value\\\": \\\"middle\\\"}, \\\"dx\\\": {\\\"value\\\": 0, \\\"offset\\\": 0}, \\\"dy\\\": {\\\"value\\\": 0, \\\"offset\\\": 0}, \\\"angle\\\": {\\\"value\\\": 0}, \\\"clip\\\": {\\\"value\\\": true}, \\\"font\\\": {\\\"value\\\": \\\"AvenirNext-Medium\\\"}, \\\"fontSize\\\": {\\\"value\\\": 11}, \\\"fontWeight\\\": {\\\"value\\\": \\\"normal\\\"}, \\\"fontStyle\\\": {\\\"value\\\": \\\"normal\\\"}, \\\"fill\\\": {\\\"value\\\": \\\"#7A7A7A\\\"}}, \\\"update\\\": {\\\"x\\\": {\\\"signal\\\": \\\"datum[\\\\\\\"c_x_axis_back\\\\\\\"]+667\\\"}, \\\"y\\\": {\\\"field\\\": \\\"c_first_item\\\"}}}, \\\"type\\\": \\\"text\\\"}, {\\\"from\\\": {\\\"data\\\": \\\"data_2\\\"}, \\\"encode\\\": {\\\"enter\\\": {\\\"x\\\": {\\\"value\\\": 700}, \\\"y\\\": {\\\"value\\\": 200}, \\\"text\\\": {\\\"signal\\\": \\\"((datum[\\\\\\\"categorical\\\\\\\"].length >= 2) &amp;&amp; (toString(datum[\\\\\\\"type\\\\\\\"]) == \\\\\\\"str\\\\\\\"))? toString(datum[\\\\\\\"categorical\\\\\\\"][1][\\\\\\\"count\\\\\\\"]):\\\\\\\"\\\\\\\"\\\"}, \\\"align\\\": {\\\"value\\\": \\\"right\\\"}, \\\"baseline\\\": {\\\"value\\\": \\\"middle\\\"}, \\\"dx\\\": {\\\"value\\\": 0, \\\"offset\\\": 0}, \\\"dy\\\": {\\\"value\\\": 0, \\\"offset\\\": 0}, \\\"angle\\\": {\\\"value\\\": 0}, \\\"clip\\\": {\\\"value\\\": true}, \\\"font\\\": {\\\"value\\\": \\\"AvenirNext-Medium\\\"}, \\\"fontSize\\\": {\\\"value\\\": 10}, \\\"fontWeight\\\": {\\\"value\\\": \\\"normal\\\"}, \\\"fontStyle\\\": {\\\"value\\\": \\\"normal\\\"}, \\\"fill\\\": {\\\"value\\\": \\\"#7A7A7A\\\"}}, \\\"update\\\": {\\\"x\\\": {\\\"signal\\\": \\\"datum[\\\\\\\"c_x_axis_back\\\\\\\"]+667\\\"}, \\\"y\\\": {\\\"field\\\": \\\"c_second_item\\\"}}}, \\\"type\\\": \\\"text\\\"}, {\\\"from\\\": {\\\"data\\\": \\\"data_2\\\"}, \\\"encode\\\": {\\\"enter\\\": {\\\"x\\\": {\\\"value\\\": 700}, \\\"y\\\": {\\\"value\\\": 200}, \\\"text\\\": {\\\"signal\\\": \\\"((datum[\\\\\\\"categorical\\\\\\\"].length >= 3) &amp;&amp; (toString(datum[\\\\\\\"type\\\\\\\"]) == \\\\\\\"str\\\\\\\"))? toString(datum[\\\\\\\"categorical\\\\\\\"][2][\\\\\\\"count\\\\\\\"]):\\\\\\\"\\\\\\\"\\\"}, \\\"align\\\": {\\\"value\\\": \\\"right\\\"}, \\\"baseline\\\": {\\\"value\\\": \\\"middle\\\"}, \\\"dx\\\": {\\\"value\\\": 0, \\\"offset\\\": 0}, \\\"dy\\\": {\\\"value\\\": 0, \\\"offset\\\": 0}, \\\"angle\\\": {\\\"value\\\": 0}, \\\"clip\\\": {\\\"value\\\": true}, \\\"font\\\": {\\\"value\\\": \\\"AvenirNext-Medium\\\"}, \\\"fontSize\\\": {\\\"value\\\": 10}, \\\"fontWeight\\\": {\\\"value\\\": \\\"normal\\\"}, \\\"fontStyle\\\": {\\\"value\\\": \\\"normal\\\"}, \\\"fill\\\": {\\\"value\\\": \\\"#7A7A7A\\\"}}, \\\"update\\\": {\\\"x\\\": {\\\"signal\\\": \\\"datum[\\\\\\\"c_x_axis_back\\\\\\\"]+667\\\"}, \\\"y\\\": {\\\"field\\\": \\\"c_third_item\\\"}}}, \\\"type\\\": \\\"text\\\"}, {\\\"from\\\": {\\\"data\\\": \\\"data_2\\\"}, \\\"encode\\\": {\\\"enter\\\": {\\\"x\\\": {\\\"value\\\": 700}, \\\"y\\\": {\\\"value\\\": 200}, \\\"text\\\": {\\\"signal\\\": \\\"((datum[\\\\\\\"categorical\\\\\\\"].length >= 4) &amp;&amp; (toString(datum[\\\\\\\"type\\\\\\\"]) == \\\\\\\"str\\\\\\\"))? toString(datum[\\\\\\\"categorical\\\\\\\"][3][\\\\\\\"count\\\\\\\"]):\\\\\\\"\\\\\\\"\\\"}, \\\"align\\\": {\\\"value\\\": \\\"right\\\"}, \\\"baseline\\\": {\\\"value\\\": \\\"middle\\\"}, \\\"dx\\\": {\\\"value\\\": 0, \\\"offset\\\": 0}, \\\"dy\\\": {\\\"value\\\": 0, \\\"offset\\\": 0}, \\\"angle\\\": {\\\"value\\\": 0}, \\\"clip\\\": {\\\"value\\\": true}, \\\"font\\\": {\\\"value\\\": \\\"AvenirNext-Medium\\\"}, \\\"fontSize\\\": {\\\"value\\\": 10}, \\\"fontWeight\\\": {\\\"value\\\": \\\"normal\\\"}, \\\"fontStyle\\\": {\\\"value\\\": \\\"normal\\\"}, \\\"fill\\\": {\\\"value\\\": \\\"#7A7A7A\\\"}}, \\\"update\\\": {\\\"x\\\": {\\\"signal\\\": \\\"datum[\\\\\\\"c_x_axis_back\\\\\\\"]+667\\\"}, \\\"y\\\": {\\\"field\\\": \\\"c_fourth_item\\\"}}}, \\\"type\\\": \\\"text\\\"}, {\\\"from\\\": {\\\"data\\\": \\\"data_2\\\"}, \\\"encode\\\": {\\\"enter\\\": {\\\"x\\\": {\\\"value\\\": 700}, \\\"y\\\": {\\\"value\\\": 200}, \\\"text\\\": {\\\"signal\\\": \\\"((datum[\\\\\\\"categorical\\\\\\\"].length >= 5) &amp;&amp; (toString(datum[\\\\\\\"type\\\\\\\"]) == \\\\\\\"str\\\\\\\"))? toString(datum[\\\\\\\"categorical\\\\\\\"][4][\\\\\\\"count\\\\\\\"]):\\\\\\\"\\\\\\\"\\\"}, \\\"align\\\": {\\\"value\\\": \\\"right\\\"}, \\\"baseline\\\": {\\\"value\\\": \\\"middle\\\"}, \\\"dx\\\": {\\\"value\\\": 0, \\\"offset\\\": 0}, \\\"dy\\\": {\\\"value\\\": 0, \\\"offset\\\": 0}, \\\"angle\\\": {\\\"value\\\": 0}, \\\"clip\\\": {\\\"value\\\": true}, \\\"font\\\": {\\\"value\\\": \\\"AvenirNext-Medium\\\"}, \\\"fontSize\\\": {\\\"value\\\": 10}, \\\"fontWeight\\\": {\\\"value\\\": \\\"normal\\\"}, \\\"fontStyle\\\": {\\\"value\\\": \\\"normal\\\"}, \\\"fill\\\": {\\\"value\\\": \\\"#7A7A7A\\\"}}, \\\"update\\\": {\\\"x\\\": {\\\"signal\\\": \\\"datum[\\\\\\\"c_x_axis_back\\\\\\\"]+667\\\"}, \\\"y\\\": {\\\"field\\\": \\\"c_fifth_item\\\"}}}, \\\"type\\\": \\\"text\\\"}, {\\\"from\\\": {\\\"data\\\": \\\"data_2\\\"}, \\\"encode\\\": {\\\"enter\\\": {\\\"x\\\": {\\\"value\\\": 500}, \\\"y\\\": {\\\"value\\\": 200}, \\\"text\\\": {\\\"signal\\\": \\\"(toString(datum[\\\\\\\"type\\\\\\\"]) == \\\\\\\"integer\\\\\\\" || toString(datum[\\\\\\\"type\\\\\\\"]) == \\\\\\\"float\\\\\\\")? \\\\\\\"Mean:\\\\\\\":\\\\\\\"\\\\\\\"\\\"}, \\\"align\\\": {\\\"value\\\": \\\"left\\\"}, \\\"baseline\\\": {\\\"value\\\": \\\"middle\\\"}, \\\"dx\\\": {\\\"value\\\": 0, \\\"offset\\\": 0}, \\\"dy\\\": {\\\"value\\\": 0, \\\"offset\\\": 0}, \\\"angle\\\": {\\\"value\\\": 0}, \\\"clip\\\": {\\\"value\\\": true}, \\\"font\\\": {\\\"value\\\": \\\"AvenirNext-Medium\\\"}, \\\"fontSize\\\": {\\\"value\\\": 11}, \\\"fontWeight\\\": {\\\"value\\\": \\\"bold\\\"}, \\\"fontStyle\\\": {\\\"value\\\": \\\"normal\\\"}, \\\"fill\\\": {\\\"value\\\": \\\"#4A4A4A\\\"}}, \\\"update\\\": {\\\"x\\\": {\\\"signal\\\": \\\"datum[\\\\\\\"c_x_axis_back\\\\\\\"]+467\\\"}, \\\"y\\\": {\\\"field\\\": \\\"c_mean\\\"}}}, \\\"type\\\": \\\"text\\\"}, {\\\"from\\\": {\\\"data\\\": \\\"data_2\\\"}, \\\"encode\\\": {\\\"enter\\\": {\\\"x\\\": {\\\"value\\\": 500}, \\\"y\\\": {\\\"value\\\": 220}, \\\"text\\\": {\\\"signal\\\": \\\"(toString(datum[\\\\\\\"type\\\\\\\"]) == \\\\\\\"integer\\\\\\\" || toString(datum[\\\\\\\"type\\\\\\\"]) == \\\\\\\"float\\\\\\\")? \\\\\\\"Min:\\\\\\\":\\\\\\\"\\\\\\\"\\\"}, \\\"align\\\": {\\\"value\\\": \\\"left\\\"}, \\\"baseline\\\": {\\\"value\\\": \\\"middle\\\"}, \\\"dx\\\": {\\\"value\\\": 0, \\\"offset\\\": 0}, \\\"dy\\\": {\\\"value\\\": 0, \\\"offset\\\": 0}, \\\"angle\\\": {\\\"value\\\": 0}, \\\"font\\\": {\\\"value\\\": \\\"AvenirNext-Medium\\\"}, \\\"fontSize\\\": {\\\"value\\\": 11}, \\\"fontWeight\\\": {\\\"value\\\": \\\"bold\\\"}, \\\"fontStyle\\\": {\\\"value\\\": \\\"normal\\\"}, \\\"fill\\\": {\\\"value\\\": \\\"#4A4A4A\\\"}}, \\\"update\\\": {\\\"x\\\": {\\\"signal\\\": \\\"datum[\\\\\\\"c_x_axis_back\\\\\\\"]+467\\\"}, \\\"y\\\": {\\\"field\\\": \\\"c_min\\\"}}}, \\\"type\\\": \\\"text\\\"}, {\\\"from\\\": {\\\"data\\\": \\\"data_2\\\"}, \\\"encode\\\": {\\\"enter\\\": {\\\"x\\\": {\\\"value\\\": 500}, \\\"y\\\": {\\\"value\\\": 240}, \\\"text\\\": {\\\"signal\\\": \\\"(toString(datum[\\\\\\\"type\\\\\\\"]) == \\\\\\\"integer\\\\\\\" || toString(datum[\\\\\\\"type\\\\\\\"]) == \\\\\\\"float\\\\\\\")? \\\\\\\"Max:\\\\\\\":\\\\\\\"\\\\\\\"\\\"}, \\\"align\\\": {\\\"value\\\": \\\"left\\\"}, \\\"baseline\\\": {\\\"value\\\": \\\"middle\\\"}, \\\"dx\\\": {\\\"value\\\": 0, \\\"offset\\\": 0}, \\\"dy\\\": {\\\"value\\\": 0, \\\"offset\\\": 0}, \\\"angle\\\": {\\\"value\\\": 0}, \\\"font\\\": {\\\"value\\\": \\\"AvenirNext-Medium\\\"}, \\\"fontSize\\\": {\\\"value\\\": 11}, \\\"fontWeight\\\": {\\\"value\\\": \\\"bold\\\"}, \\\"fontStyle\\\": {\\\"value\\\": \\\"normal\\\"}, \\\"fill\\\": {\\\"value\\\": \\\"#4A4A4A\\\"}}, \\\"update\\\": {\\\"x\\\": {\\\"signal\\\": \\\"datum[\\\\\\\"c_x_axis_back\\\\\\\"]+467\\\"}, \\\"y\\\": {\\\"field\\\": \\\"c_max\\\"}}}, \\\"type\\\": \\\"text\\\"}, {\\\"from\\\": {\\\"data\\\": \\\"data_2\\\"}, \\\"encode\\\": {\\\"enter\\\": {\\\"x\\\": {\\\"value\\\": 500}, \\\"y\\\": {\\\"value\\\": 260}, \\\"text\\\": {\\\"signal\\\": \\\"(toString(datum[\\\\\\\"type\\\\\\\"]) == \\\\\\\"integer\\\\\\\" || toString(datum[\\\\\\\"type\\\\\\\"]) == \\\\\\\"float\\\\\\\")? \\\\\\\"Median:\\\\\\\":\\\\\\\"\\\\\\\"\\\"}, \\\"align\\\": {\\\"value\\\": \\\"left\\\"}, \\\"baseline\\\": {\\\"value\\\": \\\"middle\\\"}, \\\"dx\\\": {\\\"value\\\": 0, \\\"offset\\\": 0}, \\\"dy\\\": {\\\"value\\\": 0, \\\"offset\\\": 0}, \\\"angle\\\": {\\\"value\\\": 0}, \\\"font\\\": {\\\"value\\\": \\\"AvenirNext-Medium\\\"}, \\\"fontSize\\\": {\\\"value\\\": 11}, \\\"fontWeight\\\": {\\\"value\\\": \\\"bold\\\"}, \\\"fontStyle\\\": {\\\"value\\\": \\\"normal\\\"}, \\\"fill\\\": {\\\"value\\\": \\\"#4A4A4A\\\"}}, \\\"update\\\": {\\\"x\\\": {\\\"signal\\\": \\\"datum[\\\\\\\"c_x_axis_back\\\\\\\"]+467\\\"}, \\\"y\\\": {\\\"field\\\": \\\"c_median\\\"}}}, \\\"type\\\": \\\"text\\\"}, {\\\"from\\\": {\\\"data\\\": \\\"data_2\\\"}, \\\"encode\\\": {\\\"enter\\\": {\\\"x\\\": {\\\"value\\\": 500}, \\\"y\\\": {\\\"value\\\": 280}, \\\"text\\\": {\\\"signal\\\": \\\"(toString(datum[\\\\\\\"type\\\\\\\"]) == \\\\\\\"integer\\\\\\\" || toString(datum[\\\\\\\"type\\\\\\\"]) == \\\\\\\"float\\\\\\\")? \\\\\\\"St. Dev:\\\\\\\":\\\\\\\"\\\\\\\"\\\"}, \\\"align\\\": {\\\"value\\\": \\\"left\\\"}, \\\"baseline\\\": {\\\"value\\\": \\\"middle\\\"}, \\\"dx\\\": {\\\"value\\\": 0, \\\"offset\\\": 0}, \\\"dy\\\": {\\\"value\\\": 0, \\\"offset\\\": 0}, \\\"angle\\\": {\\\"value\\\": 0}, \\\"font\\\": {\\\"value\\\": \\\"AvenirNext-Medium\\\"}, \\\"fontSize\\\": {\\\"value\\\": 11}, \\\"fontWeight\\\": {\\\"value\\\": \\\"bold\\\"}, \\\"fontStyle\\\": {\\\"value\\\": \\\"normal\\\"}, \\\"fill\\\": {\\\"value\\\": \\\"#4A4A4A\\\"}}, \\\"update\\\": {\\\"x\\\": {\\\"signal\\\": \\\"datum[\\\\\\\"c_x_axis_back\\\\\\\"]+467\\\"}, \\\"y\\\": {\\\"field\\\": \\\"c_stdev\\\"}}}, \\\"type\\\": \\\"text\\\"}, {\\\"from\\\": {\\\"data\\\": \\\"data_2\\\"}, \\\"encode\\\": {\\\"enter\\\": {\\\"x\\\": {\\\"value\\\": 700}, \\\"y\\\": {\\\"value\\\": 198}, \\\"text\\\": {\\\"signal\\\": \\\"(toString(datum[\\\\\\\"type\\\\\\\"]) == \\\\\\\"integer\\\\\\\" || toString(datum[\\\\\\\"type\\\\\\\"]) == \\\\\\\"float\\\\\\\")?toString(format(datum[\\\\\\\"mean\\\\\\\"], \\\\\\\",\\\\\\\")):\\\\\\\"\\\\\\\"\\\"}, \\\"align\\\": {\\\"value\\\": \\\"right\\\"}, \\\"baseline\\\": {\\\"value\\\": \\\"middle\\\"}, \\\"dx\\\": {\\\"value\\\": 0, \\\"offset\\\": 0}, \\\"dy\\\": {\\\"value\\\": 0, \\\"offset\\\": 0}, \\\"angle\\\": {\\\"value\\\": 0}, \\\"font\\\": {\\\"value\\\": \\\"AvenirNext-Medium\\\"}, \\\"fontSize\\\": {\\\"value\\\": 10}, \\\"fontWeight\\\": {\\\"value\\\": \\\"normal\\\"}, \\\"fontStyle\\\": {\\\"value\\\": \\\"normal\\\"}, \\\"fill\\\": {\\\"value\\\": \\\"#6A6A6A\\\"}}, \\\"update\\\": {\\\"x\\\": {\\\"signal\\\": \\\"datum[\\\\\\\"c_x_axis_back\\\\\\\"]+667\\\"}, \\\"y\\\": {\\\"field\\\": \\\"c_mean_val\\\"}}}, \\\"type\\\": \\\"text\\\"}, {\\\"from\\\": {\\\"data\\\": \\\"data_2\\\"}, \\\"encode\\\": {\\\"enter\\\": {\\\"x\\\": {\\\"value\\\": 700}, \\\"y\\\": {\\\"value\\\": 218}, \\\"text\\\": {\\\"signal\\\": \\\"(toString(datum[\\\\\\\"type\\\\\\\"]) == \\\\\\\"integer\\\\\\\" || toString(datum[\\\\\\\"type\\\\\\\"]) == \\\\\\\"float\\\\\\\")?toString(format(datum[\\\\\\\"min\\\\\\\"], \\\\\\\",\\\\\\\")):\\\\\\\"\\\\\\\"\\\"}, \\\"align\\\": {\\\"value\\\": \\\"right\\\"}, \\\"baseline\\\": {\\\"value\\\": \\\"middle\\\"}, \\\"dx\\\": {\\\"value\\\": 0, \\\"offset\\\": 0}, \\\"dy\\\": {\\\"value\\\": 0, \\\"offset\\\": 0}, \\\"angle\\\": {\\\"value\\\": 0}, \\\"font\\\": {\\\"value\\\": \\\"AvenirNext-Medium\\\"}, \\\"fontSize\\\": {\\\"value\\\": 10}, \\\"fontWeight\\\": {\\\"value\\\": \\\"normal\\\"}, \\\"fontStyle\\\": {\\\"value\\\": \\\"normal\\\"}, \\\"fill\\\": {\\\"value\\\": \\\"#6A6A6A\\\"}}, \\\"update\\\": {\\\"x\\\": {\\\"signal\\\": \\\"datum[\\\\\\\"c_x_axis_back\\\\\\\"]+667\\\"}, \\\"y\\\": {\\\"field\\\": \\\"c_min_val\\\"}}}, \\\"type\\\": \\\"text\\\"}, {\\\"from\\\": {\\\"data\\\": \\\"data_2\\\"}, \\\"encode\\\": {\\\"enter\\\": {\\\"x\\\": {\\\"value\\\": 700}, \\\"y\\\": {\\\"value\\\": 238}, \\\"text\\\": {\\\"signal\\\": \\\"(toString(datum[\\\\\\\"type\\\\\\\"]) == \\\\\\\"integer\\\\\\\" || toString(datum[\\\\\\\"type\\\\\\\"]) == \\\\\\\"float\\\\\\\")?toString(format(datum[\\\\\\\"max\\\\\\\"], \\\\\\\",\\\\\\\")):\\\\\\\"\\\\\\\"\\\"}, \\\"align\\\": {\\\"value\\\": \\\"right\\\"}, \\\"baseline\\\": {\\\"value\\\": \\\"middle\\\"}, \\\"dx\\\": {\\\"value\\\": 0, \\\"offset\\\": 0}, \\\"dy\\\": {\\\"value\\\": 0, \\\"offset\\\": 0}, \\\"angle\\\": {\\\"value\\\": 0}, \\\"font\\\": {\\\"value\\\": \\\"AvenirNext-Medium\\\"}, \\\"fontSize\\\": {\\\"value\\\": 10}, \\\"fontWeight\\\": {\\\"value\\\": \\\"normal\\\"}, \\\"fontStyle\\\": {\\\"value\\\": \\\"normal\\\"}, \\\"fill\\\": {\\\"value\\\": \\\"#6A6A6A\\\"}}, \\\"update\\\": {\\\"x\\\": {\\\"signal\\\": \\\"datum[\\\\\\\"c_x_axis_back\\\\\\\"]+667\\\"}, \\\"y\\\": {\\\"field\\\": \\\"c_max_val\\\"}}}, \\\"type\\\": \\\"text\\\"}, {\\\"from\\\": {\\\"data\\\": \\\"data_2\\\"}, \\\"encode\\\": {\\\"enter\\\": {\\\"x\\\": {\\\"value\\\": 700}, \\\"y\\\": {\\\"value\\\": 258}, \\\"text\\\": {\\\"signal\\\": \\\"(toString(datum[\\\\\\\"type\\\\\\\"]) == \\\\\\\"integer\\\\\\\" || toString(datum[\\\\\\\"type\\\\\\\"]) == \\\\\\\"float\\\\\\\")?toString(format(datum[\\\\\\\"median\\\\\\\"], \\\\\\\",\\\\\\\")):\\\\\\\"\\\\\\\"\\\"}, \\\"align\\\": {\\\"value\\\": \\\"right\\\"}, \\\"baseline\\\": {\\\"value\\\": \\\"middle\\\"}, \\\"dx\\\": {\\\"value\\\": 0, \\\"offset\\\": 0}, \\\"dy\\\": {\\\"value\\\": 0, \\\"offset\\\": 0}, \\\"angle\\\": {\\\"value\\\": 0}, \\\"font\\\": {\\\"value\\\": \\\"AvenirNext-Medium\\\"}, \\\"fontSize\\\": {\\\"value\\\": 10}, \\\"fontWeight\\\": {\\\"value\\\": \\\"normal\\\"}, \\\"fontStyle\\\": {\\\"value\\\": \\\"normal\\\"}, \\\"fill\\\": {\\\"value\\\": \\\"#6A6A6A\\\"}}, \\\"update\\\": {\\\"x\\\": {\\\"signal\\\": \\\"datum[\\\\\\\"c_x_axis_back\\\\\\\"]+667\\\"}, \\\"y\\\": {\\\"field\\\": \\\"c_median_val\\\"}}}, \\\"type\\\": \\\"text\\\"}, {\\\"from\\\": {\\\"data\\\": \\\"data_2\\\"}, \\\"encode\\\": {\\\"enter\\\": {\\\"x\\\": {\\\"value\\\": 700}, \\\"y\\\": {\\\"value\\\": 278}, \\\"text\\\": {\\\"signal\\\": \\\"(toString(datum[\\\\\\\"type\\\\\\\"]) == \\\\\\\"integer\\\\\\\" || toString(datum[\\\\\\\"type\\\\\\\"]) == \\\\\\\"float\\\\\\\")?toString(format(datum[\\\\\\\"stdev\\\\\\\"], \\\\\\\",\\\\\\\")):\\\\\\\"\\\\\\\"\\\"}, \\\"align\\\": {\\\"value\\\": \\\"right\\\"}, \\\"baseline\\\": {\\\"value\\\": \\\"middle\\\"}, \\\"dx\\\": {\\\"value\\\": 0, \\\"offset\\\": 0}, \\\"dy\\\": {\\\"value\\\": 0, \\\"offset\\\": 0}, \\\"angle\\\": {\\\"value\\\": 0}, \\\"font\\\": {\\\"value\\\": \\\"AvenirNext-Medium\\\"}, \\\"fontSize\\\": {\\\"value\\\": 10}, \\\"fontWeight\\\": {\\\"value\\\": \\\"normal\\\"}, \\\"fontStyle\\\": {\\\"value\\\": \\\"normal\\\"}, \\\"fill\\\": {\\\"value\\\": \\\"#6A6A6A\\\"}}, \\\"update\\\": {\\\"x\\\": {\\\"signal\\\": \\\"datum[\\\\\\\"c_x_axis_back\\\\\\\"]+667\\\"}, \\\"y\\\": {\\\"field\\\": \\\"c_stdev_val\\\"}}}, \\\"type\\\": \\\"text\\\"}, {\\\"from\\\": {\\\"facet\\\": {\\\"name\\\": \\\"new_data\\\", \\\"data\\\": \\\"data_2\\\", \\\"field\\\": \\\"numeric\\\"}}, \\\"encode\\\": {\\\"enter\\\": {\\\"x\\\": {\\\"value\\\": 120}, \\\"width\\\": {\\\"value\\\": 250}, \\\"y\\\": {\\\"field\\\": \\\"graph_offset\\\"}, \\\"height\\\": {\\\"value\\\": 150}, \\\"fill\\\": {\\\"value\\\": \\\"#ffffff\\\"}, \\\"fillOpacity\\\": {\\\"value\\\": 0}, \\\"stroke\\\": {\\\"value\\\": \\\"#000000\\\"}, \\\"strokeWidth\\\": {\\\"value\\\": 0}}, \\\"update\\\": {\\\"x\\\": {\\\"signal\\\": \\\"datum[\\\\\\\"c_x_axis_back\\\\\\\"]+87\\\"}, \\\"clip\\\": {\\\"field\\\": \\\"c_clip_val\\\"}, \\\"width\\\": {\\\"field\\\": \\\"c_width_numeric_val\\\"}}}, \\\"type\\\": \\\"group\\\", \\\"scales\\\": [{\\\"name\\\": \\\"x\\\", \\\"type\\\": \\\"linear\\\", \\\"domain\\\": {\\\"data\\\": \\\"new_data\\\", \\\"fields\\\": [\\\"left\\\", \\\"right\\\"], \\\"sort\\\": true}, \\\"range\\\": [0, {\\\"signal\\\": \\\"width\\\"}], \\\"nice\\\": true, \\\"zero\\\": true}, {\\\"name\\\": \\\"y\\\", \\\"type\\\": \\\"linear\\\", \\\"domain\\\": {\\\"data\\\": \\\"new_data\\\", \\\"field\\\": \\\"count\\\"}, \\\"range\\\": [{\\\"signal\\\": \\\"height\\\"}, 0], \\\"nice\\\": true, \\\"zero\\\": true}], \\\"axes\\\": [{\\\"title\\\": \\\"Values\\\", \\\"scale\\\": \\\"x\\\", \\\"labelOverlap\\\": true, \\\"orient\\\": \\\"bottom\\\", \\\"tickCount\\\": {\\\"signal\\\": \\\"ceil(width/40)\\\"}, \\\"zindex\\\": 1}, {\\\"scale\\\": \\\"x\\\", \\\"domain\\\": false, \\\"grid\\\": true, \\\"labels\\\": false, \\\"maxExtent\\\": 0, \\\"minExtent\\\": 0, \\\"orient\\\": \\\"bottom\\\", \\\"tickCount\\\": {\\\"signal\\\": \\\"ceil(width/40)\\\"}, \\\"ticks\\\": false, \\\"zindex\\\": 0, \\\"gridScale\\\": \\\"y\\\"}, {\\\"title\\\": \\\"Count\\\", \\\"scale\\\": \\\"y\\\", \\\"labelOverlap\\\": true, \\\"orient\\\": \\\"left\\\", \\\"tickCount\\\": {\\\"signal\\\": \\\"ceil(height/40)\\\"}, \\\"zindex\\\": 1}, {\\\"scale\\\": \\\"y\\\", \\\"domain\\\": false, \\\"grid\\\": true, \\\"labels\\\": false, \\\"maxExtent\\\": 0, \\\"minExtent\\\": 0, \\\"orient\\\": \\\"left\\\", \\\"tickCount\\\": {\\\"signal\\\": \\\"ceil(height/40)\\\"}, \\\"ticks\\\": false, \\\"zindex\\\": 0, \\\"gridScale\\\": \\\"x\\\"}], \\\"style\\\": \\\"cell\\\", \\\"signals\\\": [{\\\"name\\\": \\\"width\\\", \\\"update\\\": \\\"250\\\"}, {\\\"name\\\": \\\"height\\\", \\\"update\\\": \\\"150\\\"}], \\\"marks\\\": [{\\\"name\\\": \\\"marks\\\", \\\"type\\\": \\\"rect\\\", \\\"style\\\": [\\\"rect\\\"], \\\"from\\\": {\\\"data\\\": \\\"new_data\\\"}, \\\"encode\\\": {\\\"hover\\\": {\\\"fill\\\": {\\\"value\\\": \\\"#7EC2F3\\\"}}, \\\"update\\\": {\\\"x\\\": {\\\"scale\\\": \\\"x\\\", \\\"field\\\": \\\"left\\\"}, \\\"x2\\\": {\\\"scale\\\": \\\"x\\\", \\\"field\\\": \\\"right\\\"}, \\\"y\\\": {\\\"scale\\\": \\\"y\\\", \\\"field\\\": \\\"count\\\"}, \\\"y2\\\": {\\\"scale\\\": \\\"y\\\", \\\"value\\\": 0}, \\\"fill\\\": {\\\"value\\\": \\\"#108EE9\\\"}}}}]}, {\\\"from\\\": {\\\"facet\\\": {\\\"name\\\": \\\"data_5\\\", \\\"data\\\": \\\"data_2\\\", \\\"field\\\": \\\"categorical\\\"}}, \\\"encode\\\": {\\\"enter\\\": {\\\"x\\\": {\\\"value\\\": 170}, \\\"width\\\": {\\\"value\\\": 250}, \\\"y\\\": {\\\"field\\\": \\\"graph_offset_categorical\\\"}, \\\"height\\\": {\\\"value\\\": 150}, \\\"fill\\\": {\\\"value\\\": \\\"#ffffff\\\"}, \\\"fillOpacity\\\": {\\\"value\\\": 0}, \\\"stroke\\\": {\\\"value\\\": \\\"#000000\\\"}, \\\"strokeWidth\\\": {\\\"value\\\": 0}}, \\\"update\\\": {\\\"x\\\": {\\\"signal\\\": \\\"datum[\\\\\\\"c_x_axis_back\\\\\\\"]+137\\\"}, \\\"clip\\\": {\\\"field\\\": \\\"c_clip_val_cat\\\"}, \\\"width\\\": {\\\"field\\\": \\\"c_width_numeric_val_cat\\\"}}}, \\\"type\\\": \\\"group\\\", \\\"style\\\": \\\"cell\\\", \\\"signals\\\": [{\\\"name\\\": \\\"unit\\\", \\\"value\\\": {}, \\\"on\\\": [{\\\"events\\\": \\\"mousemove\\\", \\\"update\\\": \\\"isTuple(group()) ? group() : unit\\\"}]}, {\\\"name\\\": \\\"pts\\\", \\\"update\\\": \\\"data(\\\\\\\"pts_store\\\\\\\").length &amp;&amp; {count: data(\\\\\\\"pts_store\\\\\\\")[0].values[0]}\\\"}, {\\\"name\\\": \\\"pts_tuple\\\", \\\"value\\\": {}, \\\"on\\\": [{\\\"events\\\": [{\\\"source\\\": \\\"scope\\\", \\\"type\\\": \\\"click\\\"}], \\\"update\\\": \\\"datum &amp;&amp; item().mark.marktype !== &apos;group&apos; ? {unit: \\\\\\\"\\\\\\\", encodings: [\\\\\\\"x\\\\\\\"], fields: [\\\\\\\"count\\\\\\\"], values: [datum[\\\\\\\"count\\\\\\\"]]} : null\\\", \\\"force\\\": true}]}, {\\\"name\\\": \\\"pts_modify\\\", \\\"on\\\": [{\\\"events\\\": {\\\"signal\\\": \\\"pts_tuple\\\"}, \\\"update\\\": \\\"modify(\\\\\\\"pts_store\\\\\\\", pts_tuple, true)\\\"}]}], \\\"marks\\\": [{\\\"name\\\": \\\"marks\\\", \\\"type\\\": \\\"rect\\\", \\\"style\\\": [\\\"bar\\\"], \\\"from\\\": {\\\"data\\\": \\\"data_5\\\"}, \\\"encode\\\": {\\\"hover\\\": {\\\"fill\\\": {\\\"value\\\": \\\"#7EC2F3\\\"}}, \\\"update\\\": {\\\"x\\\": {\\\"scale\\\": \\\"x\\\", \\\"field\\\": \\\"count\\\"}, \\\"x2\\\": {\\\"scale\\\": \\\"x\\\", \\\"value\\\": 0}, \\\"y\\\": {\\\"scale\\\": \\\"y\\\", \\\"field\\\": \\\"label\\\"}, \\\"height\\\": {\\\"scale\\\": \\\"y\\\", \\\"band\\\": true}, \\\"fill\\\": {\\\"value\\\": \\\"#108EE9\\\"}}}}], \\\"scales\\\": [{\\\"name\\\": \\\"x\\\", \\\"type\\\": \\\"linear\\\", \\\"domain\\\": {\\\"data\\\": \\\"data_5\\\", \\\"field\\\": \\\"count\\\"}, \\\"range\\\": [0, 250], \\\"nice\\\": true, \\\"zero\\\": true}, {\\\"name\\\": \\\"y\\\", \\\"type\\\": \\\"band\\\", \\\"domain\\\": {\\\"data\\\": \\\"data_5\\\", \\\"field\\\": \\\"label\\\", \\\"sort\\\": {\\\"op\\\": \\\"mean\\\", \\\"field\\\": \\\"label_idx\\\", \\\"order\\\": \\\"descending\\\"}}, \\\"range\\\": [150, 0], \\\"paddingInner\\\": 0.1, \\\"paddingOuter\\\": 0.05}], \\\"axes\\\": [{\\\"orient\\\": \\\"top\\\", \\\"scale\\\": \\\"x\\\", \\\"labelOverlap\\\": true, \\\"tickCount\\\": {\\\"signal\\\": \\\"ceil(width/40)\\\"}, \\\"title\\\": \\\"Count\\\", \\\"zindex\\\": 1}, {\\\"orient\\\": \\\"top\\\", \\\"scale\\\": \\\"x\\\", \\\"domain\\\": false, \\\"grid\\\": true, \\\"labels\\\": false, \\\"maxExtent\\\": 0, \\\"minExtent\\\": 0, \\\"tickCount\\\": {\\\"signal\\\": \\\"ceil(width/40)\\\"}, \\\"ticks\\\": false, \\\"zindex\\\": 0, \\\"gridScale\\\": \\\"y\\\"}, {\\\"scale\\\": \\\"y\\\", \\\"labelOverlap\\\": true, \\\"orient\\\": \\\"left\\\", \\\"title\\\": \\\"Label\\\", \\\"zindex\\\": 1}]}], \\\"type\\\": \\\"group\\\"}], \\\"type\\\": \\\"group\\\"}], \\\"config\\\": {\\\"axis\\\": {\\\"labelFont\\\": \\\"HelveticaNeue-Light, Arial\\\", \\\"labelFontSize\\\": 7, \\\"labelPadding\\\": 10, \\\"labelColor\\\": \\\"#595959\\\", \\\"titleFont\\\": \\\"HelveticaNeue-Light, Arial\\\", \\\"titleFontWeight\\\": \\\"normal\\\", \\\"titlePadding\\\": 9, \\\"titleFontSize\\\": 12, \\\"titleColor\\\": \\\"#595959\\\"}, \\\"axisY\\\": {\\\"minExtent\\\": 30}, \\\"style\\\": {\\\"rect\\\": {\\\"stroke\\\": \\\"rgba(200, 200, 200, 0.5)\\\"}, \\\"group-title\\\": {\\\"fontSize\\\": 20, \\\"font\\\": \\\"HelveticaNeue-Light, Arial\\\", \\\"fontWeight\\\": \\\"normal\\\", \\\"fill\\\": \\\"#595959\\\"}}}}\";                                 var vega_json_parsed = JSON.parse(vega_json);                                 var toolTipOpts = {                                     showAllFields: true                                 };                                 if(vega_json_parsed[\"metadata\"] != null){                                     if(vega_json_parsed[\"metadata\"][\"bubbleOpts\"] != null){                                         toolTipOpts = vega_json_parsed[\"metadata\"][\"bubbleOpts\"];                                     };                                 };                                 vegaEmbed(\"#vis\", vega_json_parsed).then(function (result) {                                     vegaTooltip.vega(result.view, toolTipOpts);                                  });                             </script>                         </body>                     </html>' src=\"demo_iframe_srcdoc.htm\">                         <p>Your browser does not support iframes.</p>                     </iframe>                 </body>             </html>"
      ],
      "text/plain": [
       "<IPython.core.display.HTML object>"
      ]
     },
     "metadata": {},
     "output_type": "display_data"
    }
   ],
   "source": [
    "train_data_alzheimer.show()"
   ]
  },
  {
   "cell_type": "code",
   "execution_count": 84,
   "metadata": {},
   "outputs": [],
   "source": [
    "train_data_alzheimer=train_data_alzheimer[train_data_alzheimer['label']=='Mild Demented alzeighmer']+train_data_alzheimer[train_data_alzheimer['label']=='verry mild demented alzeighmer']"
   ]
  },
  {
   "cell_type": "code",
   "execution_count": 85,
   "metadata": {},
   "outputs": [
    {
     "data": {
      "text/html": [
       "<pre>Materializing SArray</pre>"
      ],
      "text/plain": [
       "Materializing SArray"
      ]
     },
     "metadata": {},
     "output_type": "display_data"
    },
    {
     "data": {
      "text/html": [
       "<html>                 <body>                     <iframe style=\"border:0;margin:0\" width=\"920\" height=\"770\" srcdoc='<html lang=\"en\">                         <head>                             <script src=\"https://cdnjs.cloudflare.com/ajax/libs/vega/5.4.0/vega.js\"></script>                             <script src=\"https://cdnjs.cloudflare.com/ajax/libs/vega-embed/4.0.0/vega-embed.js\"></script>                             <script src=\"https://cdnjs.cloudflare.com/ajax/libs/vega-tooltip/0.5.1/vega-tooltip.min.js\"></script>                             <link rel=\"stylesheet\" type=\"text/css\" href=\"https://cdnjs.cloudflare.com/ajax/libs/vega-tooltip/0.5.1/vega-tooltip.min.css\">                             <style>                             .vega-actions > a{                                 color:white;                                 text-decoration: none;                                 font-family: \"Arial\";                                 cursor:pointer;                                 padding:5px;                                 background:#AAAAAA;                                 border-radius:4px;                                 padding-left:10px;                                 padding-right:10px;                                 margin-right:5px;                             }                             .vega-actions{                                 margin-top:20px;                                 text-align:center                             }                            .vega-actions > a{                                 background:#999999;                            }                             </style>                         </head>                         <body>                             <div id=\"vis\">                             </div>                             <script>                                 var vega_json = \"{\\\"$schema\\\": \\\"https://vega.github.io/schema/vega/v4.json\\\", \\\"autosize\\\": {\\\"type\\\": \\\"fit\\\", \\\"resize\\\": false, \\\"contains\\\": \\\"padding\\\"}, \\\"padding\\\": 8, \\\"metadata\\\": {\\\"bubbleOpts\\\": {\\\"showAllFields\\\": false, \\\"fields\\\": [{\\\"field\\\": \\\"count\\\"}, {\\\"field\\\": \\\"label\\\"}, {\\\"field\\\": \\\"percentage\\\"}]}}, \\\"width\\\": 720, \\\"height\\\": 550, \\\"title\\\": \\\"Distribution of Values [string]\\\", \\\"style\\\": \\\"cell\\\", \\\"data\\\": [{\\\"name\\\": \\\"pts_store_store\\\"}, {\\\"name\\\": \\\"source_2\\\", \\\"values\\\": [{\\\"label\\\": \\\"verry mild demented alzeighmer\\\", \\\"label_idx\\\": 0, \\\"count\\\": 2240, \\\"percentage\\\": \\\"71.4286%\\\"}, {\\\"label\\\": \\\"Mild Demented alzeighmer\\\", \\\"label_idx\\\": 1, \\\"count\\\": 896, \\\"percentage\\\": \\\"28.5714%\\\"}]}, {\\\"name\\\": \\\"data_0\\\", \\\"source\\\": \\\"source_2\\\", \\\"transform\\\": [{\\\"type\\\": \\\"formula\\\", \\\"expr\\\": \\\"toNumber(datum[\\\\\\\"count\\\\\\\"])\\\", \\\"as\\\": \\\"count\\\"}, {\\\"type\\\": \\\"filter\\\", \\\"expr\\\": \\\"datum[\\\\\\\"count\\\\\\\"] !== null &amp;&amp; !isNaN(datum[\\\\\\\"count\\\\\\\"])\\\"}]}], \\\"signals\\\": [{\\\"name\\\": \\\"unit\\\", \\\"value\\\": {}, \\\"on\\\": [{\\\"events\\\": \\\"mousemove\\\", \\\"update\\\": \\\"isTuple(group()) ? group() : unit\\\"}]}, {\\\"name\\\": \\\"pts_store\\\", \\\"update\\\": \\\"data(\\\\\\\"pts_store_store\\\\\\\").length &amp;&amp; {count: data(\\\\\\\"pts_store_store\\\\\\\")[0].values[0]}\\\"}, {\\\"name\\\": \\\"pts_store_tuple\\\", \\\"value\\\": {}, \\\"on\\\": [{\\\"events\\\": [{\\\"source\\\": \\\"scope\\\", \\\"type\\\": \\\"click\\\"}], \\\"update\\\": \\\"datum &amp;&amp; item().mark.marktype !== &apos;group&apos; ? {unit: \\\\\\\"\\\\\\\", encodings: [\\\\\\\"x\\\\\\\"], fields: [\\\\\\\"count\\\\\\\"], values: [datum[\\\\\\\"count\\\\\\\"]]} : null\\\", \\\"force\\\": true}]}, {\\\"name\\\": \\\"pts_store_modify\\\", \\\"on\\\": [{\\\"events\\\": {\\\"signal\\\": \\\"pts_store_tuple\\\"}, \\\"update\\\": \\\"modify(\\\\\\\"pts_store_store\\\\\\\", pts_store_tuple, true)\\\"}]}], \\\"marks\\\": [{\\\"name\\\": \\\"marks\\\", \\\"type\\\": \\\"rect\\\", \\\"style\\\": [\\\"bar\\\"], \\\"from\\\": {\\\"data\\\": \\\"data_0\\\"}, \\\"encode\\\": {\\\"hover\\\": {\\\"fill\\\": {\\\"value\\\": \\\"#7EC2F3\\\"}}, \\\"update\\\": {\\\"x\\\": {\\\"scale\\\": \\\"x\\\", \\\"field\\\": \\\"count\\\"}, \\\"x2\\\": {\\\"scale\\\": \\\"x\\\", \\\"value\\\": 0}, \\\"y\\\": {\\\"scale\\\": \\\"y\\\", \\\"field\\\": \\\"label\\\"}, \\\"height\\\": {\\\"scale\\\": \\\"y\\\", \\\"band\\\": true}, \\\"fill\\\": {\\\"value\\\": \\\"#108EE9\\\"}}}}], \\\"scales\\\": [{\\\"name\\\": \\\"x\\\", \\\"type\\\": \\\"linear\\\", \\\"domain\\\": {\\\"data\\\": \\\"data_0\\\", \\\"field\\\": \\\"count\\\"}, \\\"range\\\": [0, {\\\"signal\\\": \\\"width\\\"}], \\\"nice\\\": true, \\\"zero\\\": true}, {\\\"name\\\": \\\"y\\\", \\\"type\\\": \\\"band\\\", \\\"domain\\\": {\\\"data\\\": \\\"data_0\\\", \\\"field\\\": \\\"label\\\", \\\"sort\\\": {\\\"op\\\": \\\"mean\\\", \\\"field\\\": \\\"label_idx\\\", \\\"order\\\": \\\"descending\\\"}}, \\\"range\\\": [{\\\"signal\\\": \\\"height\\\"}, 0], \\\"paddingInner\\\": 0.1, \\\"paddingOuter\\\": 0.05}], \\\"axes\\\": [{\\\"orient\\\": \\\"top\\\", \\\"scale\\\": \\\"x\\\", \\\"labelOverlap\\\": true, \\\"tickCount\\\": {\\\"signal\\\": \\\"ceil(width/40)\\\"}, \\\"title\\\": \\\"Count\\\", \\\"zindex\\\": 1}, {\\\"orient\\\": \\\"top\\\", \\\"scale\\\": \\\"x\\\", \\\"domain\\\": false, \\\"grid\\\": true, \\\"labels\\\": false, \\\"maxExtent\\\": 0, \\\"minExtent\\\": 0, \\\"tickCount\\\": {\\\"signal\\\": \\\"ceil(width/40)\\\"}, \\\"ticks\\\": false, \\\"zindex\\\": 0, \\\"gridScale\\\": \\\"y\\\"}, {\\\"scale\\\": \\\"y\\\", \\\"labelOverlap\\\": true, \\\"orient\\\": \\\"left\\\", \\\"title\\\": \\\"Values\\\", \\\"zindex\\\": 1}], \\\"config\\\": {\\\"axis\\\": {\\\"gridColor\\\": \\\"rgba(204,204,204,1.0)\\\", \\\"labelFont\\\": \\\"\\\\\\\"San Francisco\\\\\\\", HelveticaNeue, Arial\\\", \\\"labelFontSize\\\": 12, \\\"labelPadding\\\": 10, \\\"labelColor\\\": \\\"rgba(0,0,0,0.847)\\\", \\\"tickColor\\\": \\\"rgb(136,136,136)\\\", \\\"titleFont\\\": \\\"\\\\\\\"San Francisco\\\\\\\", HelveticaNeue, Arial\\\", \\\"titleFontWeight\\\": \\\"normal\\\", \\\"titlePadding\\\": 20, \\\"titleFontSize\\\": 14, \\\"titleColor\\\": \\\"rgba(0,0,0,0.847)\\\"}, \\\"axisY\\\": {\\\"minExtent\\\": 30}, \\\"legend\\\": {\\\"labelFont\\\": \\\"\\\\\\\"San Francisco\\\\\\\", HelveticaNeue, Arial\\\", \\\"labelColor\\\": \\\"rgba(0,0,0,0.847)\\\", \\\"titleFont\\\": \\\"\\\\\\\"San Francisco\\\\\\\", HelveticaNeue, Arial\\\", \\\"cornerRadius\\\": 30, \\\"gradientLength\\\": 608, \\\"titleColor\\\": \\\"rgba(0,0,0,0.847)\\\"}, \\\"range\\\": {\\\"heatmap\\\": {\\\"scheme\\\": \\\"greenblue\\\"}}, \\\"style\\\": {\\\"rect\\\": {\\\"stroke\\\": \\\"rgba(200, 200, 200, 0.5)\\\"}, \\\"cell\\\": {\\\"stroke\\\": \\\"transparent\\\"}, \\\"group-title\\\": {\\\"fontSize\\\": 29, \\\"font\\\": \\\"HelveticaNeue, Arial\\\", \\\"fontWeight\\\": \\\"normal\\\", \\\"fill\\\": \\\"rgba(0,0,0,0.65)\\\"}}, \\\"title\\\": {\\\"color\\\": \\\"rgba(0,0,0,0.847)\\\", \\\"font\\\": \\\"\\\\\\\"San Francisco\\\\\\\", HelveticaNeue, Arial\\\", \\\"fontSize\\\": 18, \\\"fontWeight\\\": \\\"normal\\\", \\\"offset\\\": 30}}}\";                                 var vega_json_parsed = JSON.parse(vega_json);                                 var toolTipOpts = {                                     showAllFields: true                                 };                                 if(vega_json_parsed[\"metadata\"] != null){                                     if(vega_json_parsed[\"metadata\"][\"bubbleOpts\"] != null){                                         toolTipOpts = vega_json_parsed[\"metadata\"][\"bubbleOpts\"];                                     };                                 };                                 vegaEmbed(\"#vis\", vega_json_parsed).then(function (result) {                                     vegaTooltip.vega(result.view, toolTipOpts);                                  });                             </script>                         </body>                     </html>' src=\"demo_iframe_srcdoc.htm\">                         <p>Your browser does not support iframes.</p>                     </iframe>                 </body>             </html>"
      ],
      "text/plain": [
       "<IPython.core.display.HTML object>"
      ]
     },
     "metadata": {},
     "output_type": "display_data"
    }
   ],
   "source": [
    "train_data_alzheimer['label'].show()"
   ]
  },
  {
   "cell_type": "code",
   "execution_count": 86,
   "metadata": {},
   "outputs": [],
   "source": [
    "train_data=train_data.append(train_data_alzheimer)"
   ]
  },
  {
   "cell_type": "markdown",
   "metadata": {},
   "source": [
    "# visualisation des donnés "
   ]
  },
  {
   "cell_type": "code",
   "execution_count": 87,
   "metadata": {},
   "outputs": [
    {
     "name": "stderr",
     "output_type": "stream",
     "text": [
      "/opt/conda/lib/python3.7/site-packages/turicreate/visualization/_plot.py:461: UserWarning: Displaying only the first 100 rows.\n",
      "  warnings.warn(\"Displaying only the first {} rows.\".format(maximum_rows))\n"
     ]
    },
    {
     "data": {
      "text/html": [
       "<html lang=\"en\">                                                     <head>                                                               <style>                                                              .sframe {                                                            font-size: 12px;                                                   font-family: HelveticaNeue;                                        border: 1px solid silver;                                        }                                                                  .sframe thead th {                                                   background: #F7F7F7;                                               font-family: HelveticaNeue-Medium;                                 font-size: 14px;                                                   line-height: 16.8px;                                               padding-top: 16px;                                                 padding-bottom: 16px;                                              padding-left: 10px;                                                padding-right: 38px;                                               border-top: 1px solid #E9E9E9;                                     border-bottom: 1px solid #E9E9E9;                                  white-space: nowrap;                                               overflow: hidden;                                                  text-overflow:ellipsis;                                            text-align:center;                                                 font-weight:normal;                                              }                                                                  .sframe tbody th {                                                   background: #FFFFFF;                                               text-align:left;                                                   font-weight:normal;                                                border-right: 1px solid #E9E9E9;                                 }                                                                  .sframe td {                                                         background: #FFFFFF;                                               padding-left: 10px;                                                padding-right: 38px;                                               padding-top: 14px;                                                 padding-bottom: 14px;                                              border-bottom: 1px solid #E9E9E9;                                  max-height: 0px;                                                   transition: max-height 5s ease-out;                                vertical-align: middle;                                            font-family: HelveticaNeue;                                        font-size: 12px;                                                   line-height: 16.8px;                                               background: #FFFFFF;                                             }                                                                  .sframe tr {                                                         padding-left: 10px;                                                padding-right: 38px;                                               padding-top: 14px;                                                 padding-bottom: 14px;                                              border-bottom: 1px solid #E9E9E9;                                  max-height: 0px;                                                   transition: max-height 5s ease-out;                                vertical-align: middle;                                            font-family: HelveticaNeue;                                        font-size: 12px;                                                   line-height: 16.8px;                                               background: #FFFFFF;                                             }                                                                  .sframe tr:hover {                                                   background: silver;                                              },                                                               </style>                                                         </head>                                                            <body>                                                               <h1>  </h1>                                             <table border=\"1\" class=\"dataframe sframe\">\n",
       "  <thead>\n",
       "    <tr style=\"text-align: right;\">\n",
       "      <th></th>\n",
       "      <th>path</th>\n",
       "      <th>image</th>\n",
       "      <th>label</th>\n",
       "    </tr>\n",
       "  </thead>\n",
       "  <tbody>\n",
       "    <tr>\n",
       "      <th>0</th>\n",
       "      <td>/kaggle/input/brain-tumor-detection/yes/y0.jpg</td>\n",
       "      <td><img src=\"data:image/png;base64,iVBORw0KGgoAAAANSUhEUgAAABwAAAAcCAAAAABXZoBIAAACbUlEQVR4nI2SXUiTcRTGn/djy73Tpb61ORXm3nAampa6zI+mIeZHH+hF2F1BSHhVgXTjRURKXonhhVgQ1EUoDE1MUIgisg1ETYm05kCdumk4m9Ppvt79u9grDuqi5/L8zuE85/AAMZIDNP4lkx0AlWggMTWpcwS81Xx/hFR3R8rZd4wEKQAAufrGUmt+qlOUDlR4nMNhmhxBkrxOH3NpqyodCe+ZTtOtsnvcwSFUHJgbGADdiytGavnE7kRTwl1+X9q533aFwUoYp9OUYp5+ipQsBQ0+AGABzji2G4c1f1aNSCW9ClSq97y2Vkpy6/vUx4eJMQuoCKbbRWq12CMPTZModD8ZA0vJASiXLpjgCM0wj7ivVBRqPPmFcyEA6E0qsY+/cC2KbS0qya38tpbzsm0yADdt09TjHVrm0uR2Oj2ggQfPI34D09zhr71xbWpn6tu2cl/NU/NugAbaZb9nJ4u0usuKrdHB8peq+O2ytMC4hQJo4Geop0r7fYA7Gbe5kDXKK/dUpsTjFaUzAAvkwmt3FDxjIdvrOIP1jUyT9awthyqKfqj0Dq3rH5oJBI0LkY+CbS1tMuTekE7BF7M12OhUc5vGePoi3yD4Ct3lPREJsrAkOBr9AXlzV5G2ZW6HVtYsvyXR30K0CSZxlv+QoxemC1LrVh+mTNDgJAgDx6QMGVJ9xXmvne0r5+o+19eTw53A8KVI3g+Wzc7Xb2qTra308lbcUUzY8HlNIMOVLQikK+O6br7pl/oIglO4G9I1ZkvfYGaLi6v2qmICBrBBmdgVPrUld6z1+0Q6NqAAgAABo4ZA/gLSOHol//+hP76V5I4dX01dAAAAAElFTkSuQmCC\"/></td>\n",
       "      <td>brain_tumor positif</td>\n",
       "    </tr>\n",
       "    <tr>\n",
       "      <th>1</th>\n",
       "      <td>/kaggle/input/brain-tumor-detection/yes/y1.jpg</td>\n",
       "      <td><img src=\"data:image/png;base64,iVBORw0KGgoAAAANSUhEUgAAABwAAAAcCAAAAABXZoBIAAACc0lEQVR4nG2SXUiTcRTGn/fd677UqZjzKzdNk6mB7WIww6IsvdHIEo1uRoSFfVAQJEUkYVdh0aCiyFwgaRBZECgSliydzcwy04YyEwRtpmjNue2d23u6eKepdG7+nP+PwznPwwOEa5bo8Rj+X0EiWlR9JgpR4WZGUUREUZBAkYxO/Qb2pBlERAssLQd8h0oQEL+ZMJbyQO8wuErVaMxgBR7WAAAHAAKLSbJ7mCVHvlLSdLTjfZZ2OhUAC4CTgL4wxpiPJoO+vmqgzVXobkhFGH6goLUUzOTQHYNnS7xS3VqbdioyvLPxJAiAK6nl4PywLbqoJe3iSNJWRoQqN4ly7kurfx0v/XHb6vy5O7M6zSJeSwCC3PP8UO5TXWNGoO7m4mmt/LcCLCSiFq6Lv6fpLp6TqmKabPZP7bwc4BCShHqtpuCrXCdm9131V7yWxV03H2bxDmABb+RX3vE284VEl+5In7cGNMK0pbkPJQAHyArO2gbkGQkCf7lhZTQ453JJPUIiS2GdrE335kG0u9sxnrB/KfJbubq/JFsmiN4qvb4OVWLP1KL8yvJdf7o6p8DX22ZWiJPf98g7J4ZmIozOeOVc9pQsFvVFz5Rh43Vs317ekpXSdWN5xjizFNK26wX3qrd+b9WCPDnB/UcayCkfX+m5pDkoxSrEkYUzxy7w+W6L2vFoe4r/3IBCR2vwJbIRKovbUUZe9ewBU+sJ51jEGsTgRN2ukbyxQcag1cQVG0IGc3BdiLhtU3SrdiJA12p4D5m4DQkzAiRQe7+dzhMVZPnCI+JjZ8wMJg1qEioLommnYnN0Y02A3pgHCJvJv5xK1vV/AXBfAPv0Yj++AAAAAElFTkSuQmCC\"/></td>\n",
       "      <td>brain_tumor positif</td>\n",
       "    </tr>\n",
       "    <tr>\n",
       "      <th>2</th>\n",
       "      <td>/kaggle/input/brain-tumor-detection/yes/y10.jpg</td>\n",
       "      <td><img src=\"data:image/png;base64,iVBORw0KGgoAAAANSUhEUgAAABwAAAAcCAAAAABXZoBIAAAB1UlEQVR4nJWSPWhTYRSGn3uT1lqaBARtwQpVWtyliChuCkKHKCjFOhRBiUjAocahCh2cxE0RLToI4lQrQSwiiCKVViVW/KGmakCJP8HGmNQmMcm993VJc5PWxXf6vvN87+Gc8x34fwWgrdAQ8QDe+oBZO4lbIZ3qouJbkUdcVXqL2ffgyH3TMpax5q2/rN8/R2J9qZmzw41sjCtNucqjfPzdQ2Y/B/fS3pD0e1KL12fOZ6b60adXHq9bkH9VJpRxhioHW89sPIqx4WLFUp0x7chgYGR/5+VgGOS8Ri4MPxGYespdAQoO10FPZsGBrkyY3mx3h6nSh6aI6zyRszS2NopBR1HSycKXmlUkvu3OSk7S052SZFYStLtwPp6nlLMFi7L11dw1XuecPk5MkmKypEkZ9KDa4Cd68GfhXu+oF7bNB4J+/iw59wF3JLXRyg0lx4HJWi+DwNu4ChidMKfBPQkOuY2al/pPI4gYHvgRdVJsX7cEp28zkZ7Nwxw+DX3UFO6EwIadzxaKiQGubSqU9d6gCFQ/vbnoCa0+Fm0JHDZf+G9avogMagtVPsfo+pePL5TYYT5fE0aNm6L8m2rZYIvlUvmALck2tZIBkiRtrt5a/vXE1V/JPeUlIu8cAwAAAABJRU5ErkJggg==\"/></td>\n",
       "      <td>brain_tumor positif</td>\n",
       "    </tr>\n",
       "    <tr>\n",
       "      <th>3</th>\n",
       "      <td>/kaggle/input/brain-tumor-detection/yes/y100.jpg</td>\n",
       "      <td><img src=\"data:image/png;base64,iVBORw0KGgoAAAANSUhEUgAAABwAAAAcCAAAAABXZoBIAAACLElEQVR4nIXSz2sTQRQH8Dc7u5vsZje7+VGjhmhFU9Iq1BihtIgUDwqKsXrQCioo9GARD17EgwTFgweP1X9AqAUvgj9ARaRUqeDB0hrFlkoMW9MfZtdIsu7v9WA2bKvoOz3mw5thZr4A/yjk6/kennWfy3ZrgfAaPIz0+eLcW9bOC2snxRqVJcmA4hrp2ff9L1eh0FjfaRkcMnUrKITvDjzwYfuCuV91MBn5ERLmTJKeYButM4mh5DE3yIco3dpoXcECkaSB8XDH1bTuBpC1GdKOkcI4llXyPz282FVf6R08wC7WzIrm9MlfnN7d3rbkjWruSGSDmPxGy9oloyNkMuotD/ny2SHS+CiZCVfjxoRxO7HSoYoIgASA3IvYqxMJvTRWobAxf94MG5qNYt9/T0bR1BbREd6dPsfwOoGpavBQwO1qbluPjE7ydE2rB3uUMGHFourrSpvcxEnBrd1cLlQeTlloWVdxRmtMmItNVKpZ2RrZu8ssz0apr2I1I56EvpJ3z20hsXPnbak4XmKEFBLKwQt81vYwXsw//sB9coStNNiu+Kw/tu5a622fWnc+S3RZap8uHkZhfuRyY9D3K9cLA0s2ji5tl6WwweXua5IvCQUXKGwYbbQaYMBaYBr+mLjdTywGW+w+gqxSe+7NKIQ/Q9OhN1w3KITKJ9nRDIDjR1dnH52JxB16+PgcMQNrK7UpjgA4gIP4DwNApxACHDn6FwIAQGhVxv9TvwCH7s6bTTlZtwAAAABJRU5ErkJggg==\"/></td>\n",
       "      <td>brain_tumor positif</td>\n",
       "    </tr>\n",
       "    <tr>\n",
       "      <th>4</th>\n",
       "      <td>/kaggle/input/brain-tumor-detection/yes/y1000.jpg</td>\n",
       "      <td><img src=\"data:image/png;base64,iVBORw0KGgoAAAANSUhEUgAAABwAAAAcCAAAAABXZoBIAAAClElEQVR4nH1Ty29McRg93+/+7mNm7jza0bk1xitGIxop1RKNFQmxQaSUiIXYWBSJjUf4BywIC7GTSEQkYtdEQtiIZyQNUfUsZcqUtjNz78zc5+9nIRUWfKtzvu+c5CzOB/xn6DfS/NPtZWE+uM3qfykSQGz/2dSe/uwggJFzSaaAoKm/nOkTx/TtzbTNrJKuM39w64zZoIgTSSB5t/dgPTCE479Yw6WjjO5ctSsCwCRAl3sPCz/uV+J8RdamhL42dfTRbCCZKPaErkYi6QkvXjbiwLORSj70GYBTXd2OZyaoOGEtxw9qoWm/B5l9PghKd6mrjRTXn7I67zzesqBaSicWv5x3+17PODOjocnO0lyhjcupNw5VpiutS9USf7ZpxzeFOfzkAa9jBo0lvcIWuZzp7RaBneOTo8cFAYW11rTQHd72tf51pa2J0IR0YNwIiYNysUqiKU3F0Vuyn/LxMHKlmkoKvRMMcvDVFzOaDGKxIHDmq4HrcRkqM7VGgRHJZWPbY6Eacgpqxcy7gLXadtJGeniowCTOZ9vDd22+QYpxaVi3w2ZqIVdVZcRiBNZo35x9bwWG7irRfXejVlG1crpFrDnAiYfYO7zC8MYL1uuiK6XLqgk1JFwDSQI0H7t4ZqrOMh6rJlury8v1puS3RhfXCYBy5qlnuOLbtrEjn/tSO7WAG7V4282PIJCck19dMyixrtqSjaQYahiVIHXV0wEOianK8wGX9yVpdLpjPWsI2yB5oQCAgSDDgetl26q9TffE3LHvWgPaw0PfATBIANcX3Z+fbXbkY5kJvY5U+7W5BAAcAFh+PNLNYv7DE7/vSu7jpotRDCT/qKcObQMZ/Zy2WVDSs1s2e+V4HoYy+PcD8L/YT2KGFpNozNjYAAAAAElFTkSuQmCC\"/></td>\n",
       "      <td>brain_tumor positif</td>\n",
       "    </tr>\n",
       "    <tr>\n",
       "      <th>5</th>\n",
       "      <td>/kaggle/input/brain-tumor-detection/yes/y1001.jpg</td>\n",
       "      <td><img src=\"data:image/png;base64,iVBORw0KGgoAAAANSUhEUgAAABwAAAAcCAAAAABXZoBIAAAC1klEQVR4nEWTyW9bVRhHf993730vz66H2M5A3ZDUwqhOBBKlhCqIqtAFKl1QqlIBqVgwlA0SrFDFgkpITBsWsGEB4Q+gREjQCkQlELAKC4YK1BLcpDY22M/EQ+w69vO7HxuGszs660MAABIWAAISECAgCAAiAgAWCEU70NM1CwhAAoAYAAF6MPv9u4ndhy/7vPpxj4TIAsQUKrvfuTT36N63S/F0PPotv+i8AmUVhADEzjXeuLVyNNTF8iJHmxO5N9/beh5GRCuTu2PpETNbCNwgl1FTzUB/aZ/cuHBJBKx3Dq883H8g5nWidWlPdoNsb5jfNXe2MCJoySwW8oEOdnut+R9NveGWxvSDz951xBKIrX3cz6ZbkaK47X0bjQwMjx9vXZ8WtmDpmkPb9UnlbWciyBSSEd052K9d/PDYoTSReuaXr59I1WmqdHXjVC+Un+Ju8vOlO2vfnHmZ2epTtP5rvLcWuS2/Uih/tHcqJkfD8pXAO62Yr+9HxW2O+IYceOGT517KBX8m3fyVZON1ihDPXz5mdBBt5FuRge4oU5vQvkR/X7vf+4Kp/OlFn/UPbmkzhmFctVOJn6fnu3siI8Mctr9buhr/baFJY0GzcXpmOle8vVh1e2pidoeckId7sqlELTcY4Xx4JvC95vaMUg+dVIaFFrbfOjgajG/aYUDRlr9rpz2bGHY+2EyAtArN0+vajDeyUwN/a3Xf3Tf6kFHpMf8do611+vdWmgMV7/vtQXfZY1HdoP/X8hElrKwde+qALXPo1LvXUhhNpofkO3+slcSQgbU3rd+nPMfO9e3WzVtur4NE555XScAC61SjJu1+NVYtVXqV4npJTHWDFsQIjDbGOLQyAY5lbpk5dzx1dvyz5fcdR7OGNsYYowrVRY7pCCNLwDUPWmulYBw2jtFGs5IL56FOrL6W1EobrYwiRfgfZzSM99j+q6Tkv0SwRBD8M4PQ33lfMRu4n+aeAAAAAElFTkSuQmCC\"/></td>\n",
       "      <td>brain_tumor positif</td>\n",
       "    </tr>\n",
       "    <tr>\n",
       "      <th>6</th>\n",
       "      <td>/kaggle/input/brain-tumor-detection/yes/y1002.jpg</td>\n",
       "      <td><img src=\"data:image/png;base64,iVBORw0KGgoAAAANSUhEUgAAABwAAAAcCAAAAABXZoBIAAACuklEQVR4nG2TW0iTYRjHn/fdd9icbu7k3MzpTlo5RasLpRArEiIvwighwjAvshCT6CKwwiCwA2FkUVFRCYVZ0AkvoiIoLZgY4kSn4qnmppubbvvc3PYdukjDpN/Nw/P/89z9HgRrQAAgrNtXICSP/ZvM1qWiMWYlwX+nyslkcs+++cX2NkSiNZfJRJATcfUZgaajRYm3H+UkKQutliKF19/9WZms8kyULbiPtT/whLQx/k8p4gcNVIfGQ4lFm7uiStIr+EwNcoYHDID4eAe6mReHZdqZM6v1WjO3HqyNz/IIECCph6DuhvRRE9GbV93uxeLAombU0dl1hMMgICLRGk+R08w0U2euriR7lTJvpF5XpUEYk29U5zmXbr6kKfdi8Ifh0UKLD2envguzcwjh9Bk4Z1EM59Ns3+07Ffi7XS0XZnxJ1KmwguDdgiMxnaCDQZmqsQK/juiHZDFCEjcRUoxBJLpslrmYJ6lkYe57GRt0EdNZuQZyWACWwLw6fQrr6VpyBImXuxei/eUFYbvefYuzC5gnDzvVHmqxX26LjLii41yBcaLtZ7CmbKgEIbAN7i7m5WIRrVzS7oXEdRse8G1zB644NgIBgywnbpSQadS8rhT0gyWu2Syt22M1ZqeEMQDQumGvNOENjm5PcdfESHJkQPLr+CsKAQIkkPLTMYEyR3QDeaOW/feROOOQ3XigEwMCoC7tmHFEVIHiucVZvYafY9KUY4bqnnIeEEBKwGboa7CEQ/4AYo0G89dk8tqk04oBMEDYMmTrfukLS5X5H3aZ6OxxkqnirIoVh6Y3KLecbBUmWIYNhTxPm3vKvrx4GFwVjD07T0mbpeqdM74p35mMq8o95ro1htJwg4AqxOQ8r+T5Tn6dtzhgapks3PfqU7g09YSwDP+AAKh7wjLPX0gC+j/GI1j3DfAbdzwgynA/jEsAAAAASUVORK5CYII=\"/></td>\n",
       "      <td>brain_tumor positif</td>\n",
       "    </tr>\n",
       "    <tr>\n",
       "      <th>7</th>\n",
       "      <td>/kaggle/input/brain-tumor-detection/yes/y1003.jpg</td>\n",
       "      <td><img src=\"data:image/png;base64,iVBORw0KGgoAAAANSUhEUgAAABwAAAAcCAAAAABXZoBIAAAC1UlEQVR4nE2SSUwTYRzF/9/XaW2ntLTF0rIqpVCkRcUKMdqIhN2TGk8Eo54IF/FgjAYO6MWLG8aAMZGYaIwIcQkEOYhGFAgWI7JTVrFCCUIXaGc6w8znAWz4Hd/Le6cfQrANAZASkDIyHiKgbQwb/A/CLZBpgvD/bLssJUSenlWeqIpRIQXDRTYAgERvkrIi1h2SNagu+lXPAlxTFQAABgDcda/wVQobHI8rtecnheQl/YpyJg0AEAKKc1uufXWoNxhTx0pRMIWZBF/LklEEwACC/7p1wJL3ccjm6s0w4HBYZw5n925u3Qr0qDn2Ql+FcX5i0TrAra6ovcmFFUADUBAFsrqgrt01IGEfVE7bleo19WBK/DoEEWC0/jtNT/OWpNxQwhhzFSaEgZUCVmxEHABFot7YjMMGG98fY8yhmvWa+r991TlzfquHIIRIpvnA0qbGukGkIUGn4ac76DJaMdLjpFlKsuFarsdTXELce9GOK+sUpqOJ3FpnpfYWzSI50/JYUJ5tPR2UU35NyC1XaDfHTf41Sf16NOag251V+CLluzaUtLYwky8wsyTwUrDcPdwqYpH1SnRMLtKNKr9M5gwVJ2cR3z6jNrx3oUBKybHNeXzeF0XrSRbXVlz7Vsui1FQXi2vieQRkF1elTzjWVMF0aVSBSdPuIBXujr1zrm1VjRHiip5+G3yY4VSeOKUrXPA55lZ/NlYrdOVKgkAeosjtuO6DBa6T4PXwzTLK70r9s7Q4hRBGLKqxeRpX3s0pGlpGM9b3L0efSQxkW2YFAAokclb/qKQ4Bicf+uDw3L/JB50GUXgiaBBgEMNwPmwe1kNtpx0C5laWoRQJnwQIAGAAhNTOwSPtgUv2OUgX9L2ekZyGhm5qSxMACM7arnhmP4uy52PSvtdljhsyvMNb6AmD6jKbiXV5JvjF0rKd3iKEWcLzhCObM+IeFCHiPiZAABCQSPIPNY074GocDdAAAAAASUVORK5CYII=\"/></td>\n",
       "      <td>brain_tumor positif</td>\n",
       "    </tr>\n",
       "    <tr>\n",
       "      <th>8</th>\n",
       "      <td>/kaggle/input/brain-tumor-detection/yes/y1004.jpg</td>\n",
       "      <td><img src=\"data:image/png;base64,iVBORw0KGgoAAAANSUhEUgAAABwAAAAcCAAAAABXZoBIAAACo0lEQVR4nG2SSUhUcRzHv//fW+bN5jbT6Ewa5JKaCzWVUiJ6kLBIIqpLUESngiAIunWRAvMQCJ1CCKIOQR0SSUyyMrNCSzCh3Nf04Yz7vOfMvLWDQQZ9j58P39uH7dENhv+NGQFk/YsIIGIQAUCnvzeOSUWw3C6OGDQGgOf/yLzW0pnR6bGayy/vgRFgA9CRCQDs/E3fiWpfFa4XBlsw0SYyRoDGdkUBXHmdlcc0Qx64/W3v6qwyMlgOAAbZADqmyo9OQyw+8CFWIE1UhM/2y2EGWLyAtO7mPGE5nAxteBcXwmNlkhZ6PNkdMG2QgeFDa4qjsEeLeV3Z/kRujvPYVGj5zXfLJhaI9kbfKzHX0pbnsMv5Uy+OKalk/Vh/d+qFxpOtNrsUZzqfmbLm78n3sFTDHc3Zt5zyjIEsCPsz9ziqWrKU5Kq33RfhuK3ewY3Nq+sEYsHqAUtvKvnY5BNt+Yy6qnjMk4Vi2twDTiBEXt3I3gwnLzXGfVJR3NitAQZlbm2cM8ACkY6Ldbm/BvKFRAObT7opGfcl/LNPtU8HVZYVsZo6q73RFV+6RxHnAx4lZojjbrVNZyaZEEprJ2Mxfwa/7opaGYrBL813PSnqJTJ4zrIbUusXnJLqgaxuGWJcyQjxnUmd1wUyAVZU4VjV3G2qvOntT8TJHJWOFC/A1nkC53j+5a00Ih2XrBWy55yKEYNc26BzIMCI5yfLSnzZfREaH9L59PUZeWmwZsU2iQUjJkjoqyv+ekGcSOmq98Q9w9IQKbCgEUzAsirvfm60WgsWaVruWCvsq9y0BQAsKANg5Iqfbmf3A/q04xYeXUsCADQEAYDjwDtSS+48tKt2ZKohtF0wgbmZE5BohyRhW1qwVVuDO2HtLJwjANhGJtSd9Zu/AdRWIeg76bEcAAAAAElFTkSuQmCC\"/></td>\n",
       "      <td>brain_tumor positif</td>\n",
       "    </tr>\n",
       "    <tr>\n",
       "      <th>9</th>\n",
       "      <td>/kaggle/input/brain-tumor-detection/yes/y1005.jpg</td>\n",
       "      <td><img src=\"data:image/png;base64,iVBORw0KGgoAAAANSUhEUgAAABwAAAAcCAAAAABXZoBIAAAC40lEQVR4nC3STWgcZRzH8d///8w8z8xssttNt26scZektF1fUlpDbAkxKtYeJApGEIRKLz1Z8LV4KyKIXhSCQqzUgxdfUCgiSrGKJJVWwVYKbU1s0oQmfd12s7thZ2Z3Zp55PJjv9XP9ksR6BtLPaGgnsFKGIcDwOnG3fXz3x3sHh/uXP1JskBqAIKWUUgp7KJcZfLb4aEGMKfw86kmllGIQgeTh+J/mi5nMvrPNx8TeF2bOH+4GYEgCSMe/z715rhw23BuDS4UzhUeuLr/xejsxJEFd+485T/sp+Z5oN/pqVpgeOvHtd29fMwzDR7LFnXVlVkV3T2mXb6VSzJV71qYYTLzj5Pkxbyycj1HvnrputCFxliqvHLeYnOj315wiB0uwsXVhZM6Xqbs2ombLFH3B2ly+lO+0FaVrXteRxec8YdzMseLon5/uEGybrz9p+y1yh3Y+s/JV9kQSV379695poTzVseL3X54q33LUFhJXlwZ6S9f8LQeKrW90Xn9ObNHyB1eAAE2Sjph4vM/50f8p3LWYr+y3SCbD4cPXX5pWt3OJMVztb+n7l9oZP5n540kWabnv5oYnGjJLK0qKgaB6pwYVXr5n8hJxirdONjYfDRt3k74Ps8Y4XuZfy7Ge+qF+EEz5mYXW6mQXZXl5X2Cshgxi/+/x/KY6DKk0dt9dvMBm+M6Fh+qFW5mIlL7p6/f69wgGOxMLR3vj0o2FEXLDrdzSQdUu504PsSFp7EAMPNCjo3ayWLHbHCb5zHxysdSoMUmkPLp6n93xRNLYfdHtaK1jUS6942kwQPTbxJwQq7pauNIbNRPi3O0vCTFAMmVyto+fq20Wdx2d5NpRx6ltWzktADAxoTk72dWuzusQz1ejoNWc3XPKJgCQUipB1me5Am3MbnQ2VPAgDsGVSkpJEiAYJvXq9CnPldGmCv3SkhCpAUgRNFPKBsIOYthg+n9z0qBaBJEQODWwEpDBusGK+D9hBjgn08HR7wAAAABJRU5ErkJggg==\"/></td>\n",
       "      <td>brain_tumor positif</td>\n",
       "    </tr>\n",
       "    <tr>\n",
       "      <th>10</th>\n",
       "      <td>/kaggle/input/brain-tumor-detection/yes/y1006.jpg</td>\n",
       "      <td><img src=\"data:image/png;base64,iVBORw0KGgoAAAANSUhEUgAAABwAAAAcCAAAAABXZoBIAAADB0lEQVR4nE3TS0wTaQAH8P9883Wmnba0FAy0YDFYFVCyelCjEituomh22QMxJgZjsroXlMT4SNa9ePKVKBqj+IgxoqurBzUciG0NaGIQNvIQH4tSYKHYatttbUspQ6cz3x7UxPPv/OMCd1UAANE0RmWR41VB5jUAYI04LYqiKAoC/n0c97G3cpz1X9DrRFEUxVMEACDs2a1padcfpNq2aKtQnhjWE4DTKABwqfcdRoeQesm2HGhvDUpv1l3ZSQBQANm7Ry9H2OmyqwWysY2s+6nvpnfHxLIMQAF9rN0Xaa7PSQK3OaZP9rKS+ktHsjHCg4IN32xCw1u7aipKBCXv6sboyLO6pc0/MB0ogXeALHHeDqiuJt2INladk6tqp/5TerwGnqqtnZ5m15UKT6n9bH11du+kZTSa3sxzDA9eEFbuX9nfJF37qDz/bBfyX5QodT/WzvjX/A4bJaoy6FIe1pmGesKl+vigUynsnCW6ldtObprOEjqq9lm78xZvcNUgWnnYGEwu16zdfHDZU6OBKE2GsopPBysHWYuuwt/hL08kbImaAW1KzzOi4/Y8GhZM2cn7nguhtnZTWp3KmORV8xxOTqHZtecaEdyA86vfv6K/OhNzZpL5UBJxKO9kjtCWBe/WW2p7fHf6JqalyEslnbSIc7c8O+FjhNb8vb7bPJQypqkjMze70WKlScvsb6MDpUdBGPf8H9kplepzLLcw7Hg0MGmazpMUd/FxgIBcC9gXG2I286CUys0ryFvI1CAvh/58TUEBX1a/ayZfnVkzEyJR91DS1LsiPGb+5QwDAQS3/bM96iiKicWOyD1njq9wZiMja5kICuRetbux0V9cHbYVhson1DjzI3OgWQQIgFn3oZ8LC/vnFBLKTBVk+uyB+4dPCPiCkM7ke+WqTjDeNhZW8iyV2/9Kcd9QFTz7rl+0WAgZDui6qlLTBRMiviGQOLbv/JMd44EnLXXmLof1RgbfIWdosR7ZXzbOH2o9l9/VpgIA47jx21+ZsaL5cYklP33pAZCG/wG4GFPGkU/b2QAAAABJRU5ErkJggg==\"/></td>\n",
       "      <td>brain_tumor positif</td>\n",
       "    </tr>\n",
       "    <tr>\n",
       "      <th>11</th>\n",
       "      <td>/kaggle/input/brain-tumor-detection/yes/y1007.jpg</td>\n",
       "      <td><img src=\"data:image/png;base64,iVBORw0KGgoAAAANSUhEUgAAABwAAAAcCAAAAABXZoBIAAAC1ElEQVR4nDXST2gcZRzG8ef3m3dm9m+zmZldmnbTxkC0m4QtBv+k4iEHERTpQT30ogehUCqepFQ8eBAl91y8eFBUaKE2iiJKoRSCBv8UXWsaW23SbWOakE2ys7M7s7sz7/t62T7X7+G5fMgTBABgCUOBE1NiMBIkxuoaAKCJ4I2uyORhRIn1Zg4AUFDn4nLl9xematDCBABIJtkGIKT/4WK1bqaXblxNTcbdwRWUBpLrBePdY446+Oqb1XP9k/I0MQEgZlDxvbuXi+aRIJOrdybM/JXVhdnHhWKXGTDPX/h4cqRgp9W30TiZu+HwJ0eejQ3WJEB6LrGLYfNQru/MfXDrFcMkf/nLW6/HLivF52ts7VWqJcuphc+9fM/v2vT8i0uRIrJ0xmk9EzxS/GVseDcs9RKdGVlPjf/5eWOSmVX0xejQ1N5iMdosT0R1kU/Vt9t3zbzngYcR/3vJfufr9QuXvP6B9DTLrHW4sFr2vtohBoy9j67+9P388kV96L9jfsnugJKjv53aluAu9PaJl1Y3hu/vZzaNz7L9JiWGnf57Pp/VzNKpnPH55NoPtyPR1DkqRkPkb1Rzr/WIfWv/04a/9ZYRt7v7cqZ1pautDlYKpYmmYiip3r7WKHQ8TuvUAfvJNt/ZD48/9f5RRZTu68Xa7cuzlYSQ2bk5Y9K9cuTL9Wir55LQarQRnmnKlB1xebHiFIMH7Wh37eyC6ZKQhvSSJ7xc0ipwbDcDN9m77898QwIuQ8AKLi77jY1+d/3HN3aMVC6crl4HlNZMgI6vqbV86ma35GwOZVuB7jScU2CADLCGNPRsbcocap34NcneeWx6Ye47ZnKJyNCAdOKJB8d3zUp4o9he6QhoAookRALA6D/6j5ma/yP6azXb7Tz9s4Ddg0uW0gQA4nBmC8IL6uMH1bKlAMCllNQD4Er0JseWAlPyAPWI6JPmgXhp1IPQ1g8b8D821UEHDTsUCwAAAABJRU5ErkJggg==\"/></td>\n",
       "      <td>brain_tumor positif</td>\n",
       "    </tr>\n",
       "    <tr>\n",
       "      <th>12</th>\n",
       "      <td>/kaggle/input/brain-tumor-detection/yes/y1008.jpg</td>\n",
       "      <td><img src=\"data:image/png;base64,iVBORw0KGgoAAAANSUhEUgAAABwAAAAcCAAAAABXZoBIAAADMUlEQVR4nAXBa2xTVRwA8P85995ze9uu99rSuz7XAoVtqesyHoEhPjYgQ9xohITtA4/FB4bNaIwZicTEIJ/0kyjRzEfQhITw+DIjzCIKxgY3p1vLaDZoymB2pa3QdS1du9vee/z9UMUEGGkYOL78VntaBJIbDSFGYWt2fgJUQgjPGcZPmVCb1c5LTWss9ehXToKAugiU54gBrs8gnkMIO81gQiIc56PCQH8FKOHYE8iBxDc2vNa7vdx5ROT2Mvo9L31vJHlWw5qqd3k2Pr7TcaHOc7qc6pGQoXi1oR94iimVtFDuzVbJt7zvUOJHhs/Rc8rrsA1SioYRvambrn5jJ8LyeNRmCW+VyxsGq92RzfZ2DWmYKK3+R7GtmaWAeL4/IWs5RdathOIS5FhU0enbaj5L3rl/Jr/bBcx96wr5bo9nCD6rIipYmppzyR1LduOQo3POQKOdWQtREtuGi3Gs+RcOjOHVkTtMwaPFvH79wcb65Kq8daHRbcfqSZh6xxVvd8b/UdamhqPmSCgjj5mEvgf1HOY+ZFoHH9vCwVsZW+/XE3X2TZKdbJ9s+Co9puKKtio8kHG++Mm68stCR3Y2NdOSKJ7sGf+POa2giu45W8nALHDW97ORYLgY9cwnG7MF//zko3lMh7iw79qTXVLzmcBHo0LJknWhp1XvbG25RcBwdt23t3rcD5mL7507eEE8U5H+9rfvnQ3o5F0qqrFt1kO/J6fapn8S9Td+ENHYTvcVX6H7WPCXJEYoekNkk/0Nm79wz/bVcbgjPCUpE6e+zCHAUA+9I96+kU2xUXPm7VJiKdb0rPgpe3hALlGkuS8+/8KRkJz3zj2wTT/d4rhNbTXrWeMi6FJYLb6y8d7n126nZlLpsN7ni6myK9IqnQCiAsaFpQ/WO46uCapdzawZp22ykuq+nP2NIypg4Jnj1sWHf0bm/mJwxmGLFYT5P0rHrpIqAyzVlfKXlGe6rrRgs8ld0u7u+1h1Xn4VqhQ0oISwaAsKmH4Ov7sWzINHhWH+upEQQsgTpOkAEPLepcERI4dZ7795VcEMAACkWQoAoMU5Mom7rLGdNxdXOA5RAABA/wOwPU/oRp0K7gAAAABJRU5ErkJggg==\"/></td>\n",
       "      <td>brain_tumor positif</td>\n",
       "    </tr>\n",
       "    <tr>\n",
       "      <th>13</th>\n",
       "      <td>/kaggle/input/brain-tumor-detection/yes/y1009.jpg</td>\n",
       "      <td><img src=\"data:image/png;base64,iVBORw0KGgoAAAANSUhEUgAAABwAAAAcCAAAAABXZoBIAAACnUlEQVR4nE2Ty0tUYRjGn/f9zpkzzjiNE0XaOJY4MuXkhHQziKKIsgtUVESCi1Yt2kQtWgQF0aZFi6j/IIqoRQXlIiyDkm5YaoUNipimjo55G+fiOfOdt8VA9SyfHzyr3wOUQgARiPF/DDCVaBGnn22cjI13GwIIALgG/rJ7rcOp6m8/K8+mASphKGUoZcXuLOLYjprwOpiRTpBSzAwmQEA11z6Wx4fTsdnmrbHm3XaFQIhAxAA13W/rq4o2JLtPpH5JHlOfNywArhAxGIuWuZMpv6bP9K/tV2V9yzPTAmgGkUT0nirr53z5+NdQ8ZMXdvXAZQgAFhE6fLA2klsdzWXlVSETsDXQJQogBkFuNY9Vedmm7qNXjSwCU9GWBxBAGOAivc/nyPmcC4++9oTbA+VTEzPPXYAYUB5zerHCOBU3g7WdU6MX0sFv5pU9hkCIFNuJStsU8ju+58dTg5HyrK8qdihhaM0g9+bmpEaHZyJphlPzrtWeT3+4FGctYAHsZ+eHXh4hX1PvAGes4t4lT33jYwUGQXm9c3UVX47UDtUYlQ+937fv7Xni3dDhK0AzUREylquLDA+tnJ3b5I2n+p4mfI2iATCgf58zBn840USPp9fv9zUUZt/UDJQ5AIiUq4qsN8dGTpq9DU/23W5yCtNuvyKBZoghN9iTXVaPLaG7ux65Exl9ZrKgBADBJNjwbwrZYQraXUuathVfLOYsB9AM0Vp9yTcb2bKPM1YoGHeGsH7ackrWKQD6YWv1gbdBnk1kxlfMv6N4PwBoAwAQGlwVLXAgkxlN729pMZ0kAAgYAmDhutWGXotHZpI9FwM+wwVECAArpZQi6zsigEKTmIZSSinFICKCEECiPb45hCeUW9oE3JLR9O8U+K/5A9X3EwrMn4avAAAAAElFTkSuQmCC\"/></td>\n",
       "      <td>brain_tumor positif</td>\n",
       "    </tr>\n",
       "    <tr>\n",
       "      <th>14</th>\n",
       "      <td>/kaggle/input/brain-tumor-detection/yes/y101.jpg</td>\n",
       "      <td><img src=\"data:image/png;base64,iVBORw0KGgoAAAANSUhEUgAAABwAAAAcCAAAAABXZoBIAAACiklEQVR4nI2SS08TURSAz71z59GZKRQKLWkpTKFYQgQxklAwEmGnS0k0MVGMLli4d4MrE2Xlyh9gogbfuiFKwsLExIREI1iQppgCtqC2RSy19HHvzFwXgqArv9U5+U7O6gPYB0IANeLejvdLTfcGLTO4d7w7GM3OSQDAhOK2wNwGAACQ32r49Wporf/Y/eQ57CfJ9ObZiT9v8cWnIy9dgWvJ9psNcpbRlssT1+t2ZHDszg36Jdd0y/S9iqfWuyvftLtjgzUAGEAYHS8tlWf0tVKGha0QnSraSvbZ4wEABHByanzOUxdlJjL92PysWOGcwlw9txPLGOA0F4L5d7pDK9Xn+0RZcm16bN/nzHQIMBy4MBhf5HiLcnA7PtA6if9cUApilHQBhl5HmxxJU5ODFpdA3jKZimOxnPeMlxDI0k/ygkTdZUdFSR1clmUoE6qSxMcVE0O7NdrYKlglIV9lihmCyjaypUZdwhJg8MNS8qsiIWw1YAJEEZjFyGq+UogAhhQ892o5G4q2YUnNlsJLjDKhv2WlGmOoiP5chdtFm2UpzVp2nnH0Y2sa4wc2ArE6d8JtbMwLqGfGrydr01zoLBqzT7BcIGCWO4cf0aLW4hF5MbCaJ0LlrbLsNBIMMPDh2autGfN4Z5UawXbOppTWM6wkLgEgAMS7PZI5EEj6Huq2vCab1TXb9mQFccAAfCh6JKzG04449onfWYFVYa21aZDvZKKeMmJps36bdriTceHoG4PPxxDfyYTd8w7VqtKG3hBdQQLIMLveFd3NhLWrYczypLyAHVr/vH7I54ruq+9wjJ/ve8F65ffNTuEK+NfhLxR1pBEkF3EayOf4t1tQI6GZIu4wU4sM/odfFLITpbGL/GMAAAAASUVORK5CYII=\"/></td>\n",
       "      <td>brain_tumor positif</td>\n",
       "    </tr>\n",
       "    <tr>\n",
       "      <th>15</th>\n",
       "      <td>/kaggle/input/brain-tumor-detection/yes/y1010.jpg</td>\n",
       "      <td><img src=\"data:image/png;base64,iVBORw0KGgoAAAANSUhEUgAAABwAAAAcCAAAAABXZoBIAAAC3klEQVR4nDXST2yTdRzH8c/3+/zd86xrt67d2s09W7dpRCSTQTSwTCIDdDrlIoSLeDMBEryRcDHxYKJHYjyMC4km6M2ojCwY/8UwkkXEytLRdStdV7ZSuo322dqn7fP8PBTf19f1DWrGzCwBDADEzMQXJzQiNCNx+fhQfj0cenhEaZAABOgZkvfXm0+eO7VQbF0pfXh0ilwQgCbyDd/JcJck3e7XWZfmLw+9T+J/1FM9OJYPSBXDWYuVatHZ1uWXN90miszgmQ2tGFXnXEuz7jT2lgZurMUyABHot8m310yz9lS1R9IOO4pXN05cmd0HMOCN27sDTt5zVP90p70jMYLBP/OHOwWI8FlSTjek1sTopny7yydX468Z9v5U+YsxYmGez254biicdKg/9ECKdUf6pI5HannsHAiSO2KYplOItGym10XlTDSxaLFiB+7+PixjbMWirbxPt9PDe7ZfOfhrIxMIV7haLi4R0601dUl7XgQCO6nSodP3I919vbtKrlRzpn3MH/VuW4v1Vc+JvlSTfiyo900p5n+1XWv53iaS63h3KGGbdtfPBxS/7bZl20cf7HAyZ6sMfMxGMhiU3nO6j9z77petejtnTW9O2+1vEEGok+7R+Uxo6pEWt4d3VoVMc9F3Pj17TWJARCJPr0defyulqwZtCNILbSMvtH4+s8EyaObJTx/Y4nG72Wixcjf3DmaMeJQudZy1XCKIPfo/F1pqlYBuhimRy1e0F2dX3iguulUiIDWei3/tlCwptr6Q1x0ntDjQedVfVAUDGKRgTJED5v5qn5etO1uZasfDYxOKJxiAnHX9/qCqxwur6smQHjB6v+1ZL4Gbg6nlqcm6UaDlkfm/g6FGreL7o8zN/QTQti1/dWXf2B1V5cq/9+rjXx50QABDQKCsUHphIpj85u5j68QnyuxxhwkAiIg1AhSISZigth/qADExERELAMSeAHkgQSR5ruIKAMB/dQotOodx4aoAAAAASUVORK5CYII=\"/></td>\n",
       "      <td>brain_tumor positif</td>\n",
       "    </tr>\n",
       "    <tr>\n",
       "      <th>16</th>\n",
       "      <td>/kaggle/input/brain-tumor-detection/yes/y1011.jpg</td>\n",
       "      <td><img src=\"data:image/png;base64,iVBORw0KGgoAAAANSUhEUgAAABwAAAAcCAAAAABXZoBIAAACsklEQVR4nJWSS0jTARzHv/+X//+ay5zv+Wi+X2WK7aBOyWZZZplSjFA0gtKi1qGTHSoUTx4UoQciSAcrQRQpsYdKJa5Vphk6Rc2Zm7NNcza3qZvbOmQh1aXP8feB7+X3AX7BgAHlwRD4G45of+i+kXxQ8z4u8E+Xh5MMiIwnxQQNLwe7dSUAgG+hg+edRZlqY2d5+GrdBt172PZb9uR4l5BOj468DtmEIID1qyWcwpWfkqev2DfMssy6Slvq+YKfMhM2Hf92lRoFSICa6DNcEluNdKJCGRwVw/m/ky0rtKUASOxaTcu0+ykkBWbrUrHNb9mgkfbvb7So4ggQANga3yxqSUeNT6Wfbb2dZOY8Phxdrp+OcZHgcfm2NVNryInUbrfu/ECm1ne6J7SaVmYXggCuZ6tH4uxk5VPX4N37jUHLPrOR2h12RzsIEmm79VePXE6qVEaO96ZWrbd8CTdHaHZ2JSKIIvGm3OjTohA1JXleOyPIf7WWy9gWpHt4NXjtJNmCvadYWWJP4AifUB36ZGkbMrTmNozlQhzvJhgHz1WvE8sFalFscrSK85QsgtQbox6IdU6CKWMzRlYvsLy1e99CH8tnRgMCzaHDXh0239R+AkhQ15y2Cj36mhOmch0GitN9Xzw2YnrGs4AGmWYanQyPHVoU6dPN3rbPlqJB22RPobtW4aDBBZh1UvHsTNjXlXGJPdmSaY5mPx6o2Liy9TKUCc3CUb/5iOS+dT5Fj/km+leGzQEkQBYwbU0zBqHM+tx2sZNmu3KCpowiEQ2QgKv7juB4VJSkTycXdaUMLMVbuQKBXrW5NUvg5q1HJRXuscgQpZxpz9E0m/hWADQAeKX0U4EyrV3KX5h7yXk1TKnTLNvzk7qzokXeDKWswzkEbK8PAFDtdFWBZ8cmt/GPrv+THxM/CvcX6/B3AAAAAElFTkSuQmCC\"/></td>\n",
       "      <td>brain_tumor positif</td>\n",
       "    </tr>\n",
       "    <tr>\n",
       "      <th>17</th>\n",
       "      <td>/kaggle/input/brain-tumor-detection/yes/y1012.jpg</td>\n",
       "      <td><img src=\"data:image/png;base64,iVBORw0KGgoAAAANSUhEUgAAABwAAAAcCAAAAABXZoBIAAACtklEQVR4nG3SW0hTcRwH8O/5z3l0enKzdF7LpLw3ryg6wwdtQtCKVmGK4Y1IsCiTjLILFb6kUmDog4QhJBaikpk+WKCWistEsZvOy+zMmZd5mc7mmacHtavfx9+P7+/l9wGhCbZCgcK2IQIaEeJMdxBa8N8ywIi0Nh7BBJdg/XfNhwcieVYbX8ljWIzN8xQAEL9u5pH5qeLeLSe7ad14nXDX4goAEADwGWRqfugSVAWXGaXjbFm6Qf+Bpraaz5O47Ng52dtrmRVnnEJWo3a6+1fFmQAKYGJbumbXWKXJNJTWcvyuk0Ysaq7kq5MBAliaRFVONeMdn9WxxYcinVNKpDOJ2lPeIgGsgND9+SfvB8X2rGrkyvTWsaXRkSYpXe8smQQB2kLj1FZ+2nnJCbWmRdpRwdVmZPUa3rQKQQDSOGlWmQLz1s0N/vHS+bAy6r0r/Szadx8I/Klpw24P3+AX6qvZ+oft4eVSs+WVQ6IztKDALAmM4/Z2JnGex55Bzs1jQj9YvtySe5uU6ijAR9NjcXbUyPRPhhbju/NTgpI50ZqCGXFZJxB/EeoEE1QA5cq4n1aT+tS9a6w8ivJs4EGwUJohl8wfshj1wn5Fia5v3avvcDUf8SnLCgTe5/WPJWH11ibJ0lmey0kxzhTEzF08JpBzINAki+U59mO8UDsw2TnAeipWVPkLhazbOx6AEIBq6vqDqu6Rgy6vcyvjtZXnhgQyezFAsEbxcCl16LIZrGWKJr06D4R8jWYtUcb5jZfJZBWlM7ZswMeIo73Dtv2al0lU43fbzWf336Bn79QXTbUnfOuZYB3iVgKajba/JAR6F1ofSQ0nHVE2LhPKgb6bhg2ABAC40St8sUh1oY5blrLK9Rh3BfeHPhoAnwUPGmCQhn/hWmM1GrCSuMK8jXjBBmUaO37PfgLktQwd8gHnYAAAAABJRU5ErkJggg==\"/></td>\n",
       "      <td>brain_tumor positif</td>\n",
       "    </tr>\n",
       "    <tr>\n",
       "      <th>18</th>\n",
       "      <td>/kaggle/input/brain-tumor-detection/yes/y1013.jpg</td>\n",
       "      <td><img src=\"data:image/png;base64,iVBORw0KGgoAAAANSUhEUgAAABwAAAAcCAAAAABXZoBIAAACvklEQVR4nAXBzU8cZRwH8O/398zszOzsKywLdHcp3ZUaSAs1Vi2JBxMl6UHTk/FmPHv0H1D/BT16M2mid63RaAxpg8WmNaYCfREECrSrwOwruzOz8zx+PgSNMoSmEXtII4CmUYaa2hYaMcokWEiPvrnW+sLVF12hRkIIQaEinXtYwMSVJa9cKQJCkKQj1DQsh99WLpcSf69Rej0CPCMwjooIgcn25if/+DQO1k7OxvzQHd/dD2LQiABUnc/10mf9r589Ll+dpQQjTe0BAkK8w/dd+fCgdSbrrfFd3zOHOb1F0Qoikp6OX3J/rlnWkZp8nHfDYKH+5lfap6Zo/d8n7vHcWzfL+2pdV4eFVA7BrR/PdahjoVn/zV8tbOjuWOm1n5qjkRM963FnyqayxVg3V1gb++tCZPb1Sr3aGirlNBav3zWJEHCv3zs3VZtfrR+Nhce33uBRshw+7226HQin8n6zeOo8uTSaxcbZK8V/IZ3BYj4bilgm+OjOu50X+eI/a3Z5uOdmC9H0iR84gyShZXsPN94eDu5ktwen1vlcf3dSZ5vjGzmtxZW4vQZ1u3q80/74WnPxQW1uspSNB07/+yxiQgovdys72zeGtc6l5qYjw2B+v3dymBpFtoCd3zeDWdUwR9sPvsxE4XQlX0zVr0iitOXGWmMi/04n/+L8KroD+298995dgIUuCUG5aCoq8uNWOSWPqGeifu9pKEYSAUx36hF2cxk/PHjKtDfTapVN+AElESHM8NfL7bkIUbpxNSyN+um2ypg/jVEQA5IPT73ygTXYMvm96Zlh43Z76QmghRCt9HLQer7SnJ3Rv+TaVeX8ML8l2lAsAQ3uI7LU+Mle7tW2fTpRHJGaxhAKjhCAn7Hg4+IF18KCwKIQBGHZUJS6c9+rppaBGITQtkFCoFJIKVgEmLGZgghEKBD8DyRXM328S9ImAAAAAElFTkSuQmCC\"/></td>\n",
       "      <td>brain_tumor positif</td>\n",
       "    </tr>\n",
       "    <tr>\n",
       "      <th>19</th>\n",
       "      <td>/kaggle/input/brain-tumor-detection/yes/y1014.jpg</td>\n",
       "      <td><img src=\"data:image/png;base64,iVBORw0KGgoAAAANSUhEUgAAABwAAAAcCAAAAABXZoBIAAADBUlEQVR4nC3B32tbVRwA8O/5nnPz497bpb1p0yZZQ7pG2xBn68TCxG7K5mDK3EA6mCB72J6miD76B4jsQQQFwZcN+iLig0ORgeIY041pTUYWs5jFtQ1tfixJk5Ym91fOuccXPx8CRKIiiJC6zRy/5UdXIgfGhJQSAXR0hWCG7hTCZ6+23l4McAXk0E8FQ5AuZ8EZZ6d3cCnou3kcstNNrvq8IdE8giB9+NmV02/m1ye3xcOLdeb9MCzPe5rD/YwCszbnMfVI9AmdUXob0cbnf5y7eG/XYRIFiKsnrp2+UXkyNdtqnl2PRZKPcuntsi4lJUAz/7gvB6OlZ4bDaBm6EUuin95+6YN3KCUYPP5C8e/EfrTz4gPQT/Vyo05brbzycx2Zi0ykPtHimtGx1qeEVr1r1E2iLLmLq1sBhShcXqhK11DC23z/xC8ha2KsG3Zbw5wNfhRq6Okh1eh0nrpE9Q1IskH11h2Yfx+mXcSQdmR3zAvpg7sPYvnYiOzybf9Rj+ykLiHyQnANNpPP96bHrX4s2fnRxrhdDbev/5v2UPmL5drhvVq4Y0ChvSGUj54opimtU/BhCKFfTpj+Pdzis1JUIo1BSW9MLsowJY0+geXf1MRYipGiDsUDXLj91+uknJlUV4MSqRV1F7VKaRP1k4Nk2JlcFnXtAE3dAwtQZJtfFUNLicpcsiX4a0bhz6o+F7Mq59SvJVNNeC9id4tvbHDvSKYWUaWh7OKM+KZ4i6NNy6J+sDe8ERoTgcZ8O/TsRDc4u7HTnLtMkdA5zxOjU/FmCcAokJQY+Db7taUClzoKjV4j38v4QJLcSM2m/PKZZHX00Kfvnoc9wnjAhi+/WP71WOanw4658OrNKstPjJfWJkaryKmf5L9LP14wr48Ec3L/fjZO1eG36T2righiX56cDVyo2dPqrefU9FbaMkj241XDFJwAQNBzVq945kpP0RKJ3LHSWm3l9n30lCEAAAAizcL5KKByeIHCCr3E2DgSQuB/6GXeyt8xjZGj7d8dAEk8gP8AK4NuRT+zcmIAAAAASUVORK5CYII=\"/></td>\n",
       "      <td>brain_tumor positif</td>\n",
       "    </tr>\n",
       "    <tr>\n",
       "      <th>20</th>\n",
       "      <td>/kaggle/input/brain-tumor-detection/yes/y1015.jpg</td>\n",
       "      <td><img src=\"data:image/png;base64,iVBORw0KGgoAAAANSUhEUgAAABwAAAAcCAAAAABXZoBIAAAC3klEQVR4nFXTzWtUVxiA8fc959xz72SSm5nM5It8TEjE0dEhGKtgExU0Cy0KqQWXimBsldCW0pW4UMGNGyFQyNKFmxa6SgiCqEiEaCu22qmCovmYJDPGJJOZeydz7sc5p8vqs3r+gR9S+DyN/z8BAKoBEBUoKaVOAhBAZAAADAAQFYmPHpmZLS+nDiyOrX8NdlUpChoopYzBpG4e2tl0btd39Efo2fkHAGeUUqRA0Vu7PrFte1P1r+WhaAMW5vqKV0+ZHgBSpJF0vdXm+LYE34eEFvaHN/kXvVQjUmi+Vrt1pNhKLAeWUlLrRkdIF3/JSEDKeNve5FKde39/Vw0DVUds16z03CVjlzQBfaezfkOzWW+/ij2VHe3WlulX59Np7iNBubISbiId7rwpeWnT/egvVz4ktf3rne2KKHmjX/MtY6ZdW/MDfVHxW9da4Clv7OTFCCHnM787sSRtf38BplpUyTxTQJeXaG513Wc61bgROPVkz+ESaznlVWOvRfgvlQvZotCMTn4hTC79xHrgHwpz+4Q5d3kw+6gUfzStSPjn25xew4XN7oZIg/rm/YY7P5R8iF8Op7o5YdqJRwk1G4Ws3PamO/aOYy+3oQAPIh6RfOTnxXSAZafYOtxyWmQTr628IU4oq7OOAIZTznilu1JrWBjYehKOsI4cf5c6kX3V5RMIr3w1erZprlIxS0ExVj7ZMhsPlhaLo7E2TSiSqR92V01LR0fINp5pHTz4t+h3+UuvC4jU5OmO1SYQLF8o/rNYKGcOD80Fe+zY9UGNFBCCA/mBes1ZsbEWk4YjzNxP9xITkRoB0Nqe7ni1XDXc5nLcxZIsh7ULtQkuGAEA8BKTx1bwhVDRjXLerebN3QO7DCSaAAAlRl8pG2aeC/fe7GOnJ5WG5xMqBECqGSodq1Vnjl7tXf3eGH8mvj3uEUtIooBSxqhhMMM2+2GHBT027zY4ckYJxU84cP9zDfAfbjlLPlfaehgAAAAASUVORK5CYII=\"/></td>\n",
       "      <td>brain_tumor positif</td>\n",
       "    </tr>\n",
       "    <tr>\n",
       "      <th>21</th>\n",
       "      <td>/kaggle/input/brain-tumor-detection/yes/y1016.jpg</td>\n",
       "      <td><img src=\"data:image/png;base64,iVBORw0KGgoAAAANSUhEUgAAABwAAAAcCAAAAABXZoBIAAACu0lEQVR4nEWSSUxTYRSFz/1fH51bSymtpUAHICpghRIxYiKW2JhoHBcaY+IUXenGyEJd6cKFbowuNLpwYKHizoQ4RSUO0TiDioAFZWqKSostpa/09f0uAHs2N/lOcjb3I8J8WI5BYUoegM1djS2rh6KQ3nRphfC/JSIiWAEhIIou1QorE/UHVDSLiYj0p4Atm/2B+npxYvOCZgBqNleDQ9UkjU4FXzrZutEbtqph91thf9skwAC+saA6IZQt7DEnf0jvfDpdbtqWOn+HAwwI3J2RRNJGp+V4w9FkUB1OD/uWqTcBYODtC+qKFyY/FxkKjeFk44OU1uiWEktTizgY0GTxl8cG1BZZi8LTbyaGbxu+jrHJE73gjExR16v+qJTl5pvekeuaOFuy3vp7YOt7+iKCatlKCtX7KkOVgfux1Zc571A1Lm321oKI8eNCl2UkuadJZ5O3v+msBQpLrdsmdk/CTqSte634u8xbpRZN+s+3M/YRl9Ma9f0MyF1Fo0S6lOCvWF5KxtX0XM60RH0VmnCJY9Bs/GBgPFWmHNzJBE9d93S0zdlXKZdkbNq3dn2XPUvEBipz4w/LVEJbTaJXadhbsH5oxv3tlympCAzcndWdMyV6rbXCR+cW7ZPdsVzuqToYd8kKA4d6atAT/tu3bPkhh77hysdnxVlvYVYzKigMoAvivUmlOBWJXKxiPyPHFr9YKdCYxMsx+zLh2q6Z9nT3moxBPCnF/N+HitK5OIgBIELLo8N9GGSyc6A87ryfU1x/4qA5hxI1a0vP9K6N/x1817NqysEC3HCW5gXTS7cKWoKpfs/NlC0ybRnnkaLW2UkA4NTa7Rkyjxtzqs7GnlCs45cjM28fkeAX0b7PGaq+eiQDIAvM20dEDJ+qsaNqjKl0RN7Hpryas1FjLwf0eLUhD/P2g7MCCciTf7RbCveWy0PpAAAAAElFTkSuQmCC\"/></td>\n",
       "      <td>brain_tumor positif</td>\n",
       "    </tr>\n",
       "    <tr>\n",
       "      <th>22</th>\n",
       "      <td>/kaggle/input/brain-tumor-detection/yes/y1017.jpg</td>\n",
       "      <td><img src=\"data:image/png;base64,iVBORw0KGgoAAAANSUhEUgAAABwAAAAcCAAAAABXZoBIAAACmUlEQVR4nE2SzUtUYRTGn/N6585cP67zmY6oM+JEOEMKSULlIggMi6LALEIIWrVu2z8QgrRr48KioV1UEpYZaaQkBimWpjGOmpqOOup83rlzP94W05i/1TkPPJtzfiSLOIQZxEHFzQQVZzF/X5UrrfMj2pZRSCokEBERahfJYnVBgsjQ0cmogAAAeNB7Dnez+kzXVMz9AeP7TVscAIgAa9dQlX89e+ZPNutiWnqnXhcmCAAYgOpwxqF73LtSQrbMq3qlzlsG64rN8OD+YlMiJbuUtF4VdW64bcbBfAkHGCDeK48H1mzOvYOcdHxRXq917+47pLcywCDc0ubKWdmKP6SXInPs66oQ495M7qINYNAGG2l/R6+OLU+ulk22CTRmz0aCVzAGEKs66B1Klyw1JHyp0Z69YZPOlooKz33hBMHcpAHRUG7ENn0JvNAMMuNOrzBZx5lJjIF/c+m+mfWbrkC/bl7jghxZ+eiv8hEg8MYotyc7UtZnd6bj10N9VtUUbfbUq/Z4ljNEuaWnfntx+uRD96w1n7Fgwz6tKrcn8hwMfNzsnNv79dPV7Tzlbkhby/wrFkWx8DzAQBcq0Gu71JxwlogsOZLK1tScNjFgcEAAuEI5m0OvTywFpfxSp7fflwkZ3zUBYIDWyK/SToAi9fJaVFRfGy4pEsk3GIXD81CkI+oJNSRADj0anXPo1uopU8mDAaBV9VM64FleESo0m6LIkrf8fU5VC/9Eeiu53vLyRM0eD7w7aBaSUmX3IyIUBXMNP/WaO5a2x1I8ue0LhgWd/pkAINH6ZEH97XwzWrrQGiwPOzOHmgDQPVJ7byASs/DL+meGuFSIqQhn9KMP8DNgVixE7L/uoGAKWHp+Hi1asYgj8BLz6PoXHl0fzgg+9gsAAAAASUVORK5CYII=\"/></td>\n",
       "      <td>brain_tumor positif</td>\n",
       "    </tr>\n",
       "    <tr>\n",
       "      <th>23</th>\n",
       "      <td>/kaggle/input/brain-tumor-detection/yes/y1018.jpg</td>\n",
       "      <td><img src=\"data:image/png;base64,iVBORw0KGgoAAAANSUhEUgAAABwAAAAcCAAAAABXZoBIAAACvklEQVR4nEXTS0hUcRTH8d85/5k7zsydGW0eao3ZqGSoZBlaKUHRoiCsFoGLoIiSiiIigoKkRQWBhAZWm6CiRS16U2FEkAamFoaQ2oNMyakEn/N0fNx7Wlh2dj8+2+8hAkAQgEQIYAMMkwAAYAAwQQCYhWFoivDX5pFEdM3uDkOKMPN6dK3FafuP4EXevfkT3/Zl9p5o6q6laFwjAUAkLI7gh62VgR9F91cNSSKgTzdPRkNDpoBYCJbxnOsqEr1Xws31j6N5AzkTM/cyIgIGieuc+4rHnfVg9ejkgbFQztcR5auWpAlhEUyf2mAP+INrLBaVaq2MGxVRe5t2O42IQbazz8Xsnyq61pCE42PTI/3LW3P4Wk1KmMAUvhpLdATVs/DlT1Hf498HnQHtZ9nDNgKBrVQzlRUbGXsxTou0Lo+11mHn5T+210ARKzN34+qn2d9R+bOwbvSwr90ocP8qSfpjLT1MhnEpbdD76mVOZ6T/hM8dCZauKFatyfj5ThDD3LftZnaGv2sKaYv1tynXEj3d0W7T/PV2FsKtUk/PyZhtToWHT+pGnDJer6iocDRaxMIo2ONN3340G05VuHnAlz3pmnl2Xf9w67MCizF4Yf3s1JPMX+n+kb6hUfKODR8K9cbXvVEmQ5n6l2bP05b1vYmCnmNVcW1xoKN9Q1+nMcfE0FK0KlGVSE47I6H84fdZ7PpNxQ1HrjJYZFaZPVXO3qBeptCtZ0arIzsKPWhSABOJ0BIab1JL+9mqZiZdLUbreAos8yUIHDcq7qRsqQmzYIR86blZOy9qNnMe2Tr48PjL8lg8lOyzQMsLRHfBM80AMQCwcjXuPxPOS7xLW+a9+7W6LWbOWecEPH8OritXW3Z356+kw6fLmZiJ6B8yGBbybMqABjszMxMRLeQJAbNh/t0mASDCQuD07w0AEgjwB+RpFewIGefEAAAAAElFTkSuQmCC\"/></td>\n",
       "      <td>brain_tumor positif</td>\n",
       "    </tr>\n",
       "    <tr>\n",
       "      <th>24</th>\n",
       "      <td>/kaggle/input/brain-tumor-detection/yes/y1019.jpg</td>\n",
       "      <td><img src=\"data:image/png;base64,iVBORw0KGgoAAAANSUhEUgAAABwAAAAcCAAAAABXZoBIAAADN0lEQVR4nAEsA9P8AQoCAAAH9gEPiJHm7CD+A/gBAwd3b/UL/gD/AAEBCgIC9AcF/PYAk80P3UWoMd8AQISZaAr2/v8B/gEMAf4B/B8OT/fxFuHzA2Od1hYUBaLhJwr5AQAAAgAA/PRO2ALBCibr4/IQf/I/CwH3YA3p8wkAAAABDAAB8xDwZDnK5gL3ECMam+FE6wIb9xyKDAn+AgIAAAod8f0vz/lV30vt+L3qSiwYFeru/g8OCf4BAQwBJMkGQRHiOvzBTwDtARPt/yLDWykcFMU7Dv0CAPPQLAqxpsPx0EwgJOsYu+76u9D4Q+cAXyf8AAENA/0cP2wI6zizPXofrjL1NdYW0Bf6zled6gn3AgET8ibkKc8Q/DnvjgL3FCTh+8/i7AY539+T7gECAd8JjwKWSRvN/CG4WwqCLfr/7TkQ9uXbFKEOAQEQAgL/W9q3+1xn7JkMsPcMx5n4ONjOBAc4hgkDARHvG01MvRLhQP21AAvew85aM/yoUQUX7gOgAQ4BEPMFLgAq4hTbGIKt5XTJIsYf6bX/ByMO+OKoDwT7/TsP7fv2Aw/0dg8n9yM2cEXAGgPb/QkP/Q0AAgAAwgECSe9IBAH+CtPyBg0ySAk+/TCzIfb0EfwBEPYCUeoq+TG6JcoHuDQEIaciEDX91isjKHchxAEN9N+5jxj+Ieb1+8otRuYUutlW/QvkAAITBrQHAgYTILw6ExvRARkSJjXPjv9BUOj95hfzEgq0Tf0C/QUGKDMe3S3/2fgzDTta6+ztDPbwI1vHJHKt9AEMGA/WkMv/+gq2BhBKWafw+OIjBv7+4vTQ7QEPAQ8L5gX70qD1GdfYEtI0jqbW5xL92QEUamGhZgkBEu4REXA2x8nfIvIN9kGoB8I/M+0q3xx9G+QX9wEY8AcH9ECzUSXuWHoLUvvS6fnpRAnAz/8v0gv9ART3B/70Cfv4au02694EyhMd6DeDowQLeu///gABDgL9Av0AF8o9/NphB+q5nKvp5RjO+hj4/wP8AAENWu4P6bUHAPdpCpT5dqcH3GScNNH7EAAA/wH+AQgnAN4R+AD2A/cUPCrU8Ea/wQUC/AMAAAD+Af+HMGpGTW0F8gAAAABJRU5ErkJggg==\"/></td>\n",
       "      <td>brain_tumor positif</td>\n",
       "    </tr>\n",
       "    <tr>\n",
       "      <th>25</th>\n",
       "      <td>/kaggle/input/brain-tumor-detection/yes/y102.jpg</td>\n",
       "      <td><img src=\"data:image/png;base64,iVBORw0KGgoAAAANSUhEUgAAABwAAAAcCAAAAABXZoBIAAACeUlEQVR4nH2TTUgUcRjGn/n/Z/8zOzvjfum2mOlmrqViJVaICWkk0a0OoR26RXjoA7p1CIK6VJdO0a1OFVQiEVgk0qGiIivxYwtsJU3J1f1wd2d3ZnY+OqxQVvicXnje9z28z+8FNhD3uxTP7q7m869uqv82jUweD3vrGitr2j6MkfWTQ5k706nmhFpjirNiVeBWm0OkfNmsetuTj8bqmSPMNmhpwTUeeXBkBQABwAZ7Ew0V9SHZwwQX2xTwNcdPPexaWzsykGgtVmnCktfMBXP+osNZs2xwL0CABj25TfBAsrOUBZhiK17GIj8v3gZ44Er/VllgzEYT9KLh50yOc2m1X5oAAjR2i4ZKSlbJRQivEIdzeGIHmBsgwPhTKMzgJf+P/ZLksoq8PZeXWXwUIODuttCcrvuVGIl3UI1Jukq5guXVAYJwTTylpSlb7gtPPwkWVk3e9C5athIECHJhaXOlas9UJBc6QqKPWsRwqkWzbqIXBGpb2DCjebn4iU7QpYzMczIRmNvVNQYC1voNcFiBug/sjGanCM0ZIqzky0gKPPTs5etRQdBVGsvPZGs1WiLFgjt9dBggwP1RycxwxLJLn3e4v+ucKlL6sakvBhBg7lJFQnLZNBvrdLd3z5eUdGpm16JvqHz4wzVvmCyD450MCdi2Yxlq5Ynhe2WTTHZ7/IrkGBpkMFsrFVfam6865TztC4+2m7aapU46v+LMm8bX5YFrDgAeAJ4ZPk/CW3DnwJSFJMeKUycNrJEAjKb7I6usIC1bq5rUkn534/06+o6Nd245FDrX0rEvou75iz5AOXg6+Lin0dbOG6//AzXOhCQ8f7HRC/ypX8tc/O+SPa7mAAAAAElFTkSuQmCC\"/></td>\n",
       "      <td>brain_tumor positif</td>\n",
       "    </tr>\n",
       "    <tr>\n",
       "      <th>26</th>\n",
       "      <td>/kaggle/input/brain-tumor-detection/yes/y1020.jpg</td>\n",
       "      <td><img src=\"data:image/png;base64,iVBORw0KGgoAAAANSUhEUgAAABwAAAAcCAAAAABXZoBIAAAC7klEQVR4nD3MXYhUZRjA8ed53nPe8zVzZnZnZmfc2l1XdHSIXGqWJQiNFKRQJF0s7VLSi6iLWkK6yaAgim7CizSwm7oJqYigFqRARVBQFNvGbdePdmbHbZbZOTsfZ8+cr/ftIul3+4c/qBpDUNMacUWzgSUREFTTQAAAzAFKGV8sTiU3u3/iPb7HD65/P22IOAIgIeKoefzy5qcH2sox88Sbs6nkvmn3O1MCAGZBze+Y/PYJhpFrOsWwjTFg/Hr/7QCApFyZ+bw+inij1iNHS4JUaSPx87QJAET2hSPnrxOfTwU27mw8FBBg0mfFkwBA8uHL+jVOPwSC5bJHO12jM3ulG3V2fgYGkGWa2zDpjkmSVv2sl1fl1oKtonLkjkfU2U4jBchrWtSdt82UwSqEc3nd6k1+nSNxfsixMssAaFdXLxXD5g5Y0hdEWNhlCzKcyeFaH4KPJmJ1bWj29t7FT9T1EmJTfxDhcD1XtjRa32DZ5TVjg01la+ulv3S3O/NFm3j0QUNHMXjACkfKrZWX/llq63Mm6vlTlyYpVG5aUZDxbjF/MDs+mk6HTNiGR2zvHwkcezDy2n1be5TWHJ6xp0vHhjywe30hS+ESRbRtxFhZsDimtN/fURbHQ8bW4xZTz/GYhP/Vu/HMaBxJjYcNg58qB+CJGGWs1BXdQNX5hqlM6YcvTFRlZtmKhxoDNXvLpwXy7d0y1dPJIYSbz7z/6/5moLfsdnv7q6tIRvjU1R/feLJh9Gwnsda467uyo/PTRWvtjI9JpXJuLrec9phZCcrVDO8wrY8149nDBzm53tR7pVUdDQy2TIQDICyVW6DfzertFslI4MovicC12izydJTS97u9hQs/7RYByahuMyXhDMYFBvF81QriZv15eu7QhgQEAICPna3V1qa/3dxv+yp57BcqncsJCf8h+BCcxUOFt8pn9+w6/OJpJuc5h//R8CsXj35J46ODm8YCOAMEAPB4CwCAJBBREEdPPE7/Aj9TPr6uzwBSAAAAAElFTkSuQmCC\"/></td>\n",
       "      <td>brain_tumor positif</td>\n",
       "    </tr>\n",
       "    <tr>\n",
       "      <th>27</th>\n",
       "      <td>/kaggle/input/brain-tumor-detection/yes/y1021.jpg</td>\n",
       "      <td><img src=\"data:image/png;base64,iVBORw0KGgoAAAANSUhEUgAAABwAAAAcCAAAAABXZoBIAAACnElEQVR4nF2ST2yLcRjHv8/z/unbtdpu3brpRmaxCSESktlIJkTImIPb/LtgskTcRFyE7EZkLiS4OAjBARH/DkIsM0LSHRxmZGuUqszare3avm+9v9/PYbbhc/rmefK5fQizkC6kR5KSghTm4LlRgcsT1zytPQPdYfwHnb30cE8z0AqjJf7C+NukwM+vFx9xo9bzAd78xi1l0KwCAN6VsWg0oPvvYdeMtMxPpzIn1bx5NYaI0lF415UpWpqqPH9yEACIAL/0ptt/BrSwLQpV38yu0Zyoe9xzgRQYWJ/d3W7VVIcdw4wObQntmBJGKruinwEGdW4exWpOWIutxsnpmHGn18/O1tcRATCUd6iY/2xGZb48FTy45mjukJ1la/mJAR06aNnOdKRs5R12E4Z6Zqfb3IAdupG+K4igFdsqQ47tExUeSjWlkzVGTl+amAg/shRDNAwLN+nVRHYsUyi6tXbREN9lkzJ1YmBvUyHbrH7pS/Xk6GOe1DxK2OUf6U2uYqDY31GOm4avFDHX1nlqa/Vq5M34PmjMgL/zgRlV0vrl2LLeVIZR9laVIs8Pu8TA3bfjLP3TRdv2NdeWpStcRx8bPrISQgelFm2g7blpx6gzc6EZXzY4bZVafPurWRJAJBrQOrLOZuHxjDQ5MG0FJ77pOhgElreSqfrJLy533W6Y8ml5TsW2Hb8OEAhQzWOrIhWG5NLGwXiLpmQm9/lmtwRBU4p4YL8VDJc4mHjfEbDJnah8GhIghpCk5IEnFgrFYHnJMa7gwst0r1+A1Gx9cjwZm+pQI/X0xp7xj/fxQw0Eoj+h6b1r76uP8cYap6p/3aWxK/ZCvQC0SnXg1emAeS5zZr0yQPMPnp31X0qpPj8QAECMfyGGTpq2cPgNvyIeCsIqSDMAAAAASUVORK5CYII=\"/></td>\n",
       "      <td>brain_tumor positif</td>\n",
       "    </tr>\n",
       "    <tr>\n",
       "      <th>28</th>\n",
       "      <td>/kaggle/input/brain-tumor-detection/yes/y1022.jpg</td>\n",
       "      <td><img src=\"data:image/png;base64,iVBORw0KGgoAAAANSUhEUgAAABwAAAAcCAAAAABXZoBIAAACv0lEQVR4nFWTS0hUcRTGv/O/987o+JjRGnXsXrNuPsoiDc1eLjKjoJIiIqRo1WMXEUWtgh5CtJAWkVJR1qKoCCGoKIiKJm3hC1KraRpnJh+pjc44Ma/7ajGj0rf6+A4fZ3F+h3JgICVON2lq0mlgOk+gOaFuBdsunVoIIi9TnpNkVK1q6agSYW7guYUGAE7h96+LeKV2e6nKPT3381lyDxGAA09qrRXyx4JJ6MWdSxzHV46LOgAwAIaCihpusMej2E2TDlfozO7VfiPVZM6NV8Z9edmBqDhq7yvIVrjE6ksKJYfpMblyvccyYZoqfFMjWJfpLv/i+Ds2DTAY13I22/rC+dvs9p0F4dqRrzFrXK7WAzzAwLWH0kb+6NFPy8U2j9NVLhew0q5vB5EH8NCCg/cDhZPKnRW5ja9PNIWlv/Kw2F2JoEGMaE2Zyd6X8/kM3/lSaB8KvXc9tw0IcacEEMzW9OOD8erQYLGm2b9o8h6vGPY7N+jNCYVnK2f87pLfixW7YrXJQiwtbOkRixofLo/qYIbLx5kCjlEhY8znCj7OqGUDls5QYO/dGgMMmg1l5rF41MllmY7VrxX49ImlLnWR2g0wJF7R6aj7T2hXlt91SOq95ywPxGaLwsYOBgZsBln3mfmpiLpjJJJRP+2/nVb29ZjtRS6IYNSpXRU/rgen8/uHmsSS7hntaGvb5EGxBUTA3hdFh4UlzmhWKBiu35qwPNKX3szyqgqIAE5IXBjjFZsvzyd5C7M9QtFsb//Vs8l7auf0W5ZyadahbVqUM5y5RS4Z+2WcnSPBKPYeibH4TG6imHdvnHJzlRcb3qZIAI3ue8C83nBG9EamOjSV+HAfXQDAAwZB7WAxjF4+ed7qVryR7w4PIinCiIjIvIojAnEEYmieA3MeUTovgRHDtlYL/cdt8gc4lU8IKtPmk3+DYRtGIRscJgAAAABJRU5ErkJggg==\"/></td>\n",
       "      <td>brain_tumor positif</td>\n",
       "    </tr>\n",
       "    <tr>\n",
       "      <th>29</th>\n",
       "      <td>/kaggle/input/brain-tumor-detection/yes/y1023.jpg</td>\n",
       "      <td><img src=\"data:image/png;base64,iVBORw0KGgoAAAANSUhEUgAAABwAAAAcCAAAAABXZoBIAAACeElEQVR4nHWSzUsUcRjHn/nNb9539m3ct3C3TdkUBb1oEhpRuGFQh7oEXYLo2h8QdesWHYvIe+TBaxQsQYu1aGJFYmYZ69tuq+vs6szszuy8dtBSwb6XB54PDzzw/QAcDoL/5Hohd7NEZkdDBytib7TxtcQFY3Aw93O2NfaUOAKH+HUrDIaeHb9bZptz7Y+H/0HiShVWYzttnutd+7E6uPW1KyA9+vvCpXAWJxNJi+WIL17qW5Bsry1O719+nH2CTFKDExoZZmlO1vqtEr+bwwAY+PsVvZywPdJnucmKoHbOV1w+7LKkAwjukRldQgxm3VBbFdunxIzEBYswYgMgeBPNi5xoNq+GLZ+NJX78tSsEe7dSPACCD85l/y3Wf2PBCTbYYeO5iSZtRaO2z9KAQGyEo1N2ZFqcykRSKxuM6fQ3VrROJaUDgpBT5Vwso7k7E+/X5zctJjCkMAt1UgYg4OXEr7QjKjrnCy9/lmQmecZryEU27r0iENy2+xnT4xOZhHq+g7lInVQVrKaC4kAaMOgEhkCrpfCkyI3WCj3ZHGUIckdpTgYMQK21V7ETs5VmKU+0VtW4UMH+5YBsAgIgizULRbW6xIABLCWwmjUS5bZHTUAAkxtKQowwOjZm6GFk7NjYyK8F1PxeZQN+KdTimvRGhGjwb7W+uO41jezD/bLTvcjz84gi5NnTgsM5yo5gL5X3ldIXCVEgK24xSmkrNO0RRH2mDAAYAGBTUg2vmnaMTzHGRxfNkLzkHcgoe13b/npTQmCHGjba/C4etg/GCueKEs3v2q5N/Tb03aPapqdQsO8ZG4929Lwgj9G6+8F87F2hmzgGHZM/TiII3vKxmkAAAAAASUVORK5CYII=\"/></td>\n",
       "      <td>brain_tumor positif</td>\n",
       "    </tr>\n",
       "    <tr>\n",
       "      <th>30</th>\n",
       "      <td>/kaggle/input/brain-tumor-detection/yes/y1024.jpg</td>\n",
       "      <td><img src=\"data:image/png;base64,iVBORw0KGgoAAAANSUhEUgAAABwAAAAcCAAAAABXZoBIAAAC3ElEQVR4nEWTSUwTYRTH3/d1hm600E5BoBQQggiCSzEIohADigqagKAkcEEPRMQo4WCMMcbEE4lG4wpGL2pigpoYjeKCwbiUBpUlQgGFIqVgWTpdBgqdznweCvg/vfxe3ru830MIlkMwvYQoEpCIy4AS8UpP/rFIIpdLBOpDDgkSIYUKFupqZ35NpdKGt3xxuQcOWxcAgFhQcK0pOw9RQgoJNVe9nezmT15HAAAIAYDCnN7i+qnceb6w+dzYeDK/u6EvFgAAA8D+l0erWkdlW8+sNRjHw0LdUU2F+twQAKAAoO9go0/rSYzI0gxOGjil5DnIZJ9lwUnCeUe8C7jkhdipSCdsHLM3fayk0hQOgIEyeiifVxjKvOtkFnFlBt9vNxqmsk7XIaAgtEt2ilMyPj2r3dY22x5wEx89t37O9EPjxMDK+X28OMJ4Ftje5Ggs6HSqT96lGT9KBYRqpHS/LnFqQhFmtTMVfYvfwtK5mAl92REnpuCJfrjW/UsXCRG9OSK7KGotEonHYRxx0YAhxhJFufPpNcpJSSB+nkuja3aVc9HjT8GhwuC4OGnFmrgRB46LNneFTCRsd7sOKRLapcwiJuxDe6rq9Z9pz1CSzCBXzJRYKadZ9x5H1AsYwbTBp8lWM8kHrvhHc6R5t11epdrXaVfdIRRQxy/HfO2PpbnfUktBXH5PFslTONSlBT0yQAgCm++3qF1/cWaD9tXCO56MTpCzvdeUPA8YQKPNVrBi5szV0gfz5kcb7/UNNwzq0LwAgAG8kaKd2OaFRs33x/G1tmNI7VRpJCfE4D1bi554mEFhSIqhw9DUTYwbmPp1N5dNUFWkmQz2KHOZbcB9wxTRlujI663ehJY1UXFwgZv1a9UdOn+xcmlcU2dgVx0CAlEZATVL7WDehKaFJ5Fy/3/BAKTaGKsnt/hSs4+durXn2YrNKBgaeL2CQlALMmGFIbT6DoBEAFoAJK6Sf033J/AfWtrjAAAAAElFTkSuQmCC\"/></td>\n",
       "      <td>brain_tumor positif</td>\n",
       "    </tr>\n",
       "    <tr>\n",
       "      <th>31</th>\n",
       "      <td>/kaggle/input/brain-tumor-detection/yes/y1025.jpg</td>\n",
       "      <td><img src=\"data:image/png;base64,iVBORw0KGgoAAAANSUhEUgAAABwAAAAcCAAAAABXZoBIAAACMElEQVR4nHWSy2sTURTGZ27uTO4kmcxMWmtpKjQmYNCC1o0K7kopYqFk4caFC4MIIhRdCKLL/AHixoKCFkSkgoqbtj7pToRSrEaRxApq04d5T+Z1Z+5cF81kEsSzOnwf3zmHw4+Vmf8X9FuudoaZKD/56kug003cOaUXbq5ktqb+MdncZFbfHNmbX9iXXsh44u7O+vb1h6kLL0lyh5RCO2u3ct3mU/5kJlJFYo0KmP18dHa05Zt3pyaHEWkG7XCLg46zPrc645tbB4/9THCqYlOohzBll/NS1DuIghQzwhEOIAcgFhju2KN7nWvt6RhPOCBYZj8RmLCqKVdRZ2y24RrGkBGK4gqVCDaRDu5H+Xay+YwgxgBOSacBHqvQFL7POd7Y4xWMBh2haSwPizq0rD/w/fmQZy71RRwT0qHgGOuyKs9G9Lj/+It9dZcPYtYebGIjxOkmM844sJ2caWzyAHO6zQusZFUgVL8wojd2vbzfCIoEJYolXIbRa4jkX2ueCU8sSdiSBrTEHke2Ko/ZfjFtd95XU6ZhIOhQjKhCCzHNVmZj1CNh/oil8QyBDYI0PdwConuDdpL1S78ENwZoUZEgZU2r8jzukyDfNnUJQzzKEcS7pnRgsRuT8bNF+IMKmIPlKnFWEtlu89O5whuysf27gVsf8Zoi9wDmKmo9865a2ojIaSc1f6WXPjCwmoxvXX7x4VXzwaFEW+0QDA8nc6cDxttvizLytDZ9u2mX6a2/f3nvVJKVgw0AAAAASUVORK5CYII=\"/></td>\n",
       "      <td>brain_tumor positif</td>\n",
       "    </tr>\n",
       "    <tr>\n",
       "      <th>32</th>\n",
       "      <td>/kaggle/input/brain-tumor-detection/yes/y1026.jpg</td>\n",
       "      <td><img src=\"data:image/png;base64,iVBORw0KGgoAAAANSUhEUgAAABwAAAAcCAAAAABXZoBIAAACNUlEQVR4nGNgwAMYEUyWP/G/P3Cu/4dFFU89gyyjoqISI/c2DJ3RqxV8FqhrPuN+LbWCgfE/imTx5N5d37+LvOL7/4Od89E1lm9IkozMGvyf+eU/vhf68o6BnX8Xg+5lBgYGBiYGBgZWBn5xrv9sBW8UWH58lRLWE8gUdmWASf7O/aSlwcKkzXqHnyf6C+Pbb++lJwkzMDAwsDAwMDDYX+U8w23x6/9f7uMMUm58p48xm6yRgepkCHvN8UnQ5FeF0C/Zd9y/efRdPW7EM0ElWSRtX2h93C+/9A/ra9Zf957v/xGecpoVKun07OGr78qfvT5/FWJ7ztgR1Z99WOdTCFTyDTeXGeP+z1yfvnDI91cvZfvPZ3mWgRsqefUny3MWSamvkurn5N/flHnJw7Nwms4/aCDo/Lxt99H+1SPur9zODwUYWHJaPi6R+vYOovOKBNcCyYDLHHe/fX/A9N3ZcbEIs9L7dzCvpPFqcm6TY1AQVzy3+eKtHHn7T+IysBBiiBX+Z9rD+ucxJ48Gh9BViZuTI06+g0syNDO3XZNgU4k8dtzx8EeZl89O/HuNFGVqbBF7WbgvGbNfln73l116XWcRcmQnf/r2i+mboOYVjiccX6S2MP5DGMvCMHe1w49nbC89mN7+52PZIfePASH5h4GBb9J9O2Zupo/sur/PcDxCT2ExnP+38ZxqztnPpsiGmf7yGRnUmBgYtM0lMOUYGJJEmBiYmZx5sMkxMDCxMjAzYpfCBACyf8ChIRtrwgAAAABJRU5ErkJggg==\"/></td>\n",
       "      <td>brain_tumor positif</td>\n",
       "    </tr>\n",
       "    <tr>\n",
       "      <th>33</th>\n",
       "      <td>/kaggle/input/brain-tumor-detection/yes/y1027.jpg</td>\n",
       "      <td><img src=\"data:image/png;base64,iVBORw0KGgoAAAANSUhEUgAAABwAAAAcCAAAAABXZoBIAAACpElEQVR4nG2S2UtUcRTHv/c3d5vlzqKTjpqT2pjLgEsoJmWCGRgWFUkRCC1EYWQUZFHQP+BDET3YQ9qDgRQ9RhGRSWnaaGWamBupY5MzzqizXme5d3pIzcLPyzmcD5ynD7COJoUCRWFTzlDITOcTsUGvrqZC9/cgAIBcGh1xrEoCADjky7Dcajl6Dokt+S9THULDX5l443kFzzH9tLGx5O0bIWJrbqlee5tR+eTh7BRb00ZNMWalKLhqh/RtJ7tGAAIYOjpc8txMrz/bfCThR9ATGVr2eh6fB0BQrH7R+jVEcgYUvanLvE5JC8FC+XBj03GAQNs9TRvdha50lmOPeZLcKo70BMtT46cAQnbjAwHVL/oTDI52xqQWDSKn7RypqM0FISX3Bfv4BM86AjEzxQ/rlQvhmOPC9hRjBWi0zuQxfJgjaWxwbOfnJLfRk+ym78qGJR+I7NGQHSa1JGIlFPslefVLqnnfikV9TcoCka+AlidEUQKnVwUClDlKlEqFk3UgD4QP92XvYRUi4yeceMAiW0iYJVENU49RkJUmYn0Wm+QVrDNODTr9dinuUlHx+FldGAR+9rRRV1SyuBSTw76kEBWVIjlls5FH2jugIaJYdtJOXu8LKbd9igv7XOOTaqHK/Y3IBGj+otL4k30BKeqYQSUTsZZJduv1gZsyKICKo05iFHZOzBpLWmwYyl/spJ3cezoKAsRPZJYLSvDOwM/svdqx9AUbV3L5Y3X0TyZELioYj9Y/XSzIDtlY9ajOVGq6CAA0ALm0375/fjpGDyusOm/uFj93z8tG1hrq15YXC4M1aoOvxyv53nmqUksjG+rbOqd4NbTcddvWp6l7/YDe1f1PtYp0WDQqPai0q2T9SK9OyQ6m3NwbtR5sZ1c2r/4/fgOMvgvfcIx7BwAAAABJRU5ErkJggg==\"/></td>\n",
       "      <td>brain_tumor positif</td>\n",
       "    </tr>\n",
       "    <tr>\n",
       "      <th>34</th>\n",
       "      <td>/kaggle/input/brain-tumor-detection/yes/y1028.jpg</td>\n",
       "      <td><img src=\"data:image/png;base64,iVBORw0KGgoAAAANSUhEUgAAABwAAAAcCAAAAABXZoBIAAACgklEQVR4nH2TO0xTcRTGv///vtre29Inhcpb8QGkEsBohIADiaCGBTXGGAdMUBcHEwc3E52MiRomR+JiJL4GHTRRDFGBAA5KtRKJCIVCaym9fdzb29vrQI1NSPiWc3K+k7P8vgNsI/K/FW42lIXVsXtbl9jgMvURUbK5erNjRXMfA/oafpPUXH/Qxe9nK/tG3hWd5R9fWm1X1t1CYI9ikoOtAfdHXw4ABVAxOhBtlDxVFjbP27XyZmf1fNt4XcF8c5RrrVrNMKrgzSoZk6DqnbHBh5vmnUFaY0WVKDtJqSrOqk6Ucbtmwp0AAd52e30lhCMEG0QQxBRhs0hq46+OgQX87goOGstQTtcE6tJyCpdUUrcaAQp6f43llZW8kiaE4Y8/Zew0DZt0YxqgyLuQS7B8gjLprLMvUD9tLldpLN96jQMFGs08XZREnsp/nMNT/rshjolm8hO1BijaHx1WuTJx3ciyHuw+PxESgyRdIZE6gOJDd5VLtEdKXFxp5PfCaPKFYeVr1PyhjhwIyJemA2aWxqnbMdLbGc1+c6zJNlWeMahBgAsr03vZeIavzoW/ustr07osmGKfA3M9oEDuqn8qavGltcwPb9t3VQeymbz73BBAgeGS+a65ZNxmLPQ0oGNG1YiJLtUPV24iG+h5/tOjSWlGCPFOQyFGQk6cff+pwPN28KXHZmGplt/gOTNSylJsxa1vIsP1I+ENPTTHZFLLuiOuGkrL5BkdAAsA+tC6o4IPLXkNVhbDDi23o28RBdjA5DMt1mQ1R5JrnoRF2Hk69ksvTp/VGbN3dduviCdr9gX7/0WyUGX0Nz+QpFmcijxpSW0NNXDismd59eJ2P1Ckv/K5+Jd5pmF5AAAAAElFTkSuQmCC\"/></td>\n",
       "      <td>brain_tumor positif</td>\n",
       "    </tr>\n",
       "    <tr>\n",
       "      <th>35</th>\n",
       "      <td>/kaggle/input/brain-tumor-detection/yes/y1029.jpg</td>\n",
       "      <td><img src=\"data:image/png;base64,iVBORw0KGgoAAAANSUhEUgAAABwAAAAcCAAAAABXZoBIAAACXklEQVR4nH1TS0iUYRQ99/u+f3zPqDSNjzJtdKDQghSKchEFavagFkGIix4bs01BMUG0aBMULaJ2tQisNtEmyoVBCC1MQ0JNU7HULEedfKCO88/8r9ti/nHp3Z77OOfce4EtggBIgiOlTTZyDEc4DDAcYQEilaBsC83r9lqwvvNjLTGTAFIgk2BCLPdGxa21+c6W5isB4VAaJGZS5rvEXN3RhqLPbxv/qJAAACgAlLWW+eJll3+j4XFh5Vp8+YD+SQpyCWlg33p32JudCGDyWk00f6F1dDtMty3ldpy/H9Ljvnhi0WAz8jW810nPlBDma2NWNyP+eP3D8cmaxusjzey29Qgn+1ChExUFRnBO7aoKdo1Ut1YbKULghg+FY+VQtd3Lum2MeabDZ6NyszJBhcc2NG8oNDwVHJ2ozfvRk/TEUjPBFzhaYm2Ypq9s2+5k5dxI6FUk6RJSpNDWvrqxOj7Q8SsQMwdz2odtdk0w1CT13j48IquWTn3p9WUEjvQ9M9JShGMWD52JeRcmRsPazxX95lB51T3a9PZ7Jn2T1PR3pg3zpb5/+W8GMzbtIzFbZLRMo7R4T1+kgI4v7V+6DNOVwlqyIO8E5qjGc+5utGzRmpphabj7hJKPTifGK+L9F8NWw8rOppMk0mwBHZeEre8rTpTsSPzufPp8AmD3jlSGluFRfvRf7XGaBt7XSU0pKV3QozRNk8rPB7OfoAR3NC1HSeVKAcAQtBKo6/Ra3twH4OTm5UEIAFk6SUuaAmDBTAw7BZIAQVnEYAJADHLAjluZdoMJAJgYADtb/QKA/yxl9RKGwZBZAAAAAElFTkSuQmCC\"/></td>\n",
       "      <td>brain_tumor positif</td>\n",
       "    </tr>\n",
       "    <tr>\n",
       "      <th>36</th>\n",
       "      <td>/kaggle/input/brain-tumor-detection/yes/y103.jpg</td>\n",
       "      <td><img src=\"data:image/png;base64,iVBORw0KGgoAAAANSUhEUgAAABwAAAAcCAAAAABXZoBIAAACP0lEQVR4nH2Sv09TURTHv+e+9rWFFixYSFNQINSBCeMPYMFEMYRoNNFQomzGEMOoDk4S/ANMXIwOiiYGB2NMiA5EF2IILlWjgzFobPktVFpq2/fa3nePw3uPOHHG+80nn3PPOcAeRQA8SoAAAAIWQKQAUBUQACAITN0zj88eRWT2NBQIYJckJWKD4c/7/2z0LQd58nCFiFk6JMTx3NrF2yuys0eYlalVm7NJL4LG8MHulnvCu9afjPj2dVyTGrtOzBwbH20Nntms1M+b6Z343bBguz8AIjGY3C4oKVGpF37rRfuEJgiABwCfGBgya+bkdLzUvOMpoPpzgBQ5Tv3N21RrYvnDkoyma8tGHcdeZpgrNknPk4n3D7N6SeW565OVt5CJL7LrnKWP0axhtet1A15vQMSKPv9uQ+pOc2zLqin3BvV4SisrXC/3kRvyobb+sGlZfjOdKRSVGrnvM5VwQppeWG8UyvPVavwdUp7wgyZegnSdT/PBTG+IF4Pr8wVZW3P5nL6s7ZLSWIiETE9OtmSzTar4etT3Q5Lr5DGtI2dB83fGxWaBb8pJtncKQFfU0KM1pEMjqe9b3Ohb2PirQBWHJAwdOWB0FV+FC9VoQA6Ps/hv2RCtw5eelPMTY3rg1tVfhgBQtUMNJBA4fyr67IYxdSURWd1WAEtntgxSpbq5b0udj9pWZCrnnJBLAsT1Jy98aVl7lySAiSF3QyZiACxYMGsWAKXsUBAEw07J1jAUO18BFEPBfWdmOFe+R/0DbjoBeBJHKPMAAAAASUVORK5CYII=\"/></td>\n",
       "      <td>brain_tumor positif</td>\n",
       "    </tr>\n",
       "    <tr>\n",
       "      <th>37</th>\n",
       "      <td>/kaggle/input/brain-tumor-detection/yes/y1030.jpg</td>\n",
       "      <td><img src=\"data:image/png;base64,iVBORw0KGgoAAAANSUhEUgAAABwAAAAcCAAAAABXZoBIAAADHUlEQVR4nAXBb2gTZxgA8Od57s3lkkvP/JtNbNpoY9pm6yjalcXVMcXsw0Y3WtaBsiqCbAMHg03xz0BwCIMyKMMPIs592IehYh0bVt1wq2yoFCtmXVeLs7bN2lxNTaw2SXuXy73vfj90CgkEcERiVqVrU79AGwUgB0AgIi4AJQLXyuSgf4gfuhpjjECSCIA4IADZ578Z+XpDj9p93/XWQNqdtBAQEZ2AKLw3nbtTP8No4dxgfUnxfCv6D/ssG4hJyGtn4pmlY2u3tDcednV4Mjc+mzxufMSQUAWs/pGqD8VHUneanKHxst9hJp77vxBOmRgIZ5H1Fvmvur13vmmxmVa9Y7eyuQ9hqJsTkAN+UrWe9ro9S3B5blVv4OHA1nWXaJtK6MYSvt4a0U/b+6cTtfpEsia7UEX21BzAN1ClZ7Ed2iC27ZtQ/pNleU11Obfxbt1ATfHa+6iWUx982SFHPeBZwPxrWe9jIYbbMpGRB6aXRKnroL5uZVWzlj3BhmmWCXBvraRYU5rBiKvXCztPXWnJ5QvzLzxtjnQMT834x+NSqqIgSZCMnu98z4yEkzdWo7mZu5qbm3U/WMXKbWAy5DI9DSIbeKg5npRqsqxcTjx43p3JGJ11xIem3cGlk+sjL2phxyv3w3rcs+ituXNPHG0sEqX+Vi7MHy38K4vt/0yYjxKzHSozDG02d1NlRTryCauOak2+celt/Z2/TnAqSX9+N3wxPVdFrdT7cHPj7FqXa3nBrjw73vpjevupM+mddt85IKX5xIbfrlOCubwb22PRpTOPbTv08fq+r44Jm8wnn+aNztBZDsW5/eX85X1hntvWOtZ/oBEQfcyRtTdtVXxqdt63wGIe7+LtV2sPinJQEDkdiBcuLY9dGW2xZ3xbhOnatbtll130k0AMAUgiG2jVo8GQebq3bWLz5+9ejafrLSGQqgCAVEhO3mLypMJM8yLrEtP1FiCXMIIEhjt2jf1yVp8yV6p91vdOBA+AYIwdMGiRV+69rCrDsqha1po9CqiWEATym5jhIn/SYaRfCojfTZMqIGxOAgBFcMf/HcRhUw8NKd8AAAAASUVORK5CYII=\"/></td>\n",
       "      <td>brain_tumor positif</td>\n",
       "    </tr>\n",
       "    <tr>\n",
       "      <th>38</th>\n",
       "      <td>/kaggle/input/brain-tumor-detection/yes/y1031.jpg</td>\n",
       "      <td><img src=\"data:image/png;base64,iVBORw0KGgoAAAANSUhEUgAAABwAAAAcCAAAAABXZoBIAAACtklEQVR4nC2Sy29UdRhAz/fdO3PndjqMnTatoqVoA7FUUDQKSU3EBCMLQ4LEZFYaQmLY4cKFmhg3xoWy8B8gjWGDMQYfMaQL0YSgVLAwii2Ppk+mtUza6QzMdJh77+9zUffnJGdxJARAQADBxDAs8SBVU8BEANeOE6IEDMQXiPABhcRLE+wI8rXBsxbGGEQpWooIkCJ3fLx37qfrd995o4ggpEV8FQCz9rHS/usfde+8en782gcO2yzpAMTiE2Pr3/zcOHXy/uDShd7cBbGHATUFMP/w4vSBM7XdE4ca5cemrkRNX8JNU9CO1yaO/PpqY77g3x5+6LdH983XzKSqghEVz747MVTeXvmroydfH9njRRWciKghxIVT53JPDNw6+seOF2YOnB8r3zyoHi5Rwfy49P5I4eb8StfpVmnLTHHvYH4pZaivJurSFz9OVYYls+B97W9pjk5+W9nexEANk76jn93JTrVzd9a2xg8udtulVj1S32IFXOHql3k/ybaD5XyfGwpfro8cDPIOU49YSotfDcXT4fJv8dsnijvbXwws/9KMmhsZNbB+e/SHu/nyK0/tf2T1uUb/883ZXGcjlEibpFnJfLft0J5kfnZrVKhXsyersoBqxmmIk/Ry/nJLGrWX5ja8yPvnzOfv3cg4H1OFiKeTjWg1aKV/LN0v1xer/UG8TiQZ34l43H7xb73XWw3a5e+nnpkJB/7MRWAtxYw49UCqhxvSuWtp0q08OTfaowCqYHjuxrYra96u8dN7WSp8evmtsQhzptIBpkJ7d1C0c69P9nV/uE9/zyJmrEooIGiS9Z4de/NS85NZ+ffaPSdmUJNQADG0q6vds1LJBJ3TviEG1BQzAE/WFwZvPZ4ezq51ii//DxYiACLSChudTh3iNnnWxMzUBGIvMa8lniSmnioA/wH4ST9j0kKXbQAAAABJRU5ErkJggg==\"/></td>\n",
       "      <td>brain_tumor positif</td>\n",
       "    </tr>\n",
       "    <tr>\n",
       "      <th>39</th>\n",
       "      <td>/kaggle/input/brain-tumor-detection/yes/y1032.jpg</td>\n",
       "      <td><img src=\"data:image/png;base64,iVBORw0KGgoAAAANSUhEUgAAABwAAAAcCAAAAABXZoBIAAAC4klEQVR4nG3Ty09UZxjH8d/zvoe5HZ3pwDDlDoKiQQFbGCltlAVpvKeNbVETr4nGjYs2adK4oTWktGmaGOOm0iZg7AJqTNtI0FiKo0YuNc00BaJ4C5AZBBluZ2CYOcN5ny7a1I3fv+HzBQCJlxHhFRGERMZakMcGEAACiBgAgalg+5u2/Nns14ZaV4IAEwCNmABwnfiufsxzZc06S3vSETqdZioGoAEkattD5U1KjStqso6e+DEt9slHICKym0DOlwcalwd7dtfMn//Y0dkwXN9990n5M2JhZ3DTkaLMtJ5S12TwQv7DuvvLpu1yvBsK5IuKwE/709XBbotdqZLlkHojWtq/uWoueIlpdUxcf9dozJ2ruWjfM/63L9AfLo5nLR6rDeeRsEkukoHp+GKbW46E3/GPTpdE149OfCMnd0ltBXv12vcjMzbd6YjWDosHFZY30vAo9P2mOSEsbTbn6+uN8xFv1PdsUGSe3FgSefuX0mTXqi0sHI57afkVZ9b6PQmjqLn6A49Ws0uuvptfsbJVCSt5mS493hqWd6qN51P7UhsLc0uquv1qOf11JVJJr5WyD4xNVvkm3mNjOp6TKRPntqFvZ0gIDb3wJVDJsWzPiGkU6/qYKtjZZQZ/fmqRHncbXzhPtcyMrKk+OFYIBTGYt5LJleZ4QmMYN3bsMafChQMnUAgomfJL/dvB27NlEAxpt3NkRltwX1URZkmWT29ZeKu1AELYYNUHOpyx5IJrXW+gPcyGQ8wX+yOf2kkJAfBnu725MZJ91yY+NB73m5Qhsu9ZZEIwMx/us8zjSy+KozdbuHPIlujY0dDjYIIwSToXfmieeuR0D6V+TS5meZeafke5MwUGuQ2Sluuv0tjtqYuRG84/M/4o2/BV/7wRJxBcQgfpFKQ2x+JVRRl24NBvNhJERFgFEJHQ6I6iW+PXDtDZz+N5XkEAETz/8gVAICIiIf6HrimAAcZ/jhn8coJ/AMuNN12brGwVAAAAAElFTkSuQmCC\"/></td>\n",
       "      <td>brain_tumor positif</td>\n",
       "    </tr>\n",
       "    <tr>\n",
       "      <th>40</th>\n",
       "      <td>/kaggle/input/brain-tumor-detection/yes/y1033.jpg</td>\n",
       "      <td><img src=\"data:image/png;base64,iVBORw0KGgoAAAANSUhEUgAAABwAAAAcCAAAAABXZoBIAAACqUlEQVR4nEWSX0hTcRzFz/1td3qnV+ef5hR16nJqsFSUQiXFwtWysEBfTPQpwhB8yIcgKkmsnqIHLQN9CAoitbDCmKZoKSRoUxcj/5T5f20zt7n5Z3/u7eHO9fblHPhyOOdDdTwjHAAQEH4PDOEojgMAgK4VWw3Cye5QvJ94Oan0gPcJko7wwoH9egppjUdCOcbrA0AJ3wAARXTeh+Sm6091UqOVRQbAU0GTjBc/riz1OVl9T3O9qnqOBvigySlGXiNFsnxmcEBRlrXSQJ0FAIgBQFb15lz4twOTZmhUldMfz/J/pEmWQ9M+I49hIY+caXQmTcU7WM/4ZdlhoOiEL8pYiy3CWjn1lVn1LUr432qLImCmbdRELPm0/lULud9E++VGZ1cdYyYAAWgDjttt7lHmvCTx+UCB+x2xa229fCJAAP4K0xe1yV+jt2sdjGlD/SAsROkpD5EBYkD2gjs9kdvnXQvv1OwalyQ6Vm9ywDMLEMB2NaozwlO2YjGOrc8vKW/sZ3bH6ykiBKI65IVr/lxtliar9UIJM1/gMbirNVykkLZ036vMaE9gTvhifm7lMwNx/Q7HQotLCDQSaQ6dqBvecuXtRSoyFKzq4smXeU/8gYYKP10S17VPFJrDvOVuh9mvX9alTgZKEHcsRnfdmk++0ybenrRt54evdM89Kgx067s9rO3sjZNm0JmqoS7nWL5IOU2CY7c2V3xcL3Ip1NmujebhntRXCWKWOlyFqzAOpo+wK3+L38uMFtlBTenUWnBPiFXWhIffo4n+h1e91vDrpt31f2w4Ece1NB01TOo2U0erRBwVK6B1L0AfL4IoHSEpx9owHcMCAO4G6AOoU7R/AQdeUwNydncELcgtPlN0NnRuAmAPABDGU29nD12Rn4eI8gWABviSf1bzCLA8nkT4AAAAAElFTkSuQmCC\"/></td>\n",
       "      <td>brain_tumor positif</td>\n",
       "    </tr>\n",
       "    <tr>\n",
       "      <th>41</th>\n",
       "      <td>/kaggle/input/brain-tumor-detection/yes/y1034.jpg</td>\n",
       "      <td><img src=\"data:image/png;base64,iVBORw0KGgoAAAANSUhEUgAAABwAAAAcCAAAAABXZoBIAAAC9ElEQVR4nDXHS2wbVRQA0Hvve/N59YydTn7Y+TRp4yiguBVY/FKKEoqoQndIbBALEGoF4qMsyhoELGABiBVsUYVUQKAqLFi0tFGoBBLQSkAJSdOJO3LtJCSOHY89nvHMe2zg7A7e0xIAkhIABLnvSFAMQDLFNcmpSt1uHEo9Xqp892737vJQxKRMwqR8l4BLBJKpzUgvvLo/OPryp9YdOQUISXE8IMJEi8Rvp7Xzr8QTWy/+4BWWH94oSgK3qQBVRqRuPDVrugczf3d+XPxG2dz74JCQSqU1kqJtZBZu+gcNr+LdfyLXv9+AmbZioCGgytY6J+/rRMdLzf7WtaOxDrXs3vKq3idTnEALj+Ss1IMqUrXRY7bVTfclSdpWRgKAyhh/7nauzaq2TTV3esDzrUaasc8sbggOrUdWcpEj9pyoJ5z2NWN+ZsR9zTcrhzkQ8DnuDWtxMDV5MVgE78PJ18Wp3sEnbYVAChvr1npzdaZ+6/lfZeMt80JwbrKHX8/MJkBgdUetbHKM3XFa85e/dRbczMe1R1tjqS8JCC5c6TM3Kmu7WQzk4tuffDS7fXrt6JYNqIAweMjcuq1PyJ1OXfdd4+nw+8/fO9frb59SgGpuKV/oWPk43S3lPLEpqvfubpPGDlwc0ii5enwk1c+hHdzkOIg4ySoBBmL4StYCYua1x/RL3bbfGGXl3gyeyBdWIu2Ps7uxD5hMjA239GTI2db1endgF8Hn/s7mKsAIJ6r//NIWyfNhIb9hWW6PMDt8c/z9B5wBBagsZ2WBk9OD8s9o2IzUraj4+43SkaYUGpfQtoaeqRuCXDXQMjQYy5TDKQcopYDI2OOlX0T4l8lkubauQrbSWXqDIG5LIIg054mvqqj744cR81DyVGvjTWSUAKB0Ep1Z7rN7hsjMXVV6VeQXTpZjADygE0YYdHzhnLn0RfGd9D/N/svzxQqTOmcEHBLTgv3U16WftOm1VfYC7Dxu2w3WNSQBHlLwH0oQQOH/VRz/Bb1bU6y2yCU2AAAAAElFTkSuQmCC\"/></td>\n",
       "      <td>brain_tumor positif</td>\n",
       "    </tr>\n",
       "    <tr>\n",
       "      <th>42</th>\n",
       "      <td>/kaggle/input/brain-tumor-detection/yes/y1035.jpg</td>\n",
       "      <td><img src=\"data:image/png;base64,iVBORw0KGgoAAAANSUhEUgAAABwAAAAcCAAAAABXZoBIAAACgklEQVR4nF2SS08TYRSG3++b6XQ600JLi9BCSxATEUUbUqImQAgKmihuVExcKYbEvcbEhW504YI/4MrERJeaGGPQxEhAN1w0lJYQLspFUtrSSm8zmXZmPheFRnmX5znv5pyHRPMEAADKCEqENyiBCQBgdlTCiZCd4AEHCA6ECGvRwwSNQ2xDajiAnszQAa8vUMUj0A5lr8oDACyrgVHTofbk9aUQC0UCpiNfgUQRpV7uYZ2yG+5OCFVn2ywlUoHdlkGl7fSDp6XUENfwO2qfvSgwoQRQAPjoVo/npu+sqKY+Q+VoNs8N0DekDO/Z+pqETGasSv+EziUimr5o3JVoBShARuEpVckJ0Upj7S7NbaEq1UIjCwAPsIgct/PNLCkRDz/pnzjmchWTMaZQkwK4/EhgQrhFVViXVh3ZyZnbW4V5JnGgAPzZlM90ZG58+GrJBROGU8nabMOtKIEH+ElyV/pyqRh2beqFCWC3PpOPVa+Z1KQAe4cpMZinrgLsXBeQ1SGd3HIaFBQwhoUT4QWHRfN0pNy/vFjVpHRy8egrHTwAZerlRvJ9qkmOBNM1LTEh46211YydAQgAkq/vL/4UdZk51Yxr/OayrNIZZ8oABcC8pJg9IvitRLPeF0Wd/PyzVYyz8vlIVv/B5awGlZ3O8aRv22jz9JDXZvkrjLy9GljUdmpNd64vp6qFuE3KH8LeV9iFtC4JvZu5WPGFtnyKS557/qwAVFwKydKuRzF1O7+yHvTGvvHGfhPgp8l8506zf7sl3e9e37z+uGxWRbGFEac522Eo/s+N3xlv/C+gqNHua+dxxVs3p9YcNJdaO1li8Pacccuxj/5dIZxD4Ylqsv3BX2A/BsHujtjPAAAAAElFTkSuQmCC\"/></td>\n",
       "      <td>brain_tumor positif</td>\n",
       "    </tr>\n",
       "    <tr>\n",
       "      <th>43</th>\n",
       "      <td>/kaggle/input/brain-tumor-detection/yes/y1036.jpg</td>\n",
       "      <td><img src=\"data:image/png;base64,iVBORw0KGgoAAAANSUhEUgAAABwAAAAcCAAAAABXZoBIAAAC7ElEQVR4nHXHW0hUaRwA8P//O5fvfOfM1Rpv64yZozVFltWQ7WYv+bAQJHShkAiiG9FDDwURRUX0ELtUtAtL2wobLC0slEGIYYthhWX1UmlplpnRdGGmxuPcPZd/L732e/shwvcxAEAgACBAIgSkbwNCRgaXhKrwgypd+K8rsf2iRJWcq6qicATkqio04bsAocafVukqp4WHabmmqYIrALomgtIv1+rKRDwmtZkER6NiG3CNcxVBd5D9Xd2KEd0IpMoyq8/HnsZHf/4zYqOLYLjy9IqJJQ2PeVkav4Syo/a2lhvdnRsNFxi4Urk9mAz1hJxsTbY87kT/LR737Dj1pJoBkxxn3eXBPffrZTn0ubn2U7C3/9Xi2xeDQ6MuMId7z/76I27u01/fzjup0eHg4h+SZzY1bP1dVRAC7EDmtNJmDnbsXbN/3Fd65T/Z1J7afcg0AFFT08cS11vH5qWtgY5bHxtCI9Wh4bpUIvxWQfBBjTx7OixXP629pPR1jpn1E35p5gE0vkOGdr5jzs4KxRyxqrzWvgdGpug1pvxd8IKQQdHX2HrgjRjJWXcKu4Kt3hXuh8kKZf0VlAklPTyR77wSzSVarmrCO746ieNYVSv9n80zBI+da++uS64cqLeWmd1Hin2Vsea/ygZsYwpkJCXja7M9080V14Kf1g5EIsU70fBHIrOkMGB2wMFINF6kNUerAvrwy6ZYSXT8UeJkIxpU8VqLT5/uf0OTgaGWYnv/O0+A9VjqTF6GYNrjr1k0dKSqcuhRiy9hTT57P2n09Lg2cxnm3bfsWb3XM+VaS7PhBU2pWeaJzsMllQqI6J/Buda63thYsHDvt+c56a7PmcgyDVwphyhJkuvZVzoXCnhYESPJhws+LL/hZQV0ZwBBcEOAF7o2QASUNPReJkPXNSEMCRC5IoQKPrNAjAP8k2mOi3KmqVwwRODoELcZsfL5d7fczBbQURyHyRZaiKQiAgKCw9AlJEZIhAQApa+zCjNsVG+jVwAAAABJRU5ErkJggg==\"/></td>\n",
       "      <td>brain_tumor positif</td>\n",
       "    </tr>\n",
       "    <tr>\n",
       "      <th>44</th>\n",
       "      <td>/kaggle/input/brain-tumor-detection/yes/y1037.jpg</td>\n",
       "      <td><img src=\"data:image/png;base64,iVBORw0KGgoAAAANSUhEUgAAABwAAAAcCAAAAABXZoBIAAAC+ElEQVR4nAXBW4hUdRgA8O/7zn/OnDP/c5vL3pzRHYtdl1paL6EYKYtBEnRRe4iSoB4KIih6EBJ6Knos8il6kJaKCgoEIcwELVbULFjXBQcVd6dZ190ZZ8bZuZ05M+f8v34/lAiaQmAW1A+dyBd90pgiTQEDAaNiDTg3eavo//R35w1KRoqJERBAWrZturMHTHjr+6mXJ0F/XD8BmYRj2bZEiQA4dv74lePu5tNffljoVZ1/7jxTANYoJAZsp1YvTHysjcvF9fk25fjZuX/3pXQcACFgfu3QfFfdD1vBiSMiLFfUr2cuousTEGjm2Q+amTsPsoO9hcNL7tbXsl78vHM4p6dBRDC7y3q7vbeWvzy+eyJMLrfMB0b42dcFsw4kBEUvLtQb3obedlpqcxjTTs2338U+AcpOlDxiiW7HCRqt/Jpm3t1T2zlzdeOHbL8jNC88GYg/Xbt3Qc+PrtEV9MPGt8NNs+IChb5+8vrNxDQby8nS79kb5XknPrK4Y1/3VQuIA4CnUN7eXv9Kdounx1Jf1JN04GwJfuwCoQ05lgilXjNXb1D1uaWYvyhifQkukMKX7uuVdr2+81r4vjKyrXxqLOxsJe27e0AxvPvRYn4kLu6x9l925MaIsVJZmRDBk4+lQTCsfZMczQ/1UWVWHgV7mBNOvJzuT6S8DoGKnZtxHw3Nqu7g6q5TDf9mfH3YKJ7yZsqAUoQavjmeudZuvjC3o+JG21Y7nm/8nB30IsFRrFF9fiWyTe8PaS7MjKdKYrD+UFRxYBByKDLHMC1rbcdslg8uL23C0O6DhDEDiJFM+OR6TW0x1ZaeSHfLo/725LkgAgCUCKAdnZuerhW36fnbYXaDJs2FS2BRBASMyL+cLu5PzU6p2qHh9SCorl7+zUAAwASSUmL/GWn03rFLLStVGfur++l7fQOAMQGoKVT6E9Et46FwporRpdcLymBAZpBWIi6tmOVZcJEFwCv+517a8mzLkhKdCAABiBUpZE2hiDgiBmSA/wG3dExHlskmggAAAABJRU5ErkJggg==\"/></td>\n",
       "      <td>brain_tumor positif</td>\n",
       "    </tr>\n",
       "    <tr>\n",
       "      <th>45</th>\n",
       "      <td>/kaggle/input/brain-tumor-detection/yes/y1038.jpg</td>\n",
       "      <td><img src=\"data:image/png;base64,iVBORw0KGgoAAAANSUhEUgAAABwAAAAcCAAAAABXZoBIAAAC/UlEQVR4nAXBW2wUVRgH8P935syZbbe7022n3XbRkl6lFIEWGy+VGGgTq0IUtWkMGh984sEHAlgu9kESH4jyYDRGowGMICGBZImtQlBCYkobLpFrIEVLq6Jux+62S7uzs7tzPn8/MkDaABOYRIm1VSJiYiAQCAQRBEBcpOJLWneuX1cyJEAwiCBABizQysle9dSDQta9FM5f7w8kEQgwTaVUfMW9oYb4ywO3WsZWv9ZxDmNmyDRNSABapJZmb63zol1DM8Nli4ei2F2whAZJAHrf1m9Gm39r1D+3UsODHfLaG+1IOQaDpAAX9nZ/JXJluar5qZ53Y5grrXr/8PAHuiQM0KCcuFj5jrWUqKufXiGWeUZ19KB3zmeQArmNXSmJ6kq759vzGxb3/5uOrjzStsviIikq7Og+eqOmKefZN2rM5arHsRMVdce2gogUDVyYa22TmXzY+b30X00d1W90Tp3sLv0AkGTZN/J8Xhbidv9Zf9ypCqxsuR/3k81TWpAaHkXDfLh2gQeayiPhjnS6rPLxI6xnAhLk7XwLqiX4M5JtXx9+VebaEzw7+2aspiXKArCSk97bnrfkPB2+9+uazRPiyReObUq597MsYH1BjzmHwrXlc23LK+K3v98sJsc7z7f+4lUJwXShGjOnDyh2/9kfOi6D+67OJ2YyfUFeC0Fn/t514pnvzLy4/Yedqnhom1bs2dUn/USRJOsF+shPfLjtar0MsrlMKEJLoV5HfZyyWIAjY81HG7b8FcPD1umYTAcLQd2Vzw5/ogDB2t/Y9OXBXKRcGe6jq75+xLWfcDN3qt9jIkEC6P2cuHHZXMr1rw1eT1l3F4evTjJrJpO0CC7zxZFO60rZjwtD0125S9vHbyZNoAhTStNCbLCJN704v83v+3TklDE0AmVKExLE4FCmsKe9ZfSn/qlXnjtuJu0tJoMYAiBwoJKZu7Vr+m6m1965PPF6bxZgBsiAAEBBpJA7YDkdY3uVncmy0ASUSALELAAKyPIZxIIBAGD9P+j0RNL/geCvAAAAAElFTkSuQmCC\"/></td>\n",
       "      <td>brain_tumor positif</td>\n",
       "    </tr>\n",
       "    <tr>\n",
       "      <th>46</th>\n",
       "      <td>/kaggle/input/brain-tumor-detection/yes/y1039.jpg</td>\n",
       "      <td><img src=\"data:image/png;base64,iVBORw0KGgoAAAANSUhEUgAAABwAAAAcCAAAAABXZoBIAAAC30lEQVR4nCXTyW8TVxwA4N/y3njJeOwktgmxg0kI2JUSSGhiWrGoiIqGAyAqLhwRFw4IpVUvnLihquq1EhJwgRugbuoiyqGqKtYQi5IGpwGkJHbSmATjYGLPeObN48D3P3xIAICoAQBFC9n3AQHAR9QAiAQaEAPOp05qx0TNC5f+YdCkAUEBMwtBeNCCIBumwZYZOg3MjEQEDCz4/KYUfAAQDgKn5cbcwDkSBhGj4YM+++heXK8dbtDs7N6+N9/j8MzBHw0ffGRumUPTr4F2Sfdx/PiiWpFz0eVfTxW1zSRUrG0hueHoYN7OXagt/9smzN3JpfyTIWVolEAHfs9PtQUyoaoavRtwxIb/c5VZM39DCWR206uf1Dw795xCM5nuDx8+fokjqZthzwXS+guBmVJQN7rqMp74++Zaz8jYnp9SjSwxSaEWmvtGYztd6HrrZvvDwqrKcuIWTClfuFxR1rlEdssJ+2KuHlJJqFvu08++loajUGjoWfhjfc4yU+Pp4C9bZKK5cQWf7f9tU3GdBKljZ/Ygfpd1Sh2945H5ujGX+K//WsN1QXjI6uqwuj92K5N9Gdi3pFJKv+6PtAYKgkhrflA72RF2/6wmc13rE9ECROytQ1AA0BhRvtp/+3OyUcuVeHvkr82LjZRz5qsjlxxNdkvFlrH8iprmpFVszUWru2q2d8IMtViQh7yaDzTJL9fb5/s2V5vzHb3th/LFb4E0CXLxMk4/LfW/kJk78a6GVTAjLyY/AlJAviIynJQxuFiUlZFv1g3RHu2cdAa7kYiCfki1oLw0nD72Q4/3KrfYN8oPSnSlHCUgoJaIwgH+8md9qNDpVrbVn1+f6NwOouqjcMDRdbzd0cwMUmTKt9NwFVRsGhUrBMFhCTHJVi9mLAwnQXSLj6VhABEhGNoVGGxAz5obaDbIRBmqKPJBAwDxe0REA+dh9GQoSSCJiIiQyAdW4AsPNZHSyB6+HwH0DhlZLM7Zrd81AAAAAElFTkSuQmCC\"/></td>\n",
       "      <td>brain_tumor positif</td>\n",
       "    </tr>\n",
       "    <tr>\n",
       "      <th>47</th>\n",
       "      <td>/kaggle/input/brain-tumor-detection/yes/y104.jpg</td>\n",
       "      <td><img src=\"data:image/png;base64,iVBORw0KGgoAAAANSUhEUgAAABwAAAAcCAAAAABXZoBIAAADCUlEQVR4nAXBW2wUVRgA4P//Z87MzuzO7nZ32d6WNiWArYXWKBARJQGJog8CBjR98LVeeKAFE4nhRUx8wsQHNBhJS4iJCQkPxlRjamqDhssDpbZQbWrbUNvtZbrb7e7OTudyzvH7UAOQQBIQAah/8heGAoQkoQBH1AARJCLseje6mqkm6ct1DgASAJAQAVB57eONs18tdRb/+fazcxs3LjICABAqAuLl7W+37R17eWXqYDJ/8E7q2m+nXxIgAFSS+NH5A8lXL+dYbvPh6K5m78PDI2fzTT4hYlwqhfq+8fo1bSvhiZh559BfzZMtE0OvCJRo4uCJzwe7DTMRVasL7dy84RpdxPzjlzyJpraR25atLyVTcV6aa4xn4FZb53/YcTEdSIILA/vSxlaoB8hqDebK3777xG4uDee+B4nxn3vM9ZPu9i09zms2Ka2k3/t38fX8+lhdiNFKqnG/k3WypgpUKmdFIuRba+uTbylfE6kcgyCiUAzizIgmrYjKNY8l7NHlm5IwhK4In/NXFp9GNEvCfICO9mjs5HTptFRhiBdDJ8cKQngNVpMcOSDc8nP2cIcMGem3YMUyipWG0IUN7oFZKUvdSh2eDZ8oFEb3FceLPi+ydFVfwqBTNQ1tyFVTypwgtTfFK2WKNu5Wkq6/Of88haXaGfjTLrWg6lPtg9u7zx9yQmZ8s8bqnEq9yOvFwuwXHYiWcmaidqV54Nho+9H8d9ZyroUCpyKWZ9KlaZL80662bJ8uSfvRD5TWOkKM12b+6L60qBLIPT8NTnbvsB1+/NfQ+aHgy+CR1aF4Vz2OMYnX3m/vFQvbrCX0K0LJmEsB/d7TvzPwCAX2Tj1trSWPeC4q8+OrbHFitvzJmzlBERVQUOfMiZmepih61QenYvfLdmT6you6lEBIBLDzmanUs1cfFm3n7ubawu13pvZ7KEFgxucIIr25kOi/ySqaYb7xwnsjfa4EIaV6bFhKiQVqYL2Ps06YClcHjtptOxhFyVBjRiABEBR5/TqhwiJHKGMnqkGfRnX/A99sZtcwWy45AAAAAElFTkSuQmCC\"/></td>\n",
       "      <td>brain_tumor positif</td>\n",
       "    </tr>\n",
       "    <tr>\n",
       "      <th>48</th>\n",
       "      <td>/kaggle/input/brain-tumor-detection/yes/y1040.jpg</td>\n",
       "      <td><img src=\"data:image/png;base64,iVBORw0KGgoAAAANSUhEUgAAABwAAAAcCAAAAABXZoBIAAACb0lEQVR4nF2TW0gUYRTH/2dm9hsZ3XV303G9hVmgaxSbFxZlJUlyi4ogCwp8spftQYQeJAqC6KWHCLJIgl4KEaIoTMIgosSyC6xkZNlVLcvLWLqtu247OzM9zKxZ5+nj/Djn8H3f7xBhdRCfsg568QyBrEC+C/ZGN3EQiIiICYJgQc5WcirrtfHzV11Xn0WJ0pU49vmCw4XjZSLU/T6eVjBg2K4ddJQV9l7J7WFJJXHV61gwBxMg8q1n298UL7rZJLPjYajTNc7raWhgZIfXORHdoBy6Ny8ZQwWhietxCxpcW3+FZ7hCidt5wXF7c477xVDjUwLAAZR9XsxOSJM2aZrkcIbyKZwp8RxMiJol/8evSTvHSaMv5U0Fkvisc1AWTGjMuqLGYGw5pTPdw/ERltjuo2bNquwgf2lnIMULauBLQi9IlFWFJJ8AQADocnLr0e8kkSgqVWNMYL25pVEfrwJEIB2sgcUcAkXAFgp/TwviI/zwpMyZbMo3o+Uhbugl792a4uGc9Zl9mtkWWerTGz1jsqjp9/NSanYmHkQxZ1iwaHhdUcba6Y26TDHByJsfl1JHTqTvOdpVGeyuPRyJLsnhBI+B2i3BBvXv27buveUZxZJ9oG7NgqhJM/4zfLotGR1ex7Y5J2Plqj4bLmevHr8zrD8jAvLzUS2X7uPPNXvWe9npftMBDgBIurm8cyruzGi6G1tU3h64+M3SzrTBeSnQAmE39oRKaor64vjHIXKx+jtcpegHclpOppOcJWzyCds1sqg/R3soGFlxecWzQLwNCNqaPojcf2oSgZzUPWZUAyydKaRV60Ag0lbtBv8HLmDPlrH1hnkAAAAASUVORK5CYII=\"/></td>\n",
       "      <td>brain_tumor positif</td>\n",
       "    </tr>\n",
       "    <tr>\n",
       "      <th>49</th>\n",
       "      <td>/kaggle/input/brain-tumor-detection/yes/y1041.jpg</td>\n",
       "      <td><img src=\"data:image/png;base64,iVBORw0KGgoAAAANSUhEUgAAABwAAAAcCAAAAABXZoBIAAAC80lEQVR4nD2STUxUVxiG3++cuXPPYcTpLZNBGGRwUrEi6AjREFIZFYVEMRJjahpLFy5sMI01WqPGtGrbhU2aNkRFdKlRiRETDW38w2rjaNMWag1tlJbi/wioQ/lx5jre+3WB6bN8n8W7eUgzwILBLjNJ2IbE/3hA5BDD5so3OnbnBZZlz/lVTShiKKUVoSZceTkD8hVdW8KJgDKVUkprQcQwNl1fU7E4BvfCg/vu5eyW9FsAwIDSWUqd4V2+bRW1oH2IXa/irSxNpZQSBGv24XeoeHju59YN//1C77Upbx6x15iCACiN8X5azftvO407NtUuPJb/zdp35Q+QWikBL9YWcWf8/enfDjcctWff2tLb/eDR/GbBgEAIhwSSyw/XiOiqD3dZs7h17/Zc3yuXQAKDOrj3Zv3GVGS869afHwwOZ+KNnWVigyMIHlcOuGXRpgHXCIYu+Xd+j41fddw1l1+AcEHKSqbCBfXl7aHd2V9khhwZvFHQ/MnXjOAYSFP/3MeGNc8sTSRbPntuhdLN82vbfnekIpCaPJCFvI9vRsYd/88Rw0tv93V0f3nmSskjASFMpHIe/vFsNCC9Zxt84cwzuT6c69xOS4BUmom+u7ikR7rnklWR3lD83p3WVPuPlAUmTS9SMxbFfpk22FtYFC/GWNnVl+3cVhW1GaRf5f7jxbL8YrOP2iKVTwOyvU4mTq/6acQBaWGPmXWftvRE+s4Wnj91t4ZH/XZDlLwGWICyFU3fvPRevrHy4In8OVOr/90zWl5+PMMM8krfyOOg+1FfyXirONkfyGTF63xL2SMlIAxOTcpJWvtXWqpUdlY/6epObLU56JEAC5fc1IqTTehJ/NaTiZ74a8VD73v1GPIIAKSIhSsPuOtyFlyJrc8r2F7Y+nQoLGwwC2iltZYWUyNGmtAwY2a1Ylhaa621AFwJj0PuEVERO941bdLV1VNkeqI+0mAIR3LpnZEXGkj5S/5mZhAmPl+3z5Q2THNUAPx6of8AAdcnJgwOBTgAAAAASUVORK5CYII=\"/></td>\n",
       "      <td>brain_tumor positif</td>\n",
       "    </tr>\n",
       "    <tr>\n",
       "      <th>50</th>\n",
       "      <td>/kaggle/input/brain-tumor-detection/yes/y1042.jpg</td>\n",
       "      <td><img src=\"data:image/png;base64,iVBORw0KGgoAAAANSUhEUgAAABwAAAAcCAAAAABXZoBIAAAC9klEQVR4nAXBb4iTdRwA8O/3+/z2PNvu5vbcdtvc6W2nKf5bnMFBuFBJDD3CsjfZC7OC6EWpb6WI/tAbQZBQhECDyw6ECIMjKDQTM7u7IA8L6tpV2213czd3c39uz7bn9/t9+3wwphEAgBEYJZuaPRqxa2oDUQmNgTVw/CBclPIP9cuXd22JfiY2XMAIESii4Qd//vdmW60JWw/MxvwMAKyJGAC0cQ9e+uApw7XdoshkVt/WgBo0xlGTde2gOvEtF3ctvuOp7Zm5MlQvJkGCxmBA8snvNvz88RfjqbNj0tJef7I0d6uGSVdjDAzOBG+8O+tVm4udxoZOYV1vsH7VHr/JSFq1juWnDpovGqvfr1KpLJEPRPiV5q8RgYRonc+f2HrnGxmKx+Z3JsytvcrvOwLTKoRADNczR9eLoWi5Lf+xWB4fTOdUvnbRfR1BINxJpZdymzt+T2rx3GXctUUvfdaNVxfPKItA/fhDfXSkVLTWFeyFgoVWMP5c8qdUoj8MAlvzHut2VaQ69WGelUmz0wpH3govLPdHkDh49JFdaZq1sq/d2jd26Dc3IPnDaxhPeIkM51Pr70RzGDKiWQwdmeFb9zu7z09se6ZhMEbh5a+7h/1GHftfmB83EmqlNUST4e7kv6pHSJcovpHUY0cV8t5Nrdz6tGhsnElmVzyaNA9Ager8JPtZ5pyI1Vnz0+PsRC/taGK0zOC9aGPVbDr52778E9m+ev7pT76CrCaM9UxfJXSkvX2p0YqCvX/ELj8s2xcetit9XVIGdDYZNw40xbKSgWoa7O1TU5N7c1WPCwSouTLsu0tzo4PL8MZHdZxZyTXedzAkASOuhcCcPPaXKdu+qF05fbGmxHT8PoPGCAqF3FdtvLq79GAwhVkTEnB1ZB4ZmUAxaHDGaPpkacfCmte2wuXPYQ4BATCMSAyAYWff889OvDY6dvy9hVNXPJoJNIbZAAZi0IGVoVZbii17b1ZdKQBB4wALAGQABASPJJcAwCWDEdX/STlqT9c/gacAAAAASUVORK5CYII=\"/></td>\n",
       "      <td>brain_tumor positif</td>\n",
       "    </tr>\n",
       "    <tr>\n",
       "      <th>51</th>\n",
       "      <td>/kaggle/input/brain-tumor-detection/yes/y1043.jpg</td>\n",
       "      <td><img src=\"data:image/png;base64,iVBORw0KGgoAAAANSUhEUgAAABwAAAAcCAAAAABXZoBIAAACSElEQVR4nH2TT2gTQRTG38zs7GY3GzeJbQitaUCollKUIo1UxXqwphSUWlCspghCQKUHwYOePHhWCp7UHhWqFPUg+BeFgpZ60CrWVmhCgtWokdgmJrvZP7ProZukF32n4f345jHf+wYh+HdxjWNo3+rmnPI0DwAA1BidCgBya3iSa4sPDAh0+kKthVyoJOF4JN4R7B/cdRSNh12IAQCAjEx0Gt1KR8LhghXh/BlxbRBCAADJm91Sq1UIFDb9bGZ/jOnJYwAAsKY8mfAGMFJA1M5l9SAPY5cbcKwvC7jKtKwl+c6KGjfYP8rVYSxOpCoSI11zqv1SJBJ/b+J0baazXw+xoJmKSj+8mMrLxGqaGT/kKkfKVoFilp7FAclzqiIzKKRu1K7Fs61WJad3HV4UvPYdIhGeP/K7x4UxT/EVNsxovqX4lRCqboxW/Af2uvBXlQ5hASxiUczn4LGeCqbfGC7s5ObLjDcY89OQoTgH51dIW0sNPne2bGCOLHDQZJpMI6p/6ZbnuvuUhLIgMh75BKppPqarBOvylxlXebssEAk4taA+5JHhMKKqL17XjW/P7Ma8j4CI5rYSVML+qSF2t2Zf9kRRIWXHQ9G27bjCyh9V/X7dW5O8L3nAtqufHyxSj+ENi8NmY59OpJ2IHHG+Udlrcuan5MV1+0R7MrTkoOVAuAy2lc/0rU8CwA4UKcrCdyIbFq/Kj9A6JcDb3vQSWXW4FS0UI09qYa7n8BrZWYUr7y719qBG1UPtXG22sb3w4Vm9g/73Hf4CwHnTiYuZQigAAAAASUVORK5CYII=\"/></td>\n",
       "      <td>brain_tumor positif</td>\n",
       "    </tr>\n",
       "    <tr>\n",
       "      <th>52</th>\n",
       "      <td>/kaggle/input/brain-tumor-detection/yes/y1044.jpg</td>\n",
       "      <td><img src=\"data:image/png;base64,iVBORw0KGgoAAAANSUhEUgAAABwAAAAcCAAAAABXZoBIAAADEUlEQVR4nCXLa2hTZxgA4Pd7v+/ccpLTmKwXb9Gls+lqE6tNK2hXR6asSy0yHKuwwQYGNkfHZDCRTVZwKCgoglbdhv/cYEJh3tpq66BYCsOtizaire0c07Zp17UxaczJuX3+8PfDQzTHAgAAYgtoMTSRFigHAK44GigeREQSdncDL9pcB0hQioiIWulLhDYbNqibBKFcg42CITJExODLSQHOl/EtsXDibt/h/Xf9VQC7NWQSUVieZWU4TdP6ws1fZ/tDA+n6ZxebByQbZAQAaA12TTTKI9LxrnfoyY+iE2tjt4RGkXOkeWdpsH1+uP6h70yyyylu2nqvYWjnLuviBocwLlWLIHQm3udP9q4L/J35GeTRt38B33pDBUSb+c7OnW7I+/dVjH5//ML/oEwP6Z5X8jk3EE/xOfs0xPtVr1x7dG+ybHxb5c2n7/VEYnFTYVxiymi+UAupeM1bD4TitS+GLX7Fn7XNEoN4cqWd+9v/08zNc1P/HOzTzI4OYZlLGrOGCUfH+1lHXTqxcO7An/VHsj+4jYOB69lmly+gR5B4nwXT3w093rOQnX73YZnQG0jV+QfGMoeTyXEXM0sm2aS4XmlNDxaMUO/q2bpcrO1O31/9Ga+JNMMsadmH8oS/+vKl+E/h6jcrH49db2oLiXkH0W0G9j1a9ftrvxkz979sbpyasStmlzcldhgeQKtII1UbO9vTTaGv75SrUSXMHiRblTVXYIkiSq4bvC41eqb3Mj13Cy5UfUMtJkdxhNgczYI+WTludEtLPd+69Scn5vVFX0XG+pdxAsT9HEkkvJizTbpq+nzqpOnPNdxe2Z+nCApyDr4fe0RiWGzWGhz8KgJOX+0RnQIAIGowf2yurLyhxl7xxsyKz1NRO7YtwlYzyoG4daVAWq6uDVa+/mj7ofgfLYvGDXFEAgDKQKPAqKDtipScCrZ4Pj7E1wVepYwxylAFFQBkAIDNqAJCXF3DtzDGGEWiMgsUW0dHRMmZcgFhJEqptlBT+sEnXkJELSsXA0+LXt2RdabmCTpUR6C6QKUXHu85ddnRO6oAAAAASUVORK5CYII=\"/></td>\n",
       "      <td>brain_tumor positif</td>\n",
       "    </tr>\n",
       "    <tr>\n",
       "      <th>53</th>\n",
       "      <td>/kaggle/input/brain-tumor-detection/yes/y1045.jpg</td>\n",
       "      <td><img src=\"data:image/png;base64,iVBORw0KGgoAAAANSUhEUgAAABwAAAAcCAAAAABXZoBIAAADGElEQVR4nAXBW0xTdxwA4N/vfzvncNrSCxQmBcGCuGXeQKMgUUncA7I9GDRmoDEjc2HzcXHxxWQmU2OyTGc0ZsbpgxqNuknMNomdMyCocZlyWUGJsxdmJ7S0TFqg5+r3IQCTco45S1kAoVOOMC9s0+KGrKMFIFEsBeajQMBRspMQCQtlRSlAwRiD8oiSkuWW5tu9imRnhLYplpklIHOqSQjEkqUtDNOl0R23QmR3uC56p/ExoonyPAHikOxIT1Gxu+p85dB+vv6G4RtN6RplOkXglim3R7becU/PsdDqDTj+3+Klg2Z6QslwBjqEWzZ3hJSZao/ZXp5LlizUOZ+Es6gqOoFSXHWUJfa1wvirAtmq3GO6JzJU3HZPcyQwucxaOdmXr9glDf3VVZHsSaRciZrmrT6/xybg/KU2Htw3O1fRedg9/c5Y6uc15lSwgV6cecUIvlnV0Ziy/xxy+dbwb0fme9gYeRntqz3nM3Ris9zzM/7+939SrL104EffJ1fXVr9XG6i+8lqiiP7B1s8zdlHZRDaaFs3RiQvnavqmamb3I3Jmi7Mje9VbBYeaY65nJdrfyS/ujgSrDi+BZc80AvrNVu/y2D3lIT4oE78NFz/tzXouXQ/xIGEMnIsdVn3kXxVcDfPfFzxqb1D+cS36tPtQD3ICiV6xva27/138IeaFNzc3JuhO88WW0SKZ2wzq73c/Pv7VQOLLcD43/M21o1rjVLx++IaUB4qEG2VxPBBqi3s/PP3SHxlcX1upjhee/O6AZSNS08nWFT6tyxPh/eBizZXOu+WBsDpkvWBAbA+yhU7P3IZAxLx+bzS+7XJ5MNl4dcdzk+gIkhaY1M5+1trye4z+0ekdM7Tli57EZ4y0DQyBvC5M6Qeb8qNt6f5T61Z4Pv71SHESl+T/FwAATsmHWf+JqWNd8a+PdAzYnq4cc4mALAMgOghQWAuKb7ULJKhyKmVuKrgqJAJFNqNulxiEhqbpppVCiXwkzy6gxnS0ABh3UPAQpjo5kx2gsgAyToELYAiSKWeBUzDAUHOKTg1iUUbyCJb5Fp7BPKVQOEV6AAAAAElFTkSuQmCC\"/></td>\n",
       "      <td>brain_tumor positif</td>\n",
       "    </tr>\n",
       "    <tr>\n",
       "      <th>54</th>\n",
       "      <td>/kaggle/input/brain-tumor-detection/yes/y1046.jpg</td>\n",
       "      <td><img src=\"data:image/png;base64,iVBORw0KGgoAAAANSUhEUgAAABwAAAAcCAAAAABXZoBIAAAC70lEQVR4nEWTW2iTZwCG3/f7/zRtc25ta9vE1VlrK1ZnXHQMtMq0Hq4mbG5KOp0injYQJ8yLwQbirgpiZQM3xxh1sAOzgw2q1tOFRdhsGXEtTdeZUrN20Wrz5zfN6c/37SLCLp/34bl8CYAKAEAQSsgSlBb+D/UtZqGqfMBlQLcAKvB5ya3J0wWtL/GOJ3B2/EZZDtQslmo9dHLoWPOpaGX1pmAX891hHYJ8Ltt+vbX3W2kOy7EX9rbLnlee7Q6RpA4B2bnP1r/i8fTFB9U1wfzLQ78c/2zP9XsAqCmoP/48u2vsje5aLV6xNFLfMP6wJSetawpClwiMTDvvdcReSiFV366i9tXbyk5dPaMAelKqm8XJfFnnNxun85eOpapnA6MN2Zau8pX3hWD4xKjdUMlrtVcmbDtcTlMV/Yn4/Q0fjishxV9T5eP/EmZmiS3oi0amnFMZvy8T3/42RdFa2vHmgf1OMOUzfwdObP/HGVscGxlbN6HRa5ni86eDtQ75+tfNHwyGok/8wv7T0BJfXe+gkIWr+GFiJ2b/3tK4dWJDcq3fXuaYcZhrLj+CKFrz2lrjTtq0XTIcbXFXSpsL1G1bmP05vEAXuv1Z8VFVlu4VtxPatEfUNKUjuVty2a7v71o6c9/xxeGQrydtnGxHtDmvFrU+ORLInjvUL3W4Ah1b4vacf2GwFdkWar70XDrTYzszKilk4atP32/jsHtmUbORKFIxUFFxpYlVvQL0GCLWtH75nKX5N2967wsliEJqvmfM1kfQawAX1EDDZKZWCx1NeG/ugMUDy1Z3OqRFb5K0ugLigcrFDoY/fk0FG2UiucZwWlRCUKNW03vX41b7Lgx22BeM3nj6+HSuwQsFYSld8Zz2Y6S18ZP+L13xkRlz4GHkTmoWID0GCfurt2Wxa/F897v5tyo3unNFJzMKgAckKXCYB+vIVdzf5/itvFIAJOEFSZKg/EjuDE+ez1MIAiAAd+kHACmEoBCaKAkQ/wEMATi2cY6JlwAAAABJRU5ErkJggg==\"/></td>\n",
       "      <td>brain_tumor positif</td>\n",
       "    </tr>\n",
       "    <tr>\n",
       "      <th>55</th>\n",
       "      <td>/kaggle/input/brain-tumor-detection/yes/y1047.jpg</td>\n",
       "      <td><img src=\"data:image/png;base64,iVBORw0KGgoAAAANSUhEUgAAABwAAAAcCAAAAABXZoBIAAACxUlEQVR4nHXFT2ibZRwH8O/39zzvnyZr0qapTf9sMpO6Np0wrXMgVDYUGSrYk7sWREWLIM5LVRDFg6fiYYzB9KI32UXR6g6TSgUVwVLXba1zunVrl9ikTdb8f9/3ebx49XP5gAAIQkAhSQFIKBIkKRZWLAzwSHlsZzkiLGmUgbWahl3NqLsRC17Z0mPDqYtyZLUtNIBArAMj8vz9jW8j9eD577vn8w2bpIJvaamsSHjk4FPrt1I1Z1MPNQ4dOpe5VDNioek7QXvi5ddnmqWejH9s8VaXK/mTFxd+FNeGOjSRPfzGSgfoK/YubXm5anX3va+PKycwil4Yjd0+VZZsq4/h+PAno2u9a89dP/fwb9pqxlp2PO/QQ0+pMak2KkG/rEyW9N3vFEPpCK9PFu6JSX7WWV+oJfhWJVuO138X6yk6Nhw52VN3f356s5xWncLZ+ud116A3eZqiEapGdfxG9Ox6YgRHT82f7ktt16LR5KdGGbqhGXz3h4nyQLi1kXEmVh3P1Zfz08eIfXUJOFu6sPPL3vr+jhdNXyqq6p/maOnjs36yrgkn772/tBn0TQ+2/76jsLw7XDqx3TObHL7Z1LRX932znIs/kVSJoezdRxfSlanSHznbtUYjgmD3zGODkYxs4oBTmOtv3NeceuDXlIKBjgT5a7li5vGVwdqNnTup7FI52ih+uf82IULKm+7bN7H40PbelaC1d8E2uOt7lXdIoRvYg4XmTPpwohjL/ZWdeC1pws6HB9BfptUhbbnpr06l/xHvcnFruQqfQ2NpWzakEKjJ8SsvnKkk0tf401cj/mh/q9m+B02QRKyO8asv+X679eRi29Y+KJyY+4iWIEQpV8R9VfdifhbNL847yM1lNONKCKXFpQieGcjDBRAbQAJCKiEgEFFKKODMiwNu9wwSIiJKRASAIumSJBlnnCAB8L//378cEyBqGCXS+gAAAABJRU5ErkJggg==\"/></td>\n",
       "      <td>brain_tumor positif</td>\n",
       "    </tr>\n",
       "    <tr>\n",
       "      <th>56</th>\n",
       "      <td>/kaggle/input/brain-tumor-detection/yes/y1048.jpg</td>\n",
       "      <td><img src=\"data:image/png;base64,iVBORw0KGgoAAAANSUhEUgAAABwAAAAcCAAAAABXZoBIAAACdUlEQVR4nH2S20sUcRTHz/xmdnZmdtff7mqzuu7oxi52UVy7UEkJWoRIVJCCQZFQBj54iSIyJAJfCl/rof6DSNB8KcreyqIQU2QldfJau15nd93Z2+xcerDIEvs+Hficcx7O+QD8J8SW0misHH83RRjbm+4bbSwAcDjd3vYPmw6bcyovPuHBdKu6lprv2bLWKboOmYVZa6DnGinasisj3/Ui/Rf0vd1dUayQNKBVe4LlcEQ68VgsDQEgAGjuFgoJzIOB8tV8Eywsu5fWO7o2J8mNA+U6ZSYUNUr740mTKtksM8MJWgMEcMNb8aGAYvYlLR4mXWRPWnPljKfqdicAATB6uF5fEHIoS0hns7YoQVuN1IY+EHIDAiKgSWMeUqYli4fNiyyhcFJPzQE4KUBgAOc6itLU8rd4LAz8DK4gM5qPJU0kIIClgyJPs3zG4YjuCoWERBAbjI2ChxlAYH4+xK/6adFiX43DHmuNzqTWOMGsCRQg0OyQkcej6cINm9YkcXYXt+YwTa17G1VAoF7RzRE3QwWNrH0/iZPn2rA2kWXCNAAC6Oon82NxnCKP3cGotSb5Usm6UaJ/AgABPBgUSbmg4cLdobKb5SO9b0g7nnREJgMACMCon9BjBir5JNSNiun4+46VhG/+42V18/C1dX38Yvazb5g5eeZ1zvUmCtTZlkLYhGpL8ZzzlfTsrKv9kWVlwKo48TRWfj/bdPV8t0PGTSW9w4o3/SNXDo7l/RHMD+peVqc0bo2nJJ3Xqpq32odfVBNHGLly2bWw2EmcKk78pSbq6y9bfxqjlHul/slL27x1tp72fvl6PDDYoO3kOLED2J6f+ofxAx4rIHsAAAAASUVORK5CYII=\"/></td>\n",
       "      <td>brain_tumor positif</td>\n",
       "    </tr>\n",
       "    <tr>\n",
       "      <th>57</th>\n",
       "      <td>/kaggle/input/brain-tumor-detection/yes/y1049.jpg</td>\n",
       "      <td><img src=\"data:image/png;base64,iVBORw0KGgoAAAANSUhEUgAAABwAAAAcCAAAAABXZoBIAAACvklEQVR4nG2TS0hUYRiG3/8/Z+6OM44zOpMz5TiSNXkDS4uMXGhB2aZFYEQYlZsQJIqgVa0KWgVpZpdNCS1ECSohzC5QaRcvGeQt0/E2jpe5nBnPOdPM+VtkmNCz+eB9F+/m+YB1KOUB8m+wdrnMS4ELb2sPdCqhk2ozNrCT5emufmrfu/X8jRMGVeNaygMAGOkZOTReVyLlREcDsewZQ1QTx58Jw7RFfTwSkWLhAu2veO64WnqR+FjGAAqoP1tozSq4fY7KCkevt9WstxXY9rSaAAL07C4vSrpfOlKn9Eka3EItIyHXbBcnWFcp3E2J4nj4VUJatGiNOXr/TEhVLW46eiXLCYrrj4tW37uyPCSDyCNzSqJMUPoT0cjdKEBRWLkjVPFTK2/TwlsRdTm+algyxOZLv9zkKHJupQkzKwuyuBR415sRkkxLqVKhaPvVHlYox9wKRML0y26duM3H9cfZcHwqhbO6xhhNcudCuSRdEXVjbVqfcWpRyrfyGmOa6kMJoahuciZTZd0KC2HIKY+ncH5XtvAmGLn3gPHwN3xOc/pIZoqVLjy1zzX2p2epjPYA0AaKob7m5ESGKrEcdCRVy3wgf9Yg35ctg7dBCSDVz3TWD6rsS9dqbcHJM9lV06Jc6oQhRnhA62J181V97vkJr10oyHZZJdkfrmuRwCig8+gEvb9oydxh93iXR7trpLyJgu2Xk2tW+Jqf5dN007jTOCgt7sqd7bl4JEuZXyt5z5kBUZXC3BHbSs/mBbFYajHGFIASAK+Hh4pPm2T6XJgw6eV4xmh01ayAcAQAnAGvK8/n/iFopjfHHZ4u84DoB/6aaMz1hQu36/Hk7CQNBn22Pj6xXhIGo35LurkjftDUrX1YM7fuJQeg9Fs5//3RnRiOiaf25/1rLa8BzHwDphkTrh62qg34D4Rs+Ab8Bqt7JPujJuuiAAAAAElFTkSuQmCC\"/></td>\n",
       "      <td>brain_tumor positif</td>\n",
       "    </tr>\n",
       "    <tr>\n",
       "      <th>58</th>\n",
       "      <td>/kaggle/input/brain-tumor-detection/yes/y105.jpg</td>\n",
       "      <td><img src=\"data:image/png;base64,iVBORw0KGgoAAAANSUhEUgAAABwAAAAcCAAAAABXZoBIAAACbElEQVR4nDWTy2uUZxjFz3nedyZzy2XKTGIuCy8RSwuV1uJSQSy4EGkLihRaRNFV/4Iu/R+0O9FFkS5U3BRK6VKELsRr1NHGxA4hYxjrxJnM5fve97j44vY5cH6ch3OYTAAIjiAoCgAECACceQD0BCJgMouIAkgAwQsQAcpZZb+Za7/sBYmgAM9tQx4e768tc2LP1Zs3+xJAwZBR+F3n76erB0tHej/++4PP2KQqkoFflhvHgN7dvbumruW/uZ5QgAyCA4tTd4YTIdn7085B69RW47gTAHgAYuHQ0vcTzcn12B2rFx+evjFrEgQTCYw6rZ1lP5arLOfi6/mtC3+ciBBgBIivn11s/Vd7s6+8MvN2OpeunKtCBhpAuFHvcu2L92PP+XPFbbaGc1ce531kFiUZHzvbvDcoFJ+rodH0sP/LS4Ysp2Dd881hrpv3LiZltovDS9VZA2ACPGu/cm683HWlNpSXH51MUyF7n8ImPnlQcifnXt0apRrkC/8k6wBlgAVzPeVd7QAXv4qFfn8z3wxGQ8ZUH+3Fhc6g8P/CZkef19prLlWMMEHILX16bW1Dg7S5Op2k6r4o1WMAYQQwGh2d77/pPeo8aMxIreqr4oYZCC8RzpYr9SR3fXd8H0jXD7VlwAKMFITXnb9cUni6NmWW7nqxVYlRETBEKYbGgdZvpa3JmaVOvRrfffaQpADGCkgx/fb++hl7F1s75n8vrkRBgDyzKvon+3a05//0x24vjCx+7I7KAAhZbnFdrpAOq72NqMw0E0HCWX12dTJUnsUAQBC0LYKERQs+MpAxK/72AIAUIkQZ4FKf3fABy1Y1yKN4vD4AAAAASUVORK5CYII=\"/></td>\n",
       "      <td>brain_tumor positif</td>\n",
       "    </tr>\n",
       "    <tr>\n",
       "      <th>59</th>\n",
       "      <td>/kaggle/input/brain-tumor-detection/yes/y1050.jpg</td>\n",
       "      <td><img src=\"data:image/png;base64,iVBORw0KGgoAAAANSUhEUgAAABwAAAAcCAAAAABXZoBIAAADBUlEQVR4nAXB629TZRgA8Od53ltPLzu1KwvbYAOnBYsDNwHHNBhhEGckGfUS1CkfjNH4hQSNRj9oxH9APnjHRElQo0FRiVGGIN4iBi/DLduYq5SB2Lmu63o5W89539ffD0FpCCI+WuszRI3MSN8SaR8tJwgIhAhZ7a/TTlcmyjUH9OtRIQAIQIfBX9h3+aa5rvaW/ELtwN0BIVWDADQHZupONdfb4Gzueuu/1w6anldu+54CHi/GFhE4BFIsDnjN+K/49OnylNvNL80fDVhkjggo4H51T3p6JBIrbbo6VWqaHJNH0No6RgmMGDx64x1Ne52gea680Lru6kTjS+oLDTXyEHhb9t24l8wfKfZWSO+OvmHcuj68ZViyIgdzM/bkxsK06zdTHN35ObaL8bI7tuzaeckIafRA5aMViVpqV3rhSldt/OVcY4K/mOwQSUPWnnxopJ9N+nHzWPL24+b5vy/9JbxzahA8RqBPiQuRSvTcfHHb7IeHh9/fmrZjqet+SfrzBkE80OyxPZ89fmzN2+7kWlHhzumh51CczdaRQP1+qOXs0N53ChfYN7JWqFxT7fl4x6H0n540CAqWxMZnJsZbflDETw/OCbVq/et3PoXtOckBgD9ce7PWk18L0P3z6mxb/p4/bhleWSoon0Cy7z6ox5pvYP+U5L2z76Urha9yldaDlytLQKBFryezna8+6Vxc6r9rZ7bY+mBkE2bupxghNNZ9P3Ffw5UZOJbp/No909FXxZXnv7RoQwjSNlQz+59NFdRMeVt5WpZMrcyKfSemtUtg/eriExun2md/cujHUbclLsoDv7LzFxV6BCg122p3j9zaNj14asibmOnY0h06PpwKrCFAB6kJvTOZzg0noC8fl9eL7ck1JgAOAMtBJFj42xUD9pF9J/d/8mi/ddrWO4AxkgCNUkEogdtjoABApDar1jAqksAlAAnOuQIReWFVuiEBKrJBcAyHyBEKwA0Tg+URWtYUjoOCuAuKuIjyEMQQVMDBaG7RkLGWa2EgIERrgf4HeYhAOT0A0uMAAAAASUVORK5CYII=\"/></td>\n",
       "      <td>brain_tumor positif</td>\n",
       "    </tr>\n",
       "    <tr>\n",
       "      <th>60</th>\n",
       "      <td>/kaggle/input/brain-tumor-detection/yes/y1051.jpg</td>\n",
       "      <td><img src=\"data:image/png;base64,iVBORw0KGgoAAAANSUhEUgAAABwAAAAcCAAAAABXZoBIAAACt0lEQVR4nGWSW0iTcQDFz/f/vm3u5gWd6ZyjoTkdTsPwQS2MZiaSlVJpIpk9WQ+iYJgYRL1klvUg9VD4kGYU1UtIJKR4QcE73vE2bd7Fy9Q557bv+/egD1rn5Tycc57OjyGCr2oGEEt29gmlIlA3jslT4g0ASN2lrjEojiTk0O1VFAA0tJwen0K9MkMCFpqo8yq9QpSUyg92DADAEizOZ8UB85XxGSd+jg3wzSYA4AgAZBmKk2WsU4+aENaxejIp38QDQAwB8OBzYeftpcA93mt6JvKP1GTovVvxRsKwYQRIr1jFqfH7G2pXhylu0J0Q6vW2p8t7jvJDDDz2pM7zjFahEU1cnlBqUur7dD1w1a7IwTGAQyY4RULMxZzoqvq19MnUIMssHdS/2gUI2A5RtUhI1L1499U6WzqYmFVyRobsrXgnwIG70PC6OHrbdbPbViA1CrUUfUX39vz6RPJdAqq9nrCxJbHRYaNZCM/U/HhiYetaptajHeDg0xCUi/5Ip/nh5Dk89tXs8/O6s0MRjB8PBqrlrLpM+6/FUhLnVrOb6qVFnxEt397+Mg8EWzT2mq3gWbLWFqtSmvPdDi03avFvXM8DOLgMywvPpzc9/JNmTr+vFHT8wEiy1R7VKJU4GQArSj970UbUgj7QnkM+zSnca7LJDwXlDDgigOjTFKJ4KRey0/WxrC28R8ytxPRmBB98Lddp0jzKxvnF9AjF00arvt0g+3bD6ABhiAD8Hpjdzh700Zptm4xcDe922twNgBABgGk/17PVMNxvETyJNnS2U2ycpgAEjqUCiGD+UjCljJ1s1bhjq1PCLgW3qACACAJAa6zWNgnd55gA4yOPhibv+sS1I4RR2uNfeOu7qMWzJF4xYfc9zqYMo1Qlp27wtmUW/4r1B9R3EtgAgAEOoARH/i8yh9lfB48aEFuqrd4AAAAASUVORK5CYII=\"/></td>\n",
       "      <td>brain_tumor positif</td>\n",
       "    </tr>\n",
       "    <tr>\n",
       "      <th>61</th>\n",
       "      <td>/kaggle/input/brain-tumor-detection/yes/y1052.jpg</td>\n",
       "      <td><img src=\"data:image/png;base64,iVBORw0KGgoAAAANSUhEUgAAABwAAAAcCAAAAABXZoBIAAADAElEQVR4nDXSSWhUdxzA8d9/e9ss782SWWKSmkQTJdZIqIZimkg1iAjWk6BIe7NFQYq2pS3qQWgRD4J1w4tFLbRCborgvtStLnGJW0zskHR0mkmc5s32ZuYtvx7U7/Vz/YLKVqjqzDCTQGUcJAZCIfA+AZQHKaEAeBqx4iFg+gP2zrmmKpFAooCYWbcIcD9cOJiMllsJAABVmQjy71//1Hl158rVvUc3uZcnvo22jmLARwiRmGtbv3y3OXKtasZnHThhTjH/UGzGBu5Rj3ro85Qd2zW/DZrsdj03elipqzqhucQT1AhHYdnx8dBxJT/Us/GronP5Fn1WL32knAGbSDWnX2vG2G9qa7z1RcfiS4ol/5vBltL2jhy1JefpwvY5/vDDllIyO3Rv2rRNKaxaue6nZRpesPYLK/3McLswdWyg6fwbX7zqy9eZQROR0lsHkolAzdXLKyDDty2dO3IymEu+IYW+xxrhRe2HUX9djLl2rW2V9M+psfp45QGpRM19gtap/elENxmtuRTWSNUjekcAimEu+c84hMYS3yidQ9fbMay2bG7bG3tVsa5NiZCUAc6old3TVG6ed66Qm12W53fenG0b/vxdkY58jlVacOb8mirpS9pKmXRq+EG/VfMZpYbX4naRILVhT2M0Ne/JCBQjY5t+9x5ZfxZ1eTI7eLi6hDPY+kmtuaQl1eGGV4Nrsz6345GRMIJnbQFE+fj2lrpB3YXk+BOl/Uova8yWTWFg+Ee9TJRKYdnyYmjm375s/ZTVUum78Tg02l08dT6CQLgDu5Ux5I2YnwgNLKL1jdW8XYXUHxSBSIi22JicjIv/RoY7m18uHI8+5yL4M0MAih4j+1/qDbk7YlbPtGMUsiMzZHNXLwAACeV5+4u8+LqG3G/Ov+gLVNqG799DuQYAQAUA0dHADZ9uW1z6cuWhz6QsQkQi0xAHRjjIkv6XjYAW2ugCOgDED3PlJhCCgixzrslHAK7fXA8XI8CAAADohCF4EjgECIJwPWTo4tvdJz/8H5tuSxaYTJtGAAAAAElFTkSuQmCC\"/></td>\n",
       "      <td>brain_tumor positif</td>\n",
       "    </tr>\n",
       "    <tr>\n",
       "      <th>62</th>\n",
       "      <td>/kaggle/input/brain-tumor-detection/yes/y1053.jpg</td>\n",
       "      <td><img src=\"data:image/png;base64,iVBORw0KGgoAAAANSUhEUgAAABwAAAAcCAAAAABXZoBIAAACeklEQVR4nI2ST0gUcRzF3/x2Zv86686uum3trutabSCmLiWSkVAJdRCCSIjCJDrUIQILL0FFCR0MPUh0kCLqIiF1yItGiPSPrCTKjCJ3LMdNt93Vdf/MzM7OTIdANEJ6pwfv8fjC9wOsI2rF6L75M41Cf4QW9b87xp7EWRDQLCXV9hrWZAyfQUV124UwjCcbwma9Y9UslyzeZTVF2c2D4vFvlpT/jvZ250o4W75n03euKO16HVKMcqmUEcfmPAAIYLl+xeOaLLOkuEJAKHFycZ7ltKfvjAAFmDLuQzll0aFogj/43u4m0SWjOp5zpEABnYM7+C1ydtuCptAqsSmKLc2J04nHIRCgNpLZ+MbsK2IYnaZdRGA4RyHmXnAAFKBT+zJVssFoVhQLNQU3luvvarUjObNMA/D6RAMp/aIFMrrZP8OibqwmT0k5GQRIqElvNi5tUL9+cvFJq5oeCpqrWf22DQTMxZght8hOiFt91qjfUbfIVIm6qBpiNhAUmu3mRES2yfwvsZ0PilYpIbhTSfVaDAT64aWUUBPgZcXb5PrMZrubtbLvDNNQAAgw8ECuScbK7XSDN9xrbbo1zphUk9QBgAbaWwTWku0a9T18dKryGReM01Ep/2Q/AxAg3xqxJcwU56RbJhZOlIy0JYh3ydlpBAigt14aYn+kpek5ZXv9cODgDZMnM9RD5QECAA5PqLjv56ujzv7uytGJirgcENWVf5KrB05XCMU9nuGBF42Um0+lpgzan4MAjWlyW/1SV9K+vJeIM9ngkTJtFX10xOepng2Fs/PCx933aMta/Mhl/dxNGoQ5/1L98A+E7z8fHzs2qfeth/n/6jfMxQG44wlZWQAAAABJRU5ErkJggg==\"/></td>\n",
       "      <td>brain_tumor positif</td>\n",
       "    </tr>\n",
       "    <tr>\n",
       "      <th>63</th>\n",
       "      <td>/kaggle/input/brain-tumor-detection/yes/y1054.jpg</td>\n",
       "      <td><img src=\"data:image/png;base64,iVBORw0KGgoAAAANSUhEUgAAABwAAAAcCAAAAABXZoBIAAACeUlEQVR4nI2SXUhTYRjHn/fdztlx05nb6ThJbTrnVm3ZDmk5iT6ki7IPpcKIuuqiCzFaXXQlFQbRB912o0FfN1EGUV1EWphaoCMnObW2pEFu6tzc2dlxOzvtdDGdEAb9rx6eHzyff4Tg38K5SC1XSrKsXwMizVjCLu3Yu8USz6gVf8HuxrpK29RGnvWWmnkXuQyVAABF/rZeNsrvror8tjpLS5JJvAqJT85z04SBw+F0gHqTklrKMqS0XFa+3DDxRICELqqd1SX02s3vLxwcWumpcSlATYkquShcqkJUKlD+nPQbspDhG+OndUJB0iMuVhp1EYOdFM8+ngEAQAh7bFpTfgabuTjxbQM9k8owYWpALkgAKAGCV91JX0nELwpk1WzIKBCcln/B8ggAg2J/1zxdvN6IR+krk3odL3BDhHS8wQ8ACKpNVN+uMElGvSrzmc7m0K8KMWCLNy25ADAKeMaPWvNUc4pNsfyb814RUt9Nk5EvegDAkCRbB4Pij2JUrvDtoTOSspBya1qF8wCAECHCCW4urrxdW9E5tuCrWfRpp9ULjlERAAPy9YaEA1L3o52mp94hrABsBtVST3ZPxNbfq2OUU8bPkbb7h2eSR8Yj/lOxkUEAwCCPMDRDq51yYdHrkaYg9eCdRnn37cDybZEnlo7NuYMd9S3Hejq3p/VSbXU7sfKylynbNi5KNhPPpvY5r6uti9fAkYPiw/GmYaLwEFfT3jdB5ZGi4xakswMBgH1df55TDlWl+hyOVxcvWZiPWU8iBAAgf2VLqNqfmuGtAt1vZrtW/IqyunOSYQEbTB0fcimEchEslckei2y7YVyF6P8cv4b+AM4t78wSAQEhAAAAAElFTkSuQmCC\"/></td>\n",
       "      <td>brain_tumor positif</td>\n",
       "    </tr>\n",
       "    <tr>\n",
       "      <th>64</th>\n",
       "      <td>/kaggle/input/brain-tumor-detection/yes/y1055.jpg</td>\n",
       "      <td><img src=\"data:image/png;base64,iVBORw0KGgoAAAANSUhEUgAAABwAAAAcCAAAAABXZoBIAAACl0lEQVR4nGXSXUhTYRgH8P95d87OnLPUzZVac6EWUqbJZomwFAyKUFllXWi2wPJCsdA+vAiMUG8iusgu7ONGEqUcERWmWGpfuPIDZzg1ijWm5pja1Oa2jud0caYMfO7+PDzP+8EPZoQUDUCyHoiUgFoPJTWkGBKpEMaKmedhFpsEluqwdBQDl/CHkgf3mCkAbM59FnQh5PshCISPWDQBAE0DAHKKKqotSs44c6Yd5gu1PlNrC3iAAICBHvVPxgqeVbUTyPY7DmfqjXzwfpqMvtdaNUcit7lVzbrEtQBtHac4GfOPBvArwUnZnYoYhlN+sGUsUvI1vh5qjqMJgBcOni3o/uv53lb10fXAy9LO+U8DC17xzCM3j9WeDygY18rJ5TfGXRJ756RhkBEICIDwe/kuaznHpjZrYht0lM+TWTrS45YLhACDiKgK1M0EXFn92vq2/tanj7MWbbIbKlYgQPKBTJPHZpVNjWxJfWWa7jib0zI+pjm34icEiLB8mS5LObo7D+7OuK+HbpfYDZWr3rmhnQIBCONONFMShvhSoj5HLSnfJ0c+vNV0vNfBEwB1K33fwufHXSnxTy6uRqX1VM7/ICisEZ/yO4MMlThlSdYrioEW/SPt0nD60fYaTvy+pG5V7jvDALUcndBVNmFQN6YdrBhmiDhpnA2f009oyYRDW5I2u71BNVpupQkvTu5x24pZuUtV2Tv1zPtS0pjRFRB90ADCon1tWVDo38YnWZRFSVfHLu9zilLMFDQCrkfSpXl7ubtqjGX3QHgewkQgALNDd1q4dopduePNpQgVYujEQsfPGIAFLfg5e5NQEAoM2Cpw+QCEWQkFSIOKSRCth6J9rE4ijeMBElinbN5Avakk9MaSzT3mP/Of9XK1kWOEAAAAAElFTkSuQmCC\"/></td>\n",
       "      <td>brain_tumor positif</td>\n",
       "    </tr>\n",
       "    <tr>\n",
       "      <th>65</th>\n",
       "      <td>/kaggle/input/brain-tumor-detection/yes/y1056.jpg</td>\n",
       "      <td><img src=\"data:image/png;base64,iVBORw0KGgoAAAANSUhEUgAAABwAAAAcCAAAAABXZoBIAAACuElEQVR4nC3STWibdRzA8e/v9zx5bdM2NVur02a+dSsMV51FmS8buh1EPYiCWBUEh7iB7KwnTx48ePAkoqAHHVaUKThW2CY4N3WjdXNYsihrrDb2ZUmTNmny5Mnz/3lw98/xIykABAQQTAzDIg9idQVMBHAhEWEEBuILhPiAQuT5wmiiv37XsWQoGIQxAkUEiEnm0MU7/5kuLr5y4GVVhLiIpwJgFrx6eeLcW9mR2RPfl9+IMAB8wHmER76sfDddXJ3csXP5VOOxMxAkQAG12NN/X93/0eb4hSf7yzcVfmm1VFKApBFhYN/sc2f2t0qD/p+3+Rp8dv+1ppmsqWDWfXbq8MWxpZtXizqwvfLQnlCqICJqiHRG3/uq59aR+ckfJnYVnzhxcvW3gyI4p4KJO310X37menng41oxO//SvbdnC3FDPTVTF//6C7/0QCs93zqW6F3+ZO740j1NzKGm5g29NjnXUwj75lrbgsZMX3S2uWHqS1cF3MDJ93OpoKfpr/QNdcYGH944sDfuOUyVNleCT0eDZW/pp+DQ60fvbn5wR+nnRmqznVQjlb4lGvm2yPLjo3sz/460R8aChczgRg+hGrJZ9qbyz0x0S/P5zvDa9fSRKgsdTfhOwUlvNXcucM31By902qH3++fvHr6SdJFvqhCysxF0qon21qlLbnG9tDbcS42QmO9EPIp7Zv2VLdIcXvymsGsp1v9jmo74oWJG12sm60+1K5kdC4VwdcvV43kNha4qGB7F/Ixnuy99uNtVsu+cf+F0YOZMJQ2mQmdcnq+dffTa1tybj7R/TSBmVCQlIKhL6n3TL55qvl2ifHnFiRnUJSWAGF421xpaLOX83r+8rogBdcX+z0Ttj+3nt8XHM7WU6Y1gkkIARKSdbiRJBqi74atiZmoCXS8yry2eRIjnA7D+H+2YQfNVZfWnAAAAAElFTkSuQmCC\"/></td>\n",
       "      <td>brain_tumor positif</td>\n",
       "    </tr>\n",
       "    <tr>\n",
       "      <th>66</th>\n",
       "      <td>/kaggle/input/brain-tumor-detection/yes/y1057.jpg</td>\n",
       "      <td><img src=\"data:image/png;base64,iVBORw0KGgoAAAANSUhEUgAAABwAAAAcCAAAAABXZoBIAAADN0lEQVR4nAEsA9P8AZiF/v8C/wT7AAH9EPMAAwL0EAT4AwD0AAIBAvcC/wABDf0EB/4RBRDbJhrjWyTd+Anx+AMNA/4EAwL8+AT3CfwBFEvf0FzDy//FpdsR2PwT/f4KBQkCAgIEAQQQDdpuXQZBHYzLMPxbmc/Prhwu+vkE9f0CAgb8+g5V8I2sLDL03qjIBUPkXMRCQr897AgNAAL7+QL0UIIPabxZCtrs740vDAoBd5eIf6gX//YFAgP/+fEVCGiWFNna+gTc7sP+NBkB6ml9sGwS6vgECBXV0EHVnTwM9zID/xAdT+CpGmL18gDC6ggD/QL/9AYuI5jH2fDg/9buJzDOGgk08ucOXZib/gwPAv7sXwDLByIRHzQcBwOxQAzpEQUTDB3X+AzEDPQEACPGAVfp5vS9L9Kf4H5MIaHiJ/z22mPnE3AIAwQEGremAqcYoTz93Ds/FL8OnRCKI6fzW8gk5hoOAZmP2YgFywRCoQ0YCirKBxnyAMsO6VoJzZn/QtICAgcPd7Yt148hSh4WwBfSmgbNDyvIxb76AAATBwIF70IBR+YnOxwEFerq4jdLwRYPA36qCvUAAPv4Avv56z+Vz+Hz/dggQTMD4Ph5Ce8K3mIasjkA0QYC/BDlv0LVGORNLykMVVF/RcgPEHsF1ij4JPAg+wIE/zuZF7CjWgQ9wirq7d7tJ/AFdaEBzSOmxRsFBP/9r6T/xykw6OLTMbaW7rvmB9nvhp7gJ59GHv8C+/kjAACuMN5LJTm4QauhHNMM/vvLYra1vkP4/gQDBQpJtRXsTJA+oeQgLyz4/tIu+/PoZyvZf9L/Avv95rwB4D5QOxRROxSj6/j4IhcBF63Z4P2pBQECAP8TBT97vVjItx3gx7P9yeMeBy7+5MP1EfoHAgQG//cb4BsEMRuH1HHZuY6GH+zO8Xw4/wIq+Pj8AJccBS0eJ1H/diRZAL3Pu79MANEkay8DASMcHBME/fkm9Qn9s1lh5RRFajACp1cZMsBAQVTC/fAV/gQC/eoS4CUQxbkvXNckBU85OSEYmRP+0gPxFf/7AZiFAQD9Bgj7+gIF/PUa7wAI/fcK/QAC+QEA//oSVHGyPV5m0wAAAABJRU5ErkJggg==\"/></td>\n",
       "      <td>brain_tumor positif</td>\n",
       "    </tr>\n",
       "    <tr>\n",
       "      <th>67</th>\n",
       "      <td>/kaggle/input/brain-tumor-detection/yes/y1058.jpg</td>\n",
       "      <td><img src=\"data:image/png;base64,iVBORw0KGgoAAAANSUhEUgAAABwAAAAcCAAAAABXZoBIAAADGklEQVR4nAXBa2hbZRgA4Pf9vnNyaU6SpWubtq5kLFsVZ9ZoUiV2rfaHFHeRDaXqBqJT2fBHB7IoFqZToQUVHMPq/FEcuAk6EAQZw6FWLWy6drXTmdZsSWfbmMSuufX0nJPzXXwe7AIJiEhtANVWBWGCgKy7CJNEEECpUqqXg4vPRvTe4YgVFASoYSIBJLbmEFKYmZaPBs/cihRecp14ymM1e1WkToExKQEDjujQuYvhSvbFT2LZ328fDE9IhTJGpATZhufnUnMhumn35S6F7nrlq/JmLi0hiFSJzzpxNv/lxqlM4y/NGr2SDh65MOqybYVgDNH8tCe2Uwe3eWxAb4hq2yfaD8BhL3dyjJmukyM7GovEcF8PH7gyGamhv/Tz16F7PJQRcCk7t7/HAvWx1Mz3vWnm3+ifv5F+2dutCYJx92z1eKo4ndRpaebJ8/HIzbrP9dC11dOdlGLM6jQykUSp4rac8P5g3yJL3KRvHem4PicMBTzBwMPlpQ3hmpsH7mr9x+IT5O1fG07+PaATIv59JveBU6vlpcGrw43CqULgVMvCEAHCFOe2sfy7OZ9qO1pw5Y6ho19G949ab7YRhoTXeS73DXdcKm6uuB/xWc6SevV4Itt7rgpEEeoPL8QoeyCy8Pij46/u9XkaSh0fFxbnV3eASVgx5ppZUit/hdwfJk8Z8bLRWxg/48ndy7iKcTv72H9xvb9wcF/i7uwaAK60soF9fWs22Pigbe+GfKeibTAr3euzd4AtBzsXvhs53EJtInB9zx/eG0liTYWurjWVQOvftJB/52grtTkmbFCewLXJC8ODi9pZl7dvjjitz8O/bTUB8X7E1uKhP7eGUgHuCaSM6X6cr09N7V0FEIRIuWy84biWbmvUzdnSeDu/XSt/sWuVAIDCKUJ1Zttrlwore7oyqae3JHt6Dj3HFCEBsYs7FLY0OvTZreX09H0/wfP829Ovox+oBIZRUBlivlyjeKwdgpfHfjxqosZAEGSKpJYioTna7U927J8MZJpGdL+oNq2D5IhRBAAEwkH3EIG07mCSSIkSkf8Pn0xxecjEmxAAAAAASUVORK5CYII=\"/></td>\n",
       "      <td>brain_tumor positif</td>\n",
       "    </tr>\n",
       "    <tr>\n",
       "      <th>68</th>\n",
       "      <td>/kaggle/input/brain-tumor-detection/yes/y1059.jpg</td>\n",
       "      <td><img src=\"data:image/png;base64,iVBORw0KGgoAAAANSUhEUgAAABwAAAAcCAAAAABXZoBIAAADF0lEQVR4nAXBW2hbZRwA8O//P9ecc3aarqdJXbqmu6SXqazJZLZVHxwdypA5Jip7kj3ECxOkOAQHggMfRHxQQbzCNggos+oQFcWtjs6Js47aaefakay1LU1OY5otybl+33f8/WAHYcAUJIwxogKIJACQgDCNEQEjH0lMiCRJNnBh9I1H2gMBCYDoC0Agc9sQAMTywwWQ5/t9hdQbfQ96vCEyMxQjkQq2rJWoIvdC5pa7cv+lVnTqDDDiIPQ7oOfHXS17R0pdiMzGExeTzaXW5EkwWgj9AacrJLGl9B4DeSaz8NtB60z97zv6oxtcQsTG8uW0ebYwZZ2wxuoPzWSMw4dyD9S+TSCBe1YqfOTPr6xKrGp2TDwzi7xzZmj+ff/nwUNryOIouF/8805O6TaLg5OqklQPxHOvWAPMkVBexMORsPfk9UYox7cb893MKwtz/5o5+FFA8vZK+agzvlzTsKrUs/d5MV3z08N5r9ZA5C/3RN+3vRl2cf2HDqGzYv9aKVH16wKwlowCo0ulIKVWPFIc3zVd/YC4u8PUUP5GXxdFVwyNT64Uz/Wy4Gb8u7XmkhncWq5YNPXUuofC3ZL+8UB9f9gTbYZyrS2b2hnTZxJp96cgQsZcb+E5hVk1b3R05x5bCkNjo41fHVncYiCuxzbH3ypYotCZ0aXz946oqPR/Vnmp5aODLPx0rnqq/NqyVMNBZaqDs9W/7OPfZON8mCAkrlyLas+f0O3kDl07Ptk3b/Lm7d2V60E7RcIu3bWYfNexopvtzbNS2x/FUENuHihcLVERuGj0hWFRal+tStn0dHf3ZDB0rpzYc0QXMaKs88Y1//TpCzGx1z//rLxrbautbvwyMS1zMXQ3xY9FXdHs7PYSXfswH3/x1Yt1njv6UdKVYFuMAicLqWQQrh85OLbvc/NpG363x2IBqCjYESfO3tV8ZpNz+fWeY/uGbO2F6DHBI5xCr6eIiMTHItnfbKSnti62vnxymDhcpTKkHUknFGTqds09PoEhGVhPgvEfqoSrsM1RRIERDGSRRsgBXC2UFI4gEfgf8ftujWtUYIMAAAAASUVORK5CYII=\"/></td>\n",
       "      <td>brain_tumor positif</td>\n",
       "    </tr>\n",
       "    <tr>\n",
       "      <th>69</th>\n",
       "      <td>/kaggle/input/brain-tumor-detection/yes/y106.jpg</td>\n",
       "      <td><img src=\"data:image/png;base64,iVBORw0KGgoAAAANSUhEUgAAABwAAAAcCAAAAABXZoBIAAACw0lEQVR4nHWTS2xUZRiG3+87/5kzMz0z02mnTKGFGYaQKrRCQ6k1ki6aEMMGMTGCJl4WkogJLiSY2NQVphAIyxIXmkhI2WpMNCHqRqm0UKKxTqGLUuwFe5lOZzrXM3PO/7loFDc+uyd5l88L/A8MgP41YrailTzqTwdEAARkHO7ojS6XfdFcemayLgQBiAggwcHTLZfirbWJZ+Or2bOzd34sESAMIqL9H/3y4tDI4Npnz+jJUvZC3w/DB5gIJhEhMXLdPjzW8STvr9i2c/F82+OTD4dXIUGG1h+k9xp/0oxTi+/Q5eZ3z2SOjr5xxgCYifo7HsEp+7YXrFpd5acj38S+bX619whgMOiT03tWwy4tWS1Vpn3xjcBiTL/nvswE5n50z1SyYccy/Xawmsv4pskojn/Yvg3CiLtdsjOxYjW0LTvFvQuxgNRh8AvhLhBj94V83dhskNCht3d5OY9Mcqs9vlOPQiJKGp88X15UAxElza+kozeLtmbfuN001A1S0gQPTZtdEjC41Blqqe2atPLJzI1SSpGSx9FSey8Fszs8l7Cemq8qLsyWO6va8xTWKo5aeb1WqjR6hugiBbTbiGIBOZDC931dZ80NM9RsUdgx3qRZUpGe+8q+DWEsvWV/+rlfh00RsWJIObpgPgjef20OYOKlL5vWRhuiLgHugs4tsrH8V3ksuQ5h8d4vL7dEXPg8VH6/eittOF4ByYFhgcHw3HP3Ku1unf4YTycu3604VNuevPnOHEiICOqrj7+efmlu1vVnZCL2s9U97y1MZSE2Q6R+om3lt6tLXmF9c7H6q9+/LTrVlwWBiQXgHn/4XEYbZZij6rlk6sTgoMtawiAiImV+MZBIdLZGNn5a7znWeY0UEyNIBAiI5Pz+qe/27ak+mL+C41vVSoCwlaiAhXWAtaMhIAgJQkTynw9sFf4P4b8Bsk0uk95VHswAAAAASUVORK5CYII=\"/></td>\n",
       "      <td>brain_tumor positif</td>\n",
       "    </tr>\n",
       "    <tr>\n",
       "      <th>70</th>\n",
       "      <td>/kaggle/input/brain-tumor-detection/yes/y1060.jpg</td>\n",
       "      <td><img src=\"data:image/png;base64,iVBORw0KGgoAAAANSUhEUgAAABwAAAAcCAAAAABXZoBIAAADFUlEQVR4nAXBa2hTVxwA8P//nHNvbszDPmyTNCZdbSttbWuN2mVzj+pWnWDxAYLKNkGFMdj2yY0yEYbgB1G/SJGBIFjcwDFxzA/dUEEn3cxatGpjH6BpfdTsxvT2NmnuI/ees98PmzXhAgiCQgjkBAAAgHABFAizFjgCCspd9AqFlq0ydRBQcMoFQ6BIuF2x5ej01MU5wunxwvkyCAROBNRLhPmSX9OOONvp+zHReQLeYqcjSBWJUoxm0fdP39x+rfPG0ifDbDy2405MH/rQSAEAoVh/uu1pcqZ2fL443CD76bD2LPPpvbPrhGCEtm7tP7THkMdWrqgOWUtCzlQFnHhvT3+X+IrAzp+WFVTH8T90MeUGIuW6BR586ZAfBrZsYvZaeVvQLHltf6nKfBKqKaKirUjFO8d6b55n0G4/bZnyoWHpdiSdnC/YHimnzCnvBb3/YiyY7uMvVhu2qyw+b7VLPKwZUskBvzrdROxNsmCrX+ASqavdEM43nrlmyIQ1RfNG9wLWC1+LZRtE+I13ubeh79hkaLGwAFb8FqlldtNdvjcFUMKiNrTurz/H0p1vmsvLrbDoUhlVsV0OTW/8YPZuthu90rWS0sF9zCnAKp2JKci/TrTVCLn3lZPhLWzSNE2au5XEaZkwuVGPJsK5639bj8KV5siXibU5bDlwygOuxSzzQON4HZnr2qdU3CYNLwuez1yYnFjMNqfXE2XX40tkIEiVytGDJ99mH69sPbGMSkr3YfUXL0a1/isTlwq/dyy++lkdubK8OFrjd+RiaEKrWIXR1wq2Fr+ovD+/e338iDO78b9HEZVtqzp2da9JgFQPmJOzD6xzhsDIRDL73M1U5Acd3F4UGM2BnZD0/SObw81DWbX0R99MNTEbf913mUsEgEuZUOVlf7v825P01ciabF0g2zb0/iAnLgHGQbvTMZMdzRRTpe90x7Hy6QtHbwDhCDFZYT458E14c1eg56PPYRAg9j0gk2TmwZhKmEGBQ/nbd3R9vMdzvKzpGCggCg/G865D0RVAHQkcymygZaDUJijI/xICaG36HJ2vAAAAAElFTkSuQmCC\"/></td>\n",
       "      <td>brain_tumor positif</td>\n",
       "    </tr>\n",
       "    <tr>\n",
       "      <th>71</th>\n",
       "      <td>/kaggle/input/brain-tumor-detection/yes/y1061.jpg</td>\n",
       "      <td><img src=\"data:image/png;base64,iVBORw0KGgoAAAANSUhEUgAAABwAAAAcCAAAAABXZoBIAAAC70lEQVR4nC3HS2hcZRQA4HPOf9937tzOZDKZiWPzdCAPFaIlrWJLgogau1Ew0Gp1p7gQQQQXLlwUobiqinTRfekiVIoPiijd9LEopFgitgETpp0005nM687jPv/jxm/3IQMwSkoExAqwBKQEABAoEUNFjgwBUPPj2aVsrsQLtzbvb2okObi8zshpDNW+fPP1g8cXC18c//xu+6eNwreqES537gLnRw4hvv/vxPcvzZyeg9yRT986Ay+eRhXSEtkZYGk9db+WOfBNMwmwO/nX5LWNzfPAXZKSae0VM4rBSKeMmsCng2l1/r3RrzwGQiX/zWcnb0QLzYIfAakGOdw7+uqffTKQgOryx2KHelqjmB2a9hgONbctbPfrA6kwv/3w0qr/WM+oapBocb3Ujred8Pbg3cOkUCe3N27fM7oSZtI7JJ7ph7W8zL88Ud8DAueFTvphLJ2e7HYnaHy7Z6RL7s6Ny9PABMk7ueUDI+MH/UFQrT8Z03W1LQ+v+b+fQoLoUe2P0LZqK4v7ytjzk3/rlagT2mb0nQPE4upOJv/aCVxcmdaaYavnosjG90Jr/oJEFr1VmL1UHn64tWdavrE7I6WIdd5auFUlkNdmn+ue6qycgynHMcbnKGsI8kZOZGpAAMv9O6K893N5qhEB7XqKF4Vo7zYuMisAmfIVcI6uLV6w+6beVjxFqHV368gDQQrr51zVqigbv8XC9TiyjaqlKY2BdnaCkbPhSunKqB6aek7v+ikN/cBMWpngerpBwEvHg6vZkmmgpmuVet20ne2WmTojggSTQ5G1enPVE8rA7qe8xhTFkdr79Y07PatBFBmjX7pzraTKzaDZLtCgYv5z+5M+SQKUT9V196PteN/LanpCVtgetPPHrm+KOAlRZiI7cOT6+fklMCrV9NIP1mDjYw8RYx+SlFUqFkQW+AM49kurfJZ64LhOUcuprJDT2S8+UX13NISbHe1ZlqWRKOAm+gDIscIIAMAIIIkBmen//Qci6F3moLyeSgAAAABJRU5ErkJggg==\"/></td>\n",
       "      <td>brain_tumor positif</td>\n",
       "    </tr>\n",
       "    <tr>\n",
       "      <th>72</th>\n",
       "      <td>/kaggle/input/brain-tumor-detection/yes/y1062.jpg</td>\n",
       "      <td><img src=\"data:image/png;base64,iVBORw0KGgoAAAANSUhEUgAAABwAAAAcCAAAAABXZoBIAAACk0lEQVR4nE2S20uTcRjHn9/h/b3vu3fvNqfbTJ0zzzYqLYkCqSuhqBDCooMQ2OEiyE5XXRbVVReJ/0BlF92UWTeRBaG5gkwlEmvMQkTddG7Lnfeeuphb+9584fnyHOD5INgSJipFuoGJYujF2pYzTBjVeA7zGuUKIcobVU0p0nrKFXlm80mIRaBUMgfXrOIBqb7W3nnCKVWXZgy3ncT7O0/b2eUzXu6DHaHiWAyi5w+5mAluXHnkziVqHw9dpWrhICsyL+Puz1qZzSd+W9GWnt8cBTnfBfgvemo+Fm0M+oVEjzebqZhRLrWkK/OhXgYDZ/c1B5z9uHKlywMW6Rg7r67mdxJ29E3Xnm1vLW5ZWaBhrv07VzcEUgwAA0JGb1ZempC06WkbihyKzmbRF4lLUgAMBuApWQ/IHs6enVK5V41KlUC0PtwAgAHp+GHcJK3Pp9werA9LEVdlbFxbd/gBKFhASOCkld9hmvO6Q2NtIat/8XiWD8ubQCFFVEZVLSI6a+L+Xm9wZrXD6WsfYSkADAom41aykzeVV9Na4R60mieCg3EtrgIgIAR5A/2+jjUKTYvMG3t9411yzITXOQUwaKISVjcO8obhmgwtLPuFl5TuPbfhMgAwQNq0dmR45mdIyEmiZx6Y9oN9mpcUDYACmDe1r+BQ4mFM6pNq1Aadk46PCjYAEADPjET978NiTYyPNhu/ws3dvu239MI/K3KZ6y9GH4hzu+TZpKW88UkaEulCiASd1Nl3K2zW6jICTSObA4MCpAqUUERqUYtx905335RBqt877FX/EUJmETsugJsrw9YqsmrGHC1BE2GggO83DPWE5Nug29LZUvwQgmZmARCAL3JehBpAULFGWEY3MMkVav8AYPjtMMdaQfAAAAAASUVORK5CYII=\"/></td>\n",
       "      <td>brain_tumor positif</td>\n",
       "    </tr>\n",
       "    <tr>\n",
       "      <th>73</th>\n",
       "      <td>/kaggle/input/brain-tumor-detection/yes/y1063.jpg</td>\n",
       "      <td><img src=\"data:image/png;base64,iVBORw0KGgoAAAANSUhEUgAAABwAAAAcCAAAAABXZoBIAAACtUlEQVR4nFWSS0hUYRTHz/nunXtn7sydl85kTI4vZkZiCCKdiFLUkkIsWkhEUSvXPVaVIK6siBatlMBlURAUGBhIRYGKGUg+a5JM0sGuzvM6rzv38bUYLfrtzuH/P2fzA9iDBUCB+zsiAhAsA5xGkfJFdcwNgIgIgEjKOQI3RKSWi0M3nydDhsW3twUAtG7bHvRdONaMoWWxA+vzIxSBlk8j1/r+0I+Qf7o5w0cmDRpx3Z7pSuz+pdAX30z6XRXzSQsnfPXqmdVMiUMAAhBU7rxeApdqjOspVs8ZJpP7zIDtJQeACF7JH0mZzS5Js8rWQtGGJlqKdg5zKhDEURJmRIaOz5vXPv722BDtKaMu3RWnQADbr+YTHIn/CjlcC3N5jza67iQsqxxESqDnQEahKXMjJtXkcCXEfOecvFtI40Y/i8xKQ2+MMAybEtKx2CmDr92CPGWyptkFN4t1Dg14bTlYaTh9KiInF4XFcDHrziJLNNhZhik5zCg6XzIX2GxO+VI7hvXRghOIpaSLO00WC2cWwZw1AWcYjd42TWzBKZ4U3h19ayMouTRS/QQF2cOK0rZZ3hghb4qE7+vkPLm2ZJJuPx0oyHoqIRscter02iBL1LmGEi+MOkxb4uFllI/favLpBT4/+4ihCrJQalZE/ntjdl9lTAqsyjUNqYxsH78Sn04R1AKX0wH7EdHrnMZPP+2BE9UvLG43LH1IIyJA2tHqyFr3r2ciE8FVw5bpeNid32QWyyZUEI9BmITJtnC/WLKxvYt3pamhb0gIIgButPtLSo26pnhPv2JoVaBflFpXaLlp+KIzHkbOCYlJKay2xVrstC5Ky7YCMsF752l3OnbSXjWx9fn62WfI7smLhDDotfaol9TBx1QnXQhIEEnZXgCkAKwBfBGQUvjP+n/Q3SQCAEX4A7Z+IKwK1rzbAAAAAElFTkSuQmCC\"/></td>\n",
       "      <td>brain_tumor positif</td>\n",
       "    </tr>\n",
       "    <tr>\n",
       "      <th>74</th>\n",
       "      <td>/kaggle/input/brain-tumor-detection/yes/y1064.jpg</td>\n",
       "      <td><img src=\"data:image/png;base64,iVBORw0KGgoAAAANSUhEUgAAABwAAAAcCAAAAABXZoBIAAACbElEQVR4nHWSTUhUYRiFn/ebe8f5aX6cqWtakaZZWaQRof2QFBhtzAorwbVQIRWSBG1aJATtWhQFLVoEtWxhBEJBhGUURD8YSTWaqDkzgjqOMzp37tdiNGzR2b2cwznv4pEtSQcAQdyTwaKcJwsaACeKxZIqVAPQ01e8CSnEI1iACJ6W7JAP5cajv5g+EwEiWIiI7KIU2o7XXqO5dS+0K0Mgogp7LW0pdSLIzifNw/b6YOtDpREwALS2H99+G/PKuL3RzJr1TzGyAhiF9ev5F5m634OHyr/ObnDXqIiZ01qhACnR5THbnEtWJ5pqRuKziYbJlFfjaAWaaL7ScdYp8+g7b+Op0IHpD+f1HIgpVgKt2kfLfN6KzSPhxaqO+ZO5hBy6kkLCCuD6o/DPstFYbWeH0W37b/lDU+f0Ui1br0Z1bOBZ+d2q+8/HVw9dnFmImDOgTAWM3WvNd71qSWQDBx5823RwXhshLS4cUUDqbO/N3kvpTGBrowQC292LrqRnyiegADzdtXWj/cmfu4P79gf9HnmjUqvTWuUUGlXa6fE40wHX4Kev4YX5aSq/H8VZeojhl+09qcPfdZ4LA0NExdVmbVOAWHEREbsZb2bPrGOaw3ZkcuL95RuiWSNWHEEbdlNDzK0+L1b7nPyY2Z8WUCEFuKRIv8gnM85w+uNE2efxqLdxPZBHrDgoVz5dssMd8qeb+uZCv+7UG7aAKyhWHBBxODI3xLHktJ35IBoBdIEhhNN0rCrCEGvt+I+AX2SZoQJqRWdOdKnXMOOLIAX8/pqIYFQWuyp8y9ZKczmxQhEjt/LU/yQxwvxPEv0D3I3g7c8PrCkAAAAASUVORK5CYII=\"/></td>\n",
       "      <td>brain_tumor positif</td>\n",
       "    </tr>\n",
       "    <tr>\n",
       "      <th>75</th>\n",
       "      <td>/kaggle/input/brain-tumor-detection/yes/y1065.jpg</td>\n",
       "      <td><img src=\"data:image/png;base64,iVBORw0KGgoAAAANSUhEUgAAABwAAAAcCAAAAABXZoBIAAACUklEQVR4nH2SS2gTURSGz507M8k8Mkka02kisRG1Ko0IulALghWqgmC7KIKlYutjZRHciuBOcOmmrtz4XJTGTUVFsNhiW1LdKLErwTaUJnWamDgzmecdF5PEbOy/OvDx/5d7zo8Q/F90c6DGmRdVFJDHgitPAQR14D3EkO/0XhbuDGkFNaPkDTt7yfINPvRm+8+aFgbhwLNDx5bmFyaftMXODMplThEdXUjryx7f907NtpzD06kwZ2v7+hZKEoAbcpTbV00AoAAAum51BenyGef7KIs0FtfKyyOXm05Eejr5Qm+ie537yCNMOb+JfHGc+M4Hg2Fmk6ntmBnAXSxdIXQ0ujZ2uhGbfhsX2OrxlZ43KxNIdQwamfyFIz6kFl1Tk9LPI6FcdJrJF1gTC1gaBgAKMPm1X4mZXCL/6u7hHwv4KIYaxWUZAKDBDWyt9xDRiKvyDYJd1xIJQikj58eaTCetlEVb62AZykjoDnYrf4o/G2/2Au/GqiDoFcti0zJSRfxt9b4PiTFcC5pMHYUwFrwSsUEV1q6hxm6/5MNaCtX4HLaBYayQA58jq9D45/W9LOcaoaBpRbs5KlLXVeXgRPMqVyAZMSmyyWcA797QgTbC8nnUcHojFYFwOJnRq8SRXIxniw5qnWzydYn1DIkQx2M7KqIizhGvBRlbkkNuvF7eY9J8kYudS/f/a4L9+GG5KAeCJZEntvY1YWfbOwQfhqqx5NbovM19CpxMTunQpAghhG4yJyIdSXgkpYU51BS0pnuLU/zOXaeWMGrTNo2ntmHwFwJi5kGvQopyAAAAAElFTkSuQmCC\"/></td>\n",
       "      <td>brain_tumor positif</td>\n",
       "    </tr>\n",
       "    <tr>\n",
       "      <th>76</th>\n",
       "      <td>/kaggle/input/brain-tumor-detection/yes/y1066.jpg</td>\n",
       "      <td><img src=\"data:image/png;base64,iVBORw0KGgoAAAANSUhEUgAAABwAAAAcCAAAAABXZoBIAAAC/0lEQVR4nAXBPWwbVRwA8Pf+787PPvt8ts93dmzXkMR2EidNgALtUBaWjhUgdWgWhKjKx4DExgZiYGJCKgsjYkJCRQIkKAIFAUaEygUauwn5dGLXHznb5/icd3d+j98PZx2EERc45AOTJ7KEOSEME+FB0IKmO+XUt1dari10w1BNkwde6DkjwfpRACyYc4E6Vw0atejAG+USjxuJi5KHEcdEFlR246cvFxqLgW0vhiavf3Zn6YQpjn6OJQWZ3L2mDpK72VbJqWcgVc//7O6C7IcxkgEn1mvZXmqMTcvTztvKsiU9dROZ4zCg0CtPrjPtWAzIyal8LfcoVLyzz/ffSRGKMZYvVz6aHCn3ayvj2Ap/lK+6OeQtGGzY/hGEVrvX69id4HM4s0oY7ypqsrD40PHLdwmgl3p39327qQDpV+1SrrAA46NfzhbdHRkAtRf5rO879oMBjANNz7TU7oEIffXH6ds+oN+9/ja6vHGv8eeL9LCjfR9ggyTxenPL5xjwxbV8eP69oEBl/xN+qRDtFmZcBRJzbCgkKfXFa9fzBPHpl0hc+mbOKc3WjIY5P2gLDN7BaK3oU1Ej+qvSvDwmrt+x7MPKD1HdlfBmaWcQRmiZNC1aVcXopGnySCwO01IAcPws9nHd59bhVuL26SiT7gvXLpbSav/foMSdpzeqv13JVluS/x8du4rotsxcg84svWtImG8mrteHDwNa2wxYySdY8r7uVJ4VVlgngIjIf2qcRXRb7ug0NBx2DG/Y+2dvYgwABMa71sbqAtWD4Dv5qJJp7BeXzBZ+s8yAyO7UriizLN1JWvT4qL/TK89FnNJbkToBzqivld/fVv2ViCayelqbccV58eqtfAgB4Clxjp/fzOBnwri4tYX0iRPV4p+jI4FgyqmnsL+Wd77egxhfXfsgPbPAL3z49wHnGANRmdlSWWr0eO2Nwk+h7369URnH2vEh5YBRVEwBCyECSaU7kjWJdda/bYeJy6mC41RgkBmdAJ2IoC+BGxoRJDAH0f4fyxN1wAre2swAAAAASUVORK5CYII=\"/></td>\n",
       "      <td>brain_tumor positif</td>\n",
       "    </tr>\n",
       "    <tr>\n",
       "      <th>77</th>\n",
       "      <td>/kaggle/input/brain-tumor-detection/yes/y1067.jpg</td>\n",
       "      <td><img src=\"data:image/png;base64,iVBORw0KGgoAAAANSUhEUgAAABwAAAAcCAAAAABXZoBIAAACm0lEQVR4nHWTX0hTcRTHz+93t7v/293m5u7dZqaJ6NxSkhGshxARehCEJHroKSwCX+qhoreCoodAQehNougPFKRPUlBCIVpm5JyGpjb3Rzfn1P3f7vTu/npwOXvovJzzPV84D+d8DrJ+JvCfoIBDh4LGVmSUVDRIDqtZ71SkuX1L+nPImCgPw+XUeHH6xpo7FNG9fqkfGaEPuoiLEqBVD0bpXy2ZvKd3uJis27BsvxVI2aRuCY9MHlOQYpcsOXe1L5KY/G6xlU3nG2fbmTXaMQYu+bo2QcnF8A/+5mAJMAC6+6xGnbeogy3mnbnMilQsIMkVXU8JAAMQx1x1U2ZBnopsxSZSLFXbulCz1DB6DgADuXf5nXZ/tj6NFZbiQIPMWfzKBDTKgX4MEkCr1pOu6IVd8lx/gk1phwVdZ5YhrCuEAAPp9tclwzML8b7Jb/YY29d/Hquy6sA6VQLEJcY6eok5m2ZE/eanJkbIiYG6KoHknI/3MBR2hxdxehNKfDLxpEBRCvtxhCRig1EADJR7UQjx3uCyf9s2zxmw7cO+LrChWzKLgLjow+0ZOpdgVMQwn8f2oAmSUsaOml/4RcRFNLe9jQvm30ijTPMZMZ4lSlbLzzsm6X3ERYHr9KkLZpVEPcGk81Rez6Om2tV4yQsYANZ9HTITChRfubRJDa4KW93Zj11K78H6KDfBfKGd6Yrd71YLcXt6o7Qcufr3ntJr08q8USGLx2ictPHRU9LVGc8XckBCaQj5XZRMtaM1gsNg9hgnruMpUsZEZHraomuxDKKlFFXkd56yl0iFodSd8ag+X2zNvDeshOoje3v/0ldkkSJ8bBdNC8pxm8pX7h5yqyNw+uwgANFUwLUdQZzB8oogABioik6K/NFngD+VuRqYLeSy9wAAAABJRU5ErkJggg==\"/></td>\n",
       "      <td>brain_tumor positif</td>\n",
       "    </tr>\n",
       "    <tr>\n",
       "      <th>78</th>\n",
       "      <td>/kaggle/input/brain-tumor-detection/yes/y1068.jpg</td>\n",
       "      <td><img src=\"data:image/png;base64,iVBORw0KGgoAAAANSUhEUgAAABwAAAAcCAAAAABXZoBIAAADCklEQVR4nAXBX0xbVRwH8O/5ndPe3ktp6UpbOmBN5v4UmcqwZKBmLgsaTczEqYvGDRcT4zaMr5q4LDOZCYkafZgPS4wRffBhidGgxhcGm9kWx5aJsEBYOxUK1EIplPbetveee/x8WNxxOFMu9JrPqUpdSc3kBKbg+OrMJTCA60P5YqgQ2tofRzBzKWszBWGT4kxpiVuVL4qmtpouZMev5c4m73W4Ag4RucCxwie9F3fG3z6f/BOHbg+drZ+vnbYVAEXeCXxET/TuO1i/vB1dp4+bzz9+7gg/CUZMNZitybE3tlbpn4HR/vje8cXfUp129wfoH1MC5uzr8sw9k1PT1T3/ft95QPMoU+OSZvY7TL34c7RPIhuuFAwfU8El4YTjK5X+yXHFCe/99AJ4aaHubwxI1Xapd1tgwzowmqVOyyZMTkw+F0mMTHQvW8WkNiiCnnjDnYH6km7ESeZjPbOg2RXW64myMuZzDdmF3ObkD6koiB+/HzblKydjmWo5Oi68PqvQGgu0+8/s/s8kebm1HK1ceX9tm11+6PCq74TkhbwmDj74kLnEd6RvWJFjmVMP7iYHb4juoyHDZp7yRRp06kLtVvrU/b9sxR7xx1KLDx8ptkRLmrPH2IBL7rNDYTPFS9w2xLtL2toOfyGjConMwvIzkviuo8On5i1f3pyzZ7LrX6ZXTE1rm/50ve8KI1W/qV1oDmjlgFlrJLORG2ve0r7ayOfDBojVRtyuXCzo3Ujl1kv2zkJzU5O8Gr/77a8Vl7lcUbAjH6FarWU5eq2nyvxbgfKdpk2vKwWDXu6L0N/V5rD+1Ds/lmbmxdOV9PU/XppTJKSy9PZb189ZMIuJE/7S9o56ZTWcPawDijhBpr96cjkUbGuZmtn7aM0yqo+NvtazBVIEF5JdwDexRWNNuJu3241XPxt+GTcVU4BknBj8u6DsNwdoLiQTH39ndGkAAAHFXFAl4vtl7NBbolPjrZVpc0oJ1wUgATAGdOsdXzMgNv07BCAYALB2yeBAuRopj2KAsgAwJQDJ/wejKmLtYSZ0YQAAAABJRU5ErkJggg==\"/></td>\n",
       "      <td>brain_tumor positif</td>\n",
       "    </tr>\n",
       "    <tr>\n",
       "      <th>79</th>\n",
       "      <td>/kaggle/input/brain-tumor-detection/yes/y1069.jpg</td>\n",
       "      <td><img src=\"data:image/png;base64,iVBORw0KGgoAAAANSUhEUgAAABwAAAAcCAAAAABXZoBIAAAC8UlEQVR4nAXBXWxTZRgH8P/zvO/bc/o9uq37aOkcihpXRCZDndNwBboYo6Ih6aJGrogmmnhnopkfN5oQvNLsQghXXgxnopgIJDqyZYAbOiYukZER0jhGDuvanXZbT3vO+/r7EQMAGUCzMcyB8CE0wQBEJDggiIYI7ANW2R08A6TWQUzhLasOKaOpTgh8arDf/PQ18N1bQDYhhIBCzE6oFEZeWwMAspkB3GgJi3BXS4QYmqNVtHQV1hXGDy3mLw6Mm9yKjjeDgA0lOqNAxd1/5aDtdOaGRnvchKsR9pOaGZtrzjC+HPk9M/nH2dk+ObU18UMHXnGilZgkITcxM7DIXW+PT7mF29pN3jyXXaqGg6DBZMvsS96R9PJwcfCzzHJ2T39b0x4w9e2aCFjX/G9+6f4n9t714OLS908GdyzOngzTzHTINxSSkYdnfr6UV0s9K+WVN2afft3M7YkU7l3+5CuPLO/VqfMf96/3CT+14B7IRM3QVT++lwlIsSc2SmeGK31wVv86UnsgN1u/EQvtu1DEKVQ51P4buhq54nYm/1x9Ybc6av9tIncHJtWx44bJeVHFnZWMMvWtsXfndi+3FRr+tXL82EScOei41fwvkV40rrvV+ublUr407+x6qPjC2ELYsClNK6eymfO1WX/icOSLSXv+Mbcea6T9zzWb5o92efOZ6B13h/DyD2Yn9h7qPXW6ePr+GkDE2rwvnZ5u3dioCJJZo6qJ7StncWLUI6Hj7q7cxrPtTj640LvcOBzx/tx3LZT49RYxA1Vka/MZr+1e6XlrcCiyejtdejz07VMUNyQAHfKE9SFdbe9ou+scLM9Gu88t7aj1z4E1MzesYGdpem1R3h979PzN1p53COXmdWJIYssC/wtbnfigw6weHTmetE+i1ZZCQEkW0mp9GTAFJCBtdH8EE7GZlIRQQgipkuFeGCAympaP5Id2KqUUCWIAMKwFwRJeHRDJGvkGADMxANUElB8QSV/6BM1kNAzjf8xzOYBPfPXcAAAAAElFTkSuQmCC\"/></td>\n",
       "      <td>brain_tumor positif</td>\n",
       "    </tr>\n",
       "    <tr>\n",
       "      <th>80</th>\n",
       "      <td>/kaggle/input/brain-tumor-detection/yes/y107.jpg</td>\n",
       "      <td><img src=\"data:image/png;base64,iVBORw0KGgoAAAANSUhEUgAAABwAAAAcCAAAAABXZoBIAAACc0lEQVR4nE3TzU8TQRgG8Gem0+5uP3ZLpR+0UAoFW5FEkChnTYweJPGMXiREE/WgJxIvJBy8GQ9iNCbGm+E/EL0a4kcMxqABQkKpAWpLaWHbbnft7o6HfujcZn6ZN3nnfYYsvkZ7EcK5TShvbe1pzLdFxI3yAS/ek0FaRwuYB0AAOB54CTt5eQzsVgcpAMLBSPRJdTaYXovfTnyNxJ1NZQA4YAaT6SE+8+yqyS84t79wwgGAAgAU+VTPgA+FO15RlHnsOMBJB4XFsUnFOqCH+X2ezZXNaX73303jZkoVTa5GHPGS4qoExf43zjY6XsRPCEbFrLHcTsjgfw5956eG20jnZjdyRQVk43SPS+PB+o5e2Jaa6Hx4rjTg5Md6bPz7rj8mE00/TLkTBGAAfSSNMl1M2LnaoK1aNLppCqokN/s0vGIxMDDiW2JS1X9c0UI85LJLlDVAAXgLlF5K9c8QTT8qU1b0KI4qehsABajo67Okmk9OO4NJuDyDXb9LTs8EAyhgR/Ejto8M8/vhVvyCUJHdO+ST1WylHH8XQpk3xpNBHnEzVWyEfpJV3sRNTzi/F2gYYqqi2zLtzQyXhVG79QjCSOPpr8cBo7SXfb+14q+fXd/UCo4W1pfqtuZdDctv05Neqbi7G/l4Zc9qzRP60KGkbR3k6y4E817/Wj5SUztTIdlrOlEzRe8RN2t6Jp69vmx1kFfWl5N9BjMslgtI4c9dL2knJgA+LN6fCilVpRDvzq2s9mh287gZTSLMdT0fmQhAIKCv2P/RBEAwfqbb5XJQGk60Q77AWgU4vsGtiGpU27c6X4BdbNUABxzEJKB220b/At4O8d1is7s7AAAAAElFTkSuQmCC\"/></td>\n",
       "      <td>brain_tumor positif</td>\n",
       "    </tr>\n",
       "    <tr>\n",
       "      <th>81</th>\n",
       "      <td>/kaggle/input/brain-tumor-detection/yes/y1070.jpg</td>\n",
       "      <td><img src=\"data:image/png;base64,iVBORw0KGgoAAAANSUhEUgAAABwAAAAcCAAAAABXZoBIAAAC3klEQVR4nC2TX2hTZxiHf+/7nZOTY/NnydpaG406ram0Wq1UDVLEoZujIog3g01UZKsgjLILNzbBi9kLB4OB4BhjKAqjN/NCvVg3ZNMJG3NWqRbXrjqbmtZ0qSdNapLmnPO9u+ieq+fquXsIRAAIAEgIsqgCwAdDgYig/TqD/OCHvo4rywMxA2DSBICUKp49pco3QamTC5YyRBggKIAAOnU6ciK37GbL/FB0aOBdEkBrIgZBpG1kZ0lFN2S9YuLpyQOfnlbQ8FnAEHQ/SkfDWHM735yftAf2/PAVwLyYxdvmTHE6rlH/7bEy5+dXh66bANUYIMLVx+78ck/7pTNu2WjeUQzYGRcCJsD7vi1Yaux0ovbdr3NeNZ+vZiqd9RAQDHjBB31TCZUrzrbP1Ia7kvkNu37+RixaYECf9fdOr3lmm+F0wy842BxKTF0LdLwDTWyAPxpcbo1MFhCYGIuPyngm6URG9bgGWJMfp4Ldul9ros0X787GQrlGv657yoMwo+fFWEvKvtBqLkWh8Ka7/s/hLRXr8bNdIDJk/LW0jicyPBusLVl5P1yN5ZJebf6zzUt9Rt1xQ+rWjT73UvmSOphuIKdp4rYd6zlPIOWrLmOlnts4vaJ9RZ/1Y+6wyeS3zFV+LWiG6Udid/7tjqWTU/1RZ/eqn8Kl2XBfOeMpIcW9M7/tCySs5D+uO/D58aZXFsza6yO1q4Zohrx3uenVtuEP7o0Z2Y5PbDZULHSj/MYRX4gU6o/mSqv2fLwpVZlwXkrVrC5zZ5y/TQ0wkO8dCcUutfRM/O5Mcle4ZBXdWPtTVwAWwda/nKx1ZnRH41yg+OSFXf/HwtrtKSbAAKRyY9uXQ+ezeNj2AI84shWb1vbWWEgYQHlb/5WIE780nVUN4Uj0ya1y/0sSEhADAO0e7Iyvu9c6uDHy1vveoe80FiFmZg7GO76AAieT5wBehPj/GYQAvaSifGGQJghBgP8A+pM2My8OwgAAAAAASUVORK5CYII=\"/></td>\n",
       "      <td>brain_tumor positif</td>\n",
       "    </tr>\n",
       "    <tr>\n",
       "      <th>82</th>\n",
       "      <td>/kaggle/input/brain-tumor-detection/yes/y1071.jpg</td>\n",
       "      <td><img src=\"data:image/png;base64,iVBORw0KGgoAAAANSUhEUgAAABwAAAAcCAAAAABXZoBIAAACc0lEQVR4nE2SS09TYRCG35nvtD29UUrRQmoKGm4uNIZ4gYRIApqoC2N0obJg7SXuTIzxstREN8YY4y9Qd8aFEHVhRBDBBRJZoGgKEgNCS1t6aMs55zufi1Oqs5xnMpnJ+5CCW4pQLUWKoAiaI8DVJqv/JpTFAAHEDGfnetnMFr95HALAIAASGjMzQ2F7GB7gNrkNhkVSCAWQJxiJNjkL/eOJ8o/UzVuAgrIYUAB0tksxrwqP6cjpRyYeAswAScGAE/N3rsZFZs+c0rV8ZlaaDDiVg5A+laqzQm3FOZGVraHkZV8NADCg0HZDf1RPjjH7rmt3+HzeDk4N5ioQ3v13DvdFC54yBSIrDV+HQyEaObcFtcDe3+9FYCOmtTyPrz9ZsTVrOUgVaMjpZGcBwlhMx17EL5yupdV8Slbgmd4OLerXNDvQ3N/4/UGhxPFB0a/cVyQdNaLMZngy8vPepbO2wZJyYz7HYgB/jtcWeJuHzSvtvg8Da3mPo8QXs7I2MDkdaMwU9Pm7ommsYAVKFF41JxwXBrMnE1lRH8521yUHtLqiZ9Gc0drJhehdMmaVLB30R2ILn3hTtOb77H0V+PjjISz5JDega2mzZyNeayWskSIAkoJUqbuF/GYpmJMru1SgbMTyQ0bINQEdnJp/6bPT0Zq3B/y/LENYo94RRZXInFzzMXuj8VmPTFhqLcqFzwuxshsZFEXSMzu03IlQIe2ozDheLftLW5EpiOLU8NAERu/LkpG8+Ma8SlAKgAQTESHpAAkd7VFvMQFBTAwLEkREzMDr68qx1LXgUxARkWufazIpAH6pr/+z2tKKShEAp6p9lYH+AhimEpc5AgIxAAAAAElFTkSuQmCC\"/></td>\n",
       "      <td>brain_tumor positif</td>\n",
       "    </tr>\n",
       "    <tr>\n",
       "      <th>83</th>\n",
       "      <td>/kaggle/input/brain-tumor-detection/yes/y1072.jpg</td>\n",
       "      <td><img src=\"data:image/png;base64,iVBORw0KGgoAAAANSUhEUgAAABwAAAAcCAAAAABXZoBIAAAC/0lEQVR4nAXBTYgbVRwA8Pd/781XJpNMZjfJ7qbZtXW72V0/sFu1RT1YelBoEREEe/CgxYuooCJSvXkSeyqCIlREEEQrHhSsIC0ibv1qpXTNfsi2NNuuzWaSbJKZZGbevA9/P5iUEiGpREZJwFIYCSBIFCFrjg4YdMVxzs42X9xq/rd59KnGKdo2SIxqVTxBmUlA1578aGrypb38FqxcYMPt440CDGEihRmf5NjNpVM/QaEFJaLMy/zwOdyxAmUynCCN1F+9/kulZpSzzDD86sHBvV+7SNeoDhXmXnvb3Cnt1tjGDB/tkd0o4oPP5/Q4RRhU9FY9wmoB0bth3FHIMMt7s+/WpeUCJhlr55Cx6FEYljPYXHWcqbjpzqePsxhhgv5d+EZrDFej8cBu9eOEt6I/1s9dPE0VwUj/oLG4EvaKaWIpL3pIZWTOnS2dp2ucYpLtmm+iWXHTc5KkXxtXUNa8anLn9Y9dhdNuWJg68857D4cd26lelrQw4jdSY/76G2MYK0OseEVOnnHLOAbRpl3LWUR3wczJSwgr7NtER573rI4l3ydyPTO+h2rg/v4Zw8rqZ4mGlOmisDjK6M38zpijotSfuKqomx87kmgowTrkthoLnX8Sj+wZCWuSbGlYdsLZoUCCIyesFMN24bH70MXedMx9j+B4hMAO4lidHhjteDkrmYyWCmSM2p8yPEDfvs+tjP2V2EQqmwvnDY2qXn13sPYX0Iz1ctf78I424RCVsrkm2CwzEvn0x+deUFRsso3XEM0NklKAK0Fn/4AQd/kGsv/kCKZT95H0QBLlNBFEztDo5amQvHtp3PlNQKUU0itL0wdDceh2X6Pt/SoItO73x06eCDBMpxZPtp/feTDM66mQebslY/LFA99VOZFQaZU1Izl/5u/RUTYf/VBsPxr5g/V6bYT0GKM55qfJExs/H1g7e3v7yO79F7Z/zX65b8j0PoPlw+VUJ5Ljpz95ZXUdzAX7bK7mcwISFaCAACFQRGGpQaIsHEulsEAgkf8/6ABynOA0yeAAAAAASUVORK5CYII=\"/></td>\n",
       "      <td>brain_tumor positif</td>\n",
       "    </tr>\n",
       "    <tr>\n",
       "      <th>84</th>\n",
       "      <td>/kaggle/input/brain-tumor-detection/yes/y1073.jpg</td>\n",
       "      <td><img src=\"data:image/png;base64,iVBORw0KGgoAAAANSUhEUgAAABwAAAAcCAAAAABXZoBIAAACY0lEQVR4nHWSXUiTcRTGn/fdu+/vmMUUzY2lSyWVdFRiVjdFLQgLAjHBYvRBGSX0IXVRJAh604V31QJLJIWSCBLpwjCx2YJWSomJNnNTm5nTbbntPV28bzTUnpv/xY9z/uc85wFSxBml+I8U9DlJ0J9cSyTSQLMrwhNAZF0N9YDhGT9DueBBSp34jfBsnsRVe14Ly0y1sbcQjeaM/qvTqBNXYl+H3lGDpKfd3cnYUyrZsK7n5qhJK5u1J31js+qOlKFYdII+Pg7Pzv8iHHZtYK83QgkADACJVuaeLJb9MGg2ye6mt1OCc16mLD/AAkgu6N9LbBp1fCEkbTAvz+3e1U/7/BCgRDs9UxleWbRwHJdIpKteslLfeJQRIGWbtvuWZLag8tuEtLeMb+o95Z0OkwA/jD+cXmK4uC4Usg3UdO2tdx6qiG8U2+YWdXmOevXGB90K16XnUyqLoRAolQt7St/0D3Bb5e7Xg96q+VD9z6DDdaQ1OCSa8PaFl/OPLBeWa88EuvcMVhcdOHbxrNiWdwRP5AT6lGaH35VljrO27kZLws0KJpBv/FGaPX7hyavB41BMqDT5mWVckksAACKq+r6eGxJNgOoUbcU4N3b/kwe0X/CWQeRebSvdaWowVt8mfU0LnsYyF8SrqMMosHg68ovTrMlhpgDBazFuIk0caEnu22H1hxl/XUbM+aWKyy4p50yRv/dc2UnM77mBoLHUoD5fUeKAmRiIlUCEIWQUzjS3qvi875VlJR4+NUPQLVoPRhXD9MpympQj2yKr8ldLhE4iJ4jy10YXii1I0rzctA5aR38AsyjuF8yV7jgAAAAASUVORK5CYII=\"/></td>\n",
       "      <td>brain_tumor positif</td>\n",
       "    </tr>\n",
       "    <tr>\n",
       "      <th>85</th>\n",
       "      <td>/kaggle/input/brain-tumor-detection/yes/y1074.jpg</td>\n",
       "      <td><img src=\"data:image/png;base64,iVBORw0KGgoAAAANSUhEUgAAABwAAAAcCAAAAABXZoBIAAADK0lEQVR4nAXBa2xTZRgA4Pf9vu/c2p2NtukY69rNrZvSrWFkBMhMNkBQEnGdQUJAHBLjhR9LxBh1xEti4IeRGKMxEhV1hAkIC8YoivqHqnXq0G2VAGMtlmyT3ui2bqc9O5fP58ElGdHmBNBEyg3RJiYD4GgjBwJckECorayWu8d4lE+XCpxTQIqUKpwA6BXkDpR+CaV+74IPgy44/u3Yz0wEWgYCRJVEX8upjvKnh49iNNgj34rE+VVwKAjI3WWj8XDuxeA2VJtHpAZT/Mt3qGYqRNEuI5dtlqiseUaXiq1/X9oemqSV2o0fd74bUI0lArpxZlVycdaxFpOJvSmp1ZPVe/a0+6dNgSAXuPnGtMXDVbpy5/qGlbm811S+P7f5/cG3TbTJldEVu+v752dd92iSPFdfmomFG36NXDnkLxNcV5fZ0//CrajY3C+1xG5o2WR5cXhqaKR3lJPlUXds93Iu696Sjgxo5ur06mhL5s38GvmAF4hwYa/P/3mulkxqK48e8crk4sH8f7892yQxLxCrKnyavRS0d9DOk71sribdvuwNXNW+/mrxAhA7Meya9GihpGto+NyTC1OBCQg03dex9drsfmSs5aEJdUY9EbIq2t9aszXqztxcNeL/wf1J3xIgHyg64k9dE8x/Ng1tCY3qm2qa+yrSnZLjlTO70Lj858fbGm3bM/8yfKDfjI75I/6e12bmuwdLlHB1AH11cUiA+qByduN25imefjzQmG57zOCEmIWEGAsJHs/g/Ynm4/+Oz4m1vufnDt7eJQPhvRrL5FOaa3rKmWZ4/lj3rNYad5zY8GgBkKtftD/8gG8m68mqRjL1+nPhQlAXqp0nF0yFAZ2/FPflRKYmm2QteaBvqOriMRU7U6QtyQCf4PuEdfVrJ257Hbiz3DbY8c74T9y6KwIgJ44jkXpa1y1kzdIKD258On33j/3w2XvjnKNFK7zGR+7NGnQ1nA0/wqqj+UTjN98NXK8q6sBRoQy+HONQia/uM8rWejS0jCAqFDlaToMj586Is8sRWZbh8vqY/17knoKoW1hkzAJiC6a4IIpkSSEGNRmnhiVQ63/KZ2ZpBi+HdAAAAABJRU5ErkJggg==\"/></td>\n",
       "      <td>brain_tumor positif</td>\n",
       "    </tr>\n",
       "    <tr>\n",
       "      <th>86</th>\n",
       "      <td>/kaggle/input/brain-tumor-detection/yes/y1075.jpg</td>\n",
       "      <td><img src=\"data:image/png;base64,iVBORw0KGgoAAAANSUhEUgAAABwAAAAcCAAAAABXZoBIAAACyElEQVR4nFWSS0gUcRzHf///zjg7+3BfuC/TWXd9JhZa5KaIVCASERWYJGEHD0IHI5AwKCg6dukghHWIDpFJt06FJmr4SFLbMld3fayvXV1d9z07s7MzHXyU39Pv9/3A9/RBCA4jASAJiMxRAfjwMItiGprNHWlRrDsOZZUhx/nxF3d7O0oJ9TU6XfIfVMdBxymefvO2fhpyNgye0xX+pAAAEAKA3gcmpSScIGbOklHaS8nC7qjfCgAEADQ244bZAjnHaR3RiKxwnrHlNOVLaH+2tb9p1MgqTEmreczFqStxLD1c792fLbP21wk0Y99O6sNxFKOLVtIq8UORCwEGmA7WVliq8QrHbt3W5rj5hNYbQ5UuCQAD3DeezOjWUibtF99XT7/WsSNr9AjOZAsABqNtYElIJLldObM85pEurAXco6eDu4rCLsDwzu8E1pKrTy4b+G0xHtRQDJvIlV+BLsDSpXlrsTGY8OVoeDG16dxEz161v9Gp6gbVBCZgCZNCmnAIqgobb6nW9NBsCz3pFsYFAcsWYkZd2BQTOH2s4PKtPjlfvEoFa6gCJZawULzR/UOG1NHM4lzEtjZxndiC4dmA7T2ZwTgDcM+YTSn1yqgz1092pmZ6mPUxc1pFZxEIuRvX27fYKiKZyPbtWQrWdawpYhmZdH6MqDCo7NqdgIkM81GIalzbCnFvN2tKcccHNCAkxatqDXOlXlleasRg5CwkojaRXh5/iREGRC2Fg+VsyBAIOYsWDSRgas+eOtWDEGCA57HvpPu3LcHQLM7ig0rv9k3/VJs0vW+CR5X3eGGHz3asOIdmL+6FMraodypsPtDER9uvZnjFxgzzcPWzGKhoaEuE8g80AUb6Uybr7tTWvDUAb1oUPf6GX1k8ACCEEEJQ748P3GCYciCo0eRrOTrIkfAtT/rOTOyUlzwaO6z+QQAA6dgHfwGI4CtZQOMqCAAAAABJRU5ErkJggg==\"/></td>\n",
       "      <td>brain_tumor positif</td>\n",
       "    </tr>\n",
       "    <tr>\n",
       "      <th>87</th>\n",
       "      <td>/kaggle/input/brain-tumor-detection/yes/y1076.jpg</td>\n",
       "      <td><img src=\"data:image/png;base64,iVBORw0KGgoAAAANSUhEUgAAABwAAAAcCAAAAABXZoBIAAADDElEQVR4nD3SW2xTZQAH8P/3feecntNu7Wov2yndxuK6gpXJNBBuIrAZeBgPGgxRE41SHkAfiA+aqAnsRbk8aLgHg8P4sGRZAIdZAhIuOg2sc1MxW+Yo2I2xsXbtutP7uXw+mPD8e/0RnwIAFVupJMBpGYAllQo2GwOggAOAi2tvG6AEoAD6f83VEwAqOIAw1yUjK5dPrWK0xQyMvlu28BS1yo30RfH00T73yZ5rh8FjXOcEUCkAyNJO/9gFNUQWmz1zzutkWhFLmwEQTsAj0YBmZ4I9Pvh+sXFm3uNQIxzMUgkn4D2BP5YRRbQ0L2NGxTe7wMa7QKBSoPrzt+adtkf5ajkyVqVxImbD3u0E/8qgQOJJq+UoNzybPN5bO9eAgpCasCXxV4/JKXw7v3nvn9s0reX3HSl71w1I+ovjB/d0ncwUBMEqrl8xsc+fr1uyT995/dPV7RiyNw1Ix4QMCpQ+Tg71bcqc0xVH4+PQBmYLNurFD3o/umCUbRTV3SfmPB9+/GhzwFxV44rLD3JtnbeCjSklYxGLircnMq4V8lKqKdPhP2tfbMkM0fqqdHtDDQV+6cqF8pOtKSsrXsoq48+dT6w8f+z55LxLEDi+Drwy1kENBrbwUqyislbvoTOHv/2yM+8mJtu2xR2cCi67F4rt/uKJq/scEeLs4cJr+c+qBHrqu2mTJ5pb2ZW++CbnMAnKfW5/KUG7U3UU+4cUZ3/k5XTl8lT7vezyHS3FKwojhbu9i4TmwO/373L3L66N/um5aZMP5Vgbeefv2dpwXRUpS2Tv7htq/U9vLkgz3ocNYt458kKOXz7SRAKEk7lrk5U201dTSTl/a/6xM1XyZCUpKheJStFR+8YGxRzRfk/qUcXxasXnHyVGlKW3ABTXW4pTB2dCJL7k3jgeY87SrIcF1xrsZ0AAJoPD+rCIiBXfmrjq01yZu2fDoyUFwP9vB7nE7v9wdRfPf/L9ngMYNHJrntYkYe2OyeEgjK7Dan7gQfPylYCukuRXgKgDRt02+RlqGEJsxDQAAGzgP0r5S6j6YUzYAAAAAElFTkSuQmCC\"/></td>\n",
       "      <td>brain_tumor positif</td>\n",
       "    </tr>\n",
       "    <tr>\n",
       "      <th>88</th>\n",
       "      <td>/kaggle/input/brain-tumor-detection/yes/y1077.jpg</td>\n",
       "      <td><img src=\"data:image/png;base64,iVBORw0KGgoAAAANSUhEUgAAABwAAAAcCAAAAABXZoBIAAADN0lEQVR4nAEsA9P8Af8D/gAAAAADB/YAW0gU+crCxf8QAvn1AAAO+fgA/wsAAAACHQD2BACI0P+j//D/iMcAEAEuePyf9gD+AAICABsmAEoOJzQAAP8hNA0V/9D/Agc2AAD8AP4IFQA0l8EDTQBsXihVmdWlRwCXAAN+BKYANf8B/wEAA26E/7TYBATQwCoAvYiIVRvyjwr2BAQrzAH/AQD7DP09N4Xa0sv87k6Kpf/dvhTYpX+S8fj/AvwBOAX0H5fYApHFXOyi9sH66Ujxwy4hfudaQvYEAgHIAAUG5DXPPQnt9RbrRCpGcg13uNnphJ8HCgL+/vkAaZPTesn7tkJEitopAOJqMLPtQC35/vj3AgQDbAzlg95SLfVlYhDYbuSxcrvuHCtJ/3okAAkA/eL5bvBYKjqD06+pPQJaAHSM4U29+mzhAJnO/wICHTlXXg5PQQsb4hCHeMQGDxDTS2HSKjhsaSr3Af8C+HSyNUVnADDOJ3cPXvemIfHKQ7hs2rUHvsIA/y0GiHyyARcEAGCDlgAaAAo7uDfET50c6QCF/wD2Mg89vT9TCgjv//bJ06slgP9BGf6P6aVaAFn6BADO/wlKHP72AQo9KgdRNzCl972yaTHXFm32E/0CBzbhfEGF7DDaB8o4D9dOdFuxrc8k60END96U/AT9RC8/5+I2po0AokiqEgGYOgNVoxYQ6bPR5QAMAf+94cRZhBNWBWzYuhWuVSmnNND3BujEX5wUhB4B//EfpLUbjJ0KziTvuyu8GXPN8omYYXDn86/XKQL5Fzg6PMIZ8f25nfsE3jP8rfOgeCR0AKOwAfr9AgcDWR3OQrXk56Q0HivM1kIVE5Is+svam97/NgME+Pxo9VPxpbQ9+PcIugsccAA8TpaHKwQ8MV8M+gD/BQDc9/wsgjemUghBQw3DGxEIXU6DnAC7CAX/AP0aBhWL/wW1IkesemEJedCcU1CdUf8AuJxnAP8A/wkBAgCNdhAA///s5gDmag+NrcwH8vKWJwM29AD/CgAABAwAsKr/5/MDAQEAAEv5ZnMAjgADEAj/Af8CB/gP8QL/BAwAaRkG9BcMvLbgD/P8AAAHAfK/VmZ8JRBTfgAAAABJRU5ErkJggg==\"/></td>\n",
       "      <td>brain_tumor positif</td>\n",
       "    </tr>\n",
       "    <tr>\n",
       "      <th>89</th>\n",
       "      <td>/kaggle/input/brain-tumor-detection/yes/y1078.jpg</td>\n",
       "      <td><img src=\"data:image/png;base64,iVBORw0KGgoAAAANSUhEUgAAABwAAAAcCAAAAABXZoBIAAACSklEQVR4nGNgIBK8e3WPF0WACcbg/s8gxMJ0PZvhx392DG1qbELz/9z/y8D0hcEEJsYIpZvb+gRtThyXLmq8KTiFieU3AwMDAwMLVLKGxYb5g0ZgL7uy0oc+XslX7xFm/tS9/f3Upa+3Hm1hqPPQtl4gzMCDMJb199u7f9n4WT7IZ3+595HXMDDmB9y1tn/2HmZl/PTur/BfYR1uJZUH+378h0lynRA6/01ajPnZGzb+LI4LmmoGl/4zwyT//uZhZH3N8F5Z8utfPsn62/LCagxxAlBJlpCH3w1+/VbgenL3Kt99RrHrZ7PnP30Plfy6puzzxR/fRVgZPhndcT0o+MzOWH4fIzNE8n+C2KuoJ7Jc56+/qL06+bKiyn//p2z+fyFe+c+0/dqriF+XVu0K0rkm91npnZVub953I6hX/n5heHZkH4NZqEiCwW6eswJq8wM0rVihwXeLjd3y6msRWUeRdT/ULd/JPrR5I/L1N1TntI/XjrDF93J+SzzBJrxHYuk5nqhP3xQgIfuX4fqZBRmMs488T2FYzcAw8YTPttVKP0UhOqWaNO7cVFz9/2Lhlagd/3k3XbnGF8zC9hpi58ta5iUWV7lZ+IXOab1jlJb9kvGLcSEjLOB5Pn5RlL7B9P4pBwP/1HDRm05fufLhkf1V6RXjnefXWJzfSz7dzWbOaKD5zRqRwF4z/p9vYPrt+9lHv7il3geI/v56DDl9MX5j/38479jDzWv//Y/5jZH+JP9+Y//59xkrw6//jOhyEPDnvyErdhkMAACR3OjdwIfvVwAAAABJRU5ErkJggg==\"/></td>\n",
       "      <td>brain_tumor positif</td>\n",
       "    </tr>\n",
       "    <tr>\n",
       "      <th>90</th>\n",
       "      <td>/kaggle/input/brain-tumor-detection/yes/y1079.jpg</td>\n",
       "      <td><img src=\"data:image/png;base64,iVBORw0KGgoAAAANSUhEUgAAABwAAAAcCAAAAABXZoBIAAAC5ElEQVR4nG3JW2wUVRzH8d/5nzOz19mdbeu4tNsLt4pbLYQmSAyVxBSxxmCIICGCSWNMJNCEqlFe4MGYmPja+KSoUWui4iVI2ggGEkwTwLQQCWIq1pJepHS6u7O73cv0zDk+6KPfx8+XNQYBUywwpBEQ01xBgQCtFdMW1gBCwGIQfLCuKwqGMIx0BtvWkwMrlFiPsEDUAecGXsGzNZOEEETUQIhU7gopx3T4s7f6Ylub8pGNvpIAgwJL1aVCSNYHlntHty8Gpay4nr+sDQDKJuYrJlfr+0usND3f1o5vFty2d0kCCiAFWO/wAzw/c3GDvu8/n56OTs1+2KMAQABYe2aovCSNmBfLdrztBNUHJtxfAwMAAXjNK0+Kw0/4UXXnPdoUbF7XuHs1LZkGCehjf81je6418fjNHM9sLabs5nE8qJmpCWAs1DxjBrmeDaeyDx355VBUhvODf7TzAAT4xZ/Gh4otK/uu7o49olY7bvezLTKI1QECT8gRtxKvOjfo5YOXRuKFR39rLmXP/s4B1uRGY3sXnCzkvZVMZmm6YLTtulH+2v+7KCzB9pytLC8mLVnw/Lwg3Xlrqnz9jjpe+XwBJG++gHLnzouHumbjT/JeYuSNbBocmL87568yOyjtKm52n/vypdGGJTGX7JqrhBpmC/m9J3mCWBmXrcn2K+lP0idC5aSTSXm3x/GYzSMBSKNmRQbMXC0ePo1wsvZdqTNsboy1mJIgDN7qPj2he6/odRdkd2N/y8T7Ce/nivOGNkCSlnF0xS3e2/aBu3M0d45nF+sHnvF/BJOMIJWHge6xL9xw37fDb3pDc/0HP/V2IEkEAsg592roxR/Mpj+7TosdhWuFrw5PfdSBKMBSHvDwLQzPJC+tuX+qdMZ0dSsbpqog2CzlATBrPJj8OFy0+4ILker3sfR5ELSDFBERgQsLNmyL91iD500QEbrt/yYRXo/rqqxVngptEf8CNbGWPP4/jsg/DIgzTJ5pFNkAAAAASUVORK5CYII=\"/></td>\n",
       "      <td>brain_tumor positif</td>\n",
       "    </tr>\n",
       "    <tr>\n",
       "      <th>91</th>\n",
       "      <td>/kaggle/input/brain-tumor-detection/yes/y108.jpg</td>\n",
       "      <td><img src=\"data:image/png;base64,iVBORw0KGgoAAAANSUhEUgAAABwAAAAcCAAAAABXZoBIAAACzElEQVR4nHXB22scZRgH4N/7ft98O7vJmmz31MQcdj2UWtFUihBavCxCtWgQKlItvSgiYkFBUUSp2F7oVTyAFwqKoOmdWi8ULxRUqGClmNKSuhKr3dpYs9mdzc7OZGa+g3+Bz0NNozlxIMfOCW2ZWTMAECwznPpOO2NJFOa/uH72nbfaXyoBrbNM36BmyghB7L5tvbbzwNJc7P/UWZkiDUvrDEQDxyh88sSVB0+f3tuv2n0n+Pk3JNgxNdNAMo8tvTklInnbh7u5xP3R8OoH96VpjwHBUB+fKOtutXRvvqNtvujRAwtz5DkG4PjX4zWmanfts8quSZHMDPjy2MkRIgac99ueOkil2RjXb0qMsVMF2Vg4L0HNdJCbF6PSy1lZDFf9KUp0LSus+qNLawx4n14W7sV/Fo/cEYfVqp9t89RIVgyXz4IBfnnGmzvcfTV+1MMPF78vb7q11HSwTYGBo+uJSMcbvcXHHu+rxn5V3+Eb63d5AQw8WZD96axzLS6NvfT0BIapKQZOVpIEEmhYyibqPX3kkWdKeblZFHE/bDe4fb9jYDHS/PbDX3+1cWh6k3lL6Mz3whDFGlEztfNDEXkjs232SqL8x2wuMp0O99rHn2XAVkJKEvt7XJab+agwiGNPK6rdcwgM2D1PRW7r39uru4b1fACHcKgvML2+2zGQvvDNNVXZfkNfrInrI2UV3dzVd+Pvnx0x4OV6pyYFOcWlzrS4OlHGIG/t/o8MGLD45c5lr74VltRMcEXG+fxdfgWHVwwkoKU7mMviHazIBrnsz1kMEtva6wgMSEfRc63wL0qz1SyQUrYCvXwuycgyYAn25Jm+XW/bslPjkwGZ6NStPhxTUw8YEP57ZzpuMjUHPldJmrY2yGoKGE46ASTHZi/5veH29+f2/Vgb3xBpBkBCGGHIEt4db/orB8/tfIheMaQVmQx0izP4P/8BxWNM8ub9hTAAAAAASUVORK5CYII=\"/></td>\n",
       "      <td>brain_tumor positif</td>\n",
       "    </tr>\n",
       "    <tr>\n",
       "      <th>92</th>\n",
       "      <td>/kaggle/input/brain-tumor-detection/yes/y1080.jpg</td>\n",
       "      <td><img src=\"data:image/png;base64,iVBORw0KGgoAAAANSUhEUgAAABwAAAAcCAAAAABXZoBIAAAC3klEQVR4nEWTW2gUZxzFz/+bb7+Znb1M3E12TQxNCEaoSCmtpUZqxbvQQkFQBJXWVhBLH2pBKAgiQh9a8Enom9BK0ad6wRvxwbvYQjUUI67GS5NGttlskt2ZnezufDPz74vieTo/OI+/QwpvwkwiEm/4VSUALK2wPyJ+vQQEwCBoJLg1/21x8+5t3W0NE4gIIBNpH2CurFiZPfndb6OH44elUx9FUUgyogQBQFA8cqlJPRP8lu8WBtJn+07HACSBOL9ocZ8ujom4Y6Ituv5qjO/aT4qZSAHGYGv71V6KjSBKugVftHPV9TNHgxgCSHQdPHqWOdnSVrtqWk7Y42UfPv/l3SRIQZfeaW/jtApVpfn26JKm4Wf+zZ1AcVYIChM/vbc9Ei1lsZVxTNdoz5QGWskDOg2y7PEu+kwIqxHnVdQ56WVsj2m6PNJdC0SUeVb9ZtafCtmcDWqP/nwc11Nesvjx0EpfC5ra4N1f0DlQh5FvmO1sXWc9u+5enuy9bkvR2nuqs0ZxUyg3P9nxnyNdsiJrU7ikIxZ84p9R2rdin1Pw5lqGq5Tlmq5nLcpcU5bgjnN75oqPxLE5dhpeb27GXhhnxB/XbmapLdnB6gO68sXzWsoMNj7tyc97hdpALmdUUlrKv8XVVWP9az83TPT83puVOh3NX7+7c/CHLYJU4tCDJ+XhF5er0g/eHx5qIbLrDWe6fDcNUvHs8dUXJ5rajHS4eLrcTyn31vLMnckLnzQEwmP7bzwbDxNznHQCo7sZ1yqr7NLWypBLAuog/7p2VMdZJ677TR1N5+8ovzL2o2GwBMtbI6kPAxvzVtMuPzDWDG/ZuuPGuvuSQQoJ+9Pjncu+vvey2hdkp2TNLsmRx2u0x5CAaJzZeHrTgkGEX+ml31+xnwZEChQaQEIppVTqZ6d6e12uAMnnv+yHUqZSSpF6rXAk+z5I33vSMGQMJoAYZDIAsGAwxQJgAvOrH/wPKCJPwk+q/e0AAAAASUVORK5CYII=\"/></td>\n",
       "      <td>brain_tumor positif</td>\n",
       "    </tr>\n",
       "    <tr>\n",
       "      <th>93</th>\n",
       "      <td>/kaggle/input/brain-tumor-detection/yes/y1081.jpg</td>\n",
       "      <td><img src=\"data:image/png;base64,iVBORw0KGgoAAAANSUhEUgAAABwAAAAcCAAAAABXZoBIAAADFElEQVR4nAXBXWxTVRwA8P/5n3Pu7b23o1+mZbNjrQVZGNkyUaNbCLDNTBguSjCKPmh8ILonNXEx+igagjFEoyRkkQeDokPNwAdmBKdofBkYMgbZHKTJ2q2j67r1a+2999xz/P0IgkQAAAXAlYuSUgFEAQAwh2ge8QggUQRHGwcCgeXc2N9cAhVAJQGC1NWFGJle6E2XEyvJObb886sNarMGQ8qYQIFf/AV6tQuWDt7ZG/c+tsdqMZsR4vPQ1d33xgon7qfC33ZWAvnt66/vp9M9NrjoEkW9k+Pl87XHWO+HtSLZlYaJffVdyhFAkBD+wuWWoXzl/QXqBgvXl3n0kzfx93PHiESlqDi6w+rrj676Cc1PlKN264u+lurbg4IhlbL/rdV3JzNH4qxAFj7YsgEiWansWT1mSvRQPG+G/hj0XQl/F0k744uRzPVa6VFrb4etkJL2GaPdvDJQnHojkugwEvnWQCZ0Tb/9Yw9BZQ59A7zd+1VLcKM5XW2qqFqL1BrbzjxDEZy4rcwbxWyhzG2SXVuzDFYL7ovfVBuS6WIgyp/ETfpyyK1enEqZ3Cf9vrvbXllsRXRdN/LOL0vd7UHHvu/v712Xys9dPnP5kf8IkidmYxcevnWeOO7m7IohfAG0SiW7I1Zplghbww+wLJc+z8vQszrL7a4ox2JtXfXj8x56mUMztoMhccmoz8Lj1rzhk23+f5o3yZ+c4e15st45lQrlv3RzyRs84TSMpZ3qQrhadVETt0a7M4cwOewqPVbSrMVuezS3lYZ3bhDia4y8dNJuCa6XY4a5cjB62sh2KpKbLB+ee0A0ZX36vZkbrt8L++pHzghL0zOv3fGs2ImcZBAoCs+mxaeCPN08+HUplSgd/0FcnG9raEA0x9z8t/WjvBg/qq9cPdc1efimNvHbYnqPblNEbtPhr071zXV5hZ7tT19b/unqZ9Xi6T5T6Qo0TqkGZ5UYSaaaAgcGhnacktndcUvjnAMjQBHhoeemF+6qwr3Vijq7v5UAZZRSAsA8qgCo2OJvEpE6rGUR0CNUSvo/i9ZnYf7A87IAAAAASUVORK5CYII=\"/></td>\n",
       "      <td>brain_tumor positif</td>\n",
       "    </tr>\n",
       "    <tr>\n",
       "      <th>94</th>\n",
       "      <td>/kaggle/input/brain-tumor-detection/yes/y1082.jpg</td>\n",
       "      <td><img src=\"data:image/png;base64,iVBORw0KGgoAAAANSUhEUgAAABwAAAAcCAAAAABXZoBIAAAC9klEQVR4nEXHTWwUVRwA8P//P++92ZlOF1t2A7Td0IWwVCNqAAPoAUqAK9EKSIIhjcXERDyYiFw8GA9e9EQklHjABA/agkGRbxCoBAMVSEm6C7RdV+gu/djP7szu7M57zyO/2w+FRkAIDOBAUgYm+GQ0OCgErUmBAxosMN9OV3774VrFLQ40bYWoAYgRVoF5IMaPXbxZn2hf2b4u+1dfDgKuQRLoBjSEf3ZscLAjdfteVQ5cHG07H4RAEpFGAWy1Xnx0c7yY2J+D8JtbDn/U95UCkoSmRBSfPZ1baLDlVefkQJyNu+U9m1eZigfIUTTBf2v9zOvFuSB+rjdi3+t8Pn7FNhuCMSbrkce2P/JS7WiibEVL4baeqWDtxofAUJFEem0HO34iVfogb4XBfqJbq8kLzw7liSm0Jbp0jPtLxW3WXJx+I7mCq/lfJ2Orfw8MCpT/3c5tmbsjf25UyLrS3Vr8ONpTVmfeMRFN48vhZL9ZtK32WWib72i0+I7INZ9nLltIWn7yz6bv0wy9uWX1nG1VuBOUu9zYVT+qsYXlm5t2WPdtHrYKdidNxHmo+uynNd4o2kRlPHew1LWkUQtny5WpapR5wfTZD/clqFOShjO7ksXhCcuRvaecyWjGa9Pxgdlfbhh7NUl4l2Zii3RdR5vwKhbXFQ2D1dzYgSADjEJ1fLp0Q7mQKH1+sFpj2OUZKhGZvQMPDZKov1Fq7Nq8XLb1Zb6gDJuEnspOpHpTgCxQet+2xmSs0or/1c05awWYXn3IuW5GXTIiR/hwZizimYh27UJsJYIVcd9b65z0ORmlbyv9/3pOqSWU462G+qIqU+nS0PFHB8yAAsptHTxc+Dmvb2JWJ6c/dgs9bHpV831wARka9e1/DJ1/xffjX+c/TS9hpc4jHXfXP+IAhCDFSHjPJblw+gFbVGi9b8w03VvOFFcAwLkwDYH9ejfY0A2A8PedvnZigguBIQkagdBUW8zlj7uz8tY816A1UwAYhRdIa036xf8H60RiM+AqJtYAAAAASUVORK5CYII=\"/></td>\n",
       "      <td>brain_tumor positif</td>\n",
       "    </tr>\n",
       "    <tr>\n",
       "      <th>95</th>\n",
       "      <td>/kaggle/input/brain-tumor-detection/yes/y1083.jpg</td>\n",
       "      <td><img src=\"data:image/png;base64,iVBORw0KGgoAAAANSUhEUgAAABwAAAAcCAAAAABXZoBIAAADA0lEQVR4nC3LW0xTdxwH8O//cgo9LZy2VEBYqUpUkMhtxs3gYLIIBjXR7GJ4mNmWJWg0boluLrskPGzRbNmLe9kewJi4LS66mPmwGG8gYTMagjZUBi6sdKNH6mktHE6Lpef89rA9f/JhITCyIYCCi5RCQTo2BxxOBAhpMjAADEWfvZ0vzyMx3ksACCAwP8AArEyH/Ise6TBGxXEWBIEADgBQMyul4VRtCpnR17zWLJkEAJAAA9dpJewcOlgn7x+8ZTVtTZa4swz/TRJc8Qr57Ju+eXp5m9Hy7uNyU+J/ZP1U9/Wdb9/vXvuHr+uT7Nzn5rW/O4kxMD+DSnp0bMuGpWO/3BVGbPGHsqrgpz1jBQIHoCf2xb9n09F3ogXeXtv6fPXSU2SSBHAJvKUURf56Y/tLxz2VhdHzo+vnSVw3xiTAC6AXBro3mnPQFi97rDVnWn5zJexfH81YDjhD6YfJTcW/BznPiKerlJ2IO8H0UF2fySCJDbYbZm7haui9bddX9t4sPZexj/V/x17strwsgEsdP4dtj1atq42xfXeNr9KbcxM9p8suUEBC9FxxhaYq5ZRrUAlLp8mYTUXWvdIxwm1w2N7ghosyQQmnbXggzXWjfabCfPXAHAM4N5dLKnbwhuk6T21m5nAh758JSIo1URcg7VRxOmpWRRoTvun07M5/ftKeVAZoS8emcQW8qEQ7OzkfrDbKptR7vQr70qp5NnVbP55iKrhlP5eO7U2Yc2ntIm8eXIv6Jfdyy46WpasucDH854GGsyfuVd84XzHBdifUibgeyMcO5T4AON48s/WhW508zbXGMtGvPXDXcDM6tLCcBnHu7RMbc6vXNLz+4Ed1eyiEyBfwdY3b8RyBO8bqXJv6aPjcEb7fsBong835Yr+/9UQniDgc2RZuPqXcT8Z6U7HMjYcXLo+MrNp8ZYFA0Hw+b3226ugp+6N+JTywSyTrWba81OfTfJoEMamv7zyJmo+P7GmN6BBDJwNuQWAAC3IAIK+VLWLCBpjNmXAAQMh/ASr2SXZ5M3kLAAAAAElFTkSuQmCC\"/></td>\n",
       "      <td>brain_tumor positif</td>\n",
       "    </tr>\n",
       "    <tr>\n",
       "      <th>96</th>\n",
       "      <td>/kaggle/input/brain-tumor-detection/yes/y1084.jpg</td>\n",
       "      <td><img src=\"data:image/png;base64,iVBORw0KGgoAAAANSUhEUgAAABwAAAAcCAAAAABXZoBIAAAC70lEQVR4nCXS3W+TVRgA8Od5znlP99G3ru0KdO3oUjqZtIxYdGyGjJEwHGACCYSoEfGCcAeJ18REEojG6I3ExJB4IdxokAuiXiAqGjQGIiOAHR8hGWs2u7pu69tP3vY95/GC39/wQwKhURotDJI2wiMGAEAAYEBhkDSxhNb2NhQXfXtW+JrFBgAAQCifslDK8BpIyWCUZBy3TIAQgp6DDoJhBbJmr5Z2evOq5BxXWgMAsWuU68t6jnU4nfmc/Edfd+v1m66S1I0Eqt3Adt5sXJD9CyvsFDpPNIr3X2kF0CViQ0pHFnPvvNVZnGy27Ob0uTeHMfdGlQ2TMISRVevMr6Ftj66UI/fW9oEVeDc2Q4qZwAgsNaPhleTV8NE/IvsK86/NpUKPCx96CCgB+dXbR1ZZPfDbvomL3IP3kmbq0+FpAgKmt/+Kthv6YbdxW6cSXrW1b0PzbGxa20zEeDnRuBB3g+LFZy9tihWUmC/2jyi9p8aERPWlT87fybjHHmflgS/GAo6cDKcOwQMfEptTaQy6W4c+K888CfLOHyp2evZuOAl9zJLZzgFGU0+9gYkt1ycGk39nbhUHfnoYvmksMvS1GrO5dPeSrOXhg1/mupeGM61Rrx4USKxz+0+e+T7/ZSNecf79eENHffU2ta6Xs17WkICetV+183O7Zj/aCLnoDScUelJaLla6yiMGA5WpyNAtLgkFHRZfGceu5dHFwrKvRGOXqNJ74eI3yZmEf2RF9fLo+twsxfri69/r23qZ0We6dK0npNes+y/z544f4+l/nlmjtYVr8WqVSHu1zar8/t5cg5b2ugm0QK/Lf/sbDDnIBIJasdSJ8ztmffCd0+7+ObQ5+3uzKzRuA4MUyt4FArefnhw5B+mD23b7rTGCIyiJgCQqGN+vBhGkinXCcewHOPSCACEIBAlJVnywMygIoTcAm0RiSjyviVITgAk4L6unuyu67reqA1cXGBAYEBEBUZMhBhBsAJiQ0QAgw//UdzyHh2P2rgAAAABJRU5ErkJggg==\"/></td>\n",
       "      <td>brain_tumor positif</td>\n",
       "    </tr>\n",
       "    <tr>\n",
       "      <th>97</th>\n",
       "      <td>/kaggle/input/brain-tumor-detection/yes/y1085.jpg</td>\n",
       "      <td><img src=\"data:image/png;base64,iVBORw0KGgoAAAANSUhEUgAAABwAAAAcCAAAAABXZoBIAAACGUlEQVR4nGNgIBcwIrGdXVkll554i02Z8nV+O1NGhqkVWhhSTP+NhBgZmAQNGBSXaaMb+8vuVNGfV5YPJP64tvnOPoYi+W/3hl/3mRhl/92xvWbSwyx0B2IcJ4Ozoji3lRjjM/Hfu0USat77G7jmRTJII3T+z3n2/zv/jx9/7/ucZvlzZEa2xAsGBgYGJgYGBgYO8ywFUZ5f/5jfMh/j4+Ty/SdbyACXDBRaevnzW5avDot/t+149/c3z9rVMnDJK/+vSwky3vq2qX6XiePfb+wXTblM4ZKXivjuWVuw/X16v+rjj1+CfxgnMXxhYGBgYGFgYGCYk3r90x1Dtr2MFbZfGDg/iz2SevcPLjmt8PG31z9l9T+YMV/8wsP8icuWZR7c2AsM608dZ3seyMr42vgow19+tlOOCK9s/8LxjvXBl7s/cssE//N8+8R34JkRE0zS8cPnj5++nD9l8pBrHj8TH/P/X5Eb/sHsdBb4pPNKiv/jC47XS58LMPtFJH+tgAfffhcffpMPL0TPM+kvM/rFxMn4ymX1KQYGBkYGtv+SDo+DHv9X/fRnv+BPRrZX7NK8L5cyQ4z9xfBo0X/G3Q/+79T8qvSE/6vlT+Gmb/n/ELGS4NzqxPyYVeRvlk5c45Kt/O5lyJHtwS/E8+MLh8OxV4xRm6Z47UFNJgw/2YNl3l6OFG0smX8eS/IrO/X///+uUA4sUiQDAFId0nsPfxPiAAAAAElFTkSuQmCC\"/></td>\n",
       "      <td>brain_tumor positif</td>\n",
       "    </tr>\n",
       "    <tr>\n",
       "      <th>98</th>\n",
       "      <td>/kaggle/input/brain-tumor-detection/yes/y1086.jpg</td>\n",
       "      <td><img src=\"data:image/png;base64,iVBORw0KGgoAAAANSUhEUgAAABwAAAAcCAAAAABXZoBIAAAC60lEQVR4nAXBb0jUdxwH8Pfn+/t+f787Td2ZnjuvbprFZakYtXKMigoKytPCJzWikS4a4YMeRKyH+wNRyJ6MImyOHmxBEVpRG9Q27b/JUuMah5lBdmKad+H07nf3+/fZ60USABOBiYkBYoDAAJgcCQCCASJAY/IAMIgBAAJEBAB2xUHr0cPfrfURVxALAgGCAJBAhXxkF26N3+/8uIejZcQgMEFXSuryV6Ol80XnWWZO/7060SWKlFIaCY8gZOS229V9aXDka2vLxapPO4ztCwzWWBATzPq2iZMnHpQO1excMtHr4EFjrJgIJIigFf5YfCGRCjilM+cOT/eOfzvXNZJ3STDp7F3bF9qhwk9Cb2pnqia18FSqJLvpRZ8kW4Dkl+qH+tGkP7fs7X7oS8bmW87sNm41aUwSaLSH27cpafjsxcSimgpOLPyMtEVCOgLWwDDTthXjb96tNb4a9VZ55Q9rn5UcUOsYpImQ/+mRMTNcuegL/3unue7e8vl0zYWfXnWFLfKXpnL45nGdN+4raL0cjER+CVl+Lu92PN0R7vzFsgatIp5Zk7qCoJdIV2bzJebrox+agpCQK783B7kgOSdpuqzwfl4rTvVXxK4fGzMhkGu6ek/TTX8uunj+sdDiOT+tNv4o3TsPEm7uSX902UdZx/e+3efWqv8C+WjbMbH89CbJUnqxjRtirbrtuKFo2WwoVV21PpM5dO5u/0GSrKWyZ2/uumsmP/HKpz9LJI/3pQOZ5/98/lJn0sm1abdYi6kPuuWERk9W56xIfPLSsN/ISjBVf3F5+pR8N1nZIFrmRJFQATM6tkezIQh4/xvidaO8xR4oGCjqsX3Z73oXrEEGhOexRTM7gxHVUbLjz1uzwXHXzlc5gQwYUEopo+gGmmu6W5tnlxr1pzoaRTsppRSglK50HQ2Mw8nrf/X1FFLDlTallFQSJIkJTDb0zbHQ6/KBt+YQlPAAhkOKmUBg3VY2PCIQewJgMLz/AYSBQvDY80nhAAAAAElFTkSuQmCC\"/></td>\n",
       "      <td>brain_tumor positif</td>\n",
       "    </tr>\n",
       "    <tr>\n",
       "      <th>99</th>\n",
       "      <td>/kaggle/input/brain-tumor-detection/yes/y1087.jpg</td>\n",
       "      <td><img src=\"data:image/png;base64,iVBORw0KGgoAAAANSUhEUgAAABwAAAAcCAAAAABXZoBIAAACn0lEQVR4nG2SS2hUZxiG3+8//7nMuUzOyeQynUCbQGJLVLpIEQyuFFpFMJu0JbQopYIWAqGbQinFnQQXKagIXbgJFLpyUSqKgtBSRE1CIFaRtGlTcnOmTjJzci5zbv/pIhIIzbP5+N538W4eYA987wv2+qocC2maJ9iHApTjpI1yGumG1LaTEQCwynoif9k/8NeTePgnZfP9G2tqTPnrEuhdvnB+1iDGSJ/sT96YGn64s0gATi0fW6kXFtfDRiUy4L4c28h3yhzE73zcbVWLA83ZUOvrjHXER691AiBQ3lEZcjUyjjadUpaL24HWSIo/ROrOpnRlJtJa4uXI3xMrw8UPlYRrrt55axkEKDE+4nbdZ3bEmlZ7c7Dqhzm/+6LPZxzxJweZsrVq9FY79LLeoEe1OKfsVYcnCCwof1Ba6k40tSVlv7VOKA1ZqbY54sjnnEP8UnDc5rv/aDG8n0+WNgxb57LXsMZzlVM+sdkw+v9VWpS1Ltp/WqzgblsJssGqYDm+OrRuJmuJJgfFxRdCitdDsW3K4dxZwUHXB4UndVEoZNlcqeiURcQzR+irgiGvhbafkueb0ervb7W8wNcKkru2FT0DAz/ZITmOJHPD1fmvask/1yNlvS53LhEz08s31UUH+tIMs1it5qk/MtmqpV3vTDLmSae7nvVssPhNKh0wc7vd3vwj6UmH7t0qZwTgmwdvB2TIYd/8oDMfiHJcN9VpXPgeBCA3+t9LWwoJKxKRXtV0YO55o5LGDACbXjA1UrJtb6tu14o8osP+EzuIwQjIP5u5ypRAsYP0ad3K/eixO3VsVzC0ff1F10jYts2611SVxeNntsyAMhkAYACFT6eKY6OlcQDPv7OYBIIi0664SvxtuSrMh/eZv5/X/+M/CbYV5GGWTp4AAAAASUVORK5CYII=\"/></td>\n",
       "      <td>brain_tumor positif</td>\n",
       "    </tr>\n",
       "  </tbody>\n",
       "</table>                          </body>                                                          </html>"
      ],
      "text/plain": [
       "<IPython.core.display.HTML object>"
      ]
     },
     "metadata": {},
     "output_type": "display_data"
    }
   ],
   "source": [
    "#explorer la Sframe\n",
    "train_data.explore()"
   ]
  },
  {
   "cell_type": "code",
   "execution_count": 88,
   "metadata": {},
   "outputs": [
    {
     "data": {
      "text/html": [
       "<pre>Materializing SArray</pre>"
      ],
      "text/plain": [
       "Materializing SArray"
      ]
     },
     "metadata": {},
     "output_type": "display_data"
    },
    {
     "data": {
      "text/html": [
       "<html>                 <body>                     <iframe style=\"border:0;margin:0\" width=\"920\" height=\"770\" srcdoc='<html lang=\"en\">                         <head>                             <script src=\"https://cdnjs.cloudflare.com/ajax/libs/vega/5.4.0/vega.js\"></script>                             <script src=\"https://cdnjs.cloudflare.com/ajax/libs/vega-embed/4.0.0/vega-embed.js\"></script>                             <script src=\"https://cdnjs.cloudflare.com/ajax/libs/vega-tooltip/0.5.1/vega-tooltip.min.js\"></script>                             <link rel=\"stylesheet\" type=\"text/css\" href=\"https://cdnjs.cloudflare.com/ajax/libs/vega-tooltip/0.5.1/vega-tooltip.min.css\">                             <style>                             .vega-actions > a{                                 color:white;                                 text-decoration: none;                                 font-family: \"Arial\";                                 cursor:pointer;                                 padding:5px;                                 background:#AAAAAA;                                 border-radius:4px;                                 padding-left:10px;                                 padding-right:10px;                                 margin-right:5px;                             }                             .vega-actions{                                 margin-top:20px;                                 text-align:center                             }                            .vega-actions > a{                                 background:#999999;                            }                             </style>                         </head>                         <body>                             <div id=\"vis\">                             </div>                             <script>                                 var vega_json = \"{\\\"$schema\\\": \\\"https://vega.github.io/schema/vega/v4.json\\\", \\\"autosize\\\": {\\\"type\\\": \\\"fit\\\", \\\"resize\\\": false, \\\"contains\\\": \\\"padding\\\"}, \\\"padding\\\": 8, \\\"metadata\\\": {\\\"bubbleOpts\\\": {\\\"showAllFields\\\": false, \\\"fields\\\": [{\\\"field\\\": \\\"count\\\"}, {\\\"field\\\": \\\"label\\\"}, {\\\"field\\\": \\\"percentage\\\"}]}}, \\\"width\\\": 720, \\\"height\\\": 550, \\\"title\\\": \\\"Distribution of Values [string]\\\", \\\"style\\\": \\\"cell\\\", \\\"data\\\": [{\\\"name\\\": \\\"pts_store_store\\\"}, {\\\"name\\\": \\\"source_2\\\", \\\"values\\\": [{\\\"label\\\": \\\"verry mild demented alzeighmer\\\", \\\"label_idx\\\": 0, \\\"count\\\": 2240, \\\"percentage\\\": \\\"37.7168%\\\"}, {\\\"label\\\": \\\"brain_tumor positif\\\", \\\"label_idx\\\": 1, \\\"count\\\": 1492, \\\"percentage\\\": \\\"25.1221%\\\"}, {\\\"label\\\": \\\"chest_cancer\\\", \\\"label_idx\\\": 2, \\\"count\\\": 996, \\\"percentage\\\": \\\"16.7705%\\\"}, {\\\"label\\\": \\\"Mild Demented alzeighmer\\\", \\\"label_idx\\\": 3, \\\"count\\\": 896, \\\"percentage\\\": \\\"15.0867%\\\"}, {\\\"label\\\": \\\"covid_19 positif\\\", \\\"label_idx\\\": 4, \\\"count\\\": 315, \\\"percentage\\\": \\\"5.30392%\\\"}]}, {\\\"name\\\": \\\"data_0\\\", \\\"source\\\": \\\"source_2\\\", \\\"transform\\\": [{\\\"type\\\": \\\"formula\\\", \\\"expr\\\": \\\"toNumber(datum[\\\\\\\"count\\\\\\\"])\\\", \\\"as\\\": \\\"count\\\"}, {\\\"type\\\": \\\"filter\\\", \\\"expr\\\": \\\"datum[\\\\\\\"count\\\\\\\"] !== null &amp;&amp; !isNaN(datum[\\\\\\\"count\\\\\\\"])\\\"}]}], \\\"signals\\\": [{\\\"name\\\": \\\"unit\\\", \\\"value\\\": {}, \\\"on\\\": [{\\\"events\\\": \\\"mousemove\\\", \\\"update\\\": \\\"isTuple(group()) ? group() : unit\\\"}]}, {\\\"name\\\": \\\"pts_store\\\", \\\"update\\\": \\\"data(\\\\\\\"pts_store_store\\\\\\\").length &amp;&amp; {count: data(\\\\\\\"pts_store_store\\\\\\\")[0].values[0]}\\\"}, {\\\"name\\\": \\\"pts_store_tuple\\\", \\\"value\\\": {}, \\\"on\\\": [{\\\"events\\\": [{\\\"source\\\": \\\"scope\\\", \\\"type\\\": \\\"click\\\"}], \\\"update\\\": \\\"datum &amp;&amp; item().mark.marktype !== &apos;group&apos; ? {unit: \\\\\\\"\\\\\\\", encodings: [\\\\\\\"x\\\\\\\"], fields: [\\\\\\\"count\\\\\\\"], values: [datum[\\\\\\\"count\\\\\\\"]]} : null\\\", \\\"force\\\": true}]}, {\\\"name\\\": \\\"pts_store_modify\\\", \\\"on\\\": [{\\\"events\\\": {\\\"signal\\\": \\\"pts_store_tuple\\\"}, \\\"update\\\": \\\"modify(\\\\\\\"pts_store_store\\\\\\\", pts_store_tuple, true)\\\"}]}], \\\"marks\\\": [{\\\"name\\\": \\\"marks\\\", \\\"type\\\": \\\"rect\\\", \\\"style\\\": [\\\"bar\\\"], \\\"from\\\": {\\\"data\\\": \\\"data_0\\\"}, \\\"encode\\\": {\\\"hover\\\": {\\\"fill\\\": {\\\"value\\\": \\\"#7EC2F3\\\"}}, \\\"update\\\": {\\\"x\\\": {\\\"scale\\\": \\\"x\\\", \\\"field\\\": \\\"count\\\"}, \\\"x2\\\": {\\\"scale\\\": \\\"x\\\", \\\"value\\\": 0}, \\\"y\\\": {\\\"scale\\\": \\\"y\\\", \\\"field\\\": \\\"label\\\"}, \\\"height\\\": {\\\"scale\\\": \\\"y\\\", \\\"band\\\": true}, \\\"fill\\\": {\\\"value\\\": \\\"#108EE9\\\"}}}}], \\\"scales\\\": [{\\\"name\\\": \\\"x\\\", \\\"type\\\": \\\"linear\\\", \\\"domain\\\": {\\\"data\\\": \\\"data_0\\\", \\\"field\\\": \\\"count\\\"}, \\\"range\\\": [0, {\\\"signal\\\": \\\"width\\\"}], \\\"nice\\\": true, \\\"zero\\\": true}, {\\\"name\\\": \\\"y\\\", \\\"type\\\": \\\"band\\\", \\\"domain\\\": {\\\"data\\\": \\\"data_0\\\", \\\"field\\\": \\\"label\\\", \\\"sort\\\": {\\\"op\\\": \\\"mean\\\", \\\"field\\\": \\\"label_idx\\\", \\\"order\\\": \\\"descending\\\"}}, \\\"range\\\": [{\\\"signal\\\": \\\"height\\\"}, 0], \\\"paddingInner\\\": 0.1, \\\"paddingOuter\\\": 0.05}], \\\"axes\\\": [{\\\"orient\\\": \\\"top\\\", \\\"scale\\\": \\\"x\\\", \\\"labelOverlap\\\": true, \\\"tickCount\\\": {\\\"signal\\\": \\\"ceil(width/40)\\\"}, \\\"title\\\": \\\"Count\\\", \\\"zindex\\\": 1}, {\\\"orient\\\": \\\"top\\\", \\\"scale\\\": \\\"x\\\", \\\"domain\\\": false, \\\"grid\\\": true, \\\"labels\\\": false, \\\"maxExtent\\\": 0, \\\"minExtent\\\": 0, \\\"tickCount\\\": {\\\"signal\\\": \\\"ceil(width/40)\\\"}, \\\"ticks\\\": false, \\\"zindex\\\": 0, \\\"gridScale\\\": \\\"y\\\"}, {\\\"scale\\\": \\\"y\\\", \\\"labelOverlap\\\": true, \\\"orient\\\": \\\"left\\\", \\\"title\\\": \\\"Values\\\", \\\"zindex\\\": 1}], \\\"config\\\": {\\\"axis\\\": {\\\"gridColor\\\": \\\"rgba(204,204,204,1.0)\\\", \\\"labelFont\\\": \\\"\\\\\\\"San Francisco\\\\\\\", HelveticaNeue, Arial\\\", \\\"labelFontSize\\\": 12, \\\"labelPadding\\\": 10, \\\"labelColor\\\": \\\"rgba(0,0,0,0.847)\\\", \\\"tickColor\\\": \\\"rgb(136,136,136)\\\", \\\"titleFont\\\": \\\"\\\\\\\"San Francisco\\\\\\\", HelveticaNeue, Arial\\\", \\\"titleFontWeight\\\": \\\"normal\\\", \\\"titlePadding\\\": 20, \\\"titleFontSize\\\": 14, \\\"titleColor\\\": \\\"rgba(0,0,0,0.847)\\\"}, \\\"axisY\\\": {\\\"minExtent\\\": 30}, \\\"legend\\\": {\\\"labelFont\\\": \\\"\\\\\\\"San Francisco\\\\\\\", HelveticaNeue, Arial\\\", \\\"labelColor\\\": \\\"rgba(0,0,0,0.847)\\\", \\\"titleFont\\\": \\\"\\\\\\\"San Francisco\\\\\\\", HelveticaNeue, Arial\\\", \\\"cornerRadius\\\": 30, \\\"gradientLength\\\": 608, \\\"titleColor\\\": \\\"rgba(0,0,0,0.847)\\\"}, \\\"range\\\": {\\\"heatmap\\\": {\\\"scheme\\\": \\\"greenblue\\\"}}, \\\"style\\\": {\\\"rect\\\": {\\\"stroke\\\": \\\"rgba(200, 200, 200, 0.5)\\\"}, \\\"cell\\\": {\\\"stroke\\\": \\\"transparent\\\"}, \\\"group-title\\\": {\\\"fontSize\\\": 29, \\\"font\\\": \\\"HelveticaNeue, Arial\\\", \\\"fontWeight\\\": \\\"normal\\\", \\\"fill\\\": \\\"rgba(0,0,0,0.65)\\\"}}, \\\"title\\\": {\\\"color\\\": \\\"rgba(0,0,0,0.847)\\\", \\\"font\\\": \\\"\\\\\\\"San Francisco\\\\\\\", HelveticaNeue, Arial\\\", \\\"fontSize\\\": 18, \\\"fontWeight\\\": \\\"normal\\\", \\\"offset\\\": 30}}}\";                                 var vega_json_parsed = JSON.parse(vega_json);                                 var toolTipOpts = {                                     showAllFields: true                                 };                                 if(vega_json_parsed[\"metadata\"] != null){                                     if(vega_json_parsed[\"metadata\"][\"bubbleOpts\"] != null){                                         toolTipOpts = vega_json_parsed[\"metadata\"][\"bubbleOpts\"];                                     };                                 };                                 vegaEmbed(\"#vis\", vega_json_parsed).then(function (result) {                                     vegaTooltip.vega(result.view, toolTipOpts);                                  });                             </script>                         </body>                     </html>' src=\"demo_iframe_srcdoc.htm\">                         <p>Your browser does not support iframes.</p>                     </iframe>                 </body>             </html>"
      ],
      "text/plain": [
       "<IPython.core.display.HTML object>"
      ]
     },
     "metadata": {},
     "output_type": "display_data"
    }
   ],
   "source": [
    "# plot des donné de train_data distrubution des valeurs \n",
    "train_data['label'].show()"
   ]
  },
  {
   "cell_type": "code",
   "execution_count": 89,
   "metadata": {},
   "outputs": [
    {
     "data": {
      "text/plain": [
       "5939"
      ]
     },
     "execution_count": 89,
     "metadata": {},
     "output_type": "execute_result"
    }
   ],
   "source": [
    "# longuers de SFrmae train data\n",
    "len(train_data)"
   ]
  },
  {
   "cell_type": "markdown",
   "metadata": {},
   "source": [
    "# II- création du modele machine learning\n",
    "\n",
    "dans cette partie nous créons  un modéle deep learning a l'aide de l'algorithme image_classifier qui est a base un CNN qui utlise les solveur suivant de la regression \n",
    "* newton : Newton-Raphson\n",
    "* lbfgs : mémoire limitée BFGS\n",
    "* fista : descente de gradient accélérée\n",
    "nous entrons comme paramétre le nombre des époches a effectuer , le train_data et les autres paramétres  seront selecter d'une maniére automatique afin d'obtenir les performance optimal (nous pouvent entré chaque paramétre manuellemnt)\n",
    "on a tourné le model plusieurs fois ont modeifions les paramétre pour atteindre cette performance de 96.12% de précision su le train et de 89% sur le test "
   ]
  },
  {
   "cell_type": "markdown",
   "metadata": {},
   "source": [
    "#  building the model [](http://)"
   ]
  },
  {
   "cell_type": "code",
   "execution_count": 90,
   "metadata": {},
   "outputs": [],
   "source": [
    "#dévision du train data on test de 20% et train de 80%\n",
    "\n",
    "train_data1,test_data1=train_data.random_split(0.8,seed=0)"
   ]
  },
  {
   "cell_type": "code",
   "execution_count": null,
   "metadata": {},
   "outputs": [
    {
     "name": "stdout",
     "output_type": "stream",
     "text": [
      "TuriCreate currently only supports using one GPU. Setting 'num_gpus' to 1.\n",
      "Performing feature extraction on resized images...\n",
      "Completed   64/4778\n",
      "Completed  128/4778\n",
      "Completed  192/4778\n",
      "Completed  256/4778\n",
      "Completed  320/4778\n",
      "Completed  384/4778\n"
     ]
    }
   ],
   "source": [
    "# utiliser tous les GPUS\n",
    "tc.config.set_num_gpus(-1)\n",
    "\n",
    "# Creation du modéle\n",
    "model = tc.image_classifier.create(train_data1, target='label',max_iterations=100)"
   ]
  },
  {
   "cell_type": "markdown",
   "metadata": {},
   "source": [
    "# evaluation du modéle "
   ]
  },
  {
   "cell_type": "code",
   "execution_count": null,
   "metadata": {},
   "outputs": [],
   "source": [
    "model.evaluate(test_data1)"
   ]
  },
  {
   "cell_type": "markdown",
   "metadata": {},
   "source": [
    "# 3- test manuelle du model et visualisation des images"
   ]
  },
  {
   "cell_type": "markdown",
   "metadata": {},
   "source": [
    "# test a positif au cancer du cerveau image "
   ]
  },
  {
   "cell_type": "code",
   "execution_count": null,
   "metadata": {},
   "outputs": [],
   "source": [
    "image=tc.image_analysis.load_images('../input/covidct/CT_COVID/2020.02.23.20026856-p17-115%4.png')\n",
    "image.explore()\n",
    "model.predict(image)"
   ]
  },
  {
   "cell_type": "code",
   "execution_count": null,
   "metadata": {},
   "outputs": [],
   "source": [
    "image=tc.image_analysis.load_images('../input/alzheimermridataset/Alzheimer_s Dataset/train/MildDemented/mildDem10.jpg')\n",
    "model.predict(image)"
   ]
  },
  {
   "cell_type": "markdown",
   "metadata": {},
   "source": []
  },
  {
   "cell_type": "markdown",
   "metadata": {},
   "source": [
    "# enregistrement du  modéle "
   ]
  },
  {
   "cell_type": "code",
   "execution_count": null,
   "metadata": {},
   "outputs": [],
   "source": [
    "# Export for use in Core ML\n",
    "model.export_coreml('MyCustomImageClassifier.mlmodel')"
   ]
  },
  {
   "cell_type": "markdown",
   "metadata": {},
   "source": [
    "# III- creation de l'interface homme machine\n",
    "\n",
    "dans cette  partie on a crée une interfacce homme machine qui va etre impémenter sur le scannaire IRM a l'aide de PYQT5 \n",
    "c'est une interface simple qui prend comme paramétre l'image scannée et la prédiction comme sortie si une telle maladie existe \n",
    "![](http://)"
   ]
  },
  {
   "cell_type": "code",
   "execution_count": null,
   "metadata": {},
   "outputs": [],
   "source": [
    "\n",
    "from PyQt5 import QtWidgets\n",
    "from PyQt5.QtWidgets import QDialog, QApplication, QFileDialog, QMainWindow\n",
    "import sys\n",
    "from PyQt5 import QtCore\n",
    "from PyQt5.QtGui import QIcon, QPixmap\n",
    "from PIL import Image\n",
    "\n",
    "\n",
    "class MyApp(QMainWindow):\n",
    "    def __init__(self):\n",
    "        super(MyApp, self).__init__()\n",
    "        self.label = QtWidgets.QLabel(self)\n",
    "        self.b1 = QtWidgets.QPushButton(self)\n",
    "        self.b2 = QtWidgets.QPushButton(self)\n",
    "        self.setGeometry(0, 0, 900, 600)\n",
    "        self.setWindowTitle(\"Smart scanner/MRI\")\n",
    "        self.initUI()\n",
    "\n",
    "    def predicted(self):\n",
    "        if(model.predict(image)[1]=='bone tumor'):\n",
    "            var=\"brain tumor detected please consult a neuro surgeon\"\n",
    "        else if (model.predict(model)[1]=='covid 19'):\n",
    "            var='covid_19 detected please consult a pneumologiste '\n",
    "        else if (model.predict(img)[1]=='alzheimer'):\n",
    "            var='alzheimer detected please consult a neurologist'\n",
    "        else if (model.predict(img)[1]=='chest'):\n",
    "            var='chest cancer detected please consult a pulmonologist'\n",
    "        else if (model.predict(img)[1]=='breast cancer'):\n",
    "            var=\"breast cancer detected please consult a gynecologist \"\n",
    "        self.label.setText(var)\n",
    "        self.update()\n",
    "\n",
    "    def initUI(self):\n",
    "        self.label.setText(\"Result\")\n",
    "        self.label.move(425, 250)\n",
    "\n",
    "        \n",
    "\n",
    "        self.b1.setText(\"Predict\")\n",
    "        self.b1.clicked.connect(self.predicted)\n",
    "        self.b1.move(400,400)\n",
    "        self.b1.setStyleSheet(\"QPushButton\"\n",
    "                             \"{\"\n",
    "                             \"background-color : lightblue;\"\n",
    "                             \"}\")\n",
    "\n",
    "        self.b2.setText(\"path\")\n",
    "        self.b2.clicked.connect(self.getpath)\n",
    "        self.b2.move(400 , 100)\n",
    "        self.b2.setStyleSheet(\"QPushButton\"\n",
    "                             \"{\"\n",
    "                             \"background-color : green;\"\n",
    "                             \"}\")\n",
    "\n",
    "    def update(self):\n",
    "        self.label.adjustSize()\n",
    "    def getpath(self):\n",
    "        file = QFileDialog.getOpenFileName()\n",
    "        print(file)\n",
    "\n",
    "\n",
    "\n",
    "\n",
    "\n",
    "\n",
    "def window():\n",
    "    app = QApplication(sys.argv)\n",
    "    win = MyApp()\n",
    "    win.show()\n",
    "    sys.exit(app.exec_())\n",
    "\n",
    "\n",
    "window()"
   ]
  }
 ],
 "metadata": {
  "kernelspec": {
   "display_name": "Python 3",
   "language": "python",
   "name": "python3"
  },
  "language_info": {
   "codemirror_mode": {
    "name": "ipython",
    "version": 3
   },
   "file_extension": ".py",
   "mimetype": "text/x-python",
   "name": "python",
   "nbconvert_exporter": "python",
   "pygments_lexer": "ipython3",
   "version": "3.7.3"
  }
 },
 "nbformat": 4,
 "nbformat_minor": 4
}
